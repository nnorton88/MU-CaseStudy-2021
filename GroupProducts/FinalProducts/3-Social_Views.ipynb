{
 "cells": [
  {
   "cell_type": "markdown",
   "metadata": {},
   "source": [
    "# Social Views\n",
    "\n",
    "These questions asked respondents their opinion about various social issues and what role they thought the government should take in addressing those issues.  They were also asked for their opinions about the trustworthiness of people in general and politicians in particular."
   ]
  },
  {
   "cell_type": "code",
   "execution_count": null,
   "metadata": {},
   "outputs": [],
   "source": [
    "# Load pre-processed data\n",
    "!pip install joblib\n",
    "import joblib\n",
    "\n",
    "import plotly.express as px\n",
    "\n",
    "import pandas as pd\n",
    "import numpy as np\n",
    "from math import floor, ceil, log\n",
    "\n",
    "data = joblib.load('GroupedAndUngroupedData.pkl')"
   ]
  },
  {
   "cell_type": "markdown",
   "metadata": {},
   "source": [
    "Function used to easily generate histograms"
   ]
  },
  {
   "cell_type": "code",
   "execution_count": null,
   "metadata": {},
   "outputs": [],
   "source": [
    "def ShowHistogram (data, col, sortorder='ascending', sorttype='category', **kwargs):\n",
    "    \"\"\"\n",
    "    Function to display histograms and percentage breakdowns for a specified column in the dataframe.\n",
    "    @ params:\n",
    "        data                        -  dataframe \n",
    "        col                         -  column name within dataframe\n",
    "        sortorder                   -  ascending or descending (default is ascending)\n",
    "        sorttype                    -  sort either by category name ('category') or totals ('total'). Default is category.\n",
    "        **kwargs                    -  optional additional arguments to pass into the histogram call. for example, adding\n",
    "                                       facet_col = 'gender_Groups' will additionally facet the histogam by gender \n",
    "    \"\"\"\n",
    "    \n",
    "    tickmode='array'\n",
    "    ascending = sortorder == 'ascending'\n",
    "    \n",
    "    # If we're faceting by something, we want to also sort by the facet column so the results are displayed consistently\n",
    "    # (Special case for age so that the age groups are sorted in numerical rather than alphabetical order)\n",
    "    if 'facet_col' in kwargs.keys():\n",
    "        if kwargs['facet_col'] == 'age_Groups':\n",
    "            data = data.sort_values([col,'age'], ascending=ascending)\n",
    "        else:\n",
    "            data = data.sort_values([col,kwargs['facet_col']], ascending=ascending)\n",
    "    else:\n",
    "        data = data.sort_values([col], ascending=ascending)\n",
    "    \n",
    "    tickvals=data[col]\n",
    "    \n",
    "    # Our preprocessed data has columns representing the responses and then our grouped / translated versions of those\n",
    "    # responses as \"\"{columnName}_Groups\".  However, not every column was Grouped (age, for example).\n",
    "    # If the column we're generating the histogram for does have a _Groups equivalent, we'll display those values\n",
    "    # in the X axis.  Otherwise, we'll just use the data as-is.\n",
    "    if f'{col}_Groups' in data.columns:\n",
    "        ticktext=data[f'{col}_Groups']\n",
    "        vals = sorted(set(data[f'{col}_Groups']))\n",
    "    else:\n",
    "        ticktext=data[col]\n",
    "        vals = sorted(set(data[f'{col}']))\n",
    "    \n",
    "    # To help ensure the colors in the histograms are consistent, this part maps each of the unique values being \n",
    "    # graphed to a color in the colors.qualitative.G10 pallette (in PlotLy).  This only works if there are \n",
    "    # 10 or fewer unique values (since the qualitative pallettes only have 10 values).  So if there are more, we just skip\n",
    "    # this step.\n",
    "    colorDict = {}\n",
    "    \n",
    "    if len (vals) <= 10:\n",
    "        for val in vals:\n",
    "            colorDict[val] = px.colors.qualitative.G10[len(colorDict)]\n",
    "    if colorDict:\n",
    "        p=px.histogram(data,x=col, color=ticktext, histnorm='density',color_discrete_map = colorDict, **kwargs)\n",
    "    else:\n",
    "        p=px.histogram(data,x=col, color=ticktext, histnorm='density',**kwargs)\n",
    "        \n",
    "    # Remove the \"colname=\" junk from the legends\n",
    "    p=p.for_each_trace(lambda t: t.update(name=t.name.split('=')[1]))\n",
    "    \n",
    "    # If the responses were grouped 1:1, then we can use the raw responses on the x-axis but display their translated\n",
    "    # names\n",
    "    if len(set(tickvals)) == len(set(ticktext)):\n",
    "        p.update_layout(xaxis=dict(tickmode=tickmode, tickvals=tickvals, ticktext=ticktext))\n",
    "    \n",
    "    # Remove the \"colname=\" junk from the facet labels\n",
    "    if 'facet_col' in kwargs.keys():\n",
    "        p = p.for_each_annotation(lambda a: a.update(text=a.text.split(\"=\")[-1]))\n",
    "    \n",
    "    # Sort the x axis in the specified order\n",
    "    categoryorder = f'{sorttype} {sortorder}'\n",
    "    p=p.update_xaxes(type='category', categoryorder=categoryorder)\n",
    "    p.show()\n",
    "    \n",
    "    if f'{col}_Groups' in data.columns:\n",
    "        print ('Grouped Columns Distribution:\\n')\n",
    "        print (data[f'{col}_Groups'].value_counts(normalize=True)*100)\n",
    "        print ('\\n')\n",
    "    print ('Ungrouped Columns Distribution:\\n')\n",
    "    print (data[f'{col}'].value_counts(normalize=True)*100)"
   ]
  },
  {
   "cell_type": "markdown",
   "metadata": {},
   "source": [
    "# Trust In Other People"
   ]
  },
  {
   "cell_type": "markdown",
   "metadata": {},
   "source": [
    "This series of questions asked respondents to provide their opinions on the trustworthiness of other people.  In general, the most common response to these questions tended to be \"neither agree nor disagree\", so these questions may not offer much insight.\n",
    "\n",
    "This question asked them how strongly they agreed or disagreed with the statement: \"Generally speaking, most people can be trusted\"\n",
    "\n",
    "The responses are close to a normal distribution, though skewed right (towards agreement) slightly.  The most common answer was \"neither agree nor disagree\", so this question may not provide much insight.  However, when it came to politicians, most respondents seemed to indicate a general lack of confidence or trust."
   ]
  },
  {
   "cell_type": "code",
   "execution_count": null,
   "metadata": {},
   "outputs": [],
   "source": [
    "col = 'peopleTrusted'\n",
    "\n",
    "ShowHistogram (data, col)"
   ]
  },
  {
   "cell_type": "markdown",
   "metadata": {},
   "source": [
    "Respondents in this question were asked to indicate how much they agree/disagree with the statement:\n",
    "\"Most people try to take advantage of you if they get the chance\"\n",
    "\n",
    "Responses here tend to skew right (positive) overall, though neutral is still a very common response."
   ]
  },
  {
   "cell_type": "code",
   "execution_count": null,
   "metadata": {},
   "outputs": [],
   "source": [
    "ShowHistogram (data,'peopleTakeAdvantage')"
   ]
  },
  {
   "cell_type": "markdown",
   "metadata": {},
   "source": [
    "Respondents in this question were asked to indicate how much they agree/disagree with the statement:\n",
    "\"Most people try to be fair\"\n",
    "\n",
    "Similar to the previous question, responses here tend to skew right (positive) overall, but here neutrality is the most common response."
   ]
  },
  {
   "cell_type": "code",
   "execution_count": null,
   "metadata": {},
   "outputs": [],
   "source": [
    "ShowHistogram (data,'peopleFair')"
   ]
  },
  {
   "cell_type": "markdown",
   "metadata": {},
   "source": [
    "The next set of items asked about respondents' feelings about government officials and elected representatives.\n",
    "\n",
    "This question asked:\n",
    "\n",
    "How often can you trust the people who run our government to do what is right?\n",
    "\n",
    "We see here that responses tended to lean towards the low end - 71% responded either \"hardly ever\" or \"some of the time\".  Very few responded \"most of the time\" or \"always\"."
   ]
  },
  {
   "cell_type": "code",
   "execution_count": null,
   "metadata": {},
   "outputs": [],
   "source": [
    "ShowHistogram (data, 'politiciansDoRight')"
   ]
  },
  {
   "cell_type": "markdown",
   "metadata": {},
   "source": [
    "This question asked:\n",
    "\n",
    "How often do you think that government officials and elected representatives make decisions in the best interests of the country as a whole?\n",
    "\n",
    "Similar to the last question, most expressed low confidence in this statement."
   ]
  },
  {
   "cell_type": "code",
   "execution_count": null,
   "metadata": {},
   "outputs": [],
   "source": [
    "ShowHistogram(data, 'politiciansCountryBestInterests')"
   ]
  },
  {
   "cell_type": "markdown",
   "metadata": {},
   "source": [
    "This question asked:\n",
    "\n",
    "When our government leaders make public statements on television and in newspapers, how often do you think they are telling the truth?\n",
    "\n",
    "Again, generally low confidence, but slightly more responses of \"most of the time\" than the prior two questions."
   ]
  },
  {
   "cell_type": "code",
   "execution_count": null,
   "metadata": {},
   "outputs": [],
   "source": [
    "ShowHistogram(data, 'politiciansTellTruth')"
   ]
  },
  {
   "cell_type": "markdown",
   "metadata": {},
   "source": [
    "# Trust In News Media\n",
    "\n",
    "This series of questions asked respondents their opinions about the trustworthiness of the new media.  In general, respondents felt that the news media was not trustworthy (or at best did not have a strong opinion one way or the other).\n",
    "\n",
    "Respondents in this question were asked to indicate how much they agree/disagree with the statement:\n",
    "\n",
    "The news media generally report on political issues and affairs in an unbiased manner.\"\n",
    "\n",
    "This data skews left (towards disagreement), though neutrality is still the most common response.  \n",
    "Interestingly, females tended to disgaree with this statement more often than males."
   ]
  },
  {
   "cell_type": "code",
   "execution_count": null,
   "metadata": {},
   "outputs": [],
   "source": [
    "ShowHistogram (data,'newsUnbiased', facet_col='gender_Groups')"
   ]
  },
  {
   "cell_type": "markdown",
   "metadata": {},
   "source": [
    "Respondents in this question were asked to indicate how much they agree/disagree with the statement:\n",
    "\n",
    "\"In general, the news media can be trusted to provide accurate information about politics and social issues.\"\n",
    "\n",
    "This data also skews towards disagreement, though again, neutral is the most common response.\n",
    "Again, females tended towards disagreement more often than men."
   ]
  },
  {
   "cell_type": "code",
   "execution_count": null,
   "metadata": {},
   "outputs": [],
   "source": [
    "ShowHistogram (data,'newsAccurate', facet_col='gender_Groups')"
   ]
  },
  {
   "cell_type": "markdown",
   "metadata": {},
   "source": [
    "Respondents in this question were asked to indicate how much they agree/disagree with the statement:\n",
    "\n",
    "\"Most members of the news media are trustworthy\"\n",
    "\n",
    "This distribution is almost normal, though it skews towards the left (disagreement) slightly."
   ]
  },
  {
   "cell_type": "code",
   "execution_count": null,
   "metadata": {},
   "outputs": [],
   "source": [
    "ShowHistogram (data,'newsTrustworthy')"
   ]
  },
  {
   "cell_type": "markdown",
   "metadata": {},
   "source": [
    "# Various Statements Regarding Social, Political, and Economic Issues\n",
    "\n",
    "These questions asked respondents to give their opinions on the role of government in general, and also asked about certain social/political issues.  When it comes to the role of the government, responses to these questions indicate what might be called a \"conservative\" tendency in many of the respondents.  Unsurprisingly, the topic of abortion was especially polarizing. Many social issues, however, had a more progressive lean.\n",
    "\n",
    "Respondents in this question were asked to indicate how much they agree/disagree with the statement:\n",
    "\n",
    "\"The government should help more vulnerable people, even if it means going deeper into debt\"\n",
    "\n",
    "The distribution of responses here is almost normal, though skews slightly towards to the left (towards disagreement)."
   ]
  },
  {
   "cell_type": "code",
   "execution_count": null,
   "metadata": {},
   "outputs": [],
   "source": [
    "ShowHistogram (data,'govtHelpVulnerable')"
   ]
  },
  {
   "cell_type": "markdown",
   "metadata": {},
   "source": [
    "Respondents in this question were asked to indicate how much they agree/disagree with the statement:\n",
    "    \n",
    "\"Government regulation of business usually does more harm than good\"\n",
    "\n",
    "This data skews to the right (towards agreement)"
   ]
  },
  {
   "cell_type": "code",
   "execution_count": null,
   "metadata": {},
   "outputs": [],
   "source": [
    "ShowHistogram (data,'govtBusinessRegulation')"
   ]
  },
  {
   "cell_type": "markdown",
   "metadata": {},
   "source": [
    "Respondents in this question were asked to indicate how much they agree/disagree with the statement:\n",
    "    \n",
    "\"Poor people have become too dependent on government assistance programs\"\n",
    "\n",
    "There is a very strong skew towards the right (agreement) on this question."
   ]
  },
  {
   "cell_type": "code",
   "execution_count": null,
   "metadata": {},
   "outputs": [],
   "source": [
    "ShowHistogram (data,'govtPoorDependence')"
   ]
  },
  {
   "cell_type": "markdown",
   "metadata": {},
   "source": [
    "Respondents in this question were asked to indicate how much they agree/disagree with the statement:\n",
    "\n",
    "\"The growing number of newcomers from other countries threatens traditional American values\"\n",
    "\n",
    "Mostly the sentiment is neutral overall, but there is a slight trend towards disagreement.  However, when we facet by gender, we see that the second most common response for females is disagreement, whereas for males the second most common response is agreement.\n",
    "\n",
    "Additionally, faceting by age groups, we see that the sentiment tends to shift from disagreement (i.e., a more progressive stance) towards agreement (i.e., a more conservative stance) as the respondents get older.  For those in their late 20s, agreement was the most common response."
   ]
  },
  {
   "cell_type": "code",
   "execution_count": null,
   "metadata": {},
   "outputs": [],
   "source": [
    "ShowHistogram (data,'immigrationThreatenTradValues', facet_col='gender_Groups')"
   ]
  },
  {
   "cell_type": "code",
   "execution_count": null,
   "metadata": {},
   "outputs": [],
   "source": [
    "ShowHistogram (data,'immigrationThreatenTradValues', facet_col='age_Groups')"
   ]
  },
  {
   "cell_type": "markdown",
   "metadata": {},
   "source": [
    "Respondents in this question were asked to indicate how much they agree/disagree with the statement:\n",
    "\n",
    "\"Gays and lesbians should be allowed to marry legally\"\n",
    "\n",
    "Here we see a strong trend towards agreement."
   ]
  },
  {
   "cell_type": "code",
   "execution_count": null,
   "metadata": {},
   "outputs": [],
   "source": [
    "ShowHistogram (data,'gayMarriage')"
   ]
  },
  {
   "cell_type": "markdown",
   "metadata": {},
   "source": [
    "Respondents in this question were asked to indicate how much they agree/disagree with the statement:\n",
    "\n",
    "\"Abortion should be illegal in all or most cases\"\n",
    "\n",
    "Responses here seem split.  Approximately the same number disagreed (strongly or otherwise) as those who agreed (strongly or otherwise).  Strongly disagree is the most common answer, but only barely. Neutral and Strongly agree follow close behind. Faceting by age groups provides some more nuance.  We can see that, in fact, strongly disagree is the most common response in all age groups. However, those who did not strongly disagree tended to either be neutral or agree (though perhaps not strongly).  This indicates a somewhat conservative \"lean\" in the respondents' attitudes, but maybe not a strong one."
   ]
  },
  {
   "cell_type": "code",
   "execution_count": null,
   "metadata": {},
   "outputs": [],
   "source": [
    "ShowHistogram(data, 'abortionLegal')"
   ]
  },
  {
   "cell_type": "code",
   "execution_count": null,
   "metadata": {},
   "outputs": [],
   "source": [
    "ShowHistogram(data, 'abortionLegal', facet_col='age_Groups')"
   ]
  },
  {
   "cell_type": "markdown",
   "metadata": {},
   "source": [
    "Respondents in this question were asked to indicate how much they agree/disagree with the statement:\n",
    "\n",
    "\"Protests are a normal part of democracy\"\n",
    "\n",
    "There appears to be a strong trend towards agreement here -- 67% agreed to some degree."
   ]
  },
  {
   "cell_type": "code",
   "execution_count": null,
   "metadata": {},
   "outputs": [],
   "source": [
    "ShowHistogram(data, 'protestNormal')"
   ]
  },
  {
   "cell_type": "markdown",
   "metadata": {},
   "source": [
    "Respondents in this question were asked to indicate how much they agree/disagree with the statement:\n",
    "\n",
    "\"Protests can be an effective way for ordinary citizens to voice their opinion on political issues\"\n",
    "\n",
    "This appears to be a similar distribution as the previous question -- mostly agreement."
   ]
  },
  {
   "cell_type": "code",
   "execution_count": null,
   "metadata": {},
   "outputs": [],
   "source": [
    "ShowHistogram (data,'protestEffective')"
   ]
  },
  {
   "cell_type": "markdown",
   "metadata": {},
   "source": [
    "Respondents in this question were asked to indicate how much they agree/disagree with the statement:\n",
    "\n",
    "\"Protests are not representative of the political views of most ordinary people\"\n",
    "\n",
    "Respondents did not seem to have strong feelings about this question -- neutral (neither agree nor disagree) was the most common response."
   ]
  },
  {
   "cell_type": "code",
   "execution_count": null,
   "metadata": {},
   "outputs": [],
   "source": [
    "ShowHistogram (data,'protestNotRepresentative')"
   ]
  },
  {
   "cell_type": "markdown",
   "metadata": {},
   "source": [
    "Respondents in this question were asked to indicate how much they agree/disagree with the statement:\n",
    "\n",
    "\"Protests should be illegal\"\n",
    "\n",
    "Most (~64%) disagreed with this statement."
   ]
  },
  {
   "cell_type": "code",
   "execution_count": null,
   "metadata": {},
   "outputs": [],
   "source": [
    "ShowHistogram (data,'protestIllegal')"
   ]
  },
  {
   "cell_type": "markdown",
   "metadata": {},
   "source": [
    "# Activities related to community causes\n",
    "\n",
    "These questions asked respondents if they did certain activites in the past year related to taking action to effect social change.  Specifically, did they take such action online, offline, both, or neither.  We were particularly interested to see if political / social activity was done online vs offline, so we categorized \"both\" as online.  Unfortunately, the overall trend here indicates that respondents generally did not take any action, either online or offline.\n",
    "\n",
    "This question asked if respondents had done the following in the past year:\n",
    "\n",
    "Raised money for a charity or ran/walked/biked for charity\n",
    "\n",
    "No seems to be the most common answer."
   ]
  },
  {
   "cell_type": "code",
   "execution_count": null,
   "metadata": {},
   "outputs": [],
   "source": [
    "ShowHistogram (data, 'pyRaisedMoneyForCharity')"
   ]
  },
  {
   "cell_type": "markdown",
   "metadata": {},
   "source": [
    "This question asked if respondents had done the following in the past year:\n",
    "\n",
    "Made a donation to a political or social cause\n",
    "\n",
    "Again, the most common answer was no."
   ]
  },
  {
   "cell_type": "code",
   "execution_count": null,
   "metadata": {},
   "outputs": [],
   "source": [
    "ShowHistogram(data, 'pyDonatedMoneyForCause')"
   ]
  },
  {
   "cell_type": "markdown",
   "metadata": {},
   "source": [
    "This question asked if respondents had done the following in the past year:\n",
    "\n",
    "Signed up to receive information about social or political causes.\n",
    "\n",
    "Again, the most common answer is no.  However, here we see that more people were willing to perform this activity online than the prior activities -- ~30% indicated they signed up for information online."
   ]
  },
  {
   "cell_type": "code",
   "execution_count": null,
   "metadata": {},
   "outputs": [],
   "source": [
    "ShowHistogram(data, 'pySignedUpForCauseInfo')"
   ]
  },
  {
   "cell_type": "markdown",
   "metadata": {},
   "source": [
    "This question asked if respondents had done the following in the past year:\n",
    "\n",
    "Wore or displayed a sign or symbol related to a political or social cause\n",
    "\n",
    "Here we see that very few people performed this activity, even online."
   ]
  },
  {
   "cell_type": "code",
   "execution_count": null,
   "metadata": {},
   "outputs": [],
   "source": [
    "ShowHistogram(data, 'pyDisplayedCauseSymbol')"
   ]
  },
  {
   "cell_type": "markdown",
   "metadata": {},
   "source": [
    "This question asked if respondents had done the following in the past year:\n",
    "\n",
    "Deliberately bought a product for political, ethical, or environmental reasons\n",
    "\n",
    "Again, the most common answer is no."
   ]
  },
  {
   "cell_type": "code",
   "execution_count": null,
   "metadata": {},
   "outputs": [],
   "source": [
    "ShowHistogram(data, 'pyBoughtForCause')"
   ]
  },
  {
   "cell_type": "markdown",
   "metadata": {},
   "source": [
    "This question asked if respondents had done the following in the past year:\n",
    "\n",
    "Deliberately avoided buying a product (boycotted) for political, ethical, or environmental reasons\n",
    "\n",
    "Again, the most common answer is no.  There is a slight uptick here in people who indicated they performed this activity online."
   ]
  },
  {
   "cell_type": "code",
   "execution_count": null,
   "metadata": {},
   "outputs": [],
   "source": [
    "ShowHistogram(data, 'pyBoycottedForCause')"
   ]
  },
  {
   "cell_type": "code",
   "execution_count": null,
   "metadata": {},
   "outputs": [],
   "source": []
  }
 ],
 "metadata": {
  "kernelspec": {
   "display_name": "Python 3",
   "language": "python",
   "name": "python3"
  },
  "language_info": {
   "codemirror_mode": {
    "name": "ipython",
    "version": 3
   },
   "file_extension": ".py",
   "mimetype": "text/x-python",
   "name": "python",
   "nbconvert_exporter": "python",
   "pygments_lexer": "ipython3",
   "version": "3.7.3"
  }
 },
 "nbformat": 4,
 "nbformat_minor": 2
}

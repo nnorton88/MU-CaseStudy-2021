{
 "cells": [
  {
   "cell_type": "markdown",
   "metadata": {},
   "source": [
    "# Demographics"
   ]
  },
  {
   "cell_type": "markdown",
   "metadata": {},
   "source": [
    "This notebook contains information about the demographics of the respondents in the survey (age, gender, ethnicity, etc)."
   ]
  },
  {
   "cell_type": "code",
   "execution_count": null,
   "metadata": {},
   "outputs": [],
   "source": [
    "# Load pre-processed data\n",
    "!pip install joblib\n",
    "import joblib\n",
    "\n",
    "import plotly.express as px\n",
    "\n",
    "import pandas as pd\n",
    "import numpy as np\n",
    "from math import floor, ceil, log\n",
    "\n",
    "data = joblib.load('GroupedAndUngroupedData.pkl')"
   ]
  },
  {
   "cell_type": "markdown",
   "metadata": {},
   "source": [
    "Function used to easily generate histograms"
   ]
  },
  {
   "cell_type": "code",
   "execution_count": null,
   "metadata": {},
   "outputs": [],
   "source": [
    "def ShowHistogram (data, col, sortorder='ascending', sorttype='category', **kwargs):\n",
    "    \"\"\"\n",
    "    Function to display histograms and percentage breakdowns for a specified column in the dataframe.\n",
    "    @ params:\n",
    "        data                        -  dataframe \n",
    "        col                         -  column name within dataframe\n",
    "        sortorder                   -  ascending or descending (default is ascending)\n",
    "        sorttype                    -  sort either by category name ('category') or totals ('total'). Default is category.\n",
    "        **kwargs                    -  optional additional arguments to pass into the histogram call. for example, adding\n",
    "                                       facet_col = 'gender_Groups' will additionally facet the histogam by gender \n",
    "    \"\"\"\n",
    "    \n",
    "    tickmode='array'\n",
    "    ascending = sortorder == 'ascending'\n",
    "    \n",
    "    # If we're faceting by something, we want to also sort by the facet column so the results are displayed consistently\n",
    "    if 'facet_col' in kwargs.keys():\n",
    "        data = data.sort_values([col,kwargs['facet_col']], ascending=ascending)\n",
    "    else:\n",
    "        data = data.sort_values([col], ascending=ascending)\n",
    "    \n",
    "    tickvals=data[col]\n",
    "    \n",
    "    # Our preprocessed data has columns representing the responses and then our grouped / translated versions of those\n",
    "    # responses as \"\"{columnName}_Groups\".  However, not every column was Grouped (age, for example).\n",
    "    # If the column we're generating the histogram for does have a _Groups equivalent, we'll display those values\n",
    "    # in the X axis.  Otherwise, we'll just use the data as-is.\n",
    "    if f'{col}_Groups' in data.columns:\n",
    "        ticktext=data[f'{col}_Groups']\n",
    "        vals = sorted(set(data[f'{col}_Groups']))\n",
    "    else:\n",
    "        ticktext=data[col]\n",
    "        vals = sorted(set(data[f'{col}']))\n",
    "    \n",
    "    # To help ensure the colors in the histograms are consistent, this part maps each of the unique values being \n",
    "    # graphed to a color in the colors.qualitative.G10 pallette (in PlotLy).  This only works if there are \n",
    "    # 10 or fewer unique values (since the qualitative pallettes only have 10 values).  So if there are more, we just skip\n",
    "    # this step.\n",
    "    colorDict = {}\n",
    "    \n",
    "    if len (vals) <= 10:\n",
    "        for val in vals:\n",
    "            colorDict[val] = px.colors.qualitative.G10[len(colorDict)]\n",
    "    if colorDict:\n",
    "        p=px.histogram(data,x=col, color=ticktext, histnorm='density',color_discrete_map = colorDict, **kwargs)\n",
    "    else:\n",
    "        p=px.histogram(data,x=col, color=ticktext, histnorm='density',**kwargs)\n",
    "        \n",
    "    # Remove the \"colname=\" junk from the legends\n",
    "    p=p.for_each_trace(lambda t: t.update(name=t.name.split('=')[1]))\n",
    "    \n",
    "    # If the responses were grouped 1:1, then we can use the raw responses on the x-axis but display their translated\n",
    "    # names\n",
    "    if len(set(tickvals)) == len(set(ticktext)):\n",
    "        p.update_layout(xaxis=dict(tickmode=tickmode, tickvals=tickvals, ticktext=ticktext))\n",
    "    \n",
    "    # Remove the \"colname=\" junk from the facet labels\n",
    "    if 'facet_col' in kwargs.keys():\n",
    "        p = p.for_each_annotation(lambda a: a.update(text=a.text.split(\"=\")[-1]))\n",
    "    \n",
    "    # Sort the x axis in the specified order\n",
    "    categoryorder = f'{sorttype} {sortorder}'\n",
    "    p=p.update_xaxes(type='category', categoryorder=categoryorder)\n",
    "    p.show()\n",
    "    \n",
    "    if f'{col}_Groups' in data.columns:\n",
    "        print ('Grouped Columns Distribution:\\n')\n",
    "        print (data[f'{col}_Groups'].value_counts(normalize=True)*100)\n",
    "        print ('\\n')\n",
    "    print ('Ungrouped Columns Distribution:\\n')\n",
    "    print (data[f'{col}'].value_counts(normalize=True)*100)"
   ]
  },
  {
   "cell_type": "markdown",
   "metadata": {},
   "source": [
    "# Age distribution"
   ]
  },
  {
   "cell_type": "code",
   "execution_count": null,
   "metadata": {},
   "outputs": [],
   "source": [
    "col = 'age'\n",
    "ShowHistogram(data, col)"
   ]
  },
  {
   "cell_type": "markdown",
   "metadata": {},
   "source": [
    "We can see there are four roughly equal-sized groupings:\n",
    "<ul>\n",
    "    <li>~27% were aged 16-19.</li>  \n",
    "    <li>~27% were aged 20-23</li>\n",
    "    <li>~22% were aged 24-26</li>\n",
    "    <li>~24% were aged 27-29</li>\n",
    "</ul>\n",
    "These groupings fortunately lend themselves to some semantic labels:\n",
    "Teens, Early 20s, Mid 20s, Late 20s"
   ]
  },
  {
   "cell_type": "code",
   "execution_count": null,
   "metadata": {},
   "outputs": [],
   "source": [
    "# Here we'll create the groupings based on the above four groups we identified\n",
    "\n",
    "bins = pd.IntervalIndex.from_tuples([(15,19), (19,23), (23,26), (26,29)])\n",
    "binlabels = ['LateTeens', 'Early20s', 'Mid20s', 'Late20s']\n",
    "\n",
    "age_Groups = pd.cut(data.age.to_list(), bins=bins)\n",
    "age_Groups.categories = binlabels\n",
    "data['age_Groups'] = age_Groups\n",
    "\n",
    "data.age_Groups = data.age_Groups.astype(str)"
   ]
  },
  {
   "cell_type": "code",
   "execution_count": null,
   "metadata": {},
   "outputs": [],
   "source": [
    "# Revised age histogram showing groups:\n",
    "ShowHistogram(data,col)"
   ]
  },
  {
   "cell_type": "code",
   "execution_count": null,
   "metadata": {},
   "outputs": [],
   "source": [
    "# Age groups faceted by gender:\n",
    "ShowHistogram(data,col, facet_col='gender_Groups')"
   ]
  },
  {
   "cell_type": "markdown",
   "metadata": {},
   "source": [
    "This shows us that the majority of female respondents were in their late teens, while the majority of male respondents\n",
    "were in their mid-to-late 20s.  This may need to be factored into our multivariate analysis."
   ]
  },
  {
   "cell_type": "markdown",
   "metadata": {},
   "source": [
    "# Gender distribution"
   ]
  },
  {
   "cell_type": "markdown",
   "metadata": {},
   "source": [
    "Roughly equal distribution of males vs females, slightly favoring females."
   ]
  },
  {
   "cell_type": "code",
   "execution_count": null,
   "metadata": {},
   "outputs": [],
   "source": [
    "col = 'gender'\n",
    "ShowHistogram(data, col, 'descending')\n",
    "# Gender distribution of respondents.  53% / 47% female: male"
   ]
  },
  {
   "cell_type": "markdown",
   "metadata": {},
   "source": [
    "# Ethnicity"
   ]
  },
  {
   "cell_type": "markdown",
   "metadata": {},
   "source": [
    "The vast majority of respondents (~70%) identified as White.  Black was the next most common at ~ 11%."
   ]
  },
  {
   "cell_type": "code",
   "execution_count": null,
   "metadata": {},
   "outputs": [],
   "source": [
    "# The ethnicity data is broken out among a few binary columns, so first we'll combine all those to form groups\n",
    "ethnicity_cols = ['USAAsianPacificIslander', 'USABlack', 'USAWhite', 'USAHispanic', 'USALatino', 'USAMiddleEastern', 'USAOtherEthnicity']\n",
    "\n",
    "data['ethnicity_Groups'] = data[ethnicity_cols].apply(lambda row: np.argmax(row).replace('USA',''), axis=1)\n"
   ]
  },
  {
   "cell_type": "code",
   "execution_count": null,
   "metadata": {},
   "outputs": [],
   "source": [
    "ShowHistogram (data, 'ethnicity_Groups', sorttype='total')"
   ]
  },
  {
   "cell_type": "markdown",
   "metadata": {},
   "source": [
    "# Area Type (rural, small town, suburban, or city)"
   ]
  },
  {
   "cell_type": "markdown",
   "metadata": {},
   "source": [
    "Most respondents live in suburban areas or cities."
   ]
  },
  {
   "cell_type": "code",
   "execution_count": null,
   "metadata": {},
   "outputs": [],
   "source": [
    "# This question asked respondents which of the following best describes the area in which you live\n",
    "col = 'USAAreaType'\n",
    "\n",
    "ShowHistogram(data, col, sorttype='total')"
   ]
  },
  {
   "cell_type": "markdown",
   "metadata": {},
   "source": [
    "# Education level"
   ]
  },
  {
   "cell_type": "markdown",
   "metadata": {},
   "source": [
    "Over half (~55%) of respondents either completed a 4-year college or have some college education."
   ]
  },
  {
   "cell_type": "code",
   "execution_count": null,
   "metadata": {},
   "outputs": [],
   "source": [
    "col = 'USAEducation'\n",
    "ShowHistogram(data,col)"
   ]
  },
  {
   "cell_type": "markdown",
   "metadata": {},
   "source": [
    "# Language spoken at home"
   ]
  },
  {
   "cell_type": "markdown",
   "metadata": {},
   "source": [
    "Perhaps unsurprisingly, the vast majority of respondents (~85%) speak English at home."
   ]
  },
  {
   "cell_type": "code",
   "execution_count": null,
   "metadata": {
    "scrolled": true
   },
   "outputs": [],
   "source": [
    "col = 'langSpokenHome'\n",
    "ShowHistogram(data, col, 'descending')"
   ]
  },
  {
   "cell_type": "markdown",
   "metadata": {},
   "source": [
    "# Access to the Internet"
   ]
  },
  {
   "cell_type": "markdown",
   "metadata": {},
   "source": [
    "Respondents were asked in which setting they most frequently accessed the internet.\n",
    "\n",
    "The majority (~ 63%) indicated that their home was the most common setting."
   ]
  },
  {
   "cell_type": "code",
   "execution_count": null,
   "metadata": {},
   "outputs": [],
   "source": [
    "col = 'internetAccessSetting'\n",
    "ShowHistogram(data, col, sorttype='total')"
   ]
  },
  {
   "cell_type": "markdown",
   "metadata": {},
   "source": [
    "Respondents were additionally asked which setting(s) they accessed the internet from in the past week.  These responses\n",
    "seem to echo the most frequent settings."
   ]
  },
  {
   "cell_type": "code",
   "execution_count": null,
   "metadata": {},
   "outputs": [],
   "source": [
    "# These questions were translated into a series of binaries, and respondents could indicate multiple settings.  \n",
    "# We'll total up all of the responses for each possible setting.\n",
    "internetAccess_cols = ['internetAccessCafeKiosk',\n",
    "'internetAccessLibrary',\n",
    "'internetAccessOwnHome',\n",
    "'internetAccessOtherHome',\n",
    "'internetAccessWork',\n",
    "'internetAccessSchool',\n",
    "'internetAccessMobilePhone',\n",
    "'internetAccessLaptopTablet',\n",
    "'internetAccessSomewhereElse',\n",
    "'internetAccessNone']\n",
    "\n",
    "dic = {col: data[col].sum() for col in internetAccess_cols}\n",
    "\n",
    "iAccessData = pd.DataFrame.from_dict(dic, orient='index', columns=['Total'])\n",
    "iAccessData['PastWeekAccessLocation'] = iAccessData.index"
   ]
  },
  {
   "cell_type": "code",
   "execution_count": null,
   "metadata": {},
   "outputs": [],
   "source": [
    "p = px.bar (iAccessData, x='PastWeekAccessLocation', y='Total' )\n",
    "p=p.update_xaxes(type='category', categoryorder='total ascending')\n",
    "p.show()"
   ]
  }
 ],
 "metadata": {
  "kernelspec": {
   "display_name": "Python 3",
   "language": "python",
   "name": "python3"
  },
  "language_info": {
   "codemirror_mode": {
    "name": "ipython",
    "version": 3
   },
   "file_extension": ".py",
   "mimetype": "text/x-python",
   "name": "python",
   "nbconvert_exporter": "python",
   "pygments_lexer": "ipython3",
   "version": "3.7.3"
  }
 },
 "nbformat": 4,
 "nbformat_minor": 2
}

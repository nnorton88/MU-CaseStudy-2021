{
 "cells": [
  {
   "cell_type": "markdown",
   "metadata": {},
   "source": [
    "# Code Repeatability\n",
    "Best Viewed in Jupyter\n",
    "\n",
    "### 1.   [Initial Data Carpentry](./1-Data%20Carpentry%20Initial.ipynb)\n",
    "### 2.   [More Data Carpentry](./2-Data%20Carpentry%20and%20Response%20Grouping.ipynb)\n",
    "### 3.   Univariate Analysis\n",
    "\n",
    "### [Demographics](./3-Demographics.ipynb) \n",
    "### [Internet Use / Video Games](./3-Internet_Use_Video_Games.ipynb)\n",
    "### [Traditional / Social Media](./3-Traditional_Media_Social_Media.ipynb)\n",
    "### [Political Engagement](./3-Political_Engagement.ipynb)\n",
    "### [Social Views](./3-Social_Views.ipynb)\n",
    "\n",
    "### 4.   Bivariate Analysis\n",
    "\n",
    "### [Chi Squared Testing](./4-Chi2Testing.ipynb) \n",
    "### [Target Variables](./4-Target%20Variables.ipynb) \n",
    "\n",
    "### [Progressivism](./4-Social%20Media%2C%20Internet%20%26%20Video%20Game%20use%20vs%20Progressivism.ipynb) \n",
    "\n",
    "### [Voted vs. Demographics](./4-TwoWayTables_Voted_Demographics.ipynb) \n",
    "### [Voted vs. Internet Use / Video Games](./4-TwoWayTables_Voted_InternetandVideoGames.ipynb)\n",
    "### [Voted vs. Traditional / Social Media](./4-TwoWayTables_Voted_TraditionalandSocialMedia.ipynb)\n",
    "### [Voted vs. Political Engagement](./4-TwoWayTables_Voted_PoliticalEngagement.ipynb)\n",
    "### [Voted vs. Social Views](./4-TwoWayTables_Voted_SocialViews.ipynb)\n",
    "\n",
    "### [Political Party vs. Demographics](./4-TwoWayTables_Party_Demographics.ipynb) \n",
    "### [Political Party vs. Internet Use / Video Games](./4-TwoWayTables_Party_InternetandVideoGames.ipynb)\n",
    "### [Political Party vs. Traditional / Social Media](./4-TwoWayTables_Party_TraditionalandSocialMedia.ipynb)\n",
    "### [Political Party vs. Political Engagement](./4-TwoWayTables_Party_PoliticalEngagement.ipynb)\n",
    "### [Political Party vs. Social Views](./4-TwoWayTables_Party_SocialViews.ipynb)\n",
    "\n",
    "### [Engagement](./4-TwoWayTable_Traditional_and_SocialMedia.ipynb)\n",
    "\n",
    "### 5.   [Final Visualizations](./5-Final_Visualizations.ipynb)"
   ]
  },
  {
   "cell_type": "code",
   "execution_count": null,
   "metadata": {},
   "outputs": [],
   "source": []
  }
 ],
 "metadata": {
  "kernelspec": {
   "display_name": "Python 3",
   "language": "python",
   "name": "python3"
  },
  "language_info": {
   "codemirror_mode": {
    "name": "ipython",
    "version": 3
   },
   "file_extension": ".py",
   "mimetype": "text/x-python",
   "name": "python",
   "nbconvert_exporter": "python",
   "pygments_lexer": "ipython3",
   "version": "3.7.3"
  }
 },
 "nbformat": 4,
 "nbformat_minor": 2
}

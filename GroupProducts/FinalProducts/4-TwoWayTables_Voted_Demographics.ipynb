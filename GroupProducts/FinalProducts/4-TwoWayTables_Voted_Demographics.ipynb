{
 "cells": [
  {
   "cell_type": "markdown",
   "metadata": {},
   "source": [
    "# Voted Across Demographics"
   ]
  },
  {
   "cell_type": "markdown",
   "metadata": {},
   "source": [
    "Within this notebook we will conduct bivariate analysis for features which fall within the Demographics category within our dataset. Specifically, this notebook will examine the relationship of Demographic features on whether or not respondents Voted. Throughout this notebook we will be looking for any interesting correlations which might help us to explain whether a respondent voted and any obvious outlying or skewing features that may need to be removed when considering predictive analysis later."
   ]
  },
  {
   "cell_type": "markdown",
   "metadata": {},
   "source": [
    "While a thorough analysis is important to us there are many many significant correlations within this dataset and as such we have opted to limit the scope here by the Voted feature, Demographic category, and the top 10 most significant correlations within those two groups. That said, there is still much to cover so we have included a Key Insights section at the bottom of the notebook for convenience. Let's get started! First we will import the necessary tools and the data:"
   ]
  },
  {
   "cell_type": "code",
   "execution_count": 25,
   "metadata": {},
   "outputs": [
    {
     "name": "stdout",
     "output_type": "stream",
     "text": [
      "Requirement already satisfied: joblib in /opt/conda/lib/python3.7/site-packages (0.17.0)\r\n"
     ]
    }
   ],
   "source": [
    "!pip install joblib\n",
    "\n",
    "import pandas as pd\n",
    "import numpy as np\n",
    "import joblib\n",
    "from scipy.stats import chi2_contingency\n",
    "from time import time\n",
    "import plotly\n",
    "import plotly.express as px\n",
    "import plotly.graph_objects as go\n",
    "from plotly.subplots import make_subplots\n",
    "import ipywidgets as ipw\n",
    "from ipywidgets import HBox, VBox,Label\n",
    "import matplotlib.pyplot as plt\n",
    "%matplotlib inline"
   ]
  },
  {
   "cell_type": "markdown",
   "metadata": {},
   "source": [
    "This is a pickled form of our preprocessed data. It is important to note that his dataset contains both the original ungrouped observations and our grouped observations. For our purposes we will use the grouped observations we created."
   ]
  },
  {
   "cell_type": "code",
   "execution_count": 26,
   "metadata": {},
   "outputs": [],
   "source": [
    "data = joblib.load ('GroupedAndUngroupedData.pkl')"
   ]
  },
  {
   "cell_type": "markdown",
   "metadata": {},
   "source": [
    "This is a function we created to make generating Heat Maps between two features easier:"
   ]
  },
  {
   "cell_type": "code",
   "execution_count": 27,
   "metadata": {},
   "outputs": [],
   "source": [
    "def ShowTwoWayHeatmap (df, row, col, normalize = False):\n",
    "    \"\"\"\n",
    "    Little function to help with creation of heatmaps.\n",
    "    @params:\n",
    "        df                  - required - dataframe containing data to be mapped\n",
    "        row                 - required - name of column in df to plot on the rows\n",
    "        col                 - required - name of column in df to plot on the columns\n",
    "        normalize           - optional - specifies whether the table should be normalized along 'index', 'column', 'all' (or True), or neither (False)\n",
    "    \"\"\"\n",
    "    ctab = pd.crosstab (data[row], data[col], normalize = normalize)\n",
    "    if normalize:\n",
    "        mult = 100\n",
    "        fmt = '%.2f%%'\n",
    "    else:\n",
    "        mult = 1\n",
    "        fmt = '%.0f'\n",
    "    fig = plt.figure()\n",
    "    fig.set_size_inches(13,6)\n",
    "    heatmap = plt.pcolor(ctab)\n",
    "    for y in range (ctab.shape[0]):\n",
    "        for x in range (ctab.shape[1]):\n",
    "            plt.text (x + 0.5, y + 0.5, fmt % (ctab.iloc[y,x] * mult),\n",
    "                       ha='center', va='center')\n",
    "    plt.yticks(np.arange(len (ctab.index))+0.5, ctab.index)\n",
    "    plt.xticks(np.arange(len (ctab.columns))+0.5, ctab.columns, rotation=90)\n",
    "    plt.colorbar(heatmap)\n",
    "    plt.title(f'{row} vs {col}')\n",
    "    plt.xlabel(col)\n",
    "    plt.ylabel(row)\n",
    "    plt.show()"
   ]
  },
  {
   "cell_type": "markdown",
   "metadata": {},
   "source": [
    "# Subsetting And Choosing Features "
   ]
  },
  {
   "cell_type": "markdown",
   "metadata": {},
   "source": [
    "Given that our data consists almost entirely of categorical features we have opted to utilize the Chi-Squared method to bring out any significant correlations between those features as a means of narrowing analysis. The most significant aspect of this Chi-Squared analysis is the p value generated from it. For the purposes of this analysis we have chosen an alpha of .05, so as long as p value correlation between two given variables is less than .05 we will consider that correlation significant. However, our initial Chi-Squared analysis yielded over 10,000 significant correlations. We determined that we needed to narrow the scope of our analysis further by choosing specific features (voted in this case) and look at those features through the top 10 correlations for each of our categories. What follows is the processes of subsetting and feature selections used for this process."
   ]
  },
  {
   "cell_type": "markdown",
   "metadata": {},
   "source": [
    "This is a previously created dataset which contains the results of the Chi-Squared test across each feature of the dataset by category:"
   ]
  },
  {
   "cell_type": "code",
   "execution_count": 28,
   "metadata": {},
   "outputs": [],
   "source": [
    "results = joblib.load ('Chi2Results.pkl')"
   ]
  },
  {
   "cell_type": "markdown",
   "metadata": {},
   "source": [
    "Now, in order to focus strictly on the Voted feature we will subset the above data to include only those feature combinations for which one of them (in this case the 'Y') is pyVoted_Groups (the name of the Voted feature)."
   ]
  },
  {
   "cell_type": "code",
   "execution_count": 29,
   "metadata": {},
   "outputs": [],
   "source": [
    "Votedresults=results[results['Y'].isin(['pyVoted_Groups'])].sort_values('p')\n",
    "\n",
    "#Votedresults"
   ]
  },
  {
   "cell_type": "markdown",
   "metadata": {},
   "source": [
    "Here we will ensure that the 'X' category is set to Demographics so that what remains are demographic features compared only to the Voted feature.  It is also important to note that this data frame will be sorted by the p value which is already in ascending order. Since the lower p value the better, the resulting dataframe should show us the top ten correlations when called for."
   ]
  },
  {
   "cell_type": "code",
   "execution_count": 30,
   "metadata": {},
   "outputs": [
    {
     "data": {
      "text/html": [
       "<div>\n",
       "<style scoped>\n",
       "    .dataframe tbody tr th:only-of-type {\n",
       "        vertical-align: middle;\n",
       "    }\n",
       "\n",
       "    .dataframe tbody tr th {\n",
       "        vertical-align: top;\n",
       "    }\n",
       "\n",
       "    .dataframe thead th {\n",
       "        text-align: right;\n",
       "    }\n",
       "</style>\n",
       "<table border=\"1\" class=\"dataframe\">\n",
       "  <thead>\n",
       "    <tr style=\"text-align: right;\">\n",
       "      <th></th>\n",
       "      <th>XCategory</th>\n",
       "      <th>YCategory</th>\n",
       "      <th>X</th>\n",
       "      <th>Y</th>\n",
       "      <th>chi2</th>\n",
       "      <th>p</th>\n",
       "      <th>dof</th>\n",
       "      <th>expected</th>\n",
       "      <th>observed</th>\n",
       "      <th>comparison</th>\n",
       "    </tr>\n",
       "  </thead>\n",
       "  <tbody>\n",
       "    <tr>\n",
       "      <th>3995</th>\n",
       "      <td>Demographics</td>\n",
       "      <td>PoliticalEngagement</td>\n",
       "      <td>USAEducation_Groups</td>\n",
       "      <td>pyVoted_Groups</td>\n",
       "      <td>154.728894</td>\n",
       "      <td>7.781428e-23</td>\n",
       "      <td>20</td>\n",
       "      <td>pyVoted_Groups               no     offline   ...</td>\n",
       "      <td>pyVoted_Groups        no  offline  online\n",
       "USAE...</td>\n",
       "      <td>XValue   YValue  observedVal ...</td>\n",
       "    </tr>\n",
       "    <tr>\n",
       "      <th>3530</th>\n",
       "      <td>Demographics</td>\n",
       "      <td>PoliticalEngagement</td>\n",
       "      <td>internetAccessCafeKiosk</td>\n",
       "      <td>pyVoted_Groups</td>\n",
       "      <td>40.997360</td>\n",
       "      <td>1.251804e-09</td>\n",
       "      <td>2</td>\n",
       "      <td>pyVoted_Groups                 no     offline ...</td>\n",
       "      <td>pyVoted_Groups            no  offline  online\n",
       "...</td>\n",
       "      <td>XValue   YValue  observedVal  expectedVal  ...</td>\n",
       "    </tr>\n",
       "    <tr>\n",
       "      <th>3840</th>\n",
       "      <td>Demographics</td>\n",
       "      <td>PoliticalEngagement</td>\n",
       "      <td>internetAccessWork</td>\n",
       "      <td>pyVoted_Groups</td>\n",
       "      <td>38.887134</td>\n",
       "      <td>3.595557e-09</td>\n",
       "      <td>2</td>\n",
       "      <td>pyVoted_Groups              no     offline    ...</td>\n",
       "      <td>pyVoted_Groups       no  offline  online\n",
       "inter...</td>\n",
       "      <td>XValue   YValue  observedVal  expectedVal  ...</td>\n",
       "    </tr>\n",
       "    <tr>\n",
       "      <th>3468</th>\n",
       "      <td>Demographics</td>\n",
       "      <td>PoliticalEngagement</td>\n",
       "      <td>age_Groups</td>\n",
       "      <td>pyVoted_Groups</td>\n",
       "      <td>39.993433</td>\n",
       "      <td>4.568706e-07</td>\n",
       "      <td>6</td>\n",
       "      <td>pyVoted_Groups          no     offline     onl...</td>\n",
       "      <td>pyVoted_Groups   no  offline  online\n",
       "age_Group...</td>\n",
       "      <td>XValue   YValue  observedVal  expectedV...</td>\n",
       "    </tr>\n",
       "    <tr>\n",
       "      <th>3778</th>\n",
       "      <td>Demographics</td>\n",
       "      <td>PoliticalEngagement</td>\n",
       "      <td>internetAccessSetting_Groups</td>\n",
       "      <td>pyVoted_Groups</td>\n",
       "      <td>47.651816</td>\n",
       "      <td>1.500896e-05</td>\n",
       "      <td>14</td>\n",
       "      <td>pyVoted_Groups                        no     o...</td>\n",
       "      <td>pyVoted_Groups                 no  offline  on...</td>\n",
       "      <td>XValue   YValue  observedVal  expecte...</td>\n",
       "    </tr>\n",
       "    <tr>\n",
       "      <th>3592</th>\n",
       "      <td>Demographics</td>\n",
       "      <td>PoliticalEngagement</td>\n",
       "      <td>internetAccessLibrary</td>\n",
       "      <td>pyVoted_Groups</td>\n",
       "      <td>21.191328</td>\n",
       "      <td>2.502429e-05</td>\n",
       "      <td>2</td>\n",
       "      <td>pyVoted_Groups                no     offline  ...</td>\n",
       "      <td>pyVoted_Groups          no  offline  online\n",
       "in...</td>\n",
       "      <td>XValue   YValue  observedVal  expectedVal  ...</td>\n",
       "    </tr>\n",
       "    <tr>\n",
       "      <th>3871</th>\n",
       "      <td>Demographics</td>\n",
       "      <td>PoliticalEngagement</td>\n",
       "      <td>langSpokenHome_Groups</td>\n",
       "      <td>pyVoted_Groups</td>\n",
       "      <td>22.751508</td>\n",
       "      <td>1.419530e-04</td>\n",
       "      <td>4</td>\n",
       "      <td>pyVoted_Groups                 no     offline ...</td>\n",
       "      <td>pyVoted_Groups          no  offline  online\n",
       "la...</td>\n",
       "      <td>XValue   YValue  observedVal  expectedVal ...</td>\n",
       "    </tr>\n",
       "    <tr>\n",
       "      <th>4150</th>\n",
       "      <td>Demographics</td>\n",
       "      <td>PoliticalEngagement</td>\n",
       "      <td>USAWhite</td>\n",
       "      <td>pyVoted_Groups</td>\n",
       "      <td>12.798689</td>\n",
       "      <td>1.662647e-03</td>\n",
       "      <td>2</td>\n",
       "      <td>pyVoted_Groups          no     offline      on...</td>\n",
       "      <td>pyVoted_Groups   no  offline  online\n",
       "USAWhite ...</td>\n",
       "      <td>XValue   YValue  observedVal  expectedVal  ...</td>\n",
       "    </tr>\n",
       "    <tr>\n",
       "      <th>3716</th>\n",
       "      <td>Demographics</td>\n",
       "      <td>PoliticalEngagement</td>\n",
       "      <td>internetAccessOwnHome</td>\n",
       "      <td>pyVoted_Groups</td>\n",
       "      <td>12.418773</td>\n",
       "      <td>2.010471e-03</td>\n",
       "      <td>2</td>\n",
       "      <td>pyVoted_Groups                 no     offline ...</td>\n",
       "      <td>pyVoted_Groups          no  offline  online\n",
       "in...</td>\n",
       "      <td>XValue   YValue  observedVal  expectedVal  ...</td>\n",
       "    </tr>\n",
       "    <tr>\n",
       "      <th>3654</th>\n",
       "      <td>Demographics</td>\n",
       "      <td>PoliticalEngagement</td>\n",
       "      <td>internetAccessNone</td>\n",
       "      <td>pyVoted_Groups</td>\n",
       "      <td>11.350468</td>\n",
       "      <td>3.429867e-03</td>\n",
       "      <td>2</td>\n",
       "      <td>pyVoted_Groups              no     offline    ...</td>\n",
       "      <td>pyVoted_Groups       no  offline  online\n",
       "inter...</td>\n",
       "      <td>XValue   YValue  observedVal  expectedVal  ...</td>\n",
       "    </tr>\n",
       "  </tbody>\n",
       "</table>\n",
       "</div>"
      ],
      "text/plain": [
       "         XCategory            YCategory                             X  \\\n",
       "3995  Demographics  PoliticalEngagement           USAEducation_Groups   \n",
       "3530  Demographics  PoliticalEngagement       internetAccessCafeKiosk   \n",
       "3840  Demographics  PoliticalEngagement            internetAccessWork   \n",
       "3468  Demographics  PoliticalEngagement                    age_Groups   \n",
       "3778  Demographics  PoliticalEngagement  internetAccessSetting_Groups   \n",
       "3592  Demographics  PoliticalEngagement         internetAccessLibrary   \n",
       "3871  Demographics  PoliticalEngagement         langSpokenHome_Groups   \n",
       "4150  Demographics  PoliticalEngagement                      USAWhite   \n",
       "3716  Demographics  PoliticalEngagement         internetAccessOwnHome   \n",
       "3654  Demographics  PoliticalEngagement            internetAccessNone   \n",
       "\n",
       "                   Y        chi2             p  dof  \\\n",
       "3995  pyVoted_Groups  154.728894  7.781428e-23   20   \n",
       "3530  pyVoted_Groups   40.997360  1.251804e-09    2   \n",
       "3840  pyVoted_Groups   38.887134  3.595557e-09    2   \n",
       "3468  pyVoted_Groups   39.993433  4.568706e-07    6   \n",
       "3778  pyVoted_Groups   47.651816  1.500896e-05   14   \n",
       "3592  pyVoted_Groups   21.191328  2.502429e-05    2   \n",
       "3871  pyVoted_Groups   22.751508  1.419530e-04    4   \n",
       "4150  pyVoted_Groups   12.798689  1.662647e-03    2   \n",
       "3716  pyVoted_Groups   12.418773  2.010471e-03    2   \n",
       "3654  pyVoted_Groups   11.350468  3.429867e-03    2   \n",
       "\n",
       "                                               expected  \\\n",
       "3995  pyVoted_Groups               no     offline   ...   \n",
       "3530  pyVoted_Groups                 no     offline ...   \n",
       "3840  pyVoted_Groups              no     offline    ...   \n",
       "3468  pyVoted_Groups          no     offline     onl...   \n",
       "3778  pyVoted_Groups                        no     o...   \n",
       "3592  pyVoted_Groups                no     offline  ...   \n",
       "3871  pyVoted_Groups                 no     offline ...   \n",
       "4150  pyVoted_Groups          no     offline      on...   \n",
       "3716  pyVoted_Groups                 no     offline ...   \n",
       "3654  pyVoted_Groups              no     offline    ...   \n",
       "\n",
       "                                               observed  \\\n",
       "3995  pyVoted_Groups        no  offline  online\n",
       "USAE...   \n",
       "3530  pyVoted_Groups            no  offline  online\n",
       "...   \n",
       "3840  pyVoted_Groups       no  offline  online\n",
       "inter...   \n",
       "3468  pyVoted_Groups   no  offline  online\n",
       "age_Group...   \n",
       "3778  pyVoted_Groups                 no  offline  on...   \n",
       "3592  pyVoted_Groups          no  offline  online\n",
       "in...   \n",
       "3871  pyVoted_Groups          no  offline  online\n",
       "la...   \n",
       "4150  pyVoted_Groups   no  offline  online\n",
       "USAWhite ...   \n",
       "3716  pyVoted_Groups          no  offline  online\n",
       "in...   \n",
       "3654  pyVoted_Groups       no  offline  online\n",
       "inter...   \n",
       "\n",
       "                                             comparison  \n",
       "3995                   XValue   YValue  observedVal ...  \n",
       "3530     XValue   YValue  observedVal  expectedVal  ...  \n",
       "3840     XValue   YValue  observedVal  expectedVal  ...  \n",
       "3468         XValue   YValue  observedVal  expectedV...  \n",
       "3778           XValue   YValue  observedVal  expecte...  \n",
       "3592     XValue   YValue  observedVal  expectedVal  ...  \n",
       "3871      XValue   YValue  observedVal  expectedVal ...  \n",
       "4150     XValue   YValue  observedVal  expectedVal  ...  \n",
       "3716     XValue   YValue  observedVal  expectedVal  ...  \n",
       "3654     XValue   YValue  observedVal  expectedVal  ...  "
      ]
     },
     "execution_count": 30,
     "metadata": {},
     "output_type": "execute_result"
    }
   ],
   "source": [
    "DemoVotedresults=Votedresults[Votedresults['XCategory'].isin(['Demographics'])].sort_values('p')\n",
    "\n",
    "DemoVotedresults.head(10)"
   ]
  },
  {
   "cell_type": "markdown",
   "metadata": {},
   "source": [
    "The following plot provides a fairly straight forward visual representation of the relevant feature combinations. There are two important things to understand about his plot. First, remember that lower p values are better for this purpose so the darker the color the better. Second, you will notice that most of the p values here are <.05 which should serve to further the decision to focus our investigation in the way we chose to."
   ]
  },
  {
   "cell_type": "code",
   "execution_count": 31,
   "metadata": {},
   "outputs": [
    {
     "data": {
      "application/vnd.plotly.v1+json": {
       "config": {
        "plotlyServerURL": "https://plot.ly"
       },
       "data": [
        {
         "hoverlabel": {
          "namelength": 0
         },
         "hovertemplate": "<b>%{hovertext}</b><br><br>Y=%{x}<br>X=%{y}<br>p=%{marker.color}",
         "hovertext": [
          "USAEducation_Groups",
          "internetAccessCafeKiosk",
          "internetAccessWork",
          "age_Groups",
          "internetAccessSetting_Groups",
          "internetAccessLibrary",
          "langSpokenHome_Groups",
          "USAWhite",
          "internetAccessOwnHome",
          "internetAccessNone",
          "USAHispanic",
          "gender_Groups",
          "internetAccessOtherHome",
          "internetAccessMobilePhone",
          "USAOtherEthnicity",
          "USAAsianPacificIslander",
          "internetAccessLaptopTablet",
          "internetAccessSomewhereElse",
          "internetAccessSchool",
          "USABlack",
          "USAAreaType_Groups",
          "USAMiddleEastern",
          "USALatino"
         ],
         "legendgroup": "",
         "marker": {
          "color": [
           7.781427620624313e-23,
           1.2518038839444325e-09,
           3.595556827152541e-09,
           4.5687057491174235e-07,
           1.5008961479212835e-05,
           2.5024286071743954e-05,
           0.000141952952693543,
           0.0016626468493398864,
           0.002010470982323499,
           0.0034298665854853006,
           0.005563796155450359,
           0.030351542707586058,
           0.04805011749200802,
           0.057275383396267636,
           0.060988210299974685,
           0.08182802370442764,
           0.10795429717291226,
           0.1732553896808939,
           0.21848192010827677,
           0.26627655481936013,
           0.31963213213673897,
           0.6004977578973385,
           0.604071260144004
          ],
          "coloraxis": "coloraxis",
          "symbol": "circle"
         },
         "mode": "markers",
         "name": "",
         "showlegend": false,
         "type": "scatter",
         "x": [
          "pyVoted_Groups",
          "pyVoted_Groups",
          "pyVoted_Groups",
          "pyVoted_Groups",
          "pyVoted_Groups",
          "pyVoted_Groups",
          "pyVoted_Groups",
          "pyVoted_Groups",
          "pyVoted_Groups",
          "pyVoted_Groups",
          "pyVoted_Groups",
          "pyVoted_Groups",
          "pyVoted_Groups",
          "pyVoted_Groups",
          "pyVoted_Groups",
          "pyVoted_Groups",
          "pyVoted_Groups",
          "pyVoted_Groups",
          "pyVoted_Groups",
          "pyVoted_Groups",
          "pyVoted_Groups",
          "pyVoted_Groups",
          "pyVoted_Groups"
         ],
         "xaxis": "x",
         "y": [
          "USAEducation_Groups",
          "internetAccessCafeKiosk",
          "internetAccessWork",
          "age_Groups",
          "internetAccessSetting_Groups",
          "internetAccessLibrary",
          "langSpokenHome_Groups",
          "USAWhite",
          "internetAccessOwnHome",
          "internetAccessNone",
          "USAHispanic",
          "gender_Groups",
          "internetAccessOtherHome",
          "internetAccessMobilePhone",
          "USAOtherEthnicity",
          "USAAsianPacificIslander",
          "internetAccessLaptopTablet",
          "internetAccessSomewhereElse",
          "internetAccessSchool",
          "USABlack",
          "USAAreaType_Groups",
          "USAMiddleEastern",
          "USALatino"
         ],
         "yaxis": "y"
        }
       ],
       "layout": {
        "coloraxis": {
         "colorbar": {
          "title": {
           "text": "p"
          }
         },
         "colorscale": [
          [
           0,
           "#0d0887"
          ],
          [
           0.1111111111111111,
           "#46039f"
          ],
          [
           0.2222222222222222,
           "#7201a8"
          ],
          [
           0.3333333333333333,
           "#9c179e"
          ],
          [
           0.4444444444444444,
           "#bd3786"
          ],
          [
           0.5555555555555556,
           "#d8576b"
          ],
          [
           0.6666666666666666,
           "#ed7953"
          ],
          [
           0.7777777777777778,
           "#fb9f3a"
          ],
          [
           0.8888888888888888,
           "#fdca26"
          ],
          [
           1,
           "#f0f921"
          ]
         ]
        },
        "height": 600,
        "legend": {
         "tracegroupgap": 0
        },
        "margin": {
         "t": 60
        },
        "template": {
         "data": {
          "bar": [
           {
            "error_x": {
             "color": "#2a3f5f"
            },
            "error_y": {
             "color": "#2a3f5f"
            },
            "marker": {
             "line": {
              "color": "#E5ECF6",
              "width": 0.5
             }
            },
            "type": "bar"
           }
          ],
          "barpolar": [
           {
            "marker": {
             "line": {
              "color": "#E5ECF6",
              "width": 0.5
             }
            },
            "type": "barpolar"
           }
          ],
          "carpet": [
           {
            "aaxis": {
             "endlinecolor": "#2a3f5f",
             "gridcolor": "white",
             "linecolor": "white",
             "minorgridcolor": "white",
             "startlinecolor": "#2a3f5f"
            },
            "baxis": {
             "endlinecolor": "#2a3f5f",
             "gridcolor": "white",
             "linecolor": "white",
             "minorgridcolor": "white",
             "startlinecolor": "#2a3f5f"
            },
            "type": "carpet"
           }
          ],
          "choropleth": [
           {
            "colorbar": {
             "outlinewidth": 0,
             "ticks": ""
            },
            "type": "choropleth"
           }
          ],
          "contour": [
           {
            "colorbar": {
             "outlinewidth": 0,
             "ticks": ""
            },
            "colorscale": [
             [
              0,
              "#0d0887"
             ],
             [
              0.1111111111111111,
              "#46039f"
             ],
             [
              0.2222222222222222,
              "#7201a8"
             ],
             [
              0.3333333333333333,
              "#9c179e"
             ],
             [
              0.4444444444444444,
              "#bd3786"
             ],
             [
              0.5555555555555556,
              "#d8576b"
             ],
             [
              0.6666666666666666,
              "#ed7953"
             ],
             [
              0.7777777777777778,
              "#fb9f3a"
             ],
             [
              0.8888888888888888,
              "#fdca26"
             ],
             [
              1,
              "#f0f921"
             ]
            ],
            "type": "contour"
           }
          ],
          "contourcarpet": [
           {
            "colorbar": {
             "outlinewidth": 0,
             "ticks": ""
            },
            "type": "contourcarpet"
           }
          ],
          "heatmap": [
           {
            "colorbar": {
             "outlinewidth": 0,
             "ticks": ""
            },
            "colorscale": [
             [
              0,
              "#0d0887"
             ],
             [
              0.1111111111111111,
              "#46039f"
             ],
             [
              0.2222222222222222,
              "#7201a8"
             ],
             [
              0.3333333333333333,
              "#9c179e"
             ],
             [
              0.4444444444444444,
              "#bd3786"
             ],
             [
              0.5555555555555556,
              "#d8576b"
             ],
             [
              0.6666666666666666,
              "#ed7953"
             ],
             [
              0.7777777777777778,
              "#fb9f3a"
             ],
             [
              0.8888888888888888,
              "#fdca26"
             ],
             [
              1,
              "#f0f921"
             ]
            ],
            "type": "heatmap"
           }
          ],
          "heatmapgl": [
           {
            "colorbar": {
             "outlinewidth": 0,
             "ticks": ""
            },
            "colorscale": [
             [
              0,
              "#0d0887"
             ],
             [
              0.1111111111111111,
              "#46039f"
             ],
             [
              0.2222222222222222,
              "#7201a8"
             ],
             [
              0.3333333333333333,
              "#9c179e"
             ],
             [
              0.4444444444444444,
              "#bd3786"
             ],
             [
              0.5555555555555556,
              "#d8576b"
             ],
             [
              0.6666666666666666,
              "#ed7953"
             ],
             [
              0.7777777777777778,
              "#fb9f3a"
             ],
             [
              0.8888888888888888,
              "#fdca26"
             ],
             [
              1,
              "#f0f921"
             ]
            ],
            "type": "heatmapgl"
           }
          ],
          "histogram": [
           {
            "marker": {
             "colorbar": {
              "outlinewidth": 0,
              "ticks": ""
             }
            },
            "type": "histogram"
           }
          ],
          "histogram2d": [
           {
            "colorbar": {
             "outlinewidth": 0,
             "ticks": ""
            },
            "colorscale": [
             [
              0,
              "#0d0887"
             ],
             [
              0.1111111111111111,
              "#46039f"
             ],
             [
              0.2222222222222222,
              "#7201a8"
             ],
             [
              0.3333333333333333,
              "#9c179e"
             ],
             [
              0.4444444444444444,
              "#bd3786"
             ],
             [
              0.5555555555555556,
              "#d8576b"
             ],
             [
              0.6666666666666666,
              "#ed7953"
             ],
             [
              0.7777777777777778,
              "#fb9f3a"
             ],
             [
              0.8888888888888888,
              "#fdca26"
             ],
             [
              1,
              "#f0f921"
             ]
            ],
            "type": "histogram2d"
           }
          ],
          "histogram2dcontour": [
           {
            "colorbar": {
             "outlinewidth": 0,
             "ticks": ""
            },
            "colorscale": [
             [
              0,
              "#0d0887"
             ],
             [
              0.1111111111111111,
              "#46039f"
             ],
             [
              0.2222222222222222,
              "#7201a8"
             ],
             [
              0.3333333333333333,
              "#9c179e"
             ],
             [
              0.4444444444444444,
              "#bd3786"
             ],
             [
              0.5555555555555556,
              "#d8576b"
             ],
             [
              0.6666666666666666,
              "#ed7953"
             ],
             [
              0.7777777777777778,
              "#fb9f3a"
             ],
             [
              0.8888888888888888,
              "#fdca26"
             ],
             [
              1,
              "#f0f921"
             ]
            ],
            "type": "histogram2dcontour"
           }
          ],
          "mesh3d": [
           {
            "colorbar": {
             "outlinewidth": 0,
             "ticks": ""
            },
            "type": "mesh3d"
           }
          ],
          "parcoords": [
           {
            "line": {
             "colorbar": {
              "outlinewidth": 0,
              "ticks": ""
             }
            },
            "type": "parcoords"
           }
          ],
          "scatter": [
           {
            "marker": {
             "colorbar": {
              "outlinewidth": 0,
              "ticks": ""
             }
            },
            "type": "scatter"
           }
          ],
          "scatter3d": [
           {
            "line": {
             "colorbar": {
              "outlinewidth": 0,
              "ticks": ""
             }
            },
            "marker": {
             "colorbar": {
              "outlinewidth": 0,
              "ticks": ""
             }
            },
            "type": "scatter3d"
           }
          ],
          "scattercarpet": [
           {
            "marker": {
             "colorbar": {
              "outlinewidth": 0,
              "ticks": ""
             }
            },
            "type": "scattercarpet"
           }
          ],
          "scattergeo": [
           {
            "marker": {
             "colorbar": {
              "outlinewidth": 0,
              "ticks": ""
             }
            },
            "type": "scattergeo"
           }
          ],
          "scattergl": [
           {
            "marker": {
             "colorbar": {
              "outlinewidth": 0,
              "ticks": ""
             }
            },
            "type": "scattergl"
           }
          ],
          "scattermapbox": [
           {
            "marker": {
             "colorbar": {
              "outlinewidth": 0,
              "ticks": ""
             }
            },
            "type": "scattermapbox"
           }
          ],
          "scatterpolar": [
           {
            "marker": {
             "colorbar": {
              "outlinewidth": 0,
              "ticks": ""
             }
            },
            "type": "scatterpolar"
           }
          ],
          "scatterpolargl": [
           {
            "marker": {
             "colorbar": {
              "outlinewidth": 0,
              "ticks": ""
             }
            },
            "type": "scatterpolargl"
           }
          ],
          "scatterternary": [
           {
            "marker": {
             "colorbar": {
              "outlinewidth": 0,
              "ticks": ""
             }
            },
            "type": "scatterternary"
           }
          ],
          "surface": [
           {
            "colorbar": {
             "outlinewidth": 0,
             "ticks": ""
            },
            "colorscale": [
             [
              0,
              "#0d0887"
             ],
             [
              0.1111111111111111,
              "#46039f"
             ],
             [
              0.2222222222222222,
              "#7201a8"
             ],
             [
              0.3333333333333333,
              "#9c179e"
             ],
             [
              0.4444444444444444,
              "#bd3786"
             ],
             [
              0.5555555555555556,
              "#d8576b"
             ],
             [
              0.6666666666666666,
              "#ed7953"
             ],
             [
              0.7777777777777778,
              "#fb9f3a"
             ],
             [
              0.8888888888888888,
              "#fdca26"
             ],
             [
              1,
              "#f0f921"
             ]
            ],
            "type": "surface"
           }
          ],
          "table": [
           {
            "cells": {
             "fill": {
              "color": "#EBF0F8"
             },
             "line": {
              "color": "white"
             }
            },
            "header": {
             "fill": {
              "color": "#C8D4E3"
             },
             "line": {
              "color": "white"
             }
            },
            "type": "table"
           }
          ]
         },
         "layout": {
          "annotationdefaults": {
           "arrowcolor": "#2a3f5f",
           "arrowhead": 0,
           "arrowwidth": 1
          },
          "colorscale": {
           "diverging": [
            [
             0,
             "#8e0152"
            ],
            [
             0.1,
             "#c51b7d"
            ],
            [
             0.2,
             "#de77ae"
            ],
            [
             0.3,
             "#f1b6da"
            ],
            [
             0.4,
             "#fde0ef"
            ],
            [
             0.5,
             "#f7f7f7"
            ],
            [
             0.6,
             "#e6f5d0"
            ],
            [
             0.7,
             "#b8e186"
            ],
            [
             0.8,
             "#7fbc41"
            ],
            [
             0.9,
             "#4d9221"
            ],
            [
             1,
             "#276419"
            ]
           ],
           "sequential": [
            [
             0,
             "#0d0887"
            ],
            [
             0.1111111111111111,
             "#46039f"
            ],
            [
             0.2222222222222222,
             "#7201a8"
            ],
            [
             0.3333333333333333,
             "#9c179e"
            ],
            [
             0.4444444444444444,
             "#bd3786"
            ],
            [
             0.5555555555555556,
             "#d8576b"
            ],
            [
             0.6666666666666666,
             "#ed7953"
            ],
            [
             0.7777777777777778,
             "#fb9f3a"
            ],
            [
             0.8888888888888888,
             "#fdca26"
            ],
            [
             1,
             "#f0f921"
            ]
           ],
           "sequentialminus": [
            [
             0,
             "#0d0887"
            ],
            [
             0.1111111111111111,
             "#46039f"
            ],
            [
             0.2222222222222222,
             "#7201a8"
            ],
            [
             0.3333333333333333,
             "#9c179e"
            ],
            [
             0.4444444444444444,
             "#bd3786"
            ],
            [
             0.5555555555555556,
             "#d8576b"
            ],
            [
             0.6666666666666666,
             "#ed7953"
            ],
            [
             0.7777777777777778,
             "#fb9f3a"
            ],
            [
             0.8888888888888888,
             "#fdca26"
            ],
            [
             1,
             "#f0f921"
            ]
           ]
          },
          "colorway": [
           "#636efa",
           "#EF553B",
           "#00cc96",
           "#ab63fa",
           "#FFA15A",
           "#19d3f3",
           "#FF6692",
           "#B6E880",
           "#FF97FF",
           "#FECB52"
          ],
          "font": {
           "color": "#2a3f5f"
          },
          "geo": {
           "bgcolor": "white",
           "lakecolor": "white",
           "landcolor": "#E5ECF6",
           "showlakes": true,
           "showland": true,
           "subunitcolor": "white"
          },
          "hoverlabel": {
           "align": "left"
          },
          "hovermode": "closest",
          "mapbox": {
           "style": "light"
          },
          "paper_bgcolor": "white",
          "plot_bgcolor": "#E5ECF6",
          "polar": {
           "angularaxis": {
            "gridcolor": "white",
            "linecolor": "white",
            "ticks": ""
           },
           "bgcolor": "#E5ECF6",
           "radialaxis": {
            "gridcolor": "white",
            "linecolor": "white",
            "ticks": ""
           }
          },
          "scene": {
           "xaxis": {
            "backgroundcolor": "#E5ECF6",
            "gridcolor": "white",
            "gridwidth": 2,
            "linecolor": "white",
            "showbackground": true,
            "ticks": "",
            "zerolinecolor": "white"
           },
           "yaxis": {
            "backgroundcolor": "#E5ECF6",
            "gridcolor": "white",
            "gridwidth": 2,
            "linecolor": "white",
            "showbackground": true,
            "ticks": "",
            "zerolinecolor": "white"
           },
           "zaxis": {
            "backgroundcolor": "#E5ECF6",
            "gridcolor": "white",
            "gridwidth": 2,
            "linecolor": "white",
            "showbackground": true,
            "ticks": "",
            "zerolinecolor": "white"
           }
          },
          "shapedefaults": {
           "line": {
            "color": "#2a3f5f"
           }
          },
          "ternary": {
           "aaxis": {
            "gridcolor": "white",
            "linecolor": "white",
            "ticks": ""
           },
           "baxis": {
            "gridcolor": "white",
            "linecolor": "white",
            "ticks": ""
           },
           "bgcolor": "#E5ECF6",
           "caxis": {
            "gridcolor": "white",
            "linecolor": "white",
            "ticks": ""
           }
          },
          "title": {
           "x": 0.05
          },
          "xaxis": {
           "automargin": true,
           "gridcolor": "white",
           "linecolor": "white",
           "ticks": "",
           "zerolinecolor": "white",
           "zerolinewidth": 2
          },
          "yaxis": {
           "automargin": true,
           "gridcolor": "white",
           "linecolor": "white",
           "ticks": "",
           "zerolinecolor": "white",
           "zerolinewidth": 2
          }
         }
        },
        "xaxis": {
         "anchor": "y",
         "domain": [
          0,
          0.98
         ],
         "title": {
          "text": "Y"
         },
         "type": "category"
        },
        "yaxis": {
         "anchor": "x",
         "domain": [
          0,
          1
         ],
         "title": {
          "text": "X"
         }
        }
       }
      },
      "text/html": [
       "<div>\n",
       "        \n",
       "        \n",
       "            <div id=\"d28cb32b-0f40-4eb4-bf8b-1bdaf8cab0a1\" class=\"plotly-graph-div\" style=\"height:600px; width:100%;\"></div>\n",
       "            <script type=\"text/javascript\">\n",
       "                require([\"plotly\"], function(Plotly) {\n",
       "                    window.PLOTLYENV=window.PLOTLYENV || {};\n",
       "                    \n",
       "                if (document.getElementById(\"d28cb32b-0f40-4eb4-bf8b-1bdaf8cab0a1\")) {\n",
       "                    Plotly.newPlot(\n",
       "                        'd28cb32b-0f40-4eb4-bf8b-1bdaf8cab0a1',\n",
       "                        [{\"hoverlabel\": {\"namelength\": 0}, \"hovertemplate\": \"<b>%{hovertext}</b><br><br>Y=%{x}<br>X=%{y}<br>p=%{marker.color}\", \"hovertext\": [\"USAEducation_Groups\", \"internetAccessCafeKiosk\", \"internetAccessWork\", \"age_Groups\", \"internetAccessSetting_Groups\", \"internetAccessLibrary\", \"langSpokenHome_Groups\", \"USAWhite\", \"internetAccessOwnHome\", \"internetAccessNone\", \"USAHispanic\", \"gender_Groups\", \"internetAccessOtherHome\", \"internetAccessMobilePhone\", \"USAOtherEthnicity\", \"USAAsianPacificIslander\", \"internetAccessLaptopTablet\", \"internetAccessSomewhereElse\", \"internetAccessSchool\", \"USABlack\", \"USAAreaType_Groups\", \"USAMiddleEastern\", \"USALatino\"], \"legendgroup\": \"\", \"marker\": {\"color\": [7.781427620624313e-23, 1.2518038839444325e-09, 3.595556827152541e-09, 4.5687057491174235e-07, 1.5008961479212835e-05, 2.5024286071743954e-05, 0.000141952952693543, 0.0016626468493398864, 0.002010470982323499, 0.0034298665854853006, 0.005563796155450359, 0.030351542707586058, 0.04805011749200802, 0.057275383396267636, 0.060988210299974685, 0.08182802370442764, 0.10795429717291226, 0.1732553896808939, 0.21848192010827677, 0.26627655481936013, 0.31963213213673897, 0.6004977578973385, 0.604071260144004], \"coloraxis\": \"coloraxis\", \"symbol\": \"circle\"}, \"mode\": \"markers\", \"name\": \"\", \"showlegend\": false, \"type\": \"scatter\", \"x\": [\"pyVoted_Groups\", \"pyVoted_Groups\", \"pyVoted_Groups\", \"pyVoted_Groups\", \"pyVoted_Groups\", \"pyVoted_Groups\", \"pyVoted_Groups\", \"pyVoted_Groups\", \"pyVoted_Groups\", \"pyVoted_Groups\", \"pyVoted_Groups\", \"pyVoted_Groups\", \"pyVoted_Groups\", \"pyVoted_Groups\", \"pyVoted_Groups\", \"pyVoted_Groups\", \"pyVoted_Groups\", \"pyVoted_Groups\", \"pyVoted_Groups\", \"pyVoted_Groups\", \"pyVoted_Groups\", \"pyVoted_Groups\", \"pyVoted_Groups\"], \"xaxis\": \"x\", \"y\": [\"USAEducation_Groups\", \"internetAccessCafeKiosk\", \"internetAccessWork\", \"age_Groups\", \"internetAccessSetting_Groups\", \"internetAccessLibrary\", \"langSpokenHome_Groups\", \"USAWhite\", \"internetAccessOwnHome\", \"internetAccessNone\", \"USAHispanic\", \"gender_Groups\", \"internetAccessOtherHome\", \"internetAccessMobilePhone\", \"USAOtherEthnicity\", \"USAAsianPacificIslander\", \"internetAccessLaptopTablet\", \"internetAccessSomewhereElse\", \"internetAccessSchool\", \"USABlack\", \"USAAreaType_Groups\", \"USAMiddleEastern\", \"USALatino\"], \"yaxis\": \"y\"}],\n",
       "                        {\"coloraxis\": {\"colorbar\": {\"title\": {\"text\": \"p\"}}, \"colorscale\": [[0.0, \"#0d0887\"], [0.1111111111111111, \"#46039f\"], [0.2222222222222222, \"#7201a8\"], [0.3333333333333333, \"#9c179e\"], [0.4444444444444444, \"#bd3786\"], [0.5555555555555556, \"#d8576b\"], [0.6666666666666666, \"#ed7953\"], [0.7777777777777778, \"#fb9f3a\"], [0.8888888888888888, \"#fdca26\"], [1.0, \"#f0f921\"]]}, \"height\": 600, \"legend\": {\"tracegroupgap\": 0}, \"margin\": {\"t\": 60}, \"template\": {\"data\": {\"bar\": [{\"error_x\": {\"color\": \"#2a3f5f\"}, \"error_y\": {\"color\": \"#2a3f5f\"}, \"marker\": {\"line\": {\"color\": \"#E5ECF6\", \"width\": 0.5}}, \"type\": \"bar\"}], \"barpolar\": [{\"marker\": {\"line\": {\"color\": \"#E5ECF6\", \"width\": 0.5}}, \"type\": \"barpolar\"}], \"carpet\": [{\"aaxis\": {\"endlinecolor\": \"#2a3f5f\", \"gridcolor\": \"white\", \"linecolor\": \"white\", \"minorgridcolor\": \"white\", \"startlinecolor\": \"#2a3f5f\"}, \"baxis\": {\"endlinecolor\": \"#2a3f5f\", \"gridcolor\": \"white\", \"linecolor\": \"white\", \"minorgridcolor\": \"white\", \"startlinecolor\": \"#2a3f5f\"}, \"type\": \"carpet\"}], \"choropleth\": [{\"colorbar\": {\"outlinewidth\": 0, \"ticks\": \"\"}, \"type\": \"choropleth\"}], \"contour\": [{\"colorbar\": {\"outlinewidth\": 0, \"ticks\": \"\"}, \"colorscale\": [[0.0, \"#0d0887\"], [0.1111111111111111, \"#46039f\"], [0.2222222222222222, \"#7201a8\"], [0.3333333333333333, \"#9c179e\"], [0.4444444444444444, \"#bd3786\"], [0.5555555555555556, \"#d8576b\"], [0.6666666666666666, \"#ed7953\"], [0.7777777777777778, \"#fb9f3a\"], [0.8888888888888888, \"#fdca26\"], [1.0, \"#f0f921\"]], \"type\": \"contour\"}], \"contourcarpet\": [{\"colorbar\": {\"outlinewidth\": 0, \"ticks\": \"\"}, \"type\": \"contourcarpet\"}], \"heatmap\": [{\"colorbar\": {\"outlinewidth\": 0, \"ticks\": \"\"}, \"colorscale\": [[0.0, \"#0d0887\"], [0.1111111111111111, \"#46039f\"], [0.2222222222222222, \"#7201a8\"], [0.3333333333333333, \"#9c179e\"], [0.4444444444444444, \"#bd3786\"], [0.5555555555555556, \"#d8576b\"], [0.6666666666666666, \"#ed7953\"], [0.7777777777777778, \"#fb9f3a\"], [0.8888888888888888, \"#fdca26\"], [1.0, \"#f0f921\"]], \"type\": \"heatmap\"}], \"heatmapgl\": [{\"colorbar\": {\"outlinewidth\": 0, \"ticks\": \"\"}, \"colorscale\": [[0.0, \"#0d0887\"], [0.1111111111111111, \"#46039f\"], [0.2222222222222222, \"#7201a8\"], [0.3333333333333333, \"#9c179e\"], [0.4444444444444444, \"#bd3786\"], [0.5555555555555556, \"#d8576b\"], [0.6666666666666666, \"#ed7953\"], [0.7777777777777778, \"#fb9f3a\"], [0.8888888888888888, \"#fdca26\"], [1.0, \"#f0f921\"]], \"type\": \"heatmapgl\"}], \"histogram\": [{\"marker\": {\"colorbar\": {\"outlinewidth\": 0, \"ticks\": \"\"}}, \"type\": \"histogram\"}], \"histogram2d\": [{\"colorbar\": {\"outlinewidth\": 0, \"ticks\": \"\"}, \"colorscale\": [[0.0, \"#0d0887\"], [0.1111111111111111, \"#46039f\"], [0.2222222222222222, \"#7201a8\"], [0.3333333333333333, \"#9c179e\"], [0.4444444444444444, \"#bd3786\"], [0.5555555555555556, \"#d8576b\"], [0.6666666666666666, \"#ed7953\"], [0.7777777777777778, \"#fb9f3a\"], [0.8888888888888888, \"#fdca26\"], [1.0, \"#f0f921\"]], \"type\": \"histogram2d\"}], \"histogram2dcontour\": [{\"colorbar\": {\"outlinewidth\": 0, \"ticks\": \"\"}, \"colorscale\": [[0.0, \"#0d0887\"], [0.1111111111111111, \"#46039f\"], [0.2222222222222222, \"#7201a8\"], [0.3333333333333333, \"#9c179e\"], [0.4444444444444444, \"#bd3786\"], [0.5555555555555556, \"#d8576b\"], [0.6666666666666666, \"#ed7953\"], [0.7777777777777778, \"#fb9f3a\"], [0.8888888888888888, \"#fdca26\"], [1.0, \"#f0f921\"]], \"type\": \"histogram2dcontour\"}], \"mesh3d\": [{\"colorbar\": {\"outlinewidth\": 0, \"ticks\": \"\"}, \"type\": \"mesh3d\"}], \"parcoords\": [{\"line\": {\"colorbar\": {\"outlinewidth\": 0, \"ticks\": \"\"}}, \"type\": \"parcoords\"}], \"scatter\": [{\"marker\": {\"colorbar\": {\"outlinewidth\": 0, \"ticks\": \"\"}}, \"type\": \"scatter\"}], \"scatter3d\": [{\"line\": {\"colorbar\": {\"outlinewidth\": 0, \"ticks\": \"\"}}, \"marker\": {\"colorbar\": {\"outlinewidth\": 0, \"ticks\": \"\"}}, \"type\": \"scatter3d\"}], \"scattercarpet\": [{\"marker\": {\"colorbar\": {\"outlinewidth\": 0, \"ticks\": \"\"}}, \"type\": \"scattercarpet\"}], \"scattergeo\": [{\"marker\": {\"colorbar\": {\"outlinewidth\": 0, \"ticks\": \"\"}}, \"type\": \"scattergeo\"}], \"scattergl\": [{\"marker\": {\"colorbar\": {\"outlinewidth\": 0, \"ticks\": \"\"}}, \"type\": \"scattergl\"}], \"scattermapbox\": [{\"marker\": {\"colorbar\": {\"outlinewidth\": 0, \"ticks\": \"\"}}, \"type\": \"scattermapbox\"}], \"scatterpolar\": [{\"marker\": {\"colorbar\": {\"outlinewidth\": 0, \"ticks\": \"\"}}, \"type\": \"scatterpolar\"}], \"scatterpolargl\": [{\"marker\": {\"colorbar\": {\"outlinewidth\": 0, \"ticks\": \"\"}}, \"type\": \"scatterpolargl\"}], \"scatterternary\": [{\"marker\": {\"colorbar\": {\"outlinewidth\": 0, \"ticks\": \"\"}}, \"type\": \"scatterternary\"}], \"surface\": [{\"colorbar\": {\"outlinewidth\": 0, \"ticks\": \"\"}, \"colorscale\": [[0.0, \"#0d0887\"], [0.1111111111111111, \"#46039f\"], [0.2222222222222222, \"#7201a8\"], [0.3333333333333333, \"#9c179e\"], [0.4444444444444444, \"#bd3786\"], [0.5555555555555556, \"#d8576b\"], [0.6666666666666666, \"#ed7953\"], [0.7777777777777778, \"#fb9f3a\"], [0.8888888888888888, \"#fdca26\"], [1.0, \"#f0f921\"]], \"type\": \"surface\"}], \"table\": [{\"cells\": {\"fill\": {\"color\": \"#EBF0F8\"}, \"line\": {\"color\": \"white\"}}, \"header\": {\"fill\": {\"color\": \"#C8D4E3\"}, \"line\": {\"color\": \"white\"}}, \"type\": \"table\"}]}, \"layout\": {\"annotationdefaults\": {\"arrowcolor\": \"#2a3f5f\", \"arrowhead\": 0, \"arrowwidth\": 1}, \"colorscale\": {\"diverging\": [[0, \"#8e0152\"], [0.1, \"#c51b7d\"], [0.2, \"#de77ae\"], [0.3, \"#f1b6da\"], [0.4, \"#fde0ef\"], [0.5, \"#f7f7f7\"], [0.6, \"#e6f5d0\"], [0.7, \"#b8e186\"], [0.8, \"#7fbc41\"], [0.9, \"#4d9221\"], [1, \"#276419\"]], \"sequential\": [[0.0, \"#0d0887\"], [0.1111111111111111, \"#46039f\"], [0.2222222222222222, \"#7201a8\"], [0.3333333333333333, \"#9c179e\"], [0.4444444444444444, \"#bd3786\"], [0.5555555555555556, \"#d8576b\"], [0.6666666666666666, \"#ed7953\"], [0.7777777777777778, \"#fb9f3a\"], [0.8888888888888888, \"#fdca26\"], [1.0, \"#f0f921\"]], \"sequentialminus\": [[0.0, \"#0d0887\"], [0.1111111111111111, \"#46039f\"], [0.2222222222222222, \"#7201a8\"], [0.3333333333333333, \"#9c179e\"], [0.4444444444444444, \"#bd3786\"], [0.5555555555555556, \"#d8576b\"], [0.6666666666666666, \"#ed7953\"], [0.7777777777777778, \"#fb9f3a\"], [0.8888888888888888, \"#fdca26\"], [1.0, \"#f0f921\"]]}, \"colorway\": [\"#636efa\", \"#EF553B\", \"#00cc96\", \"#ab63fa\", \"#FFA15A\", \"#19d3f3\", \"#FF6692\", \"#B6E880\", \"#FF97FF\", \"#FECB52\"], \"font\": {\"color\": \"#2a3f5f\"}, \"geo\": {\"bgcolor\": \"white\", \"lakecolor\": \"white\", \"landcolor\": \"#E5ECF6\", \"showlakes\": true, \"showland\": true, \"subunitcolor\": \"white\"}, \"hoverlabel\": {\"align\": \"left\"}, \"hovermode\": \"closest\", \"mapbox\": {\"style\": \"light\"}, \"paper_bgcolor\": \"white\", \"plot_bgcolor\": \"#E5ECF6\", \"polar\": {\"angularaxis\": {\"gridcolor\": \"white\", \"linecolor\": \"white\", \"ticks\": \"\"}, \"bgcolor\": \"#E5ECF6\", \"radialaxis\": {\"gridcolor\": \"white\", \"linecolor\": \"white\", \"ticks\": \"\"}}, \"scene\": {\"xaxis\": {\"backgroundcolor\": \"#E5ECF6\", \"gridcolor\": \"white\", \"gridwidth\": 2, \"linecolor\": \"white\", \"showbackground\": true, \"ticks\": \"\", \"zerolinecolor\": \"white\"}, \"yaxis\": {\"backgroundcolor\": \"#E5ECF6\", \"gridcolor\": \"white\", \"gridwidth\": 2, \"linecolor\": \"white\", \"showbackground\": true, \"ticks\": \"\", \"zerolinecolor\": \"white\"}, \"zaxis\": {\"backgroundcolor\": \"#E5ECF6\", \"gridcolor\": \"white\", \"gridwidth\": 2, \"linecolor\": \"white\", \"showbackground\": true, \"ticks\": \"\", \"zerolinecolor\": \"white\"}}, \"shapedefaults\": {\"line\": {\"color\": \"#2a3f5f\"}}, \"ternary\": {\"aaxis\": {\"gridcolor\": \"white\", \"linecolor\": \"white\", \"ticks\": \"\"}, \"baxis\": {\"gridcolor\": \"white\", \"linecolor\": \"white\", \"ticks\": \"\"}, \"bgcolor\": \"#E5ECF6\", \"caxis\": {\"gridcolor\": \"white\", \"linecolor\": \"white\", \"ticks\": \"\"}}, \"title\": {\"x\": 0.05}, \"xaxis\": {\"automargin\": true, \"gridcolor\": \"white\", \"linecolor\": \"white\", \"ticks\": \"\", \"zerolinecolor\": \"white\", \"zerolinewidth\": 2}, \"yaxis\": {\"automargin\": true, \"gridcolor\": \"white\", \"linecolor\": \"white\", \"ticks\": \"\", \"zerolinecolor\": \"white\", \"zerolinewidth\": 2}}}, \"xaxis\": {\"anchor\": \"y\", \"domain\": [0.0, 0.98], \"title\": {\"text\": \"Y\"}, \"type\": \"category\"}, \"yaxis\": {\"anchor\": \"x\", \"domain\": [0.0, 1.0], \"title\": {\"text\": \"X\"}}},\n",
       "                        {\"responsive\": true}\n",
       "                    ).then(function(){\n",
       "                            \n",
       "var gd = document.getElementById('d28cb32b-0f40-4eb4-bf8b-1bdaf8cab0a1');\n",
       "var x = new MutationObserver(function (mutations, observer) {{\n",
       "        var display = window.getComputedStyle(gd).display;\n",
       "        if (!display || display === 'none') {{\n",
       "            console.log([gd, 'removed!']);\n",
       "            Plotly.purge(gd);\n",
       "            observer.disconnect();\n",
       "        }}\n",
       "}});\n",
       "\n",
       "// Listen for the removal of the full notebook cells\n",
       "var notebookContainer = gd.closest('#notebook-container');\n",
       "if (notebookContainer) {{\n",
       "    x.observe(notebookContainer, {childList: true});\n",
       "}}\n",
       "\n",
       "// Listen for the clearing of the current output cell\n",
       "var outputEl = gd.closest('.output');\n",
       "if (outputEl) {{\n",
       "    x.observe(outputEl, {childList: true});\n",
       "}}\n",
       "\n",
       "                        })\n",
       "                };\n",
       "                });\n",
       "            </script>\n",
       "        </div>"
      ]
     },
     "metadata": {},
     "output_type": "display_data"
    }
   ],
   "source": [
    "fig = px.scatter(DemoVotedresults, x=\"Y\", y=\"X\", color=\"p\",\n",
    "                 hover_name=\"X\", size_max=60)\n",
    "fig.update_xaxes(type='category')\n",
    "fig.show()"
   ]
  },
  {
   "cell_type": "markdown",
   "metadata": {},
   "source": [
    "Utilizing the dataframe and visualization above we will start to perform bivariate analysis. "
   ]
  },
  {
   "cell_type": "markdown",
   "metadata": {},
   "source": [
    "# Bivariate Analysis"
   ]
  },
  {
   "cell_type": "markdown",
   "metadata": {},
   "source": [
    "We now move to performing our bivariate analysis for the selected features as they relate to voting. For the purposes of this analysis two primary visualizations will be created for each selected feature: Heat Maps and Histograms. The primary reason for the selection of these two forms of visualizations is that our features are all categorical which limits our options but these two visualizations will still provide us with great insights into the distribution of the data. \n",
    "\n",
    "In the spirit of understanding the distribution of the selected features the visualizations we generate will show different forms of that distribution for the sake of coverage. Heat Maps will show counts and histograms will show percentages between categories and those who voted and did not vote. Importantly, you will notice that some of the visualizations generated are not included in this list. This is done because the features involved are related to the question at hand (they fall under that same question on the original survey) and require further exploration. \n",
    "\n",
    "We have grouped the relevant features into subcategories which relate to the question from which the selected features originate within the survey. At the end of each subsection there will be a brief discussion of the insights we take from the distributions displayed."
   ]
  },
  {
   "cell_type": "markdown",
   "metadata": {},
   "source": [
    "# Voted vs Education Groups"
   ]
  },
  {
   "cell_type": "code",
   "execution_count": 32,
   "metadata": {},
   "outputs": [
    {
     "data": {
      "image/png": "[encoded data removed]",
      "text/plain": [
       "<Figure size 936x432 with 2 Axes>"
      ]
     },
     "metadata": {
      "needs_background": "light"
     },
     "output_type": "display_data"
    },
    {
     "data": {
      "application/vnd.plotly.v1+json": {
       "config": {
        "plotlyServerURL": "https://plot.ly"
       },
       "data": [
        {
         "alignmentgroup": "True",
         "bingroup": "x",
         "hoverlabel": {
          "namelength": 0
         },
         "hovertemplate": "Voted=1<br>USAEducation_Groups=%{x}<br>count=%{y}",
         "legendgroup": "Voted=1",
         "marker": {
          "color": "#636EFA"
         },
         "name": "Voted=1",
         "offsetgroup": "Voted=1",
         "orientation": "v",
         "showlegend": true,
         "type": "histogram",
         "x": [
          "NotHighSchoolGrad",
          "SomeCollege",
          "NotHighSchoolGrad",
          "4YearCollege",
          "SomeCollege",
          "2YearCollege",
          "2YearCollege",
          "Doctoral",
          "SomeCollege",
          "2YearCollege",
          "SomeCollege",
          "SomeCollege",
          "HighSchoolGrad",
          "Professional(JD/MD)",
          "4YearCollege",
          "SomeCollege",
          "4YearCollege",
          "SomeCollege",
          "4YearCollege",
          "4YearCollege",
          "4YearCollege",
          "4YearCollege",
          "4YearCollege",
          "NotHighSchoolGrad",
          "4YearCollege",
          "2YearCollege",
          "NotHighSchoolGrad",
          "NotHighSchoolGrad",
          "NotHighSchoolGrad",
          "4YearCollege",
          "4YearCollege",
          "4YearCollege",
          "2YearCollege",
          "NotHighSchoolGrad",
          "InHighSchool",
          "4YearCollege",
          "NotHighSchoolGrad",
          "2YearCollege",
          "SomeCollege",
          "Masters",
          "2YearCollege",
          "HighSchoolGrad",
          "4YearCollege",
          "Professional(JD/MD)",
          "4YearCollege",
          "4YearCollege",
          "SomeCollege",
          "4YearCollege",
          "NotHighSchoolGrad",
          "4YearCollege",
          "Masters",
          "NotHighSchoolGrad",
          "4YearCollege",
          "SomeCollege",
          "4YearCollege",
          "NotHighSchoolGrad",
          "4YearCollege",
          "SomeCollege",
          "SomeCollege",
          "4YearCollege",
          "2YearCollege",
          "4YearCollege",
          "SomeCollege",
          "2YearCollege",
          "NotHighSchoolGrad",
          "NotHighSchoolGrad",
          "SomeCollege",
          "4YearCollege",
          "4YearCollege",
          "2YearCollege",
          "4YearCollege",
          "SomeCollege",
          "4YearCollege",
          "4YearCollege",
          "InHighSchool",
          "NotHighSchoolGrad",
          "SomeCollege",
          "SomeCollege",
          "4YearCollege",
          "2YearCollege",
          "SomeCollege",
          "SomeCollege",
          "NotHighSchoolGrad",
          "SomeCollege",
          "4YearCollege",
          "4YearCollege",
          "4YearCollege",
          "4YearCollege",
          "4YearCollege",
          "SomeCollege",
          "SomeCollege",
          "4YearCollege",
          "4YearCollege",
          "SomeCollege",
          "4YearCollege",
          "4YearCollege",
          "SomeCollege",
          "NotHighSchoolGrad",
          "2YearCollege",
          "SomeCollege",
          "Masters",
          "4YearCollege",
          "Masters",
          "4YearCollege",
          "NotHighSchoolGrad",
          "4YearCollege",
          "SomeCollege",
          "2YearCollege",
          "2YearCollege",
          "4YearCollege",
          "2YearCollege",
          "4YearCollege",
          "4YearCollege",
          "Masters",
          "SomeCollege",
          "NotHighSchoolGrad",
          "SomeCollege",
          "SomeCollege",
          "InHighSchool",
          "SomeCollege",
          "NotHighSchoolGrad",
          "4YearCollege",
          "4YearCollege",
          "SomeCollege",
          "4YearCollege",
          "4YearCollege",
          "NotHighSchoolGrad",
          "Masters",
          "4YearCollege",
          "SomeCollege",
          "SomeCollege",
          "SomeCollege",
          "SomeCollege",
          "2YearCollege",
          "SomeCollege",
          "NotHighSchoolGrad",
          "4YearCollege",
          "4YearCollege",
          "SomeCollege",
          "NotHighSchoolGrad",
          "NotHighSchoolGrad",
          "NotHighSchoolGrad",
          "Masters",
          "4YearCollege",
          "SomeCollege",
          "SomeCollege",
          "SomeCollege",
          "2YearCollege",
          "Masters",
          "SomeCollege",
          "4YearCollege",
          "SomeCollege",
          "4YearCollege",
          "SomeCollege",
          "NotHighSchoolGrad",
          "NotHighSchoolGrad",
          "4YearCollege",
          "Masters",
          "4YearCollege",
          "4YearCollege",
          "4YearCollege",
          "Masters",
          "Other",
          "2YearCollege",
          "2YearCollege",
          "SomeCollege",
          "SomeCollege",
          "SomeCollege",
          "4YearCollege",
          "2YearCollege",
          "SomeCollege",
          "4YearCollege",
          "NotHighSchoolGrad",
          "4YearCollege",
          "NotHighSchoolGrad",
          "4YearCollege",
          "SomeCollege",
          "SomeCollege",
          "4YearCollege",
          "HighSchoolGrad",
          "HighSchoolGrad",
          "InHighSchool",
          "SomeCollege",
          "SomeCollege",
          "SomeCollege",
          "Doctoral",
          "Professional(JD/MD)",
          "SomeCollege",
          "4YearCollege",
          "4YearCollege",
          "Masters",
          "4YearCollege",
          "4YearCollege",
          "SomeCollege",
          "4YearCollege",
          "SomeCollege",
          "2YearCollege",
          "2YearCollege",
          "SomeCollege",
          "2YearCollege",
          "SomeCollege",
          "SomeCollege",
          "SomeCollege",
          "Masters",
          "SomeCollege",
          "4YearCollege",
          "SomeCollege",
          "4YearCollege",
          "4YearCollege",
          "4YearCollege",
          "4YearCollege",
          "SomeCollege",
          "4YearCollege",
          "4YearCollege",
          "4YearCollege",
          "4YearCollege",
          "4YearCollege",
          "NotHighSchoolGrad",
          "NotHighSchoolGrad",
          "4YearCollege",
          "2YearCollege",
          "Masters",
          "4YearCollege",
          "4YearCollege",
          "NotHighSchoolGrad",
          "4YearCollege",
          "2YearCollege",
          "NotHighSchoolGrad",
          "4YearCollege",
          "4YearCollege",
          "SomeCollege",
          "SomeCollege",
          "4YearCollege",
          "Masters",
          "2YearCollege",
          "NotHighSchoolGrad",
          "4YearCollege",
          "Masters",
          "4YearCollege",
          "2YearCollege",
          "4YearCollege",
          "NotHighSchoolGrad",
          "2YearCollege",
          "Masters",
          "4YearCollege",
          "SomeCollege",
          "4YearCollege",
          "NotHighSchoolGrad",
          "2YearCollege",
          "4YearCollege",
          "4YearCollege",
          "SomeCollege",
          "4YearCollege",
          "4YearCollege",
          "Masters",
          "2YearCollege",
          "4YearCollege",
          "2YearCollege",
          "NotHighSchoolGrad",
          "4YearCollege",
          "4YearCollege",
          "4YearCollege",
          "NotHighSchoolGrad",
          "SomeCollege",
          "SomeCollege",
          "4YearCollege",
          "Masters",
          "SomeCollege",
          "4YearCollege",
          "2YearCollege",
          "4YearCollege",
          "4YearCollege",
          "4YearCollege",
          "4YearCollege",
          "SomeCollege",
          "SomeCollege",
          "SomeCollege",
          "4YearCollege",
          "4YearCollege",
          "4YearCollege",
          "SomeCollege",
          "4YearCollege",
          "SomeCollege",
          "4YearCollege",
          "SomeCollege",
          "SomeCollege",
          "Other",
          "HighSchoolGrad",
          "SomeCollege",
          "SomeCollege",
          "2YearCollege",
          "4YearCollege",
          "SomeCollege",
          "2YearCollege",
          "Masters",
          "SomeCollege",
          "Masters",
          "4YearCollege",
          "4YearCollege",
          "Masters",
          "4YearCollege",
          "SomeCollege",
          "Masters",
          "SomeCollege",
          "Professional(JD/MD)",
          "2YearCollege",
          "4YearCollege",
          "2YearCollege",
          "Professional(JD/MD)",
          "SomeCollege",
          "SomeCollege",
          "Masters",
          "4YearCollege",
          "4YearCollege",
          "SomeCollege",
          "4YearCollege",
          "Masters",
          "4YearCollege",
          "SomeCollege",
          "4YearCollege",
          "4YearCollege",
          "4YearCollege",
          "4YearCollege",
          "4YearCollege",
          "Professional(JD/MD)",
          "SomeCollege",
          "4YearCollege",
          "4YearCollege",
          "4YearCollege",
          "4YearCollege",
          "SomeCollege",
          "IDK",
          "SomeCollege",
          "4YearCollege",
          "2YearCollege",
          "SomeCollege",
          "Masters",
          "Masters",
          "SomeCollege",
          "4YearCollege",
          "InHighSchool",
          "SomeCollege",
          "SomeCollege",
          "4YearCollege",
          "2YearCollege",
          "SomeCollege",
          "4YearCollege",
          "NotHighSchoolGrad",
          "SomeCollege",
          "InHighSchool",
          "4YearCollege",
          "4YearCollege",
          "4YearCollege",
          "Masters",
          "4YearCollege",
          "SomeCollege",
          "4YearCollege",
          "4YearCollege",
          "NotHighSchoolGrad",
          "SomeCollege",
          "NotHighSchoolGrad",
          "4YearCollege",
          "SomeCollege",
          "4YearCollege",
          "SomeCollege",
          "4YearCollege",
          "4YearCollege",
          "InHighSchool",
          "4YearCollege",
          "SomeCollege",
          "4YearCollege",
          "SomeCollege",
          "4YearCollege",
          "4YearCollege",
          "SomeCollege",
          "4YearCollege",
          "4YearCollege",
          "2YearCollege",
          "4YearCollege",
          "Doctoral",
          "NotHighSchoolGrad",
          "4YearCollege",
          "NotHighSchoolGrad",
          "SomeCollege",
          "4YearCollege",
          "SomeCollege",
          "NotHighSchoolGrad",
          "2YearCollege",
          "4YearCollege",
          "SomeCollege",
          "NotHighSchoolGrad",
          "SomeCollege",
          "4YearCollege",
          "4YearCollege",
          "4YearCollege",
          "4YearCollege",
          "NotHighSchoolGrad",
          "4YearCollege",
          "Professional(JD/MD)",
          "NotHighSchoolGrad",
          "Masters",
          "Professional(JD/MD)",
          "NotHighSchoolGrad",
          "SomeCollege",
          "NotHighSchoolGrad",
          "2YearCollege",
          "SomeCollege",
          "Masters",
          "NotHighSchoolGrad",
          "SomeCollege",
          "SomeCollege",
          "SomeCollege",
          "SomeCollege",
          "NotHighSchoolGrad",
          "NotHighSchoolGrad",
          "4YearCollege",
          "SomeCollege",
          "SomeCollege",
          "SomeCollege",
          "SomeCollege",
          "SomeCollege",
          "2YearCollege",
          "SomeCollege",
          "NotHighSchoolGrad",
          "SomeCollege",
          "4YearCollege",
          "SomeCollege",
          "SomeCollege",
          "4YearCollege",
          "2YearCollege",
          "NotHighSchoolGrad",
          "4YearCollege",
          "SomeCollege",
          "SomeCollege",
          "NotHighSchoolGrad",
          "SomeCollege",
          "4YearCollege",
          "2YearCollege",
          "4YearCollege",
          "4YearCollege",
          "NotHighSchoolGrad",
          "SomeCollege",
          "4YearCollege",
          "NotHighSchoolGrad",
          "SomeCollege",
          "SomeCollege",
          "NotHighSchoolGrad",
          "4YearCollege",
          "Masters",
          "InHighSchool",
          "2YearCollege",
          "SomeCollege",
          "SomeCollege",
          "SomeCollege",
          "4YearCollege",
          "4YearCollege",
          "SomeCollege",
          "4YearCollege",
          "NotHighSchoolGrad",
          "InHighSchool",
          "NotHighSchoolGrad",
          "SomeCollege",
          "NotHighSchoolGrad",
          "NotHighSchoolGrad",
          "4YearCollege",
          "SomeCollege",
          "SomeCollege",
          "InHighSchool",
          "NotHighSchoolGrad",
          "4YearCollege",
          "4YearCollege",
          "NotHighSchoolGrad",
          "NotHighSchoolGrad",
          "SomeCollege",
          "2YearCollege",
          "4YearCollege",
          "HighSchoolGrad",
          "4YearCollege",
          "NotHighSchoolGrad",
          "4YearCollege",
          "4YearCollege",
          "SomeCollege",
          "SomeCollege",
          "SomeCollege",
          "SomeCollege",
          "4YearCollege",
          "HighSchoolGrad",
          "SomeCollege",
          "SomeCollege",
          "2YearCollege",
          "SomeCollege",
          "SomeCollege",
          "4YearCollege",
          "SomeCollege",
          "4YearCollege",
          "4YearCollege",
          "4YearCollege",
          "4YearCollege",
          "4YearCollege",
          "4YearCollege",
          "SomeCollege",
          "4YearCollege",
          "SomeCollege",
          "NotHighSchoolGrad",
          "4YearCollege",
          "Professional(JD/MD)",
          "SomeCollege",
          "4YearCollege",
          "4YearCollege",
          "SomeCollege",
          "SomeCollege",
          "SomeCollege",
          "Doctoral",
          "4YearCollege",
          "SomeCollege",
          "4YearCollege",
          "2YearCollege",
          "4YearCollege",
          "4YearCollege",
          "SomeCollege",
          "2YearCollege",
          "Masters",
          "HighSchoolGrad",
          "SomeCollege",
          "SomeCollege",
          "4YearCollege",
          "Masters",
          "HighSchoolGrad",
          "SomeCollege",
          "SomeCollege",
          "SomeCollege",
          "4YearCollege",
          "Professional(JD/MD)",
          "SomeCollege",
          "Other",
          "NotHighSchoolGrad",
          "4YearCollege",
          "Masters",
          "SomeCollege",
          "SomeCollege",
          "InHighSchool",
          "4YearCollege",
          "SomeCollege",
          "4YearCollege",
          "NotHighSchoolGrad",
          "4YearCollege",
          "SomeCollege",
          "SomeCollege",
          "4YearCollege",
          "2YearCollege",
          "SomeCollege",
          "4YearCollege",
          "SomeCollege",
          "4YearCollege",
          "Professional(JD/MD)",
          "4YearCollege",
          "SomeCollege",
          "4YearCollege",
          "2YearCollege",
          "SomeCollege",
          "SomeCollege",
          "InHighSchool",
          "4YearCollege",
          "SomeCollege",
          "SomeCollege",
          "NotHighSchoolGrad",
          "SomeCollege",
          "NotHighSchoolGrad",
          "4YearCollege",
          "4YearCollege",
          "4YearCollege",
          "Masters",
          "4YearCollege",
          "SomeCollege",
          "NotHighSchoolGrad",
          "4YearCollege",
          "4YearCollege",
          "SomeCollege",
          "4YearCollege",
          "SomeCollege",
          "SomeCollege",
          "4YearCollege",
          "NotHighSchoolGrad",
          "4YearCollege",
          "NotHighSchoolGrad",
          "4YearCollege",
          "SomeCollege",
          "4YearCollege",
          "4YearCollege",
          "4YearCollege",
          "NotHighSchoolGrad",
          "NotHighSchoolGrad",
          "SomeCollege",
          "4YearCollege",
          "2YearCollege",
          "SomeCollege",
          "Masters",
          "4YearCollege",
          "4YearCollege",
          "InHighSchool",
          "4YearCollege",
          "SomeCollege",
          "4YearCollege",
          "SomeCollege",
          "Masters",
          "SomeCollege",
          "Masters",
          "SomeCollege",
          "SomeCollege",
          "SomeCollege",
          "4YearCollege",
          "SomeCollege",
          "2YearCollege",
          "4YearCollege",
          "SomeCollege",
          "Masters",
          "SomeCollege",
          "2YearCollege",
          "SomeCollege",
          "4YearCollege",
          "4YearCollege",
          "InHighSchool",
          "4YearCollege",
          "NotHighSchoolGrad",
          "SomeCollege",
          "SomeCollege",
          "SomeCollege",
          "SomeCollege",
          "4YearCollege",
          "NotHighSchoolGrad",
          "2YearCollege",
          "NotHighSchoolGrad",
          "SomeCollege",
          "SomeCollege",
          "NotHighSchoolGrad",
          "SomeCollege",
          "NotHighSchoolGrad",
          "SomeCollege",
          "SomeCollege",
          "SomeCollege",
          "SomeCollege",
          "SomeCollege",
          "NotHighSchoolGrad",
          "SomeCollege",
          "SomeCollege",
          "4YearCollege",
          "4YearCollege",
          "SomeCollege",
          "NotHighSchoolGrad",
          "NotHighSchoolGrad",
          "NotHighSchoolGrad",
          "SomeCollege",
          "SomeCollege",
          "NotHighSchoolGrad",
          "SomeCollege",
          "4YearCollege",
          "SomeCollege",
          "Professional(JD/MD)",
          "SomeCollege",
          "2YearCollege",
          "SomeCollege",
          "SomeCollege",
          "SomeCollege",
          "NotHighSchoolGrad",
          "4YearCollege",
          "SomeCollege",
          "NotHighSchoolGrad",
          "SomeCollege",
          "SomeCollege",
          "SomeCollege",
          "4YearCollege",
          "NotHighSchoolGrad",
          "InHighSchool",
          "SomeCollege",
          "4YearCollege",
          "2YearCollege",
          "SomeCollege",
          "SomeCollege",
          "SomeCollege",
          "SomeCollege",
          "Masters",
          "SomeCollege",
          "SomeCollege",
          "NotHighSchoolGrad",
          "SomeCollege",
          "SomeCollege",
          "NotHighSchoolGrad",
          "SomeCollege",
          "4YearCollege",
          "2YearCollege",
          "NotHighSchoolGrad",
          "SomeCollege",
          "SomeCollege",
          "SomeCollege",
          "SomeCollege",
          "NotHighSchoolGrad",
          "NotHighSchoolGrad",
          "SomeCollege",
          "SomeCollege",
          "4YearCollege",
          "SomeCollege",
          "SomeCollege",
          "SomeCollege",
          "NotHighSchoolGrad",
          "SomeCollege",
          "SomeCollege",
          "4YearCollege",
          "4YearCollege",
          "IDK",
          "SomeCollege",
          "Masters",
          "4YearCollege",
          "4YearCollege",
          "4YearCollege",
          "4YearCollege",
          "2YearCollege",
          "SomeCollege",
          "2YearCollege",
          "NotHighSchoolGrad",
          "SomeCollege",
          "SomeCollege",
          "4YearCollege",
          "SomeCollege",
          "SomeCollege",
          "NotHighSchoolGrad",
          "SomeCollege",
          "4YearCollege",
          "4YearCollege",
          "SomeCollege",
          "4YearCollege",
          "4YearCollege",
          "SomeCollege",
          "SomeCollege",
          "SomeCollege",
          "SomeCollege",
          "SomeCollege",
          "4YearCollege",
          "NotHighSchoolGrad",
          "2YearCollege",
          "2YearCollege",
          "4YearCollege",
          "HighSchoolGrad",
          "4YearCollege",
          "SomeCollege",
          "4YearCollege",
          "4YearCollege",
          "4YearCollege",
          "InHighSchool",
          "NotHighSchoolGrad",
          "NotHighSchoolGrad",
          "SomeCollege",
          "InHighSchool",
          "Masters",
          "4YearCollege",
          "NotHighSchoolGrad",
          "4YearCollege",
          "4YearCollege",
          "2YearCollege",
          "NotHighSchoolGrad",
          "4YearCollege",
          "SomeCollege",
          "2YearCollege",
          "SomeCollege",
          "SomeCollege",
          "SomeCollege",
          "2YearCollege",
          "SomeCollege",
          "NotHighSchoolGrad",
          "SomeCollege"
         ],
         "xaxis": "x",
         "yaxis": "y"
        },
        {
         "alignmentgroup": "True",
         "bingroup": "x",
         "hoverlabel": {
          "namelength": 0
         },
         "hovertemplate": "Voted=0<br>USAEducation_Groups=%{x}<br>count=%{y}",
         "legendgroup": "Voted=0",
         "marker": {
          "color": "#EF553B"
         },
         "name": "Voted=0",
         "offsetgroup": "Voted=0",
         "orientation": "v",
         "showlegend": true,
         "type": "histogram",
         "x": [
          "InHighSchool",
          "NotHighSchoolGrad",
          "4YearCollege",
          "InHighSchool",
          "4YearCollege",
          "InHighSchool",
          "4YearCollege",
          "NotHighSchoolGrad",
          "NotHighSchoolGrad",
          "2YearCollege",
          "2YearCollege",
          "4YearCollege",
          "InHighSchool",
          "NotHighSchoolGrad",
          "IDK",
          "4YearCollege",
          "NotHighSchoolGrad",
          "SomeCollege",
          "NotHighSchoolGrad",
          "SomeCollege",
          "NotHighSchoolGrad",
          "SomeCollege",
          "Doctoral",
          "2YearCollege",
          "SomeCollege",
          "NotHighSchoolGrad",
          "4YearCollege",
          "4YearCollege",
          "Masters",
          "SomeCollege",
          "4YearCollege",
          "NotHighSchoolGrad",
          "SomeCollege",
          "4YearCollege",
          "4YearCollege",
          "SomeCollege",
          "SomeCollege",
          "InHighSchool",
          "InHighSchool",
          "SomeCollege",
          "SomeCollege",
          "2YearCollege",
          "InHighSchool",
          "NotHighSchoolGrad",
          "SomeCollege",
          "SomeCollege",
          "SomeCollege",
          "NotHighSchoolGrad",
          "NotHighSchoolGrad",
          "4YearCollege",
          "SomeCollege",
          "SomeCollege",
          "InHighSchool",
          "SomeCollege",
          "InHighSchool",
          "InHighSchool",
          "SomeCollege",
          "SomeCollege",
          "SomeCollege",
          "SomeCollege",
          "4YearCollege",
          "4YearCollege",
          "SomeCollege",
          "SomeCollege",
          "SomeCollege",
          "SomeCollege",
          "NotHighSchoolGrad",
          "SomeCollege",
          "HighSchoolGrad",
          "NotHighSchoolGrad",
          "4YearCollege",
          "4YearCollege",
          "SomeCollege",
          "InHighSchool",
          "NotHighSchoolGrad",
          "NotHighSchoolGrad",
          "NotHighSchoolGrad",
          "2YearCollege",
          "InHighSchool",
          "InHighSchool",
          "2YearCollege",
          "NotHighSchoolGrad",
          "SomeCollege",
          "NotHighSchoolGrad",
          "SomeCollege",
          "4YearCollege",
          "NotHighSchoolGrad",
          "SomeCollege",
          "NotHighSchoolGrad",
          "SomeCollege",
          "2YearCollege",
          "InHighSchool",
          "InHighSchool",
          "NotHighSchoolGrad",
          "NotHighSchoolGrad",
          "SomeCollege",
          "NotHighSchoolGrad",
          "InHighSchool",
          "SomeCollege",
          "4YearCollege",
          "InHighSchool",
          "NotHighSchoolGrad",
          "NotHighSchoolGrad",
          "HighSchoolGrad",
          "SomeCollege",
          "NotHighSchoolGrad",
          "NotHighSchoolGrad",
          "Masters",
          "SomeCollege",
          "Other",
          "SomeCollege",
          "SomeCollege",
          "SomeCollege",
          "SomeCollege",
          "NotHighSchoolGrad",
          "SomeCollege",
          "NotHighSchoolGrad",
          "SomeCollege",
          "SomeCollege",
          "Masters",
          "4YearCollege",
          "SomeCollege",
          "NotHighSchoolGrad",
          "Masters",
          "SomeCollege",
          "4YearCollege",
          "NotHighSchoolGrad",
          "NotHighSchoolGrad",
          "2YearCollege",
          "SomeCollege",
          "NotHighSchoolGrad",
          "NotHighSchoolGrad",
          "NotHighSchoolGrad",
          "NotHighSchoolGrad",
          "Doctoral",
          "SomeCollege",
          "SomeCollege",
          "NotHighSchoolGrad",
          "2YearCollege",
          "NotHighSchoolGrad",
          "NotHighSchoolGrad",
          "4YearCollege",
          "SomeCollege",
          "4YearCollege",
          "2YearCollege",
          "SomeCollege",
          "SomeCollege",
          "Masters",
          "SomeCollege",
          "4YearCollege",
          "SomeCollege",
          "2YearCollege",
          "NotHighSchoolGrad",
          "SomeCollege",
          "NotHighSchoolGrad",
          "SomeCollege",
          "SomeCollege",
          "SomeCollege",
          "SomeCollege",
          "NotHighSchoolGrad",
          "NotHighSchoolGrad",
          "SomeCollege",
          "SomeCollege",
          "NotHighSchoolGrad",
          "4YearCollege",
          "NotHighSchoolGrad",
          "SomeCollege",
          "NotHighSchoolGrad",
          "NotHighSchoolGrad",
          "4YearCollege",
          "SomeCollege",
          "NotHighSchoolGrad",
          "2YearCollege",
          "4YearCollege",
          "SomeCollege",
          "NotHighSchoolGrad",
          "InHighSchool",
          "NotHighSchoolGrad",
          "InHighSchool",
          "SomeCollege",
          "NotHighSchoolGrad",
          "4YearCollege",
          "SomeCollege",
          "4YearCollege",
          "NotHighSchoolGrad",
          "NotHighSchoolGrad",
          "4YearCollege",
          "4YearCollege",
          "InHighSchool",
          "2YearCollege",
          "InHighSchool",
          "Masters",
          "SomeCollege",
          "4YearCollege",
          "SomeCollege",
          "2YearCollege",
          "HighSchoolGrad",
          "NotHighSchoolGrad",
          "2YearCollege",
          "4YearCollege",
          "SomeCollege",
          "2YearCollege",
          "SomeCollege",
          "4YearCollege",
          "NotHighSchoolGrad",
          "NotHighSchoolGrad",
          "SomeCollege",
          "SomeCollege",
          "InHighSchool",
          "NotHighSchoolGrad",
          "HighSchoolGrad",
          "NotHighSchoolGrad",
          "NotHighSchoolGrad",
          "SomeCollege",
          "4YearCollege",
          "NotHighSchoolGrad",
          "SomeCollege",
          "NotHighSchoolGrad",
          "4YearCollege",
          "InHighSchool",
          "NotHighSchoolGrad",
          "4YearCollege",
          "NotHighSchoolGrad",
          "4YearCollege",
          "NotHighSchoolGrad",
          "HighSchoolGrad",
          "SomeCollege",
          "InHighSchool",
          "SomeCollege",
          "NotHighSchoolGrad",
          "4YearCollege",
          "NotHighSchoolGrad",
          "SomeCollege",
          "SomeCollege",
          "InHighSchool",
          "SomeCollege",
          "NotHighSchoolGrad",
          "SomeCollege",
          "Masters",
          "SomeCollege",
          "SomeCollege",
          "SomeCollege",
          "InHighSchool",
          "Other",
          "SomeCollege",
          "SomeCollege",
          "SomeCollege",
          "Masters",
          "SomeCollege",
          "SomeCollege",
          "SomeCollege",
          "NotHighSchoolGrad",
          "SomeCollege",
          "SomeCollege",
          "4YearCollege",
          "SomeCollege",
          "4YearCollege",
          "InHighSchool",
          "IDK",
          "SomeCollege",
          "SomeCollege",
          "SomeCollege",
          "SomeCollege",
          "SomeCollege",
          "Other",
          "SomeCollege",
          "SomeCollege",
          "4YearCollege",
          "SomeCollege",
          "SomeCollege",
          "SomeCollege",
          "NotHighSchoolGrad",
          "NotHighSchoolGrad",
          "HighSchoolGrad",
          "NotHighSchoolGrad",
          "4YearCollege",
          "NotHighSchoolGrad",
          "NotHighSchoolGrad",
          "NotHighSchoolGrad",
          "HighSchoolGrad",
          "2YearCollege",
          "NotHighSchoolGrad",
          "SomeCollege",
          "NotHighSchoolGrad",
          "HighSchoolGrad",
          "NotHighSchoolGrad",
          "NotHighSchoolGrad",
          "SomeCollege",
          "Masters",
          "NotHighSchoolGrad",
          "SomeCollege",
          "2YearCollege",
          "SomeCollege",
          "4YearCollege",
          "4YearCollege",
          "2YearCollege",
          "Masters",
          "4YearCollege",
          "SomeCollege",
          "2YearCollege",
          "NotHighSchoolGrad",
          "SomeCollege",
          "SomeCollege",
          "2YearCollege",
          "SomeCollege",
          "SomeCollege",
          "NotHighSchoolGrad",
          "4YearCollege",
          "NotHighSchoolGrad",
          "SomeCollege",
          "SomeCollege",
          "4YearCollege",
          "NotHighSchoolGrad",
          "SomeCollege",
          "InHighSchool",
          "SomeCollege",
          "InHighSchool",
          "4YearCollege",
          "SomeCollege",
          "NotHighSchoolGrad",
          "NotHighSchoolGrad",
          "SomeCollege",
          "SomeCollege",
          "NotHighSchoolGrad",
          "SomeCollege",
          "NotHighSchoolGrad",
          "2YearCollege",
          "2YearCollege",
          "2YearCollege",
          "4YearCollege",
          "SomeCollege",
          "InHighSchool",
          "InHighSchool",
          "SomeCollege",
          "NotHighSchoolGrad",
          "InHighSchool",
          "InHighSchool",
          "InHighSchool",
          "4YearCollege",
          "SomeCollege",
          "4YearCollege",
          "SomeCollege",
          "NotHighSchoolGrad",
          "NotHighSchoolGrad",
          "SomeCollege",
          "NotHighSchoolGrad",
          "NotHighSchoolGrad",
          "NotHighSchoolGrad",
          "4YearCollege",
          "4YearCollege",
          "Masters",
          "SomeCollege",
          "InHighSchool",
          "SomeCollege",
          "SomeCollege",
          "2YearCollege",
          "HighSchoolGrad",
          "NotHighSchoolGrad",
          "HighSchoolGrad",
          "NotHighSchoolGrad",
          "NotHighSchoolGrad",
          "SomeCollege",
          "InHighSchool",
          "SomeCollege",
          "NotHighSchoolGrad",
          "NotHighSchoolGrad",
          "4YearCollege",
          "InHighSchool",
          "2YearCollege",
          "SomeCollege",
          "NotHighSchoolGrad",
          "NotHighSchoolGrad",
          "InHighSchool",
          "SomeCollege",
          "Other",
          "4YearCollege",
          "NotHighSchoolGrad",
          "NotHighSchoolGrad",
          "NotHighSchoolGrad",
          "SomeCollege",
          "NotHighSchoolGrad",
          "SomeCollege",
          "SomeCollege",
          "NotHighSchoolGrad",
          "2YearCollege",
          "SomeCollege",
          "SomeCollege",
          "Other",
          "InHighSchool",
          "NotHighSchoolGrad",
          "SomeCollege",
          "SomeCollege",
          "HighSchoolGrad",
          "Other",
          "NotHighSchoolGrad",
          "SomeCollege",
          "InHighSchool",
          "HighSchoolGrad",
          "NotHighSchoolGrad",
          "SomeCollege",
          "NotHighSchoolGrad",
          "SomeCollege",
          "NotHighSchoolGrad",
          "NotHighSchoolGrad",
          "InHighSchool",
          "SomeCollege",
          "SomeCollege",
          "NotHighSchoolGrad",
          "InHighSchool",
          "SomeCollege",
          "2YearCollege",
          "NotHighSchoolGrad",
          "SomeCollege",
          "SomeCollege",
          "SomeCollege",
          "NotHighSchoolGrad",
          "NotHighSchoolGrad",
          "NotHighSchoolGrad",
          "SomeCollege",
          "NotHighSchoolGrad",
          "NotHighSchoolGrad",
          "SomeCollege",
          "IDK",
          "2YearCollege",
          "SomeCollege",
          "2YearCollege",
          "InHighSchool",
          "NotHighSchoolGrad",
          "SomeCollege",
          "InHighSchool",
          "NotHighSchoolGrad",
          "NotHighSchoolGrad",
          "HighSchoolGrad",
          "HighSchoolGrad",
          "NotHighSchoolGrad",
          "InHighSchool",
          "SomeCollege",
          "SomeCollege",
          "SomeCollege",
          "HighSchoolGrad",
          "2YearCollege",
          "SomeCollege",
          "NotHighSchoolGrad",
          "SomeCollege",
          "2YearCollege",
          "NotHighSchoolGrad",
          "SomeCollege",
          "SomeCollege",
          "4YearCollege",
          "InHighSchool",
          "InHighSchool",
          "SomeCollege",
          "SomeCollege",
          "SomeCollege",
          "SomeCollege",
          "InHighSchool",
          "NotHighSchoolGrad",
          "NotHighSchoolGrad",
          "InHighSchool"
         ],
         "xaxis": "x",
         "yaxis": "y"
        }
       ],
       "layout": {
        "barmode": "group",
        "barnorm": "percent",
        "height": 600,
        "legend": {
         "tracegroupgap": 0
        },
        "margin": {
         "t": 60
        },
        "template": {
         "data": {
          "bar": [
           {
            "error_x": {
             "color": "#2a3f5f"
            },
            "error_y": {
             "color": "#2a3f5f"
            },
            "marker": {
             "line": {
              "color": "#E5ECF6",
              "width": 0.5
             }
            },
            "type": "bar"
           }
          ],
          "barpolar": [
           {
            "marker": {
             "line": {
              "color": "#E5ECF6",
              "width": 0.5
             }
            },
            "type": "barpolar"
           }
          ],
          "carpet": [
           {
            "aaxis": {
             "endlinecolor": "#2a3f5f",
             "gridcolor": "white",
             "linecolor": "white",
             "minorgridcolor": "white",
             "startlinecolor": "#2a3f5f"
            },
            "baxis": {
             "endlinecolor": "#2a3f5f",
             "gridcolor": "white",
             "linecolor": "white",
             "minorgridcolor": "white",
             "startlinecolor": "#2a3f5f"
            },
            "type": "carpet"
           }
          ],
          "choropleth": [
           {
            "colorbar": {
             "outlinewidth": 0,
             "ticks": ""
            },
            "type": "choropleth"
           }
          ],
          "contour": [
           {
            "colorbar": {
             "outlinewidth": 0,
             "ticks": ""
            },
            "colorscale": [
             [
              0,
              "#0d0887"
             ],
             [
              0.1111111111111111,
              "#46039f"
             ],
             [
              0.2222222222222222,
              "#7201a8"
             ],
             [
              0.3333333333333333,
              "#9c179e"
             ],
             [
              0.4444444444444444,
              "#bd3786"
             ],
             [
              0.5555555555555556,
              "#d8576b"
             ],
             [
              0.6666666666666666,
              "#ed7953"
             ],
             [
              0.7777777777777778,
              "#fb9f3a"
             ],
             [
              0.8888888888888888,
              "#fdca26"
             ],
             [
              1,
              "#f0f921"
             ]
            ],
            "type": "contour"
           }
          ],
          "contourcarpet": [
           {
            "colorbar": {
             "outlinewidth": 0,
             "ticks": ""
            },
            "type": "contourcarpet"
           }
          ],
          "heatmap": [
           {
            "colorbar": {
             "outlinewidth": 0,
             "ticks": ""
            },
            "colorscale": [
             [
              0,
              "#0d0887"
             ],
             [
              0.1111111111111111,
              "#46039f"
             ],
             [
              0.2222222222222222,
              "#7201a8"
             ],
             [
              0.3333333333333333,
              "#9c179e"
             ],
             [
              0.4444444444444444,
              "#bd3786"
             ],
             [
              0.5555555555555556,
              "#d8576b"
             ],
             [
              0.6666666666666666,
              "#ed7953"
             ],
             [
              0.7777777777777778,
              "#fb9f3a"
             ],
             [
              0.8888888888888888,
              "#fdca26"
             ],
             [
              1,
              "#f0f921"
             ]
            ],
            "type": "heatmap"
           }
          ],
          "heatmapgl": [
           {
            "colorbar": {
             "outlinewidth": 0,
             "ticks": ""
            },
            "colorscale": [
             [
              0,
              "#0d0887"
             ],
             [
              0.1111111111111111,
              "#46039f"
             ],
             [
              0.2222222222222222,
              "#7201a8"
             ],
             [
              0.3333333333333333,
              "#9c179e"
             ],
             [
              0.4444444444444444,
              "#bd3786"
             ],
             [
              0.5555555555555556,
              "#d8576b"
             ],
             [
              0.6666666666666666,
              "#ed7953"
             ],
             [
              0.7777777777777778,
              "#fb9f3a"
             ],
             [
              0.8888888888888888,
              "#fdca26"
             ],
             [
              1,
              "#f0f921"
             ]
            ],
            "type": "heatmapgl"
           }
          ],
          "histogram": [
           {
            "marker": {
             "colorbar": {
              "outlinewidth": 0,
              "ticks": ""
             }
            },
            "type": "histogram"
           }
          ],
          "histogram2d": [
           {
            "colorbar": {
             "outlinewidth": 0,
             "ticks": ""
            },
            "colorscale": [
             [
              0,
              "#0d0887"
             ],
             [
              0.1111111111111111,
              "#46039f"
             ],
             [
              0.2222222222222222,
              "#7201a8"
             ],
             [
              0.3333333333333333,
              "#9c179e"
             ],
             [
              0.4444444444444444,
              "#bd3786"
             ],
             [
              0.5555555555555556,
              "#d8576b"
             ],
             [
              0.6666666666666666,
              "#ed7953"
             ],
             [
              0.7777777777777778,
              "#fb9f3a"
             ],
             [
              0.8888888888888888,
              "#fdca26"
             ],
             [
              1,
              "#f0f921"
             ]
            ],
            "type": "histogram2d"
           }
          ],
          "histogram2dcontour": [
           {
            "colorbar": {
             "outlinewidth": 0,
             "ticks": ""
            },
            "colorscale": [
             [
              0,
              "#0d0887"
             ],
             [
              0.1111111111111111,
              "#46039f"
             ],
             [
              0.2222222222222222,
              "#7201a8"
             ],
             [
              0.3333333333333333,
              "#9c179e"
             ],
             [
              0.4444444444444444,
              "#bd3786"
             ],
             [
              0.5555555555555556,
              "#d8576b"
             ],
             [
              0.6666666666666666,
              "#ed7953"
             ],
             [
              0.7777777777777778,
              "#fb9f3a"
             ],
             [
              0.8888888888888888,
              "#fdca26"
             ],
             [
              1,
              "#f0f921"
             ]
            ],
            "type": "histogram2dcontour"
           }
          ],
          "mesh3d": [
           {
            "colorbar": {
             "outlinewidth": 0,
             "ticks": ""
            },
            "type": "mesh3d"
           }
          ],
          "parcoords": [
           {
            "line": {
             "colorbar": {
              "outlinewidth": 0,
              "ticks": ""
             }
            },
            "type": "parcoords"
           }
          ],
          "scatter": [
           {
            "marker": {
             "colorbar": {
              "outlinewidth": 0,
              "ticks": ""
             }
            },
            "type": "scatter"
           }
          ],
          "scatter3d": [
           {
            "line": {
             "colorbar": {
              "outlinewidth": 0,
              "ticks": ""
             }
            },
            "marker": {
             "colorbar": {
              "outlinewidth": 0,
              "ticks": ""
             }
            },
            "type": "scatter3d"
           }
          ],
          "scattercarpet": [
           {
            "marker": {
             "colorbar": {
              "outlinewidth": 0,
              "ticks": ""
             }
            },
            "type": "scattercarpet"
           }
          ],
          "scattergeo": [
           {
            "marker": {
             "colorbar": {
              "outlinewidth": 0,
              "ticks": ""
             }
            },
            "type": "scattergeo"
           }
          ],
          "scattergl": [
           {
            "marker": {
             "colorbar": {
              "outlinewidth": 0,
              "ticks": ""
             }
            },
            "type": "scattergl"
           }
          ],
          "scattermapbox": [
           {
            "marker": {
             "colorbar": {
              "outlinewidth": 0,
              "ticks": ""
             }
            },
            "type": "scattermapbox"
           }
          ],
          "scatterpolar": [
           {
            "marker": {
             "colorbar": {
              "outlinewidth": 0,
              "ticks": ""
             }
            },
            "type": "scatterpolar"
           }
          ],
          "scatterpolargl": [
           {
            "marker": {
             "colorbar": {
              "outlinewidth": 0,
              "ticks": ""
             }
            },
            "type": "scatterpolargl"
           }
          ],
          "scatterternary": [
           {
            "marker": {
             "colorbar": {
              "outlinewidth": 0,
              "ticks": ""
             }
            },
            "type": "scatterternary"
           }
          ],
          "surface": [
           {
            "colorbar": {
             "outlinewidth": 0,
             "ticks": ""
            },
            "colorscale": [
             [
              0,
              "#0d0887"
             ],
             [
              0.1111111111111111,
              "#46039f"
             ],
             [
              0.2222222222222222,
              "#7201a8"
             ],
             [
              0.3333333333333333,
              "#9c179e"
             ],
             [
              0.4444444444444444,
              "#bd3786"
             ],
             [
              0.5555555555555556,
              "#d8576b"
             ],
             [
              0.6666666666666666,
              "#ed7953"
             ],
             [
              0.7777777777777778,
              "#fb9f3a"
             ],
             [
              0.8888888888888888,
              "#fdca26"
             ],
             [
              1,
              "#f0f921"
             ]
            ],
            "type": "surface"
           }
          ],
          "table": [
           {
            "cells": {
             "fill": {
              "color": "#EBF0F8"
             },
             "line": {
              "color": "white"
             }
            },
            "header": {
             "fill": {
              "color": "#C8D4E3"
             },
             "line": {
              "color": "white"
             }
            },
            "type": "table"
           }
          ]
         },
         "layout": {
          "annotationdefaults": {
           "arrowcolor": "#2a3f5f",
           "arrowhead": 0,
           "arrowwidth": 1
          },
          "colorscale": {
           "diverging": [
            [
             0,
             "#8e0152"
            ],
            [
             0.1,
             "#c51b7d"
            ],
            [
             0.2,
             "#de77ae"
            ],
            [
             0.3,
             "#f1b6da"
            ],
            [
             0.4,
             "#fde0ef"
            ],
            [
             0.5,
             "#f7f7f7"
            ],
            [
             0.6,
             "#e6f5d0"
            ],
            [
             0.7,
             "#b8e186"
            ],
            [
             0.8,
             "#7fbc41"
            ],
            [
             0.9,
             "#4d9221"
            ],
            [
             1,
             "#276419"
            ]
           ],
           "sequential": [
            [
             0,
             "#0d0887"
            ],
            [
             0.1111111111111111,
             "#46039f"
            ],
            [
             0.2222222222222222,
             "#7201a8"
            ],
            [
             0.3333333333333333,
             "#9c179e"
            ],
            [
             0.4444444444444444,
             "#bd3786"
            ],
            [
             0.5555555555555556,
             "#d8576b"
            ],
            [
             0.6666666666666666,
             "#ed7953"
            ],
            [
             0.7777777777777778,
             "#fb9f3a"
            ],
            [
             0.8888888888888888,
             "#fdca26"
            ],
            [
             1,
             "#f0f921"
            ]
           ],
           "sequentialminus": [
            [
             0,
             "#0d0887"
            ],
            [
             0.1111111111111111,
             "#46039f"
            ],
            [
             0.2222222222222222,
             "#7201a8"
            ],
            [
             0.3333333333333333,
             "#9c179e"
            ],
            [
             0.4444444444444444,
             "#bd3786"
            ],
            [
             0.5555555555555556,
             "#d8576b"
            ],
            [
             0.6666666666666666,
             "#ed7953"
            ],
            [
             0.7777777777777778,
             "#fb9f3a"
            ],
            [
             0.8888888888888888,
             "#fdca26"
            ],
            [
             1,
             "#f0f921"
            ]
           ]
          },
          "colorway": [
           "#636efa",
           "#EF553B",
           "#00cc96",
           "#ab63fa",
           "#FFA15A",
           "#19d3f3",
           "#FF6692",
           "#B6E880",
           "#FF97FF",
           "#FECB52"
          ],
          "font": {
           "color": "#2a3f5f"
          },
          "geo": {
           "bgcolor": "white",
           "lakecolor": "white",
           "landcolor": "#E5ECF6",
           "showlakes": true,
           "showland": true,
           "subunitcolor": "white"
          },
          "hoverlabel": {
           "align": "left"
          },
          "hovermode": "closest",
          "mapbox": {
           "style": "light"
          },
          "paper_bgcolor": "white",
          "plot_bgcolor": "#E5ECF6",
          "polar": {
           "angularaxis": {
            "gridcolor": "white",
            "linecolor": "white",
            "ticks": ""
           },
           "bgcolor": "#E5ECF6",
           "radialaxis": {
            "gridcolor": "white",
            "linecolor": "white",
            "ticks": ""
           }
          },
          "scene": {
           "xaxis": {
            "backgroundcolor": "#E5ECF6",
            "gridcolor": "white",
            "gridwidth": 2,
            "linecolor": "white",
            "showbackground": true,
            "ticks": "",
            "zerolinecolor": "white"
           },
           "yaxis": {
            "backgroundcolor": "#E5ECF6",
            "gridcolor": "white",
            "gridwidth": 2,
            "linecolor": "white",
            "showbackground": true,
            "ticks": "",
            "zerolinecolor": "white"
           },
           "zaxis": {
            "backgroundcolor": "#E5ECF6",
            "gridcolor": "white",
            "gridwidth": 2,
            "linecolor": "white",
            "showbackground": true,
            "ticks": "",
            "zerolinecolor": "white"
           }
          },
          "shapedefaults": {
           "line": {
            "color": "#2a3f5f"
           }
          },
          "ternary": {
           "aaxis": {
            "gridcolor": "white",
            "linecolor": "white",
            "ticks": ""
           },
           "baxis": {
            "gridcolor": "white",
            "linecolor": "white",
            "ticks": ""
           },
           "bgcolor": "#E5ECF6",
           "caxis": {
            "gridcolor": "white",
            "linecolor": "white",
            "ticks": ""
           }
          },
          "title": {
           "x": 0.05
          },
          "xaxis": {
           "automargin": true,
           "gridcolor": "white",
           "linecolor": "white",
           "ticks": "",
           "zerolinecolor": "white",
           "zerolinewidth": 2
          },
          "yaxis": {
           "automargin": true,
           "gridcolor": "white",
           "linecolor": "white",
           "ticks": "",
           "zerolinecolor": "white",
           "zerolinewidth": 2
          }
         }
        },
        "xaxis": {
         "anchor": "y",
         "categoryarray": [
          "IDK",
          "Other",
          "NotHighSchoolGrad",
          "InHighSchool",
          "HighSchoolGrad",
          "SomeCollege",
          "2YearCollege",
          "4YearCollege",
          "Masters",
          "Professional(JD/MD)",
          "Doctoral"
         ],
         "categoryorder": "array",
         "domain": [
          0,
          0.98
         ],
         "title": {
          "text": "USAEducation_Groups"
         }
        },
        "yaxis": {
         "anchor": "x",
         "domain": [
          0,
          1
         ],
         "title": {
          "text": "Percent"
         }
        }
       }
      },
      "text/html": [
       "<div>\n",
       "        \n",
       "        \n",
       "            <div id=\"0cadd279-9089-41b3-b478-385b9d2ed038\" class=\"plotly-graph-div\" style=\"height:600px; width:100%;\"></div>\n",
       "            <script type=\"text/javascript\">\n",
       "                require([\"plotly\"], function(Plotly) {\n",
       "                    window.PLOTLYENV=window.PLOTLYENV || {};\n",
       "                    \n",
       "                if (document.getElementById(\"0cadd279-9089-41b3-b478-385b9d2ed038\")) {\n",
       "                    Plotly.newPlot(\n",
       "                        '0cadd279-9089-41b3-b478-385b9d2ed038',\n",
       "                        [{\"alignmentgroup\": \"True\", \"bingroup\": \"x\", \"hoverlabel\": {\"namelength\": 0}, \"hovertemplate\": \"Voted=1<br>USAEducation_Groups=%{x}<br>count=%{y}\", \"legendgroup\": \"Voted=1\", \"marker\": {\"color\": \"#636EFA\"}, \"name\": \"Voted=1\", \"offsetgroup\": \"Voted=1\", \"orientation\": \"v\", \"showlegend\": true, \"type\": \"histogram\", \"x\": [\"NotHighSchoolGrad\", \"SomeCollege\", \"NotHighSchoolGrad\", \"4YearCollege\", \"SomeCollege\", \"2YearCollege\", \"2YearCollege\", \"Doctoral\", \"SomeCollege\", \"2YearCollege\", \"SomeCollege\", \"SomeCollege\", \"HighSchoolGrad\", \"Professional(JD/MD)\", \"4YearCollege\", \"SomeCollege\", \"4YearCollege\", \"SomeCollege\", \"4YearCollege\", \"4YearCollege\", \"4YearCollege\", \"4YearCollege\", \"4YearCollege\", \"NotHighSchoolGrad\", \"4YearCollege\", \"2YearCollege\", \"NotHighSchoolGrad\", \"NotHighSchoolGrad\", \"NotHighSchoolGrad\", \"4YearCollege\", \"4YearCollege\", \"4YearCollege\", \"2YearCollege\", \"NotHighSchoolGrad\", \"InHighSchool\", \"4YearCollege\", \"NotHighSchoolGrad\", \"2YearCollege\", \"SomeCollege\", \"Masters\", \"2YearCollege\", \"HighSchoolGrad\", \"4YearCollege\", \"Professional(JD/MD)\", \"4YearCollege\", \"4YearCollege\", \"SomeCollege\", \"4YearCollege\", \"NotHighSchoolGrad\", \"4YearCollege\", \"Masters\", \"NotHighSchoolGrad\", \"4YearCollege\", \"SomeCollege\", \"4YearCollege\", \"NotHighSchoolGrad\", \"4YearCollege\", \"SomeCollege\", \"SomeCollege\", \"4YearCollege\", \"2YearCollege\", \"4YearCollege\", \"SomeCollege\", \"2YearCollege\", \"NotHighSchoolGrad\", \"NotHighSchoolGrad\", \"SomeCollege\", \"4YearCollege\", \"4YearCollege\", \"2YearCollege\", \"4YearCollege\", \"SomeCollege\", \"4YearCollege\", \"4YearCollege\", \"InHighSchool\", \"NotHighSchoolGrad\", \"SomeCollege\", \"SomeCollege\", \"4YearCollege\", \"2YearCollege\", \"SomeCollege\", \"SomeCollege\", \"NotHighSchoolGrad\", \"SomeCollege\", \"4YearCollege\", \"4YearCollege\", \"4YearCollege\", \"4YearCollege\", \"4YearCollege\", \"SomeCollege\", \"SomeCollege\", \"4YearCollege\", \"4YearCollege\", \"SomeCollege\", \"4YearCollege\", \"4YearCollege\", \"SomeCollege\", \"NotHighSchoolGrad\", \"2YearCollege\", \"SomeCollege\", \"Masters\", \"4YearCollege\", \"Masters\", \"4YearCollege\", \"NotHighSchoolGrad\", \"4YearCollege\", \"SomeCollege\", \"2YearCollege\", \"2YearCollege\", \"4YearCollege\", \"2YearCollege\", \"4YearCollege\", \"4YearCollege\", \"Masters\", \"SomeCollege\", \"NotHighSchoolGrad\", \"SomeCollege\", \"SomeCollege\", \"InHighSchool\", \"SomeCollege\", \"NotHighSchoolGrad\", \"4YearCollege\", \"4YearCollege\", \"SomeCollege\", \"4YearCollege\", \"4YearCollege\", \"NotHighSchoolGrad\", \"Masters\", \"4YearCollege\", \"SomeCollege\", \"SomeCollege\", \"SomeCollege\", \"SomeCollege\", \"2YearCollege\", \"SomeCollege\", \"NotHighSchoolGrad\", \"4YearCollege\", \"4YearCollege\", \"SomeCollege\", \"NotHighSchoolGrad\", \"NotHighSchoolGrad\", \"NotHighSchoolGrad\", \"Masters\", \"4YearCollege\", \"SomeCollege\", \"SomeCollege\", \"SomeCollege\", \"2YearCollege\", \"Masters\", \"SomeCollege\", \"4YearCollege\", \"SomeCollege\", \"4YearCollege\", \"SomeCollege\", \"NotHighSchoolGrad\", \"NotHighSchoolGrad\", \"4YearCollege\", \"Masters\", \"4YearCollege\", \"4YearCollege\", \"4YearCollege\", \"Masters\", \"Other\", \"2YearCollege\", \"2YearCollege\", \"SomeCollege\", \"SomeCollege\", \"SomeCollege\", \"4YearCollege\", \"2YearCollege\", \"SomeCollege\", \"4YearCollege\", \"NotHighSchoolGrad\", \"4YearCollege\", \"NotHighSchoolGrad\", \"4YearCollege\", \"SomeCollege\", \"SomeCollege\", \"4YearCollege\", \"HighSchoolGrad\", \"HighSchoolGrad\", \"InHighSchool\", \"SomeCollege\", \"SomeCollege\", \"SomeCollege\", \"Doctoral\", \"Professional(JD/MD)\", \"SomeCollege\", \"4YearCollege\", \"4YearCollege\", \"Masters\", \"4YearCollege\", \"4YearCollege\", \"SomeCollege\", \"4YearCollege\", \"SomeCollege\", \"2YearCollege\", \"2YearCollege\", \"SomeCollege\", \"2YearCollege\", \"SomeCollege\", \"SomeCollege\", \"SomeCollege\", \"Masters\", \"SomeCollege\", \"4YearCollege\", \"SomeCollege\", \"4YearCollege\", \"4YearCollege\", \"4YearCollege\", \"4YearCollege\", \"SomeCollege\", \"4YearCollege\", \"4YearCollege\", \"4YearCollege\", \"4YearCollege\", \"4YearCollege\", \"NotHighSchoolGrad\", \"NotHighSchoolGrad\", \"4YearCollege\", \"2YearCollege\", \"Masters\", \"4YearCollege\", \"4YearCollege\", \"NotHighSchoolGrad\", \"4YearCollege\", \"2YearCollege\", \"NotHighSchoolGrad\", \"4YearCollege\", \"4YearCollege\", \"SomeCollege\", \"SomeCollege\", \"4YearCollege\", \"Masters\", \"2YearCollege\", \"NotHighSchoolGrad\", \"4YearCollege\", \"Masters\", \"4YearCollege\", \"2YearCollege\", \"4YearCollege\", \"NotHighSchoolGrad\", \"2YearCollege\", \"Masters\", \"4YearCollege\", \"SomeCollege\", \"4YearCollege\", \"NotHighSchoolGrad\", \"2YearCollege\", \"4YearCollege\", \"4YearCollege\", \"SomeCollege\", \"4YearCollege\", \"4YearCollege\", \"Masters\", \"2YearCollege\", \"4YearCollege\", \"2YearCollege\", \"NotHighSchoolGrad\", \"4YearCollege\", \"4YearCollege\", \"4YearCollege\", \"NotHighSchoolGrad\", \"SomeCollege\", \"SomeCollege\", \"4YearCollege\", \"Masters\", \"SomeCollege\", \"4YearCollege\", \"2YearCollege\", \"4YearCollege\", \"4YearCollege\", \"4YearCollege\", \"4YearCollege\", \"SomeCollege\", \"SomeCollege\", \"SomeCollege\", \"4YearCollege\", \"4YearCollege\", \"4YearCollege\", \"SomeCollege\", \"4YearCollege\", \"SomeCollege\", \"4YearCollege\", \"SomeCollege\", \"SomeCollege\", \"Other\", \"HighSchoolGrad\", \"SomeCollege\", \"SomeCollege\", \"2YearCollege\", \"4YearCollege\", \"SomeCollege\", \"2YearCollege\", \"Masters\", \"SomeCollege\", \"Masters\", \"4YearCollege\", \"4YearCollege\", \"Masters\", \"4YearCollege\", \"SomeCollege\", \"Masters\", \"SomeCollege\", \"Professional(JD/MD)\", \"2YearCollege\", \"4YearCollege\", \"2YearCollege\", \"Professional(JD/MD)\", \"SomeCollege\", \"SomeCollege\", \"Masters\", \"4YearCollege\", \"4YearCollege\", \"SomeCollege\", \"4YearCollege\", \"Masters\", \"4YearCollege\", \"SomeCollege\", \"4YearCollege\", \"4YearCollege\", \"4YearCollege\", \"4YearCollege\", \"4YearCollege\", \"Professional(JD/MD)\", \"SomeCollege\", \"4YearCollege\", \"4YearCollege\", \"4YearCollege\", \"4YearCollege\", \"SomeCollege\", \"IDK\", \"SomeCollege\", \"4YearCollege\", \"2YearCollege\", \"SomeCollege\", \"Masters\", \"Masters\", \"SomeCollege\", \"4YearCollege\", \"InHighSchool\", \"SomeCollege\", \"SomeCollege\", \"4YearCollege\", \"2YearCollege\", \"SomeCollege\", \"4YearCollege\", \"NotHighSchoolGrad\", \"SomeCollege\", \"InHighSchool\", \"4YearCollege\", \"4YearCollege\", \"4YearCollege\", \"Masters\", \"4YearCollege\", \"SomeCollege\", \"4YearCollege\", \"4YearCollege\", \"NotHighSchoolGrad\", \"SomeCollege\", \"NotHighSchoolGrad\", \"4YearCollege\", \"SomeCollege\", \"4YearCollege\", \"SomeCollege\", \"4YearCollege\", \"4YearCollege\", \"InHighSchool\", \"4YearCollege\", \"SomeCollege\", \"4YearCollege\", \"SomeCollege\", \"4YearCollege\", \"4YearCollege\", \"SomeCollege\", \"4YearCollege\", \"4YearCollege\", \"2YearCollege\", \"4YearCollege\", \"Doctoral\", \"NotHighSchoolGrad\", \"4YearCollege\", \"NotHighSchoolGrad\", \"SomeCollege\", \"4YearCollege\", \"SomeCollege\", \"NotHighSchoolGrad\", \"2YearCollege\", \"4YearCollege\", \"SomeCollege\", \"NotHighSchoolGrad\", \"SomeCollege\", \"4YearCollege\", \"4YearCollege\", \"4YearCollege\", \"4YearCollege\", \"NotHighSchoolGrad\", \"4YearCollege\", \"Professional(JD/MD)\", \"NotHighSchoolGrad\", \"Masters\", \"Professional(JD/MD)\", \"NotHighSchoolGrad\", \"SomeCollege\", \"NotHighSchoolGrad\", \"2YearCollege\", \"SomeCollege\", \"Masters\", \"NotHighSchoolGrad\", \"SomeCollege\", \"SomeCollege\", \"SomeCollege\", \"SomeCollege\", \"NotHighSchoolGrad\", \"NotHighSchoolGrad\", \"4YearCollege\", \"SomeCollege\", \"SomeCollege\", \"SomeCollege\", \"SomeCollege\", \"SomeCollege\", \"2YearCollege\", \"SomeCollege\", \"NotHighSchoolGrad\", \"SomeCollege\", \"4YearCollege\", \"SomeCollege\", \"SomeCollege\", \"4YearCollege\", \"2YearCollege\", \"NotHighSchoolGrad\", \"4YearCollege\", \"SomeCollege\", \"SomeCollege\", \"NotHighSchoolGrad\", \"SomeCollege\", \"4YearCollege\", \"2YearCollege\", \"4YearCollege\", \"4YearCollege\", \"NotHighSchoolGrad\", \"SomeCollege\", \"4YearCollege\", \"NotHighSchoolGrad\", \"SomeCollege\", \"SomeCollege\", \"NotHighSchoolGrad\", \"4YearCollege\", \"Masters\", \"InHighSchool\", \"2YearCollege\", \"SomeCollege\", \"SomeCollege\", \"SomeCollege\", \"4YearCollege\", \"4YearCollege\", \"SomeCollege\", \"4YearCollege\", \"NotHighSchoolGrad\", \"InHighSchool\", \"NotHighSchoolGrad\", \"SomeCollege\", \"NotHighSchoolGrad\", \"NotHighSchoolGrad\", \"4YearCollege\", \"SomeCollege\", \"SomeCollege\", \"InHighSchool\", \"NotHighSchoolGrad\", \"4YearCollege\", \"4YearCollege\", \"NotHighSchoolGrad\", \"NotHighSchoolGrad\", \"SomeCollege\", \"2YearCollege\", \"4YearCollege\", \"HighSchoolGrad\", \"4YearCollege\", \"NotHighSchoolGrad\", \"4YearCollege\", \"4YearCollege\", \"SomeCollege\", \"SomeCollege\", \"SomeCollege\", \"SomeCollege\", \"4YearCollege\", \"HighSchoolGrad\", \"SomeCollege\", \"SomeCollege\", \"2YearCollege\", \"SomeCollege\", \"SomeCollege\", \"4YearCollege\", \"SomeCollege\", \"4YearCollege\", \"4YearCollege\", \"4YearCollege\", \"4YearCollege\", \"4YearCollege\", \"4YearCollege\", \"SomeCollege\", \"4YearCollege\", \"SomeCollege\", \"NotHighSchoolGrad\", \"4YearCollege\", \"Professional(JD/MD)\", \"SomeCollege\", \"4YearCollege\", \"4YearCollege\", \"SomeCollege\", \"SomeCollege\", \"SomeCollege\", \"Doctoral\", \"4YearCollege\", \"SomeCollege\", \"4YearCollege\", \"2YearCollege\", \"4YearCollege\", \"4YearCollege\", \"SomeCollege\", \"2YearCollege\", \"Masters\", \"HighSchoolGrad\", \"SomeCollege\", \"SomeCollege\", \"4YearCollege\", \"Masters\", \"HighSchoolGrad\", \"SomeCollege\", \"SomeCollege\", \"SomeCollege\", \"4YearCollege\", \"Professional(JD/MD)\", \"SomeCollege\", \"Other\", \"NotHighSchoolGrad\", \"4YearCollege\", \"Masters\", \"SomeCollege\", \"SomeCollege\", \"InHighSchool\", \"4YearCollege\", \"SomeCollege\", \"4YearCollege\", \"NotHighSchoolGrad\", \"4YearCollege\", \"SomeCollege\", \"SomeCollege\", \"4YearCollege\", \"2YearCollege\", \"SomeCollege\", \"4YearCollege\", \"SomeCollege\", \"4YearCollege\", \"Professional(JD/MD)\", \"4YearCollege\", \"SomeCollege\", \"4YearCollege\", \"2YearCollege\", \"SomeCollege\", \"SomeCollege\", \"InHighSchool\", \"4YearCollege\", \"SomeCollege\", \"SomeCollege\", \"NotHighSchoolGrad\", \"SomeCollege\", \"NotHighSchoolGrad\", \"4YearCollege\", \"4YearCollege\", \"4YearCollege\", \"Masters\", \"4YearCollege\", \"SomeCollege\", \"NotHighSchoolGrad\", \"4YearCollege\", \"4YearCollege\", \"SomeCollege\", \"4YearCollege\", \"SomeCollege\", \"SomeCollege\", \"4YearCollege\", \"NotHighSchoolGrad\", \"4YearCollege\", \"NotHighSchoolGrad\", \"4YearCollege\", \"SomeCollege\", \"4YearCollege\", \"4YearCollege\", \"4YearCollege\", \"NotHighSchoolGrad\", \"NotHighSchoolGrad\", \"SomeCollege\", \"4YearCollege\", \"2YearCollege\", \"SomeCollege\", \"Masters\", \"4YearCollege\", \"4YearCollege\", \"InHighSchool\", \"4YearCollege\", \"SomeCollege\", \"4YearCollege\", \"SomeCollege\", \"Masters\", \"SomeCollege\", \"Masters\", \"SomeCollege\", \"SomeCollege\", \"SomeCollege\", \"4YearCollege\", \"SomeCollege\", \"2YearCollege\", \"4YearCollege\", \"SomeCollege\", \"Masters\", \"SomeCollege\", \"2YearCollege\", \"SomeCollege\", \"4YearCollege\", \"4YearCollege\", \"InHighSchool\", \"4YearCollege\", \"NotHighSchoolGrad\", \"SomeCollege\", \"SomeCollege\", \"SomeCollege\", \"SomeCollege\", \"4YearCollege\", \"NotHighSchoolGrad\", \"2YearCollege\", \"NotHighSchoolGrad\", \"SomeCollege\", \"SomeCollege\", \"NotHighSchoolGrad\", \"SomeCollege\", \"NotHighSchoolGrad\", \"SomeCollege\", \"SomeCollege\", \"SomeCollege\", \"SomeCollege\", \"SomeCollege\", \"NotHighSchoolGrad\", \"SomeCollege\", \"SomeCollege\", \"4YearCollege\", \"4YearCollege\", \"SomeCollege\", \"NotHighSchoolGrad\", \"NotHighSchoolGrad\", \"NotHighSchoolGrad\", \"SomeCollege\", \"SomeCollege\", \"NotHighSchoolGrad\", \"SomeCollege\", \"4YearCollege\", \"SomeCollege\", \"Professional(JD/MD)\", \"SomeCollege\", \"2YearCollege\", \"SomeCollege\", \"SomeCollege\", \"SomeCollege\", \"NotHighSchoolGrad\", \"4YearCollege\", \"SomeCollege\", \"NotHighSchoolGrad\", \"SomeCollege\", \"SomeCollege\", \"SomeCollege\", \"4YearCollege\", \"NotHighSchoolGrad\", \"InHighSchool\", \"SomeCollege\", \"4YearCollege\", \"2YearCollege\", \"SomeCollege\", \"SomeCollege\", \"SomeCollege\", \"SomeCollege\", \"Masters\", \"SomeCollege\", \"SomeCollege\", \"NotHighSchoolGrad\", \"SomeCollege\", \"SomeCollege\", \"NotHighSchoolGrad\", \"SomeCollege\", \"4YearCollege\", \"2YearCollege\", \"NotHighSchoolGrad\", \"SomeCollege\", \"SomeCollege\", \"SomeCollege\", \"SomeCollege\", \"NotHighSchoolGrad\", \"NotHighSchoolGrad\", \"SomeCollege\", \"SomeCollege\", \"4YearCollege\", \"SomeCollege\", \"SomeCollege\", \"SomeCollege\", \"NotHighSchoolGrad\", \"SomeCollege\", \"SomeCollege\", \"4YearCollege\", \"4YearCollege\", \"IDK\", \"SomeCollege\", \"Masters\", \"4YearCollege\", \"4YearCollege\", \"4YearCollege\", \"4YearCollege\", \"2YearCollege\", \"SomeCollege\", \"2YearCollege\", \"NotHighSchoolGrad\", \"SomeCollege\", \"SomeCollege\", \"4YearCollege\", \"SomeCollege\", \"SomeCollege\", \"NotHighSchoolGrad\", \"SomeCollege\", \"4YearCollege\", \"4YearCollege\", \"SomeCollege\", \"4YearCollege\", \"4YearCollege\", \"SomeCollege\", \"SomeCollege\", \"SomeCollege\", \"SomeCollege\", \"SomeCollege\", \"4YearCollege\", \"NotHighSchoolGrad\", \"2YearCollege\", \"2YearCollege\", \"4YearCollege\", \"HighSchoolGrad\", \"4YearCollege\", \"SomeCollege\", \"4YearCollege\", \"4YearCollege\", \"4YearCollege\", \"InHighSchool\", \"NotHighSchoolGrad\", \"NotHighSchoolGrad\", \"SomeCollege\", \"InHighSchool\", \"Masters\", \"4YearCollege\", \"NotHighSchoolGrad\", \"4YearCollege\", \"4YearCollege\", \"2YearCollege\", \"NotHighSchoolGrad\", \"4YearCollege\", \"SomeCollege\", \"2YearCollege\", \"SomeCollege\", \"SomeCollege\", \"SomeCollege\", \"2YearCollege\", \"SomeCollege\", \"NotHighSchoolGrad\", \"SomeCollege\"], \"xaxis\": \"x\", \"yaxis\": \"y\"}, {\"alignmentgroup\": \"True\", \"bingroup\": \"x\", \"hoverlabel\": {\"namelength\": 0}, \"hovertemplate\": \"Voted=0<br>USAEducation_Groups=%{x}<br>count=%{y}\", \"legendgroup\": \"Voted=0\", \"marker\": {\"color\": \"#EF553B\"}, \"name\": \"Voted=0\", \"offsetgroup\": \"Voted=0\", \"orientation\": \"v\", \"showlegend\": true, \"type\": \"histogram\", \"x\": [\"InHighSchool\", \"NotHighSchoolGrad\", \"4YearCollege\", \"InHighSchool\", \"4YearCollege\", \"InHighSchool\", \"4YearCollege\", \"NotHighSchoolGrad\", \"NotHighSchoolGrad\", \"2YearCollege\", \"2YearCollege\", \"4YearCollege\", \"InHighSchool\", \"NotHighSchoolGrad\", \"IDK\", \"4YearCollege\", \"NotHighSchoolGrad\", \"SomeCollege\", \"NotHighSchoolGrad\", \"SomeCollege\", \"NotHighSchoolGrad\", \"SomeCollege\", \"Doctoral\", \"2YearCollege\", \"SomeCollege\", \"NotHighSchoolGrad\", \"4YearCollege\", \"4YearCollege\", \"Masters\", \"SomeCollege\", \"4YearCollege\", \"NotHighSchoolGrad\", \"SomeCollege\", \"4YearCollege\", \"4YearCollege\", \"SomeCollege\", \"SomeCollege\", \"InHighSchool\", \"InHighSchool\", \"SomeCollege\", \"SomeCollege\", \"2YearCollege\", \"InHighSchool\", \"NotHighSchoolGrad\", \"SomeCollege\", \"SomeCollege\", \"SomeCollege\", \"NotHighSchoolGrad\", \"NotHighSchoolGrad\", \"4YearCollege\", \"SomeCollege\", \"SomeCollege\", \"InHighSchool\", \"SomeCollege\", \"InHighSchool\", \"InHighSchool\", \"SomeCollege\", \"SomeCollege\", \"SomeCollege\", \"SomeCollege\", \"4YearCollege\", \"4YearCollege\", \"SomeCollege\", \"SomeCollege\", \"SomeCollege\", \"SomeCollege\", \"NotHighSchoolGrad\", \"SomeCollege\", \"HighSchoolGrad\", \"NotHighSchoolGrad\", \"4YearCollege\", \"4YearCollege\", \"SomeCollege\", \"InHighSchool\", \"NotHighSchoolGrad\", \"NotHighSchoolGrad\", \"NotHighSchoolGrad\", \"2YearCollege\", \"InHighSchool\", \"InHighSchool\", \"2YearCollege\", \"NotHighSchoolGrad\", \"SomeCollege\", \"NotHighSchoolGrad\", \"SomeCollege\", \"4YearCollege\", \"NotHighSchoolGrad\", \"SomeCollege\", \"NotHighSchoolGrad\", \"SomeCollege\", \"2YearCollege\", \"InHighSchool\", \"InHighSchool\", \"NotHighSchoolGrad\", \"NotHighSchoolGrad\", \"SomeCollege\", \"NotHighSchoolGrad\", \"InHighSchool\", \"SomeCollege\", \"4YearCollege\", \"InHighSchool\", \"NotHighSchoolGrad\", \"NotHighSchoolGrad\", \"HighSchoolGrad\", \"SomeCollege\", \"NotHighSchoolGrad\", \"NotHighSchoolGrad\", \"Masters\", \"SomeCollege\", \"Other\", \"SomeCollege\", \"SomeCollege\", \"SomeCollege\", \"SomeCollege\", \"NotHighSchoolGrad\", \"SomeCollege\", \"NotHighSchoolGrad\", \"SomeCollege\", \"SomeCollege\", \"Masters\", \"4YearCollege\", \"SomeCollege\", \"NotHighSchoolGrad\", \"Masters\", \"SomeCollege\", \"4YearCollege\", \"NotHighSchoolGrad\", \"NotHighSchoolGrad\", \"2YearCollege\", \"SomeCollege\", \"NotHighSchoolGrad\", \"NotHighSchoolGrad\", \"NotHighSchoolGrad\", \"NotHighSchoolGrad\", \"Doctoral\", \"SomeCollege\", \"SomeCollege\", \"NotHighSchoolGrad\", \"2YearCollege\", \"NotHighSchoolGrad\", \"NotHighSchoolGrad\", \"4YearCollege\", \"SomeCollege\", \"4YearCollege\", \"2YearCollege\", \"SomeCollege\", \"SomeCollege\", \"Masters\", \"SomeCollege\", \"4YearCollege\", \"SomeCollege\", \"2YearCollege\", \"NotHighSchoolGrad\", \"SomeCollege\", \"NotHighSchoolGrad\", \"SomeCollege\", \"SomeCollege\", \"SomeCollege\", \"SomeCollege\", \"NotHighSchoolGrad\", \"NotHighSchoolGrad\", \"SomeCollege\", \"SomeCollege\", \"NotHighSchoolGrad\", \"4YearCollege\", \"NotHighSchoolGrad\", \"SomeCollege\", \"NotHighSchoolGrad\", \"NotHighSchoolGrad\", \"4YearCollege\", \"SomeCollege\", \"NotHighSchoolGrad\", \"2YearCollege\", \"4YearCollege\", \"SomeCollege\", \"NotHighSchoolGrad\", \"InHighSchool\", \"NotHighSchoolGrad\", \"InHighSchool\", \"SomeCollege\", \"NotHighSchoolGrad\", \"4YearCollege\", \"SomeCollege\", \"4YearCollege\", \"NotHighSchoolGrad\", \"NotHighSchoolGrad\", \"4YearCollege\", \"4YearCollege\", \"InHighSchool\", \"2YearCollege\", \"InHighSchool\", \"Masters\", \"SomeCollege\", \"4YearCollege\", \"SomeCollege\", \"2YearCollege\", \"HighSchoolGrad\", \"NotHighSchoolGrad\", \"2YearCollege\", \"4YearCollege\", \"SomeCollege\", \"2YearCollege\", \"SomeCollege\", \"4YearCollege\", \"NotHighSchoolGrad\", \"NotHighSchoolGrad\", \"SomeCollege\", \"SomeCollege\", \"InHighSchool\", \"NotHighSchoolGrad\", \"HighSchoolGrad\", \"NotHighSchoolGrad\", \"NotHighSchoolGrad\", \"SomeCollege\", \"4YearCollege\", \"NotHighSchoolGrad\", \"SomeCollege\", \"NotHighSchoolGrad\", \"4YearCollege\", \"InHighSchool\", \"NotHighSchoolGrad\", \"4YearCollege\", \"NotHighSchoolGrad\", \"4YearCollege\", \"NotHighSchoolGrad\", \"HighSchoolGrad\", \"SomeCollege\", \"InHighSchool\", \"SomeCollege\", \"NotHighSchoolGrad\", \"4YearCollege\", \"NotHighSchoolGrad\", \"SomeCollege\", \"SomeCollege\", \"InHighSchool\", \"SomeCollege\", \"NotHighSchoolGrad\", \"SomeCollege\", \"Masters\", \"SomeCollege\", \"SomeCollege\", \"SomeCollege\", \"InHighSchool\", \"Other\", \"SomeCollege\", \"SomeCollege\", \"SomeCollege\", \"Masters\", \"SomeCollege\", \"SomeCollege\", \"SomeCollege\", \"NotHighSchoolGrad\", \"SomeCollege\", \"SomeCollege\", \"4YearCollege\", \"SomeCollege\", \"4YearCollege\", \"InHighSchool\", \"IDK\", \"SomeCollege\", \"SomeCollege\", \"SomeCollege\", \"SomeCollege\", \"SomeCollege\", \"Other\", \"SomeCollege\", \"SomeCollege\", \"4YearCollege\", \"SomeCollege\", \"SomeCollege\", \"SomeCollege\", \"NotHighSchoolGrad\", \"NotHighSchoolGrad\", \"HighSchoolGrad\", \"NotHighSchoolGrad\", \"4YearCollege\", \"NotHighSchoolGrad\", \"NotHighSchoolGrad\", \"NotHighSchoolGrad\", \"HighSchoolGrad\", \"2YearCollege\", \"NotHighSchoolGrad\", \"SomeCollege\", \"NotHighSchoolGrad\", \"HighSchoolGrad\", \"NotHighSchoolGrad\", \"NotHighSchoolGrad\", \"SomeCollege\", \"Masters\", \"NotHighSchoolGrad\", \"SomeCollege\", \"2YearCollege\", \"SomeCollege\", \"4YearCollege\", \"4YearCollege\", \"2YearCollege\", \"Masters\", \"4YearCollege\", \"SomeCollege\", \"2YearCollege\", \"NotHighSchoolGrad\", \"SomeCollege\", \"SomeCollege\", \"2YearCollege\", \"SomeCollege\", \"SomeCollege\", \"NotHighSchoolGrad\", \"4YearCollege\", \"NotHighSchoolGrad\", \"SomeCollege\", \"SomeCollege\", \"4YearCollege\", \"NotHighSchoolGrad\", \"SomeCollege\", \"InHighSchool\", \"SomeCollege\", \"InHighSchool\", \"4YearCollege\", \"SomeCollege\", \"NotHighSchoolGrad\", \"NotHighSchoolGrad\", \"SomeCollege\", \"SomeCollege\", \"NotHighSchoolGrad\", \"SomeCollege\", \"NotHighSchoolGrad\", \"2YearCollege\", \"2YearCollege\", \"2YearCollege\", \"4YearCollege\", \"SomeCollege\", \"InHighSchool\", \"InHighSchool\", \"SomeCollege\", \"NotHighSchoolGrad\", \"InHighSchool\", \"InHighSchool\", \"InHighSchool\", \"4YearCollege\", \"SomeCollege\", \"4YearCollege\", \"SomeCollege\", \"NotHighSchoolGrad\", \"NotHighSchoolGrad\", \"SomeCollege\", \"NotHighSchoolGrad\", \"NotHighSchoolGrad\", \"NotHighSchoolGrad\", \"4YearCollege\", \"4YearCollege\", \"Masters\", \"SomeCollege\", \"InHighSchool\", \"SomeCollege\", \"SomeCollege\", \"2YearCollege\", \"HighSchoolGrad\", \"NotHighSchoolGrad\", \"HighSchoolGrad\", \"NotHighSchoolGrad\", \"NotHighSchoolGrad\", \"SomeCollege\", \"InHighSchool\", \"SomeCollege\", \"NotHighSchoolGrad\", \"NotHighSchoolGrad\", \"4YearCollege\", \"InHighSchool\", \"2YearCollege\", \"SomeCollege\", \"NotHighSchoolGrad\", \"NotHighSchoolGrad\", \"InHighSchool\", \"SomeCollege\", \"Other\", \"4YearCollege\", \"NotHighSchoolGrad\", \"NotHighSchoolGrad\", \"NotHighSchoolGrad\", \"SomeCollege\", \"NotHighSchoolGrad\", \"SomeCollege\", \"SomeCollege\", \"NotHighSchoolGrad\", \"2YearCollege\", \"SomeCollege\", \"SomeCollege\", \"Other\", \"InHighSchool\", \"NotHighSchoolGrad\", \"SomeCollege\", \"SomeCollege\", \"HighSchoolGrad\", \"Other\", \"NotHighSchoolGrad\", \"SomeCollege\", \"InHighSchool\", \"HighSchoolGrad\", \"NotHighSchoolGrad\", \"SomeCollege\", \"NotHighSchoolGrad\", \"SomeCollege\", \"NotHighSchoolGrad\", \"NotHighSchoolGrad\", \"InHighSchool\", \"SomeCollege\", \"SomeCollege\", \"NotHighSchoolGrad\", \"InHighSchool\", \"SomeCollege\", \"2YearCollege\", \"NotHighSchoolGrad\", \"SomeCollege\", \"SomeCollege\", \"SomeCollege\", \"NotHighSchoolGrad\", \"NotHighSchoolGrad\", \"NotHighSchoolGrad\", \"SomeCollege\", \"NotHighSchoolGrad\", \"NotHighSchoolGrad\", \"SomeCollege\", \"IDK\", \"2YearCollege\", \"SomeCollege\", \"2YearCollege\", \"InHighSchool\", \"NotHighSchoolGrad\", \"SomeCollege\", \"InHighSchool\", \"NotHighSchoolGrad\", \"NotHighSchoolGrad\", \"HighSchoolGrad\", \"HighSchoolGrad\", \"NotHighSchoolGrad\", \"InHighSchool\", \"SomeCollege\", \"SomeCollege\", \"SomeCollege\", \"HighSchoolGrad\", \"2YearCollege\", \"SomeCollege\", \"NotHighSchoolGrad\", \"SomeCollege\", \"2YearCollege\", \"NotHighSchoolGrad\", \"SomeCollege\", \"SomeCollege\", \"4YearCollege\", \"InHighSchool\", \"InHighSchool\", \"SomeCollege\", \"SomeCollege\", \"SomeCollege\", \"SomeCollege\", \"InHighSchool\", \"NotHighSchoolGrad\", \"NotHighSchoolGrad\", \"InHighSchool\"], \"xaxis\": \"x\", \"yaxis\": \"y\"}],\n",
       "                        {\"barmode\": \"group\", \"barnorm\": \"percent\", \"height\": 600, \"legend\": {\"tracegroupgap\": 0}, \"margin\": {\"t\": 60}, \"template\": {\"data\": {\"bar\": [{\"error_x\": {\"color\": \"#2a3f5f\"}, \"error_y\": {\"color\": \"#2a3f5f\"}, \"marker\": {\"line\": {\"color\": \"#E5ECF6\", \"width\": 0.5}}, \"type\": \"bar\"}], \"barpolar\": [{\"marker\": {\"line\": {\"color\": \"#E5ECF6\", \"width\": 0.5}}, \"type\": \"barpolar\"}], \"carpet\": [{\"aaxis\": {\"endlinecolor\": \"#2a3f5f\", \"gridcolor\": \"white\", \"linecolor\": \"white\", \"minorgridcolor\": \"white\", \"startlinecolor\": \"#2a3f5f\"}, \"baxis\": {\"endlinecolor\": \"#2a3f5f\", \"gridcolor\": \"white\", \"linecolor\": \"white\", \"minorgridcolor\": \"white\", \"startlinecolor\": \"#2a3f5f\"}, \"type\": \"carpet\"}], \"choropleth\": [{\"colorbar\": {\"outlinewidth\": 0, \"ticks\": \"\"}, \"type\": \"choropleth\"}], \"contour\": [{\"colorbar\": {\"outlinewidth\": 0, \"ticks\": \"\"}, \"colorscale\": [[0.0, \"#0d0887\"], [0.1111111111111111, \"#46039f\"], [0.2222222222222222, \"#7201a8\"], [0.3333333333333333, \"#9c179e\"], [0.4444444444444444, \"#bd3786\"], [0.5555555555555556, \"#d8576b\"], [0.6666666666666666, \"#ed7953\"], [0.7777777777777778, \"#fb9f3a\"], [0.8888888888888888, \"#fdca26\"], [1.0, \"#f0f921\"]], \"type\": \"contour\"}], \"contourcarpet\": [{\"colorbar\": {\"outlinewidth\": 0, \"ticks\": \"\"}, \"type\": \"contourcarpet\"}], \"heatmap\": [{\"colorbar\": {\"outlinewidth\": 0, \"ticks\": \"\"}, \"colorscale\": [[0.0, \"#0d0887\"], [0.1111111111111111, \"#46039f\"], [0.2222222222222222, \"#7201a8\"], [0.3333333333333333, \"#9c179e\"], [0.4444444444444444, \"#bd3786\"], [0.5555555555555556, \"#d8576b\"], [0.6666666666666666, \"#ed7953\"], [0.7777777777777778, \"#fb9f3a\"], [0.8888888888888888, \"#fdca26\"], [1.0, \"#f0f921\"]], \"type\": \"heatmap\"}], \"heatmapgl\": [{\"colorbar\": {\"outlinewidth\": 0, \"ticks\": \"\"}, \"colorscale\": [[0.0, \"#0d0887\"], [0.1111111111111111, \"#46039f\"], [0.2222222222222222, \"#7201a8\"], [0.3333333333333333, \"#9c179e\"], [0.4444444444444444, \"#bd3786\"], [0.5555555555555556, \"#d8576b\"], [0.6666666666666666, \"#ed7953\"], [0.7777777777777778, \"#fb9f3a\"], [0.8888888888888888, \"#fdca26\"], [1.0, \"#f0f921\"]], \"type\": \"heatmapgl\"}], \"histogram\": [{\"marker\": {\"colorbar\": {\"outlinewidth\": 0, \"ticks\": \"\"}}, \"type\": \"histogram\"}], \"histogram2d\": [{\"colorbar\": {\"outlinewidth\": 0, \"ticks\": \"\"}, \"colorscale\": [[0.0, \"#0d0887\"], [0.1111111111111111, \"#46039f\"], [0.2222222222222222, \"#7201a8\"], [0.3333333333333333, \"#9c179e\"], [0.4444444444444444, \"#bd3786\"], [0.5555555555555556, \"#d8576b\"], [0.6666666666666666, \"#ed7953\"], [0.7777777777777778, \"#fb9f3a\"], [0.8888888888888888, \"#fdca26\"], [1.0, \"#f0f921\"]], \"type\": \"histogram2d\"}], \"histogram2dcontour\": [{\"colorbar\": {\"outlinewidth\": 0, \"ticks\": \"\"}, \"colorscale\": [[0.0, \"#0d0887\"], [0.1111111111111111, \"#46039f\"], [0.2222222222222222, \"#7201a8\"], [0.3333333333333333, \"#9c179e\"], [0.4444444444444444, \"#bd3786\"], [0.5555555555555556, \"#d8576b\"], [0.6666666666666666, \"#ed7953\"], [0.7777777777777778, \"#fb9f3a\"], [0.8888888888888888, \"#fdca26\"], [1.0, \"#f0f921\"]], \"type\": \"histogram2dcontour\"}], \"mesh3d\": [{\"colorbar\": {\"outlinewidth\": 0, \"ticks\": \"\"}, \"type\": \"mesh3d\"}], \"parcoords\": [{\"line\": {\"colorbar\": {\"outlinewidth\": 0, \"ticks\": \"\"}}, \"type\": \"parcoords\"}], \"scatter\": [{\"marker\": {\"colorbar\": {\"outlinewidth\": 0, \"ticks\": \"\"}}, \"type\": \"scatter\"}], \"scatter3d\": [{\"line\": {\"colorbar\": {\"outlinewidth\": 0, \"ticks\": \"\"}}, \"marker\": {\"colorbar\": {\"outlinewidth\": 0, \"ticks\": \"\"}}, \"type\": \"scatter3d\"}], \"scattercarpet\": [{\"marker\": {\"colorbar\": {\"outlinewidth\": 0, \"ticks\": \"\"}}, \"type\": \"scattercarpet\"}], \"scattergeo\": [{\"marker\": {\"colorbar\": {\"outlinewidth\": 0, \"ticks\": \"\"}}, \"type\": \"scattergeo\"}], \"scattergl\": [{\"marker\": {\"colorbar\": {\"outlinewidth\": 0, \"ticks\": \"\"}}, \"type\": \"scattergl\"}], \"scattermapbox\": [{\"marker\": {\"colorbar\": {\"outlinewidth\": 0, \"ticks\": \"\"}}, \"type\": \"scattermapbox\"}], \"scatterpolar\": [{\"marker\": {\"colorbar\": {\"outlinewidth\": 0, \"ticks\": \"\"}}, \"type\": \"scatterpolar\"}], \"scatterpolargl\": [{\"marker\": {\"colorbar\": {\"outlinewidth\": 0, \"ticks\": \"\"}}, \"type\": \"scatterpolargl\"}], \"scatterternary\": [{\"marker\": {\"colorbar\": {\"outlinewidth\": 0, \"ticks\": \"\"}}, \"type\": \"scatterternary\"}], \"surface\": [{\"colorbar\": {\"outlinewidth\": 0, \"ticks\": \"\"}, \"colorscale\": [[0.0, \"#0d0887\"], [0.1111111111111111, \"#46039f\"], [0.2222222222222222, \"#7201a8\"], [0.3333333333333333, \"#9c179e\"], [0.4444444444444444, \"#bd3786\"], [0.5555555555555556, \"#d8576b\"], [0.6666666666666666, \"#ed7953\"], [0.7777777777777778, \"#fb9f3a\"], [0.8888888888888888, \"#fdca26\"], [1.0, \"#f0f921\"]], \"type\": \"surface\"}], \"table\": [{\"cells\": {\"fill\": {\"color\": \"#EBF0F8\"}, \"line\": {\"color\": \"white\"}}, \"header\": {\"fill\": {\"color\": \"#C8D4E3\"}, \"line\": {\"color\": \"white\"}}, \"type\": \"table\"}]}, \"layout\": {\"annotationdefaults\": {\"arrowcolor\": \"#2a3f5f\", \"arrowhead\": 0, \"arrowwidth\": 1}, \"colorscale\": {\"diverging\": [[0, \"#8e0152\"], [0.1, \"#c51b7d\"], [0.2, \"#de77ae\"], [0.3, \"#f1b6da\"], [0.4, \"#fde0ef\"], [0.5, \"#f7f7f7\"], [0.6, \"#e6f5d0\"], [0.7, \"#b8e186\"], [0.8, \"#7fbc41\"], [0.9, \"#4d9221\"], [1, \"#276419\"]], \"sequential\": [[0.0, \"#0d0887\"], [0.1111111111111111, \"#46039f\"], [0.2222222222222222, \"#7201a8\"], [0.3333333333333333, \"#9c179e\"], [0.4444444444444444, \"#bd3786\"], [0.5555555555555556, \"#d8576b\"], [0.6666666666666666, \"#ed7953\"], [0.7777777777777778, \"#fb9f3a\"], [0.8888888888888888, \"#fdca26\"], [1.0, \"#f0f921\"]], \"sequentialminus\": [[0.0, \"#0d0887\"], [0.1111111111111111, \"#46039f\"], [0.2222222222222222, \"#7201a8\"], [0.3333333333333333, \"#9c179e\"], [0.4444444444444444, \"#bd3786\"], [0.5555555555555556, \"#d8576b\"], [0.6666666666666666, \"#ed7953\"], [0.7777777777777778, \"#fb9f3a\"], [0.8888888888888888, \"#fdca26\"], [1.0, \"#f0f921\"]]}, \"colorway\": [\"#636efa\", \"#EF553B\", \"#00cc96\", \"#ab63fa\", \"#FFA15A\", \"#19d3f3\", \"#FF6692\", \"#B6E880\", \"#FF97FF\", \"#FECB52\"], \"font\": {\"color\": \"#2a3f5f\"}, \"geo\": {\"bgcolor\": \"white\", \"lakecolor\": \"white\", \"landcolor\": \"#E5ECF6\", \"showlakes\": true, \"showland\": true, \"subunitcolor\": \"white\"}, \"hoverlabel\": {\"align\": \"left\"}, \"hovermode\": \"closest\", \"mapbox\": {\"style\": \"light\"}, \"paper_bgcolor\": \"white\", \"plot_bgcolor\": \"#E5ECF6\", \"polar\": {\"angularaxis\": {\"gridcolor\": \"white\", \"linecolor\": \"white\", \"ticks\": \"\"}, \"bgcolor\": \"#E5ECF6\", \"radialaxis\": {\"gridcolor\": \"white\", \"linecolor\": \"white\", \"ticks\": \"\"}}, \"scene\": {\"xaxis\": {\"backgroundcolor\": \"#E5ECF6\", \"gridcolor\": \"white\", \"gridwidth\": 2, \"linecolor\": \"white\", \"showbackground\": true, \"ticks\": \"\", \"zerolinecolor\": \"white\"}, \"yaxis\": {\"backgroundcolor\": \"#E5ECF6\", \"gridcolor\": \"white\", \"gridwidth\": 2, \"linecolor\": \"white\", \"showbackground\": true, \"ticks\": \"\", \"zerolinecolor\": \"white\"}, \"zaxis\": {\"backgroundcolor\": \"#E5ECF6\", \"gridcolor\": \"white\", \"gridwidth\": 2, \"linecolor\": \"white\", \"showbackground\": true, \"ticks\": \"\", \"zerolinecolor\": \"white\"}}, \"shapedefaults\": {\"line\": {\"color\": \"#2a3f5f\"}}, \"ternary\": {\"aaxis\": {\"gridcolor\": \"white\", \"linecolor\": \"white\", \"ticks\": \"\"}, \"baxis\": {\"gridcolor\": \"white\", \"linecolor\": \"white\", \"ticks\": \"\"}, \"bgcolor\": \"#E5ECF6\", \"caxis\": {\"gridcolor\": \"white\", \"linecolor\": \"white\", \"ticks\": \"\"}}, \"title\": {\"x\": 0.05}, \"xaxis\": {\"automargin\": true, \"gridcolor\": \"white\", \"linecolor\": \"white\", \"ticks\": \"\", \"zerolinecolor\": \"white\", \"zerolinewidth\": 2}, \"yaxis\": {\"automargin\": true, \"gridcolor\": \"white\", \"linecolor\": \"white\", \"ticks\": \"\", \"zerolinecolor\": \"white\", \"zerolinewidth\": 2}}}, \"xaxis\": {\"anchor\": \"y\", \"categoryarray\": [\"IDK\", \"Other\", \"NotHighSchoolGrad\", \"InHighSchool\", \"HighSchoolGrad\", \"SomeCollege\", \"2YearCollege\", \"4YearCollege\", \"Masters\", \"Professional(JD/MD)\", \"Doctoral\"], \"categoryorder\": \"array\", \"domain\": [0.0, 0.98], \"title\": {\"text\": \"USAEducation_Groups\"}}, \"yaxis\": {\"anchor\": \"x\", \"domain\": [0.0, 1.0], \"title\": {\"text\": \"Percent\"}}},\n",
       "                        {\"responsive\": true}\n",
       "                    ).then(function(){\n",
       "                            \n",
       "var gd = document.getElementById('0cadd279-9089-41b3-b478-385b9d2ed038');\n",
       "var x = new MutationObserver(function (mutations, observer) {{\n",
       "        var display = window.getComputedStyle(gd).display;\n",
       "        if (!display || display === 'none') {{\n",
       "            console.log([gd, 'removed!']);\n",
       "            Plotly.purge(gd);\n",
       "            observer.disconnect();\n",
       "        }}\n",
       "}});\n",
       "\n",
       "// Listen for the removal of the full notebook cells\n",
       "var notebookContainer = gd.closest('#notebook-container');\n",
       "if (notebookContainer) {{\n",
       "    x.observe(notebookContainer, {childList: true});\n",
       "}}\n",
       "\n",
       "// Listen for the clearing of the current output cell\n",
       "var outputEl = gd.closest('.output');\n",
       "if (outputEl) {{\n",
       "    x.observe(outputEl, {childList: true});\n",
       "}}\n",
       "\n",
       "                        })\n",
       "                };\n",
       "                });\n",
       "            </script>\n",
       "        </div>"
      ]
     },
     "metadata": {},
     "output_type": "display_data"
    }
   ],
   "source": [
    "color_discrete_map={0: \"#EF553B\", 1: \"#636EFA\"}#create a color mapping for consistency throughout visualization\n",
    "\n",
    "ShowTwoWayHeatmap(data,'USAEducation_Groups','Voted', normalize=False)\n",
    "\n",
    "fig = px.histogram(data, x=\"USAEducation_Groups\",color='Voted',\n",
    "                   category_orders=dict(USAEducation_Groups=[\"IDK\", \"Other\", \"NotHighSchoolGrad\", \"InHighSchool\",\"HighSchoolGrad\",\"SomeCollege\",\"2YearCollege\",'4YearCollege',\"Masters\",\"Professional(JD/MD)\",'Doctoral']),\n",
    "                   barnorm='percent',\n",
    "                  color_discrete_map=color_discrete_map)\n",
    "fig.update_layout(barmode='group',yaxis_title=\"Percent\")\n",
    "#fig.update_yaxes(type='log')\n",
    "fig.show()"
   ]
  },
  {
   "cell_type": "markdown",
   "metadata": {},
   "source": [
    "Insights:\n",
    "\n",
    "Significant correlation between Some College and 4 year college seems to exist, though it also appears that most of the observations are in these two categories so there may be some skew.\n",
    "\n",
    "There is a clear delineation between those who have Some College and above and the likelihood of voting. The same is true for Highschool Grad and below and the likelihood not to vote. However, again there appears to be significantly fewer people in the High School Grad and below category."
   ]
  },
  {
   "cell_type": "markdown",
   "metadata": {},
   "source": [
    "# Voted vs Internet Access "
   ]
  },
  {
   "cell_type": "code",
   "execution_count": 33,
   "metadata": {},
   "outputs": [
    {
     "data": {
      "image/png": "[encoded data removed]",
      "text/plain": [
       "<Figure size 936x432 with 2 Axes>"
      ]
     },
     "metadata": {
      "needs_background": "light"
     },
     "output_type": "display_data"
    },
    {
     "data": {
      "application/vnd.plotly.v1+json": {
       "config": {
        "plotlyServerURL": "https://plot.ly"
       },
       "data": [
        {
         "alignmentgroup": "True",
         "bingroup": "x",
         "hoverlabel": {
          "namelength": 0
         },
         "hovertemplate": "Voted=1<br>internetAccessSetting_Groups=%{x}<br>count=%{y}",
         "legendgroup": "Voted=1",
         "marker": {
          "color": "#636EFA"
         },
         "name": "Voted=1",
         "offsetgroup": "Voted=1",
         "orientation": "v",
         "showlegend": true,
         "type": "histogram",
         "x": [
          "Laptop",
          "Home",
          "Home",
          "Laptop",
          "Home",
          "Home",
          "Library",
          "Home",
          "Home",
          "Laptop",
          "Home",
          "Home",
          "Home",
          "Home",
          "Work",
          "Home",
          "Home",
          "Home",
          "Work",
          "Home",
          "Home",
          "Home",
          "Home",
          "Home",
          "Work",
          "Home",
          "Laptop",
          "School",
          "Home",
          "Home",
          "Home",
          "Home",
          "OthersHome",
          "MobilePhone",
          "Home",
          "Work",
          "Work",
          "Home",
          "Home",
          "Home",
          "Home",
          "Home",
          "Home",
          "Home",
          "Home",
          "Home",
          "Home",
          "Home",
          "Home",
          "Home",
          "Home",
          "Home",
          "Home",
          "Home",
          "Home",
          "Home",
          "Home",
          "School",
          "Laptop",
          "Home",
          "Home",
          "Home",
          "Home",
          "Home",
          "Home",
          "Home",
          "Home",
          "Home",
          "Home",
          "Home",
          "Work",
          "Laptop",
          "Home",
          "Home",
          "Home",
          "Home",
          "Home",
          "Home",
          "Home",
          "Laptop",
          "Home",
          "School",
          "Home",
          "Laptop",
          "MobilePhone",
          "Home",
          "Home",
          "Home",
          "Home",
          "Home",
          "Home",
          "Home",
          "Home",
          "Home",
          "Work",
          "Laptop",
          "Home",
          "Home",
          "Home",
          "Home",
          "School",
          "Home",
          "Home",
          "Laptop",
          "Home",
          "Home",
          "Home",
          "Laptop",
          "Home",
          "Home",
          "Home",
          "Home",
          "Home",
          "Home",
          "Home",
          "Home",
          "Home",
          "Home",
          "Home",
          "Laptop",
          "Home",
          "Home",
          "Home",
          "Home",
          "Work",
          "Home",
          "School",
          "Work",
          "Home",
          "Home",
          "MobilePhone",
          "Home",
          "Home",
          "MobilePhone",
          "Home",
          "Home",
          "Home",
          "Home",
          "Home",
          "Home",
          "School",
          "Home",
          "MobilePhone",
          "Home",
          "Laptop",
          "Home",
          "School",
          "Home",
          "Home",
          "Home",
          "Home",
          "School",
          "Home",
          "Laptop",
          "Home",
          "Home",
          "Home",
          "Laptop",
          "Home",
          "Home",
          "Home",
          "Work",
          "MobilePhone",
          "Home",
          "Home",
          "Work",
          "Home",
          "Home",
          "Home",
          "Home",
          "Home",
          "Work",
          "Home",
          "Home",
          "Home",
          "Home",
          "Work",
          "Laptop",
          "Home",
          "Laptop",
          "MobilePhone",
          "Home",
          "MobilePhone",
          "Home",
          "Home",
          "Home",
          "Home",
          "Laptop",
          "Work",
          "Home",
          "Home",
          "Home",
          "Home",
          "School",
          "Work",
          "School",
          "Home",
          "Home",
          "Home",
          "Home",
          "Work",
          "Home",
          "Home",
          "Work",
          "Home",
          "Work",
          "MobilePhone",
          "Laptop",
          "Work",
          "Home",
          "Home",
          "Home",
          "MobilePhone",
          "Work",
          "Work",
          "Work",
          "Home",
          "Work",
          "Home",
          "Home",
          "Laptop",
          "Work",
          "Home",
          "MobilePhone",
          "Home",
          "Work",
          "Work",
          "Home",
          "Home",
          "Home",
          "Laptop",
          "Work",
          "Home",
          "Work",
          "Home",
          "Laptop",
          "Work",
          "Home",
          "Work",
          "Home",
          "MobilePhone",
          "Home",
          "Home",
          "Home",
          "Work",
          "Home",
          "Work",
          "MobilePhone",
          "MobilePhone",
          "MobilePhone",
          "Home",
          "Home",
          "Home",
          "Home",
          "MobilePhone",
          "Laptop",
          "MobilePhone",
          "Home",
          "Library",
          "Home",
          "Home",
          "Home",
          "Home",
          "Home",
          "Home",
          "Work",
          "Home",
          "Laptop",
          "Home",
          "Home",
          "Work",
          "MobilePhone",
          "Home",
          "Laptop",
          "Home",
          "Home",
          "Laptop",
          "Home",
          "Laptop",
          "Home",
          "Home",
          "Home",
          "Home",
          "Work",
          "Laptop",
          "Home",
          "Home",
          "Home",
          "Home",
          "Work",
          "MobilePhone",
          "Home",
          "Home",
          "Home",
          "School",
          "Home",
          "Work",
          "Home",
          "Laptop",
          "Work",
          "Laptop",
          "Laptop",
          "Home",
          "Home",
          "Home",
          "Laptop",
          "Home",
          "Work",
          "Home",
          "Laptop",
          "Home",
          "Home",
          "Work",
          "Work",
          "Home",
          "Work",
          "Home",
          "Work",
          "OthersHome",
          "Home",
          "Home",
          "Home",
          "Home",
          "MobilePhone",
          "Home",
          "Laptop",
          "Home",
          "Home",
          "Home",
          "Home",
          "Home",
          "Home",
          "Home",
          "Work",
          "OthersHome",
          "Home",
          "Work",
          "Home",
          "Home",
          "Home",
          "Home",
          "Home",
          "MobilePhone",
          "Library",
          "Home",
          "Laptop",
          "Work",
          "Home",
          "Work",
          "Home",
          "Home",
          "Work",
          "Work",
          "Work",
          "Home",
          "Home",
          "Work",
          "Home",
          "Home",
          "Laptop",
          "Home",
          "MobilePhone",
          "MobilePhone",
          "Work",
          "Home",
          "Home",
          "Library",
          "Laptop",
          "Home",
          "Laptop",
          "Home",
          "Home",
          "Home",
          "Home",
          "Home",
          "Work",
          "Home",
          "Home",
          "Work",
          "Cafe/Kiosk",
          "Home",
          "Library",
          "Home",
          "Home",
          "Home",
          "Home",
          "Home",
          "Home",
          "Home",
          "Home",
          "MobilePhone",
          "Home",
          "Home",
          "Home",
          "Home",
          "Home",
          "Home",
          "Home",
          "Home",
          "Home",
          "Work",
          "Home",
          "Home",
          "School",
          "Home",
          "Work",
          "Laptop",
          "Home",
          "Home",
          "School",
          "Home",
          "Home",
          "MobilePhone",
          "Home",
          "Cafe/Kiosk",
          "Home",
          "Laptop",
          "Home",
          "Home",
          "Home",
          "School",
          "Home",
          "Home",
          "Work",
          "School",
          "Laptop",
          "School",
          "Home",
          "MobilePhone",
          "Home",
          "Home",
          "Home",
          "Home",
          "Home",
          "Library",
          "Home",
          "Work",
          "Home",
          "Work",
          "Work",
          "Cafe/Kiosk",
          "Home",
          "MobilePhone",
          "Home",
          "Home",
          "Home",
          "Laptop",
          "Work",
          "Laptop",
          "Home",
          "Home",
          "Home",
          "Home",
          "Laptop",
          "Home",
          "Laptop",
          "Home",
          "Home",
          "Home",
          "Home",
          "Home",
          "Laptop",
          "Home",
          "Home",
          "Home",
          "School",
          "Home",
          "Home",
          "Laptop",
          "Home",
          "Home",
          "Laptop",
          "Laptop",
          "School",
          "Laptop",
          "Home",
          "Home",
          "Home",
          "Home",
          "Home",
          "Home",
          "Laptop",
          "School",
          "Home",
          "Home",
          "Home",
          "MobilePhone",
          "Home",
          "Home",
          "Work",
          "Home",
          "MobilePhone",
          "Home",
          "Home",
          "Home",
          "Home",
          "Work",
          "Home",
          "Home",
          "Laptop",
          "MobilePhone",
          "MobilePhone",
          "Home",
          "Laptop",
          "Home",
          "Home",
          "Laptop",
          "Work",
          "Cafe/Kiosk",
          "Home",
          "Home",
          "School",
          "Work",
          "Home",
          "Home",
          "Work",
          "Home",
          "Home",
          "Home",
          "MobilePhone",
          "Home",
          "Home",
          "Home",
          "MobilePhone",
          "Laptop",
          "Home",
          "Home",
          "MobilePhone",
          "Home",
          "Home",
          "Home",
          "Work",
          "Home",
          "Laptop",
          "Home",
          "Work",
          "Home",
          "Laptop",
          "Home",
          "Laptop",
          "Laptop",
          "Home",
          "Home",
          "Home",
          "MobilePhone",
          "Laptop",
          "School",
          "Laptop",
          "Work",
          "Home",
          "Home",
          "Home",
          "MobilePhone",
          "Home",
          "Work",
          "MobilePhone",
          "Home",
          "Work",
          "Home",
          "MobilePhone",
          "Home",
          "Laptop",
          "Home",
          "School",
          "Home",
          "Home",
          "Home",
          "Home",
          "Home",
          "Home",
          "Home",
          "Home",
          "Home",
          "Cafe/Kiosk",
          "Home",
          "Work",
          "Home",
          "Home",
          "Home",
          "Laptop",
          "Home",
          "Home",
          "Laptop",
          "Home",
          "School",
          "MobilePhone",
          "Home",
          "Home",
          "Home",
          "Home",
          "Home",
          "Home",
          "School",
          "Home",
          "Home",
          "Home",
          "Work",
          "Home",
          "Work",
          "MobilePhone",
          "Home",
          "Home",
          "Home",
          "Home",
          "Cafe/Kiosk",
          "Home",
          "Work",
          "Home",
          "Home",
          "Home",
          "Work",
          "Work",
          "Home",
          "Home",
          "Home",
          "Home",
          "Home",
          "Home",
          "School",
          "Home",
          "Home",
          "Home",
          "MobilePhone",
          "MobilePhone",
          "Home",
          "MobilePhone",
          "Home",
          "Home",
          "Home",
          "Home",
          "Work",
          "Home",
          "Home",
          "Laptop",
          "Home",
          "Home",
          "Library",
          "Home",
          "Laptop",
          "Home",
          "MobilePhone",
          "Home",
          "Home",
          "Home",
          "Laptop",
          "Home",
          "Home",
          "Work",
          "School",
          "Home",
          "Home",
          "School",
          "Home",
          "Laptop",
          "Home",
          "Home",
          "Home",
          "School",
          "Home",
          "Home",
          "Laptop",
          "Home",
          "Home",
          "Home",
          "Home",
          "Home",
          "Home",
          "Laptop",
          "Home",
          "School",
          "Work",
          "Work",
          "Home",
          "Home",
          "Home",
          "Home",
          "Home",
          "MobilePhone",
          "Home",
          "Work",
          "Home",
          "Home",
          "MobilePhone",
          "Home",
          "Home",
          "MobilePhone",
          "Home",
          "School",
          "Home",
          "Home",
          "Home",
          "School",
          "School",
          "Home",
          "Laptop",
          "Home",
          "Home",
          "MobilePhone",
          "Laptop",
          "Home",
          "Home",
          "Home",
          "Laptop",
          "Home",
          "Home",
          "Laptop",
          "Home",
          "Home",
          "Home",
          "School",
          "School",
          "Home",
          "Laptop",
          "Home",
          "Home",
          "Home",
          "Laptop",
          "Laptop",
          "Home",
          "Laptop",
          "Home",
          "Home",
          "Laptop",
          "MobilePhone",
          "Home",
          "Home",
          "Work",
          "Cafe/Kiosk",
          "Home",
          "Laptop",
          "Home",
          "MobilePhone",
          "Home",
          "Home",
          "School",
          "Home",
          "Home",
          "Laptop",
          "Home",
          "Home",
          "MobilePhone",
          "Laptop",
          "School",
          "Home",
          "Home",
          "Home",
          "Home",
          "Laptop",
          "Home",
          "Home",
          "Home",
          "Home",
          "Home",
          "Home",
          "Home",
          "Home",
          "Home",
          "MobilePhone",
          "Home",
          "Home",
          "Home",
          "School",
          "School",
          "School",
          "Laptop",
          "Home",
          "School",
          "Home",
          "School"
         ],
         "xaxis": "x",
         "yaxis": "y"
        },
        {
         "alignmentgroup": "True",
         "bingroup": "x",
         "hoverlabel": {
          "namelength": 0
         },
         "hovertemplate": "Voted=0<br>internetAccessSetting_Groups=%{x}<br>count=%{y}",
         "legendgroup": "Voted=0",
         "marker": {
          "color": "#EF553B"
         },
         "name": "Voted=0",
         "offsetgroup": "Voted=0",
         "orientation": "v",
         "showlegend": true,
         "type": "histogram",
         "x": [
          "Home",
          "Work",
          "Home",
          "MobilePhone",
          "Work",
          "Home",
          "Home",
          "MobilePhone",
          "MobilePhone",
          "Home",
          "Home",
          "Work",
          "Home",
          "Laptop",
          "OthersHome",
          "MobilePhone",
          "Home",
          "MobilePhone",
          "Home",
          "School",
          "Home",
          "Home",
          "Laptop",
          "School",
          "Home",
          "Home",
          "Home",
          "Work",
          "Home",
          "Home",
          "Home",
          "Home",
          "Home",
          "Home",
          "MobilePhone",
          "Home",
          "Home",
          "Laptop",
          "Home",
          "Home",
          "Home",
          "Home",
          "Home",
          "Home",
          "Laptop",
          "Home",
          "MobilePhone",
          "Home",
          "Home",
          "Home",
          "School",
          "Laptop",
          "Home",
          "Home",
          "Home",
          "MobilePhone",
          "MobilePhone",
          "Laptop",
          "Home",
          "Home",
          "Home",
          "Work",
          "MobilePhone",
          "Home",
          "School",
          "Home",
          "Home",
          "Home",
          "Home",
          "Laptop",
          "Home",
          "MobilePhone",
          "Home",
          "Home",
          "Home",
          "Home",
          "Home",
          "MobilePhone",
          "Home",
          "Home",
          "Home",
          "Home",
          "Home",
          "Home",
          "Home",
          "MobilePhone",
          "Home",
          "Home",
          "Home",
          "Home",
          "MobilePhone",
          "Home",
          "Home",
          "Home",
          "Home",
          "Laptop",
          "Home",
          "Home",
          "Home",
          "Home",
          "Home",
          "Home",
          "MobilePhone",
          "Home",
          "Laptop",
          "Home",
          "Home",
          "Home",
          "Home",
          "Home",
          "Home",
          "Home",
          "Home",
          "Laptop",
          "Home",
          "Home",
          "Home",
          "Laptop",
          "School",
          "Work",
          "Laptop",
          "Home",
          "Home",
          "Work",
          "Home",
          "Home",
          "MobilePhone",
          "Home",
          "Home",
          "Laptop",
          "Home",
          "Home",
          "MobilePhone",
          "Home",
          "Home",
          "Home",
          "Home",
          "Home",
          "Laptop",
          "Home",
          "Home",
          "Home",
          "School",
          "Work",
          "Home",
          "Home",
          "Home",
          "Home",
          "School",
          "Laptop",
          "Home",
          "Work",
          "Home",
          "Work",
          "Home",
          "School",
          "Home",
          "Home",
          "MobilePhone",
          "Home",
          "Laptop",
          "School",
          "Laptop",
          "Work",
          "Home",
          "Home",
          "Laptop",
          "Laptop",
          "Home",
          "Home",
          "Home",
          "Home",
          "Laptop",
          "Home",
          "Home",
          "Home",
          "Home",
          "Laptop",
          "Home",
          "Home",
          "Home",
          "MobilePhone",
          "Laptop",
          "Work",
          "Home",
          "Home",
          "Laptop",
          "Home",
          "School",
          "Laptop",
          "Home",
          "Laptop",
          "Laptop",
          "Work",
          "Home",
          "Work",
          "Home",
          "Laptop",
          "Home",
          "Home",
          "Home",
          "Home",
          "Laptop",
          "Laptop",
          "Home",
          "Laptop",
          "MobilePhone",
          "Home",
          "School",
          "Home",
          "Laptop",
          "MobilePhone",
          "Home",
          "School",
          "Home",
          "Home",
          "School",
          "Home",
          "Home",
          "Home",
          "Home",
          "OthersHome",
          "Home",
          "Home",
          "Home",
          "Home",
          "School",
          "Home",
          "Laptop",
          "Home",
          "Home",
          "Home",
          "Laptop",
          "Laptop",
          "MobilePhone",
          "Home",
          "Home",
          "Home",
          "MobilePhone",
          "Laptop",
          "Home",
          "MobilePhone",
          "Library",
          "Home",
          "Laptop",
          "Home",
          "Home",
          "Home",
          "Home",
          "Home",
          "Home",
          "Home",
          "School",
          "Home",
          "Home",
          "Home",
          "Home",
          "MobilePhone",
          "School",
          "Home",
          "MobilePhone",
          "Home",
          "School",
          "MobilePhone",
          "Home",
          "Home",
          "School",
          "OthersHome",
          "Home",
          "MobilePhone",
          "Home",
          "OthersHome",
          "MobilePhone",
          "MobilePhone",
          "Home",
          "Work",
          "Home",
          "Home",
          "Home",
          "MobilePhone",
          "MobilePhone",
          "Home",
          "Home",
          "Home",
          "Home",
          "Home",
          "Laptop",
          "Home",
          "MobilePhone",
          "Home",
          "Home",
          "MobilePhone",
          "Home",
          "MobilePhone",
          "Work",
          "School",
          "Work",
          "Home",
          "Home",
          "Work",
          "Home",
          "Home",
          "Home",
          "Work",
          "Home",
          "Home",
          "Home",
          "Work",
          "Laptop",
          "Laptop",
          "MobilePhone",
          "Laptop",
          "Home",
          "Home",
          "Home",
          "Home",
          "School",
          "Home",
          "Home",
          "OthersHome",
          "Home",
          "Home",
          "MobilePhone",
          "Home",
          "MobilePhone",
          "MobilePhone",
          "Home",
          "Home",
          "MobilePhone",
          "Home",
          "School",
          "Home",
          "Home",
          "MobilePhone",
          "MobilePhone",
          "MobilePhone",
          "Home",
          "Laptop",
          "Home",
          "Home",
          "Work",
          "Home",
          "Home",
          "Home",
          "Home",
          "Home",
          "Home",
          "Home",
          "Home",
          "Home",
          "Laptop",
          "Laptop",
          "MobilePhone",
          "MobilePhone",
          "Home",
          "Home",
          "Home",
          "MobilePhone",
          "Home",
          "Home",
          "Home",
          "School",
          "School",
          "Cafe/Kiosk",
          "Home",
          "Work",
          "Home",
          "Home",
          "MobilePhone",
          "Home",
          "Laptop",
          "Home",
          "Home",
          "Home",
          "Home",
          "Home",
          "MobilePhone",
          "Home",
          "Laptop",
          "Home",
          "Home",
          "OthersHome",
          "Laptop",
          "Home",
          "Home",
          "Home",
          "Laptop",
          "Home",
          "MobilePhone",
          "MobilePhone",
          "Home",
          "Home",
          "Library",
          "School",
          "MobilePhone",
          "Home",
          "Laptop",
          "Laptop",
          "Work",
          "Home",
          "Home",
          "Home",
          "Home",
          "Home",
          "Laptop",
          "Laptop",
          "MobilePhone",
          "Work",
          "Home",
          "Home",
          "Home",
          "Laptop",
          "Laptop",
          "Laptop",
          "Home",
          "MobilePhone",
          "Home",
          "Home",
          "Home",
          "Home",
          "Home",
          "Home",
          "Laptop",
          "Work",
          "Home",
          "Home",
          "Laptop",
          "MobilePhone",
          "Home",
          "Home",
          "Laptop",
          "Home",
          "Home",
          "MobilePhone",
          "Home",
          "Home",
          "Home",
          "Home",
          "Laptop",
          "Home",
          "School",
          "Home",
          "Home",
          "MobilePhone",
          "Work",
          "Home",
          "MobilePhone",
          "Home",
          "Home",
          "Home",
          "Home",
          "Home",
          "Home",
          "Laptop",
          "Laptop",
          "Home",
          "MobilePhone",
          "School",
          "Home"
         ],
         "xaxis": "x",
         "yaxis": "y"
        }
       ],
       "layout": {
        "barmode": "group",
        "barnorm": "percent",
        "height": 600,
        "legend": {
         "tracegroupgap": 0
        },
        "margin": {
         "t": 60
        },
        "template": {
         "data": {
          "bar": [
           {
            "error_x": {
             "color": "#2a3f5f"
            },
            "error_y": {
             "color": "#2a3f5f"
            },
            "marker": {
             "line": {
              "color": "#E5ECF6",
              "width": 0.5
             }
            },
            "type": "bar"
           }
          ],
          "barpolar": [
           {
            "marker": {
             "line": {
              "color": "#E5ECF6",
              "width": 0.5
             }
            },
            "type": "barpolar"
           }
          ],
          "carpet": [
           {
            "aaxis": {
             "endlinecolor": "#2a3f5f",
             "gridcolor": "white",
             "linecolor": "white",
             "minorgridcolor": "white",
             "startlinecolor": "#2a3f5f"
            },
            "baxis": {
             "endlinecolor": "#2a3f5f",
             "gridcolor": "white",
             "linecolor": "white",
             "minorgridcolor": "white",
             "startlinecolor": "#2a3f5f"
            },
            "type": "carpet"
           }
          ],
          "choropleth": [
           {
            "colorbar": {
             "outlinewidth": 0,
             "ticks": ""
            },
            "type": "choropleth"
           }
          ],
          "contour": [
           {
            "colorbar": {
             "outlinewidth": 0,
             "ticks": ""
            },
            "colorscale": [
             [
              0,
              "#0d0887"
             ],
             [
              0.1111111111111111,
              "#46039f"
             ],
             [
              0.2222222222222222,
              "#7201a8"
             ],
             [
              0.3333333333333333,
              "#9c179e"
             ],
             [
              0.4444444444444444,
              "#bd3786"
             ],
             [
              0.5555555555555556,
              "#d8576b"
             ],
             [
              0.6666666666666666,
              "#ed7953"
             ],
             [
              0.7777777777777778,
              "#fb9f3a"
             ],
             [
              0.8888888888888888,
              "#fdca26"
             ],
             [
              1,
              "#f0f921"
             ]
            ],
            "type": "contour"
           }
          ],
          "contourcarpet": [
           {
            "colorbar": {
             "outlinewidth": 0,
             "ticks": ""
            },
            "type": "contourcarpet"
           }
          ],
          "heatmap": [
           {
            "colorbar": {
             "outlinewidth": 0,
             "ticks": ""
            },
            "colorscale": [
             [
              0,
              "#0d0887"
             ],
             [
              0.1111111111111111,
              "#46039f"
             ],
             [
              0.2222222222222222,
              "#7201a8"
             ],
             [
              0.3333333333333333,
              "#9c179e"
             ],
             [
              0.4444444444444444,
              "#bd3786"
             ],
             [
              0.5555555555555556,
              "#d8576b"
             ],
             [
              0.6666666666666666,
              "#ed7953"
             ],
             [
              0.7777777777777778,
              "#fb9f3a"
             ],
             [
              0.8888888888888888,
              "#fdca26"
             ],
             [
              1,
              "#f0f921"
             ]
            ],
            "type": "heatmap"
           }
          ],
          "heatmapgl": [
           {
            "colorbar": {
             "outlinewidth": 0,
             "ticks": ""
            },
            "colorscale": [
             [
              0,
              "#0d0887"
             ],
             [
              0.1111111111111111,
              "#46039f"
             ],
             [
              0.2222222222222222,
              "#7201a8"
             ],
             [
              0.3333333333333333,
              "#9c179e"
             ],
             [
              0.4444444444444444,
              "#bd3786"
             ],
             [
              0.5555555555555556,
              "#d8576b"
             ],
             [
              0.6666666666666666,
              "#ed7953"
             ],
             [
              0.7777777777777778,
              "#fb9f3a"
             ],
             [
              0.8888888888888888,
              "#fdca26"
             ],
             [
              1,
              "#f0f921"
             ]
            ],
            "type": "heatmapgl"
           }
          ],
          "histogram": [
           {
            "marker": {
             "colorbar": {
              "outlinewidth": 0,
              "ticks": ""
             }
            },
            "type": "histogram"
           }
          ],
          "histogram2d": [
           {
            "colorbar": {
             "outlinewidth": 0,
             "ticks": ""
            },
            "colorscale": [
             [
              0,
              "#0d0887"
             ],
             [
              0.1111111111111111,
              "#46039f"
             ],
             [
              0.2222222222222222,
              "#7201a8"
             ],
             [
              0.3333333333333333,
              "#9c179e"
             ],
             [
              0.4444444444444444,
              "#bd3786"
             ],
             [
              0.5555555555555556,
              "#d8576b"
             ],
             [
              0.6666666666666666,
              "#ed7953"
             ],
             [
              0.7777777777777778,
              "#fb9f3a"
             ],
             [
              0.8888888888888888,
              "#fdca26"
             ],
             [
              1,
              "#f0f921"
             ]
            ],
            "type": "histogram2d"
           }
          ],
          "histogram2dcontour": [
           {
            "colorbar": {
             "outlinewidth": 0,
             "ticks": ""
            },
            "colorscale": [
             [
              0,
              "#0d0887"
             ],
             [
              0.1111111111111111,
              "#46039f"
             ],
             [
              0.2222222222222222,
              "#7201a8"
             ],
             [
              0.3333333333333333,
              "#9c179e"
             ],
             [
              0.4444444444444444,
              "#bd3786"
             ],
             [
              0.5555555555555556,
              "#d8576b"
             ],
             [
              0.6666666666666666,
              "#ed7953"
             ],
             [
              0.7777777777777778,
              "#fb9f3a"
             ],
             [
              0.8888888888888888,
              "#fdca26"
             ],
             [
              1,
              "#f0f921"
             ]
            ],
            "type": "histogram2dcontour"
           }
          ],
          "mesh3d": [
           {
            "colorbar": {
             "outlinewidth": 0,
             "ticks": ""
            },
            "type": "mesh3d"
           }
          ],
          "parcoords": [
           {
            "line": {
             "colorbar": {
              "outlinewidth": 0,
              "ticks": ""
             }
            },
            "type": "parcoords"
           }
          ],
          "scatter": [
           {
            "marker": {
             "colorbar": {
              "outlinewidth": 0,
              "ticks": ""
             }
            },
            "type": "scatter"
           }
          ],
          "scatter3d": [
           {
            "line": {
             "colorbar": {
              "outlinewidth": 0,
              "ticks": ""
             }
            },
            "marker": {
             "colorbar": {
              "outlinewidth": 0,
              "ticks": ""
             }
            },
            "type": "scatter3d"
           }
          ],
          "scattercarpet": [
           {
            "marker": {
             "colorbar": {
              "outlinewidth": 0,
              "ticks": ""
             }
            },
            "type": "scattercarpet"
           }
          ],
          "scattergeo": [
           {
            "marker": {
             "colorbar": {
              "outlinewidth": 0,
              "ticks": ""
             }
            },
            "type": "scattergeo"
           }
          ],
          "scattergl": [
           {
            "marker": {
             "colorbar": {
              "outlinewidth": 0,
              "ticks": ""
             }
            },
            "type": "scattergl"
           }
          ],
          "scattermapbox": [
           {
            "marker": {
             "colorbar": {
              "outlinewidth": 0,
              "ticks": ""
             }
            },
            "type": "scattermapbox"
           }
          ],
          "scatterpolar": [
           {
            "marker": {
             "colorbar": {
              "outlinewidth": 0,
              "ticks": ""
             }
            },
            "type": "scatterpolar"
           }
          ],
          "scatterpolargl": [
           {
            "marker": {
             "colorbar": {
              "outlinewidth": 0,
              "ticks": ""
             }
            },
            "type": "scatterpolargl"
           }
          ],
          "scatterternary": [
           {
            "marker": {
             "colorbar": {
              "outlinewidth": 0,
              "ticks": ""
             }
            },
            "type": "scatterternary"
           }
          ],
          "surface": [
           {
            "colorbar": {
             "outlinewidth": 0,
             "ticks": ""
            },
            "colorscale": [
             [
              0,
              "#0d0887"
             ],
             [
              0.1111111111111111,
              "#46039f"
             ],
             [
              0.2222222222222222,
              "#7201a8"
             ],
             [
              0.3333333333333333,
              "#9c179e"
             ],
             [
              0.4444444444444444,
              "#bd3786"
             ],
             [
              0.5555555555555556,
              "#d8576b"
             ],
             [
              0.6666666666666666,
              "#ed7953"
             ],
             [
              0.7777777777777778,
              "#fb9f3a"
             ],
             [
              0.8888888888888888,
              "#fdca26"
             ],
             [
              1,
              "#f0f921"
             ]
            ],
            "type": "surface"
           }
          ],
          "table": [
           {
            "cells": {
             "fill": {
              "color": "#EBF0F8"
             },
             "line": {
              "color": "white"
             }
            },
            "header": {
             "fill": {
              "color": "#C8D4E3"
             },
             "line": {
              "color": "white"
             }
            },
            "type": "table"
           }
          ]
         },
         "layout": {
          "annotationdefaults": {
           "arrowcolor": "#2a3f5f",
           "arrowhead": 0,
           "arrowwidth": 1
          },
          "colorscale": {
           "diverging": [
            [
             0,
             "#8e0152"
            ],
            [
             0.1,
             "#c51b7d"
            ],
            [
             0.2,
             "#de77ae"
            ],
            [
             0.3,
             "#f1b6da"
            ],
            [
             0.4,
             "#fde0ef"
            ],
            [
             0.5,
             "#f7f7f7"
            ],
            [
             0.6,
             "#e6f5d0"
            ],
            [
             0.7,
             "#b8e186"
            ],
            [
             0.8,
             "#7fbc41"
            ],
            [
             0.9,
             "#4d9221"
            ],
            [
             1,
             "#276419"
            ]
           ],
           "sequential": [
            [
             0,
             "#0d0887"
            ],
            [
             0.1111111111111111,
             "#46039f"
            ],
            [
             0.2222222222222222,
             "#7201a8"
            ],
            [
             0.3333333333333333,
             "#9c179e"
            ],
            [
             0.4444444444444444,
             "#bd3786"
            ],
            [
             0.5555555555555556,
             "#d8576b"
            ],
            [
             0.6666666666666666,
             "#ed7953"
            ],
            [
             0.7777777777777778,
             "#fb9f3a"
            ],
            [
             0.8888888888888888,
             "#fdca26"
            ],
            [
             1,
             "#f0f921"
            ]
           ],
           "sequentialminus": [
            [
             0,
             "#0d0887"
            ],
            [
             0.1111111111111111,
             "#46039f"
            ],
            [
             0.2222222222222222,
             "#7201a8"
            ],
            [
             0.3333333333333333,
             "#9c179e"
            ],
            [
             0.4444444444444444,
             "#bd3786"
            ],
            [
             0.5555555555555556,
             "#d8576b"
            ],
            [
             0.6666666666666666,
             "#ed7953"
            ],
            [
             0.7777777777777778,
             "#fb9f3a"
            ],
            [
             0.8888888888888888,
             "#fdca26"
            ],
            [
             1,
             "#f0f921"
            ]
           ]
          },
          "colorway": [
           "#636efa",
           "#EF553B",
           "#00cc96",
           "#ab63fa",
           "#FFA15A",
           "#19d3f3",
           "#FF6692",
           "#B6E880",
           "#FF97FF",
           "#FECB52"
          ],
          "font": {
           "color": "#2a3f5f"
          },
          "geo": {
           "bgcolor": "white",
           "lakecolor": "white",
           "landcolor": "#E5ECF6",
           "showlakes": true,
           "showland": true,
           "subunitcolor": "white"
          },
          "hoverlabel": {
           "align": "left"
          },
          "hovermode": "closest",
          "mapbox": {
           "style": "light"
          },
          "paper_bgcolor": "white",
          "plot_bgcolor": "#E5ECF6",
          "polar": {
           "angularaxis": {
            "gridcolor": "white",
            "linecolor": "white",
            "ticks": ""
           },
           "bgcolor": "#E5ECF6",
           "radialaxis": {
            "gridcolor": "white",
            "linecolor": "white",
            "ticks": ""
           }
          },
          "scene": {
           "xaxis": {
            "backgroundcolor": "#E5ECF6",
            "gridcolor": "white",
            "gridwidth": 2,
            "linecolor": "white",
            "showbackground": true,
            "ticks": "",
            "zerolinecolor": "white"
           },
           "yaxis": {
            "backgroundcolor": "#E5ECF6",
            "gridcolor": "white",
            "gridwidth": 2,
            "linecolor": "white",
            "showbackground": true,
            "ticks": "",
            "zerolinecolor": "white"
           },
           "zaxis": {
            "backgroundcolor": "#E5ECF6",
            "gridcolor": "white",
            "gridwidth": 2,
            "linecolor": "white",
            "showbackground": true,
            "ticks": "",
            "zerolinecolor": "white"
           }
          },
          "shapedefaults": {
           "line": {
            "color": "#2a3f5f"
           }
          },
          "ternary": {
           "aaxis": {
            "gridcolor": "white",
            "linecolor": "white",
            "ticks": ""
           },
           "baxis": {
            "gridcolor": "white",
            "linecolor": "white",
            "ticks": ""
           },
           "bgcolor": "#E5ECF6",
           "caxis": {
            "gridcolor": "white",
            "linecolor": "white",
            "ticks": ""
           }
          },
          "title": {
           "x": 0.05
          },
          "xaxis": {
           "automargin": true,
           "gridcolor": "white",
           "linecolor": "white",
           "ticks": "",
           "zerolinecolor": "white",
           "zerolinewidth": 2
          },
          "yaxis": {
           "automargin": true,
           "gridcolor": "white",
           "linecolor": "white",
           "ticks": "",
           "zerolinecolor": "white",
           "zerolinewidth": 2
          }
         }
        },
        "xaxis": {
         "anchor": "y",
         "domain": [
          0,
          0.98
         ],
         "title": {
          "text": "internetAccessSetting_Groups"
         }
        },
        "yaxis": {
         "anchor": "x",
         "domain": [
          0,
          1
         ],
         "title": {
          "text": "Percent"
         }
        }
       }
      },
      "text/html": [
       "<div>\n",
       "        \n",
       "        \n",
       "            <div id=\"388cf6b2-4534-45de-84b7-fddcc80a5a06\" class=\"plotly-graph-div\" style=\"height:600px; width:100%;\"></div>\n",
       "            <script type=\"text/javascript\">\n",
       "                require([\"plotly\"], function(Plotly) {\n",
       "                    window.PLOTLYENV=window.PLOTLYENV || {};\n",
       "                    \n",
       "                if (document.getElementById(\"388cf6b2-4534-45de-84b7-fddcc80a5a06\")) {\n",
       "                    Plotly.newPlot(\n",
       "                        '388cf6b2-4534-45de-84b7-fddcc80a5a06',\n",
       "                        [{\"alignmentgroup\": \"True\", \"bingroup\": \"x\", \"hoverlabel\": {\"namelength\": 0}, \"hovertemplate\": \"Voted=1<br>internetAccessSetting_Groups=%{x}<br>count=%{y}\", \"legendgroup\": \"Voted=1\", \"marker\": {\"color\": \"#636EFA\"}, \"name\": \"Voted=1\", \"offsetgroup\": \"Voted=1\", \"orientation\": \"v\", \"showlegend\": true, \"type\": \"histogram\", \"x\": [\"Laptop\", \"Home\", \"Home\", \"Laptop\", \"Home\", \"Home\", \"Library\", \"Home\", \"Home\", \"Laptop\", \"Home\", \"Home\", \"Home\", \"Home\", \"Work\", \"Home\", \"Home\", \"Home\", \"Work\", \"Home\", \"Home\", \"Home\", \"Home\", \"Home\", \"Work\", \"Home\", \"Laptop\", \"School\", \"Home\", \"Home\", \"Home\", \"Home\", \"OthersHome\", \"MobilePhone\", \"Home\", \"Work\", \"Work\", \"Home\", \"Home\", \"Home\", \"Home\", \"Home\", \"Home\", \"Home\", \"Home\", \"Home\", \"Home\", \"Home\", \"Home\", \"Home\", \"Home\", \"Home\", \"Home\", \"Home\", \"Home\", \"Home\", \"Home\", \"School\", \"Laptop\", \"Home\", \"Home\", \"Home\", \"Home\", \"Home\", \"Home\", \"Home\", \"Home\", \"Home\", \"Home\", \"Home\", \"Work\", \"Laptop\", \"Home\", \"Home\", \"Home\", \"Home\", \"Home\", \"Home\", \"Home\", \"Laptop\", \"Home\", \"School\", \"Home\", \"Laptop\", \"MobilePhone\", \"Home\", \"Home\", \"Home\", \"Home\", \"Home\", \"Home\", \"Home\", \"Home\", \"Home\", \"Work\", \"Laptop\", \"Home\", \"Home\", \"Home\", \"Home\", \"School\", \"Home\", \"Home\", \"Laptop\", \"Home\", \"Home\", \"Home\", \"Laptop\", \"Home\", \"Home\", \"Home\", \"Home\", \"Home\", \"Home\", \"Home\", \"Home\", \"Home\", \"Home\", \"Home\", \"Laptop\", \"Home\", \"Home\", \"Home\", \"Home\", \"Work\", \"Home\", \"School\", \"Work\", \"Home\", \"Home\", \"MobilePhone\", \"Home\", \"Home\", \"MobilePhone\", \"Home\", \"Home\", \"Home\", \"Home\", \"Home\", \"Home\", \"School\", \"Home\", \"MobilePhone\", \"Home\", \"Laptop\", \"Home\", \"School\", \"Home\", \"Home\", \"Home\", \"Home\", \"School\", \"Home\", \"Laptop\", \"Home\", \"Home\", \"Home\", \"Laptop\", \"Home\", \"Home\", \"Home\", \"Work\", \"MobilePhone\", \"Home\", \"Home\", \"Work\", \"Home\", \"Home\", \"Home\", \"Home\", \"Home\", \"Work\", \"Home\", \"Home\", \"Home\", \"Home\", \"Work\", \"Laptop\", \"Home\", \"Laptop\", \"MobilePhone\", \"Home\", \"MobilePhone\", \"Home\", \"Home\", \"Home\", \"Home\", \"Laptop\", \"Work\", \"Home\", \"Home\", \"Home\", \"Home\", \"School\", \"Work\", \"School\", \"Home\", \"Home\", \"Home\", \"Home\", \"Work\", \"Home\", \"Home\", \"Work\", \"Home\", \"Work\", \"MobilePhone\", \"Laptop\", \"Work\", \"Home\", \"Home\", \"Home\", \"MobilePhone\", \"Work\", \"Work\", \"Work\", \"Home\", \"Work\", \"Home\", \"Home\", \"Laptop\", \"Work\", \"Home\", \"MobilePhone\", \"Home\", \"Work\", \"Work\", \"Home\", \"Home\", \"Home\", \"Laptop\", \"Work\", \"Home\", \"Work\", \"Home\", \"Laptop\", \"Work\", \"Home\", \"Work\", \"Home\", \"MobilePhone\", \"Home\", \"Home\", \"Home\", \"Work\", \"Home\", \"Work\", \"MobilePhone\", \"MobilePhone\", \"MobilePhone\", \"Home\", \"Home\", \"Home\", \"Home\", \"MobilePhone\", \"Laptop\", \"MobilePhone\", \"Home\", \"Library\", \"Home\", \"Home\", \"Home\", \"Home\", \"Home\", \"Home\", \"Work\", \"Home\", \"Laptop\", \"Home\", \"Home\", \"Work\", \"MobilePhone\", \"Home\", \"Laptop\", \"Home\", \"Home\", \"Laptop\", \"Home\", \"Laptop\", \"Home\", \"Home\", \"Home\", \"Home\", \"Work\", \"Laptop\", \"Home\", \"Home\", \"Home\", \"Home\", \"Work\", \"MobilePhone\", \"Home\", \"Home\", \"Home\", \"School\", \"Home\", \"Work\", \"Home\", \"Laptop\", \"Work\", \"Laptop\", \"Laptop\", \"Home\", \"Home\", \"Home\", \"Laptop\", \"Home\", \"Work\", \"Home\", \"Laptop\", \"Home\", \"Home\", \"Work\", \"Work\", \"Home\", \"Work\", \"Home\", \"Work\", \"OthersHome\", \"Home\", \"Home\", \"Home\", \"Home\", \"MobilePhone\", \"Home\", \"Laptop\", \"Home\", \"Home\", \"Home\", \"Home\", \"Home\", \"Home\", \"Home\", \"Work\", \"OthersHome\", \"Home\", \"Work\", \"Home\", \"Home\", \"Home\", \"Home\", \"Home\", \"MobilePhone\", \"Library\", \"Home\", \"Laptop\", \"Work\", \"Home\", \"Work\", \"Home\", \"Home\", \"Work\", \"Work\", \"Work\", \"Home\", \"Home\", \"Work\", \"Home\", \"Home\", \"Laptop\", \"Home\", \"MobilePhone\", \"MobilePhone\", \"Work\", \"Home\", \"Home\", \"Library\", \"Laptop\", \"Home\", \"Laptop\", \"Home\", \"Home\", \"Home\", \"Home\", \"Home\", \"Work\", \"Home\", \"Home\", \"Work\", \"Cafe/Kiosk\", \"Home\", \"Library\", \"Home\", \"Home\", \"Home\", \"Home\", \"Home\", \"Home\", \"Home\", \"Home\", \"MobilePhone\", \"Home\", \"Home\", \"Home\", \"Home\", \"Home\", \"Home\", \"Home\", \"Home\", \"Home\", \"Work\", \"Home\", \"Home\", \"School\", \"Home\", \"Work\", \"Laptop\", \"Home\", \"Home\", \"School\", \"Home\", \"Home\", \"MobilePhone\", \"Home\", \"Cafe/Kiosk\", \"Home\", \"Laptop\", \"Home\", \"Home\", \"Home\", \"School\", \"Home\", \"Home\", \"Work\", \"School\", \"Laptop\", \"School\", \"Home\", \"MobilePhone\", \"Home\", \"Home\", \"Home\", \"Home\", \"Home\", \"Library\", \"Home\", \"Work\", \"Home\", \"Work\", \"Work\", \"Cafe/Kiosk\", \"Home\", \"MobilePhone\", \"Home\", \"Home\", \"Home\", \"Laptop\", \"Work\", \"Laptop\", \"Home\", \"Home\", \"Home\", \"Home\", \"Laptop\", \"Home\", \"Laptop\", \"Home\", \"Home\", \"Home\", \"Home\", \"Home\", \"Laptop\", \"Home\", \"Home\", \"Home\", \"School\", \"Home\", \"Home\", \"Laptop\", \"Home\", \"Home\", \"Laptop\", \"Laptop\", \"School\", \"Laptop\", \"Home\", \"Home\", \"Home\", \"Home\", \"Home\", \"Home\", \"Laptop\", \"School\", \"Home\", \"Home\", \"Home\", \"MobilePhone\", \"Home\", \"Home\", \"Work\", \"Home\", \"MobilePhone\", \"Home\", \"Home\", \"Home\", \"Home\", \"Work\", \"Home\", \"Home\", \"Laptop\", \"MobilePhone\", \"MobilePhone\", \"Home\", \"Laptop\", \"Home\", \"Home\", \"Laptop\", \"Work\", \"Cafe/Kiosk\", \"Home\", \"Home\", \"School\", \"Work\", \"Home\", \"Home\", \"Work\", \"Home\", \"Home\", \"Home\", \"MobilePhone\", \"Home\", \"Home\", \"Home\", \"MobilePhone\", \"Laptop\", \"Home\", \"Home\", \"MobilePhone\", \"Home\", \"Home\", \"Home\", \"Work\", \"Home\", \"Laptop\", \"Home\", \"Work\", \"Home\", \"Laptop\", \"Home\", \"Laptop\", \"Laptop\", \"Home\", \"Home\", \"Home\", \"MobilePhone\", \"Laptop\", \"School\", \"Laptop\", \"Work\", \"Home\", \"Home\", \"Home\", \"MobilePhone\", \"Home\", \"Work\", \"MobilePhone\", \"Home\", \"Work\", \"Home\", \"MobilePhone\", \"Home\", \"Laptop\", \"Home\", \"School\", \"Home\", \"Home\", \"Home\", \"Home\", \"Home\", \"Home\", \"Home\", \"Home\", \"Home\", \"Cafe/Kiosk\", \"Home\", \"Work\", \"Home\", \"Home\", \"Home\", \"Laptop\", \"Home\", \"Home\", \"Laptop\", \"Home\", \"School\", \"MobilePhone\", \"Home\", \"Home\", \"Home\", \"Home\", \"Home\", \"Home\", \"School\", \"Home\", \"Home\", \"Home\", \"Work\", \"Home\", \"Work\", \"MobilePhone\", \"Home\", \"Home\", \"Home\", \"Home\", \"Cafe/Kiosk\", \"Home\", \"Work\", \"Home\", \"Home\", \"Home\", \"Work\", \"Work\", \"Home\", \"Home\", \"Home\", \"Home\", \"Home\", \"Home\", \"School\", \"Home\", \"Home\", \"Home\", \"MobilePhone\", \"MobilePhone\", \"Home\", \"MobilePhone\", \"Home\", \"Home\", \"Home\", \"Home\", \"Work\", \"Home\", \"Home\", \"Laptop\", \"Home\", \"Home\", \"Library\", \"Home\", \"Laptop\", \"Home\", \"MobilePhone\", \"Home\", \"Home\", \"Home\", \"Laptop\", \"Home\", \"Home\", \"Work\", \"School\", \"Home\", \"Home\", \"School\", \"Home\", \"Laptop\", \"Home\", \"Home\", \"Home\", \"School\", \"Home\", \"Home\", \"Laptop\", \"Home\", \"Home\", \"Home\", \"Home\", \"Home\", \"Home\", \"Laptop\", \"Home\", \"School\", \"Work\", \"Work\", \"Home\", \"Home\", \"Home\", \"Home\", \"Home\", \"MobilePhone\", \"Home\", \"Work\", \"Home\", \"Home\", \"MobilePhone\", \"Home\", \"Home\", \"MobilePhone\", \"Home\", \"School\", \"Home\", \"Home\", \"Home\", \"School\", \"School\", \"Home\", \"Laptop\", \"Home\", \"Home\", \"MobilePhone\", \"Laptop\", \"Home\", \"Home\", \"Home\", \"Laptop\", \"Home\", \"Home\", \"Laptop\", \"Home\", \"Home\", \"Home\", \"School\", \"School\", \"Home\", \"Laptop\", \"Home\", \"Home\", \"Home\", \"Laptop\", \"Laptop\", \"Home\", \"Laptop\", \"Home\", \"Home\", \"Laptop\", \"MobilePhone\", \"Home\", \"Home\", \"Work\", \"Cafe/Kiosk\", \"Home\", \"Laptop\", \"Home\", \"MobilePhone\", \"Home\", \"Home\", \"School\", \"Home\", \"Home\", \"Laptop\", \"Home\", \"Home\", \"MobilePhone\", \"Laptop\", \"School\", \"Home\", \"Home\", \"Home\", \"Home\", \"Laptop\", \"Home\", \"Home\", \"Home\", \"Home\", \"Home\", \"Home\", \"Home\", \"Home\", \"Home\", \"MobilePhone\", \"Home\", \"Home\", \"Home\", \"School\", \"School\", \"School\", \"Laptop\", \"Home\", \"School\", \"Home\", \"School\"], \"xaxis\": \"x\", \"yaxis\": \"y\"}, {\"alignmentgroup\": \"True\", \"bingroup\": \"x\", \"hoverlabel\": {\"namelength\": 0}, \"hovertemplate\": \"Voted=0<br>internetAccessSetting_Groups=%{x}<br>count=%{y}\", \"legendgroup\": \"Voted=0\", \"marker\": {\"color\": \"#EF553B\"}, \"name\": \"Voted=0\", \"offsetgroup\": \"Voted=0\", \"orientation\": \"v\", \"showlegend\": true, \"type\": \"histogram\", \"x\": [\"Home\", \"Work\", \"Home\", \"MobilePhone\", \"Work\", \"Home\", \"Home\", \"MobilePhone\", \"MobilePhone\", \"Home\", \"Home\", \"Work\", \"Home\", \"Laptop\", \"OthersHome\", \"MobilePhone\", \"Home\", \"MobilePhone\", \"Home\", \"School\", \"Home\", \"Home\", \"Laptop\", \"School\", \"Home\", \"Home\", \"Home\", \"Work\", \"Home\", \"Home\", \"Home\", \"Home\", \"Home\", \"Home\", \"MobilePhone\", \"Home\", \"Home\", \"Laptop\", \"Home\", \"Home\", \"Home\", \"Home\", \"Home\", \"Home\", \"Laptop\", \"Home\", \"MobilePhone\", \"Home\", \"Home\", \"Home\", \"School\", \"Laptop\", \"Home\", \"Home\", \"Home\", \"MobilePhone\", \"MobilePhone\", \"Laptop\", \"Home\", \"Home\", \"Home\", \"Work\", \"MobilePhone\", \"Home\", \"School\", \"Home\", \"Home\", \"Home\", \"Home\", \"Laptop\", \"Home\", \"MobilePhone\", \"Home\", \"Home\", \"Home\", \"Home\", \"Home\", \"MobilePhone\", \"Home\", \"Home\", \"Home\", \"Home\", \"Home\", \"Home\", \"Home\", \"MobilePhone\", \"Home\", \"Home\", \"Home\", \"Home\", \"MobilePhone\", \"Home\", \"Home\", \"Home\", \"Home\", \"Laptop\", \"Home\", \"Home\", \"Home\", \"Home\", \"Home\", \"Home\", \"MobilePhone\", \"Home\", \"Laptop\", \"Home\", \"Home\", \"Home\", \"Home\", \"Home\", \"Home\", \"Home\", \"Home\", \"Laptop\", \"Home\", \"Home\", \"Home\", \"Laptop\", \"School\", \"Work\", \"Laptop\", \"Home\", \"Home\", \"Work\", \"Home\", \"Home\", \"MobilePhone\", \"Home\", \"Home\", \"Laptop\", \"Home\", \"Home\", \"MobilePhone\", \"Home\", \"Home\", \"Home\", \"Home\", \"Home\", \"Laptop\", \"Home\", \"Home\", \"Home\", \"School\", \"Work\", \"Home\", \"Home\", \"Home\", \"Home\", \"School\", \"Laptop\", \"Home\", \"Work\", \"Home\", \"Work\", \"Home\", \"School\", \"Home\", \"Home\", \"MobilePhone\", \"Home\", \"Laptop\", \"School\", \"Laptop\", \"Work\", \"Home\", \"Home\", \"Laptop\", \"Laptop\", \"Home\", \"Home\", \"Home\", \"Home\", \"Laptop\", \"Home\", \"Home\", \"Home\", \"Home\", \"Laptop\", \"Home\", \"Home\", \"Home\", \"MobilePhone\", \"Laptop\", \"Work\", \"Home\", \"Home\", \"Laptop\", \"Home\", \"School\", \"Laptop\", \"Home\", \"Laptop\", \"Laptop\", \"Work\", \"Home\", \"Work\", \"Home\", \"Laptop\", \"Home\", \"Home\", \"Home\", \"Home\", \"Laptop\", \"Laptop\", \"Home\", \"Laptop\", \"MobilePhone\", \"Home\", \"School\", \"Home\", \"Laptop\", \"MobilePhone\", \"Home\", \"School\", \"Home\", \"Home\", \"School\", \"Home\", \"Home\", \"Home\", \"Home\", \"OthersHome\", \"Home\", \"Home\", \"Home\", \"Home\", \"School\", \"Home\", \"Laptop\", \"Home\", \"Home\", \"Home\", \"Laptop\", \"Laptop\", \"MobilePhone\", \"Home\", \"Home\", \"Home\", \"MobilePhone\", \"Laptop\", \"Home\", \"MobilePhone\", \"Library\", \"Home\", \"Laptop\", \"Home\", \"Home\", \"Home\", \"Home\", \"Home\", \"Home\", \"Home\", \"School\", \"Home\", \"Home\", \"Home\", \"Home\", \"MobilePhone\", \"School\", \"Home\", \"MobilePhone\", \"Home\", \"School\", \"MobilePhone\", \"Home\", \"Home\", \"School\", \"OthersHome\", \"Home\", \"MobilePhone\", \"Home\", \"OthersHome\", \"MobilePhone\", \"MobilePhone\", \"Home\", \"Work\", \"Home\", \"Home\", \"Home\", \"MobilePhone\", \"MobilePhone\", \"Home\", \"Home\", \"Home\", \"Home\", \"Home\", \"Laptop\", \"Home\", \"MobilePhone\", \"Home\", \"Home\", \"MobilePhone\", \"Home\", \"MobilePhone\", \"Work\", \"School\", \"Work\", \"Home\", \"Home\", \"Work\", \"Home\", \"Home\", \"Home\", \"Work\", \"Home\", \"Home\", \"Home\", \"Work\", \"Laptop\", \"Laptop\", \"MobilePhone\", \"Laptop\", \"Home\", \"Home\", \"Home\", \"Home\", \"School\", \"Home\", \"Home\", \"OthersHome\", \"Home\", \"Home\", \"MobilePhone\", \"Home\", \"MobilePhone\", \"MobilePhone\", \"Home\", \"Home\", \"MobilePhone\", \"Home\", \"School\", \"Home\", \"Home\", \"MobilePhone\", \"MobilePhone\", \"MobilePhone\", \"Home\", \"Laptop\", \"Home\", \"Home\", \"Work\", \"Home\", \"Home\", \"Home\", \"Home\", \"Home\", \"Home\", \"Home\", \"Home\", \"Home\", \"Laptop\", \"Laptop\", \"MobilePhone\", \"MobilePhone\", \"Home\", \"Home\", \"Home\", \"MobilePhone\", \"Home\", \"Home\", \"Home\", \"School\", \"School\", \"Cafe/Kiosk\", \"Home\", \"Work\", \"Home\", \"Home\", \"MobilePhone\", \"Home\", \"Laptop\", \"Home\", \"Home\", \"Home\", \"Home\", \"Home\", \"MobilePhone\", \"Home\", \"Laptop\", \"Home\", \"Home\", \"OthersHome\", \"Laptop\", \"Home\", \"Home\", \"Home\", \"Laptop\", \"Home\", \"MobilePhone\", \"MobilePhone\", \"Home\", \"Home\", \"Library\", \"School\", \"MobilePhone\", \"Home\", \"Laptop\", \"Laptop\", \"Work\", \"Home\", \"Home\", \"Home\", \"Home\", \"Home\", \"Laptop\", \"Laptop\", \"MobilePhone\", \"Work\", \"Home\", \"Home\", \"Home\", \"Laptop\", \"Laptop\", \"Laptop\", \"Home\", \"MobilePhone\", \"Home\", \"Home\", \"Home\", \"Home\", \"Home\", \"Home\", \"Laptop\", \"Work\", \"Home\", \"Home\", \"Laptop\", \"MobilePhone\", \"Home\", \"Home\", \"Laptop\", \"Home\", \"Home\", \"MobilePhone\", \"Home\", \"Home\", \"Home\", \"Home\", \"Laptop\", \"Home\", \"School\", \"Home\", \"Home\", \"MobilePhone\", \"Work\", \"Home\", \"MobilePhone\", \"Home\", \"Home\", \"Home\", \"Home\", \"Home\", \"Home\", \"Laptop\", \"Laptop\", \"Home\", \"MobilePhone\", \"School\", \"Home\"], \"xaxis\": \"x\", \"yaxis\": \"y\"}],\n",
       "                        {\"barmode\": \"group\", \"barnorm\": \"percent\", \"height\": 600, \"legend\": {\"tracegroupgap\": 0}, \"margin\": {\"t\": 60}, \"template\": {\"data\": {\"bar\": [{\"error_x\": {\"color\": \"#2a3f5f\"}, \"error_y\": {\"color\": \"#2a3f5f\"}, \"marker\": {\"line\": {\"color\": \"#E5ECF6\", \"width\": 0.5}}, \"type\": \"bar\"}], \"barpolar\": [{\"marker\": {\"line\": {\"color\": \"#E5ECF6\", \"width\": 0.5}}, \"type\": \"barpolar\"}], \"carpet\": [{\"aaxis\": {\"endlinecolor\": \"#2a3f5f\", \"gridcolor\": \"white\", \"linecolor\": \"white\", \"minorgridcolor\": \"white\", \"startlinecolor\": \"#2a3f5f\"}, \"baxis\": {\"endlinecolor\": \"#2a3f5f\", \"gridcolor\": \"white\", \"linecolor\": \"white\", \"minorgridcolor\": \"white\", \"startlinecolor\": \"#2a3f5f\"}, \"type\": \"carpet\"}], \"choropleth\": [{\"colorbar\": {\"outlinewidth\": 0, \"ticks\": \"\"}, \"type\": \"choropleth\"}], \"contour\": [{\"colorbar\": {\"outlinewidth\": 0, \"ticks\": \"\"}, \"colorscale\": [[0.0, \"#0d0887\"], [0.1111111111111111, \"#46039f\"], [0.2222222222222222, \"#7201a8\"], [0.3333333333333333, \"#9c179e\"], [0.4444444444444444, \"#bd3786\"], [0.5555555555555556, \"#d8576b\"], [0.6666666666666666, \"#ed7953\"], [0.7777777777777778, \"#fb9f3a\"], [0.8888888888888888, \"#fdca26\"], [1.0, \"#f0f921\"]], \"type\": \"contour\"}], \"contourcarpet\": [{\"colorbar\": {\"outlinewidth\": 0, \"ticks\": \"\"}, \"type\": \"contourcarpet\"}], \"heatmap\": [{\"colorbar\": {\"outlinewidth\": 0, \"ticks\": \"\"}, \"colorscale\": [[0.0, \"#0d0887\"], [0.1111111111111111, \"#46039f\"], [0.2222222222222222, \"#7201a8\"], [0.3333333333333333, \"#9c179e\"], [0.4444444444444444, \"#bd3786\"], [0.5555555555555556, \"#d8576b\"], [0.6666666666666666, \"#ed7953\"], [0.7777777777777778, \"#fb9f3a\"], [0.8888888888888888, \"#fdca26\"], [1.0, \"#f0f921\"]], \"type\": \"heatmap\"}], \"heatmapgl\": [{\"colorbar\": {\"outlinewidth\": 0, \"ticks\": \"\"}, \"colorscale\": [[0.0, \"#0d0887\"], [0.1111111111111111, \"#46039f\"], [0.2222222222222222, \"#7201a8\"], [0.3333333333333333, \"#9c179e\"], [0.4444444444444444, \"#bd3786\"], [0.5555555555555556, \"#d8576b\"], [0.6666666666666666, \"#ed7953\"], [0.7777777777777778, \"#fb9f3a\"], [0.8888888888888888, \"#fdca26\"], [1.0, \"#f0f921\"]], \"type\": \"heatmapgl\"}], \"histogram\": [{\"marker\": {\"colorbar\": {\"outlinewidth\": 0, \"ticks\": \"\"}}, \"type\": \"histogram\"}], \"histogram2d\": [{\"colorbar\": {\"outlinewidth\": 0, \"ticks\": \"\"}, \"colorscale\": [[0.0, \"#0d0887\"], [0.1111111111111111, \"#46039f\"], [0.2222222222222222, \"#7201a8\"], [0.3333333333333333, \"#9c179e\"], [0.4444444444444444, \"#bd3786\"], [0.5555555555555556, \"#d8576b\"], [0.6666666666666666, \"#ed7953\"], [0.7777777777777778, \"#fb9f3a\"], [0.8888888888888888, \"#fdca26\"], [1.0, \"#f0f921\"]], \"type\": \"histogram2d\"}], \"histogram2dcontour\": [{\"colorbar\": {\"outlinewidth\": 0, \"ticks\": \"\"}, \"colorscale\": [[0.0, \"#0d0887\"], [0.1111111111111111, \"#46039f\"], [0.2222222222222222, \"#7201a8\"], [0.3333333333333333, \"#9c179e\"], [0.4444444444444444, \"#bd3786\"], [0.5555555555555556, \"#d8576b\"], [0.6666666666666666, \"#ed7953\"], [0.7777777777777778, \"#fb9f3a\"], [0.8888888888888888, \"#fdca26\"], [1.0, \"#f0f921\"]], \"type\": \"histogram2dcontour\"}], \"mesh3d\": [{\"colorbar\": {\"outlinewidth\": 0, \"ticks\": \"\"}, \"type\": \"mesh3d\"}], \"parcoords\": [{\"line\": {\"colorbar\": {\"outlinewidth\": 0, \"ticks\": \"\"}}, \"type\": \"parcoords\"}], \"scatter\": [{\"marker\": {\"colorbar\": {\"outlinewidth\": 0, \"ticks\": \"\"}}, \"type\": \"scatter\"}], \"scatter3d\": [{\"line\": {\"colorbar\": {\"outlinewidth\": 0, \"ticks\": \"\"}}, \"marker\": {\"colorbar\": {\"outlinewidth\": 0, \"ticks\": \"\"}}, \"type\": \"scatter3d\"}], \"scattercarpet\": [{\"marker\": {\"colorbar\": {\"outlinewidth\": 0, \"ticks\": \"\"}}, \"type\": \"scattercarpet\"}], \"scattergeo\": [{\"marker\": {\"colorbar\": {\"outlinewidth\": 0, \"ticks\": \"\"}}, \"type\": \"scattergeo\"}], \"scattergl\": [{\"marker\": {\"colorbar\": {\"outlinewidth\": 0, \"ticks\": \"\"}}, \"type\": \"scattergl\"}], \"scattermapbox\": [{\"marker\": {\"colorbar\": {\"outlinewidth\": 0, \"ticks\": \"\"}}, \"type\": \"scattermapbox\"}], \"scatterpolar\": [{\"marker\": {\"colorbar\": {\"outlinewidth\": 0, \"ticks\": \"\"}}, \"type\": \"scatterpolar\"}], \"scatterpolargl\": [{\"marker\": {\"colorbar\": {\"outlinewidth\": 0, \"ticks\": \"\"}}, \"type\": \"scatterpolargl\"}], \"scatterternary\": [{\"marker\": {\"colorbar\": {\"outlinewidth\": 0, \"ticks\": \"\"}}, \"type\": \"scatterternary\"}], \"surface\": [{\"colorbar\": {\"outlinewidth\": 0, \"ticks\": \"\"}, \"colorscale\": [[0.0, \"#0d0887\"], [0.1111111111111111, \"#46039f\"], [0.2222222222222222, \"#7201a8\"], [0.3333333333333333, \"#9c179e\"], [0.4444444444444444, \"#bd3786\"], [0.5555555555555556, \"#d8576b\"], [0.6666666666666666, \"#ed7953\"], [0.7777777777777778, \"#fb9f3a\"], [0.8888888888888888, \"#fdca26\"], [1.0, \"#f0f921\"]], \"type\": \"surface\"}], \"table\": [{\"cells\": {\"fill\": {\"color\": \"#EBF0F8\"}, \"line\": {\"color\": \"white\"}}, \"header\": {\"fill\": {\"color\": \"#C8D4E3\"}, \"line\": {\"color\": \"white\"}}, \"type\": \"table\"}]}, \"layout\": {\"annotationdefaults\": {\"arrowcolor\": \"#2a3f5f\", \"arrowhead\": 0, \"arrowwidth\": 1}, \"colorscale\": {\"diverging\": [[0, \"#8e0152\"], [0.1, \"#c51b7d\"], [0.2, \"#de77ae\"], [0.3, \"#f1b6da\"], [0.4, \"#fde0ef\"], [0.5, \"#f7f7f7\"], [0.6, \"#e6f5d0\"], [0.7, \"#b8e186\"], [0.8, \"#7fbc41\"], [0.9, \"#4d9221\"], [1, \"#276419\"]], \"sequential\": [[0.0, \"#0d0887\"], [0.1111111111111111, \"#46039f\"], [0.2222222222222222, \"#7201a8\"], [0.3333333333333333, \"#9c179e\"], [0.4444444444444444, \"#bd3786\"], [0.5555555555555556, \"#d8576b\"], [0.6666666666666666, \"#ed7953\"], [0.7777777777777778, \"#fb9f3a\"], [0.8888888888888888, \"#fdca26\"], [1.0, \"#f0f921\"]], \"sequentialminus\": [[0.0, \"#0d0887\"], [0.1111111111111111, \"#46039f\"], [0.2222222222222222, \"#7201a8\"], [0.3333333333333333, \"#9c179e\"], [0.4444444444444444, \"#bd3786\"], [0.5555555555555556, \"#d8576b\"], [0.6666666666666666, \"#ed7953\"], [0.7777777777777778, \"#fb9f3a\"], [0.8888888888888888, \"#fdca26\"], [1.0, \"#f0f921\"]]}, \"colorway\": [\"#636efa\", \"#EF553B\", \"#00cc96\", \"#ab63fa\", \"#FFA15A\", \"#19d3f3\", \"#FF6692\", \"#B6E880\", \"#FF97FF\", \"#FECB52\"], \"font\": {\"color\": \"#2a3f5f\"}, \"geo\": {\"bgcolor\": \"white\", \"lakecolor\": \"white\", \"landcolor\": \"#E5ECF6\", \"showlakes\": true, \"showland\": true, \"subunitcolor\": \"white\"}, \"hoverlabel\": {\"align\": \"left\"}, \"hovermode\": \"closest\", \"mapbox\": {\"style\": \"light\"}, \"paper_bgcolor\": \"white\", \"plot_bgcolor\": \"#E5ECF6\", \"polar\": {\"angularaxis\": {\"gridcolor\": \"white\", \"linecolor\": \"white\", \"ticks\": \"\"}, \"bgcolor\": \"#E5ECF6\", \"radialaxis\": {\"gridcolor\": \"white\", \"linecolor\": \"white\", \"ticks\": \"\"}}, \"scene\": {\"xaxis\": {\"backgroundcolor\": \"#E5ECF6\", \"gridcolor\": \"white\", \"gridwidth\": 2, \"linecolor\": \"white\", \"showbackground\": true, \"ticks\": \"\", \"zerolinecolor\": \"white\"}, \"yaxis\": {\"backgroundcolor\": \"#E5ECF6\", \"gridcolor\": \"white\", \"gridwidth\": 2, \"linecolor\": \"white\", \"showbackground\": true, \"ticks\": \"\", \"zerolinecolor\": \"white\"}, \"zaxis\": {\"backgroundcolor\": \"#E5ECF6\", \"gridcolor\": \"white\", \"gridwidth\": 2, \"linecolor\": \"white\", \"showbackground\": true, \"ticks\": \"\", \"zerolinecolor\": \"white\"}}, \"shapedefaults\": {\"line\": {\"color\": \"#2a3f5f\"}}, \"ternary\": {\"aaxis\": {\"gridcolor\": \"white\", \"linecolor\": \"white\", \"ticks\": \"\"}, \"baxis\": {\"gridcolor\": \"white\", \"linecolor\": \"white\", \"ticks\": \"\"}, \"bgcolor\": \"#E5ECF6\", \"caxis\": {\"gridcolor\": \"white\", \"linecolor\": \"white\", \"ticks\": \"\"}}, \"title\": {\"x\": 0.05}, \"xaxis\": {\"automargin\": true, \"gridcolor\": \"white\", \"linecolor\": \"white\", \"ticks\": \"\", \"zerolinecolor\": \"white\", \"zerolinewidth\": 2}, \"yaxis\": {\"automargin\": true, \"gridcolor\": \"white\", \"linecolor\": \"white\", \"ticks\": \"\", \"zerolinecolor\": \"white\", \"zerolinewidth\": 2}}}, \"xaxis\": {\"anchor\": \"y\", \"domain\": [0.0, 0.98], \"title\": {\"text\": \"internetAccessSetting_Groups\"}}, \"yaxis\": {\"anchor\": \"x\", \"domain\": [0.0, 1.0], \"title\": {\"text\": \"Percent\"}}},\n",
       "                        {\"responsive\": true}\n",
       "                    ).then(function(){\n",
       "                            \n",
       "var gd = document.getElementById('388cf6b2-4534-45de-84b7-fddcc80a5a06');\n",
       "var x = new MutationObserver(function (mutations, observer) {{\n",
       "        var display = window.getComputedStyle(gd).display;\n",
       "        if (!display || display === 'none') {{\n",
       "            console.log([gd, 'removed!']);\n",
       "            Plotly.purge(gd);\n",
       "            observer.disconnect();\n",
       "        }}\n",
       "}});\n",
       "\n",
       "// Listen for the removal of the full notebook cells\n",
       "var notebookContainer = gd.closest('#notebook-container');\n",
       "if (notebookContainer) {{\n",
       "    x.observe(notebookContainer, {childList: true});\n",
       "}}\n",
       "\n",
       "// Listen for the clearing of the current output cell\n",
       "var outputEl = gd.closest('.output');\n",
       "if (outputEl) {{\n",
       "    x.observe(outputEl, {childList: true});\n",
       "}}\n",
       "\n",
       "                        })\n",
       "                };\n",
       "                });\n",
       "            </script>\n",
       "        </div>"
      ]
     },
     "metadata": {},
     "output_type": "display_data"
    }
   ],
   "source": [
    "ShowTwoWayHeatmap(data,'internetAccessSetting_Groups','Voted', normalize=False)\n",
    "\n",
    "fig=px.histogram(data, x='internetAccessSetting_Groups',color='Voted',color_discrete_map=color_discrete_map,barnorm='percent')\n",
    "fig.update_layout(barmode='group',yaxis_title=\"Percent\")"
   ]
  },
  {
   "cell_type": "markdown",
   "metadata": {},
   "source": [
    "Insights:\n",
    "\n",
    "Internet Access via Mobile Phone and Others Home are more likely not to Vote than to Vote. This to me indicates a wealth disparity, most of the rest of the setting would imply having sufficient financing to have things like a home, laptop, or job that allows use of the internet on the clock (Work category).\n",
    "\n",
    "It should also be noted that there are some very low value counts for a number of categories which may skew predictive capability outside of this set of respondents.\n",
    "\n"
   ]
  },
  {
   "cell_type": "markdown",
   "metadata": {},
   "source": [
    "# Voted vs Age Group"
   ]
  },
  {
   "cell_type": "code",
   "execution_count": 44,
   "metadata": {},
   "outputs": [
    {
     "data": {
      "image/png": "[encoded data removed]",
      "text/plain": [
       "<Figure size 936x432 with 2 Axes>"
      ]
     },
     "metadata": {
      "needs_background": "light"
     },
     "output_type": "display_data"
    },
    {
     "data": {
      "application/vnd.plotly.v1+json": {
       "config": {
        "plotlyServerURL": "https://plot.ly"
       },
       "data": [
        {
         "alignmentgroup": "True",
         "bingroup": "x",
         "hoverlabel": {
          "namelength": 0
         },
         "hovertemplate": "Voted=1<br>age_Groups=%{x}<br>count=%{y}",
         "legendgroup": "Voted=1",
         "marker": {
          "color": "#636efa"
         },
         "name": "Voted=1",
         "offsetgroup": "Voted=1",
         "orientation": "v",
         "showlegend": true,
         "type": "histogram",
         "x": [
          "LateTeens",
          "LateTeens",
          "LateTeens",
          "Early20s",
          "Early20s",
          "Late20s",
          "LateTeens",
          "Late20s",
          "LateTeens",
          "Mid20s",
          "Early20s",
          "Early20s",
          "LateTeens",
          "Late20s",
          "Early20s",
          "Late20s",
          "Late20s",
          "LateTeens",
          "Late20s",
          "Mid20s",
          "Late20s",
          "Mid20s",
          "Early20s",
          "LateTeens",
          "Mid20s",
          "Early20s",
          "Late20s",
          "LateTeens",
          "LateTeens",
          "Mid20s",
          "Late20s",
          "Mid20s",
          "Mid20s",
          "LateTeens",
          "LateTeens",
          "Late20s",
          "Late20s",
          "Early20s",
          "Early20s",
          "Mid20s",
          "Early20s",
          "Mid20s",
          "Mid20s",
          "Mid20s",
          "Mid20s",
          "Late20s",
          "Early20s",
          "Late20s",
          "LateTeens",
          "Mid20s",
          "Late20s",
          "LateTeens",
          "Mid20s",
          "Late20s",
          "Mid20s",
          "Mid20s",
          "Mid20s",
          "LateTeens",
          "LateTeens",
          "Mid20s",
          "Mid20s",
          "Late20s",
          "Early20s",
          "Early20s",
          "Late20s",
          "Mid20s",
          "Late20s",
          "Early20s",
          "Mid20s",
          "Mid20s",
          "Early20s",
          "LateTeens",
          "Early20s",
          "Mid20s",
          "LateTeens",
          "Early20s",
          "Early20s",
          "Mid20s",
          "Mid20s",
          "Early20s",
          "Mid20s",
          "Early20s",
          "Late20s",
          "Early20s",
          "Mid20s",
          "Mid20s",
          "Mid20s",
          "LateTeens",
          "Mid20s",
          "Late20s",
          "Mid20s",
          "Mid20s",
          "Mid20s",
          "Late20s",
          "Late20s",
          "Mid20s",
          "Early20s",
          "Late20s",
          "Late20s",
          "Mid20s",
          "Late20s",
          "Mid20s",
          "Late20s",
          "Early20s",
          "LateTeens",
          "Late20s",
          "LateTeens",
          "Early20s",
          "Early20s",
          "Late20s",
          "Late20s",
          "Mid20s",
          "Mid20s",
          "Late20s",
          "Early20s",
          "LateTeens",
          "LateTeens",
          "LateTeens",
          "LateTeens",
          "Early20s",
          "LateTeens",
          "Late20s",
          "Early20s",
          "Early20s",
          "Early20s",
          "Late20s",
          "LateTeens",
          "Late20s",
          "Late20s",
          "LateTeens",
          "Early20s",
          "Early20s",
          "Early20s",
          "Early20s",
          "Early20s",
          "LateTeens",
          "Mid20s",
          "Late20s",
          "Early20s",
          "LateTeens",
          "LateTeens",
          "Mid20s",
          "Mid20s",
          "Late20s",
          "LateTeens",
          "LateTeens",
          "Early20s",
          "Early20s",
          "Early20s",
          "LateTeens",
          "Mid20s",
          "LateTeens",
          "Mid20s",
          "LateTeens",
          "LateTeens",
          "LateTeens",
          "Mid20s",
          "Mid20s",
          "Early20s",
          "Mid20s",
          "Late20s",
          "Late20s",
          "Early20s",
          "Early20s",
          "Early20s",
          "Late20s",
          "Early20s",
          "Early20s",
          "Mid20s",
          "Late20s",
          "Early20s",
          "Mid20s",
          "Mid20s",
          "Late20s",
          "Mid20s",
          "Late20s",
          "Mid20s",
          "LateTeens",
          "Mid20s",
          "LateTeens",
          "LateTeens",
          "LateTeens",
          "Early20s",
          "LateTeens",
          "Mid20s",
          "Late20s",
          "Late20s",
          "LateTeens",
          "Late20s",
          "Early20s",
          "Mid20s",
          "Late20s",
          "Early20s",
          "LateTeens",
          "Mid20s",
          "Early20s",
          "Late20s",
          "Early20s",
          "LateTeens",
          "Mid20s",
          "Early20s",
          "Early20s",
          "LateTeens",
          "Late20s",
          "LateTeens",
          "Mid20s",
          "Mid20s",
          "Late20s",
          "Mid20s",
          "Mid20s",
          "Late20s",
          "Mid20s",
          "Late20s",
          "Late20s",
          "Late20s",
          "Late20s",
          "Mid20s",
          "Mid20s",
          "Mid20s",
          "Late20s",
          "Early20s",
          "Late20s",
          "Late20s",
          "Late20s",
          "Mid20s",
          "Late20s",
          "Mid20s",
          "Early20s",
          "Late20s",
          "Late20s",
          "Late20s",
          "Late20s",
          "Mid20s",
          "Late20s",
          "Early20s",
          "LateTeens",
          "Early20s",
          "Late20s",
          "Mid20s",
          "Late20s",
          "Early20s",
          "Mid20s",
          "Late20s",
          "Late20s",
          "Mid20s",
          "LateTeens",
          "Late20s",
          "Early20s",
          "Late20s",
          "Late20s",
          "Late20s",
          "LateTeens",
          "Late20s",
          "Late20s",
          "Mid20s",
          "Mid20s",
          "Late20s",
          "Mid20s",
          "Early20s",
          "Mid20s",
          "Late20s",
          "Early20s",
          "Late20s",
          "Late20s",
          "Early20s",
          "Mid20s",
          "Mid20s",
          "LateTeens",
          "Early20s",
          "Late20s",
          "Late20s",
          "Late20s",
          "Early20s",
          "Early20s",
          "Mid20s",
          "Early20s",
          "Early20s",
          "Late20s",
          "Late20s",
          "Mid20s",
          "Mid20s",
          "Mid20s",
          "Late20s",
          "Mid20s",
          "Early20s",
          "Mid20s",
          "Early20s",
          "Late20s",
          "Late20s",
          "Mid20s",
          "Late20s",
          "Late20s",
          "Early20s",
          "Late20s",
          "Mid20s",
          "LateTeens",
          "Mid20s",
          "Mid20s",
          "Early20s",
          "Late20s",
          "Late20s",
          "Mid20s",
          "Early20s",
          "Early20s",
          "Late20s",
          "Mid20s",
          "Mid20s",
          "Early20s",
          "Late20s",
          "LateTeens",
          "Early20s",
          "Late20s",
          "Late20s",
          "Late20s",
          "LateTeens",
          "Late20s",
          "Late20s",
          "Late20s",
          "Mid20s",
          "Late20s",
          "Early20s",
          "Late20s",
          "Mid20s",
          "Early20s",
          "Mid20s",
          "Early20s",
          "Mid20s",
          "Late20s",
          "Mid20s",
          "Late20s",
          "Mid20s",
          "LateTeens",
          "Late20s",
          "Late20s",
          "LateTeens",
          "Late20s",
          "Late20s",
          "Late20s",
          "Early20s",
          "Late20s",
          "LateTeens",
          "Late20s",
          "LateTeens",
          "Early20s",
          "LateTeens",
          "LateTeens",
          "Early20s",
          "LateTeens",
          "Late20s",
          "LateTeens",
          "Mid20s",
          "Early20s",
          "Mid20s",
          "Late20s",
          "Late20s",
          "LateTeens",
          "Mid20s",
          "Mid20s",
          "Early20s",
          "Early20s",
          "LateTeens",
          "Early20s",
          "Late20s",
          "Mid20s",
          "Mid20s",
          "Late20s",
          "Mid20s",
          "LateTeens",
          "Late20s",
          "Early20s",
          "Late20s",
          "Late20s",
          "Mid20s",
          "Mid20s",
          "LateTeens",
          "Mid20s",
          "Mid20s",
          "Late20s",
          "Early20s",
          "Mid20s",
          "LateTeens",
          "Late20s",
          "Early20s",
          "LateTeens",
          "Late20s",
          "Early20s",
          "Late20s",
          "LateTeens",
          "Mid20s",
          "Late20s",
          "LateTeens",
          "Early20s",
          "Late20s",
          "Mid20s",
          "Mid20s",
          "Early20s",
          "Mid20s",
          "Mid20s",
          "Mid20s",
          "LateTeens",
          "Late20s",
          "Late20s",
          "Late20s",
          "LateTeens",
          "Mid20s",
          "Late20s",
          "LateTeens",
          "Late20s",
          "LateTeens",
          "LateTeens",
          "LateTeens",
          "Early20s",
          "Mid20s",
          "LateTeens",
          "Early20s",
          "Late20s",
          "Early20s",
          "Early20s",
          "Early20s",
          "Late20s",
          "LateTeens",
          "Early20s",
          "Early20s",
          "Mid20s",
          "LateTeens",
          "Early20s",
          "LateTeens",
          "LateTeens",
          "Late20s",
          "Early20s",
          "Late20s",
          "Early20s",
          "Early20s",
          "Early20s",
          "Late20s",
          "LateTeens",
          "Mid20s",
          "Early20s",
          "Late20s",
          "Late20s",
          "Mid20s",
          "LateTeens",
          "Mid20s",
          "Early20s",
          "LateTeens",
          "LateTeens",
          "Early20s",
          "Late20s",
          "Late20s",
          "LateTeens",
          "Mid20s",
          "LateTeens",
          "Late20s",
          "Early20s",
          "Mid20s",
          "Early20s",
          "LateTeens",
          "Early20s",
          "Mid20s",
          "LateTeens",
          "Mid20s",
          "Mid20s",
          "LateTeens",
          "LateTeens",
          "Mid20s",
          "LateTeens",
          "Early20s",
          "LateTeens",
          "Early20s",
          "Mid20s",
          "Late20s",
          "Early20s",
          "Mid20s",
          "LateTeens",
          "Mid20s",
          "Early20s",
          "Late20s",
          "LateTeens",
          "Early20s",
          "Early20s",
          "Mid20s",
          "Mid20s",
          "LateTeens",
          "Early20s",
          "Mid20s",
          "Late20s",
          "LateTeens",
          "Early20s",
          "Early20s",
          "Early20s",
          "Late20s",
          "LateTeens",
          "Mid20s",
          "Early20s",
          "Mid20s",
          "Late20s",
          "Late20s",
          "Early20s",
          "Late20s",
          "Mid20s",
          "Early20s",
          "Mid20s",
          "Late20s",
          "LateTeens",
          "Late20s",
          "Late20s",
          "Mid20s",
          "Late20s",
          "Early20s",
          "Early20s",
          "Early20s",
          "LateTeens",
          "Late20s",
          "Late20s",
          "Early20s",
          "Early20s",
          "Early20s",
          "Early20s",
          "Late20s",
          "Mid20s",
          "Late20s",
          "Mid20s",
          "Late20s",
          "Late20s",
          "LateTeens",
          "Late20s",
          "Late20s",
          "Mid20s",
          "Late20s",
          "Late20s",
          "Early20s",
          "Early20s",
          "Late20s",
          "Late20s",
          "Late20s",
          "Late20s",
          "Early20s",
          "Late20s",
          "Mid20s",
          "Late20s",
          "LateTeens",
          "Mid20s",
          "Mid20s",
          "Late20s",
          "Late20s",
          "Mid20s",
          "LateTeens",
          "LateTeens",
          "Mid20s",
          "Late20s",
          "Early20s",
          "Late20s",
          "LateTeens",
          "Early20s",
          "Mid20s",
          "Mid20s",
          "LateTeens",
          "Late20s",
          "Early20s",
          "Early20s",
          "LateTeens",
          "LateTeens",
          "Mid20s",
          "Early20s",
          "Early20s",
          "Early20s",
          "Early20s",
          "Late20s",
          "Late20s",
          "Mid20s",
          "Early20s",
          "Early20s",
          "Mid20s",
          "LateTeens",
          "Mid20s",
          "Late20s",
          "Early20s",
          "LateTeens",
          "Mid20s",
          "Late20s",
          "Late20s",
          "Late20s",
          "Mid20s",
          "Late20s",
          "LateTeens",
          "Late20s",
          "Mid20s",
          "Early20s",
          "Late20s",
          "Mid20s",
          "LateTeens",
          "Mid20s",
          "LateTeens",
          "Late20s",
          "Early20s",
          "Mid20s",
          "Mid20s",
          "Late20s",
          "Mid20s",
          "LateTeens",
          "Mid20s",
          "LateTeens",
          "Mid20s",
          "Early20s",
          "Late20s",
          "LateTeens",
          "Late20s",
          "Early20s",
          "Early20s",
          "LateTeens",
          "Late20s",
          "Early20s",
          "Mid20s",
          "Mid20s",
          "Early20s",
          "Late20s",
          "Mid20s",
          "Early20s",
          "LateTeens",
          "Early20s",
          "Late20s",
          "LateTeens",
          "Late20s",
          "LateTeens",
          "Early20s",
          "Early20s",
          "Early20s",
          "Early20s",
          "Mid20s",
          "Early20s",
          "Mid20s",
          "Mid20s",
          "LateTeens",
          "LateTeens",
          "Mid20s",
          "LateTeens",
          "Late20s",
          "Early20s",
          "LateTeens",
          "LateTeens",
          "Early20s",
          "LateTeens",
          "Mid20s",
          "Early20s",
          "Early20s",
          "Early20s",
          "Mid20s",
          "Early20s",
          "LateTeens",
          "LateTeens",
          "LateTeens",
          "Early20s",
          "Late20s",
          "LateTeens",
          "Early20s",
          "Late20s",
          "Late20s",
          "Mid20s",
          "Mid20s",
          "Late20s",
          "Early20s",
          "Early20s",
          "LateTeens",
          "Early20s",
          "Late20s",
          "Early20s",
          "Mid20s",
          "Early20s",
          "LateTeens",
          "LateTeens",
          "Late20s",
          "Early20s",
          "LateTeens",
          "LateTeens",
          "Early20s",
          "Late20s",
          "Early20s",
          "Early20s",
          "LateTeens",
          "Early20s",
          "Mid20s",
          "Early20s",
          "Early20s",
          "LateTeens",
          "Late20s",
          "LateTeens",
          "LateTeens",
          "Mid20s",
          "Early20s",
          "LateTeens",
          "LateTeens",
          "LateTeens",
          "LateTeens",
          "Mid20s",
          "Early20s",
          "Late20s",
          "Early20s",
          "Early20s",
          "LateTeens",
          "Early20s",
          "Late20s",
          "Early20s",
          "Early20s",
          "Mid20s",
          "LateTeens",
          "LateTeens",
          "Mid20s",
          "Mid20s",
          "Early20s",
          "Mid20s",
          "Mid20s",
          "Early20s",
          "Early20s",
          "Late20s",
          "Early20s",
          "Early20s",
          "LateTeens",
          "Early20s",
          "Mid20s",
          "Early20s",
          "LateTeens",
          "Late20s",
          "Early20s",
          "Late20s",
          "Late20s",
          "Early20s",
          "Early20s",
          "Mid20s",
          "Early20s",
          "Early20s",
          "Mid20s",
          "LateTeens",
          "Early20s",
          "LateTeens",
          "LateTeens",
          "Early20s",
          "Early20s",
          "LateTeens",
          "LateTeens",
          "Early20s",
          "Mid20s",
          "LateTeens",
          "Early20s",
          "Late20s",
          "Late20s",
          "Early20s",
          "Early20s",
          "LateTeens",
          "Mid20s",
          "Mid20s",
          "Mid20s",
          "LateTeens",
          "Mid20s",
          "Mid20s",
          "LateTeens",
          "Late20s",
          "Late20s",
          "LateTeens",
          "Late20s",
          "Mid20s",
          "LateTeens",
          "LateTeens",
          "LateTeens",
          "LateTeens",
          "LateTeens",
          "LateTeens",
          "LateTeens",
          "LateTeens",
          "LateTeens"
         ],
         "xaxis": "x",
         "yaxis": "y"
        },
        {
         "alignmentgroup": "True",
         "bingroup": "x",
         "hoverlabel": {
          "namelength": 0
         },
         "hovertemplate": "Voted=0<br>age_Groups=%{x}<br>count=%{y}",
         "legendgroup": "Voted=0",
         "marker": {
          "color": "#EF553B"
         },
         "name": "Voted=0",
         "offsetgroup": "Voted=0",
         "orientation": "v",
         "showlegend": true,
         "type": "histogram",
         "x": [
          "LateTeens",
          "Late20s",
          "Mid20s",
          "LateTeens",
          "Mid20s",
          "LateTeens",
          "Early20s",
          "Late20s",
          "LateTeens",
          "Late20s",
          "Early20s",
          "Late20s",
          "LateTeens",
          "Late20s",
          "Late20s",
          "Early20s",
          "LateTeens",
          "LateTeens",
          "Late20s",
          "LateTeens",
          "LateTeens",
          "Late20s",
          "Mid20s",
          "Early20s",
          "Early20s",
          "Early20s",
          "Late20s",
          "Late20s",
          "Late20s",
          "Early20s",
          "Mid20s",
          "LateTeens",
          "Mid20s",
          "Late20s",
          "Mid20s",
          "LateTeens",
          "Early20s",
          "LateTeens",
          "LateTeens",
          "Mid20s",
          "Late20s",
          "Early20s",
          "LateTeens",
          "LateTeens",
          "LateTeens",
          "Mid20s",
          "Mid20s",
          "Early20s",
          "Late20s",
          "Mid20s",
          "LateTeens",
          "Late20s",
          "LateTeens",
          "Mid20s",
          "LateTeens",
          "LateTeens",
          "LateTeens",
          "Early20s",
          "LateTeens",
          "LateTeens",
          "Late20s",
          "Mid20s",
          "LateTeens",
          "Mid20s",
          "LateTeens",
          "LateTeens",
          "Mid20s",
          "LateTeens",
          "Early20s",
          "Mid20s",
          "Late20s",
          "Late20s",
          "Mid20s",
          "LateTeens",
          "LateTeens",
          "Mid20s",
          "Late20s",
          "Early20s",
          "LateTeens",
          "LateTeens",
          "Early20s",
          "LateTeens",
          "LateTeens",
          "Early20s",
          "LateTeens",
          "Late20s",
          "LateTeens",
          "LateTeens",
          "Mid20s",
          "Early20s",
          "Late20s",
          "LateTeens",
          "LateTeens",
          "LateTeens",
          "Late20s",
          "Early20s",
          "LateTeens",
          "LateTeens",
          "Mid20s",
          "Mid20s",
          "LateTeens",
          "Early20s",
          "Late20s",
          "Early20s",
          "Mid20s",
          "Late20s",
          "LateTeens",
          "Mid20s",
          "Late20s",
          "Early20s",
          "Early20s",
          "LateTeens",
          "Early20s",
          "Early20s",
          "LateTeens",
          "Mid20s",
          "LateTeens",
          "Early20s",
          "LateTeens",
          "Late20s",
          "Mid20s",
          "Mid20s",
          "LateTeens",
          "Mid20s",
          "Early20s",
          "Early20s",
          "Early20s",
          "Late20s",
          "Mid20s",
          "Early20s",
          "Mid20s",
          "Mid20s",
          "LateTeens",
          "Late20s",
          "Late20s",
          "Early20s",
          "Early20s",
          "Late20s",
          "Late20s",
          "LateTeens",
          "Mid20s",
          "Mid20s",
          "LateTeens",
          "Mid20s",
          "Late20s",
          "Early20s",
          "Mid20s",
          "Late20s",
          "Early20s",
          "Mid20s",
          "Mid20s",
          "Late20s",
          "Early20s",
          "Late20s",
          "Late20s",
          "Early20s",
          "Early20s",
          "LateTeens",
          "Mid20s",
          "Late20s",
          "Early20s",
          "Early20s",
          "LateTeens",
          "Early20s",
          "Mid20s",
          "Late20s",
          "LateTeens",
          "Early20s",
          "Early20s",
          "Mid20s",
          "LateTeens",
          "Late20s",
          "Mid20s",
          "Mid20s",
          "Early20s",
          "Late20s",
          "LateTeens",
          "LateTeens",
          "LateTeens",
          "LateTeens",
          "Early20s",
          "Early20s",
          "Early20s",
          "Late20s",
          "Mid20s",
          "LateTeens",
          "Mid20s",
          "Mid20s",
          "LateTeens",
          "Early20s",
          "LateTeens",
          "Late20s",
          "LateTeens",
          "Late20s",
          "LateTeens",
          "Mid20s",
          "LateTeens",
          "Mid20s",
          "Early20s",
          "Early20s",
          "Early20s",
          "Early20s",
          "LateTeens",
          "Late20s",
          "LateTeens",
          "Late20s",
          "Early20s",
          "LateTeens",
          "LateTeens",
          "Early20s",
          "Late20s",
          "Mid20s",
          "LateTeens",
          "LateTeens",
          "Late20s",
          "LateTeens",
          "LateTeens",
          "Late20s",
          "Early20s",
          "LateTeens",
          "Mid20s",
          "Late20s",
          "Mid20s",
          "Mid20s",
          "Early20s",
          "Early20s",
          "LateTeens",
          "LateTeens",
          "LateTeens",
          "Late20s",
          "Late20s",
          "Mid20s",
          "Early20s",
          "Late20s",
          "LateTeens",
          "Early20s",
          "Early20s",
          "Early20s",
          "Late20s",
          "Early20s",
          "LateTeens",
          "LateTeens",
          "LateTeens",
          "Early20s",
          "LateTeens",
          "Mid20s",
          "Early20s",
          "Late20s",
          "Late20s",
          "Late20s",
          "Late20s",
          "Late20s",
          "LateTeens",
          "Mid20s",
          "Mid20s",
          "Late20s",
          "Early20s",
          "LateTeens",
          "Early20s",
          "Mid20s",
          "Early20s",
          "Early20s",
          "LateTeens",
          "LateTeens",
          "LateTeens",
          "LateTeens",
          "LateTeens",
          "Mid20s",
          "Early20s",
          "Early20s",
          "Late20s",
          "LateTeens",
          "LateTeens",
          "Early20s",
          "Early20s",
          "Mid20s",
          "LateTeens",
          "Mid20s",
          "Late20s",
          "LateTeens",
          "Early20s",
          "LateTeens",
          "Late20s",
          "Early20s",
          "Mid20s",
          "Mid20s",
          "Early20s",
          "Early20s",
          "Mid20s",
          "Early20s",
          "Early20s",
          "Early20s",
          "Late20s",
          "Late20s",
          "Late20s",
          "Early20s",
          "Late20s",
          "Mid20s",
          "Mid20s",
          "Early20s",
          "LateTeens",
          "LateTeens",
          "Late20s",
          "Late20s",
          "Mid20s",
          "Early20s",
          "Early20s",
          "Late20s",
          "LateTeens",
          "LateTeens",
          "LateTeens",
          "Mid20s",
          "LateTeens",
          "Late20s",
          "LateTeens",
          "LateTeens",
          "LateTeens",
          "Late20s",
          "LateTeens",
          "Late20s",
          "Mid20s",
          "Early20s",
          "Early20s",
          "Early20s",
          "LateTeens",
          "LateTeens",
          "Early20s",
          "Late20s",
          "LateTeens",
          "Mid20s",
          "LateTeens",
          "LateTeens",
          "LateTeens",
          "Early20s",
          "LateTeens",
          "LateTeens",
          "LateTeens",
          "LateTeens",
          "Late20s",
          "LateTeens",
          "Mid20s",
          "Mid20s",
          "Mid20s",
          "LateTeens",
          "Late20s",
          "LateTeens",
          "LateTeens",
          "Late20s",
          "Late20s",
          "Late20s",
          "Late20s",
          "Early20s",
          "LateTeens",
          "LateTeens",
          "LateTeens",
          "Early20s",
          "Mid20s",
          "LateTeens",
          "LateTeens",
          "LateTeens",
          "Early20s",
          "LateTeens",
          "LateTeens",
          "Early20s",
          "Early20s",
          "Early20s",
          "Mid20s",
          "LateTeens",
          "Early20s",
          "LateTeens",
          "Mid20s",
          "LateTeens",
          "LateTeens",
          "Mid20s",
          "LateTeens",
          "Late20s",
          "LateTeens",
          "Early20s",
          "Early20s",
          "Early20s",
          "Early20s",
          "Early20s",
          "LateTeens",
          "Early20s",
          "Early20s",
          "Early20s",
          "LateTeens",
          "Mid20s",
          "LateTeens",
          "LateTeens",
          "Early20s",
          "Early20s",
          "LateTeens",
          "LateTeens",
          "LateTeens",
          "LateTeens",
          "LateTeens",
          "Early20s",
          "Early20s",
          "Early20s",
          "Late20s",
          "LateTeens",
          "Early20s",
          "LateTeens",
          "LateTeens",
          "Early20s",
          "Early20s",
          "Early20s",
          "LateTeens",
          "Late20s",
          "Early20s",
          "Early20s",
          "Early20s",
          "LateTeens",
          "Early20s",
          "Early20s",
          "LateTeens",
          "LateTeens",
          "Mid20s",
          "Early20s",
          "Early20s",
          "Early20s",
          "Early20s",
          "LateTeens",
          "LateTeens",
          "Late20s",
          "LateTeens",
          "Early20s",
          "Late20s",
          "LateTeens",
          "Mid20s",
          "Early20s",
          "LateTeens",
          "LateTeens",
          "Mid20s",
          "LateTeens",
          "Mid20s",
          "Early20s",
          "Early20s",
          "LateTeens",
          "Mid20s",
          "LateTeens",
          "LateTeens",
          "Early20s",
          "Early20s",
          "Early20s",
          "Early20s",
          "Early20s",
          "Late20s",
          "LateTeens",
          "LateTeens",
          "Mid20s",
          "Early20s",
          "LateTeens",
          "LateTeens",
          "LateTeens",
          "LateTeens",
          "LateTeens",
          "LateTeens"
         ],
         "xaxis": "x",
         "yaxis": "y"
        }
       ],
       "layout": {
        "barmode": "group",
        "barnorm": "percent",
        "height": 600,
        "legend": {
         "tracegroupgap": 0
        },
        "margin": {
         "t": 60
        },
        "template": {
         "data": {
          "bar": [
           {
            "error_x": {
             "color": "#2a3f5f"
            },
            "error_y": {
             "color": "#2a3f5f"
            },
            "marker": {
             "line": {
              "color": "#E5ECF6",
              "width": 0.5
             }
            },
            "type": "bar"
           }
          ],
          "barpolar": [
           {
            "marker": {
             "line": {
              "color": "#E5ECF6",
              "width": 0.5
             }
            },
            "type": "barpolar"
           }
          ],
          "carpet": [
           {
            "aaxis": {
             "endlinecolor": "#2a3f5f",
             "gridcolor": "white",
             "linecolor": "white",
             "minorgridcolor": "white",
             "startlinecolor": "#2a3f5f"
            },
            "baxis": {
             "endlinecolor": "#2a3f5f",
             "gridcolor": "white",
             "linecolor": "white",
             "minorgridcolor": "white",
             "startlinecolor": "#2a3f5f"
            },
            "type": "carpet"
           }
          ],
          "choropleth": [
           {
            "colorbar": {
             "outlinewidth": 0,
             "ticks": ""
            },
            "type": "choropleth"
           }
          ],
          "contour": [
           {
            "colorbar": {
             "outlinewidth": 0,
             "ticks": ""
            },
            "colorscale": [
             [
              0,
              "#0d0887"
             ],
             [
              0.1111111111111111,
              "#46039f"
             ],
             [
              0.2222222222222222,
              "#7201a8"
             ],
             [
              0.3333333333333333,
              "#9c179e"
             ],
             [
              0.4444444444444444,
              "#bd3786"
             ],
             [
              0.5555555555555556,
              "#d8576b"
             ],
             [
              0.6666666666666666,
              "#ed7953"
             ],
             [
              0.7777777777777778,
              "#fb9f3a"
             ],
             [
              0.8888888888888888,
              "#fdca26"
             ],
             [
              1,
              "#f0f921"
             ]
            ],
            "type": "contour"
           }
          ],
          "contourcarpet": [
           {
            "colorbar": {
             "outlinewidth": 0,
             "ticks": ""
            },
            "type": "contourcarpet"
           }
          ],
          "heatmap": [
           {
            "colorbar": {
             "outlinewidth": 0,
             "ticks": ""
            },
            "colorscale": [
             [
              0,
              "#0d0887"
             ],
             [
              0.1111111111111111,
              "#46039f"
             ],
             [
              0.2222222222222222,
              "#7201a8"
             ],
             [
              0.3333333333333333,
              "#9c179e"
             ],
             [
              0.4444444444444444,
              "#bd3786"
             ],
             [
              0.5555555555555556,
              "#d8576b"
             ],
             [
              0.6666666666666666,
              "#ed7953"
             ],
             [
              0.7777777777777778,
              "#fb9f3a"
             ],
             [
              0.8888888888888888,
              "#fdca26"
             ],
             [
              1,
              "#f0f921"
             ]
            ],
            "type": "heatmap"
           }
          ],
          "heatmapgl": [
           {
            "colorbar": {
             "outlinewidth": 0,
             "ticks": ""
            },
            "colorscale": [
             [
              0,
              "#0d0887"
             ],
             [
              0.1111111111111111,
              "#46039f"
             ],
             [
              0.2222222222222222,
              "#7201a8"
             ],
             [
              0.3333333333333333,
              "#9c179e"
             ],
             [
              0.4444444444444444,
              "#bd3786"
             ],
             [
              0.5555555555555556,
              "#d8576b"
             ],
             [
              0.6666666666666666,
              "#ed7953"
             ],
             [
              0.7777777777777778,
              "#fb9f3a"
             ],
             [
              0.8888888888888888,
              "#fdca26"
             ],
             [
              1,
              "#f0f921"
             ]
            ],
            "type": "heatmapgl"
           }
          ],
          "histogram": [
           {
            "marker": {
             "colorbar": {
              "outlinewidth": 0,
              "ticks": ""
             }
            },
            "type": "histogram"
           }
          ],
          "histogram2d": [
           {
            "colorbar": {
             "outlinewidth": 0,
             "ticks": ""
            },
            "colorscale": [
             [
              0,
              "#0d0887"
             ],
             [
              0.1111111111111111,
              "#46039f"
             ],
             [
              0.2222222222222222,
              "#7201a8"
             ],
             [
              0.3333333333333333,
              "#9c179e"
             ],
             [
              0.4444444444444444,
              "#bd3786"
             ],
             [
              0.5555555555555556,
              "#d8576b"
             ],
             [
              0.6666666666666666,
              "#ed7953"
             ],
             [
              0.7777777777777778,
              "#fb9f3a"
             ],
             [
              0.8888888888888888,
              "#fdca26"
             ],
             [
              1,
              "#f0f921"
             ]
            ],
            "type": "histogram2d"
           }
          ],
          "histogram2dcontour": [
           {
            "colorbar": {
             "outlinewidth": 0,
             "ticks": ""
            },
            "colorscale": [
             [
              0,
              "#0d0887"
             ],
             [
              0.1111111111111111,
              "#46039f"
             ],
             [
              0.2222222222222222,
              "#7201a8"
             ],
             [
              0.3333333333333333,
              "#9c179e"
             ],
             [
              0.4444444444444444,
              "#bd3786"
             ],
             [
              0.5555555555555556,
              "#d8576b"
             ],
             [
              0.6666666666666666,
              "#ed7953"
             ],
             [
              0.7777777777777778,
              "#fb9f3a"
             ],
             [
              0.8888888888888888,
              "#fdca26"
             ],
             [
              1,
              "#f0f921"
             ]
            ],
            "type": "histogram2dcontour"
           }
          ],
          "mesh3d": [
           {
            "colorbar": {
             "outlinewidth": 0,
             "ticks": ""
            },
            "type": "mesh3d"
           }
          ],
          "parcoords": [
           {
            "line": {
             "colorbar": {
              "outlinewidth": 0,
              "ticks": ""
             }
            },
            "type": "parcoords"
           }
          ],
          "scatter": [
           {
            "marker": {
             "colorbar": {
              "outlinewidth": 0,
              "ticks": ""
             }
            },
            "type": "scatter"
           }
          ],
          "scatter3d": [
           {
            "line": {
             "colorbar": {
              "outlinewidth": 0,
              "ticks": ""
             }
            },
            "marker": {
             "colorbar": {
              "outlinewidth": 0,
              "ticks": ""
             }
            },
            "type": "scatter3d"
           }
          ],
          "scattercarpet": [
           {
            "marker": {
             "colorbar": {
              "outlinewidth": 0,
              "ticks": ""
             }
            },
            "type": "scattercarpet"
           }
          ],
          "scattergeo": [
           {
            "marker": {
             "colorbar": {
              "outlinewidth": 0,
              "ticks": ""
             }
            },
            "type": "scattergeo"
           }
          ],
          "scattergl": [
           {
            "marker": {
             "colorbar": {
              "outlinewidth": 0,
              "ticks": ""
             }
            },
            "type": "scattergl"
           }
          ],
          "scattermapbox": [
           {
            "marker": {
             "colorbar": {
              "outlinewidth": 0,
              "ticks": ""
             }
            },
            "type": "scattermapbox"
           }
          ],
          "scatterpolar": [
           {
            "marker": {
             "colorbar": {
              "outlinewidth": 0,
              "ticks": ""
             }
            },
            "type": "scatterpolar"
           }
          ],
          "scatterpolargl": [
           {
            "marker": {
             "colorbar": {
              "outlinewidth": 0,
              "ticks": ""
             }
            },
            "type": "scatterpolargl"
           }
          ],
          "scatterternary": [
           {
            "marker": {
             "colorbar": {
              "outlinewidth": 0,
              "ticks": ""
             }
            },
            "type": "scatterternary"
           }
          ],
          "surface": [
           {
            "colorbar": {
             "outlinewidth": 0,
             "ticks": ""
            },
            "colorscale": [
             [
              0,
              "#0d0887"
             ],
             [
              0.1111111111111111,
              "#46039f"
             ],
             [
              0.2222222222222222,
              "#7201a8"
             ],
             [
              0.3333333333333333,
              "#9c179e"
             ],
             [
              0.4444444444444444,
              "#bd3786"
             ],
             [
              0.5555555555555556,
              "#d8576b"
             ],
             [
              0.6666666666666666,
              "#ed7953"
             ],
             [
              0.7777777777777778,
              "#fb9f3a"
             ],
             [
              0.8888888888888888,
              "#fdca26"
             ],
             [
              1,
              "#f0f921"
             ]
            ],
            "type": "surface"
           }
          ],
          "table": [
           {
            "cells": {
             "fill": {
              "color": "#EBF0F8"
             },
             "line": {
              "color": "white"
             }
            },
            "header": {
             "fill": {
              "color": "#C8D4E3"
             },
             "line": {
              "color": "white"
             }
            },
            "type": "table"
           }
          ]
         },
         "layout": {
          "annotationdefaults": {
           "arrowcolor": "#2a3f5f",
           "arrowhead": 0,
           "arrowwidth": 1
          },
          "colorscale": {
           "diverging": [
            [
             0,
             "#8e0152"
            ],
            [
             0.1,
             "#c51b7d"
            ],
            [
             0.2,
             "#de77ae"
            ],
            [
             0.3,
             "#f1b6da"
            ],
            [
             0.4,
             "#fde0ef"
            ],
            [
             0.5,
             "#f7f7f7"
            ],
            [
             0.6,
             "#e6f5d0"
            ],
            [
             0.7,
             "#b8e186"
            ],
            [
             0.8,
             "#7fbc41"
            ],
            [
             0.9,
             "#4d9221"
            ],
            [
             1,
             "#276419"
            ]
           ],
           "sequential": [
            [
             0,
             "#0d0887"
            ],
            [
             0.1111111111111111,
             "#46039f"
            ],
            [
             0.2222222222222222,
             "#7201a8"
            ],
            [
             0.3333333333333333,
             "#9c179e"
            ],
            [
             0.4444444444444444,
             "#bd3786"
            ],
            [
             0.5555555555555556,
             "#d8576b"
            ],
            [
             0.6666666666666666,
             "#ed7953"
            ],
            [
             0.7777777777777778,
             "#fb9f3a"
            ],
            [
             0.8888888888888888,
             "#fdca26"
            ],
            [
             1,
             "#f0f921"
            ]
           ],
           "sequentialminus": [
            [
             0,
             "#0d0887"
            ],
            [
             0.1111111111111111,
             "#46039f"
            ],
            [
             0.2222222222222222,
             "#7201a8"
            ],
            [
             0.3333333333333333,
             "#9c179e"
            ],
            [
             0.4444444444444444,
             "#bd3786"
            ],
            [
             0.5555555555555556,
             "#d8576b"
            ],
            [
             0.6666666666666666,
             "#ed7953"
            ],
            [
             0.7777777777777778,
             "#fb9f3a"
            ],
            [
             0.8888888888888888,
             "#fdca26"
            ],
            [
             1,
             "#f0f921"
            ]
           ]
          },
          "colorway": [
           "#636efa",
           "#EF553B",
           "#00cc96",
           "#ab63fa",
           "#FFA15A",
           "#19d3f3",
           "#FF6692",
           "#B6E880",
           "#FF97FF",
           "#FECB52"
          ],
          "font": {
           "color": "#2a3f5f"
          },
          "geo": {
           "bgcolor": "white",
           "lakecolor": "white",
           "landcolor": "#E5ECF6",
           "showlakes": true,
           "showland": true,
           "subunitcolor": "white"
          },
          "hoverlabel": {
           "align": "left"
          },
          "hovermode": "closest",
          "mapbox": {
           "style": "light"
          },
          "paper_bgcolor": "white",
          "plot_bgcolor": "#E5ECF6",
          "polar": {
           "angularaxis": {
            "gridcolor": "white",
            "linecolor": "white",
            "ticks": ""
           },
           "bgcolor": "#E5ECF6",
           "radialaxis": {
            "gridcolor": "white",
            "linecolor": "white",
            "ticks": ""
           }
          },
          "scene": {
           "xaxis": {
            "backgroundcolor": "#E5ECF6",
            "gridcolor": "white",
            "gridwidth": 2,
            "linecolor": "white",
            "showbackground": true,
            "ticks": "",
            "zerolinecolor": "white"
           },
           "yaxis": {
            "backgroundcolor": "#E5ECF6",
            "gridcolor": "white",
            "gridwidth": 2,
            "linecolor": "white",
            "showbackground": true,
            "ticks": "",
            "zerolinecolor": "white"
           },
           "zaxis": {
            "backgroundcolor": "#E5ECF6",
            "gridcolor": "white",
            "gridwidth": 2,
            "linecolor": "white",
            "showbackground": true,
            "ticks": "",
            "zerolinecolor": "white"
           }
          },
          "shapedefaults": {
           "line": {
            "color": "#2a3f5f"
           }
          },
          "ternary": {
           "aaxis": {
            "gridcolor": "white",
            "linecolor": "white",
            "ticks": ""
           },
           "baxis": {
            "gridcolor": "white",
            "linecolor": "white",
            "ticks": ""
           },
           "bgcolor": "#E5ECF6",
           "caxis": {
            "gridcolor": "white",
            "linecolor": "white",
            "ticks": ""
           }
          },
          "title": {
           "x": 0.05
          },
          "xaxis": {
           "automargin": true,
           "gridcolor": "white",
           "linecolor": "white",
           "ticks": "",
           "zerolinecolor": "white",
           "zerolinewidth": 2
          },
          "yaxis": {
           "automargin": true,
           "gridcolor": "white",
           "linecolor": "white",
           "ticks": "",
           "zerolinecolor": "white",
           "zerolinewidth": 2
          }
         }
        },
        "xaxis": {
         "anchor": "y",
         "categoryarray": [
          "LateTeens",
          "Early20s",
          "Mid20s",
          "Late20s"
         ],
         "categoryorder": "array",
         "domain": [
          0,
          0.98
         ],
         "title": {
          "text": "age_Groups"
         }
        },
        "yaxis": {
         "anchor": "x",
         "domain": [
          0,
          1
         ],
         "title": {
          "text": "Percent"
         }
        }
       }
      },
      "text/html": [
       "<div>\n",
       "        \n",
       "        \n",
       "            <div id=\"d412da84-6871-4538-96ed-2446053ac71e\" class=\"plotly-graph-div\" style=\"height:600px; width:100%;\"></div>\n",
       "            <script type=\"text/javascript\">\n",
       "                require([\"plotly\"], function(Plotly) {\n",
       "                    window.PLOTLYENV=window.PLOTLYENV || {};\n",
       "                    \n",
       "                if (document.getElementById(\"d412da84-6871-4538-96ed-2446053ac71e\")) {\n",
       "                    Plotly.newPlot(\n",
       "                        'd412da84-6871-4538-96ed-2446053ac71e',\n",
       "                        [{\"alignmentgroup\": \"True\", \"bingroup\": \"x\", \"hoverlabel\": {\"namelength\": 0}, \"hovertemplate\": \"Voted=1<br>age_Groups=%{x}<br>count=%{y}\", \"legendgroup\": \"Voted=1\", \"marker\": {\"color\": \"#636efa\"}, \"name\": \"Voted=1\", \"offsetgroup\": \"Voted=1\", \"orientation\": \"v\", \"showlegend\": true, \"type\": \"histogram\", \"x\": [\"LateTeens\", \"LateTeens\", \"LateTeens\", \"Early20s\", \"Early20s\", \"Late20s\", \"LateTeens\", \"Late20s\", \"LateTeens\", \"Mid20s\", \"Early20s\", \"Early20s\", \"LateTeens\", \"Late20s\", \"Early20s\", \"Late20s\", \"Late20s\", \"LateTeens\", \"Late20s\", \"Mid20s\", \"Late20s\", \"Mid20s\", \"Early20s\", \"LateTeens\", \"Mid20s\", \"Early20s\", \"Late20s\", \"LateTeens\", \"LateTeens\", \"Mid20s\", \"Late20s\", \"Mid20s\", \"Mid20s\", \"LateTeens\", \"LateTeens\", \"Late20s\", \"Late20s\", \"Early20s\", \"Early20s\", \"Mid20s\", \"Early20s\", \"Mid20s\", \"Mid20s\", \"Mid20s\", \"Mid20s\", \"Late20s\", \"Early20s\", \"Late20s\", \"LateTeens\", \"Mid20s\", \"Late20s\", \"LateTeens\", \"Mid20s\", \"Late20s\", \"Mid20s\", \"Mid20s\", \"Mid20s\", \"LateTeens\", \"LateTeens\", \"Mid20s\", \"Mid20s\", \"Late20s\", \"Early20s\", \"Early20s\", \"Late20s\", \"Mid20s\", \"Late20s\", \"Early20s\", \"Mid20s\", \"Mid20s\", \"Early20s\", \"LateTeens\", \"Early20s\", \"Mid20s\", \"LateTeens\", \"Early20s\", \"Early20s\", \"Mid20s\", \"Mid20s\", \"Early20s\", \"Mid20s\", \"Early20s\", \"Late20s\", \"Early20s\", \"Mid20s\", \"Mid20s\", \"Mid20s\", \"LateTeens\", \"Mid20s\", \"Late20s\", \"Mid20s\", \"Mid20s\", \"Mid20s\", \"Late20s\", \"Late20s\", \"Mid20s\", \"Early20s\", \"Late20s\", \"Late20s\", \"Mid20s\", \"Late20s\", \"Mid20s\", \"Late20s\", \"Early20s\", \"LateTeens\", \"Late20s\", \"LateTeens\", \"Early20s\", \"Early20s\", \"Late20s\", \"Late20s\", \"Mid20s\", \"Mid20s\", \"Late20s\", \"Early20s\", \"LateTeens\", \"LateTeens\", \"LateTeens\", \"LateTeens\", \"Early20s\", \"LateTeens\", \"Late20s\", \"Early20s\", \"Early20s\", \"Early20s\", \"Late20s\", \"LateTeens\", \"Late20s\", \"Late20s\", \"LateTeens\", \"Early20s\", \"Early20s\", \"Early20s\", \"Early20s\", \"Early20s\", \"LateTeens\", \"Mid20s\", \"Late20s\", \"Early20s\", \"LateTeens\", \"LateTeens\", \"Mid20s\", \"Mid20s\", \"Late20s\", \"LateTeens\", \"LateTeens\", \"Early20s\", \"Early20s\", \"Early20s\", \"LateTeens\", \"Mid20s\", \"LateTeens\", \"Mid20s\", \"LateTeens\", \"LateTeens\", \"LateTeens\", \"Mid20s\", \"Mid20s\", \"Early20s\", \"Mid20s\", \"Late20s\", \"Late20s\", \"Early20s\", \"Early20s\", \"Early20s\", \"Late20s\", \"Early20s\", \"Early20s\", \"Mid20s\", \"Late20s\", \"Early20s\", \"Mid20s\", \"Mid20s\", \"Late20s\", \"Mid20s\", \"Late20s\", \"Mid20s\", \"LateTeens\", \"Mid20s\", \"LateTeens\", \"LateTeens\", \"LateTeens\", \"Early20s\", \"LateTeens\", \"Mid20s\", \"Late20s\", \"Late20s\", \"LateTeens\", \"Late20s\", \"Early20s\", \"Mid20s\", \"Late20s\", \"Early20s\", \"LateTeens\", \"Mid20s\", \"Early20s\", \"Late20s\", \"Early20s\", \"LateTeens\", \"Mid20s\", \"Early20s\", \"Early20s\", \"LateTeens\", \"Late20s\", \"LateTeens\", \"Mid20s\", \"Mid20s\", \"Late20s\", \"Mid20s\", \"Mid20s\", \"Late20s\", \"Mid20s\", \"Late20s\", \"Late20s\", \"Late20s\", \"Late20s\", \"Mid20s\", \"Mid20s\", \"Mid20s\", \"Late20s\", \"Early20s\", \"Late20s\", \"Late20s\", \"Late20s\", \"Mid20s\", \"Late20s\", \"Mid20s\", \"Early20s\", \"Late20s\", \"Late20s\", \"Late20s\", \"Late20s\", \"Mid20s\", \"Late20s\", \"Early20s\", \"LateTeens\", \"Early20s\", \"Late20s\", \"Mid20s\", \"Late20s\", \"Early20s\", \"Mid20s\", \"Late20s\", \"Late20s\", \"Mid20s\", \"LateTeens\", \"Late20s\", \"Early20s\", \"Late20s\", \"Late20s\", \"Late20s\", \"LateTeens\", \"Late20s\", \"Late20s\", \"Mid20s\", \"Mid20s\", \"Late20s\", \"Mid20s\", \"Early20s\", \"Mid20s\", \"Late20s\", \"Early20s\", \"Late20s\", \"Late20s\", \"Early20s\", \"Mid20s\", \"Mid20s\", \"LateTeens\", \"Early20s\", \"Late20s\", \"Late20s\", \"Late20s\", \"Early20s\", \"Early20s\", \"Mid20s\", \"Early20s\", \"Early20s\", \"Late20s\", \"Late20s\", \"Mid20s\", \"Mid20s\", \"Mid20s\", \"Late20s\", \"Mid20s\", \"Early20s\", \"Mid20s\", \"Early20s\", \"Late20s\", \"Late20s\", \"Mid20s\", \"Late20s\", \"Late20s\", \"Early20s\", \"Late20s\", \"Mid20s\", \"LateTeens\", \"Mid20s\", \"Mid20s\", \"Early20s\", \"Late20s\", \"Late20s\", \"Mid20s\", \"Early20s\", \"Early20s\", \"Late20s\", \"Mid20s\", \"Mid20s\", \"Early20s\", \"Late20s\", \"LateTeens\", \"Early20s\", \"Late20s\", \"Late20s\", \"Late20s\", \"LateTeens\", \"Late20s\", \"Late20s\", \"Late20s\", \"Mid20s\", \"Late20s\", \"Early20s\", \"Late20s\", \"Mid20s\", \"Early20s\", \"Mid20s\", \"Early20s\", \"Mid20s\", \"Late20s\", \"Mid20s\", \"Late20s\", \"Mid20s\", \"LateTeens\", \"Late20s\", \"Late20s\", \"LateTeens\", \"Late20s\", \"Late20s\", \"Late20s\", \"Early20s\", \"Late20s\", \"LateTeens\", \"Late20s\", \"LateTeens\", \"Early20s\", \"LateTeens\", \"LateTeens\", \"Early20s\", \"LateTeens\", \"Late20s\", \"LateTeens\", \"Mid20s\", \"Early20s\", \"Mid20s\", \"Late20s\", \"Late20s\", \"LateTeens\", \"Mid20s\", \"Mid20s\", \"Early20s\", \"Early20s\", \"LateTeens\", \"Early20s\", \"Late20s\", \"Mid20s\", \"Mid20s\", \"Late20s\", \"Mid20s\", \"LateTeens\", \"Late20s\", \"Early20s\", \"Late20s\", \"Late20s\", \"Mid20s\", \"Mid20s\", \"LateTeens\", \"Mid20s\", \"Mid20s\", \"Late20s\", \"Early20s\", \"Mid20s\", \"LateTeens\", \"Late20s\", \"Early20s\", \"LateTeens\", \"Late20s\", \"Early20s\", \"Late20s\", \"LateTeens\", \"Mid20s\", \"Late20s\", \"LateTeens\", \"Early20s\", \"Late20s\", \"Mid20s\", \"Mid20s\", \"Early20s\", \"Mid20s\", \"Mid20s\", \"Mid20s\", \"LateTeens\", \"Late20s\", \"Late20s\", \"Late20s\", \"LateTeens\", \"Mid20s\", \"Late20s\", \"LateTeens\", \"Late20s\", \"LateTeens\", \"LateTeens\", \"LateTeens\", \"Early20s\", \"Mid20s\", \"LateTeens\", \"Early20s\", \"Late20s\", \"Early20s\", \"Early20s\", \"Early20s\", \"Late20s\", \"LateTeens\", \"Early20s\", \"Early20s\", \"Mid20s\", \"LateTeens\", \"Early20s\", \"LateTeens\", \"LateTeens\", \"Late20s\", \"Early20s\", \"Late20s\", \"Early20s\", \"Early20s\", \"Early20s\", \"Late20s\", \"LateTeens\", \"Mid20s\", \"Early20s\", \"Late20s\", \"Late20s\", \"Mid20s\", \"LateTeens\", \"Mid20s\", \"Early20s\", \"LateTeens\", \"LateTeens\", \"Early20s\", \"Late20s\", \"Late20s\", \"LateTeens\", \"Mid20s\", \"LateTeens\", \"Late20s\", \"Early20s\", \"Mid20s\", \"Early20s\", \"LateTeens\", \"Early20s\", \"Mid20s\", \"LateTeens\", \"Mid20s\", \"Mid20s\", \"LateTeens\", \"LateTeens\", \"Mid20s\", \"LateTeens\", \"Early20s\", \"LateTeens\", \"Early20s\", \"Mid20s\", \"Late20s\", \"Early20s\", \"Mid20s\", \"LateTeens\", \"Mid20s\", \"Early20s\", \"Late20s\", \"LateTeens\", \"Early20s\", \"Early20s\", \"Mid20s\", \"Mid20s\", \"LateTeens\", \"Early20s\", \"Mid20s\", \"Late20s\", \"LateTeens\", \"Early20s\", \"Early20s\", \"Early20s\", \"Late20s\", \"LateTeens\", \"Mid20s\", \"Early20s\", \"Mid20s\", \"Late20s\", \"Late20s\", \"Early20s\", \"Late20s\", \"Mid20s\", \"Early20s\", \"Mid20s\", \"Late20s\", \"LateTeens\", \"Late20s\", \"Late20s\", \"Mid20s\", \"Late20s\", \"Early20s\", \"Early20s\", \"Early20s\", \"LateTeens\", \"Late20s\", \"Late20s\", \"Early20s\", \"Early20s\", \"Early20s\", \"Early20s\", \"Late20s\", \"Mid20s\", \"Late20s\", \"Mid20s\", \"Late20s\", \"Late20s\", \"LateTeens\", \"Late20s\", \"Late20s\", \"Mid20s\", \"Late20s\", \"Late20s\", \"Early20s\", \"Early20s\", \"Late20s\", \"Late20s\", \"Late20s\", \"Late20s\", \"Early20s\", \"Late20s\", \"Mid20s\", \"Late20s\", \"LateTeens\", \"Mid20s\", \"Mid20s\", \"Late20s\", \"Late20s\", \"Mid20s\", \"LateTeens\", \"LateTeens\", \"Mid20s\", \"Late20s\", \"Early20s\", \"Late20s\", \"LateTeens\", \"Early20s\", \"Mid20s\", \"Mid20s\", \"LateTeens\", \"Late20s\", \"Early20s\", \"Early20s\", \"LateTeens\", \"LateTeens\", \"Mid20s\", \"Early20s\", \"Early20s\", \"Early20s\", \"Early20s\", \"Late20s\", \"Late20s\", \"Mid20s\", \"Early20s\", \"Early20s\", \"Mid20s\", \"LateTeens\", \"Mid20s\", \"Late20s\", \"Early20s\", \"LateTeens\", \"Mid20s\", \"Late20s\", \"Late20s\", \"Late20s\", \"Mid20s\", \"Late20s\", \"LateTeens\", \"Late20s\", \"Mid20s\", \"Early20s\", \"Late20s\", \"Mid20s\", \"LateTeens\", \"Mid20s\", \"LateTeens\", \"Late20s\", \"Early20s\", \"Mid20s\", \"Mid20s\", \"Late20s\", \"Mid20s\", \"LateTeens\", \"Mid20s\", \"LateTeens\", \"Mid20s\", \"Early20s\", \"Late20s\", \"LateTeens\", \"Late20s\", \"Early20s\", \"Early20s\", \"LateTeens\", \"Late20s\", \"Early20s\", \"Mid20s\", \"Mid20s\", \"Early20s\", \"Late20s\", \"Mid20s\", \"Early20s\", \"LateTeens\", \"Early20s\", \"Late20s\", \"LateTeens\", \"Late20s\", \"LateTeens\", \"Early20s\", \"Early20s\", \"Early20s\", \"Early20s\", \"Mid20s\", \"Early20s\", \"Mid20s\", \"Mid20s\", \"LateTeens\", \"LateTeens\", \"Mid20s\", \"LateTeens\", \"Late20s\", \"Early20s\", \"LateTeens\", \"LateTeens\", \"Early20s\", \"LateTeens\", \"Mid20s\", \"Early20s\", \"Early20s\", \"Early20s\", \"Mid20s\", \"Early20s\", \"LateTeens\", \"LateTeens\", \"LateTeens\", \"Early20s\", \"Late20s\", \"LateTeens\", \"Early20s\", \"Late20s\", \"Late20s\", \"Mid20s\", \"Mid20s\", \"Late20s\", \"Early20s\", \"Early20s\", \"LateTeens\", \"Early20s\", \"Late20s\", \"Early20s\", \"Mid20s\", \"Early20s\", \"LateTeens\", \"LateTeens\", \"Late20s\", \"Early20s\", \"LateTeens\", \"LateTeens\", \"Early20s\", \"Late20s\", \"Early20s\", \"Early20s\", \"LateTeens\", \"Early20s\", \"Mid20s\", \"Early20s\", \"Early20s\", \"LateTeens\", \"Late20s\", \"LateTeens\", \"LateTeens\", \"Mid20s\", \"Early20s\", \"LateTeens\", \"LateTeens\", \"LateTeens\", \"LateTeens\", \"Mid20s\", \"Early20s\", \"Late20s\", \"Early20s\", \"Early20s\", \"LateTeens\", \"Early20s\", \"Late20s\", \"Early20s\", \"Early20s\", \"Mid20s\", \"LateTeens\", \"LateTeens\", \"Mid20s\", \"Mid20s\", \"Early20s\", \"Mid20s\", \"Mid20s\", \"Early20s\", \"Early20s\", \"Late20s\", \"Early20s\", \"Early20s\", \"LateTeens\", \"Early20s\", \"Mid20s\", \"Early20s\", \"LateTeens\", \"Late20s\", \"Early20s\", \"Late20s\", \"Late20s\", \"Early20s\", \"Early20s\", \"Mid20s\", \"Early20s\", \"Early20s\", \"Mid20s\", \"LateTeens\", \"Early20s\", \"LateTeens\", \"LateTeens\", \"Early20s\", \"Early20s\", \"LateTeens\", \"LateTeens\", \"Early20s\", \"Mid20s\", \"LateTeens\", \"Early20s\", \"Late20s\", \"Late20s\", \"Early20s\", \"Early20s\", \"LateTeens\", \"Mid20s\", \"Mid20s\", \"Mid20s\", \"LateTeens\", \"Mid20s\", \"Mid20s\", \"LateTeens\", \"Late20s\", \"Late20s\", \"LateTeens\", \"Late20s\", \"Mid20s\", \"LateTeens\", \"LateTeens\", \"LateTeens\", \"LateTeens\", \"LateTeens\", \"LateTeens\", \"LateTeens\", \"LateTeens\", \"LateTeens\"], \"xaxis\": \"x\", \"yaxis\": \"y\"}, {\"alignmentgroup\": \"True\", \"bingroup\": \"x\", \"hoverlabel\": {\"namelength\": 0}, \"hovertemplate\": \"Voted=0<br>age_Groups=%{x}<br>count=%{y}\", \"legendgroup\": \"Voted=0\", \"marker\": {\"color\": \"#EF553B\"}, \"name\": \"Voted=0\", \"offsetgroup\": \"Voted=0\", \"orientation\": \"v\", \"showlegend\": true, \"type\": \"histogram\", \"x\": [\"LateTeens\", \"Late20s\", \"Mid20s\", \"LateTeens\", \"Mid20s\", \"LateTeens\", \"Early20s\", \"Late20s\", \"LateTeens\", \"Late20s\", \"Early20s\", \"Late20s\", \"LateTeens\", \"Late20s\", \"Late20s\", \"Early20s\", \"LateTeens\", \"LateTeens\", \"Late20s\", \"LateTeens\", \"LateTeens\", \"Late20s\", \"Mid20s\", \"Early20s\", \"Early20s\", \"Early20s\", \"Late20s\", \"Late20s\", \"Late20s\", \"Early20s\", \"Mid20s\", \"LateTeens\", \"Mid20s\", \"Late20s\", \"Mid20s\", \"LateTeens\", \"Early20s\", \"LateTeens\", \"LateTeens\", \"Mid20s\", \"Late20s\", \"Early20s\", \"LateTeens\", \"LateTeens\", \"LateTeens\", \"Mid20s\", \"Mid20s\", \"Early20s\", \"Late20s\", \"Mid20s\", \"LateTeens\", \"Late20s\", \"LateTeens\", \"Mid20s\", \"LateTeens\", \"LateTeens\", \"LateTeens\", \"Early20s\", \"LateTeens\", \"LateTeens\", \"Late20s\", \"Mid20s\", \"LateTeens\", \"Mid20s\", \"LateTeens\", \"LateTeens\", \"Mid20s\", \"LateTeens\", \"Early20s\", \"Mid20s\", \"Late20s\", \"Late20s\", \"Mid20s\", \"LateTeens\", \"LateTeens\", \"Mid20s\", \"Late20s\", \"Early20s\", \"LateTeens\", \"LateTeens\", \"Early20s\", \"LateTeens\", \"LateTeens\", \"Early20s\", \"LateTeens\", \"Late20s\", \"LateTeens\", \"LateTeens\", \"Mid20s\", \"Early20s\", \"Late20s\", \"LateTeens\", \"LateTeens\", \"LateTeens\", \"Late20s\", \"Early20s\", \"LateTeens\", \"LateTeens\", \"Mid20s\", \"Mid20s\", \"LateTeens\", \"Early20s\", \"Late20s\", \"Early20s\", \"Mid20s\", \"Late20s\", \"LateTeens\", \"Mid20s\", \"Late20s\", \"Early20s\", \"Early20s\", \"LateTeens\", \"Early20s\", \"Early20s\", \"LateTeens\", \"Mid20s\", \"LateTeens\", \"Early20s\", \"LateTeens\", \"Late20s\", \"Mid20s\", \"Mid20s\", \"LateTeens\", \"Mid20s\", \"Early20s\", \"Early20s\", \"Early20s\", \"Late20s\", \"Mid20s\", \"Early20s\", \"Mid20s\", \"Mid20s\", \"LateTeens\", \"Late20s\", \"Late20s\", \"Early20s\", \"Early20s\", \"Late20s\", \"Late20s\", \"LateTeens\", \"Mid20s\", \"Mid20s\", \"LateTeens\", \"Mid20s\", \"Late20s\", \"Early20s\", \"Mid20s\", \"Late20s\", \"Early20s\", \"Mid20s\", \"Mid20s\", \"Late20s\", \"Early20s\", \"Late20s\", \"Late20s\", \"Early20s\", \"Early20s\", \"LateTeens\", \"Mid20s\", \"Late20s\", \"Early20s\", \"Early20s\", \"LateTeens\", \"Early20s\", \"Mid20s\", \"Late20s\", \"LateTeens\", \"Early20s\", \"Early20s\", \"Mid20s\", \"LateTeens\", \"Late20s\", \"Mid20s\", \"Mid20s\", \"Early20s\", \"Late20s\", \"LateTeens\", \"LateTeens\", \"LateTeens\", \"LateTeens\", \"Early20s\", \"Early20s\", \"Early20s\", \"Late20s\", \"Mid20s\", \"LateTeens\", \"Mid20s\", \"Mid20s\", \"LateTeens\", \"Early20s\", \"LateTeens\", \"Late20s\", \"LateTeens\", \"Late20s\", \"LateTeens\", \"Mid20s\", \"LateTeens\", \"Mid20s\", \"Early20s\", \"Early20s\", \"Early20s\", \"Early20s\", \"LateTeens\", \"Late20s\", \"LateTeens\", \"Late20s\", \"Early20s\", \"LateTeens\", \"LateTeens\", \"Early20s\", \"Late20s\", \"Mid20s\", \"LateTeens\", \"LateTeens\", \"Late20s\", \"LateTeens\", \"LateTeens\", \"Late20s\", \"Early20s\", \"LateTeens\", \"Mid20s\", \"Late20s\", \"Mid20s\", \"Mid20s\", \"Early20s\", \"Early20s\", \"LateTeens\", \"LateTeens\", \"LateTeens\", \"Late20s\", \"Late20s\", \"Mid20s\", \"Early20s\", \"Late20s\", \"LateTeens\", \"Early20s\", \"Early20s\", \"Early20s\", \"Late20s\", \"Early20s\", \"LateTeens\", \"LateTeens\", \"LateTeens\", \"Early20s\", \"LateTeens\", \"Mid20s\", \"Early20s\", \"Late20s\", \"Late20s\", \"Late20s\", \"Late20s\", \"Late20s\", \"LateTeens\", \"Mid20s\", \"Mid20s\", \"Late20s\", \"Early20s\", \"LateTeens\", \"Early20s\", \"Mid20s\", \"Early20s\", \"Early20s\", \"LateTeens\", \"LateTeens\", \"LateTeens\", \"LateTeens\", \"LateTeens\", \"Mid20s\", \"Early20s\", \"Early20s\", \"Late20s\", \"LateTeens\", \"LateTeens\", \"Early20s\", \"Early20s\", \"Mid20s\", \"LateTeens\", \"Mid20s\", \"Late20s\", \"LateTeens\", \"Early20s\", \"LateTeens\", \"Late20s\", \"Early20s\", \"Mid20s\", \"Mid20s\", \"Early20s\", \"Early20s\", \"Mid20s\", \"Early20s\", \"Early20s\", \"Early20s\", \"Late20s\", \"Late20s\", \"Late20s\", \"Early20s\", \"Late20s\", \"Mid20s\", \"Mid20s\", \"Early20s\", \"LateTeens\", \"LateTeens\", \"Late20s\", \"Late20s\", \"Mid20s\", \"Early20s\", \"Early20s\", \"Late20s\", \"LateTeens\", \"LateTeens\", \"LateTeens\", \"Mid20s\", \"LateTeens\", \"Late20s\", \"LateTeens\", \"LateTeens\", \"LateTeens\", \"Late20s\", \"LateTeens\", \"Late20s\", \"Mid20s\", \"Early20s\", \"Early20s\", \"Early20s\", \"LateTeens\", \"LateTeens\", \"Early20s\", \"Late20s\", \"LateTeens\", \"Mid20s\", \"LateTeens\", \"LateTeens\", \"LateTeens\", \"Early20s\", \"LateTeens\", \"LateTeens\", \"LateTeens\", \"LateTeens\", \"Late20s\", \"LateTeens\", \"Mid20s\", \"Mid20s\", \"Mid20s\", \"LateTeens\", \"Late20s\", \"LateTeens\", \"LateTeens\", \"Late20s\", \"Late20s\", \"Late20s\", \"Late20s\", \"Early20s\", \"LateTeens\", \"LateTeens\", \"LateTeens\", \"Early20s\", \"Mid20s\", \"LateTeens\", \"LateTeens\", \"LateTeens\", \"Early20s\", \"LateTeens\", \"LateTeens\", \"Early20s\", \"Early20s\", \"Early20s\", \"Mid20s\", \"LateTeens\", \"Early20s\", \"LateTeens\", \"Mid20s\", \"LateTeens\", \"LateTeens\", \"Mid20s\", \"LateTeens\", \"Late20s\", \"LateTeens\", \"Early20s\", \"Early20s\", \"Early20s\", \"Early20s\", \"Early20s\", \"LateTeens\", \"Early20s\", \"Early20s\", \"Early20s\", \"LateTeens\", \"Mid20s\", \"LateTeens\", \"LateTeens\", \"Early20s\", \"Early20s\", \"LateTeens\", \"LateTeens\", \"LateTeens\", \"LateTeens\", \"LateTeens\", \"Early20s\", \"Early20s\", \"Early20s\", \"Late20s\", \"LateTeens\", \"Early20s\", \"LateTeens\", \"LateTeens\", \"Early20s\", \"Early20s\", \"Early20s\", \"LateTeens\", \"Late20s\", \"Early20s\", \"Early20s\", \"Early20s\", \"LateTeens\", \"Early20s\", \"Early20s\", \"LateTeens\", \"LateTeens\", \"Mid20s\", \"Early20s\", \"Early20s\", \"Early20s\", \"Early20s\", \"LateTeens\", \"LateTeens\", \"Late20s\", \"LateTeens\", \"Early20s\", \"Late20s\", \"LateTeens\", \"Mid20s\", \"Early20s\", \"LateTeens\", \"LateTeens\", \"Mid20s\", \"LateTeens\", \"Mid20s\", \"Early20s\", \"Early20s\", \"LateTeens\", \"Mid20s\", \"LateTeens\", \"LateTeens\", \"Early20s\", \"Early20s\", \"Early20s\", \"Early20s\", \"Early20s\", \"Late20s\", \"LateTeens\", \"LateTeens\", \"Mid20s\", \"Early20s\", \"LateTeens\", \"LateTeens\", \"LateTeens\", \"LateTeens\", \"LateTeens\", \"LateTeens\"], \"xaxis\": \"x\", \"yaxis\": \"y\"}],\n",
       "                        {\"barmode\": \"group\", \"barnorm\": \"percent\", \"height\": 600, \"legend\": {\"tracegroupgap\": 0}, \"margin\": {\"t\": 60}, \"template\": {\"data\": {\"bar\": [{\"error_x\": {\"color\": \"#2a3f5f\"}, \"error_y\": {\"color\": \"#2a3f5f\"}, \"marker\": {\"line\": {\"color\": \"#E5ECF6\", \"width\": 0.5}}, \"type\": \"bar\"}], \"barpolar\": [{\"marker\": {\"line\": {\"color\": \"#E5ECF6\", \"width\": 0.5}}, \"type\": \"barpolar\"}], \"carpet\": [{\"aaxis\": {\"endlinecolor\": \"#2a3f5f\", \"gridcolor\": \"white\", \"linecolor\": \"white\", \"minorgridcolor\": \"white\", \"startlinecolor\": \"#2a3f5f\"}, \"baxis\": {\"endlinecolor\": \"#2a3f5f\", \"gridcolor\": \"white\", \"linecolor\": \"white\", \"minorgridcolor\": \"white\", \"startlinecolor\": \"#2a3f5f\"}, \"type\": \"carpet\"}], \"choropleth\": [{\"colorbar\": {\"outlinewidth\": 0, \"ticks\": \"\"}, \"type\": \"choropleth\"}], \"contour\": [{\"colorbar\": {\"outlinewidth\": 0, \"ticks\": \"\"}, \"colorscale\": [[0.0, \"#0d0887\"], [0.1111111111111111, \"#46039f\"], [0.2222222222222222, \"#7201a8\"], [0.3333333333333333, \"#9c179e\"], [0.4444444444444444, \"#bd3786\"], [0.5555555555555556, \"#d8576b\"], [0.6666666666666666, \"#ed7953\"], [0.7777777777777778, \"#fb9f3a\"], [0.8888888888888888, \"#fdca26\"], [1.0, \"#f0f921\"]], \"type\": \"contour\"}], \"contourcarpet\": [{\"colorbar\": {\"outlinewidth\": 0, \"ticks\": \"\"}, \"type\": \"contourcarpet\"}], \"heatmap\": [{\"colorbar\": {\"outlinewidth\": 0, \"ticks\": \"\"}, \"colorscale\": [[0.0, \"#0d0887\"], [0.1111111111111111, \"#46039f\"], [0.2222222222222222, \"#7201a8\"], [0.3333333333333333, \"#9c179e\"], [0.4444444444444444, \"#bd3786\"], [0.5555555555555556, \"#d8576b\"], [0.6666666666666666, \"#ed7953\"], [0.7777777777777778, \"#fb9f3a\"], [0.8888888888888888, \"#fdca26\"], [1.0, \"#f0f921\"]], \"type\": \"heatmap\"}], \"heatmapgl\": [{\"colorbar\": {\"outlinewidth\": 0, \"ticks\": \"\"}, \"colorscale\": [[0.0, \"#0d0887\"], [0.1111111111111111, \"#46039f\"], [0.2222222222222222, \"#7201a8\"], [0.3333333333333333, \"#9c179e\"], [0.4444444444444444, \"#bd3786\"], [0.5555555555555556, \"#d8576b\"], [0.6666666666666666, \"#ed7953\"], [0.7777777777777778, \"#fb9f3a\"], [0.8888888888888888, \"#fdca26\"], [1.0, \"#f0f921\"]], \"type\": \"heatmapgl\"}], \"histogram\": [{\"marker\": {\"colorbar\": {\"outlinewidth\": 0, \"ticks\": \"\"}}, \"type\": \"histogram\"}], \"histogram2d\": [{\"colorbar\": {\"outlinewidth\": 0, \"ticks\": \"\"}, \"colorscale\": [[0.0, \"#0d0887\"], [0.1111111111111111, \"#46039f\"], [0.2222222222222222, \"#7201a8\"], [0.3333333333333333, \"#9c179e\"], [0.4444444444444444, \"#bd3786\"], [0.5555555555555556, \"#d8576b\"], [0.6666666666666666, \"#ed7953\"], [0.7777777777777778, \"#fb9f3a\"], [0.8888888888888888, \"#fdca26\"], [1.0, \"#f0f921\"]], \"type\": \"histogram2d\"}], \"histogram2dcontour\": [{\"colorbar\": {\"outlinewidth\": 0, \"ticks\": \"\"}, \"colorscale\": [[0.0, \"#0d0887\"], [0.1111111111111111, \"#46039f\"], [0.2222222222222222, \"#7201a8\"], [0.3333333333333333, \"#9c179e\"], [0.4444444444444444, \"#bd3786\"], [0.5555555555555556, \"#d8576b\"], [0.6666666666666666, \"#ed7953\"], [0.7777777777777778, \"#fb9f3a\"], [0.8888888888888888, \"#fdca26\"], [1.0, \"#f0f921\"]], \"type\": \"histogram2dcontour\"}], \"mesh3d\": [{\"colorbar\": {\"outlinewidth\": 0, \"ticks\": \"\"}, \"type\": \"mesh3d\"}], \"parcoords\": [{\"line\": {\"colorbar\": {\"outlinewidth\": 0, \"ticks\": \"\"}}, \"type\": \"parcoords\"}], \"scatter\": [{\"marker\": {\"colorbar\": {\"outlinewidth\": 0, \"ticks\": \"\"}}, \"type\": \"scatter\"}], \"scatter3d\": [{\"line\": {\"colorbar\": {\"outlinewidth\": 0, \"ticks\": \"\"}}, \"marker\": {\"colorbar\": {\"outlinewidth\": 0, \"ticks\": \"\"}}, \"type\": \"scatter3d\"}], \"scattercarpet\": [{\"marker\": {\"colorbar\": {\"outlinewidth\": 0, \"ticks\": \"\"}}, \"type\": \"scattercarpet\"}], \"scattergeo\": [{\"marker\": {\"colorbar\": {\"outlinewidth\": 0, \"ticks\": \"\"}}, \"type\": \"scattergeo\"}], \"scattergl\": [{\"marker\": {\"colorbar\": {\"outlinewidth\": 0, \"ticks\": \"\"}}, \"type\": \"scattergl\"}], \"scattermapbox\": [{\"marker\": {\"colorbar\": {\"outlinewidth\": 0, \"ticks\": \"\"}}, \"type\": \"scattermapbox\"}], \"scatterpolar\": [{\"marker\": {\"colorbar\": {\"outlinewidth\": 0, \"ticks\": \"\"}}, \"type\": \"scatterpolar\"}], \"scatterpolargl\": [{\"marker\": {\"colorbar\": {\"outlinewidth\": 0, \"ticks\": \"\"}}, \"type\": \"scatterpolargl\"}], \"scatterternary\": [{\"marker\": {\"colorbar\": {\"outlinewidth\": 0, \"ticks\": \"\"}}, \"type\": \"scatterternary\"}], \"surface\": [{\"colorbar\": {\"outlinewidth\": 0, \"ticks\": \"\"}, \"colorscale\": [[0.0, \"#0d0887\"], [0.1111111111111111, \"#46039f\"], [0.2222222222222222, \"#7201a8\"], [0.3333333333333333, \"#9c179e\"], [0.4444444444444444, \"#bd3786\"], [0.5555555555555556, \"#d8576b\"], [0.6666666666666666, \"#ed7953\"], [0.7777777777777778, \"#fb9f3a\"], [0.8888888888888888, \"#fdca26\"], [1.0, \"#f0f921\"]], \"type\": \"surface\"}], \"table\": [{\"cells\": {\"fill\": {\"color\": \"#EBF0F8\"}, \"line\": {\"color\": \"white\"}}, \"header\": {\"fill\": {\"color\": \"#C8D4E3\"}, \"line\": {\"color\": \"white\"}}, \"type\": \"table\"}]}, \"layout\": {\"annotationdefaults\": {\"arrowcolor\": \"#2a3f5f\", \"arrowhead\": 0, \"arrowwidth\": 1}, \"colorscale\": {\"diverging\": [[0, \"#8e0152\"], [0.1, \"#c51b7d\"], [0.2, \"#de77ae\"], [0.3, \"#f1b6da\"], [0.4, \"#fde0ef\"], [0.5, \"#f7f7f7\"], [0.6, \"#e6f5d0\"], [0.7, \"#b8e186\"], [0.8, \"#7fbc41\"], [0.9, \"#4d9221\"], [1, \"#276419\"]], \"sequential\": [[0.0, \"#0d0887\"], [0.1111111111111111, \"#46039f\"], [0.2222222222222222, \"#7201a8\"], [0.3333333333333333, \"#9c179e\"], [0.4444444444444444, \"#bd3786\"], [0.5555555555555556, \"#d8576b\"], [0.6666666666666666, \"#ed7953\"], [0.7777777777777778, \"#fb9f3a\"], [0.8888888888888888, \"#fdca26\"], [1.0, \"#f0f921\"]], \"sequentialminus\": [[0.0, \"#0d0887\"], [0.1111111111111111, \"#46039f\"], [0.2222222222222222, \"#7201a8\"], [0.3333333333333333, \"#9c179e\"], [0.4444444444444444, \"#bd3786\"], [0.5555555555555556, \"#d8576b\"], [0.6666666666666666, \"#ed7953\"], [0.7777777777777778, \"#fb9f3a\"], [0.8888888888888888, \"#fdca26\"], [1.0, \"#f0f921\"]]}, \"colorway\": [\"#636efa\", \"#EF553B\", \"#00cc96\", \"#ab63fa\", \"#FFA15A\", \"#19d3f3\", \"#FF6692\", \"#B6E880\", \"#FF97FF\", \"#FECB52\"], \"font\": {\"color\": \"#2a3f5f\"}, \"geo\": {\"bgcolor\": \"white\", \"lakecolor\": \"white\", \"landcolor\": \"#E5ECF6\", \"showlakes\": true, \"showland\": true, \"subunitcolor\": \"white\"}, \"hoverlabel\": {\"align\": \"left\"}, \"hovermode\": \"closest\", \"mapbox\": {\"style\": \"light\"}, \"paper_bgcolor\": \"white\", \"plot_bgcolor\": \"#E5ECF6\", \"polar\": {\"angularaxis\": {\"gridcolor\": \"white\", \"linecolor\": \"white\", \"ticks\": \"\"}, \"bgcolor\": \"#E5ECF6\", \"radialaxis\": {\"gridcolor\": \"white\", \"linecolor\": \"white\", \"ticks\": \"\"}}, \"scene\": {\"xaxis\": {\"backgroundcolor\": \"#E5ECF6\", \"gridcolor\": \"white\", \"gridwidth\": 2, \"linecolor\": \"white\", \"showbackground\": true, \"ticks\": \"\", \"zerolinecolor\": \"white\"}, \"yaxis\": {\"backgroundcolor\": \"#E5ECF6\", \"gridcolor\": \"white\", \"gridwidth\": 2, \"linecolor\": \"white\", \"showbackground\": true, \"ticks\": \"\", \"zerolinecolor\": \"white\"}, \"zaxis\": {\"backgroundcolor\": \"#E5ECF6\", \"gridcolor\": \"white\", \"gridwidth\": 2, \"linecolor\": \"white\", \"showbackground\": true, \"ticks\": \"\", \"zerolinecolor\": \"white\"}}, \"shapedefaults\": {\"line\": {\"color\": \"#2a3f5f\"}}, \"ternary\": {\"aaxis\": {\"gridcolor\": \"white\", \"linecolor\": \"white\", \"ticks\": \"\"}, \"baxis\": {\"gridcolor\": \"white\", \"linecolor\": \"white\", \"ticks\": \"\"}, \"bgcolor\": \"#E5ECF6\", \"caxis\": {\"gridcolor\": \"white\", \"linecolor\": \"white\", \"ticks\": \"\"}}, \"title\": {\"x\": 0.05}, \"xaxis\": {\"automargin\": true, \"gridcolor\": \"white\", \"linecolor\": \"white\", \"ticks\": \"\", \"zerolinecolor\": \"white\", \"zerolinewidth\": 2}, \"yaxis\": {\"automargin\": true, \"gridcolor\": \"white\", \"linecolor\": \"white\", \"ticks\": \"\", \"zerolinecolor\": \"white\", \"zerolinewidth\": 2}}}, \"xaxis\": {\"anchor\": \"y\", \"categoryarray\": [\"LateTeens\", \"Early20s\", \"Mid20s\", \"Late20s\"], \"categoryorder\": \"array\", \"domain\": [0.0, 0.98], \"title\": {\"text\": \"age_Groups\"}}, \"yaxis\": {\"anchor\": \"x\", \"domain\": [0.0, 1.0], \"title\": {\"text\": \"Percent\"}}},\n",
       "                        {\"responsive\": true}\n",
       "                    ).then(function(){\n",
       "                            \n",
       "var gd = document.getElementById('d412da84-6871-4538-96ed-2446053ac71e');\n",
       "var x = new MutationObserver(function (mutations, observer) {{\n",
       "        var display = window.getComputedStyle(gd).display;\n",
       "        if (!display || display === 'none') {{\n",
       "            console.log([gd, 'removed!']);\n",
       "            Plotly.purge(gd);\n",
       "            observer.disconnect();\n",
       "        }}\n",
       "}});\n",
       "\n",
       "// Listen for the removal of the full notebook cells\n",
       "var notebookContainer = gd.closest('#notebook-container');\n",
       "if (notebookContainer) {{\n",
       "    x.observe(notebookContainer, {childList: true});\n",
       "}}\n",
       "\n",
       "// Listen for the clearing of the current output cell\n",
       "var outputEl = gd.closest('.output');\n",
       "if (outputEl) {{\n",
       "    x.observe(outputEl, {childList: true});\n",
       "}}\n",
       "\n",
       "                        })\n",
       "                };\n",
       "                });\n",
       "            </script>\n",
       "        </div>"
      ]
     },
     "metadata": {},
     "output_type": "display_data"
    }
   ],
   "source": [
    "ShowTwoWayHeatmap(data,'age_Groups','Voted', normalize=False)\n",
    "\n",
    "fig = px.histogram(data, x=\"age_Groups\",color='Voted',\n",
    "                   category_orders=dict(age_Groups=[\"LateTeens\", \"Early20s\", \"Mid20s\", \"Late20s\"]),barnorm='percent')\n",
    "fig.update_layout(barmode='group',yaxis_title=\"Percent\")\n",
    "#fig.update_yaxes(type='log')\n",
    "fig.show()"
   ]
  },
  {
   "cell_type": "markdown",
   "metadata": {},
   "source": [
    "Insights:\n",
    "\n",
    "Fairly even distributions though the data clearly leans toward mid to late 20s in volume.\n",
    "\n",
    "It seems respondents were more likely to vote as they got old which seems consistent with traditional understanding.\n"
   ]
  },
  {
   "cell_type": "markdown",
   "metadata": {},
   "source": [
    "# Voted vs Language Spoken at Home"
   ]
  },
  {
   "cell_type": "code",
   "execution_count": 45,
   "metadata": {},
   "outputs": [
    {
     "data": {
      "image/png": "[encoded data removed]",
      "text/plain": [
       "<Figure size 936x432 with 2 Axes>"
      ]
     },
     "metadata": {
      "needs_background": "light"
     },
     "output_type": "display_data"
    },
    {
     "data": {
      "application/vnd.plotly.v1+json": {
       "config": {
        "plotlyServerURL": "https://plot.ly"
       },
       "data": [
        {
         "alignmentgroup": "True",
         "bingroup": "x",
         "hoverlabel": {
          "namelength": 0
         },
         "hovertemplate": "Voted=1<br>langSpokenHome_Groups=%{x}<br>count=%{y}",
         "legendgroup": "Voted=1",
         "marker": {
          "color": "#636efa"
         },
         "name": "Voted=1",
         "offsetgroup": "Voted=1",
         "orientation": "v",
         "showlegend": true,
         "type": "histogram",
         "x": [
          "English",
          "English",
          "English",
          "English",
          "English",
          "English",
          "English",
          "English",
          "English",
          "English",
          "English",
          "English",
          "English",
          "English",
          "English",
          "English",
          "Other",
          "English",
          "English",
          "WontSay",
          "English",
          "English",
          "English",
          "English",
          "English",
          "English",
          "English",
          "English",
          "English",
          "English",
          "Other",
          "English",
          "English",
          "English",
          "English",
          "English",
          "English",
          "English",
          "English",
          "English",
          "English",
          "English",
          "English",
          "English",
          "English",
          "English",
          "Other",
          "English",
          "English",
          "English",
          "English",
          "English",
          "English",
          "English",
          "English",
          "English",
          "English",
          "English",
          "English",
          "English",
          "English",
          "English",
          "English",
          "English",
          "English",
          "English",
          "English",
          "English",
          "English",
          "English",
          "English",
          "English",
          "English",
          "English",
          "English",
          "English",
          "Other",
          "English",
          "English",
          "English",
          "English",
          "English",
          "English",
          "English",
          "English",
          "English",
          "English",
          "English",
          "English",
          "English",
          "English",
          "English",
          "Other",
          "English",
          "English",
          "English",
          "English",
          "English",
          "English",
          "English",
          "English",
          "English",
          "Other",
          "English",
          "English",
          "English",
          "English",
          "English",
          "English",
          "English",
          "English",
          "English",
          "English",
          "English",
          "English",
          "English",
          "English",
          "English",
          "English",
          "English",
          "English",
          "English",
          "English",
          "English",
          "English",
          "English",
          "Other",
          "English",
          "English",
          "WontSay",
          "English",
          "English",
          "English",
          "English",
          "English",
          "English",
          "English",
          "English",
          "English",
          "English",
          "English",
          "English",
          "Other",
          "English",
          "English",
          "English",
          "English",
          "English",
          "English",
          "Other",
          "English",
          "English",
          "English",
          "English",
          "Other",
          "English",
          "English",
          "English",
          "English",
          "Other",
          "English",
          "English",
          "English",
          "English",
          "English",
          "English",
          "English",
          "English",
          "English",
          "English",
          "English",
          "English",
          "Other",
          "English",
          "English",
          "English",
          "English",
          "English",
          "English",
          "English",
          "English",
          "Other",
          "English",
          "English",
          "English",
          "English",
          "English",
          "English",
          "English",
          "English",
          "English",
          "English",
          "English",
          "English",
          "English",
          "English",
          "English",
          "English",
          "Other",
          "English",
          "English",
          "English",
          "English",
          "WontSay",
          "English",
          "English",
          "English",
          "English",
          "English",
          "English",
          "English",
          "English",
          "English",
          "English",
          "English",
          "English",
          "English",
          "English",
          "English",
          "English",
          "Other",
          "English",
          "English",
          "English",
          "English",
          "English",
          "English",
          "English",
          "English",
          "Other",
          "English",
          "Other",
          "Other",
          "English",
          "English",
          "English",
          "English",
          "English",
          "English",
          "English",
          "English",
          "English",
          "English",
          "English",
          "English",
          "English",
          "English",
          "English",
          "English",
          "English",
          "English",
          "English",
          "English",
          "English",
          "English",
          "English",
          "English",
          "English",
          "English",
          "English",
          "English",
          "English",
          "English",
          "English",
          "English",
          "English",
          "English",
          "Other",
          "English",
          "English",
          "English",
          "Other",
          "English",
          "Other",
          "English",
          "English",
          "English",
          "English",
          "Other",
          "English",
          "English",
          "English",
          "English",
          "English",
          "English",
          "English",
          "English",
          "English",
          "English",
          "English",
          "English",
          "English",
          "English",
          "English",
          "English",
          "English",
          "English",
          "English",
          "Other",
          "English",
          "English",
          "English",
          "English",
          "English",
          "English",
          "English",
          "English",
          "English",
          "English",
          "English",
          "English",
          "English",
          "English",
          "English",
          "English",
          "English",
          "English",
          "English",
          "English",
          "English",
          "English",
          "English",
          "Other",
          "English",
          "Other",
          "English",
          "English",
          "English",
          "English",
          "English",
          "English",
          "Other",
          "English",
          "English",
          "English",
          "English",
          "English",
          "English",
          "English",
          "English",
          "English",
          "English",
          "English",
          "English",
          "English",
          "English",
          "English",
          "English",
          "English",
          "English",
          "English",
          "English",
          "English",
          "English",
          "English",
          "English",
          "English",
          "English",
          "English",
          "English",
          "English",
          "English",
          "English",
          "English",
          "English",
          "English",
          "English",
          "English",
          "Other",
          "English",
          "Other",
          "English",
          "English",
          "English",
          "English",
          "English",
          "Other",
          "English",
          "English",
          "Other",
          "English",
          "English",
          "English",
          "English",
          "Other",
          "English",
          "English",
          "Other",
          "English",
          "English",
          "Other",
          "English",
          "English",
          "English",
          "English",
          "English",
          "English",
          "English",
          "English",
          "English",
          "English",
          "English",
          "English",
          "English",
          "English",
          "English",
          "English",
          "English",
          "English",
          "Other",
          "English",
          "English",
          "English",
          "Other",
          "English",
          "English",
          "English",
          "English",
          "English",
          "English",
          "English",
          "English",
          "Other",
          "English",
          "English",
          "English",
          "English",
          "English",
          "English",
          "Other",
          "English",
          "Other",
          "English",
          "English",
          "English",
          "Other",
          "English",
          "English",
          "English",
          "Other",
          "Other",
          "English",
          "English",
          "English",
          "English",
          "English",
          "English",
          "English",
          "English",
          "English",
          "English",
          "English",
          "English",
          "English",
          "English",
          "English",
          "Other",
          "English",
          "Other",
          "English",
          "English",
          "English",
          "Other",
          "English",
          "English",
          "English",
          "Other",
          "English",
          "English",
          "English",
          "English",
          "English",
          "English",
          "English",
          "Other",
          "Other",
          "English",
          "English",
          "English",
          "Other",
          "English",
          "English",
          "English",
          "English",
          "Other",
          "English",
          "English",
          "English",
          "English",
          "English",
          "Other",
          "English",
          "WontSay",
          "English",
          "English",
          "English",
          "Other",
          "English",
          "English",
          "English",
          "English",
          "Other",
          "English",
          "English",
          "English",
          "English",
          "WontSay",
          "English",
          "English",
          "English",
          "English",
          "English",
          "English",
          "English",
          "English",
          "English",
          "English",
          "English",
          "English",
          "English",
          "Other",
          "English",
          "English",
          "English",
          "English",
          "English",
          "English",
          "Other",
          "English",
          "English",
          "English",
          "Other",
          "English",
          "Other",
          "English",
          "English",
          "English",
          "Other",
          "English",
          "English",
          "English",
          "Other",
          "English",
          "English",
          "English",
          "English",
          "English",
          "English",
          "WontSay",
          "Other",
          "English",
          "English",
          "English",
          "English",
          "English",
          "Other",
          "English",
          "English",
          "English",
          "English",
          "English",
          "English",
          "English",
          "English",
          "English",
          "English",
          "English",
          "English",
          "English",
          "English",
          "English",
          "English",
          "English",
          "English",
          "English",
          "English",
          "English",
          "English",
          "English",
          "English",
          "English",
          "English",
          "English",
          "English",
          "English",
          "English",
          "English",
          "English",
          "English",
          "WontSay",
          "Other",
          "English",
          "English",
          "English",
          "English",
          "Other",
          "English",
          "English",
          "English",
          "English",
          "English",
          "English",
          "English",
          "English",
          "English",
          "English",
          "WontSay",
          "English",
          "English",
          "English",
          "Other",
          "English",
          "English",
          "English",
          "Other",
          "WontSay",
          "English",
          "English",
          "English",
          "English",
          "English",
          "English",
          "Other",
          "English",
          "English",
          "English",
          "English",
          "English",
          "English",
          "English",
          "Other",
          "English",
          "Other",
          "English",
          "English",
          "English",
          "English",
          "English",
          "English",
          "English",
          "Other",
          "English",
          "English",
          "Other",
          "English",
          "English",
          "English",
          "English",
          "English",
          "English",
          "English",
          "English",
          "English",
          "English",
          "English",
          "English",
          "Other",
          "English",
          "English",
          "English",
          "English",
          "Other",
          "English",
          "English",
          "English",
          "English",
          "English",
          "Other",
          "English",
          "English",
          "English",
          "English",
          "English",
          "Other",
          "English",
          "English",
          "English",
          "English",
          "English",
          "English",
          "English",
          "English",
          "English",
          "English",
          "English",
          "Other",
          "English",
          "English",
          "English",
          "Other",
          "English",
          "English",
          "English",
          "WontSay",
          "English",
          "English",
          "English",
          "Other",
          "English",
          "English",
          "English",
          "English",
          "English",
          "English",
          "English",
          "English",
          "Other",
          "English",
          "WontSay",
          "Other",
          "English",
          "English",
          "English",
          "English",
          "English",
          "English",
          "English",
          "English",
          "English",
          "Other",
          "English",
          "English",
          "English",
          "English",
          "English",
          "English",
          "English",
          "English",
          "English",
          "English",
          "English",
          "English",
          "English",
          "English",
          "English",
          "English",
          "Other",
          "English",
          "Other",
          "Other",
          "English",
          "English",
          "English",
          "English",
          "English",
          "English",
          "English",
          "English",
          "English",
          "English",
          "English",
          "English",
          "English",
          "English",
          "English",
          "Other",
          "English",
          "English",
          "English",
          "English",
          "English",
          "English",
          "English",
          "English",
          "English",
          "English",
          "English",
          "English",
          "English"
         ],
         "xaxis": "x",
         "yaxis": "y"
        },
        {
         "alignmentgroup": "True",
         "bingroup": "x",
         "hoverlabel": {
          "namelength": 0
         },
         "hovertemplate": "Voted=0<br>langSpokenHome_Groups=%{x}<br>count=%{y}",
         "legendgroup": "Voted=0",
         "marker": {
          "color": "#EF553B"
         },
         "name": "Voted=0",
         "offsetgroup": "Voted=0",
         "orientation": "v",
         "showlegend": true,
         "type": "histogram",
         "x": [
          "English",
          "English",
          "English",
          "English",
          "English",
          "English",
          "English",
          "English",
          "English",
          "English",
          "English",
          "Other",
          "English",
          "English",
          "WontSay",
          "Other",
          "Other",
          "English",
          "English",
          "Other",
          "English",
          "English",
          "English",
          "English",
          "Other",
          "English",
          "English",
          "English",
          "Other",
          "English",
          "English",
          "WontSay",
          "English",
          "English",
          "English",
          "English",
          "English",
          "Other",
          "English",
          "English",
          "English",
          "English",
          "English",
          "English",
          "English",
          "English",
          "Other",
          "English",
          "English",
          "Other",
          "English",
          "English",
          "English",
          "English",
          "English",
          "English",
          "Other",
          "Other",
          "English",
          "English",
          "English",
          "Other",
          "English",
          "English",
          "Other",
          "WontSay",
          "English",
          "English",
          "English",
          "Other",
          "English",
          "English",
          "English",
          "English",
          "English",
          "English",
          "English",
          "English",
          "English",
          "Other",
          "English",
          "English",
          "English",
          "English",
          "English",
          "English",
          "English",
          "Other",
          "English",
          "English",
          "English",
          "English",
          "English",
          "English",
          "English",
          "English",
          "English",
          "English",
          "English",
          "English",
          "English",
          "English",
          "Other",
          "English",
          "English",
          "English",
          "Other",
          "Other",
          "English",
          "Other",
          "English",
          "English",
          "English",
          "English",
          "English",
          "English",
          "Other",
          "English",
          "Other",
          "English",
          "English",
          "English",
          "English",
          "English",
          "Other",
          "English",
          "English",
          "English",
          "English",
          "Other",
          "English",
          "English",
          "English",
          "English",
          "Other",
          "English",
          "English",
          "English",
          "English",
          "English",
          "Other",
          "WontSay",
          "English",
          "English",
          "Other",
          "English",
          "English",
          "English",
          "English",
          "English",
          "English",
          "English",
          "English",
          "English",
          "English",
          "Other",
          "Other",
          "English",
          "English",
          "English",
          "English",
          "Other",
          "Other",
          "English",
          "English",
          "WontSay",
          "English",
          "English",
          "Other",
          "English",
          "English",
          "English",
          "English",
          "English",
          "English",
          "English",
          "Other",
          "Other",
          "English",
          "English",
          "English",
          "English",
          "English",
          "English",
          "English",
          "English",
          "Other",
          "English",
          "English",
          "English",
          "English",
          "Other",
          "English",
          "English",
          "English",
          "English",
          "English",
          "Other",
          "English",
          "WontSay",
          "English",
          "English",
          "English",
          "English",
          "English",
          "English",
          "English",
          "English",
          "English",
          "English",
          "English",
          "English",
          "English",
          "English",
          "English",
          "Other",
          "Other",
          "English",
          "English",
          "English",
          "English",
          "English",
          "English",
          "English",
          "English",
          "English",
          "Other",
          "English",
          "Other",
          "English",
          "English",
          "English",
          "WontSay",
          "English",
          "English",
          "English",
          "English",
          "English",
          "Other",
          "English",
          "English",
          "English",
          "English",
          "English",
          "English",
          "English",
          "English",
          "English",
          "English",
          "English",
          "English",
          "English",
          "Other",
          "English",
          "Other",
          "English",
          "English",
          "English",
          "English",
          "Other",
          "Other",
          "English",
          "English",
          "English",
          "Other",
          "Other",
          "English",
          "English",
          "English",
          "Other",
          "English",
          "English",
          "English",
          "English",
          "English",
          "English",
          "English",
          "English",
          "English",
          "English",
          "Other",
          "English",
          "Other",
          "Other",
          "English",
          "English",
          "WontSay",
          "Other",
          "English",
          "English",
          "English",
          "English",
          "English",
          "English",
          "English",
          "English",
          "English",
          "English",
          "English",
          "Other",
          "English",
          "English",
          "English",
          "English",
          "English",
          "English",
          "English",
          "Other",
          "Other",
          "English",
          "English",
          "WontSay",
          "English",
          "English",
          "English",
          "English",
          "English",
          "English",
          "Other",
          "English",
          "English",
          "English",
          "Other",
          "WontSay",
          "English",
          "English",
          "English",
          "English",
          "Other",
          "English",
          "English",
          "English",
          "English",
          "English",
          "English",
          "English",
          "English",
          "English",
          "WontSay",
          "Other",
          "English",
          "English",
          "English",
          "English",
          "Other",
          "Other",
          "Other",
          "English",
          "English",
          "English",
          "English",
          "English",
          "English",
          "English",
          "English",
          "English",
          "English",
          "English",
          "English",
          "English",
          "English",
          "English",
          "Other",
          "English",
          "English",
          "English",
          "English",
          "English",
          "English",
          "English",
          "English",
          "English",
          "Other",
          "English",
          "Other",
          "English",
          "English",
          "English",
          "English",
          "English",
          "English",
          "English",
          "English",
          "English",
          "Other",
          "English",
          "English",
          "Other",
          "Other",
          "Other",
          "WontSay",
          "English",
          "English",
          "English",
          "English",
          "English",
          "English",
          "English",
          "English",
          "Other",
          "English",
          "English",
          "Other",
          "Other",
          "English",
          "Other",
          "English",
          "English",
          "English",
          "English",
          "English",
          "English",
          "English",
          "English",
          "English",
          "English",
          "English",
          "English",
          "English",
          "English",
          "English",
          "English",
          "WontSay",
          "English",
          "Other",
          "English",
          "English",
          "English",
          "English",
          "Other",
          "English",
          "Other",
          "English",
          "English",
          "English",
          "English",
          "English",
          "Other",
          "English",
          "English",
          "English",
          "Other",
          "English",
          "English",
          "Other",
          "English",
          "English",
          "English",
          "English",
          "English",
          "English",
          "English",
          "English",
          "Other",
          "English",
          "Other",
          "English",
          "English",
          "English"
         ],
         "xaxis": "x",
         "yaxis": "y"
        }
       ],
       "layout": {
        "barmode": "group",
        "barnorm": "percent",
        "height": 600,
        "legend": {
         "tracegroupgap": 0
        },
        "margin": {
         "t": 60
        },
        "template": {
         "data": {
          "bar": [
           {
            "error_x": {
             "color": "#2a3f5f"
            },
            "error_y": {
             "color": "#2a3f5f"
            },
            "marker": {
             "line": {
              "color": "#E5ECF6",
              "width": 0.5
             }
            },
            "type": "bar"
           }
          ],
          "barpolar": [
           {
            "marker": {
             "line": {
              "color": "#E5ECF6",
              "width": 0.5
             }
            },
            "type": "barpolar"
           }
          ],
          "carpet": [
           {
            "aaxis": {
             "endlinecolor": "#2a3f5f",
             "gridcolor": "white",
             "linecolor": "white",
             "minorgridcolor": "white",
             "startlinecolor": "#2a3f5f"
            },
            "baxis": {
             "endlinecolor": "#2a3f5f",
             "gridcolor": "white",
             "linecolor": "white",
             "minorgridcolor": "white",
             "startlinecolor": "#2a3f5f"
            },
            "type": "carpet"
           }
          ],
          "choropleth": [
           {
            "colorbar": {
             "outlinewidth": 0,
             "ticks": ""
            },
            "type": "choropleth"
           }
          ],
          "contour": [
           {
            "colorbar": {
             "outlinewidth": 0,
             "ticks": ""
            },
            "colorscale": [
             [
              0,
              "#0d0887"
             ],
             [
              0.1111111111111111,
              "#46039f"
             ],
             [
              0.2222222222222222,
              "#7201a8"
             ],
             [
              0.3333333333333333,
              "#9c179e"
             ],
             [
              0.4444444444444444,
              "#bd3786"
             ],
             [
              0.5555555555555556,
              "#d8576b"
             ],
             [
              0.6666666666666666,
              "#ed7953"
             ],
             [
              0.7777777777777778,
              "#fb9f3a"
             ],
             [
              0.8888888888888888,
              "#fdca26"
             ],
             [
              1,
              "#f0f921"
             ]
            ],
            "type": "contour"
           }
          ],
          "contourcarpet": [
           {
            "colorbar": {
             "outlinewidth": 0,
             "ticks": ""
            },
            "type": "contourcarpet"
           }
          ],
          "heatmap": [
           {
            "colorbar": {
             "outlinewidth": 0,
             "ticks": ""
            },
            "colorscale": [
             [
              0,
              "#0d0887"
             ],
             [
              0.1111111111111111,
              "#46039f"
             ],
             [
              0.2222222222222222,
              "#7201a8"
             ],
             [
              0.3333333333333333,
              "#9c179e"
             ],
             [
              0.4444444444444444,
              "#bd3786"
             ],
             [
              0.5555555555555556,
              "#d8576b"
             ],
             [
              0.6666666666666666,
              "#ed7953"
             ],
             [
              0.7777777777777778,
              "#fb9f3a"
             ],
             [
              0.8888888888888888,
              "#fdca26"
             ],
             [
              1,
              "#f0f921"
             ]
            ],
            "type": "heatmap"
           }
          ],
          "heatmapgl": [
           {
            "colorbar": {
             "outlinewidth": 0,
             "ticks": ""
            },
            "colorscale": [
             [
              0,
              "#0d0887"
             ],
             [
              0.1111111111111111,
              "#46039f"
             ],
             [
              0.2222222222222222,
              "#7201a8"
             ],
             [
              0.3333333333333333,
              "#9c179e"
             ],
             [
              0.4444444444444444,
              "#bd3786"
             ],
             [
              0.5555555555555556,
              "#d8576b"
             ],
             [
              0.6666666666666666,
              "#ed7953"
             ],
             [
              0.7777777777777778,
              "#fb9f3a"
             ],
             [
              0.8888888888888888,
              "#fdca26"
             ],
             [
              1,
              "#f0f921"
             ]
            ],
            "type": "heatmapgl"
           }
          ],
          "histogram": [
           {
            "marker": {
             "colorbar": {
              "outlinewidth": 0,
              "ticks": ""
             }
            },
            "type": "histogram"
           }
          ],
          "histogram2d": [
           {
            "colorbar": {
             "outlinewidth": 0,
             "ticks": ""
            },
            "colorscale": [
             [
              0,
              "#0d0887"
             ],
             [
              0.1111111111111111,
              "#46039f"
             ],
             [
              0.2222222222222222,
              "#7201a8"
             ],
             [
              0.3333333333333333,
              "#9c179e"
             ],
             [
              0.4444444444444444,
              "#bd3786"
             ],
             [
              0.5555555555555556,
              "#d8576b"
             ],
             [
              0.6666666666666666,
              "#ed7953"
             ],
             [
              0.7777777777777778,
              "#fb9f3a"
             ],
             [
              0.8888888888888888,
              "#fdca26"
             ],
             [
              1,
              "#f0f921"
             ]
            ],
            "type": "histogram2d"
           }
          ],
          "histogram2dcontour": [
           {
            "colorbar": {
             "outlinewidth": 0,
             "ticks": ""
            },
            "colorscale": [
             [
              0,
              "#0d0887"
             ],
             [
              0.1111111111111111,
              "#46039f"
             ],
             [
              0.2222222222222222,
              "#7201a8"
             ],
             [
              0.3333333333333333,
              "#9c179e"
             ],
             [
              0.4444444444444444,
              "#bd3786"
             ],
             [
              0.5555555555555556,
              "#d8576b"
             ],
             [
              0.6666666666666666,
              "#ed7953"
             ],
             [
              0.7777777777777778,
              "#fb9f3a"
             ],
             [
              0.8888888888888888,
              "#fdca26"
             ],
             [
              1,
              "#f0f921"
             ]
            ],
            "type": "histogram2dcontour"
           }
          ],
          "mesh3d": [
           {
            "colorbar": {
             "outlinewidth": 0,
             "ticks": ""
            },
            "type": "mesh3d"
           }
          ],
          "parcoords": [
           {
            "line": {
             "colorbar": {
              "outlinewidth": 0,
              "ticks": ""
             }
            },
            "type": "parcoords"
           }
          ],
          "scatter": [
           {
            "marker": {
             "colorbar": {
              "outlinewidth": 0,
              "ticks": ""
             }
            },
            "type": "scatter"
           }
          ],
          "scatter3d": [
           {
            "line": {
             "colorbar": {
              "outlinewidth": 0,
              "ticks": ""
             }
            },
            "marker": {
             "colorbar": {
              "outlinewidth": 0,
              "ticks": ""
             }
            },
            "type": "scatter3d"
           }
          ],
          "scattercarpet": [
           {
            "marker": {
             "colorbar": {
              "outlinewidth": 0,
              "ticks": ""
             }
            },
            "type": "scattercarpet"
           }
          ],
          "scattergeo": [
           {
            "marker": {
             "colorbar": {
              "outlinewidth": 0,
              "ticks": ""
             }
            },
            "type": "scattergeo"
           }
          ],
          "scattergl": [
           {
            "marker": {
             "colorbar": {
              "outlinewidth": 0,
              "ticks": ""
             }
            },
            "type": "scattergl"
           }
          ],
          "scattermapbox": [
           {
            "marker": {
             "colorbar": {
              "outlinewidth": 0,
              "ticks": ""
             }
            },
            "type": "scattermapbox"
           }
          ],
          "scatterpolar": [
           {
            "marker": {
             "colorbar": {
              "outlinewidth": 0,
              "ticks": ""
             }
            },
            "type": "scatterpolar"
           }
          ],
          "scatterpolargl": [
           {
            "marker": {
             "colorbar": {
              "outlinewidth": 0,
              "ticks": ""
             }
            },
            "type": "scatterpolargl"
           }
          ],
          "scatterternary": [
           {
            "marker": {
             "colorbar": {
              "outlinewidth": 0,
              "ticks": ""
             }
            },
            "type": "scatterternary"
           }
          ],
          "surface": [
           {
            "colorbar": {
             "outlinewidth": 0,
             "ticks": ""
            },
            "colorscale": [
             [
              0,
              "#0d0887"
             ],
             [
              0.1111111111111111,
              "#46039f"
             ],
             [
              0.2222222222222222,
              "#7201a8"
             ],
             [
              0.3333333333333333,
              "#9c179e"
             ],
             [
              0.4444444444444444,
              "#bd3786"
             ],
             [
              0.5555555555555556,
              "#d8576b"
             ],
             [
              0.6666666666666666,
              "#ed7953"
             ],
             [
              0.7777777777777778,
              "#fb9f3a"
             ],
             [
              0.8888888888888888,
              "#fdca26"
             ],
             [
              1,
              "#f0f921"
             ]
            ],
            "type": "surface"
           }
          ],
          "table": [
           {
            "cells": {
             "fill": {
              "color": "#EBF0F8"
             },
             "line": {
              "color": "white"
             }
            },
            "header": {
             "fill": {
              "color": "#C8D4E3"
             },
             "line": {
              "color": "white"
             }
            },
            "type": "table"
           }
          ]
         },
         "layout": {
          "annotationdefaults": {
           "arrowcolor": "#2a3f5f",
           "arrowhead": 0,
           "arrowwidth": 1
          },
          "colorscale": {
           "diverging": [
            [
             0,
             "#8e0152"
            ],
            [
             0.1,
             "#c51b7d"
            ],
            [
             0.2,
             "#de77ae"
            ],
            [
             0.3,
             "#f1b6da"
            ],
            [
             0.4,
             "#fde0ef"
            ],
            [
             0.5,
             "#f7f7f7"
            ],
            [
             0.6,
             "#e6f5d0"
            ],
            [
             0.7,
             "#b8e186"
            ],
            [
             0.8,
             "#7fbc41"
            ],
            [
             0.9,
             "#4d9221"
            ],
            [
             1,
             "#276419"
            ]
           ],
           "sequential": [
            [
             0,
             "#0d0887"
            ],
            [
             0.1111111111111111,
             "#46039f"
            ],
            [
             0.2222222222222222,
             "#7201a8"
            ],
            [
             0.3333333333333333,
             "#9c179e"
            ],
            [
             0.4444444444444444,
             "#bd3786"
            ],
            [
             0.5555555555555556,
             "#d8576b"
            ],
            [
             0.6666666666666666,
             "#ed7953"
            ],
            [
             0.7777777777777778,
             "#fb9f3a"
            ],
            [
             0.8888888888888888,
             "#fdca26"
            ],
            [
             1,
             "#f0f921"
            ]
           ],
           "sequentialminus": [
            [
             0,
             "#0d0887"
            ],
            [
             0.1111111111111111,
             "#46039f"
            ],
            [
             0.2222222222222222,
             "#7201a8"
            ],
            [
             0.3333333333333333,
             "#9c179e"
            ],
            [
             0.4444444444444444,
             "#bd3786"
            ],
            [
             0.5555555555555556,
             "#d8576b"
            ],
            [
             0.6666666666666666,
             "#ed7953"
            ],
            [
             0.7777777777777778,
             "#fb9f3a"
            ],
            [
             0.8888888888888888,
             "#fdca26"
            ],
            [
             1,
             "#f0f921"
            ]
           ]
          },
          "colorway": [
           "#636efa",
           "#EF553B",
           "#00cc96",
           "#ab63fa",
           "#FFA15A",
           "#19d3f3",
           "#FF6692",
           "#B6E880",
           "#FF97FF",
           "#FECB52"
          ],
          "font": {
           "color": "#2a3f5f"
          },
          "geo": {
           "bgcolor": "white",
           "lakecolor": "white",
           "landcolor": "#E5ECF6",
           "showlakes": true,
           "showland": true,
           "subunitcolor": "white"
          },
          "hoverlabel": {
           "align": "left"
          },
          "hovermode": "closest",
          "mapbox": {
           "style": "light"
          },
          "paper_bgcolor": "white",
          "plot_bgcolor": "#E5ECF6",
          "polar": {
           "angularaxis": {
            "gridcolor": "white",
            "linecolor": "white",
            "ticks": ""
           },
           "bgcolor": "#E5ECF6",
           "radialaxis": {
            "gridcolor": "white",
            "linecolor": "white",
            "ticks": ""
           }
          },
          "scene": {
           "xaxis": {
            "backgroundcolor": "#E5ECF6",
            "gridcolor": "white",
            "gridwidth": 2,
            "linecolor": "white",
            "showbackground": true,
            "ticks": "",
            "zerolinecolor": "white"
           },
           "yaxis": {
            "backgroundcolor": "#E5ECF6",
            "gridcolor": "white",
            "gridwidth": 2,
            "linecolor": "white",
            "showbackground": true,
            "ticks": "",
            "zerolinecolor": "white"
           },
           "zaxis": {
            "backgroundcolor": "#E5ECF6",
            "gridcolor": "white",
            "gridwidth": 2,
            "linecolor": "white",
            "showbackground": true,
            "ticks": "",
            "zerolinecolor": "white"
           }
          },
          "shapedefaults": {
           "line": {
            "color": "#2a3f5f"
           }
          },
          "ternary": {
           "aaxis": {
            "gridcolor": "white",
            "linecolor": "white",
            "ticks": ""
           },
           "baxis": {
            "gridcolor": "white",
            "linecolor": "white",
            "ticks": ""
           },
           "bgcolor": "#E5ECF6",
           "caxis": {
            "gridcolor": "white",
            "linecolor": "white",
            "ticks": ""
           }
          },
          "title": {
           "x": 0.05
          },
          "xaxis": {
           "automargin": true,
           "gridcolor": "white",
           "linecolor": "white",
           "ticks": "",
           "zerolinecolor": "white",
           "zerolinewidth": 2
          },
          "yaxis": {
           "automargin": true,
           "gridcolor": "white",
           "linecolor": "white",
           "ticks": "",
           "zerolinecolor": "white",
           "zerolinewidth": 2
          }
         }
        },
        "xaxis": {
         "anchor": "y",
         "domain": [
          0,
          0.98
         ],
         "title": {
          "text": "langSpokenHome_Groups"
         }
        },
        "yaxis": {
         "anchor": "x",
         "domain": [
          0,
          1
         ],
         "title": {
          "text": "Percent"
         }
        }
       }
      },
      "text/html": [
       "<div>\n",
       "        \n",
       "        \n",
       "            <div id=\"5c2f3b6d-366e-4375-ac5b-ef8e8a293557\" class=\"plotly-graph-div\" style=\"height:600px; width:100%;\"></div>\n",
       "            <script type=\"text/javascript\">\n",
       "                require([\"plotly\"], function(Plotly) {\n",
       "                    window.PLOTLYENV=window.PLOTLYENV || {};\n",
       "                    \n",
       "                if (document.getElementById(\"5c2f3b6d-366e-4375-ac5b-ef8e8a293557\")) {\n",
       "                    Plotly.newPlot(\n",
       "                        '5c2f3b6d-366e-4375-ac5b-ef8e8a293557',\n",
       "                        [{\"alignmentgroup\": \"True\", \"bingroup\": \"x\", \"hoverlabel\": {\"namelength\": 0}, \"hovertemplate\": \"Voted=1<br>langSpokenHome_Groups=%{x}<br>count=%{y}\", \"legendgroup\": \"Voted=1\", \"marker\": {\"color\": \"#636efa\"}, \"name\": \"Voted=1\", \"offsetgroup\": \"Voted=1\", \"orientation\": \"v\", \"showlegend\": true, \"type\": \"histogram\", \"x\": [\"English\", \"English\", \"English\", \"English\", \"English\", \"English\", \"English\", \"English\", \"English\", \"English\", \"English\", \"English\", \"English\", \"English\", \"English\", \"English\", \"Other\", \"English\", \"English\", \"WontSay\", \"English\", \"English\", \"English\", \"English\", \"English\", \"English\", \"English\", \"English\", \"English\", \"English\", \"Other\", \"English\", \"English\", \"English\", \"English\", \"English\", \"English\", \"English\", \"English\", \"English\", \"English\", \"English\", \"English\", \"English\", \"English\", \"English\", \"Other\", \"English\", \"English\", \"English\", \"English\", \"English\", \"English\", \"English\", \"English\", \"English\", \"English\", \"English\", \"English\", \"English\", \"English\", \"English\", \"English\", \"English\", \"English\", \"English\", \"English\", \"English\", \"English\", \"English\", \"English\", \"English\", \"English\", \"English\", \"English\", \"English\", \"Other\", \"English\", \"English\", \"English\", \"English\", \"English\", \"English\", \"English\", \"English\", \"English\", \"English\", \"English\", \"English\", \"English\", \"English\", \"English\", \"Other\", \"English\", \"English\", \"English\", \"English\", \"English\", \"English\", \"English\", \"English\", \"English\", \"Other\", \"English\", \"English\", \"English\", \"English\", \"English\", \"English\", \"English\", \"English\", \"English\", \"English\", \"English\", \"English\", \"English\", \"English\", \"English\", \"English\", \"English\", \"English\", \"English\", \"English\", \"English\", \"English\", \"English\", \"Other\", \"English\", \"English\", \"WontSay\", \"English\", \"English\", \"English\", \"English\", \"English\", \"English\", \"English\", \"English\", \"English\", \"English\", \"English\", \"English\", \"Other\", \"English\", \"English\", \"English\", \"English\", \"English\", \"English\", \"Other\", \"English\", \"English\", \"English\", \"English\", \"Other\", \"English\", \"English\", \"English\", \"English\", \"Other\", \"English\", \"English\", \"English\", \"English\", \"English\", \"English\", \"English\", \"English\", \"English\", \"English\", \"English\", \"English\", \"Other\", \"English\", \"English\", \"English\", \"English\", \"English\", \"English\", \"English\", \"English\", \"Other\", \"English\", \"English\", \"English\", \"English\", \"English\", \"English\", \"English\", \"English\", \"English\", \"English\", \"English\", \"English\", \"English\", \"English\", \"English\", \"English\", \"Other\", \"English\", \"English\", \"English\", \"English\", \"WontSay\", \"English\", \"English\", \"English\", \"English\", \"English\", \"English\", \"English\", \"English\", \"English\", \"English\", \"English\", \"English\", \"English\", \"English\", \"English\", \"English\", \"Other\", \"English\", \"English\", \"English\", \"English\", \"English\", \"English\", \"English\", \"English\", \"Other\", \"English\", \"Other\", \"Other\", \"English\", \"English\", \"English\", \"English\", \"English\", \"English\", \"English\", \"English\", \"English\", \"English\", \"English\", \"English\", \"English\", \"English\", \"English\", \"English\", \"English\", \"English\", \"English\", \"English\", \"English\", \"English\", \"English\", \"English\", \"English\", \"English\", \"English\", \"English\", \"English\", \"English\", \"English\", \"English\", \"English\", \"English\", \"Other\", \"English\", \"English\", \"English\", \"Other\", \"English\", \"Other\", \"English\", \"English\", \"English\", \"English\", \"Other\", \"English\", \"English\", \"English\", \"English\", \"English\", \"English\", \"English\", \"English\", \"English\", \"English\", \"English\", \"English\", \"English\", \"English\", \"English\", \"English\", \"English\", \"English\", \"English\", \"Other\", \"English\", \"English\", \"English\", \"English\", \"English\", \"English\", \"English\", \"English\", \"English\", \"English\", \"English\", \"English\", \"English\", \"English\", \"English\", \"English\", \"English\", \"English\", \"English\", \"English\", \"English\", \"English\", \"English\", \"Other\", \"English\", \"Other\", \"English\", \"English\", \"English\", \"English\", \"English\", \"English\", \"Other\", \"English\", \"English\", \"English\", \"English\", \"English\", \"English\", \"English\", \"English\", \"English\", \"English\", \"English\", \"English\", \"English\", \"English\", \"English\", \"English\", \"English\", \"English\", \"English\", \"English\", \"English\", \"English\", \"English\", \"English\", \"English\", \"English\", \"English\", \"English\", \"English\", \"English\", \"English\", \"English\", \"English\", \"English\", \"English\", \"English\", \"Other\", \"English\", \"Other\", \"English\", \"English\", \"English\", \"English\", \"English\", \"Other\", \"English\", \"English\", \"Other\", \"English\", \"English\", \"English\", \"English\", \"Other\", \"English\", \"English\", \"Other\", \"English\", \"English\", \"Other\", \"English\", \"English\", \"English\", \"English\", \"English\", \"English\", \"English\", \"English\", \"English\", \"English\", \"English\", \"English\", \"English\", \"English\", \"English\", \"English\", \"English\", \"English\", \"Other\", \"English\", \"English\", \"English\", \"Other\", \"English\", \"English\", \"English\", \"English\", \"English\", \"English\", \"English\", \"English\", \"Other\", \"English\", \"English\", \"English\", \"English\", \"English\", \"English\", \"Other\", \"English\", \"Other\", \"English\", \"English\", \"English\", \"Other\", \"English\", \"English\", \"English\", \"Other\", \"Other\", \"English\", \"English\", \"English\", \"English\", \"English\", \"English\", \"English\", \"English\", \"English\", \"English\", \"English\", \"English\", \"English\", \"English\", \"English\", \"Other\", \"English\", \"Other\", \"English\", \"English\", \"English\", \"Other\", \"English\", \"English\", \"English\", \"Other\", \"English\", \"English\", \"English\", \"English\", \"English\", \"English\", \"English\", \"Other\", \"Other\", \"English\", \"English\", \"English\", \"Other\", \"English\", \"English\", \"English\", \"English\", \"Other\", \"English\", \"English\", \"English\", \"English\", \"English\", \"Other\", \"English\", \"WontSay\", \"English\", \"English\", \"English\", \"Other\", \"English\", \"English\", \"English\", \"English\", \"Other\", \"English\", \"English\", \"English\", \"English\", \"WontSay\", \"English\", \"English\", \"English\", \"English\", \"English\", \"English\", \"English\", \"English\", \"English\", \"English\", \"English\", \"English\", \"English\", \"Other\", \"English\", \"English\", \"English\", \"English\", \"English\", \"English\", \"Other\", \"English\", \"English\", \"English\", \"Other\", \"English\", \"Other\", \"English\", \"English\", \"English\", \"Other\", \"English\", \"English\", \"English\", \"Other\", \"English\", \"English\", \"English\", \"English\", \"English\", \"English\", \"WontSay\", \"Other\", \"English\", \"English\", \"English\", \"English\", \"English\", \"Other\", \"English\", \"English\", \"English\", \"English\", \"English\", \"English\", \"English\", \"English\", \"English\", \"English\", \"English\", \"English\", \"English\", \"English\", \"English\", \"English\", \"English\", \"English\", \"English\", \"English\", \"English\", \"English\", \"English\", \"English\", \"English\", \"English\", \"English\", \"English\", \"English\", \"English\", \"English\", \"English\", \"English\", \"WontSay\", \"Other\", \"English\", \"English\", \"English\", \"English\", \"Other\", \"English\", \"English\", \"English\", \"English\", \"English\", \"English\", \"English\", \"English\", \"English\", \"English\", \"WontSay\", \"English\", \"English\", \"English\", \"Other\", \"English\", \"English\", \"English\", \"Other\", \"WontSay\", \"English\", \"English\", \"English\", \"English\", \"English\", \"English\", \"Other\", \"English\", \"English\", \"English\", \"English\", \"English\", \"English\", \"English\", \"Other\", \"English\", \"Other\", \"English\", \"English\", \"English\", \"English\", \"English\", \"English\", \"English\", \"Other\", \"English\", \"English\", \"Other\", \"English\", \"English\", \"English\", \"English\", \"English\", \"English\", \"English\", \"English\", \"English\", \"English\", \"English\", \"English\", \"Other\", \"English\", \"English\", \"English\", \"English\", \"Other\", \"English\", \"English\", \"English\", \"English\", \"English\", \"Other\", \"English\", \"English\", \"English\", \"English\", \"English\", \"Other\", \"English\", \"English\", \"English\", \"English\", \"English\", \"English\", \"English\", \"English\", \"English\", \"English\", \"English\", \"Other\", \"English\", \"English\", \"English\", \"Other\", \"English\", \"English\", \"English\", \"WontSay\", \"English\", \"English\", \"English\", \"Other\", \"English\", \"English\", \"English\", \"English\", \"English\", \"English\", \"English\", \"English\", \"Other\", \"English\", \"WontSay\", \"Other\", \"English\", \"English\", \"English\", \"English\", \"English\", \"English\", \"English\", \"English\", \"English\", \"Other\", \"English\", \"English\", \"English\", \"English\", \"English\", \"English\", \"English\", \"English\", \"English\", \"English\", \"English\", \"English\", \"English\", \"English\", \"English\", \"English\", \"Other\", \"English\", \"Other\", \"Other\", \"English\", \"English\", \"English\", \"English\", \"English\", \"English\", \"English\", \"English\", \"English\", \"English\", \"English\", \"English\", \"English\", \"English\", \"English\", \"Other\", \"English\", \"English\", \"English\", \"English\", \"English\", \"English\", \"English\", \"English\", \"English\", \"English\", \"English\", \"English\", \"English\"], \"xaxis\": \"x\", \"yaxis\": \"y\"}, {\"alignmentgroup\": \"True\", \"bingroup\": \"x\", \"hoverlabel\": {\"namelength\": 0}, \"hovertemplate\": \"Voted=0<br>langSpokenHome_Groups=%{x}<br>count=%{y}\", \"legendgroup\": \"Voted=0\", \"marker\": {\"color\": \"#EF553B\"}, \"name\": \"Voted=0\", \"offsetgroup\": \"Voted=0\", \"orientation\": \"v\", \"showlegend\": true, \"type\": \"histogram\", \"x\": [\"English\", \"English\", \"English\", \"English\", \"English\", \"English\", \"English\", \"English\", \"English\", \"English\", \"English\", \"Other\", \"English\", \"English\", \"WontSay\", \"Other\", \"Other\", \"English\", \"English\", \"Other\", \"English\", \"English\", \"English\", \"English\", \"Other\", \"English\", \"English\", \"English\", \"Other\", \"English\", \"English\", \"WontSay\", \"English\", \"English\", \"English\", \"English\", \"English\", \"Other\", \"English\", \"English\", \"English\", \"English\", \"English\", \"English\", \"English\", \"English\", \"Other\", \"English\", \"English\", \"Other\", \"English\", \"English\", \"English\", \"English\", \"English\", \"English\", \"Other\", \"Other\", \"English\", \"English\", \"English\", \"Other\", \"English\", \"English\", \"Other\", \"WontSay\", \"English\", \"English\", \"English\", \"Other\", \"English\", \"English\", \"English\", \"English\", \"English\", \"English\", \"English\", \"English\", \"English\", \"Other\", \"English\", \"English\", \"English\", \"English\", \"English\", \"English\", \"English\", \"Other\", \"English\", \"English\", \"English\", \"English\", \"English\", \"English\", \"English\", \"English\", \"English\", \"English\", \"English\", \"English\", \"English\", \"English\", \"Other\", \"English\", \"English\", \"English\", \"Other\", \"Other\", \"English\", \"Other\", \"English\", \"English\", \"English\", \"English\", \"English\", \"English\", \"Other\", \"English\", \"Other\", \"English\", \"English\", \"English\", \"English\", \"English\", \"Other\", \"English\", \"English\", \"English\", \"English\", \"Other\", \"English\", \"English\", \"English\", \"English\", \"Other\", \"English\", \"English\", \"English\", \"English\", \"English\", \"Other\", \"WontSay\", \"English\", \"English\", \"Other\", \"English\", \"English\", \"English\", \"English\", \"English\", \"English\", \"English\", \"English\", \"English\", \"English\", \"Other\", \"Other\", \"English\", \"English\", \"English\", \"English\", \"Other\", \"Other\", \"English\", \"English\", \"WontSay\", \"English\", \"English\", \"Other\", \"English\", \"English\", \"English\", \"English\", \"English\", \"English\", \"English\", \"Other\", \"Other\", \"English\", \"English\", \"English\", \"English\", \"English\", \"English\", \"English\", \"English\", \"Other\", \"English\", \"English\", \"English\", \"English\", \"Other\", \"English\", \"English\", \"English\", \"English\", \"English\", \"Other\", \"English\", \"WontSay\", \"English\", \"English\", \"English\", \"English\", \"English\", \"English\", \"English\", \"English\", \"English\", \"English\", \"English\", \"English\", \"English\", \"English\", \"English\", \"Other\", \"Other\", \"English\", \"English\", \"English\", \"English\", \"English\", \"English\", \"English\", \"English\", \"English\", \"Other\", \"English\", \"Other\", \"English\", \"English\", \"English\", \"WontSay\", \"English\", \"English\", \"English\", \"English\", \"English\", \"Other\", \"English\", \"English\", \"English\", \"English\", \"English\", \"English\", \"English\", \"English\", \"English\", \"English\", \"English\", \"English\", \"English\", \"Other\", \"English\", \"Other\", \"English\", \"English\", \"English\", \"English\", \"Other\", \"Other\", \"English\", \"English\", \"English\", \"Other\", \"Other\", \"English\", \"English\", \"English\", \"Other\", \"English\", \"English\", \"English\", \"English\", \"English\", \"English\", \"English\", \"English\", \"English\", \"English\", \"Other\", \"English\", \"Other\", \"Other\", \"English\", \"English\", \"WontSay\", \"Other\", \"English\", \"English\", \"English\", \"English\", \"English\", \"English\", \"English\", \"English\", \"English\", \"English\", \"English\", \"Other\", \"English\", \"English\", \"English\", \"English\", \"English\", \"English\", \"English\", \"Other\", \"Other\", \"English\", \"English\", \"WontSay\", \"English\", \"English\", \"English\", \"English\", \"English\", \"English\", \"Other\", \"English\", \"English\", \"English\", \"Other\", \"WontSay\", \"English\", \"English\", \"English\", \"English\", \"Other\", \"English\", \"English\", \"English\", \"English\", \"English\", \"English\", \"English\", \"English\", \"English\", \"WontSay\", \"Other\", \"English\", \"English\", \"English\", \"English\", \"Other\", \"Other\", \"Other\", \"English\", \"English\", \"English\", \"English\", \"English\", \"English\", \"English\", \"English\", \"English\", \"English\", \"English\", \"English\", \"English\", \"English\", \"English\", \"Other\", \"English\", \"English\", \"English\", \"English\", \"English\", \"English\", \"English\", \"English\", \"English\", \"Other\", \"English\", \"Other\", \"English\", \"English\", \"English\", \"English\", \"English\", \"English\", \"English\", \"English\", \"English\", \"Other\", \"English\", \"English\", \"Other\", \"Other\", \"Other\", \"WontSay\", \"English\", \"English\", \"English\", \"English\", \"English\", \"English\", \"English\", \"English\", \"Other\", \"English\", \"English\", \"Other\", \"Other\", \"English\", \"Other\", \"English\", \"English\", \"English\", \"English\", \"English\", \"English\", \"English\", \"English\", \"English\", \"English\", \"English\", \"English\", \"English\", \"English\", \"English\", \"English\", \"WontSay\", \"English\", \"Other\", \"English\", \"English\", \"English\", \"English\", \"Other\", \"English\", \"Other\", \"English\", \"English\", \"English\", \"English\", \"English\", \"Other\", \"English\", \"English\", \"English\", \"Other\", \"English\", \"English\", \"Other\", \"English\", \"English\", \"English\", \"English\", \"English\", \"English\", \"English\", \"English\", \"Other\", \"English\", \"Other\", \"English\", \"English\", \"English\"], \"xaxis\": \"x\", \"yaxis\": \"y\"}],\n",
       "                        {\"barmode\": \"group\", \"barnorm\": \"percent\", \"height\": 600, \"legend\": {\"tracegroupgap\": 0}, \"margin\": {\"t\": 60}, \"template\": {\"data\": {\"bar\": [{\"error_x\": {\"color\": \"#2a3f5f\"}, \"error_y\": {\"color\": \"#2a3f5f\"}, \"marker\": {\"line\": {\"color\": \"#E5ECF6\", \"width\": 0.5}}, \"type\": \"bar\"}], \"barpolar\": [{\"marker\": {\"line\": {\"color\": \"#E5ECF6\", \"width\": 0.5}}, \"type\": \"barpolar\"}], \"carpet\": [{\"aaxis\": {\"endlinecolor\": \"#2a3f5f\", \"gridcolor\": \"white\", \"linecolor\": \"white\", \"minorgridcolor\": \"white\", \"startlinecolor\": \"#2a3f5f\"}, \"baxis\": {\"endlinecolor\": \"#2a3f5f\", \"gridcolor\": \"white\", \"linecolor\": \"white\", \"minorgridcolor\": \"white\", \"startlinecolor\": \"#2a3f5f\"}, \"type\": \"carpet\"}], \"choropleth\": [{\"colorbar\": {\"outlinewidth\": 0, \"ticks\": \"\"}, \"type\": \"choropleth\"}], \"contour\": [{\"colorbar\": {\"outlinewidth\": 0, \"ticks\": \"\"}, \"colorscale\": [[0.0, \"#0d0887\"], [0.1111111111111111, \"#46039f\"], [0.2222222222222222, \"#7201a8\"], [0.3333333333333333, \"#9c179e\"], [0.4444444444444444, \"#bd3786\"], [0.5555555555555556, \"#d8576b\"], [0.6666666666666666, \"#ed7953\"], [0.7777777777777778, \"#fb9f3a\"], [0.8888888888888888, \"#fdca26\"], [1.0, \"#f0f921\"]], \"type\": \"contour\"}], \"contourcarpet\": [{\"colorbar\": {\"outlinewidth\": 0, \"ticks\": \"\"}, \"type\": \"contourcarpet\"}], \"heatmap\": [{\"colorbar\": {\"outlinewidth\": 0, \"ticks\": \"\"}, \"colorscale\": [[0.0, \"#0d0887\"], [0.1111111111111111, \"#46039f\"], [0.2222222222222222, \"#7201a8\"], [0.3333333333333333, \"#9c179e\"], [0.4444444444444444, \"#bd3786\"], [0.5555555555555556, \"#d8576b\"], [0.6666666666666666, \"#ed7953\"], [0.7777777777777778, \"#fb9f3a\"], [0.8888888888888888, \"#fdca26\"], [1.0, \"#f0f921\"]], \"type\": \"heatmap\"}], \"heatmapgl\": [{\"colorbar\": {\"outlinewidth\": 0, \"ticks\": \"\"}, \"colorscale\": [[0.0, \"#0d0887\"], [0.1111111111111111, \"#46039f\"], [0.2222222222222222, \"#7201a8\"], [0.3333333333333333, \"#9c179e\"], [0.4444444444444444, \"#bd3786\"], [0.5555555555555556, \"#d8576b\"], [0.6666666666666666, \"#ed7953\"], [0.7777777777777778, \"#fb9f3a\"], [0.8888888888888888, \"#fdca26\"], [1.0, \"#f0f921\"]], \"type\": \"heatmapgl\"}], \"histogram\": [{\"marker\": {\"colorbar\": {\"outlinewidth\": 0, \"ticks\": \"\"}}, \"type\": \"histogram\"}], \"histogram2d\": [{\"colorbar\": {\"outlinewidth\": 0, \"ticks\": \"\"}, \"colorscale\": [[0.0, \"#0d0887\"], [0.1111111111111111, \"#46039f\"], [0.2222222222222222, \"#7201a8\"], [0.3333333333333333, \"#9c179e\"], [0.4444444444444444, \"#bd3786\"], [0.5555555555555556, \"#d8576b\"], [0.6666666666666666, \"#ed7953\"], [0.7777777777777778, \"#fb9f3a\"], [0.8888888888888888, \"#fdca26\"], [1.0, \"#f0f921\"]], \"type\": \"histogram2d\"}], \"histogram2dcontour\": [{\"colorbar\": {\"outlinewidth\": 0, \"ticks\": \"\"}, \"colorscale\": [[0.0, \"#0d0887\"], [0.1111111111111111, \"#46039f\"], [0.2222222222222222, \"#7201a8\"], [0.3333333333333333, \"#9c179e\"], [0.4444444444444444, \"#bd3786\"], [0.5555555555555556, \"#d8576b\"], [0.6666666666666666, \"#ed7953\"], [0.7777777777777778, \"#fb9f3a\"], [0.8888888888888888, \"#fdca26\"], [1.0, \"#f0f921\"]], \"type\": \"histogram2dcontour\"}], \"mesh3d\": [{\"colorbar\": {\"outlinewidth\": 0, \"ticks\": \"\"}, \"type\": \"mesh3d\"}], \"parcoords\": [{\"line\": {\"colorbar\": {\"outlinewidth\": 0, \"ticks\": \"\"}}, \"type\": \"parcoords\"}], \"scatter\": [{\"marker\": {\"colorbar\": {\"outlinewidth\": 0, \"ticks\": \"\"}}, \"type\": \"scatter\"}], \"scatter3d\": [{\"line\": {\"colorbar\": {\"outlinewidth\": 0, \"ticks\": \"\"}}, \"marker\": {\"colorbar\": {\"outlinewidth\": 0, \"ticks\": \"\"}}, \"type\": \"scatter3d\"}], \"scattercarpet\": [{\"marker\": {\"colorbar\": {\"outlinewidth\": 0, \"ticks\": \"\"}}, \"type\": \"scattercarpet\"}], \"scattergeo\": [{\"marker\": {\"colorbar\": {\"outlinewidth\": 0, \"ticks\": \"\"}}, \"type\": \"scattergeo\"}], \"scattergl\": [{\"marker\": {\"colorbar\": {\"outlinewidth\": 0, \"ticks\": \"\"}}, \"type\": \"scattergl\"}], \"scattermapbox\": [{\"marker\": {\"colorbar\": {\"outlinewidth\": 0, \"ticks\": \"\"}}, \"type\": \"scattermapbox\"}], \"scatterpolar\": [{\"marker\": {\"colorbar\": {\"outlinewidth\": 0, \"ticks\": \"\"}}, \"type\": \"scatterpolar\"}], \"scatterpolargl\": [{\"marker\": {\"colorbar\": {\"outlinewidth\": 0, \"ticks\": \"\"}}, \"type\": \"scatterpolargl\"}], \"scatterternary\": [{\"marker\": {\"colorbar\": {\"outlinewidth\": 0, \"ticks\": \"\"}}, \"type\": \"scatterternary\"}], \"surface\": [{\"colorbar\": {\"outlinewidth\": 0, \"ticks\": \"\"}, \"colorscale\": [[0.0, \"#0d0887\"], [0.1111111111111111, \"#46039f\"], [0.2222222222222222, \"#7201a8\"], [0.3333333333333333, \"#9c179e\"], [0.4444444444444444, \"#bd3786\"], [0.5555555555555556, \"#d8576b\"], [0.6666666666666666, \"#ed7953\"], [0.7777777777777778, \"#fb9f3a\"], [0.8888888888888888, \"#fdca26\"], [1.0, \"#f0f921\"]], \"type\": \"surface\"}], \"table\": [{\"cells\": {\"fill\": {\"color\": \"#EBF0F8\"}, \"line\": {\"color\": \"white\"}}, \"header\": {\"fill\": {\"color\": \"#C8D4E3\"}, \"line\": {\"color\": \"white\"}}, \"type\": \"table\"}]}, \"layout\": {\"annotationdefaults\": {\"arrowcolor\": \"#2a3f5f\", \"arrowhead\": 0, \"arrowwidth\": 1}, \"colorscale\": {\"diverging\": [[0, \"#8e0152\"], [0.1, \"#c51b7d\"], [0.2, \"#de77ae\"], [0.3, \"#f1b6da\"], [0.4, \"#fde0ef\"], [0.5, \"#f7f7f7\"], [0.6, \"#e6f5d0\"], [0.7, \"#b8e186\"], [0.8, \"#7fbc41\"], [0.9, \"#4d9221\"], [1, \"#276419\"]], \"sequential\": [[0.0, \"#0d0887\"], [0.1111111111111111, \"#46039f\"], [0.2222222222222222, \"#7201a8\"], [0.3333333333333333, \"#9c179e\"], [0.4444444444444444, \"#bd3786\"], [0.5555555555555556, \"#d8576b\"], [0.6666666666666666, \"#ed7953\"], [0.7777777777777778, \"#fb9f3a\"], [0.8888888888888888, \"#fdca26\"], [1.0, \"#f0f921\"]], \"sequentialminus\": [[0.0, \"#0d0887\"], [0.1111111111111111, \"#46039f\"], [0.2222222222222222, \"#7201a8\"], [0.3333333333333333, \"#9c179e\"], [0.4444444444444444, \"#bd3786\"], [0.5555555555555556, \"#d8576b\"], [0.6666666666666666, \"#ed7953\"], [0.7777777777777778, \"#fb9f3a\"], [0.8888888888888888, \"#fdca26\"], [1.0, \"#f0f921\"]]}, \"colorway\": [\"#636efa\", \"#EF553B\", \"#00cc96\", \"#ab63fa\", \"#FFA15A\", \"#19d3f3\", \"#FF6692\", \"#B6E880\", \"#FF97FF\", \"#FECB52\"], \"font\": {\"color\": \"#2a3f5f\"}, \"geo\": {\"bgcolor\": \"white\", \"lakecolor\": \"white\", \"landcolor\": \"#E5ECF6\", \"showlakes\": true, \"showland\": true, \"subunitcolor\": \"white\"}, \"hoverlabel\": {\"align\": \"left\"}, \"hovermode\": \"closest\", \"mapbox\": {\"style\": \"light\"}, \"paper_bgcolor\": \"white\", \"plot_bgcolor\": \"#E5ECF6\", \"polar\": {\"angularaxis\": {\"gridcolor\": \"white\", \"linecolor\": \"white\", \"ticks\": \"\"}, \"bgcolor\": \"#E5ECF6\", \"radialaxis\": {\"gridcolor\": \"white\", \"linecolor\": \"white\", \"ticks\": \"\"}}, \"scene\": {\"xaxis\": {\"backgroundcolor\": \"#E5ECF6\", \"gridcolor\": \"white\", \"gridwidth\": 2, \"linecolor\": \"white\", \"showbackground\": true, \"ticks\": \"\", \"zerolinecolor\": \"white\"}, \"yaxis\": {\"backgroundcolor\": \"#E5ECF6\", \"gridcolor\": \"white\", \"gridwidth\": 2, \"linecolor\": \"white\", \"showbackground\": true, \"ticks\": \"\", \"zerolinecolor\": \"white\"}, \"zaxis\": {\"backgroundcolor\": \"#E5ECF6\", \"gridcolor\": \"white\", \"gridwidth\": 2, \"linecolor\": \"white\", \"showbackground\": true, \"ticks\": \"\", \"zerolinecolor\": \"white\"}}, \"shapedefaults\": {\"line\": {\"color\": \"#2a3f5f\"}}, \"ternary\": {\"aaxis\": {\"gridcolor\": \"white\", \"linecolor\": \"white\", \"ticks\": \"\"}, \"baxis\": {\"gridcolor\": \"white\", \"linecolor\": \"white\", \"ticks\": \"\"}, \"bgcolor\": \"#E5ECF6\", \"caxis\": {\"gridcolor\": \"white\", \"linecolor\": \"white\", \"ticks\": \"\"}}, \"title\": {\"x\": 0.05}, \"xaxis\": {\"automargin\": true, \"gridcolor\": \"white\", \"linecolor\": \"white\", \"ticks\": \"\", \"zerolinecolor\": \"white\", \"zerolinewidth\": 2}, \"yaxis\": {\"automargin\": true, \"gridcolor\": \"white\", \"linecolor\": \"white\", \"ticks\": \"\", \"zerolinecolor\": \"white\", \"zerolinewidth\": 2}}}, \"xaxis\": {\"anchor\": \"y\", \"domain\": [0.0, 0.98], \"title\": {\"text\": \"langSpokenHome_Groups\"}}, \"yaxis\": {\"anchor\": \"x\", \"domain\": [0.0, 1.0], \"title\": {\"text\": \"Percent\"}}},\n",
       "                        {\"responsive\": true}\n",
       "                    ).then(function(){\n",
       "                            \n",
       "var gd = document.getElementById('5c2f3b6d-366e-4375-ac5b-ef8e8a293557');\n",
       "var x = new MutationObserver(function (mutations, observer) {{\n",
       "        var display = window.getComputedStyle(gd).display;\n",
       "        if (!display || display === 'none') {{\n",
       "            console.log([gd, 'removed!']);\n",
       "            Plotly.purge(gd);\n",
       "            observer.disconnect();\n",
       "        }}\n",
       "}});\n",
       "\n",
       "// Listen for the removal of the full notebook cells\n",
       "var notebookContainer = gd.closest('#notebook-container');\n",
       "if (notebookContainer) {{\n",
       "    x.observe(notebookContainer, {childList: true});\n",
       "}}\n",
       "\n",
       "// Listen for the clearing of the current output cell\n",
       "var outputEl = gd.closest('.output');\n",
       "if (outputEl) {{\n",
       "    x.observe(outputEl, {childList: true});\n",
       "}}\n",
       "\n",
       "                        })\n",
       "                };\n",
       "                });\n",
       "            </script>\n",
       "        </div>"
      ]
     },
     "metadata": {},
     "output_type": "display_data"
    }
   ],
   "source": [
    "ShowTwoWayHeatmap(data,'langSpokenHome_Groups','Voted', normalize=False)\n",
    "\n",
    "fig = px.histogram(data, x=\"langSpokenHome_Groups\",color='Voted',barnorm='percent')\n",
    "fig.update_layout(barmode='group',yaxis_title=\"Percent\")\n",
    "#fig.update_yaxes(type='log')\n",
    "fig.show()"
   ]
  },
  {
   "cell_type": "markdown",
   "metadata": {},
   "source": [
    "Insights:\n",
    "\n",
    "We ought to consider removing this category for predictive modeling due to the skew toward english speaking respondents. The vast majority of respondents indicated they speak english and, since p values would indicate that there is a significance between voting and english speaking, this may skew predictive capacity when trying to generalize outside this data set."
   ]
  },
  {
   "cell_type": "markdown",
   "metadata": {},
   "source": [
    "# Voted vs Ethnicity"
   ]
  },
  {
   "cell_type": "code",
   "execution_count": 46,
   "metadata": {},
   "outputs": [
    {
     "data": {
      "image/png": "[encoded data removed]",
      "text/plain": [
       "<Figure size 936x432 with 2 Axes>"
      ]
     },
     "metadata": {
      "needs_background": "light"
     },
     "output_type": "display_data"
    },
    {
     "data": {
      "application/vnd.plotly.v1+json": {
       "config": {
        "plotlyServerURL": "https://plot.ly"
       },
       "data": [
        {
         "alignmentgroup": "True",
         "bingroup": "x",
         "hoverlabel": {
          "namelength": 0
         },
         "hovertemplate": "Voted=1<br>USAWhite=%{x}<br>count=%{y}",
         "legendgroup": "Voted=1",
         "marker": {
          "color": "#636EFA"
         },
         "name": "Voted=1",
         "offsetgroup": "Voted=1",
         "orientation": "v",
         "showlegend": true,
         "type": "histogram",
         "x": [
          1,
          1,
          1,
          1,
          1,
          1,
          1,
          1,
          1,
          1,
          1,
          1,
          1,
          1,
          1,
          1,
          1,
          1,
          1,
          1,
          1,
          1,
          1,
          1,
          1,
          1,
          1,
          1,
          1,
          1,
          1,
          1,
          1,
          1,
          1,
          1,
          1,
          1,
          1,
          1,
          1,
          1,
          1,
          1,
          1,
          1,
          1,
          1,
          1,
          1,
          1,
          1,
          1,
          1,
          1,
          1,
          1,
          1,
          1,
          1,
          1,
          1,
          1,
          1,
          1,
          1,
          1,
          1,
          1,
          1,
          1,
          1,
          1,
          1,
          1,
          1,
          1,
          1,
          1,
          1,
          1,
          1,
          1,
          1,
          1,
          1,
          1,
          1,
          1,
          1,
          1,
          1,
          1,
          1,
          1,
          1,
          1,
          1,
          1,
          1,
          1,
          1,
          1,
          1,
          1,
          1,
          1,
          1,
          1,
          1,
          1,
          1,
          1,
          1,
          1,
          1,
          1,
          1,
          1,
          1,
          1,
          1,
          1,
          1,
          1,
          1,
          1,
          1,
          1,
          1,
          1,
          1,
          1,
          1,
          1,
          1,
          1,
          1,
          1,
          1,
          1,
          1,
          1,
          1,
          1,
          1,
          1,
          1,
          1,
          1,
          1,
          1,
          1,
          1,
          1,
          1,
          1,
          1,
          1,
          1,
          1,
          1,
          1,
          1,
          1,
          1,
          1,
          1,
          1,
          1,
          1,
          1,
          1,
          1,
          1,
          1,
          1,
          1,
          1,
          1,
          1,
          1,
          1,
          1,
          1,
          1,
          1,
          1,
          1,
          1,
          1,
          1,
          1,
          1,
          1,
          1,
          1,
          1,
          1,
          1,
          1,
          1,
          1,
          1,
          1,
          1,
          1,
          1,
          1,
          1,
          1,
          1,
          1,
          1,
          1,
          1,
          1,
          1,
          1,
          1,
          1,
          1,
          1,
          1,
          1,
          1,
          1,
          1,
          1,
          1,
          1,
          1,
          1,
          1,
          1,
          1,
          1,
          1,
          1,
          1,
          1,
          1,
          1,
          1,
          1,
          1,
          1,
          1,
          1,
          1,
          1,
          1,
          1,
          1,
          1,
          1,
          1,
          1,
          1,
          1,
          1,
          1,
          1,
          1,
          1,
          1,
          1,
          1,
          1,
          1,
          1,
          1,
          1,
          1,
          1,
          1,
          1,
          1,
          1,
          1,
          1,
          1,
          1,
          1,
          1,
          1,
          1,
          1,
          1,
          1,
          1,
          1,
          1,
          1,
          1,
          1,
          1,
          1,
          1,
          1,
          1,
          1,
          1,
          1,
          1,
          1,
          1,
          1,
          1,
          1,
          1,
          1,
          1,
          1,
          1,
          1,
          1,
          1,
          1,
          1,
          1,
          1,
          1,
          1,
          1,
          1,
          1,
          1,
          1,
          1,
          1,
          1,
          1,
          1,
          1,
          1,
          1,
          1,
          1,
          1,
          1,
          1,
          1,
          1,
          1,
          1,
          1,
          1,
          1,
          1,
          1,
          1,
          1,
          1,
          1,
          1,
          1,
          1,
          1,
          1,
          1,
          1,
          1,
          1,
          1,
          1,
          1,
          1,
          1,
          1,
          1,
          1,
          1,
          1,
          1,
          1,
          1,
          1,
          1,
          1,
          1,
          1,
          1,
          1,
          1,
          1,
          1,
          1,
          1,
          1,
          1,
          1,
          1,
          1,
          1,
          1,
          1,
          1,
          1,
          1,
          1,
          1,
          1,
          1,
          1,
          1,
          1,
          1,
          1,
          1,
          1,
          1,
          1,
          1,
          1,
          1,
          1,
          1,
          1,
          1,
          1,
          1,
          1,
          1,
          1,
          1,
          1,
          1,
          1,
          1,
          1,
          1,
          1,
          1,
          1,
          1,
          1,
          1,
          1,
          1,
          1,
          1,
          1,
          1,
          1,
          1,
          1,
          1,
          1,
          1,
          1,
          1,
          1,
          1,
          1,
          1,
          1,
          1,
          1,
          1,
          1,
          1,
          1,
          1,
          1,
          1,
          1,
          1,
          1,
          1,
          1,
          1,
          1,
          1,
          1,
          1,
          1,
          1,
          1,
          1,
          1,
          1,
          1,
          1,
          1,
          1,
          1,
          1,
          1,
          1,
          1,
          1,
          1,
          1,
          1,
          1,
          1,
          1,
          1,
          1,
          1,
          1,
          1,
          1,
          1,
          1,
          1,
          1,
          1,
          1,
          1,
          1,
          1,
          1,
          1,
          1,
          1,
          1,
          1,
          1,
          1,
          1,
          1,
          1,
          1,
          1,
          1,
          1,
          1,
          1,
          1,
          1,
          1,
          1,
          1,
          1,
          1,
          1,
          1,
          1,
          1,
          1,
          1,
          1,
          1,
          1,
          1,
          1,
          1,
          1,
          1,
          1,
          1,
          1,
          1,
          1,
          1,
          1,
          1,
          1
         ],
         "xaxis": "x",
         "yaxis": "y"
        },
        {
         "alignmentgroup": "True",
         "bingroup": "x",
         "hoverlabel": {
          "namelength": 0
         },
         "hovertemplate": "Voted=0<br>USAWhite=%{x}<br>count=%{y}",
         "legendgroup": "Voted=0",
         "marker": {
          "color": "#EF553B"
         },
         "name": "Voted=0",
         "offsetgroup": "Voted=0",
         "orientation": "v",
         "showlegend": true,
         "type": "histogram",
         "x": [
          1,
          1,
          1,
          1,
          1,
          1,
          1,
          1,
          1,
          1,
          1,
          1,
          1,
          1,
          1,
          1,
          1,
          1,
          1,
          1,
          1,
          1,
          1,
          1,
          1,
          1,
          1,
          1,
          1,
          1,
          1,
          1,
          1,
          1,
          1,
          1,
          1,
          1,
          1,
          1,
          1,
          1,
          1,
          1,
          1,
          1,
          1,
          1,
          1,
          1,
          1,
          1,
          1,
          1,
          1,
          1,
          1,
          1,
          1,
          1,
          1,
          1,
          1,
          1,
          1,
          1,
          1,
          1,
          1,
          1,
          1,
          1,
          1,
          1,
          1,
          1,
          1,
          1,
          1,
          1,
          1,
          1,
          1,
          1,
          1,
          1,
          1,
          1,
          1,
          1,
          1,
          1,
          1,
          1,
          1,
          1,
          1,
          1,
          1,
          1,
          1,
          1,
          1,
          1,
          1,
          1,
          1,
          1,
          1,
          1,
          1,
          1,
          1,
          1,
          1,
          1,
          1,
          1,
          1,
          1,
          1,
          1,
          1,
          1,
          1,
          1,
          1,
          1,
          1,
          1,
          1,
          1,
          1,
          1,
          1,
          1,
          1,
          1,
          1,
          1,
          1,
          1,
          1,
          1,
          1,
          1,
          1,
          1,
          1,
          1,
          1,
          1,
          1,
          1,
          1,
          1,
          1,
          1,
          1,
          1,
          1,
          1,
          1,
          1,
          1,
          1,
          1,
          1,
          1,
          1,
          1,
          1,
          1,
          1,
          1,
          1,
          1,
          1,
          1,
          1,
          1,
          1,
          1,
          1,
          1,
          1,
          1,
          1,
          1,
          1,
          1,
          1,
          1,
          1,
          1,
          1,
          1,
          1,
          1,
          1,
          1,
          1,
          1,
          1,
          1,
          1,
          1,
          1,
          1,
          1,
          1,
          1,
          1,
          1,
          1,
          1,
          1,
          1,
          1,
          1,
          1,
          1,
          1,
          1,
          1,
          1,
          1,
          1,
          1,
          1,
          1,
          1,
          1,
          1,
          1,
          1,
          1,
          1,
          1,
          1,
          1,
          1,
          1,
          1,
          1,
          1,
          1,
          1,
          1,
          1,
          1,
          1,
          1,
          1,
          1,
          1,
          1,
          1,
          1,
          1,
          1,
          1,
          1,
          1,
          1,
          1,
          1,
          1,
          1,
          1,
          1,
          1,
          1,
          1,
          1,
          1,
          1,
          1,
          1,
          1,
          1,
          1,
          1,
          1,
          1,
          1,
          1,
          1,
          1,
          1,
          1,
          1,
          1,
          1,
          1,
          1,
          1,
          1,
          1,
          1,
          1,
          1,
          1,
          1,
          1,
          1,
          1,
          1,
          1,
          1,
          1,
          1,
          1,
          1,
          1
         ],
         "xaxis": "x",
         "yaxis": "y"
        }
       ],
       "layout": {
        "barmode": "group",
        "barnorm": "percent",
        "height": 600,
        "legend": {
         "tracegroupgap": 0
        },
        "margin": {
         "t": 60
        },
        "template": {
         "data": {
          "bar": [
           {
            "error_x": {
             "color": "#2a3f5f"
            },
            "error_y": {
             "color": "#2a3f5f"
            },
            "marker": {
             "line": {
              "color": "#E5ECF6",
              "width": 0.5
             }
            },
            "type": "bar"
           }
          ],
          "barpolar": [
           {
            "marker": {
             "line": {
              "color": "#E5ECF6",
              "width": 0.5
             }
            },
            "type": "barpolar"
           }
          ],
          "carpet": [
           {
            "aaxis": {
             "endlinecolor": "#2a3f5f",
             "gridcolor": "white",
             "linecolor": "white",
             "minorgridcolor": "white",
             "startlinecolor": "#2a3f5f"
            },
            "baxis": {
             "endlinecolor": "#2a3f5f",
             "gridcolor": "white",
             "linecolor": "white",
             "minorgridcolor": "white",
             "startlinecolor": "#2a3f5f"
            },
            "type": "carpet"
           }
          ],
          "choropleth": [
           {
            "colorbar": {
             "outlinewidth": 0,
             "ticks": ""
            },
            "type": "choropleth"
           }
          ],
          "contour": [
           {
            "colorbar": {
             "outlinewidth": 0,
             "ticks": ""
            },
            "colorscale": [
             [
              0,
              "#0d0887"
             ],
             [
              0.1111111111111111,
              "#46039f"
             ],
             [
              0.2222222222222222,
              "#7201a8"
             ],
             [
              0.3333333333333333,
              "#9c179e"
             ],
             [
              0.4444444444444444,
              "#bd3786"
             ],
             [
              0.5555555555555556,
              "#d8576b"
             ],
             [
              0.6666666666666666,
              "#ed7953"
             ],
             [
              0.7777777777777778,
              "#fb9f3a"
             ],
             [
              0.8888888888888888,
              "#fdca26"
             ],
             [
              1,
              "#f0f921"
             ]
            ],
            "type": "contour"
           }
          ],
          "contourcarpet": [
           {
            "colorbar": {
             "outlinewidth": 0,
             "ticks": ""
            },
            "type": "contourcarpet"
           }
          ],
          "heatmap": [
           {
            "colorbar": {
             "outlinewidth": 0,
             "ticks": ""
            },
            "colorscale": [
             [
              0,
              "#0d0887"
             ],
             [
              0.1111111111111111,
              "#46039f"
             ],
             [
              0.2222222222222222,
              "#7201a8"
             ],
             [
              0.3333333333333333,
              "#9c179e"
             ],
             [
              0.4444444444444444,
              "#bd3786"
             ],
             [
              0.5555555555555556,
              "#d8576b"
             ],
             [
              0.6666666666666666,
              "#ed7953"
             ],
             [
              0.7777777777777778,
              "#fb9f3a"
             ],
             [
              0.8888888888888888,
              "#fdca26"
             ],
             [
              1,
              "#f0f921"
             ]
            ],
            "type": "heatmap"
           }
          ],
          "heatmapgl": [
           {
            "colorbar": {
             "outlinewidth": 0,
             "ticks": ""
            },
            "colorscale": [
             [
              0,
              "#0d0887"
             ],
             [
              0.1111111111111111,
              "#46039f"
             ],
             [
              0.2222222222222222,
              "#7201a8"
             ],
             [
              0.3333333333333333,
              "#9c179e"
             ],
             [
              0.4444444444444444,
              "#bd3786"
             ],
             [
              0.5555555555555556,
              "#d8576b"
             ],
             [
              0.6666666666666666,
              "#ed7953"
             ],
             [
              0.7777777777777778,
              "#fb9f3a"
             ],
             [
              0.8888888888888888,
              "#fdca26"
             ],
             [
              1,
              "#f0f921"
             ]
            ],
            "type": "heatmapgl"
           }
          ],
          "histogram": [
           {
            "marker": {
             "colorbar": {
              "outlinewidth": 0,
              "ticks": ""
             }
            },
            "type": "histogram"
           }
          ],
          "histogram2d": [
           {
            "colorbar": {
             "outlinewidth": 0,
             "ticks": ""
            },
            "colorscale": [
             [
              0,
              "#0d0887"
             ],
             [
              0.1111111111111111,
              "#46039f"
             ],
             [
              0.2222222222222222,
              "#7201a8"
             ],
             [
              0.3333333333333333,
              "#9c179e"
             ],
             [
              0.4444444444444444,
              "#bd3786"
             ],
             [
              0.5555555555555556,
              "#d8576b"
             ],
             [
              0.6666666666666666,
              "#ed7953"
             ],
             [
              0.7777777777777778,
              "#fb9f3a"
             ],
             [
              0.8888888888888888,
              "#fdca26"
             ],
             [
              1,
              "#f0f921"
             ]
            ],
            "type": "histogram2d"
           }
          ],
          "histogram2dcontour": [
           {
            "colorbar": {
             "outlinewidth": 0,
             "ticks": ""
            },
            "colorscale": [
             [
              0,
              "#0d0887"
             ],
             [
              0.1111111111111111,
              "#46039f"
             ],
             [
              0.2222222222222222,
              "#7201a8"
             ],
             [
              0.3333333333333333,
              "#9c179e"
             ],
             [
              0.4444444444444444,
              "#bd3786"
             ],
             [
              0.5555555555555556,
              "#d8576b"
             ],
             [
              0.6666666666666666,
              "#ed7953"
             ],
             [
              0.7777777777777778,
              "#fb9f3a"
             ],
             [
              0.8888888888888888,
              "#fdca26"
             ],
             [
              1,
              "#f0f921"
             ]
            ],
            "type": "histogram2dcontour"
           }
          ],
          "mesh3d": [
           {
            "colorbar": {
             "outlinewidth": 0,
             "ticks": ""
            },
            "type": "mesh3d"
           }
          ],
          "parcoords": [
           {
            "line": {
             "colorbar": {
              "outlinewidth": 0,
              "ticks": ""
             }
            },
            "type": "parcoords"
           }
          ],
          "scatter": [
           {
            "marker": {
             "colorbar": {
              "outlinewidth": 0,
              "ticks": ""
             }
            },
            "type": "scatter"
           }
          ],
          "scatter3d": [
           {
            "line": {
             "colorbar": {
              "outlinewidth": 0,
              "ticks": ""
             }
            },
            "marker": {
             "colorbar": {
              "outlinewidth": 0,
              "ticks": ""
             }
            },
            "type": "scatter3d"
           }
          ],
          "scattercarpet": [
           {
            "marker": {
             "colorbar": {
              "outlinewidth": 0,
              "ticks": ""
             }
            },
            "type": "scattercarpet"
           }
          ],
          "scattergeo": [
           {
            "marker": {
             "colorbar": {
              "outlinewidth": 0,
              "ticks": ""
             }
            },
            "type": "scattergeo"
           }
          ],
          "scattergl": [
           {
            "marker": {
             "colorbar": {
              "outlinewidth": 0,
              "ticks": ""
             }
            },
            "type": "scattergl"
           }
          ],
          "scattermapbox": [
           {
            "marker": {
             "colorbar": {
              "outlinewidth": 0,
              "ticks": ""
             }
            },
            "type": "scattermapbox"
           }
          ],
          "scatterpolar": [
           {
            "marker": {
             "colorbar": {
              "outlinewidth": 0,
              "ticks": ""
             }
            },
            "type": "scatterpolar"
           }
          ],
          "scatterpolargl": [
           {
            "marker": {
             "colorbar": {
              "outlinewidth": 0,
              "ticks": ""
             }
            },
            "type": "scatterpolargl"
           }
          ],
          "scatterternary": [
           {
            "marker": {
             "colorbar": {
              "outlinewidth": 0,
              "ticks": ""
             }
            },
            "type": "scatterternary"
           }
          ],
          "surface": [
           {
            "colorbar": {
             "outlinewidth": 0,
             "ticks": ""
            },
            "colorscale": [
             [
              0,
              "#0d0887"
             ],
             [
              0.1111111111111111,
              "#46039f"
             ],
             [
              0.2222222222222222,
              "#7201a8"
             ],
             [
              0.3333333333333333,
              "#9c179e"
             ],
             [
              0.4444444444444444,
              "#bd3786"
             ],
             [
              0.5555555555555556,
              "#d8576b"
             ],
             [
              0.6666666666666666,
              "#ed7953"
             ],
             [
              0.7777777777777778,
              "#fb9f3a"
             ],
             [
              0.8888888888888888,
              "#fdca26"
             ],
             [
              1,
              "#f0f921"
             ]
            ],
            "type": "surface"
           }
          ],
          "table": [
           {
            "cells": {
             "fill": {
              "color": "#EBF0F8"
             },
             "line": {
              "color": "white"
             }
            },
            "header": {
             "fill": {
              "color": "#C8D4E3"
             },
             "line": {
              "color": "white"
             }
            },
            "type": "table"
           }
          ]
         },
         "layout": {
          "annotationdefaults": {
           "arrowcolor": "#2a3f5f",
           "arrowhead": 0,
           "arrowwidth": 1
          },
          "colorscale": {
           "diverging": [
            [
             0,
             "#8e0152"
            ],
            [
             0.1,
             "#c51b7d"
            ],
            [
             0.2,
             "#de77ae"
            ],
            [
             0.3,
             "#f1b6da"
            ],
            [
             0.4,
             "#fde0ef"
            ],
            [
             0.5,
             "#f7f7f7"
            ],
            [
             0.6,
             "#e6f5d0"
            ],
            [
             0.7,
             "#b8e186"
            ],
            [
             0.8,
             "#7fbc41"
            ],
            [
             0.9,
             "#4d9221"
            ],
            [
             1,
             "#276419"
            ]
           ],
           "sequential": [
            [
             0,
             "#0d0887"
            ],
            [
             0.1111111111111111,
             "#46039f"
            ],
            [
             0.2222222222222222,
             "#7201a8"
            ],
            [
             0.3333333333333333,
             "#9c179e"
            ],
            [
             0.4444444444444444,
             "#bd3786"
            ],
            [
             0.5555555555555556,
             "#d8576b"
            ],
            [
             0.6666666666666666,
             "#ed7953"
            ],
            [
             0.7777777777777778,
             "#fb9f3a"
            ],
            [
             0.8888888888888888,
             "#fdca26"
            ],
            [
             1,
             "#f0f921"
            ]
           ],
           "sequentialminus": [
            [
             0,
             "#0d0887"
            ],
            [
             0.1111111111111111,
             "#46039f"
            ],
            [
             0.2222222222222222,
             "#7201a8"
            ],
            [
             0.3333333333333333,
             "#9c179e"
            ],
            [
             0.4444444444444444,
             "#bd3786"
            ],
            [
             0.5555555555555556,
             "#d8576b"
            ],
            [
             0.6666666666666666,
             "#ed7953"
            ],
            [
             0.7777777777777778,
             "#fb9f3a"
            ],
            [
             0.8888888888888888,
             "#fdca26"
            ],
            [
             1,
             "#f0f921"
            ]
           ]
          },
          "colorway": [
           "#636efa",
           "#EF553B",
           "#00cc96",
           "#ab63fa",
           "#FFA15A",
           "#19d3f3",
           "#FF6692",
           "#B6E880",
           "#FF97FF",
           "#FECB52"
          ],
          "font": {
           "color": "#2a3f5f"
          },
          "geo": {
           "bgcolor": "white",
           "lakecolor": "white",
           "landcolor": "#E5ECF6",
           "showlakes": true,
           "showland": true,
           "subunitcolor": "white"
          },
          "hoverlabel": {
           "align": "left"
          },
          "hovermode": "closest",
          "mapbox": {
           "style": "light"
          },
          "paper_bgcolor": "white",
          "plot_bgcolor": "#E5ECF6",
          "polar": {
           "angularaxis": {
            "gridcolor": "white",
            "linecolor": "white",
            "ticks": ""
           },
           "bgcolor": "#E5ECF6",
           "radialaxis": {
            "gridcolor": "white",
            "linecolor": "white",
            "ticks": ""
           }
          },
          "scene": {
           "xaxis": {
            "backgroundcolor": "#E5ECF6",
            "gridcolor": "white",
            "gridwidth": 2,
            "linecolor": "white",
            "showbackground": true,
            "ticks": "",
            "zerolinecolor": "white"
           },
           "yaxis": {
            "backgroundcolor": "#E5ECF6",
            "gridcolor": "white",
            "gridwidth": 2,
            "linecolor": "white",
            "showbackground": true,
            "ticks": "",
            "zerolinecolor": "white"
           },
           "zaxis": {
            "backgroundcolor": "#E5ECF6",
            "gridcolor": "white",
            "gridwidth": 2,
            "linecolor": "white",
            "showbackground": true,
            "ticks": "",
            "zerolinecolor": "white"
           }
          },
          "shapedefaults": {
           "line": {
            "color": "#2a3f5f"
           }
          },
          "ternary": {
           "aaxis": {
            "gridcolor": "white",
            "linecolor": "white",
            "ticks": ""
           },
           "baxis": {
            "gridcolor": "white",
            "linecolor": "white",
            "ticks": ""
           },
           "bgcolor": "#E5ECF6",
           "caxis": {
            "gridcolor": "white",
            "linecolor": "white",
            "ticks": ""
           }
          },
          "title": {
           "x": 0.05
          },
          "xaxis": {
           "automargin": true,
           "gridcolor": "white",
           "linecolor": "white",
           "ticks": "",
           "zerolinecolor": "white",
           "zerolinewidth": 2
          },
          "yaxis": {
           "automargin": true,
           "gridcolor": "white",
           "linecolor": "white",
           "ticks": "",
           "zerolinecolor": "white",
           "zerolinewidth": 2
          }
         }
        },
        "xaxis": {
         "anchor": "y",
         "domain": [
          0,
          0.98
         ],
         "title": {
          "text": "USAWhite"
         }
        },
        "yaxis": {
         "anchor": "x",
         "domain": [
          0,
          1
         ],
         "title": {
          "text": "Percent"
         }
        }
       }
      },
      "text/html": [
       "<div>\n",
       "        \n",
       "        \n",
       "            <div id=\"c0be4e59-ce3e-4f3b-9975-beebf44aa998\" class=\"plotly-graph-div\" style=\"height:600px; width:100%;\"></div>\n",
       "            <script type=\"text/javascript\">\n",
       "                require([\"plotly\"], function(Plotly) {\n",
       "                    window.PLOTLYENV=window.PLOTLYENV || {};\n",
       "                    \n",
       "                if (document.getElementById(\"c0be4e59-ce3e-4f3b-9975-beebf44aa998\")) {\n",
       "                    Plotly.newPlot(\n",
       "                        'c0be4e59-ce3e-4f3b-9975-beebf44aa998',\n",
       "                        [{\"alignmentgroup\": \"True\", \"bingroup\": \"x\", \"hoverlabel\": {\"namelength\": 0}, \"hovertemplate\": \"Voted=1<br>USAWhite=%{x}<br>count=%{y}\", \"legendgroup\": \"Voted=1\", \"marker\": {\"color\": \"#636EFA\"}, \"name\": \"Voted=1\", \"offsetgroup\": \"Voted=1\", \"orientation\": \"v\", \"showlegend\": true, \"type\": \"histogram\", \"x\": [1, 1, 1, 1, 1, 1, 1, 1, 1, 1, 1, 1, 1, 1, 1, 1, 1, 1, 1, 1, 1, 1, 1, 1, 1, 1, 1, 1, 1, 1, 1, 1, 1, 1, 1, 1, 1, 1, 1, 1, 1, 1, 1, 1, 1, 1, 1, 1, 1, 1, 1, 1, 1, 1, 1, 1, 1, 1, 1, 1, 1, 1, 1, 1, 1, 1, 1, 1, 1, 1, 1, 1, 1, 1, 1, 1, 1, 1, 1, 1, 1, 1, 1, 1, 1, 1, 1, 1, 1, 1, 1, 1, 1, 1, 1, 1, 1, 1, 1, 1, 1, 1, 1, 1, 1, 1, 1, 1, 1, 1, 1, 1, 1, 1, 1, 1, 1, 1, 1, 1, 1, 1, 1, 1, 1, 1, 1, 1, 1, 1, 1, 1, 1, 1, 1, 1, 1, 1, 1, 1, 1, 1, 1, 1, 1, 1, 1, 1, 1, 1, 1, 1, 1, 1, 1, 1, 1, 1, 1, 1, 1, 1, 1, 1, 1, 1, 1, 1, 1, 1, 1, 1, 1, 1, 1, 1, 1, 1, 1, 1, 1, 1, 1, 1, 1, 1, 1, 1, 1, 1, 1, 1, 1, 1, 1, 1, 1, 1, 1, 1, 1, 1, 1, 1, 1, 1, 1, 1, 1, 1, 1, 1, 1, 1, 1, 1, 1, 1, 1, 1, 1, 1, 1, 1, 1, 1, 1, 1, 1, 1, 1, 1, 1, 1, 1, 1, 1, 1, 1, 1, 1, 1, 1, 1, 1, 1, 1, 1, 1, 1, 1, 1, 1, 1, 1, 1, 1, 1, 1, 1, 1, 1, 1, 1, 1, 1, 1, 1, 1, 1, 1, 1, 1, 1, 1, 1, 1, 1, 1, 1, 1, 1, 1, 1, 1, 1, 1, 1, 1, 1, 1, 1, 1, 1, 1, 1, 1, 1, 1, 1, 1, 1, 1, 1, 1, 1, 1, 1, 1, 1, 1, 1, 1, 1, 1, 1, 1, 1, 1, 1, 1, 1, 1, 1, 1, 1, 1, 1, 1, 1, 1, 1, 1, 1, 1, 1, 1, 1, 1, 1, 1, 1, 1, 1, 1, 1, 1, 1, 1, 1, 1, 1, 1, 1, 1, 1, 1, 1, 1, 1, 1, 1, 1, 1, 1, 1, 1, 1, 1, 1, 1, 1, 1, 1, 1, 1, 1, 1, 1, 1, 1, 1, 1, 1, 1, 1, 1, 1, 1, 1, 1, 1, 1, 1, 1, 1, 1, 1, 1, 1, 1, 1, 1, 1, 1, 1, 1, 1, 1, 1, 1, 1, 1, 1, 1, 1, 1, 1, 1, 1, 1, 1, 1, 1, 1, 1, 1, 1, 1, 1, 1, 1, 1, 1, 1, 1, 1, 1, 1, 1, 1, 1, 1, 1, 1, 1, 1, 1, 1, 1, 1, 1, 1, 1, 1, 1, 1, 1, 1, 1, 1, 1, 1, 1, 1, 1, 1, 1, 1, 1, 1, 1, 1, 1, 1, 1, 1, 1, 1, 1, 1, 1, 1, 1, 1, 1, 1, 1, 1, 1, 1, 1, 1, 1, 1, 1, 1, 1, 1, 1, 1, 1, 1, 1, 1, 1, 1, 1, 1, 1, 1, 1, 1, 1, 1, 1, 1, 1, 1, 1, 1, 1, 1, 1, 1, 1, 1, 1, 1, 1, 1, 1, 1, 1, 1, 1, 1, 1, 1, 1, 1, 1, 1, 1, 1, 1, 1, 1, 1, 1, 1, 1, 1, 1, 1, 1, 1, 1, 1, 1], \"xaxis\": \"x\", \"yaxis\": \"y\"}, {\"alignmentgroup\": \"True\", \"bingroup\": \"x\", \"hoverlabel\": {\"namelength\": 0}, \"hovertemplate\": \"Voted=0<br>USAWhite=%{x}<br>count=%{y}\", \"legendgroup\": \"Voted=0\", \"marker\": {\"color\": \"#EF553B\"}, \"name\": \"Voted=0\", \"offsetgroup\": \"Voted=0\", \"orientation\": \"v\", \"showlegend\": true, \"type\": \"histogram\", \"x\": [1, 1, 1, 1, 1, 1, 1, 1, 1, 1, 1, 1, 1, 1, 1, 1, 1, 1, 1, 1, 1, 1, 1, 1, 1, 1, 1, 1, 1, 1, 1, 1, 1, 1, 1, 1, 1, 1, 1, 1, 1, 1, 1, 1, 1, 1, 1, 1, 1, 1, 1, 1, 1, 1, 1, 1, 1, 1, 1, 1, 1, 1, 1, 1, 1, 1, 1, 1, 1, 1, 1, 1, 1, 1, 1, 1, 1, 1, 1, 1, 1, 1, 1, 1, 1, 1, 1, 1, 1, 1, 1, 1, 1, 1, 1, 1, 1, 1, 1, 1, 1, 1, 1, 1, 1, 1, 1, 1, 1, 1, 1, 1, 1, 1, 1, 1, 1, 1, 1, 1, 1, 1, 1, 1, 1, 1, 1, 1, 1, 1, 1, 1, 1, 1, 1, 1, 1, 1, 1, 1, 1, 1, 1, 1, 1, 1, 1, 1, 1, 1, 1, 1, 1, 1, 1, 1, 1, 1, 1, 1, 1, 1, 1, 1, 1, 1, 1, 1, 1, 1, 1, 1, 1, 1, 1, 1, 1, 1, 1, 1, 1, 1, 1, 1, 1, 1, 1, 1, 1, 1, 1, 1, 1, 1, 1, 1, 1, 1, 1, 1, 1, 1, 1, 1, 1, 1, 1, 1, 1, 1, 1, 1, 1, 1, 1, 1, 1, 1, 1, 1, 1, 1, 1, 1, 1, 1, 1, 1, 1, 1, 1, 1, 1, 1, 1, 1, 1, 1, 1, 1, 1, 1, 1, 1, 1, 1, 1, 1, 1, 1, 1, 1, 1, 1, 1, 1, 1, 1, 1, 1, 1, 1, 1, 1, 1, 1, 1, 1, 1, 1, 1, 1, 1, 1, 1, 1, 1, 1, 1, 1, 1, 1, 1, 1, 1, 1, 1, 1, 1, 1, 1, 1, 1, 1, 1, 1, 1, 1, 1, 1, 1, 1, 1, 1, 1, 1, 1, 1, 1, 1, 1, 1, 1, 1, 1], \"xaxis\": \"x\", \"yaxis\": \"y\"}],\n",
       "                        {\"barmode\": \"group\", \"barnorm\": \"percent\", \"height\": 600, \"legend\": {\"tracegroupgap\": 0}, \"margin\": {\"t\": 60}, \"template\": {\"data\": {\"bar\": [{\"error_x\": {\"color\": \"#2a3f5f\"}, \"error_y\": {\"color\": \"#2a3f5f\"}, \"marker\": {\"line\": {\"color\": \"#E5ECF6\", \"width\": 0.5}}, \"type\": \"bar\"}], \"barpolar\": [{\"marker\": {\"line\": {\"color\": \"#E5ECF6\", \"width\": 0.5}}, \"type\": \"barpolar\"}], \"carpet\": [{\"aaxis\": {\"endlinecolor\": \"#2a3f5f\", \"gridcolor\": \"white\", \"linecolor\": \"white\", \"minorgridcolor\": \"white\", \"startlinecolor\": \"#2a3f5f\"}, \"baxis\": {\"endlinecolor\": \"#2a3f5f\", \"gridcolor\": \"white\", \"linecolor\": \"white\", \"minorgridcolor\": \"white\", \"startlinecolor\": \"#2a3f5f\"}, \"type\": \"carpet\"}], \"choropleth\": [{\"colorbar\": {\"outlinewidth\": 0, \"ticks\": \"\"}, \"type\": \"choropleth\"}], \"contour\": [{\"colorbar\": {\"outlinewidth\": 0, \"ticks\": \"\"}, \"colorscale\": [[0.0, \"#0d0887\"], [0.1111111111111111, \"#46039f\"], [0.2222222222222222, \"#7201a8\"], [0.3333333333333333, \"#9c179e\"], [0.4444444444444444, \"#bd3786\"], [0.5555555555555556, \"#d8576b\"], [0.6666666666666666, \"#ed7953\"], [0.7777777777777778, \"#fb9f3a\"], [0.8888888888888888, \"#fdca26\"], [1.0, \"#f0f921\"]], \"type\": \"contour\"}], \"contourcarpet\": [{\"colorbar\": {\"outlinewidth\": 0, \"ticks\": \"\"}, \"type\": \"contourcarpet\"}], \"heatmap\": [{\"colorbar\": {\"outlinewidth\": 0, \"ticks\": \"\"}, \"colorscale\": [[0.0, \"#0d0887\"], [0.1111111111111111, \"#46039f\"], [0.2222222222222222, \"#7201a8\"], [0.3333333333333333, \"#9c179e\"], [0.4444444444444444, \"#bd3786\"], [0.5555555555555556, \"#d8576b\"], [0.6666666666666666, \"#ed7953\"], [0.7777777777777778, \"#fb9f3a\"], [0.8888888888888888, \"#fdca26\"], [1.0, \"#f0f921\"]], \"type\": \"heatmap\"}], \"heatmapgl\": [{\"colorbar\": {\"outlinewidth\": 0, \"ticks\": \"\"}, \"colorscale\": [[0.0, \"#0d0887\"], [0.1111111111111111, \"#46039f\"], [0.2222222222222222, \"#7201a8\"], [0.3333333333333333, \"#9c179e\"], [0.4444444444444444, \"#bd3786\"], [0.5555555555555556, \"#d8576b\"], [0.6666666666666666, \"#ed7953\"], [0.7777777777777778, \"#fb9f3a\"], [0.8888888888888888, \"#fdca26\"], [1.0, \"#f0f921\"]], \"type\": \"heatmapgl\"}], \"histogram\": [{\"marker\": {\"colorbar\": {\"outlinewidth\": 0, \"ticks\": \"\"}}, \"type\": \"histogram\"}], \"histogram2d\": [{\"colorbar\": {\"outlinewidth\": 0, \"ticks\": \"\"}, \"colorscale\": [[0.0, \"#0d0887\"], [0.1111111111111111, \"#46039f\"], [0.2222222222222222, \"#7201a8\"], [0.3333333333333333, \"#9c179e\"], [0.4444444444444444, \"#bd3786\"], [0.5555555555555556, \"#d8576b\"], [0.6666666666666666, \"#ed7953\"], [0.7777777777777778, \"#fb9f3a\"], [0.8888888888888888, \"#fdca26\"], [1.0, \"#f0f921\"]], \"type\": \"histogram2d\"}], \"histogram2dcontour\": [{\"colorbar\": {\"outlinewidth\": 0, \"ticks\": \"\"}, \"colorscale\": [[0.0, \"#0d0887\"], [0.1111111111111111, \"#46039f\"], [0.2222222222222222, \"#7201a8\"], [0.3333333333333333, \"#9c179e\"], [0.4444444444444444, \"#bd3786\"], [0.5555555555555556, \"#d8576b\"], [0.6666666666666666, \"#ed7953\"], [0.7777777777777778, \"#fb9f3a\"], [0.8888888888888888, \"#fdca26\"], [1.0, \"#f0f921\"]], \"type\": \"histogram2dcontour\"}], \"mesh3d\": [{\"colorbar\": {\"outlinewidth\": 0, \"ticks\": \"\"}, \"type\": \"mesh3d\"}], \"parcoords\": [{\"line\": {\"colorbar\": {\"outlinewidth\": 0, \"ticks\": \"\"}}, \"type\": \"parcoords\"}], \"scatter\": [{\"marker\": {\"colorbar\": {\"outlinewidth\": 0, \"ticks\": \"\"}}, \"type\": \"scatter\"}], \"scatter3d\": [{\"line\": {\"colorbar\": {\"outlinewidth\": 0, \"ticks\": \"\"}}, \"marker\": {\"colorbar\": {\"outlinewidth\": 0, \"ticks\": \"\"}}, \"type\": \"scatter3d\"}], \"scattercarpet\": [{\"marker\": {\"colorbar\": {\"outlinewidth\": 0, \"ticks\": \"\"}}, \"type\": \"scattercarpet\"}], \"scattergeo\": [{\"marker\": {\"colorbar\": {\"outlinewidth\": 0, \"ticks\": \"\"}}, \"type\": \"scattergeo\"}], \"scattergl\": [{\"marker\": {\"colorbar\": {\"outlinewidth\": 0, \"ticks\": \"\"}}, \"type\": \"scattergl\"}], \"scattermapbox\": [{\"marker\": {\"colorbar\": {\"outlinewidth\": 0, \"ticks\": \"\"}}, \"type\": \"scattermapbox\"}], \"scatterpolar\": [{\"marker\": {\"colorbar\": {\"outlinewidth\": 0, \"ticks\": \"\"}}, \"type\": \"scatterpolar\"}], \"scatterpolargl\": [{\"marker\": {\"colorbar\": {\"outlinewidth\": 0, \"ticks\": \"\"}}, \"type\": \"scatterpolargl\"}], \"scatterternary\": [{\"marker\": {\"colorbar\": {\"outlinewidth\": 0, \"ticks\": \"\"}}, \"type\": \"scatterternary\"}], \"surface\": [{\"colorbar\": {\"outlinewidth\": 0, \"ticks\": \"\"}, \"colorscale\": [[0.0, \"#0d0887\"], [0.1111111111111111, \"#46039f\"], [0.2222222222222222, \"#7201a8\"], [0.3333333333333333, \"#9c179e\"], [0.4444444444444444, \"#bd3786\"], [0.5555555555555556, \"#d8576b\"], [0.6666666666666666, \"#ed7953\"], [0.7777777777777778, \"#fb9f3a\"], [0.8888888888888888, \"#fdca26\"], [1.0, \"#f0f921\"]], \"type\": \"surface\"}], \"table\": [{\"cells\": {\"fill\": {\"color\": \"#EBF0F8\"}, \"line\": {\"color\": \"white\"}}, \"header\": {\"fill\": {\"color\": \"#C8D4E3\"}, \"line\": {\"color\": \"white\"}}, \"type\": \"table\"}]}, \"layout\": {\"annotationdefaults\": {\"arrowcolor\": \"#2a3f5f\", \"arrowhead\": 0, \"arrowwidth\": 1}, \"colorscale\": {\"diverging\": [[0, \"#8e0152\"], [0.1, \"#c51b7d\"], [0.2, \"#de77ae\"], [0.3, \"#f1b6da\"], [0.4, \"#fde0ef\"], [0.5, \"#f7f7f7\"], [0.6, \"#e6f5d0\"], [0.7, \"#b8e186\"], [0.8, \"#7fbc41\"], [0.9, \"#4d9221\"], [1, \"#276419\"]], \"sequential\": [[0.0, \"#0d0887\"], [0.1111111111111111, \"#46039f\"], [0.2222222222222222, \"#7201a8\"], [0.3333333333333333, \"#9c179e\"], [0.4444444444444444, \"#bd3786\"], [0.5555555555555556, \"#d8576b\"], [0.6666666666666666, \"#ed7953\"], [0.7777777777777778, \"#fb9f3a\"], [0.8888888888888888, \"#fdca26\"], [1.0, \"#f0f921\"]], \"sequentialminus\": [[0.0, \"#0d0887\"], [0.1111111111111111, \"#46039f\"], [0.2222222222222222, \"#7201a8\"], [0.3333333333333333, \"#9c179e\"], [0.4444444444444444, \"#bd3786\"], [0.5555555555555556, \"#d8576b\"], [0.6666666666666666, \"#ed7953\"], [0.7777777777777778, \"#fb9f3a\"], [0.8888888888888888, \"#fdca26\"], [1.0, \"#f0f921\"]]}, \"colorway\": [\"#636efa\", \"#EF553B\", \"#00cc96\", \"#ab63fa\", \"#FFA15A\", \"#19d3f3\", \"#FF6692\", \"#B6E880\", \"#FF97FF\", \"#FECB52\"], \"font\": {\"color\": \"#2a3f5f\"}, \"geo\": {\"bgcolor\": \"white\", \"lakecolor\": \"white\", \"landcolor\": \"#E5ECF6\", \"showlakes\": true, \"showland\": true, \"subunitcolor\": \"white\"}, \"hoverlabel\": {\"align\": \"left\"}, \"hovermode\": \"closest\", \"mapbox\": {\"style\": \"light\"}, \"paper_bgcolor\": \"white\", \"plot_bgcolor\": \"#E5ECF6\", \"polar\": {\"angularaxis\": {\"gridcolor\": \"white\", \"linecolor\": \"white\", \"ticks\": \"\"}, \"bgcolor\": \"#E5ECF6\", \"radialaxis\": {\"gridcolor\": \"white\", \"linecolor\": \"white\", \"ticks\": \"\"}}, \"scene\": {\"xaxis\": {\"backgroundcolor\": \"#E5ECF6\", \"gridcolor\": \"white\", \"gridwidth\": 2, \"linecolor\": \"white\", \"showbackground\": true, \"ticks\": \"\", \"zerolinecolor\": \"white\"}, \"yaxis\": {\"backgroundcolor\": \"#E5ECF6\", \"gridcolor\": \"white\", \"gridwidth\": 2, \"linecolor\": \"white\", \"showbackground\": true, \"ticks\": \"\", \"zerolinecolor\": \"white\"}, \"zaxis\": {\"backgroundcolor\": \"#E5ECF6\", \"gridcolor\": \"white\", \"gridwidth\": 2, \"linecolor\": \"white\", \"showbackground\": true, \"ticks\": \"\", \"zerolinecolor\": \"white\"}}, \"shapedefaults\": {\"line\": {\"color\": \"#2a3f5f\"}}, \"ternary\": {\"aaxis\": {\"gridcolor\": \"white\", \"linecolor\": \"white\", \"ticks\": \"\"}, \"baxis\": {\"gridcolor\": \"white\", \"linecolor\": \"white\", \"ticks\": \"\"}, \"bgcolor\": \"#E5ECF6\", \"caxis\": {\"gridcolor\": \"white\", \"linecolor\": \"white\", \"ticks\": \"\"}}, \"title\": {\"x\": 0.05}, \"xaxis\": {\"automargin\": true, \"gridcolor\": \"white\", \"linecolor\": \"white\", \"ticks\": \"\", \"zerolinecolor\": \"white\", \"zerolinewidth\": 2}, \"yaxis\": {\"automargin\": true, \"gridcolor\": \"white\", \"linecolor\": \"white\", \"ticks\": \"\", \"zerolinecolor\": \"white\", \"zerolinewidth\": 2}}}, \"xaxis\": {\"anchor\": \"y\", \"domain\": [0.0, 0.98], \"title\": {\"text\": \"USAWhite\"}}, \"yaxis\": {\"anchor\": \"x\", \"domain\": [0.0, 1.0], \"title\": {\"text\": \"Percent\"}}},\n",
       "                        {\"responsive\": true}\n",
       "                    ).then(function(){\n",
       "                            \n",
       "var gd = document.getElementById('c0be4e59-ce3e-4f3b-9975-beebf44aa998');\n",
       "var x = new MutationObserver(function (mutations, observer) {{\n",
       "        var display = window.getComputedStyle(gd).display;\n",
       "        if (!display || display === 'none') {{\n",
       "            console.log([gd, 'removed!']);\n",
       "            Plotly.purge(gd);\n",
       "            observer.disconnect();\n",
       "        }}\n",
       "}});\n",
       "\n",
       "// Listen for the removal of the full notebook cells\n",
       "var notebookContainer = gd.closest('#notebook-container');\n",
       "if (notebookContainer) {{\n",
       "    x.observe(notebookContainer, {childList: true});\n",
       "}}\n",
       "\n",
       "// Listen for the clearing of the current output cell\n",
       "var outputEl = gd.closest('.output');\n",
       "if (outputEl) {{\n",
       "    x.observe(outputEl, {childList: true});\n",
       "}}\n",
       "\n",
       "                        })\n",
       "                };\n",
       "                });\n",
       "            </script>\n",
       "        </div>"
      ]
     },
     "metadata": {},
     "output_type": "display_data"
    }
   ],
   "source": [
    "ShowTwoWayHeatmap(data,'USAWhite','Voted', normalize=False)\n",
    "\n",
    "fig=px.histogram(data[data['USAWhite']==1], x=\"USAWhite\",color='Voted',color_discrete_map=color_discrete_map,barnorm='percent')\n",
    "fig.update_layout(barmode='group',yaxis_title=\"Percent\")"
   ]
  },
  {
   "cell_type": "code",
   "execution_count": 47,
   "metadata": {},
   "outputs": [
    {
     "data": {
      "image/png": "[encoded data removed]",
      "text/plain": [
       "<Figure size 936x432 with 2 Axes>"
      ]
     },
     "metadata": {
      "needs_background": "light"
     },
     "output_type": "display_data"
    },
    {
     "data": {
      "application/vnd.plotly.v1+json": {
       "config": {
        "plotlyServerURL": "https://plot.ly"
       },
       "data": [
        {
         "alignmentgroup": "True",
         "bingroup": "x",
         "hoverlabel": {
          "namelength": 0
         },
         "hovertemplate": "Voted=1<br>USAAsianPacificIslander=%{x}<br>count=%{y}",
         "legendgroup": "Voted=1",
         "marker": {
          "color": "#636EFA"
         },
         "name": "Voted=1",
         "offsetgroup": "Voted=1",
         "orientation": "v",
         "showlegend": true,
         "type": "histogram",
         "x": [
          1,
          1,
          1,
          1,
          1,
          1,
          1,
          1,
          1,
          1,
          1,
          1,
          1,
          1,
          1,
          1,
          1,
          1,
          1,
          1,
          1,
          1,
          1,
          1,
          1,
          1,
          1,
          1,
          1,
          1,
          1,
          1,
          1,
          1,
          1,
          1,
          1,
          1,
          1,
          1,
          1,
          1,
          1,
          1,
          1,
          1,
          1,
          1,
          1,
          1,
          1,
          1,
          1,
          1,
          1,
          1,
          1,
          1,
          1,
          1,
          1,
          1,
          1,
          1,
          1,
          1,
          1,
          1,
          1,
          1,
          1,
          1,
          1,
          1,
          1,
          1,
          1,
          1,
          1
         ],
         "xaxis": "x",
         "yaxis": "y"
        },
        {
         "alignmentgroup": "True",
         "bingroup": "x",
         "hoverlabel": {
          "namelength": 0
         },
         "hovertemplate": "Voted=0<br>USAAsianPacificIslander=%{x}<br>count=%{y}",
         "legendgroup": "Voted=0",
         "marker": {
          "color": "#EF553B"
         },
         "name": "Voted=0",
         "offsetgroup": "Voted=0",
         "orientation": "v",
         "showlegend": true,
         "type": "histogram",
         "x": [
          1,
          1,
          1,
          1,
          1,
          1,
          1,
          1,
          1,
          1,
          1,
          1,
          1,
          1,
          1,
          1,
          1,
          1,
          1,
          1,
          1,
          1,
          1,
          1,
          1,
          1,
          1,
          1,
          1,
          1,
          1,
          1,
          1,
          1,
          1
         ],
         "xaxis": "x",
         "yaxis": "y"
        }
       ],
       "layout": {
        "barmode": "group",
        "barnorm": "percent",
        "height": 600,
        "legend": {
         "tracegroupgap": 0
        },
        "margin": {
         "t": 60
        },
        "template": {
         "data": {
          "bar": [
           {
            "error_x": {
             "color": "#2a3f5f"
            },
            "error_y": {
             "color": "#2a3f5f"
            },
            "marker": {
             "line": {
              "color": "#E5ECF6",
              "width": 0.5
             }
            },
            "type": "bar"
           }
          ],
          "barpolar": [
           {
            "marker": {
             "line": {
              "color": "#E5ECF6",
              "width": 0.5
             }
            },
            "type": "barpolar"
           }
          ],
          "carpet": [
           {
            "aaxis": {
             "endlinecolor": "#2a3f5f",
             "gridcolor": "white",
             "linecolor": "white",
             "minorgridcolor": "white",
             "startlinecolor": "#2a3f5f"
            },
            "baxis": {
             "endlinecolor": "#2a3f5f",
             "gridcolor": "white",
             "linecolor": "white",
             "minorgridcolor": "white",
             "startlinecolor": "#2a3f5f"
            },
            "type": "carpet"
           }
          ],
          "choropleth": [
           {
            "colorbar": {
             "outlinewidth": 0,
             "ticks": ""
            },
            "type": "choropleth"
           }
          ],
          "contour": [
           {
            "colorbar": {
             "outlinewidth": 0,
             "ticks": ""
            },
            "colorscale": [
             [
              0,
              "#0d0887"
             ],
             [
              0.1111111111111111,
              "#46039f"
             ],
             [
              0.2222222222222222,
              "#7201a8"
             ],
             [
              0.3333333333333333,
              "#9c179e"
             ],
             [
              0.4444444444444444,
              "#bd3786"
             ],
             [
              0.5555555555555556,
              "#d8576b"
             ],
             [
              0.6666666666666666,
              "#ed7953"
             ],
             [
              0.7777777777777778,
              "#fb9f3a"
             ],
             [
              0.8888888888888888,
              "#fdca26"
             ],
             [
              1,
              "#f0f921"
             ]
            ],
            "type": "contour"
           }
          ],
          "contourcarpet": [
           {
            "colorbar": {
             "outlinewidth": 0,
             "ticks": ""
            },
            "type": "contourcarpet"
           }
          ],
          "heatmap": [
           {
            "colorbar": {
             "outlinewidth": 0,
             "ticks": ""
            },
            "colorscale": [
             [
              0,
              "#0d0887"
             ],
             [
              0.1111111111111111,
              "#46039f"
             ],
             [
              0.2222222222222222,
              "#7201a8"
             ],
             [
              0.3333333333333333,
              "#9c179e"
             ],
             [
              0.4444444444444444,
              "#bd3786"
             ],
             [
              0.5555555555555556,
              "#d8576b"
             ],
             [
              0.6666666666666666,
              "#ed7953"
             ],
             [
              0.7777777777777778,
              "#fb9f3a"
             ],
             [
              0.8888888888888888,
              "#fdca26"
             ],
             [
              1,
              "#f0f921"
             ]
            ],
            "type": "heatmap"
           }
          ],
          "heatmapgl": [
           {
            "colorbar": {
             "outlinewidth": 0,
             "ticks": ""
            },
            "colorscale": [
             [
              0,
              "#0d0887"
             ],
             [
              0.1111111111111111,
              "#46039f"
             ],
             [
              0.2222222222222222,
              "#7201a8"
             ],
             [
              0.3333333333333333,
              "#9c179e"
             ],
             [
              0.4444444444444444,
              "#bd3786"
             ],
             [
              0.5555555555555556,
              "#d8576b"
             ],
             [
              0.6666666666666666,
              "#ed7953"
             ],
             [
              0.7777777777777778,
              "#fb9f3a"
             ],
             [
              0.8888888888888888,
              "#fdca26"
             ],
             [
              1,
              "#f0f921"
             ]
            ],
            "type": "heatmapgl"
           }
          ],
          "histogram": [
           {
            "marker": {
             "colorbar": {
              "outlinewidth": 0,
              "ticks": ""
             }
            },
            "type": "histogram"
           }
          ],
          "histogram2d": [
           {
            "colorbar": {
             "outlinewidth": 0,
             "ticks": ""
            },
            "colorscale": [
             [
              0,
              "#0d0887"
             ],
             [
              0.1111111111111111,
              "#46039f"
             ],
             [
              0.2222222222222222,
              "#7201a8"
             ],
             [
              0.3333333333333333,
              "#9c179e"
             ],
             [
              0.4444444444444444,
              "#bd3786"
             ],
             [
              0.5555555555555556,
              "#d8576b"
             ],
             [
              0.6666666666666666,
              "#ed7953"
             ],
             [
              0.7777777777777778,
              "#fb9f3a"
             ],
             [
              0.8888888888888888,
              "#fdca26"
             ],
             [
              1,
              "#f0f921"
             ]
            ],
            "type": "histogram2d"
           }
          ],
          "histogram2dcontour": [
           {
            "colorbar": {
             "outlinewidth": 0,
             "ticks": ""
            },
            "colorscale": [
             [
              0,
              "#0d0887"
             ],
             [
              0.1111111111111111,
              "#46039f"
             ],
             [
              0.2222222222222222,
              "#7201a8"
             ],
             [
              0.3333333333333333,
              "#9c179e"
             ],
             [
              0.4444444444444444,
              "#bd3786"
             ],
             [
              0.5555555555555556,
              "#d8576b"
             ],
             [
              0.6666666666666666,
              "#ed7953"
             ],
             [
              0.7777777777777778,
              "#fb9f3a"
             ],
             [
              0.8888888888888888,
              "#fdca26"
             ],
             [
              1,
              "#f0f921"
             ]
            ],
            "type": "histogram2dcontour"
           }
          ],
          "mesh3d": [
           {
            "colorbar": {
             "outlinewidth": 0,
             "ticks": ""
            },
            "type": "mesh3d"
           }
          ],
          "parcoords": [
           {
            "line": {
             "colorbar": {
              "outlinewidth": 0,
              "ticks": ""
             }
            },
            "type": "parcoords"
           }
          ],
          "scatter": [
           {
            "marker": {
             "colorbar": {
              "outlinewidth": 0,
              "ticks": ""
             }
            },
            "type": "scatter"
           }
          ],
          "scatter3d": [
           {
            "line": {
             "colorbar": {
              "outlinewidth": 0,
              "ticks": ""
             }
            },
            "marker": {
             "colorbar": {
              "outlinewidth": 0,
              "ticks": ""
             }
            },
            "type": "scatter3d"
           }
          ],
          "scattercarpet": [
           {
            "marker": {
             "colorbar": {
              "outlinewidth": 0,
              "ticks": ""
             }
            },
            "type": "scattercarpet"
           }
          ],
          "scattergeo": [
           {
            "marker": {
             "colorbar": {
              "outlinewidth": 0,
              "ticks": ""
             }
            },
            "type": "scattergeo"
           }
          ],
          "scattergl": [
           {
            "marker": {
             "colorbar": {
              "outlinewidth": 0,
              "ticks": ""
             }
            },
            "type": "scattergl"
           }
          ],
          "scattermapbox": [
           {
            "marker": {
             "colorbar": {
              "outlinewidth": 0,
              "ticks": ""
             }
            },
            "type": "scattermapbox"
           }
          ],
          "scatterpolar": [
           {
            "marker": {
             "colorbar": {
              "outlinewidth": 0,
              "ticks": ""
             }
            },
            "type": "scatterpolar"
           }
          ],
          "scatterpolargl": [
           {
            "marker": {
             "colorbar": {
              "outlinewidth": 0,
              "ticks": ""
             }
            },
            "type": "scatterpolargl"
           }
          ],
          "scatterternary": [
           {
            "marker": {
             "colorbar": {
              "outlinewidth": 0,
              "ticks": ""
             }
            },
            "type": "scatterternary"
           }
          ],
          "surface": [
           {
            "colorbar": {
             "outlinewidth": 0,
             "ticks": ""
            },
            "colorscale": [
             [
              0,
              "#0d0887"
             ],
             [
              0.1111111111111111,
              "#46039f"
             ],
             [
              0.2222222222222222,
              "#7201a8"
             ],
             [
              0.3333333333333333,
              "#9c179e"
             ],
             [
              0.4444444444444444,
              "#bd3786"
             ],
             [
              0.5555555555555556,
              "#d8576b"
             ],
             [
              0.6666666666666666,
              "#ed7953"
             ],
             [
              0.7777777777777778,
              "#fb9f3a"
             ],
             [
              0.8888888888888888,
              "#fdca26"
             ],
             [
              1,
              "#f0f921"
             ]
            ],
            "type": "surface"
           }
          ],
          "table": [
           {
            "cells": {
             "fill": {
              "color": "#EBF0F8"
             },
             "line": {
              "color": "white"
             }
            },
            "header": {
             "fill": {
              "color": "#C8D4E3"
             },
             "line": {
              "color": "white"
             }
            },
            "type": "table"
           }
          ]
         },
         "layout": {
          "annotationdefaults": {
           "arrowcolor": "#2a3f5f",
           "arrowhead": 0,
           "arrowwidth": 1
          },
          "colorscale": {
           "diverging": [
            [
             0,
             "#8e0152"
            ],
            [
             0.1,
             "#c51b7d"
            ],
            [
             0.2,
             "#de77ae"
            ],
            [
             0.3,
             "#f1b6da"
            ],
            [
             0.4,
             "#fde0ef"
            ],
            [
             0.5,
             "#f7f7f7"
            ],
            [
             0.6,
             "#e6f5d0"
            ],
            [
             0.7,
             "#b8e186"
            ],
            [
             0.8,
             "#7fbc41"
            ],
            [
             0.9,
             "#4d9221"
            ],
            [
             1,
             "#276419"
            ]
           ],
           "sequential": [
            [
             0,
             "#0d0887"
            ],
            [
             0.1111111111111111,
             "#46039f"
            ],
            [
             0.2222222222222222,
             "#7201a8"
            ],
            [
             0.3333333333333333,
             "#9c179e"
            ],
            [
             0.4444444444444444,
             "#bd3786"
            ],
            [
             0.5555555555555556,
             "#d8576b"
            ],
            [
             0.6666666666666666,
             "#ed7953"
            ],
            [
             0.7777777777777778,
             "#fb9f3a"
            ],
            [
             0.8888888888888888,
             "#fdca26"
            ],
            [
             1,
             "#f0f921"
            ]
           ],
           "sequentialminus": [
            [
             0,
             "#0d0887"
            ],
            [
             0.1111111111111111,
             "#46039f"
            ],
            [
             0.2222222222222222,
             "#7201a8"
            ],
            [
             0.3333333333333333,
             "#9c179e"
            ],
            [
             0.4444444444444444,
             "#bd3786"
            ],
            [
             0.5555555555555556,
             "#d8576b"
            ],
            [
             0.6666666666666666,
             "#ed7953"
            ],
            [
             0.7777777777777778,
             "#fb9f3a"
            ],
            [
             0.8888888888888888,
             "#fdca26"
            ],
            [
             1,
             "#f0f921"
            ]
           ]
          },
          "colorway": [
           "#636efa",
           "#EF553B",
           "#00cc96",
           "#ab63fa",
           "#FFA15A",
           "#19d3f3",
           "#FF6692",
           "#B6E880",
           "#FF97FF",
           "#FECB52"
          ],
          "font": {
           "color": "#2a3f5f"
          },
          "geo": {
           "bgcolor": "white",
           "lakecolor": "white",
           "landcolor": "#E5ECF6",
           "showlakes": true,
           "showland": true,
           "subunitcolor": "white"
          },
          "hoverlabel": {
           "align": "left"
          },
          "hovermode": "closest",
          "mapbox": {
           "style": "light"
          },
          "paper_bgcolor": "white",
          "plot_bgcolor": "#E5ECF6",
          "polar": {
           "angularaxis": {
            "gridcolor": "white",
            "linecolor": "white",
            "ticks": ""
           },
           "bgcolor": "#E5ECF6",
           "radialaxis": {
            "gridcolor": "white",
            "linecolor": "white",
            "ticks": ""
           }
          },
          "scene": {
           "xaxis": {
            "backgroundcolor": "#E5ECF6",
            "gridcolor": "white",
            "gridwidth": 2,
            "linecolor": "white",
            "showbackground": true,
            "ticks": "",
            "zerolinecolor": "white"
           },
           "yaxis": {
            "backgroundcolor": "#E5ECF6",
            "gridcolor": "white",
            "gridwidth": 2,
            "linecolor": "white",
            "showbackground": true,
            "ticks": "",
            "zerolinecolor": "white"
           },
           "zaxis": {
            "backgroundcolor": "#E5ECF6",
            "gridcolor": "white",
            "gridwidth": 2,
            "linecolor": "white",
            "showbackground": true,
            "ticks": "",
            "zerolinecolor": "white"
           }
          },
          "shapedefaults": {
           "line": {
            "color": "#2a3f5f"
           }
          },
          "ternary": {
           "aaxis": {
            "gridcolor": "white",
            "linecolor": "white",
            "ticks": ""
           },
           "baxis": {
            "gridcolor": "white",
            "linecolor": "white",
            "ticks": ""
           },
           "bgcolor": "#E5ECF6",
           "caxis": {
            "gridcolor": "white",
            "linecolor": "white",
            "ticks": ""
           }
          },
          "title": {
           "x": 0.05
          },
          "xaxis": {
           "automargin": true,
           "gridcolor": "white",
           "linecolor": "white",
           "ticks": "",
           "zerolinecolor": "white",
           "zerolinewidth": 2
          },
          "yaxis": {
           "automargin": true,
           "gridcolor": "white",
           "linecolor": "white",
           "ticks": "",
           "zerolinecolor": "white",
           "zerolinewidth": 2
          }
         }
        },
        "xaxis": {
         "anchor": "y",
         "domain": [
          0,
          0.98
         ],
         "title": {
          "text": "USAAsianPacificIslander"
         }
        },
        "yaxis": {
         "anchor": "x",
         "domain": [
          0,
          1
         ],
         "title": {
          "text": "Percent"
         }
        }
       }
      },
      "text/html": [
       "<div>\n",
       "        \n",
       "        \n",
       "            <div id=\"a71b2129-d145-48d7-90f6-89a0fe8d84f8\" class=\"plotly-graph-div\" style=\"height:600px; width:100%;\"></div>\n",
       "            <script type=\"text/javascript\">\n",
       "                require([\"plotly\"], function(Plotly) {\n",
       "                    window.PLOTLYENV=window.PLOTLYENV || {};\n",
       "                    \n",
       "                if (document.getElementById(\"a71b2129-d145-48d7-90f6-89a0fe8d84f8\")) {\n",
       "                    Plotly.newPlot(\n",
       "                        'a71b2129-d145-48d7-90f6-89a0fe8d84f8',\n",
       "                        [{\"alignmentgroup\": \"True\", \"bingroup\": \"x\", \"hoverlabel\": {\"namelength\": 0}, \"hovertemplate\": \"Voted=1<br>USAAsianPacificIslander=%{x}<br>count=%{y}\", \"legendgroup\": \"Voted=1\", \"marker\": {\"color\": \"#636EFA\"}, \"name\": \"Voted=1\", \"offsetgroup\": \"Voted=1\", \"orientation\": \"v\", \"showlegend\": true, \"type\": \"histogram\", \"x\": [1, 1, 1, 1, 1, 1, 1, 1, 1, 1, 1, 1, 1, 1, 1, 1, 1, 1, 1, 1, 1, 1, 1, 1, 1, 1, 1, 1, 1, 1, 1, 1, 1, 1, 1, 1, 1, 1, 1, 1, 1, 1, 1, 1, 1, 1, 1, 1, 1, 1, 1, 1, 1, 1, 1, 1, 1, 1, 1, 1, 1, 1, 1, 1, 1, 1, 1, 1, 1, 1, 1, 1, 1, 1, 1, 1, 1, 1, 1], \"xaxis\": \"x\", \"yaxis\": \"y\"}, {\"alignmentgroup\": \"True\", \"bingroup\": \"x\", \"hoverlabel\": {\"namelength\": 0}, \"hovertemplate\": \"Voted=0<br>USAAsianPacificIslander=%{x}<br>count=%{y}\", \"legendgroup\": \"Voted=0\", \"marker\": {\"color\": \"#EF553B\"}, \"name\": \"Voted=0\", \"offsetgroup\": \"Voted=0\", \"orientation\": \"v\", \"showlegend\": true, \"type\": \"histogram\", \"x\": [1, 1, 1, 1, 1, 1, 1, 1, 1, 1, 1, 1, 1, 1, 1, 1, 1, 1, 1, 1, 1, 1, 1, 1, 1, 1, 1, 1, 1, 1, 1, 1, 1, 1, 1], \"xaxis\": \"x\", \"yaxis\": \"y\"}],\n",
       "                        {\"barmode\": \"group\", \"barnorm\": \"percent\", \"height\": 600, \"legend\": {\"tracegroupgap\": 0}, \"margin\": {\"t\": 60}, \"template\": {\"data\": {\"bar\": [{\"error_x\": {\"color\": \"#2a3f5f\"}, \"error_y\": {\"color\": \"#2a3f5f\"}, \"marker\": {\"line\": {\"color\": \"#E5ECF6\", \"width\": 0.5}}, \"type\": \"bar\"}], \"barpolar\": [{\"marker\": {\"line\": {\"color\": \"#E5ECF6\", \"width\": 0.5}}, \"type\": \"barpolar\"}], \"carpet\": [{\"aaxis\": {\"endlinecolor\": \"#2a3f5f\", \"gridcolor\": \"white\", \"linecolor\": \"white\", \"minorgridcolor\": \"white\", \"startlinecolor\": \"#2a3f5f\"}, \"baxis\": {\"endlinecolor\": \"#2a3f5f\", \"gridcolor\": \"white\", \"linecolor\": \"white\", \"minorgridcolor\": \"white\", \"startlinecolor\": \"#2a3f5f\"}, \"type\": \"carpet\"}], \"choropleth\": [{\"colorbar\": {\"outlinewidth\": 0, \"ticks\": \"\"}, \"type\": \"choropleth\"}], \"contour\": [{\"colorbar\": {\"outlinewidth\": 0, \"ticks\": \"\"}, \"colorscale\": [[0.0, \"#0d0887\"], [0.1111111111111111, \"#46039f\"], [0.2222222222222222, \"#7201a8\"], [0.3333333333333333, \"#9c179e\"], [0.4444444444444444, \"#bd3786\"], [0.5555555555555556, \"#d8576b\"], [0.6666666666666666, \"#ed7953\"], [0.7777777777777778, \"#fb9f3a\"], [0.8888888888888888, \"#fdca26\"], [1.0, \"#f0f921\"]], \"type\": \"contour\"}], \"contourcarpet\": [{\"colorbar\": {\"outlinewidth\": 0, \"ticks\": \"\"}, \"type\": \"contourcarpet\"}], \"heatmap\": [{\"colorbar\": {\"outlinewidth\": 0, \"ticks\": \"\"}, \"colorscale\": [[0.0, \"#0d0887\"], [0.1111111111111111, \"#46039f\"], [0.2222222222222222, \"#7201a8\"], [0.3333333333333333, \"#9c179e\"], [0.4444444444444444, \"#bd3786\"], [0.5555555555555556, \"#d8576b\"], [0.6666666666666666, \"#ed7953\"], [0.7777777777777778, \"#fb9f3a\"], [0.8888888888888888, \"#fdca26\"], [1.0, \"#f0f921\"]], \"type\": \"heatmap\"}], \"heatmapgl\": [{\"colorbar\": {\"outlinewidth\": 0, \"ticks\": \"\"}, \"colorscale\": [[0.0, \"#0d0887\"], [0.1111111111111111, \"#46039f\"], [0.2222222222222222, \"#7201a8\"], [0.3333333333333333, \"#9c179e\"], [0.4444444444444444, \"#bd3786\"], [0.5555555555555556, \"#d8576b\"], [0.6666666666666666, \"#ed7953\"], [0.7777777777777778, \"#fb9f3a\"], [0.8888888888888888, \"#fdca26\"], [1.0, \"#f0f921\"]], \"type\": \"heatmapgl\"}], \"histogram\": [{\"marker\": {\"colorbar\": {\"outlinewidth\": 0, \"ticks\": \"\"}}, \"type\": \"histogram\"}], \"histogram2d\": [{\"colorbar\": {\"outlinewidth\": 0, \"ticks\": \"\"}, \"colorscale\": [[0.0, \"#0d0887\"], [0.1111111111111111, \"#46039f\"], [0.2222222222222222, \"#7201a8\"], [0.3333333333333333, \"#9c179e\"], [0.4444444444444444, \"#bd3786\"], [0.5555555555555556, \"#d8576b\"], [0.6666666666666666, \"#ed7953\"], [0.7777777777777778, \"#fb9f3a\"], [0.8888888888888888, \"#fdca26\"], [1.0, \"#f0f921\"]], \"type\": \"histogram2d\"}], \"histogram2dcontour\": [{\"colorbar\": {\"outlinewidth\": 0, \"ticks\": \"\"}, \"colorscale\": [[0.0, \"#0d0887\"], [0.1111111111111111, \"#46039f\"], [0.2222222222222222, \"#7201a8\"], [0.3333333333333333, \"#9c179e\"], [0.4444444444444444, \"#bd3786\"], [0.5555555555555556, \"#d8576b\"], [0.6666666666666666, \"#ed7953\"], [0.7777777777777778, \"#fb9f3a\"], [0.8888888888888888, \"#fdca26\"], [1.0, \"#f0f921\"]], \"type\": \"histogram2dcontour\"}], \"mesh3d\": [{\"colorbar\": {\"outlinewidth\": 0, \"ticks\": \"\"}, \"type\": \"mesh3d\"}], \"parcoords\": [{\"line\": {\"colorbar\": {\"outlinewidth\": 0, \"ticks\": \"\"}}, \"type\": \"parcoords\"}], \"scatter\": [{\"marker\": {\"colorbar\": {\"outlinewidth\": 0, \"ticks\": \"\"}}, \"type\": \"scatter\"}], \"scatter3d\": [{\"line\": {\"colorbar\": {\"outlinewidth\": 0, \"ticks\": \"\"}}, \"marker\": {\"colorbar\": {\"outlinewidth\": 0, \"ticks\": \"\"}}, \"type\": \"scatter3d\"}], \"scattercarpet\": [{\"marker\": {\"colorbar\": {\"outlinewidth\": 0, \"ticks\": \"\"}}, \"type\": \"scattercarpet\"}], \"scattergeo\": [{\"marker\": {\"colorbar\": {\"outlinewidth\": 0, \"ticks\": \"\"}}, \"type\": \"scattergeo\"}], \"scattergl\": [{\"marker\": {\"colorbar\": {\"outlinewidth\": 0, \"ticks\": \"\"}}, \"type\": \"scattergl\"}], \"scattermapbox\": [{\"marker\": {\"colorbar\": {\"outlinewidth\": 0, \"ticks\": \"\"}}, \"type\": \"scattermapbox\"}], \"scatterpolar\": [{\"marker\": {\"colorbar\": {\"outlinewidth\": 0, \"ticks\": \"\"}}, \"type\": \"scatterpolar\"}], \"scatterpolargl\": [{\"marker\": {\"colorbar\": {\"outlinewidth\": 0, \"ticks\": \"\"}}, \"type\": \"scatterpolargl\"}], \"scatterternary\": [{\"marker\": {\"colorbar\": {\"outlinewidth\": 0, \"ticks\": \"\"}}, \"type\": \"scatterternary\"}], \"surface\": [{\"colorbar\": {\"outlinewidth\": 0, \"ticks\": \"\"}, \"colorscale\": [[0.0, \"#0d0887\"], [0.1111111111111111, \"#46039f\"], [0.2222222222222222, \"#7201a8\"], [0.3333333333333333, \"#9c179e\"], [0.4444444444444444, \"#bd3786\"], [0.5555555555555556, \"#d8576b\"], [0.6666666666666666, \"#ed7953\"], [0.7777777777777778, \"#fb9f3a\"], [0.8888888888888888, \"#fdca26\"], [1.0, \"#f0f921\"]], \"type\": \"surface\"}], \"table\": [{\"cells\": {\"fill\": {\"color\": \"#EBF0F8\"}, \"line\": {\"color\": \"white\"}}, \"header\": {\"fill\": {\"color\": \"#C8D4E3\"}, \"line\": {\"color\": \"white\"}}, \"type\": \"table\"}]}, \"layout\": {\"annotationdefaults\": {\"arrowcolor\": \"#2a3f5f\", \"arrowhead\": 0, \"arrowwidth\": 1}, \"colorscale\": {\"diverging\": [[0, \"#8e0152\"], [0.1, \"#c51b7d\"], [0.2, \"#de77ae\"], [0.3, \"#f1b6da\"], [0.4, \"#fde0ef\"], [0.5, \"#f7f7f7\"], [0.6, \"#e6f5d0\"], [0.7, \"#b8e186\"], [0.8, \"#7fbc41\"], [0.9, \"#4d9221\"], [1, \"#276419\"]], \"sequential\": [[0.0, \"#0d0887\"], [0.1111111111111111, \"#46039f\"], [0.2222222222222222, \"#7201a8\"], [0.3333333333333333, \"#9c179e\"], [0.4444444444444444, \"#bd3786\"], [0.5555555555555556, \"#d8576b\"], [0.6666666666666666, \"#ed7953\"], [0.7777777777777778, \"#fb9f3a\"], [0.8888888888888888, \"#fdca26\"], [1.0, \"#f0f921\"]], \"sequentialminus\": [[0.0, \"#0d0887\"], [0.1111111111111111, \"#46039f\"], [0.2222222222222222, \"#7201a8\"], [0.3333333333333333, \"#9c179e\"], [0.4444444444444444, \"#bd3786\"], [0.5555555555555556, \"#d8576b\"], [0.6666666666666666, \"#ed7953\"], [0.7777777777777778, \"#fb9f3a\"], [0.8888888888888888, \"#fdca26\"], [1.0, \"#f0f921\"]]}, \"colorway\": [\"#636efa\", \"#EF553B\", \"#00cc96\", \"#ab63fa\", \"#FFA15A\", \"#19d3f3\", \"#FF6692\", \"#B6E880\", \"#FF97FF\", \"#FECB52\"], \"font\": {\"color\": \"#2a3f5f\"}, \"geo\": {\"bgcolor\": \"white\", \"lakecolor\": \"white\", \"landcolor\": \"#E5ECF6\", \"showlakes\": true, \"showland\": true, \"subunitcolor\": \"white\"}, \"hoverlabel\": {\"align\": \"left\"}, \"hovermode\": \"closest\", \"mapbox\": {\"style\": \"light\"}, \"paper_bgcolor\": \"white\", \"plot_bgcolor\": \"#E5ECF6\", \"polar\": {\"angularaxis\": {\"gridcolor\": \"white\", \"linecolor\": \"white\", \"ticks\": \"\"}, \"bgcolor\": \"#E5ECF6\", \"radialaxis\": {\"gridcolor\": \"white\", \"linecolor\": \"white\", \"ticks\": \"\"}}, \"scene\": {\"xaxis\": {\"backgroundcolor\": \"#E5ECF6\", \"gridcolor\": \"white\", \"gridwidth\": 2, \"linecolor\": \"white\", \"showbackground\": true, \"ticks\": \"\", \"zerolinecolor\": \"white\"}, \"yaxis\": {\"backgroundcolor\": \"#E5ECF6\", \"gridcolor\": \"white\", \"gridwidth\": 2, \"linecolor\": \"white\", \"showbackground\": true, \"ticks\": \"\", \"zerolinecolor\": \"white\"}, \"zaxis\": {\"backgroundcolor\": \"#E5ECF6\", \"gridcolor\": \"white\", \"gridwidth\": 2, \"linecolor\": \"white\", \"showbackground\": true, \"ticks\": \"\", \"zerolinecolor\": \"white\"}}, \"shapedefaults\": {\"line\": {\"color\": \"#2a3f5f\"}}, \"ternary\": {\"aaxis\": {\"gridcolor\": \"white\", \"linecolor\": \"white\", \"ticks\": \"\"}, \"baxis\": {\"gridcolor\": \"white\", \"linecolor\": \"white\", \"ticks\": \"\"}, \"bgcolor\": \"#E5ECF6\", \"caxis\": {\"gridcolor\": \"white\", \"linecolor\": \"white\", \"ticks\": \"\"}}, \"title\": {\"x\": 0.05}, \"xaxis\": {\"automargin\": true, \"gridcolor\": \"white\", \"linecolor\": \"white\", \"ticks\": \"\", \"zerolinecolor\": \"white\", \"zerolinewidth\": 2}, \"yaxis\": {\"automargin\": true, \"gridcolor\": \"white\", \"linecolor\": \"white\", \"ticks\": \"\", \"zerolinecolor\": \"white\", \"zerolinewidth\": 2}}}, \"xaxis\": {\"anchor\": \"y\", \"domain\": [0.0, 0.98], \"title\": {\"text\": \"USAAsianPacificIslander\"}}, \"yaxis\": {\"anchor\": \"x\", \"domain\": [0.0, 1.0], \"title\": {\"text\": \"Percent\"}}},\n",
       "                        {\"responsive\": true}\n",
       "                    ).then(function(){\n",
       "                            \n",
       "var gd = document.getElementById('a71b2129-d145-48d7-90f6-89a0fe8d84f8');\n",
       "var x = new MutationObserver(function (mutations, observer) {{\n",
       "        var display = window.getComputedStyle(gd).display;\n",
       "        if (!display || display === 'none') {{\n",
       "            console.log([gd, 'removed!']);\n",
       "            Plotly.purge(gd);\n",
       "            observer.disconnect();\n",
       "        }}\n",
       "}});\n",
       "\n",
       "// Listen for the removal of the full notebook cells\n",
       "var notebookContainer = gd.closest('#notebook-container');\n",
       "if (notebookContainer) {{\n",
       "    x.observe(notebookContainer, {childList: true});\n",
       "}}\n",
       "\n",
       "// Listen for the clearing of the current output cell\n",
       "var outputEl = gd.closest('.output');\n",
       "if (outputEl) {{\n",
       "    x.observe(outputEl, {childList: true});\n",
       "}}\n",
       "\n",
       "                        })\n",
       "                };\n",
       "                });\n",
       "            </script>\n",
       "        </div>"
      ]
     },
     "metadata": {},
     "output_type": "display_data"
    }
   ],
   "source": [
    "ShowTwoWayHeatmap(data,'USAAsianPacificIslander','Voted', normalize=False)\n",
    "\n",
    "fig=px.histogram(data[data['USAAsianPacificIslander']==1], x=\"USAAsianPacificIslander\",color='Voted',color_discrete_map=color_discrete_map,barnorm='percent')\n",
    "fig.update_layout(barmode='group',yaxis_title=\"Percent\")"
   ]
  },
  {
   "cell_type": "code",
   "execution_count": 48,
   "metadata": {},
   "outputs": [
    {
     "data": {
      "image/png": "[encoded data removed]",
      "text/plain": [
       "<Figure size 936x432 with 2 Axes>"
      ]
     },
     "metadata": {
      "needs_background": "light"
     },
     "output_type": "display_data"
    },
    {
     "data": {
      "application/vnd.plotly.v1+json": {
       "config": {
        "plotlyServerURL": "https://plot.ly"
       },
       "data": [
        {
         "alignmentgroup": "True",
         "bingroup": "x",
         "hoverlabel": {
          "namelength": 0
         },
         "hovertemplate": "Voted=0<br>USABlack=%{x}<br>count=%{y}",
         "legendgroup": "Voted=0",
         "marker": {
          "color": "#EF553B"
         },
         "name": "Voted=0",
         "offsetgroup": "Voted=0",
         "orientation": "v",
         "showlegend": true,
         "type": "histogram",
         "x": [
          1,
          1,
          1,
          1,
          1,
          1,
          1,
          1,
          1,
          1,
          1,
          1,
          1,
          1,
          1,
          1,
          1,
          1,
          1,
          1,
          1,
          1,
          1,
          1,
          1,
          1,
          1,
          1,
          1,
          1,
          1,
          1,
          1,
          1,
          1,
          1,
          1,
          1,
          1,
          1,
          1,
          1,
          1,
          1,
          1,
          1,
          1,
          1,
          1,
          1,
          1,
          1
         ],
         "xaxis": "x",
         "yaxis": "y"
        },
        {
         "alignmentgroup": "True",
         "bingroup": "x",
         "hoverlabel": {
          "namelength": 0
         },
         "hovertemplate": "Voted=1<br>USABlack=%{x}<br>count=%{y}",
         "legendgroup": "Voted=1",
         "marker": {
          "color": "#636EFA"
         },
         "name": "Voted=1",
         "offsetgroup": "Voted=1",
         "orientation": "v",
         "showlegend": true,
         "type": "histogram",
         "x": [
          1,
          1,
          1,
          1,
          1,
          1,
          1,
          1,
          1,
          1,
          1,
          1,
          1,
          1,
          1,
          1,
          1,
          1,
          1,
          1,
          1,
          1,
          1,
          1,
          1,
          1,
          1,
          1,
          1,
          1,
          1,
          1,
          1,
          1,
          1,
          1,
          1,
          1,
          1,
          1,
          1,
          1,
          1,
          1,
          1,
          1,
          1,
          1,
          1,
          1,
          1,
          1,
          1,
          1,
          1,
          1,
          1,
          1,
          1,
          1,
          1,
          1,
          1,
          1,
          1,
          1,
          1,
          1,
          1,
          1,
          1,
          1,
          1,
          1,
          1,
          1,
          1,
          1,
          1,
          1,
          1,
          1
         ],
         "xaxis": "x",
         "yaxis": "y"
        }
       ],
       "layout": {
        "barmode": "group",
        "barnorm": "percent",
        "height": 600,
        "legend": {
         "tracegroupgap": 0
        },
        "margin": {
         "t": 60
        },
        "template": {
         "data": {
          "bar": [
           {
            "error_x": {
             "color": "#2a3f5f"
            },
            "error_y": {
             "color": "#2a3f5f"
            },
            "marker": {
             "line": {
              "color": "#E5ECF6",
              "width": 0.5
             }
            },
            "type": "bar"
           }
          ],
          "barpolar": [
           {
            "marker": {
             "line": {
              "color": "#E5ECF6",
              "width": 0.5
             }
            },
            "type": "barpolar"
           }
          ],
          "carpet": [
           {
            "aaxis": {
             "endlinecolor": "#2a3f5f",
             "gridcolor": "white",
             "linecolor": "white",
             "minorgridcolor": "white",
             "startlinecolor": "#2a3f5f"
            },
            "baxis": {
             "endlinecolor": "#2a3f5f",
             "gridcolor": "white",
             "linecolor": "white",
             "minorgridcolor": "white",
             "startlinecolor": "#2a3f5f"
            },
            "type": "carpet"
           }
          ],
          "choropleth": [
           {
            "colorbar": {
             "outlinewidth": 0,
             "ticks": ""
            },
            "type": "choropleth"
           }
          ],
          "contour": [
           {
            "colorbar": {
             "outlinewidth": 0,
             "ticks": ""
            },
            "colorscale": [
             [
              0,
              "#0d0887"
             ],
             [
              0.1111111111111111,
              "#46039f"
             ],
             [
              0.2222222222222222,
              "#7201a8"
             ],
             [
              0.3333333333333333,
              "#9c179e"
             ],
             [
              0.4444444444444444,
              "#bd3786"
             ],
             [
              0.5555555555555556,
              "#d8576b"
             ],
             [
              0.6666666666666666,
              "#ed7953"
             ],
             [
              0.7777777777777778,
              "#fb9f3a"
             ],
             [
              0.8888888888888888,
              "#fdca26"
             ],
             [
              1,
              "#f0f921"
             ]
            ],
            "type": "contour"
           }
          ],
          "contourcarpet": [
           {
            "colorbar": {
             "outlinewidth": 0,
             "ticks": ""
            },
            "type": "contourcarpet"
           }
          ],
          "heatmap": [
           {
            "colorbar": {
             "outlinewidth": 0,
             "ticks": ""
            },
            "colorscale": [
             [
              0,
              "#0d0887"
             ],
             [
              0.1111111111111111,
              "#46039f"
             ],
             [
              0.2222222222222222,
              "#7201a8"
             ],
             [
              0.3333333333333333,
              "#9c179e"
             ],
             [
              0.4444444444444444,
              "#bd3786"
             ],
             [
              0.5555555555555556,
              "#d8576b"
             ],
             [
              0.6666666666666666,
              "#ed7953"
             ],
             [
              0.7777777777777778,
              "#fb9f3a"
             ],
             [
              0.8888888888888888,
              "#fdca26"
             ],
             [
              1,
              "#f0f921"
             ]
            ],
            "type": "heatmap"
           }
          ],
          "heatmapgl": [
           {
            "colorbar": {
             "outlinewidth": 0,
             "ticks": ""
            },
            "colorscale": [
             [
              0,
              "#0d0887"
             ],
             [
              0.1111111111111111,
              "#46039f"
             ],
             [
              0.2222222222222222,
              "#7201a8"
             ],
             [
              0.3333333333333333,
              "#9c179e"
             ],
             [
              0.4444444444444444,
              "#bd3786"
             ],
             [
              0.5555555555555556,
              "#d8576b"
             ],
             [
              0.6666666666666666,
              "#ed7953"
             ],
             [
              0.7777777777777778,
              "#fb9f3a"
             ],
             [
              0.8888888888888888,
              "#fdca26"
             ],
             [
              1,
              "#f0f921"
             ]
            ],
            "type": "heatmapgl"
           }
          ],
          "histogram": [
           {
            "marker": {
             "colorbar": {
              "outlinewidth": 0,
              "ticks": ""
             }
            },
            "type": "histogram"
           }
          ],
          "histogram2d": [
           {
            "colorbar": {
             "outlinewidth": 0,
             "ticks": ""
            },
            "colorscale": [
             [
              0,
              "#0d0887"
             ],
             [
              0.1111111111111111,
              "#46039f"
             ],
             [
              0.2222222222222222,
              "#7201a8"
             ],
             [
              0.3333333333333333,
              "#9c179e"
             ],
             [
              0.4444444444444444,
              "#bd3786"
             ],
             [
              0.5555555555555556,
              "#d8576b"
             ],
             [
              0.6666666666666666,
              "#ed7953"
             ],
             [
              0.7777777777777778,
              "#fb9f3a"
             ],
             [
              0.8888888888888888,
              "#fdca26"
             ],
             [
              1,
              "#f0f921"
             ]
            ],
            "type": "histogram2d"
           }
          ],
          "histogram2dcontour": [
           {
            "colorbar": {
             "outlinewidth": 0,
             "ticks": ""
            },
            "colorscale": [
             [
              0,
              "#0d0887"
             ],
             [
              0.1111111111111111,
              "#46039f"
             ],
             [
              0.2222222222222222,
              "#7201a8"
             ],
             [
              0.3333333333333333,
              "#9c179e"
             ],
             [
              0.4444444444444444,
              "#bd3786"
             ],
             [
              0.5555555555555556,
              "#d8576b"
             ],
             [
              0.6666666666666666,
              "#ed7953"
             ],
             [
              0.7777777777777778,
              "#fb9f3a"
             ],
             [
              0.8888888888888888,
              "#fdca26"
             ],
             [
              1,
              "#f0f921"
             ]
            ],
            "type": "histogram2dcontour"
           }
          ],
          "mesh3d": [
           {
            "colorbar": {
             "outlinewidth": 0,
             "ticks": ""
            },
            "type": "mesh3d"
           }
          ],
          "parcoords": [
           {
            "line": {
             "colorbar": {
              "outlinewidth": 0,
              "ticks": ""
             }
            },
            "type": "parcoords"
           }
          ],
          "scatter": [
           {
            "marker": {
             "colorbar": {
              "outlinewidth": 0,
              "ticks": ""
             }
            },
            "type": "scatter"
           }
          ],
          "scatter3d": [
           {
            "line": {
             "colorbar": {
              "outlinewidth": 0,
              "ticks": ""
             }
            },
            "marker": {
             "colorbar": {
              "outlinewidth": 0,
              "ticks": ""
             }
            },
            "type": "scatter3d"
           }
          ],
          "scattercarpet": [
           {
            "marker": {
             "colorbar": {
              "outlinewidth": 0,
              "ticks": ""
             }
            },
            "type": "scattercarpet"
           }
          ],
          "scattergeo": [
           {
            "marker": {
             "colorbar": {
              "outlinewidth": 0,
              "ticks": ""
             }
            },
            "type": "scattergeo"
           }
          ],
          "scattergl": [
           {
            "marker": {
             "colorbar": {
              "outlinewidth": 0,
              "ticks": ""
             }
            },
            "type": "scattergl"
           }
          ],
          "scattermapbox": [
           {
            "marker": {
             "colorbar": {
              "outlinewidth": 0,
              "ticks": ""
             }
            },
            "type": "scattermapbox"
           }
          ],
          "scatterpolar": [
           {
            "marker": {
             "colorbar": {
              "outlinewidth": 0,
              "ticks": ""
             }
            },
            "type": "scatterpolar"
           }
          ],
          "scatterpolargl": [
           {
            "marker": {
             "colorbar": {
              "outlinewidth": 0,
              "ticks": ""
             }
            },
            "type": "scatterpolargl"
           }
          ],
          "scatterternary": [
           {
            "marker": {
             "colorbar": {
              "outlinewidth": 0,
              "ticks": ""
             }
            },
            "type": "scatterternary"
           }
          ],
          "surface": [
           {
            "colorbar": {
             "outlinewidth": 0,
             "ticks": ""
            },
            "colorscale": [
             [
              0,
              "#0d0887"
             ],
             [
              0.1111111111111111,
              "#46039f"
             ],
             [
              0.2222222222222222,
              "#7201a8"
             ],
             [
              0.3333333333333333,
              "#9c179e"
             ],
             [
              0.4444444444444444,
              "#bd3786"
             ],
             [
              0.5555555555555556,
              "#d8576b"
             ],
             [
              0.6666666666666666,
              "#ed7953"
             ],
             [
              0.7777777777777778,
              "#fb9f3a"
             ],
             [
              0.8888888888888888,
              "#fdca26"
             ],
             [
              1,
              "#f0f921"
             ]
            ],
            "type": "surface"
           }
          ],
          "table": [
           {
            "cells": {
             "fill": {
              "color": "#EBF0F8"
             },
             "line": {
              "color": "white"
             }
            },
            "header": {
             "fill": {
              "color": "#C8D4E3"
             },
             "line": {
              "color": "white"
             }
            },
            "type": "table"
           }
          ]
         },
         "layout": {
          "annotationdefaults": {
           "arrowcolor": "#2a3f5f",
           "arrowhead": 0,
           "arrowwidth": 1
          },
          "colorscale": {
           "diverging": [
            [
             0,
             "#8e0152"
            ],
            [
             0.1,
             "#c51b7d"
            ],
            [
             0.2,
             "#de77ae"
            ],
            [
             0.3,
             "#f1b6da"
            ],
            [
             0.4,
             "#fde0ef"
            ],
            [
             0.5,
             "#f7f7f7"
            ],
            [
             0.6,
             "#e6f5d0"
            ],
            [
             0.7,
             "#b8e186"
            ],
            [
             0.8,
             "#7fbc41"
            ],
            [
             0.9,
             "#4d9221"
            ],
            [
             1,
             "#276419"
            ]
           ],
           "sequential": [
            [
             0,
             "#0d0887"
            ],
            [
             0.1111111111111111,
             "#46039f"
            ],
            [
             0.2222222222222222,
             "#7201a8"
            ],
            [
             0.3333333333333333,
             "#9c179e"
            ],
            [
             0.4444444444444444,
             "#bd3786"
            ],
            [
             0.5555555555555556,
             "#d8576b"
            ],
            [
             0.6666666666666666,
             "#ed7953"
            ],
            [
             0.7777777777777778,
             "#fb9f3a"
            ],
            [
             0.8888888888888888,
             "#fdca26"
            ],
            [
             1,
             "#f0f921"
            ]
           ],
           "sequentialminus": [
            [
             0,
             "#0d0887"
            ],
            [
             0.1111111111111111,
             "#46039f"
            ],
            [
             0.2222222222222222,
             "#7201a8"
            ],
            [
             0.3333333333333333,
             "#9c179e"
            ],
            [
             0.4444444444444444,
             "#bd3786"
            ],
            [
             0.5555555555555556,
             "#d8576b"
            ],
            [
             0.6666666666666666,
             "#ed7953"
            ],
            [
             0.7777777777777778,
             "#fb9f3a"
            ],
            [
             0.8888888888888888,
             "#fdca26"
            ],
            [
             1,
             "#f0f921"
            ]
           ]
          },
          "colorway": [
           "#636efa",
           "#EF553B",
           "#00cc96",
           "#ab63fa",
           "#FFA15A",
           "#19d3f3",
           "#FF6692",
           "#B6E880",
           "#FF97FF",
           "#FECB52"
          ],
          "font": {
           "color": "#2a3f5f"
          },
          "geo": {
           "bgcolor": "white",
           "lakecolor": "white",
           "landcolor": "#E5ECF6",
           "showlakes": true,
           "showland": true,
           "subunitcolor": "white"
          },
          "hoverlabel": {
           "align": "left"
          },
          "hovermode": "closest",
          "mapbox": {
           "style": "light"
          },
          "paper_bgcolor": "white",
          "plot_bgcolor": "#E5ECF6",
          "polar": {
           "angularaxis": {
            "gridcolor": "white",
            "linecolor": "white",
            "ticks": ""
           },
           "bgcolor": "#E5ECF6",
           "radialaxis": {
            "gridcolor": "white",
            "linecolor": "white",
            "ticks": ""
           }
          },
          "scene": {
           "xaxis": {
            "backgroundcolor": "#E5ECF6",
            "gridcolor": "white",
            "gridwidth": 2,
            "linecolor": "white",
            "showbackground": true,
            "ticks": "",
            "zerolinecolor": "white"
           },
           "yaxis": {
            "backgroundcolor": "#E5ECF6",
            "gridcolor": "white",
            "gridwidth": 2,
            "linecolor": "white",
            "showbackground": true,
            "ticks": "",
            "zerolinecolor": "white"
           },
           "zaxis": {
            "backgroundcolor": "#E5ECF6",
            "gridcolor": "white",
            "gridwidth": 2,
            "linecolor": "white",
            "showbackground": true,
            "ticks": "",
            "zerolinecolor": "white"
           }
          },
          "shapedefaults": {
           "line": {
            "color": "#2a3f5f"
           }
          },
          "ternary": {
           "aaxis": {
            "gridcolor": "white",
            "linecolor": "white",
            "ticks": ""
           },
           "baxis": {
            "gridcolor": "white",
            "linecolor": "white",
            "ticks": ""
           },
           "bgcolor": "#E5ECF6",
           "caxis": {
            "gridcolor": "white",
            "linecolor": "white",
            "ticks": ""
           }
          },
          "title": {
           "x": 0.05
          },
          "xaxis": {
           "automargin": true,
           "gridcolor": "white",
           "linecolor": "white",
           "ticks": "",
           "zerolinecolor": "white",
           "zerolinewidth": 2
          },
          "yaxis": {
           "automargin": true,
           "gridcolor": "white",
           "linecolor": "white",
           "ticks": "",
           "zerolinecolor": "white",
           "zerolinewidth": 2
          }
         }
        },
        "xaxis": {
         "anchor": "y",
         "domain": [
          0,
          0.98
         ],
         "title": {
          "text": "USABlack"
         }
        },
        "yaxis": {
         "anchor": "x",
         "domain": [
          0,
          1
         ],
         "title": {
          "text": "Percent"
         }
        }
       }
      },
      "text/html": [
       "<div>\n",
       "        \n",
       "        \n",
       "            <div id=\"afcf63ab-e6fa-4d30-9587-5708468658f3\" class=\"plotly-graph-div\" style=\"height:600px; width:100%;\"></div>\n",
       "            <script type=\"text/javascript\">\n",
       "                require([\"plotly\"], function(Plotly) {\n",
       "                    window.PLOTLYENV=window.PLOTLYENV || {};\n",
       "                    \n",
       "                if (document.getElementById(\"afcf63ab-e6fa-4d30-9587-5708468658f3\")) {\n",
       "                    Plotly.newPlot(\n",
       "                        'afcf63ab-e6fa-4d30-9587-5708468658f3',\n",
       "                        [{\"alignmentgroup\": \"True\", \"bingroup\": \"x\", \"hoverlabel\": {\"namelength\": 0}, \"hovertemplate\": \"Voted=0<br>USABlack=%{x}<br>count=%{y}\", \"legendgroup\": \"Voted=0\", \"marker\": {\"color\": \"#EF553B\"}, \"name\": \"Voted=0\", \"offsetgroup\": \"Voted=0\", \"orientation\": \"v\", \"showlegend\": true, \"type\": \"histogram\", \"x\": [1, 1, 1, 1, 1, 1, 1, 1, 1, 1, 1, 1, 1, 1, 1, 1, 1, 1, 1, 1, 1, 1, 1, 1, 1, 1, 1, 1, 1, 1, 1, 1, 1, 1, 1, 1, 1, 1, 1, 1, 1, 1, 1, 1, 1, 1, 1, 1, 1, 1, 1, 1], \"xaxis\": \"x\", \"yaxis\": \"y\"}, {\"alignmentgroup\": \"True\", \"bingroup\": \"x\", \"hoverlabel\": {\"namelength\": 0}, \"hovertemplate\": \"Voted=1<br>USABlack=%{x}<br>count=%{y}\", \"legendgroup\": \"Voted=1\", \"marker\": {\"color\": \"#636EFA\"}, \"name\": \"Voted=1\", \"offsetgroup\": \"Voted=1\", \"orientation\": \"v\", \"showlegend\": true, \"type\": \"histogram\", \"x\": [1, 1, 1, 1, 1, 1, 1, 1, 1, 1, 1, 1, 1, 1, 1, 1, 1, 1, 1, 1, 1, 1, 1, 1, 1, 1, 1, 1, 1, 1, 1, 1, 1, 1, 1, 1, 1, 1, 1, 1, 1, 1, 1, 1, 1, 1, 1, 1, 1, 1, 1, 1, 1, 1, 1, 1, 1, 1, 1, 1, 1, 1, 1, 1, 1, 1, 1, 1, 1, 1, 1, 1, 1, 1, 1, 1, 1, 1, 1, 1, 1, 1], \"xaxis\": \"x\", \"yaxis\": \"y\"}],\n",
       "                        {\"barmode\": \"group\", \"barnorm\": \"percent\", \"height\": 600, \"legend\": {\"tracegroupgap\": 0}, \"margin\": {\"t\": 60}, \"template\": {\"data\": {\"bar\": [{\"error_x\": {\"color\": \"#2a3f5f\"}, \"error_y\": {\"color\": \"#2a3f5f\"}, \"marker\": {\"line\": {\"color\": \"#E5ECF6\", \"width\": 0.5}}, \"type\": \"bar\"}], \"barpolar\": [{\"marker\": {\"line\": {\"color\": \"#E5ECF6\", \"width\": 0.5}}, \"type\": \"barpolar\"}], \"carpet\": [{\"aaxis\": {\"endlinecolor\": \"#2a3f5f\", \"gridcolor\": \"white\", \"linecolor\": \"white\", \"minorgridcolor\": \"white\", \"startlinecolor\": \"#2a3f5f\"}, \"baxis\": {\"endlinecolor\": \"#2a3f5f\", \"gridcolor\": \"white\", \"linecolor\": \"white\", \"minorgridcolor\": \"white\", \"startlinecolor\": \"#2a3f5f\"}, \"type\": \"carpet\"}], \"choropleth\": [{\"colorbar\": {\"outlinewidth\": 0, \"ticks\": \"\"}, \"type\": \"choropleth\"}], \"contour\": [{\"colorbar\": {\"outlinewidth\": 0, \"ticks\": \"\"}, \"colorscale\": [[0.0, \"#0d0887\"], [0.1111111111111111, \"#46039f\"], [0.2222222222222222, \"#7201a8\"], [0.3333333333333333, \"#9c179e\"], [0.4444444444444444, \"#bd3786\"], [0.5555555555555556, \"#d8576b\"], [0.6666666666666666, \"#ed7953\"], [0.7777777777777778, \"#fb9f3a\"], [0.8888888888888888, \"#fdca26\"], [1.0, \"#f0f921\"]], \"type\": \"contour\"}], \"contourcarpet\": [{\"colorbar\": {\"outlinewidth\": 0, \"ticks\": \"\"}, \"type\": \"contourcarpet\"}], \"heatmap\": [{\"colorbar\": {\"outlinewidth\": 0, \"ticks\": \"\"}, \"colorscale\": [[0.0, \"#0d0887\"], [0.1111111111111111, \"#46039f\"], [0.2222222222222222, \"#7201a8\"], [0.3333333333333333, \"#9c179e\"], [0.4444444444444444, \"#bd3786\"], [0.5555555555555556, \"#d8576b\"], [0.6666666666666666, \"#ed7953\"], [0.7777777777777778, \"#fb9f3a\"], [0.8888888888888888, \"#fdca26\"], [1.0, \"#f0f921\"]], \"type\": \"heatmap\"}], \"heatmapgl\": [{\"colorbar\": {\"outlinewidth\": 0, \"ticks\": \"\"}, \"colorscale\": [[0.0, \"#0d0887\"], [0.1111111111111111, \"#46039f\"], [0.2222222222222222, \"#7201a8\"], [0.3333333333333333, \"#9c179e\"], [0.4444444444444444, \"#bd3786\"], [0.5555555555555556, \"#d8576b\"], [0.6666666666666666, \"#ed7953\"], [0.7777777777777778, \"#fb9f3a\"], [0.8888888888888888, \"#fdca26\"], [1.0, \"#f0f921\"]], \"type\": \"heatmapgl\"}], \"histogram\": [{\"marker\": {\"colorbar\": {\"outlinewidth\": 0, \"ticks\": \"\"}}, \"type\": \"histogram\"}], \"histogram2d\": [{\"colorbar\": {\"outlinewidth\": 0, \"ticks\": \"\"}, \"colorscale\": [[0.0, \"#0d0887\"], [0.1111111111111111, \"#46039f\"], [0.2222222222222222, \"#7201a8\"], [0.3333333333333333, \"#9c179e\"], [0.4444444444444444, \"#bd3786\"], [0.5555555555555556, \"#d8576b\"], [0.6666666666666666, \"#ed7953\"], [0.7777777777777778, \"#fb9f3a\"], [0.8888888888888888, \"#fdca26\"], [1.0, \"#f0f921\"]], \"type\": \"histogram2d\"}], \"histogram2dcontour\": [{\"colorbar\": {\"outlinewidth\": 0, \"ticks\": \"\"}, \"colorscale\": [[0.0, \"#0d0887\"], [0.1111111111111111, \"#46039f\"], [0.2222222222222222, \"#7201a8\"], [0.3333333333333333, \"#9c179e\"], [0.4444444444444444, \"#bd3786\"], [0.5555555555555556, \"#d8576b\"], [0.6666666666666666, \"#ed7953\"], [0.7777777777777778, \"#fb9f3a\"], [0.8888888888888888, \"#fdca26\"], [1.0, \"#f0f921\"]], \"type\": \"histogram2dcontour\"}], \"mesh3d\": [{\"colorbar\": {\"outlinewidth\": 0, \"ticks\": \"\"}, \"type\": \"mesh3d\"}], \"parcoords\": [{\"line\": {\"colorbar\": {\"outlinewidth\": 0, \"ticks\": \"\"}}, \"type\": \"parcoords\"}], \"scatter\": [{\"marker\": {\"colorbar\": {\"outlinewidth\": 0, \"ticks\": \"\"}}, \"type\": \"scatter\"}], \"scatter3d\": [{\"line\": {\"colorbar\": {\"outlinewidth\": 0, \"ticks\": \"\"}}, \"marker\": {\"colorbar\": {\"outlinewidth\": 0, \"ticks\": \"\"}}, \"type\": \"scatter3d\"}], \"scattercarpet\": [{\"marker\": {\"colorbar\": {\"outlinewidth\": 0, \"ticks\": \"\"}}, \"type\": \"scattercarpet\"}], \"scattergeo\": [{\"marker\": {\"colorbar\": {\"outlinewidth\": 0, \"ticks\": \"\"}}, \"type\": \"scattergeo\"}], \"scattergl\": [{\"marker\": {\"colorbar\": {\"outlinewidth\": 0, \"ticks\": \"\"}}, \"type\": \"scattergl\"}], \"scattermapbox\": [{\"marker\": {\"colorbar\": {\"outlinewidth\": 0, \"ticks\": \"\"}}, \"type\": \"scattermapbox\"}], \"scatterpolar\": [{\"marker\": {\"colorbar\": {\"outlinewidth\": 0, \"ticks\": \"\"}}, \"type\": \"scatterpolar\"}], \"scatterpolargl\": [{\"marker\": {\"colorbar\": {\"outlinewidth\": 0, \"ticks\": \"\"}}, \"type\": \"scatterpolargl\"}], \"scatterternary\": [{\"marker\": {\"colorbar\": {\"outlinewidth\": 0, \"ticks\": \"\"}}, \"type\": \"scatterternary\"}], \"surface\": [{\"colorbar\": {\"outlinewidth\": 0, \"ticks\": \"\"}, \"colorscale\": [[0.0, \"#0d0887\"], [0.1111111111111111, \"#46039f\"], [0.2222222222222222, \"#7201a8\"], [0.3333333333333333, \"#9c179e\"], [0.4444444444444444, \"#bd3786\"], [0.5555555555555556, \"#d8576b\"], [0.6666666666666666, \"#ed7953\"], [0.7777777777777778, \"#fb9f3a\"], [0.8888888888888888, \"#fdca26\"], [1.0, \"#f0f921\"]], \"type\": \"surface\"}], \"table\": [{\"cells\": {\"fill\": {\"color\": \"#EBF0F8\"}, \"line\": {\"color\": \"white\"}}, \"header\": {\"fill\": {\"color\": \"#C8D4E3\"}, \"line\": {\"color\": \"white\"}}, \"type\": \"table\"}]}, \"layout\": {\"annotationdefaults\": {\"arrowcolor\": \"#2a3f5f\", \"arrowhead\": 0, \"arrowwidth\": 1}, \"colorscale\": {\"diverging\": [[0, \"#8e0152\"], [0.1, \"#c51b7d\"], [0.2, \"#de77ae\"], [0.3, \"#f1b6da\"], [0.4, \"#fde0ef\"], [0.5, \"#f7f7f7\"], [0.6, \"#e6f5d0\"], [0.7, \"#b8e186\"], [0.8, \"#7fbc41\"], [0.9, \"#4d9221\"], [1, \"#276419\"]], \"sequential\": [[0.0, \"#0d0887\"], [0.1111111111111111, \"#46039f\"], [0.2222222222222222, \"#7201a8\"], [0.3333333333333333, \"#9c179e\"], [0.4444444444444444, \"#bd3786\"], [0.5555555555555556, \"#d8576b\"], [0.6666666666666666, \"#ed7953\"], [0.7777777777777778, \"#fb9f3a\"], [0.8888888888888888, \"#fdca26\"], [1.0, \"#f0f921\"]], \"sequentialminus\": [[0.0, \"#0d0887\"], [0.1111111111111111, \"#46039f\"], [0.2222222222222222, \"#7201a8\"], [0.3333333333333333, \"#9c179e\"], [0.4444444444444444, \"#bd3786\"], [0.5555555555555556, \"#d8576b\"], [0.6666666666666666, \"#ed7953\"], [0.7777777777777778, \"#fb9f3a\"], [0.8888888888888888, \"#fdca26\"], [1.0, \"#f0f921\"]]}, \"colorway\": [\"#636efa\", \"#EF553B\", \"#00cc96\", \"#ab63fa\", \"#FFA15A\", \"#19d3f3\", \"#FF6692\", \"#B6E880\", \"#FF97FF\", \"#FECB52\"], \"font\": {\"color\": \"#2a3f5f\"}, \"geo\": {\"bgcolor\": \"white\", \"lakecolor\": \"white\", \"landcolor\": \"#E5ECF6\", \"showlakes\": true, \"showland\": true, \"subunitcolor\": \"white\"}, \"hoverlabel\": {\"align\": \"left\"}, \"hovermode\": \"closest\", \"mapbox\": {\"style\": \"light\"}, \"paper_bgcolor\": \"white\", \"plot_bgcolor\": \"#E5ECF6\", \"polar\": {\"angularaxis\": {\"gridcolor\": \"white\", \"linecolor\": \"white\", \"ticks\": \"\"}, \"bgcolor\": \"#E5ECF6\", \"radialaxis\": {\"gridcolor\": \"white\", \"linecolor\": \"white\", \"ticks\": \"\"}}, \"scene\": {\"xaxis\": {\"backgroundcolor\": \"#E5ECF6\", \"gridcolor\": \"white\", \"gridwidth\": 2, \"linecolor\": \"white\", \"showbackground\": true, \"ticks\": \"\", \"zerolinecolor\": \"white\"}, \"yaxis\": {\"backgroundcolor\": \"#E5ECF6\", \"gridcolor\": \"white\", \"gridwidth\": 2, \"linecolor\": \"white\", \"showbackground\": true, \"ticks\": \"\", \"zerolinecolor\": \"white\"}, \"zaxis\": {\"backgroundcolor\": \"#E5ECF6\", \"gridcolor\": \"white\", \"gridwidth\": 2, \"linecolor\": \"white\", \"showbackground\": true, \"ticks\": \"\", \"zerolinecolor\": \"white\"}}, \"shapedefaults\": {\"line\": {\"color\": \"#2a3f5f\"}}, \"ternary\": {\"aaxis\": {\"gridcolor\": \"white\", \"linecolor\": \"white\", \"ticks\": \"\"}, \"baxis\": {\"gridcolor\": \"white\", \"linecolor\": \"white\", \"ticks\": \"\"}, \"bgcolor\": \"#E5ECF6\", \"caxis\": {\"gridcolor\": \"white\", \"linecolor\": \"white\", \"ticks\": \"\"}}, \"title\": {\"x\": 0.05}, \"xaxis\": {\"automargin\": true, \"gridcolor\": \"white\", \"linecolor\": \"white\", \"ticks\": \"\", \"zerolinecolor\": \"white\", \"zerolinewidth\": 2}, \"yaxis\": {\"automargin\": true, \"gridcolor\": \"white\", \"linecolor\": \"white\", \"ticks\": \"\", \"zerolinecolor\": \"white\", \"zerolinewidth\": 2}}}, \"xaxis\": {\"anchor\": \"y\", \"domain\": [0.0, 0.98], \"title\": {\"text\": \"USABlack\"}}, \"yaxis\": {\"anchor\": \"x\", \"domain\": [0.0, 1.0], \"title\": {\"text\": \"Percent\"}}},\n",
       "                        {\"responsive\": true}\n",
       "                    ).then(function(){\n",
       "                            \n",
       "var gd = document.getElementById('afcf63ab-e6fa-4d30-9587-5708468658f3');\n",
       "var x = new MutationObserver(function (mutations, observer) {{\n",
       "        var display = window.getComputedStyle(gd).display;\n",
       "        if (!display || display === 'none') {{\n",
       "            console.log([gd, 'removed!']);\n",
       "            Plotly.purge(gd);\n",
       "            observer.disconnect();\n",
       "        }}\n",
       "}});\n",
       "\n",
       "// Listen for the removal of the full notebook cells\n",
       "var notebookContainer = gd.closest('#notebook-container');\n",
       "if (notebookContainer) {{\n",
       "    x.observe(notebookContainer, {childList: true});\n",
       "}}\n",
       "\n",
       "// Listen for the clearing of the current output cell\n",
       "var outputEl = gd.closest('.output');\n",
       "if (outputEl) {{\n",
       "    x.observe(outputEl, {childList: true});\n",
       "}}\n",
       "\n",
       "                        })\n",
       "                };\n",
       "                });\n",
       "            </script>\n",
       "        </div>"
      ]
     },
     "metadata": {},
     "output_type": "display_data"
    }
   ],
   "source": [
    "ShowTwoWayHeatmap(data,'USABlack','Voted', normalize=False)\n",
    "\n",
    "fig=px.histogram(data[data['USABlack']==1], x=\"USABlack\",color='Voted',color_discrete_map=color_discrete_map,barnorm='percent')\n",
    "fig.update_layout(barmode='group',yaxis_title=\"Percent\")"
   ]
  },
  {
   "cell_type": "code",
   "execution_count": 49,
   "metadata": {},
   "outputs": [
    {
     "data": {
      "image/png": "[encoded data removed]",
      "text/plain": [
       "<Figure size 936x432 with 2 Axes>"
      ]
     },
     "metadata": {
      "needs_background": "light"
     },
     "output_type": "display_data"
    },
    {
     "data": {
      "application/vnd.plotly.v1+json": {
       "config": {
        "plotlyServerURL": "https://plot.ly"
       },
       "data": [
        {
         "alignmentgroup": "True",
         "bingroup": "x",
         "hoverlabel": {
          "namelength": 0
         },
         "hovertemplate": "Voted=1<br>USAHispanic=%{x}<br>count=%{y}",
         "legendgroup": "Voted=1",
         "marker": {
          "color": "#636EFA"
         },
         "name": "Voted=1",
         "offsetgroup": "Voted=1",
         "orientation": "v",
         "showlegend": true,
         "type": "histogram",
         "x": [
          1,
          1,
          1,
          1,
          1,
          1,
          1,
          1,
          1,
          1,
          1,
          1,
          1,
          1,
          1,
          1,
          1,
          1,
          1,
          1,
          1,
          1,
          1,
          1,
          1,
          1,
          1,
          1,
          1,
          1,
          1,
          1,
          1,
          1,
          1,
          1,
          1,
          1,
          1,
          1,
          1,
          1,
          1,
          1,
          1,
          1,
          1,
          1,
          1,
          1,
          1,
          1,
          1,
          1,
          1,
          1,
          1,
          1,
          1,
          1,
          1,
          1,
          1,
          1,
          1,
          1,
          1
         ],
         "xaxis": "x",
         "yaxis": "y"
        },
        {
         "alignmentgroup": "True",
         "bingroup": "x",
         "hoverlabel": {
          "namelength": 0
         },
         "hovertemplate": "Voted=0<br>USAHispanic=%{x}<br>count=%{y}",
         "legendgroup": "Voted=0",
         "marker": {
          "color": "#EF553B"
         },
         "name": "Voted=0",
         "offsetgroup": "Voted=0",
         "orientation": "v",
         "showlegend": true,
         "type": "histogram",
         "x": [
          1,
          1,
          1,
          1,
          1,
          1,
          1,
          1,
          1,
          1,
          1,
          1,
          1,
          1,
          1,
          1,
          1,
          1,
          1,
          1,
          1,
          1,
          1,
          1,
          1,
          1,
          1,
          1,
          1,
          1,
          1,
          1,
          1,
          1,
          1,
          1,
          1,
          1,
          1,
          1,
          1,
          1,
          1,
          1,
          1,
          1,
          1,
          1,
          1,
          1,
          1,
          1,
          1,
          1,
          1,
          1,
          1,
          1,
          1,
          1,
          1,
          1,
          1,
          1,
          1,
          1
         ],
         "xaxis": "x",
         "yaxis": "y"
        }
       ],
       "layout": {
        "barmode": "group",
        "barnorm": "percent",
        "height": 600,
        "legend": {
         "tracegroupgap": 0
        },
        "margin": {
         "t": 60
        },
        "template": {
         "data": {
          "bar": [
           {
            "error_x": {
             "color": "#2a3f5f"
            },
            "error_y": {
             "color": "#2a3f5f"
            },
            "marker": {
             "line": {
              "color": "#E5ECF6",
              "width": 0.5
             }
            },
            "type": "bar"
           }
          ],
          "barpolar": [
           {
            "marker": {
             "line": {
              "color": "#E5ECF6",
              "width": 0.5
             }
            },
            "type": "barpolar"
           }
          ],
          "carpet": [
           {
            "aaxis": {
             "endlinecolor": "#2a3f5f",
             "gridcolor": "white",
             "linecolor": "white",
             "minorgridcolor": "white",
             "startlinecolor": "#2a3f5f"
            },
            "baxis": {
             "endlinecolor": "#2a3f5f",
             "gridcolor": "white",
             "linecolor": "white",
             "minorgridcolor": "white",
             "startlinecolor": "#2a3f5f"
            },
            "type": "carpet"
           }
          ],
          "choropleth": [
           {
            "colorbar": {
             "outlinewidth": 0,
             "ticks": ""
            },
            "type": "choropleth"
           }
          ],
          "contour": [
           {
            "colorbar": {
             "outlinewidth": 0,
             "ticks": ""
            },
            "colorscale": [
             [
              0,
              "#0d0887"
             ],
             [
              0.1111111111111111,
              "#46039f"
             ],
             [
              0.2222222222222222,
              "#7201a8"
             ],
             [
              0.3333333333333333,
              "#9c179e"
             ],
             [
              0.4444444444444444,
              "#bd3786"
             ],
             [
              0.5555555555555556,
              "#d8576b"
             ],
             [
              0.6666666666666666,
              "#ed7953"
             ],
             [
              0.7777777777777778,
              "#fb9f3a"
             ],
             [
              0.8888888888888888,
              "#fdca26"
             ],
             [
              1,
              "#f0f921"
             ]
            ],
            "type": "contour"
           }
          ],
          "contourcarpet": [
           {
            "colorbar": {
             "outlinewidth": 0,
             "ticks": ""
            },
            "type": "contourcarpet"
           }
          ],
          "heatmap": [
           {
            "colorbar": {
             "outlinewidth": 0,
             "ticks": ""
            },
            "colorscale": [
             [
              0,
              "#0d0887"
             ],
             [
              0.1111111111111111,
              "#46039f"
             ],
             [
              0.2222222222222222,
              "#7201a8"
             ],
             [
              0.3333333333333333,
              "#9c179e"
             ],
             [
              0.4444444444444444,
              "#bd3786"
             ],
             [
              0.5555555555555556,
              "#d8576b"
             ],
             [
              0.6666666666666666,
              "#ed7953"
             ],
             [
              0.7777777777777778,
              "#fb9f3a"
             ],
             [
              0.8888888888888888,
              "#fdca26"
             ],
             [
              1,
              "#f0f921"
             ]
            ],
            "type": "heatmap"
           }
          ],
          "heatmapgl": [
           {
            "colorbar": {
             "outlinewidth": 0,
             "ticks": ""
            },
            "colorscale": [
             [
              0,
              "#0d0887"
             ],
             [
              0.1111111111111111,
              "#46039f"
             ],
             [
              0.2222222222222222,
              "#7201a8"
             ],
             [
              0.3333333333333333,
              "#9c179e"
             ],
             [
              0.4444444444444444,
              "#bd3786"
             ],
             [
              0.5555555555555556,
              "#d8576b"
             ],
             [
              0.6666666666666666,
              "#ed7953"
             ],
             [
              0.7777777777777778,
              "#fb9f3a"
             ],
             [
              0.8888888888888888,
              "#fdca26"
             ],
             [
              1,
              "#f0f921"
             ]
            ],
            "type": "heatmapgl"
           }
          ],
          "histogram": [
           {
            "marker": {
             "colorbar": {
              "outlinewidth": 0,
              "ticks": ""
             }
            },
            "type": "histogram"
           }
          ],
          "histogram2d": [
           {
            "colorbar": {
             "outlinewidth": 0,
             "ticks": ""
            },
            "colorscale": [
             [
              0,
              "#0d0887"
             ],
             [
              0.1111111111111111,
              "#46039f"
             ],
             [
              0.2222222222222222,
              "#7201a8"
             ],
             [
              0.3333333333333333,
              "#9c179e"
             ],
             [
              0.4444444444444444,
              "#bd3786"
             ],
             [
              0.5555555555555556,
              "#d8576b"
             ],
             [
              0.6666666666666666,
              "#ed7953"
             ],
             [
              0.7777777777777778,
              "#fb9f3a"
             ],
             [
              0.8888888888888888,
              "#fdca26"
             ],
             [
              1,
              "#f0f921"
             ]
            ],
            "type": "histogram2d"
           }
          ],
          "histogram2dcontour": [
           {
            "colorbar": {
             "outlinewidth": 0,
             "ticks": ""
            },
            "colorscale": [
             [
              0,
              "#0d0887"
             ],
             [
              0.1111111111111111,
              "#46039f"
             ],
             [
              0.2222222222222222,
              "#7201a8"
             ],
             [
              0.3333333333333333,
              "#9c179e"
             ],
             [
              0.4444444444444444,
              "#bd3786"
             ],
             [
              0.5555555555555556,
              "#d8576b"
             ],
             [
              0.6666666666666666,
              "#ed7953"
             ],
             [
              0.7777777777777778,
              "#fb9f3a"
             ],
             [
              0.8888888888888888,
              "#fdca26"
             ],
             [
              1,
              "#f0f921"
             ]
            ],
            "type": "histogram2dcontour"
           }
          ],
          "mesh3d": [
           {
            "colorbar": {
             "outlinewidth": 0,
             "ticks": ""
            },
            "type": "mesh3d"
           }
          ],
          "parcoords": [
           {
            "line": {
             "colorbar": {
              "outlinewidth": 0,
              "ticks": ""
             }
            },
            "type": "parcoords"
           }
          ],
          "scatter": [
           {
            "marker": {
             "colorbar": {
              "outlinewidth": 0,
              "ticks": ""
             }
            },
            "type": "scatter"
           }
          ],
          "scatter3d": [
           {
            "line": {
             "colorbar": {
              "outlinewidth": 0,
              "ticks": ""
             }
            },
            "marker": {
             "colorbar": {
              "outlinewidth": 0,
              "ticks": ""
             }
            },
            "type": "scatter3d"
           }
          ],
          "scattercarpet": [
           {
            "marker": {
             "colorbar": {
              "outlinewidth": 0,
              "ticks": ""
             }
            },
            "type": "scattercarpet"
           }
          ],
          "scattergeo": [
           {
            "marker": {
             "colorbar": {
              "outlinewidth": 0,
              "ticks": ""
             }
            },
            "type": "scattergeo"
           }
          ],
          "scattergl": [
           {
            "marker": {
             "colorbar": {
              "outlinewidth": 0,
              "ticks": ""
             }
            },
            "type": "scattergl"
           }
          ],
          "scattermapbox": [
           {
            "marker": {
             "colorbar": {
              "outlinewidth": 0,
              "ticks": ""
             }
            },
            "type": "scattermapbox"
           }
          ],
          "scatterpolar": [
           {
            "marker": {
             "colorbar": {
              "outlinewidth": 0,
              "ticks": ""
             }
            },
            "type": "scatterpolar"
           }
          ],
          "scatterpolargl": [
           {
            "marker": {
             "colorbar": {
              "outlinewidth": 0,
              "ticks": ""
             }
            },
            "type": "scatterpolargl"
           }
          ],
          "scatterternary": [
           {
            "marker": {
             "colorbar": {
              "outlinewidth": 0,
              "ticks": ""
             }
            },
            "type": "scatterternary"
           }
          ],
          "surface": [
           {
            "colorbar": {
             "outlinewidth": 0,
             "ticks": ""
            },
            "colorscale": [
             [
              0,
              "#0d0887"
             ],
             [
              0.1111111111111111,
              "#46039f"
             ],
             [
              0.2222222222222222,
              "#7201a8"
             ],
             [
              0.3333333333333333,
              "#9c179e"
             ],
             [
              0.4444444444444444,
              "#bd3786"
             ],
             [
              0.5555555555555556,
              "#d8576b"
             ],
             [
              0.6666666666666666,
              "#ed7953"
             ],
             [
              0.7777777777777778,
              "#fb9f3a"
             ],
             [
              0.8888888888888888,
              "#fdca26"
             ],
             [
              1,
              "#f0f921"
             ]
            ],
            "type": "surface"
           }
          ],
          "table": [
           {
            "cells": {
             "fill": {
              "color": "#EBF0F8"
             },
             "line": {
              "color": "white"
             }
            },
            "header": {
             "fill": {
              "color": "#C8D4E3"
             },
             "line": {
              "color": "white"
             }
            },
            "type": "table"
           }
          ]
         },
         "layout": {
          "annotationdefaults": {
           "arrowcolor": "#2a3f5f",
           "arrowhead": 0,
           "arrowwidth": 1
          },
          "colorscale": {
           "diverging": [
            [
             0,
             "#8e0152"
            ],
            [
             0.1,
             "#c51b7d"
            ],
            [
             0.2,
             "#de77ae"
            ],
            [
             0.3,
             "#f1b6da"
            ],
            [
             0.4,
             "#fde0ef"
            ],
            [
             0.5,
             "#f7f7f7"
            ],
            [
             0.6,
             "#e6f5d0"
            ],
            [
             0.7,
             "#b8e186"
            ],
            [
             0.8,
             "#7fbc41"
            ],
            [
             0.9,
             "#4d9221"
            ],
            [
             1,
             "#276419"
            ]
           ],
           "sequential": [
            [
             0,
             "#0d0887"
            ],
            [
             0.1111111111111111,
             "#46039f"
            ],
            [
             0.2222222222222222,
             "#7201a8"
            ],
            [
             0.3333333333333333,
             "#9c179e"
            ],
            [
             0.4444444444444444,
             "#bd3786"
            ],
            [
             0.5555555555555556,
             "#d8576b"
            ],
            [
             0.6666666666666666,
             "#ed7953"
            ],
            [
             0.7777777777777778,
             "#fb9f3a"
            ],
            [
             0.8888888888888888,
             "#fdca26"
            ],
            [
             1,
             "#f0f921"
            ]
           ],
           "sequentialminus": [
            [
             0,
             "#0d0887"
            ],
            [
             0.1111111111111111,
             "#46039f"
            ],
            [
             0.2222222222222222,
             "#7201a8"
            ],
            [
             0.3333333333333333,
             "#9c179e"
            ],
            [
             0.4444444444444444,
             "#bd3786"
            ],
            [
             0.5555555555555556,
             "#d8576b"
            ],
            [
             0.6666666666666666,
             "#ed7953"
            ],
            [
             0.7777777777777778,
             "#fb9f3a"
            ],
            [
             0.8888888888888888,
             "#fdca26"
            ],
            [
             1,
             "#f0f921"
            ]
           ]
          },
          "colorway": [
           "#636efa",
           "#EF553B",
           "#00cc96",
           "#ab63fa",
           "#FFA15A",
           "#19d3f3",
           "#FF6692",
           "#B6E880",
           "#FF97FF",
           "#FECB52"
          ],
          "font": {
           "color": "#2a3f5f"
          },
          "geo": {
           "bgcolor": "white",
           "lakecolor": "white",
           "landcolor": "#E5ECF6",
           "showlakes": true,
           "showland": true,
           "subunitcolor": "white"
          },
          "hoverlabel": {
           "align": "left"
          },
          "hovermode": "closest",
          "mapbox": {
           "style": "light"
          },
          "paper_bgcolor": "white",
          "plot_bgcolor": "#E5ECF6",
          "polar": {
           "angularaxis": {
            "gridcolor": "white",
            "linecolor": "white",
            "ticks": ""
           },
           "bgcolor": "#E5ECF6",
           "radialaxis": {
            "gridcolor": "white",
            "linecolor": "white",
            "ticks": ""
           }
          },
          "scene": {
           "xaxis": {
            "backgroundcolor": "#E5ECF6",
            "gridcolor": "white",
            "gridwidth": 2,
            "linecolor": "white",
            "showbackground": true,
            "ticks": "",
            "zerolinecolor": "white"
           },
           "yaxis": {
            "backgroundcolor": "#E5ECF6",
            "gridcolor": "white",
            "gridwidth": 2,
            "linecolor": "white",
            "showbackground": true,
            "ticks": "",
            "zerolinecolor": "white"
           },
           "zaxis": {
            "backgroundcolor": "#E5ECF6",
            "gridcolor": "white",
            "gridwidth": 2,
            "linecolor": "white",
            "showbackground": true,
            "ticks": "",
            "zerolinecolor": "white"
           }
          },
          "shapedefaults": {
           "line": {
            "color": "#2a3f5f"
           }
          },
          "ternary": {
           "aaxis": {
            "gridcolor": "white",
            "linecolor": "white",
            "ticks": ""
           },
           "baxis": {
            "gridcolor": "white",
            "linecolor": "white",
            "ticks": ""
           },
           "bgcolor": "#E5ECF6",
           "caxis": {
            "gridcolor": "white",
            "linecolor": "white",
            "ticks": ""
           }
          },
          "title": {
           "x": 0.05
          },
          "xaxis": {
           "automargin": true,
           "gridcolor": "white",
           "linecolor": "white",
           "ticks": "",
           "zerolinecolor": "white",
           "zerolinewidth": 2
          },
          "yaxis": {
           "automargin": true,
           "gridcolor": "white",
           "linecolor": "white",
           "ticks": "",
           "zerolinecolor": "white",
           "zerolinewidth": 2
          }
         }
        },
        "xaxis": {
         "anchor": "y",
         "domain": [
          0,
          0.98
         ],
         "title": {
          "text": "USAHispanic"
         }
        },
        "yaxis": {
         "anchor": "x",
         "domain": [
          0,
          1
         ],
         "title": {
          "text": "Percent"
         }
        }
       }
      },
      "text/html": [
       "<div>\n",
       "        \n",
       "        \n",
       "            <div id=\"ece2df95-42d6-4c88-9eb5-d2dde88cf9ba\" class=\"plotly-graph-div\" style=\"height:600px; width:100%;\"></div>\n",
       "            <script type=\"text/javascript\">\n",
       "                require([\"plotly\"], function(Plotly) {\n",
       "                    window.PLOTLYENV=window.PLOTLYENV || {};\n",
       "                    \n",
       "                if (document.getElementById(\"ece2df95-42d6-4c88-9eb5-d2dde88cf9ba\")) {\n",
       "                    Plotly.newPlot(\n",
       "                        'ece2df95-42d6-4c88-9eb5-d2dde88cf9ba',\n",
       "                        [{\"alignmentgroup\": \"True\", \"bingroup\": \"x\", \"hoverlabel\": {\"namelength\": 0}, \"hovertemplate\": \"Voted=1<br>USAHispanic=%{x}<br>count=%{y}\", \"legendgroup\": \"Voted=1\", \"marker\": {\"color\": \"#636EFA\"}, \"name\": \"Voted=1\", \"offsetgroup\": \"Voted=1\", \"orientation\": \"v\", \"showlegend\": true, \"type\": \"histogram\", \"x\": [1, 1, 1, 1, 1, 1, 1, 1, 1, 1, 1, 1, 1, 1, 1, 1, 1, 1, 1, 1, 1, 1, 1, 1, 1, 1, 1, 1, 1, 1, 1, 1, 1, 1, 1, 1, 1, 1, 1, 1, 1, 1, 1, 1, 1, 1, 1, 1, 1, 1, 1, 1, 1, 1, 1, 1, 1, 1, 1, 1, 1, 1, 1, 1, 1, 1, 1], \"xaxis\": \"x\", \"yaxis\": \"y\"}, {\"alignmentgroup\": \"True\", \"bingroup\": \"x\", \"hoverlabel\": {\"namelength\": 0}, \"hovertemplate\": \"Voted=0<br>USAHispanic=%{x}<br>count=%{y}\", \"legendgroup\": \"Voted=0\", \"marker\": {\"color\": \"#EF553B\"}, \"name\": \"Voted=0\", \"offsetgroup\": \"Voted=0\", \"orientation\": \"v\", \"showlegend\": true, \"type\": \"histogram\", \"x\": [1, 1, 1, 1, 1, 1, 1, 1, 1, 1, 1, 1, 1, 1, 1, 1, 1, 1, 1, 1, 1, 1, 1, 1, 1, 1, 1, 1, 1, 1, 1, 1, 1, 1, 1, 1, 1, 1, 1, 1, 1, 1, 1, 1, 1, 1, 1, 1, 1, 1, 1, 1, 1, 1, 1, 1, 1, 1, 1, 1, 1, 1, 1, 1, 1, 1], \"xaxis\": \"x\", \"yaxis\": \"y\"}],\n",
       "                        {\"barmode\": \"group\", \"barnorm\": \"percent\", \"height\": 600, \"legend\": {\"tracegroupgap\": 0}, \"margin\": {\"t\": 60}, \"template\": {\"data\": {\"bar\": [{\"error_x\": {\"color\": \"#2a3f5f\"}, \"error_y\": {\"color\": \"#2a3f5f\"}, \"marker\": {\"line\": {\"color\": \"#E5ECF6\", \"width\": 0.5}}, \"type\": \"bar\"}], \"barpolar\": [{\"marker\": {\"line\": {\"color\": \"#E5ECF6\", \"width\": 0.5}}, \"type\": \"barpolar\"}], \"carpet\": [{\"aaxis\": {\"endlinecolor\": \"#2a3f5f\", \"gridcolor\": \"white\", \"linecolor\": \"white\", \"minorgridcolor\": \"white\", \"startlinecolor\": \"#2a3f5f\"}, \"baxis\": {\"endlinecolor\": \"#2a3f5f\", \"gridcolor\": \"white\", \"linecolor\": \"white\", \"minorgridcolor\": \"white\", \"startlinecolor\": \"#2a3f5f\"}, \"type\": \"carpet\"}], \"choropleth\": [{\"colorbar\": {\"outlinewidth\": 0, \"ticks\": \"\"}, \"type\": \"choropleth\"}], \"contour\": [{\"colorbar\": {\"outlinewidth\": 0, \"ticks\": \"\"}, \"colorscale\": [[0.0, \"#0d0887\"], [0.1111111111111111, \"#46039f\"], [0.2222222222222222, \"#7201a8\"], [0.3333333333333333, \"#9c179e\"], [0.4444444444444444, \"#bd3786\"], [0.5555555555555556, \"#d8576b\"], [0.6666666666666666, \"#ed7953\"], [0.7777777777777778, \"#fb9f3a\"], [0.8888888888888888, \"#fdca26\"], [1.0, \"#f0f921\"]], \"type\": \"contour\"}], \"contourcarpet\": [{\"colorbar\": {\"outlinewidth\": 0, \"ticks\": \"\"}, \"type\": \"contourcarpet\"}], \"heatmap\": [{\"colorbar\": {\"outlinewidth\": 0, \"ticks\": \"\"}, \"colorscale\": [[0.0, \"#0d0887\"], [0.1111111111111111, \"#46039f\"], [0.2222222222222222, \"#7201a8\"], [0.3333333333333333, \"#9c179e\"], [0.4444444444444444, \"#bd3786\"], [0.5555555555555556, \"#d8576b\"], [0.6666666666666666, \"#ed7953\"], [0.7777777777777778, \"#fb9f3a\"], [0.8888888888888888, \"#fdca26\"], [1.0, \"#f0f921\"]], \"type\": \"heatmap\"}], \"heatmapgl\": [{\"colorbar\": {\"outlinewidth\": 0, \"ticks\": \"\"}, \"colorscale\": [[0.0, \"#0d0887\"], [0.1111111111111111, \"#46039f\"], [0.2222222222222222, \"#7201a8\"], [0.3333333333333333, \"#9c179e\"], [0.4444444444444444, \"#bd3786\"], [0.5555555555555556, \"#d8576b\"], [0.6666666666666666, \"#ed7953\"], [0.7777777777777778, \"#fb9f3a\"], [0.8888888888888888, \"#fdca26\"], [1.0, \"#f0f921\"]], \"type\": \"heatmapgl\"}], \"histogram\": [{\"marker\": {\"colorbar\": {\"outlinewidth\": 0, \"ticks\": \"\"}}, \"type\": \"histogram\"}], \"histogram2d\": [{\"colorbar\": {\"outlinewidth\": 0, \"ticks\": \"\"}, \"colorscale\": [[0.0, \"#0d0887\"], [0.1111111111111111, \"#46039f\"], [0.2222222222222222, \"#7201a8\"], [0.3333333333333333, \"#9c179e\"], [0.4444444444444444, \"#bd3786\"], [0.5555555555555556, \"#d8576b\"], [0.6666666666666666, \"#ed7953\"], [0.7777777777777778, \"#fb9f3a\"], [0.8888888888888888, \"#fdca26\"], [1.0, \"#f0f921\"]], \"type\": \"histogram2d\"}], \"histogram2dcontour\": [{\"colorbar\": {\"outlinewidth\": 0, \"ticks\": \"\"}, \"colorscale\": [[0.0, \"#0d0887\"], [0.1111111111111111, \"#46039f\"], [0.2222222222222222, \"#7201a8\"], [0.3333333333333333, \"#9c179e\"], [0.4444444444444444, \"#bd3786\"], [0.5555555555555556, \"#d8576b\"], [0.6666666666666666, \"#ed7953\"], [0.7777777777777778, \"#fb9f3a\"], [0.8888888888888888, \"#fdca26\"], [1.0, \"#f0f921\"]], \"type\": \"histogram2dcontour\"}], \"mesh3d\": [{\"colorbar\": {\"outlinewidth\": 0, \"ticks\": \"\"}, \"type\": \"mesh3d\"}], \"parcoords\": [{\"line\": {\"colorbar\": {\"outlinewidth\": 0, \"ticks\": \"\"}}, \"type\": \"parcoords\"}], \"scatter\": [{\"marker\": {\"colorbar\": {\"outlinewidth\": 0, \"ticks\": \"\"}}, \"type\": \"scatter\"}], \"scatter3d\": [{\"line\": {\"colorbar\": {\"outlinewidth\": 0, \"ticks\": \"\"}}, \"marker\": {\"colorbar\": {\"outlinewidth\": 0, \"ticks\": \"\"}}, \"type\": \"scatter3d\"}], \"scattercarpet\": [{\"marker\": {\"colorbar\": {\"outlinewidth\": 0, \"ticks\": \"\"}}, \"type\": \"scattercarpet\"}], \"scattergeo\": [{\"marker\": {\"colorbar\": {\"outlinewidth\": 0, \"ticks\": \"\"}}, \"type\": \"scattergeo\"}], \"scattergl\": [{\"marker\": {\"colorbar\": {\"outlinewidth\": 0, \"ticks\": \"\"}}, \"type\": \"scattergl\"}], \"scattermapbox\": [{\"marker\": {\"colorbar\": {\"outlinewidth\": 0, \"ticks\": \"\"}}, \"type\": \"scattermapbox\"}], \"scatterpolar\": [{\"marker\": {\"colorbar\": {\"outlinewidth\": 0, \"ticks\": \"\"}}, \"type\": \"scatterpolar\"}], \"scatterpolargl\": [{\"marker\": {\"colorbar\": {\"outlinewidth\": 0, \"ticks\": \"\"}}, \"type\": \"scatterpolargl\"}], \"scatterternary\": [{\"marker\": {\"colorbar\": {\"outlinewidth\": 0, \"ticks\": \"\"}}, \"type\": \"scatterternary\"}], \"surface\": [{\"colorbar\": {\"outlinewidth\": 0, \"ticks\": \"\"}, \"colorscale\": [[0.0, \"#0d0887\"], [0.1111111111111111, \"#46039f\"], [0.2222222222222222, \"#7201a8\"], [0.3333333333333333, \"#9c179e\"], [0.4444444444444444, \"#bd3786\"], [0.5555555555555556, \"#d8576b\"], [0.6666666666666666, \"#ed7953\"], [0.7777777777777778, \"#fb9f3a\"], [0.8888888888888888, \"#fdca26\"], [1.0, \"#f0f921\"]], \"type\": \"surface\"}], \"table\": [{\"cells\": {\"fill\": {\"color\": \"#EBF0F8\"}, \"line\": {\"color\": \"white\"}}, \"header\": {\"fill\": {\"color\": \"#C8D4E3\"}, \"line\": {\"color\": \"white\"}}, \"type\": \"table\"}]}, \"layout\": {\"annotationdefaults\": {\"arrowcolor\": \"#2a3f5f\", \"arrowhead\": 0, \"arrowwidth\": 1}, \"colorscale\": {\"diverging\": [[0, \"#8e0152\"], [0.1, \"#c51b7d\"], [0.2, \"#de77ae\"], [0.3, \"#f1b6da\"], [0.4, \"#fde0ef\"], [0.5, \"#f7f7f7\"], [0.6, \"#e6f5d0\"], [0.7, \"#b8e186\"], [0.8, \"#7fbc41\"], [0.9, \"#4d9221\"], [1, \"#276419\"]], \"sequential\": [[0.0, \"#0d0887\"], [0.1111111111111111, \"#46039f\"], [0.2222222222222222, \"#7201a8\"], [0.3333333333333333, \"#9c179e\"], [0.4444444444444444, \"#bd3786\"], [0.5555555555555556, \"#d8576b\"], [0.6666666666666666, \"#ed7953\"], [0.7777777777777778, \"#fb9f3a\"], [0.8888888888888888, \"#fdca26\"], [1.0, \"#f0f921\"]], \"sequentialminus\": [[0.0, \"#0d0887\"], [0.1111111111111111, \"#46039f\"], [0.2222222222222222, \"#7201a8\"], [0.3333333333333333, \"#9c179e\"], [0.4444444444444444, \"#bd3786\"], [0.5555555555555556, \"#d8576b\"], [0.6666666666666666, \"#ed7953\"], [0.7777777777777778, \"#fb9f3a\"], [0.8888888888888888, \"#fdca26\"], [1.0, \"#f0f921\"]]}, \"colorway\": [\"#636efa\", \"#EF553B\", \"#00cc96\", \"#ab63fa\", \"#FFA15A\", \"#19d3f3\", \"#FF6692\", \"#B6E880\", \"#FF97FF\", \"#FECB52\"], \"font\": {\"color\": \"#2a3f5f\"}, \"geo\": {\"bgcolor\": \"white\", \"lakecolor\": \"white\", \"landcolor\": \"#E5ECF6\", \"showlakes\": true, \"showland\": true, \"subunitcolor\": \"white\"}, \"hoverlabel\": {\"align\": \"left\"}, \"hovermode\": \"closest\", \"mapbox\": {\"style\": \"light\"}, \"paper_bgcolor\": \"white\", \"plot_bgcolor\": \"#E5ECF6\", \"polar\": {\"angularaxis\": {\"gridcolor\": \"white\", \"linecolor\": \"white\", \"ticks\": \"\"}, \"bgcolor\": \"#E5ECF6\", \"radialaxis\": {\"gridcolor\": \"white\", \"linecolor\": \"white\", \"ticks\": \"\"}}, \"scene\": {\"xaxis\": {\"backgroundcolor\": \"#E5ECF6\", \"gridcolor\": \"white\", \"gridwidth\": 2, \"linecolor\": \"white\", \"showbackground\": true, \"ticks\": \"\", \"zerolinecolor\": \"white\"}, \"yaxis\": {\"backgroundcolor\": \"#E5ECF6\", \"gridcolor\": \"white\", \"gridwidth\": 2, \"linecolor\": \"white\", \"showbackground\": true, \"ticks\": \"\", \"zerolinecolor\": \"white\"}, \"zaxis\": {\"backgroundcolor\": \"#E5ECF6\", \"gridcolor\": \"white\", \"gridwidth\": 2, \"linecolor\": \"white\", \"showbackground\": true, \"ticks\": \"\", \"zerolinecolor\": \"white\"}}, \"shapedefaults\": {\"line\": {\"color\": \"#2a3f5f\"}}, \"ternary\": {\"aaxis\": {\"gridcolor\": \"white\", \"linecolor\": \"white\", \"ticks\": \"\"}, \"baxis\": {\"gridcolor\": \"white\", \"linecolor\": \"white\", \"ticks\": \"\"}, \"bgcolor\": \"#E5ECF6\", \"caxis\": {\"gridcolor\": \"white\", \"linecolor\": \"white\", \"ticks\": \"\"}}, \"title\": {\"x\": 0.05}, \"xaxis\": {\"automargin\": true, \"gridcolor\": \"white\", \"linecolor\": \"white\", \"ticks\": \"\", \"zerolinecolor\": \"white\", \"zerolinewidth\": 2}, \"yaxis\": {\"automargin\": true, \"gridcolor\": \"white\", \"linecolor\": \"white\", \"ticks\": \"\", \"zerolinecolor\": \"white\", \"zerolinewidth\": 2}}}, \"xaxis\": {\"anchor\": \"y\", \"domain\": [0.0, 0.98], \"title\": {\"text\": \"USAHispanic\"}}, \"yaxis\": {\"anchor\": \"x\", \"domain\": [0.0, 1.0], \"title\": {\"text\": \"Percent\"}}},\n",
       "                        {\"responsive\": true}\n",
       "                    ).then(function(){\n",
       "                            \n",
       "var gd = document.getElementById('ece2df95-42d6-4c88-9eb5-d2dde88cf9ba');\n",
       "var x = new MutationObserver(function (mutations, observer) {{\n",
       "        var display = window.getComputedStyle(gd).display;\n",
       "        if (!display || display === 'none') {{\n",
       "            console.log([gd, 'removed!']);\n",
       "            Plotly.purge(gd);\n",
       "            observer.disconnect();\n",
       "        }}\n",
       "}});\n",
       "\n",
       "// Listen for the removal of the full notebook cells\n",
       "var notebookContainer = gd.closest('#notebook-container');\n",
       "if (notebookContainer) {{\n",
       "    x.observe(notebookContainer, {childList: true});\n",
       "}}\n",
       "\n",
       "// Listen for the clearing of the current output cell\n",
       "var outputEl = gd.closest('.output');\n",
       "if (outputEl) {{\n",
       "    x.observe(outputEl, {childList: true});\n",
       "}}\n",
       "\n",
       "                        })\n",
       "                };\n",
       "                });\n",
       "            </script>\n",
       "        </div>"
      ]
     },
     "metadata": {},
     "output_type": "display_data"
    }
   ],
   "source": [
    "ShowTwoWayHeatmap(data,'USAHispanic','Voted', normalize=False)\n",
    "\n",
    "fig=px.histogram(data[data['USAHispanic']==1], x=\"USAHispanic\",color='Voted',color_discrete_map=color_discrete_map,barnorm='percent')\n",
    "fig.update_layout(barmode='group',yaxis_title=\"Percent\")"
   ]
  },
  {
   "cell_type": "code",
   "execution_count": 50,
   "metadata": {},
   "outputs": [
    {
     "data": {
      "image/png": "[encoded data removed]",
      "text/plain": [
       "<Figure size 936x432 with 2 Axes>"
      ]
     },
     "metadata": {
      "needs_background": "light"
     },
     "output_type": "display_data"
    },
    {
     "data": {
      "application/vnd.plotly.v1+json": {
       "config": {
        "plotlyServerURL": "https://plot.ly"
       },
       "data": [
        {
         "alignmentgroup": "True",
         "bingroup": "x",
         "hoverlabel": {
          "namelength": 0
         },
         "hovertemplate": "Voted=1<br>USALatino=%{x}<br>count=%{y}",
         "legendgroup": "Voted=1",
         "marker": {
          "color": "#636EFA"
         },
         "name": "Voted=1",
         "offsetgroup": "Voted=1",
         "orientation": "v",
         "showlegend": true,
         "type": "histogram",
         "x": [
          1,
          1,
          1,
          1,
          1,
          1,
          1,
          1,
          1,
          1,
          1,
          1,
          1,
          1,
          1,
          1,
          1,
          1
         ],
         "xaxis": "x",
         "yaxis": "y"
        },
        {
         "alignmentgroup": "True",
         "bingroup": "x",
         "hoverlabel": {
          "namelength": 0
         },
         "hovertemplate": "Voted=0<br>USALatino=%{x}<br>count=%{y}",
         "legendgroup": "Voted=0",
         "marker": {
          "color": "#EF553B"
         },
         "name": "Voted=0",
         "offsetgroup": "Voted=0",
         "orientation": "v",
         "showlegend": true,
         "type": "histogram",
         "x": [
          1,
          1,
          1,
          1,
          1,
          1,
          1,
          1,
          1,
          1,
          1
         ],
         "xaxis": "x",
         "yaxis": "y"
        }
       ],
       "layout": {
        "barmode": "group",
        "barnorm": "percent",
        "height": 600,
        "legend": {
         "tracegroupgap": 0
        },
        "margin": {
         "t": 60
        },
        "template": {
         "data": {
          "bar": [
           {
            "error_x": {
             "color": "#2a3f5f"
            },
            "error_y": {
             "color": "#2a3f5f"
            },
            "marker": {
             "line": {
              "color": "#E5ECF6",
              "width": 0.5
             }
            },
            "type": "bar"
           }
          ],
          "barpolar": [
           {
            "marker": {
             "line": {
              "color": "#E5ECF6",
              "width": 0.5
             }
            },
            "type": "barpolar"
           }
          ],
          "carpet": [
           {
            "aaxis": {
             "endlinecolor": "#2a3f5f",
             "gridcolor": "white",
             "linecolor": "white",
             "minorgridcolor": "white",
             "startlinecolor": "#2a3f5f"
            },
            "baxis": {
             "endlinecolor": "#2a3f5f",
             "gridcolor": "white",
             "linecolor": "white",
             "minorgridcolor": "white",
             "startlinecolor": "#2a3f5f"
            },
            "type": "carpet"
           }
          ],
          "choropleth": [
           {
            "colorbar": {
             "outlinewidth": 0,
             "ticks": ""
            },
            "type": "choropleth"
           }
          ],
          "contour": [
           {
            "colorbar": {
             "outlinewidth": 0,
             "ticks": ""
            },
            "colorscale": [
             [
              0,
              "#0d0887"
             ],
             [
              0.1111111111111111,
              "#46039f"
             ],
             [
              0.2222222222222222,
              "#7201a8"
             ],
             [
              0.3333333333333333,
              "#9c179e"
             ],
             [
              0.4444444444444444,
              "#bd3786"
             ],
             [
              0.5555555555555556,
              "#d8576b"
             ],
             [
              0.6666666666666666,
              "#ed7953"
             ],
             [
              0.7777777777777778,
              "#fb9f3a"
             ],
             [
              0.8888888888888888,
              "#fdca26"
             ],
             [
              1,
              "#f0f921"
             ]
            ],
            "type": "contour"
           }
          ],
          "contourcarpet": [
           {
            "colorbar": {
             "outlinewidth": 0,
             "ticks": ""
            },
            "type": "contourcarpet"
           }
          ],
          "heatmap": [
           {
            "colorbar": {
             "outlinewidth": 0,
             "ticks": ""
            },
            "colorscale": [
             [
              0,
              "#0d0887"
             ],
             [
              0.1111111111111111,
              "#46039f"
             ],
             [
              0.2222222222222222,
              "#7201a8"
             ],
             [
              0.3333333333333333,
              "#9c179e"
             ],
             [
              0.4444444444444444,
              "#bd3786"
             ],
             [
              0.5555555555555556,
              "#d8576b"
             ],
             [
              0.6666666666666666,
              "#ed7953"
             ],
             [
              0.7777777777777778,
              "#fb9f3a"
             ],
             [
              0.8888888888888888,
              "#fdca26"
             ],
             [
              1,
              "#f0f921"
             ]
            ],
            "type": "heatmap"
           }
          ],
          "heatmapgl": [
           {
            "colorbar": {
             "outlinewidth": 0,
             "ticks": ""
            },
            "colorscale": [
             [
              0,
              "#0d0887"
             ],
             [
              0.1111111111111111,
              "#46039f"
             ],
             [
              0.2222222222222222,
              "#7201a8"
             ],
             [
              0.3333333333333333,
              "#9c179e"
             ],
             [
              0.4444444444444444,
              "#bd3786"
             ],
             [
              0.5555555555555556,
              "#d8576b"
             ],
             [
              0.6666666666666666,
              "#ed7953"
             ],
             [
              0.7777777777777778,
              "#fb9f3a"
             ],
             [
              0.8888888888888888,
              "#fdca26"
             ],
             [
              1,
              "#f0f921"
             ]
            ],
            "type": "heatmapgl"
           }
          ],
          "histogram": [
           {
            "marker": {
             "colorbar": {
              "outlinewidth": 0,
              "ticks": ""
             }
            },
            "type": "histogram"
           }
          ],
          "histogram2d": [
           {
            "colorbar": {
             "outlinewidth": 0,
             "ticks": ""
            },
            "colorscale": [
             [
              0,
              "#0d0887"
             ],
             [
              0.1111111111111111,
              "#46039f"
             ],
             [
              0.2222222222222222,
              "#7201a8"
             ],
             [
              0.3333333333333333,
              "#9c179e"
             ],
             [
              0.4444444444444444,
              "#bd3786"
             ],
             [
              0.5555555555555556,
              "#d8576b"
             ],
             [
              0.6666666666666666,
              "#ed7953"
             ],
             [
              0.7777777777777778,
              "#fb9f3a"
             ],
             [
              0.8888888888888888,
              "#fdca26"
             ],
             [
              1,
              "#f0f921"
             ]
            ],
            "type": "histogram2d"
           }
          ],
          "histogram2dcontour": [
           {
            "colorbar": {
             "outlinewidth": 0,
             "ticks": ""
            },
            "colorscale": [
             [
              0,
              "#0d0887"
             ],
             [
              0.1111111111111111,
              "#46039f"
             ],
             [
              0.2222222222222222,
              "#7201a8"
             ],
             [
              0.3333333333333333,
              "#9c179e"
             ],
             [
              0.4444444444444444,
              "#bd3786"
             ],
             [
              0.5555555555555556,
              "#d8576b"
             ],
             [
              0.6666666666666666,
              "#ed7953"
             ],
             [
              0.7777777777777778,
              "#fb9f3a"
             ],
             [
              0.8888888888888888,
              "#fdca26"
             ],
             [
              1,
              "#f0f921"
             ]
            ],
            "type": "histogram2dcontour"
           }
          ],
          "mesh3d": [
           {
            "colorbar": {
             "outlinewidth": 0,
             "ticks": ""
            },
            "type": "mesh3d"
           }
          ],
          "parcoords": [
           {
            "line": {
             "colorbar": {
              "outlinewidth": 0,
              "ticks": ""
             }
            },
            "type": "parcoords"
           }
          ],
          "scatter": [
           {
            "marker": {
             "colorbar": {
              "outlinewidth": 0,
              "ticks": ""
             }
            },
            "type": "scatter"
           }
          ],
          "scatter3d": [
           {
            "line": {
             "colorbar": {
              "outlinewidth": 0,
              "ticks": ""
             }
            },
            "marker": {
             "colorbar": {
              "outlinewidth": 0,
              "ticks": ""
             }
            },
            "type": "scatter3d"
           }
          ],
          "scattercarpet": [
           {
            "marker": {
             "colorbar": {
              "outlinewidth": 0,
              "ticks": ""
             }
            },
            "type": "scattercarpet"
           }
          ],
          "scattergeo": [
           {
            "marker": {
             "colorbar": {
              "outlinewidth": 0,
              "ticks": ""
             }
            },
            "type": "scattergeo"
           }
          ],
          "scattergl": [
           {
            "marker": {
             "colorbar": {
              "outlinewidth": 0,
              "ticks": ""
             }
            },
            "type": "scattergl"
           }
          ],
          "scattermapbox": [
           {
            "marker": {
             "colorbar": {
              "outlinewidth": 0,
              "ticks": ""
             }
            },
            "type": "scattermapbox"
           }
          ],
          "scatterpolar": [
           {
            "marker": {
             "colorbar": {
              "outlinewidth": 0,
              "ticks": ""
             }
            },
            "type": "scatterpolar"
           }
          ],
          "scatterpolargl": [
           {
            "marker": {
             "colorbar": {
              "outlinewidth": 0,
              "ticks": ""
             }
            },
            "type": "scatterpolargl"
           }
          ],
          "scatterternary": [
           {
            "marker": {
             "colorbar": {
              "outlinewidth": 0,
              "ticks": ""
             }
            },
            "type": "scatterternary"
           }
          ],
          "surface": [
           {
            "colorbar": {
             "outlinewidth": 0,
             "ticks": ""
            },
            "colorscale": [
             [
              0,
              "#0d0887"
             ],
             [
              0.1111111111111111,
              "#46039f"
             ],
             [
              0.2222222222222222,
              "#7201a8"
             ],
             [
              0.3333333333333333,
              "#9c179e"
             ],
             [
              0.4444444444444444,
              "#bd3786"
             ],
             [
              0.5555555555555556,
              "#d8576b"
             ],
             [
              0.6666666666666666,
              "#ed7953"
             ],
             [
              0.7777777777777778,
              "#fb9f3a"
             ],
             [
              0.8888888888888888,
              "#fdca26"
             ],
             [
              1,
              "#f0f921"
             ]
            ],
            "type": "surface"
           }
          ],
          "table": [
           {
            "cells": {
             "fill": {
              "color": "#EBF0F8"
             },
             "line": {
              "color": "white"
             }
            },
            "header": {
             "fill": {
              "color": "#C8D4E3"
             },
             "line": {
              "color": "white"
             }
            },
            "type": "table"
           }
          ]
         },
         "layout": {
          "annotationdefaults": {
           "arrowcolor": "#2a3f5f",
           "arrowhead": 0,
           "arrowwidth": 1
          },
          "colorscale": {
           "diverging": [
            [
             0,
             "#8e0152"
            ],
            [
             0.1,
             "#c51b7d"
            ],
            [
             0.2,
             "#de77ae"
            ],
            [
             0.3,
             "#f1b6da"
            ],
            [
             0.4,
             "#fde0ef"
            ],
            [
             0.5,
             "#f7f7f7"
            ],
            [
             0.6,
             "#e6f5d0"
            ],
            [
             0.7,
             "#b8e186"
            ],
            [
             0.8,
             "#7fbc41"
            ],
            [
             0.9,
             "#4d9221"
            ],
            [
             1,
             "#276419"
            ]
           ],
           "sequential": [
            [
             0,
             "#0d0887"
            ],
            [
             0.1111111111111111,
             "#46039f"
            ],
            [
             0.2222222222222222,
             "#7201a8"
            ],
            [
             0.3333333333333333,
             "#9c179e"
            ],
            [
             0.4444444444444444,
             "#bd3786"
            ],
            [
             0.5555555555555556,
             "#d8576b"
            ],
            [
             0.6666666666666666,
             "#ed7953"
            ],
            [
             0.7777777777777778,
             "#fb9f3a"
            ],
            [
             0.8888888888888888,
             "#fdca26"
            ],
            [
             1,
             "#f0f921"
            ]
           ],
           "sequentialminus": [
            [
             0,
             "#0d0887"
            ],
            [
             0.1111111111111111,
             "#46039f"
            ],
            [
             0.2222222222222222,
             "#7201a8"
            ],
            [
             0.3333333333333333,
             "#9c179e"
            ],
            [
             0.4444444444444444,
             "#bd3786"
            ],
            [
             0.5555555555555556,
             "#d8576b"
            ],
            [
             0.6666666666666666,
             "#ed7953"
            ],
            [
             0.7777777777777778,
             "#fb9f3a"
            ],
            [
             0.8888888888888888,
             "#fdca26"
            ],
            [
             1,
             "#f0f921"
            ]
           ]
          },
          "colorway": [
           "#636efa",
           "#EF553B",
           "#00cc96",
           "#ab63fa",
           "#FFA15A",
           "#19d3f3",
           "#FF6692",
           "#B6E880",
           "#FF97FF",
           "#FECB52"
          ],
          "font": {
           "color": "#2a3f5f"
          },
          "geo": {
           "bgcolor": "white",
           "lakecolor": "white",
           "landcolor": "#E5ECF6",
           "showlakes": true,
           "showland": true,
           "subunitcolor": "white"
          },
          "hoverlabel": {
           "align": "left"
          },
          "hovermode": "closest",
          "mapbox": {
           "style": "light"
          },
          "paper_bgcolor": "white",
          "plot_bgcolor": "#E5ECF6",
          "polar": {
           "angularaxis": {
            "gridcolor": "white",
            "linecolor": "white",
            "ticks": ""
           },
           "bgcolor": "#E5ECF6",
           "radialaxis": {
            "gridcolor": "white",
            "linecolor": "white",
            "ticks": ""
           }
          },
          "scene": {
           "xaxis": {
            "backgroundcolor": "#E5ECF6",
            "gridcolor": "white",
            "gridwidth": 2,
            "linecolor": "white",
            "showbackground": true,
            "ticks": "",
            "zerolinecolor": "white"
           },
           "yaxis": {
            "backgroundcolor": "#E5ECF6",
            "gridcolor": "white",
            "gridwidth": 2,
            "linecolor": "white",
            "showbackground": true,
            "ticks": "",
            "zerolinecolor": "white"
           },
           "zaxis": {
            "backgroundcolor": "#E5ECF6",
            "gridcolor": "white",
            "gridwidth": 2,
            "linecolor": "white",
            "showbackground": true,
            "ticks": "",
            "zerolinecolor": "white"
           }
          },
          "shapedefaults": {
           "line": {
            "color": "#2a3f5f"
           }
          },
          "ternary": {
           "aaxis": {
            "gridcolor": "white",
            "linecolor": "white",
            "ticks": ""
           },
           "baxis": {
            "gridcolor": "white",
            "linecolor": "white",
            "ticks": ""
           },
           "bgcolor": "#E5ECF6",
           "caxis": {
            "gridcolor": "white",
            "linecolor": "white",
            "ticks": ""
           }
          },
          "title": {
           "x": 0.05
          },
          "xaxis": {
           "automargin": true,
           "gridcolor": "white",
           "linecolor": "white",
           "ticks": "",
           "zerolinecolor": "white",
           "zerolinewidth": 2
          },
          "yaxis": {
           "automargin": true,
           "gridcolor": "white",
           "linecolor": "white",
           "ticks": "",
           "zerolinecolor": "white",
           "zerolinewidth": 2
          }
         }
        },
        "xaxis": {
         "anchor": "y",
         "domain": [
          0,
          0.98
         ],
         "title": {
          "text": "USALatino"
         }
        },
        "yaxis": {
         "anchor": "x",
         "domain": [
          0,
          1
         ],
         "title": {
          "text": "Percent"
         }
        }
       }
      },
      "text/html": [
       "<div>\n",
       "        \n",
       "        \n",
       "            <div id=\"ead207f1-3071-4fe7-adb0-751cdbb92470\" class=\"plotly-graph-div\" style=\"height:600px; width:100%;\"></div>\n",
       "            <script type=\"text/javascript\">\n",
       "                require([\"plotly\"], function(Plotly) {\n",
       "                    window.PLOTLYENV=window.PLOTLYENV || {};\n",
       "                    \n",
       "                if (document.getElementById(\"ead207f1-3071-4fe7-adb0-751cdbb92470\")) {\n",
       "                    Plotly.newPlot(\n",
       "                        'ead207f1-3071-4fe7-adb0-751cdbb92470',\n",
       "                        [{\"alignmentgroup\": \"True\", \"bingroup\": \"x\", \"hoverlabel\": {\"namelength\": 0}, \"hovertemplate\": \"Voted=1<br>USALatino=%{x}<br>count=%{y}\", \"legendgroup\": \"Voted=1\", \"marker\": {\"color\": \"#636EFA\"}, \"name\": \"Voted=1\", \"offsetgroup\": \"Voted=1\", \"orientation\": \"v\", \"showlegend\": true, \"type\": \"histogram\", \"x\": [1, 1, 1, 1, 1, 1, 1, 1, 1, 1, 1, 1, 1, 1, 1, 1, 1, 1], \"xaxis\": \"x\", \"yaxis\": \"y\"}, {\"alignmentgroup\": \"True\", \"bingroup\": \"x\", \"hoverlabel\": {\"namelength\": 0}, \"hovertemplate\": \"Voted=0<br>USALatino=%{x}<br>count=%{y}\", \"legendgroup\": \"Voted=0\", \"marker\": {\"color\": \"#EF553B\"}, \"name\": \"Voted=0\", \"offsetgroup\": \"Voted=0\", \"orientation\": \"v\", \"showlegend\": true, \"type\": \"histogram\", \"x\": [1, 1, 1, 1, 1, 1, 1, 1, 1, 1, 1], \"xaxis\": \"x\", \"yaxis\": \"y\"}],\n",
       "                        {\"barmode\": \"group\", \"barnorm\": \"percent\", \"height\": 600, \"legend\": {\"tracegroupgap\": 0}, \"margin\": {\"t\": 60}, \"template\": {\"data\": {\"bar\": [{\"error_x\": {\"color\": \"#2a3f5f\"}, \"error_y\": {\"color\": \"#2a3f5f\"}, \"marker\": {\"line\": {\"color\": \"#E5ECF6\", \"width\": 0.5}}, \"type\": \"bar\"}], \"barpolar\": [{\"marker\": {\"line\": {\"color\": \"#E5ECF6\", \"width\": 0.5}}, \"type\": \"barpolar\"}], \"carpet\": [{\"aaxis\": {\"endlinecolor\": \"#2a3f5f\", \"gridcolor\": \"white\", \"linecolor\": \"white\", \"minorgridcolor\": \"white\", \"startlinecolor\": \"#2a3f5f\"}, \"baxis\": {\"endlinecolor\": \"#2a3f5f\", \"gridcolor\": \"white\", \"linecolor\": \"white\", \"minorgridcolor\": \"white\", \"startlinecolor\": \"#2a3f5f\"}, \"type\": \"carpet\"}], \"choropleth\": [{\"colorbar\": {\"outlinewidth\": 0, \"ticks\": \"\"}, \"type\": \"choropleth\"}], \"contour\": [{\"colorbar\": {\"outlinewidth\": 0, \"ticks\": \"\"}, \"colorscale\": [[0.0, \"#0d0887\"], [0.1111111111111111, \"#46039f\"], [0.2222222222222222, \"#7201a8\"], [0.3333333333333333, \"#9c179e\"], [0.4444444444444444, \"#bd3786\"], [0.5555555555555556, \"#d8576b\"], [0.6666666666666666, \"#ed7953\"], [0.7777777777777778, \"#fb9f3a\"], [0.8888888888888888, \"#fdca26\"], [1.0, \"#f0f921\"]], \"type\": \"contour\"}], \"contourcarpet\": [{\"colorbar\": {\"outlinewidth\": 0, \"ticks\": \"\"}, \"type\": \"contourcarpet\"}], \"heatmap\": [{\"colorbar\": {\"outlinewidth\": 0, \"ticks\": \"\"}, \"colorscale\": [[0.0, \"#0d0887\"], [0.1111111111111111, \"#46039f\"], [0.2222222222222222, \"#7201a8\"], [0.3333333333333333, \"#9c179e\"], [0.4444444444444444, \"#bd3786\"], [0.5555555555555556, \"#d8576b\"], [0.6666666666666666, \"#ed7953\"], [0.7777777777777778, \"#fb9f3a\"], [0.8888888888888888, \"#fdca26\"], [1.0, \"#f0f921\"]], \"type\": \"heatmap\"}], \"heatmapgl\": [{\"colorbar\": {\"outlinewidth\": 0, \"ticks\": \"\"}, \"colorscale\": [[0.0, \"#0d0887\"], [0.1111111111111111, \"#46039f\"], [0.2222222222222222, \"#7201a8\"], [0.3333333333333333, \"#9c179e\"], [0.4444444444444444, \"#bd3786\"], [0.5555555555555556, \"#d8576b\"], [0.6666666666666666, \"#ed7953\"], [0.7777777777777778, \"#fb9f3a\"], [0.8888888888888888, \"#fdca26\"], [1.0, \"#f0f921\"]], \"type\": \"heatmapgl\"}], \"histogram\": [{\"marker\": {\"colorbar\": {\"outlinewidth\": 0, \"ticks\": \"\"}}, \"type\": \"histogram\"}], \"histogram2d\": [{\"colorbar\": {\"outlinewidth\": 0, \"ticks\": \"\"}, \"colorscale\": [[0.0, \"#0d0887\"], [0.1111111111111111, \"#46039f\"], [0.2222222222222222, \"#7201a8\"], [0.3333333333333333, \"#9c179e\"], [0.4444444444444444, \"#bd3786\"], [0.5555555555555556, \"#d8576b\"], [0.6666666666666666, \"#ed7953\"], [0.7777777777777778, \"#fb9f3a\"], [0.8888888888888888, \"#fdca26\"], [1.0, \"#f0f921\"]], \"type\": \"histogram2d\"}], \"histogram2dcontour\": [{\"colorbar\": {\"outlinewidth\": 0, \"ticks\": \"\"}, \"colorscale\": [[0.0, \"#0d0887\"], [0.1111111111111111, \"#46039f\"], [0.2222222222222222, \"#7201a8\"], [0.3333333333333333, \"#9c179e\"], [0.4444444444444444, \"#bd3786\"], [0.5555555555555556, \"#d8576b\"], [0.6666666666666666, \"#ed7953\"], [0.7777777777777778, \"#fb9f3a\"], [0.8888888888888888, \"#fdca26\"], [1.0, \"#f0f921\"]], \"type\": \"histogram2dcontour\"}], \"mesh3d\": [{\"colorbar\": {\"outlinewidth\": 0, \"ticks\": \"\"}, \"type\": \"mesh3d\"}], \"parcoords\": [{\"line\": {\"colorbar\": {\"outlinewidth\": 0, \"ticks\": \"\"}}, \"type\": \"parcoords\"}], \"scatter\": [{\"marker\": {\"colorbar\": {\"outlinewidth\": 0, \"ticks\": \"\"}}, \"type\": \"scatter\"}], \"scatter3d\": [{\"line\": {\"colorbar\": {\"outlinewidth\": 0, \"ticks\": \"\"}}, \"marker\": {\"colorbar\": {\"outlinewidth\": 0, \"ticks\": \"\"}}, \"type\": \"scatter3d\"}], \"scattercarpet\": [{\"marker\": {\"colorbar\": {\"outlinewidth\": 0, \"ticks\": \"\"}}, \"type\": \"scattercarpet\"}], \"scattergeo\": [{\"marker\": {\"colorbar\": {\"outlinewidth\": 0, \"ticks\": \"\"}}, \"type\": \"scattergeo\"}], \"scattergl\": [{\"marker\": {\"colorbar\": {\"outlinewidth\": 0, \"ticks\": \"\"}}, \"type\": \"scattergl\"}], \"scattermapbox\": [{\"marker\": {\"colorbar\": {\"outlinewidth\": 0, \"ticks\": \"\"}}, \"type\": \"scattermapbox\"}], \"scatterpolar\": [{\"marker\": {\"colorbar\": {\"outlinewidth\": 0, \"ticks\": \"\"}}, \"type\": \"scatterpolar\"}], \"scatterpolargl\": [{\"marker\": {\"colorbar\": {\"outlinewidth\": 0, \"ticks\": \"\"}}, \"type\": \"scatterpolargl\"}], \"scatterternary\": [{\"marker\": {\"colorbar\": {\"outlinewidth\": 0, \"ticks\": \"\"}}, \"type\": \"scatterternary\"}], \"surface\": [{\"colorbar\": {\"outlinewidth\": 0, \"ticks\": \"\"}, \"colorscale\": [[0.0, \"#0d0887\"], [0.1111111111111111, \"#46039f\"], [0.2222222222222222, \"#7201a8\"], [0.3333333333333333, \"#9c179e\"], [0.4444444444444444, \"#bd3786\"], [0.5555555555555556, \"#d8576b\"], [0.6666666666666666, \"#ed7953\"], [0.7777777777777778, \"#fb9f3a\"], [0.8888888888888888, \"#fdca26\"], [1.0, \"#f0f921\"]], \"type\": \"surface\"}], \"table\": [{\"cells\": {\"fill\": {\"color\": \"#EBF0F8\"}, \"line\": {\"color\": \"white\"}}, \"header\": {\"fill\": {\"color\": \"#C8D4E3\"}, \"line\": {\"color\": \"white\"}}, \"type\": \"table\"}]}, \"layout\": {\"annotationdefaults\": {\"arrowcolor\": \"#2a3f5f\", \"arrowhead\": 0, \"arrowwidth\": 1}, \"colorscale\": {\"diverging\": [[0, \"#8e0152\"], [0.1, \"#c51b7d\"], [0.2, \"#de77ae\"], [0.3, \"#f1b6da\"], [0.4, \"#fde0ef\"], [0.5, \"#f7f7f7\"], [0.6, \"#e6f5d0\"], [0.7, \"#b8e186\"], [0.8, \"#7fbc41\"], [0.9, \"#4d9221\"], [1, \"#276419\"]], \"sequential\": [[0.0, \"#0d0887\"], [0.1111111111111111, \"#46039f\"], [0.2222222222222222, \"#7201a8\"], [0.3333333333333333, \"#9c179e\"], [0.4444444444444444, \"#bd3786\"], [0.5555555555555556, \"#d8576b\"], [0.6666666666666666, \"#ed7953\"], [0.7777777777777778, \"#fb9f3a\"], [0.8888888888888888, \"#fdca26\"], [1.0, \"#f0f921\"]], \"sequentialminus\": [[0.0, \"#0d0887\"], [0.1111111111111111, \"#46039f\"], [0.2222222222222222, \"#7201a8\"], [0.3333333333333333, \"#9c179e\"], [0.4444444444444444, \"#bd3786\"], [0.5555555555555556, \"#d8576b\"], [0.6666666666666666, \"#ed7953\"], [0.7777777777777778, \"#fb9f3a\"], [0.8888888888888888, \"#fdca26\"], [1.0, \"#f0f921\"]]}, \"colorway\": [\"#636efa\", \"#EF553B\", \"#00cc96\", \"#ab63fa\", \"#FFA15A\", \"#19d3f3\", \"#FF6692\", \"#B6E880\", \"#FF97FF\", \"#FECB52\"], \"font\": {\"color\": \"#2a3f5f\"}, \"geo\": {\"bgcolor\": \"white\", \"lakecolor\": \"white\", \"landcolor\": \"#E5ECF6\", \"showlakes\": true, \"showland\": true, \"subunitcolor\": \"white\"}, \"hoverlabel\": {\"align\": \"left\"}, \"hovermode\": \"closest\", \"mapbox\": {\"style\": \"light\"}, \"paper_bgcolor\": \"white\", \"plot_bgcolor\": \"#E5ECF6\", \"polar\": {\"angularaxis\": {\"gridcolor\": \"white\", \"linecolor\": \"white\", \"ticks\": \"\"}, \"bgcolor\": \"#E5ECF6\", \"radialaxis\": {\"gridcolor\": \"white\", \"linecolor\": \"white\", \"ticks\": \"\"}}, \"scene\": {\"xaxis\": {\"backgroundcolor\": \"#E5ECF6\", \"gridcolor\": \"white\", \"gridwidth\": 2, \"linecolor\": \"white\", \"showbackground\": true, \"ticks\": \"\", \"zerolinecolor\": \"white\"}, \"yaxis\": {\"backgroundcolor\": \"#E5ECF6\", \"gridcolor\": \"white\", \"gridwidth\": 2, \"linecolor\": \"white\", \"showbackground\": true, \"ticks\": \"\", \"zerolinecolor\": \"white\"}, \"zaxis\": {\"backgroundcolor\": \"#E5ECF6\", \"gridcolor\": \"white\", \"gridwidth\": 2, \"linecolor\": \"white\", \"showbackground\": true, \"ticks\": \"\", \"zerolinecolor\": \"white\"}}, \"shapedefaults\": {\"line\": {\"color\": \"#2a3f5f\"}}, \"ternary\": {\"aaxis\": {\"gridcolor\": \"white\", \"linecolor\": \"white\", \"ticks\": \"\"}, \"baxis\": {\"gridcolor\": \"white\", \"linecolor\": \"white\", \"ticks\": \"\"}, \"bgcolor\": \"#E5ECF6\", \"caxis\": {\"gridcolor\": \"white\", \"linecolor\": \"white\", \"ticks\": \"\"}}, \"title\": {\"x\": 0.05}, \"xaxis\": {\"automargin\": true, \"gridcolor\": \"white\", \"linecolor\": \"white\", \"ticks\": \"\", \"zerolinecolor\": \"white\", \"zerolinewidth\": 2}, \"yaxis\": {\"automargin\": true, \"gridcolor\": \"white\", \"linecolor\": \"white\", \"ticks\": \"\", \"zerolinecolor\": \"white\", \"zerolinewidth\": 2}}}, \"xaxis\": {\"anchor\": \"y\", \"domain\": [0.0, 0.98], \"title\": {\"text\": \"USALatino\"}}, \"yaxis\": {\"anchor\": \"x\", \"domain\": [0.0, 1.0], \"title\": {\"text\": \"Percent\"}}},\n",
       "                        {\"responsive\": true}\n",
       "                    ).then(function(){\n",
       "                            \n",
       "var gd = document.getElementById('ead207f1-3071-4fe7-adb0-751cdbb92470');\n",
       "var x = new MutationObserver(function (mutations, observer) {{\n",
       "        var display = window.getComputedStyle(gd).display;\n",
       "        if (!display || display === 'none') {{\n",
       "            console.log([gd, 'removed!']);\n",
       "            Plotly.purge(gd);\n",
       "            observer.disconnect();\n",
       "        }}\n",
       "}});\n",
       "\n",
       "// Listen for the removal of the full notebook cells\n",
       "var notebookContainer = gd.closest('#notebook-container');\n",
       "if (notebookContainer) {{\n",
       "    x.observe(notebookContainer, {childList: true});\n",
       "}}\n",
       "\n",
       "// Listen for the clearing of the current output cell\n",
       "var outputEl = gd.closest('.output');\n",
       "if (outputEl) {{\n",
       "    x.observe(outputEl, {childList: true});\n",
       "}}\n",
       "\n",
       "                        })\n",
       "                };\n",
       "                });\n",
       "            </script>\n",
       "        </div>"
      ]
     },
     "metadata": {},
     "output_type": "display_data"
    }
   ],
   "source": [
    "ShowTwoWayHeatmap(data,'USALatino','Voted', normalize=False)\n",
    "\n",
    "fig=px.histogram(data[data['USALatino']==1], x=\"USALatino\",color='Voted',color_discrete_map=color_discrete_map,barnorm='percent')\n",
    "fig.update_layout(barmode='group',yaxis_title=\"Percent\")"
   ]
  },
  {
   "cell_type": "code",
   "execution_count": 51,
   "metadata": {},
   "outputs": [
    {
     "data": {
      "image/png": "[encoded data removed]",
      "text/plain": [
       "<Figure size 936x432 with 2 Axes>"
      ]
     },
     "metadata": {
      "needs_background": "light"
     },
     "output_type": "display_data"
    },
    {
     "data": {
      "application/vnd.plotly.v1+json": {
       "config": {
        "plotlyServerURL": "https://plot.ly"
       },
       "data": [
        {
         "alignmentgroup": "True",
         "bingroup": "x",
         "hoverlabel": {
          "namelength": 0
         },
         "hovertemplate": "Voted=0<br>USAMiddleEastern=%{x}<br>count=%{y}",
         "legendgroup": "Voted=0",
         "marker": {
          "color": "#EF553B"
         },
         "name": "Voted=0",
         "offsetgroup": "Voted=0",
         "orientation": "v",
         "showlegend": true,
         "type": "histogram",
         "x": [
          1,
          1
         ],
         "xaxis": "x",
         "yaxis": "y"
        },
        {
         "alignmentgroup": "True",
         "bingroup": "x",
         "hoverlabel": {
          "namelength": 0
         },
         "hovertemplate": "Voted=1<br>USAMiddleEastern=%{x}<br>count=%{y}",
         "legendgroup": "Voted=1",
         "marker": {
          "color": "#636EFA"
         },
         "name": "Voted=1",
         "offsetgroup": "Voted=1",
         "orientation": "v",
         "showlegend": true,
         "type": "histogram",
         "x": [
          1,
          1,
          1,
          1,
          1,
          1,
          1
         ],
         "xaxis": "x",
         "yaxis": "y"
        }
       ],
       "layout": {
        "barmode": "group",
        "barnorm": "percent",
        "height": 600,
        "legend": {
         "tracegroupgap": 0
        },
        "margin": {
         "t": 60
        },
        "template": {
         "data": {
          "bar": [
           {
            "error_x": {
             "color": "#2a3f5f"
            },
            "error_y": {
             "color": "#2a3f5f"
            },
            "marker": {
             "line": {
              "color": "#E5ECF6",
              "width": 0.5
             }
            },
            "type": "bar"
           }
          ],
          "barpolar": [
           {
            "marker": {
             "line": {
              "color": "#E5ECF6",
              "width": 0.5
             }
            },
            "type": "barpolar"
           }
          ],
          "carpet": [
           {
            "aaxis": {
             "endlinecolor": "#2a3f5f",
             "gridcolor": "white",
             "linecolor": "white",
             "minorgridcolor": "white",
             "startlinecolor": "#2a3f5f"
            },
            "baxis": {
             "endlinecolor": "#2a3f5f",
             "gridcolor": "white",
             "linecolor": "white",
             "minorgridcolor": "white",
             "startlinecolor": "#2a3f5f"
            },
            "type": "carpet"
           }
          ],
          "choropleth": [
           {
            "colorbar": {
             "outlinewidth": 0,
             "ticks": ""
            },
            "type": "choropleth"
           }
          ],
          "contour": [
           {
            "colorbar": {
             "outlinewidth": 0,
             "ticks": ""
            },
            "colorscale": [
             [
              0,
              "#0d0887"
             ],
             [
              0.1111111111111111,
              "#46039f"
             ],
             [
              0.2222222222222222,
              "#7201a8"
             ],
             [
              0.3333333333333333,
              "#9c179e"
             ],
             [
              0.4444444444444444,
              "#bd3786"
             ],
             [
              0.5555555555555556,
              "#d8576b"
             ],
             [
              0.6666666666666666,
              "#ed7953"
             ],
             [
              0.7777777777777778,
              "#fb9f3a"
             ],
             [
              0.8888888888888888,
              "#fdca26"
             ],
             [
              1,
              "#f0f921"
             ]
            ],
            "type": "contour"
           }
          ],
          "contourcarpet": [
           {
            "colorbar": {
             "outlinewidth": 0,
             "ticks": ""
            },
            "type": "contourcarpet"
           }
          ],
          "heatmap": [
           {
            "colorbar": {
             "outlinewidth": 0,
             "ticks": ""
            },
            "colorscale": [
             [
              0,
              "#0d0887"
             ],
             [
              0.1111111111111111,
              "#46039f"
             ],
             [
              0.2222222222222222,
              "#7201a8"
             ],
             [
              0.3333333333333333,
              "#9c179e"
             ],
             [
              0.4444444444444444,
              "#bd3786"
             ],
             [
              0.5555555555555556,
              "#d8576b"
             ],
             [
              0.6666666666666666,
              "#ed7953"
             ],
             [
              0.7777777777777778,
              "#fb9f3a"
             ],
             [
              0.8888888888888888,
              "#fdca26"
             ],
             [
              1,
              "#f0f921"
             ]
            ],
            "type": "heatmap"
           }
          ],
          "heatmapgl": [
           {
            "colorbar": {
             "outlinewidth": 0,
             "ticks": ""
            },
            "colorscale": [
             [
              0,
              "#0d0887"
             ],
             [
              0.1111111111111111,
              "#46039f"
             ],
             [
              0.2222222222222222,
              "#7201a8"
             ],
             [
              0.3333333333333333,
              "#9c179e"
             ],
             [
              0.4444444444444444,
              "#bd3786"
             ],
             [
              0.5555555555555556,
              "#d8576b"
             ],
             [
              0.6666666666666666,
              "#ed7953"
             ],
             [
              0.7777777777777778,
              "#fb9f3a"
             ],
             [
              0.8888888888888888,
              "#fdca26"
             ],
             [
              1,
              "#f0f921"
             ]
            ],
            "type": "heatmapgl"
           }
          ],
          "histogram": [
           {
            "marker": {
             "colorbar": {
              "outlinewidth": 0,
              "ticks": ""
             }
            },
            "type": "histogram"
           }
          ],
          "histogram2d": [
           {
            "colorbar": {
             "outlinewidth": 0,
             "ticks": ""
            },
            "colorscale": [
             [
              0,
              "#0d0887"
             ],
             [
              0.1111111111111111,
              "#46039f"
             ],
             [
              0.2222222222222222,
              "#7201a8"
             ],
             [
              0.3333333333333333,
              "#9c179e"
             ],
             [
              0.4444444444444444,
              "#bd3786"
             ],
             [
              0.5555555555555556,
              "#d8576b"
             ],
             [
              0.6666666666666666,
              "#ed7953"
             ],
             [
              0.7777777777777778,
              "#fb9f3a"
             ],
             [
              0.8888888888888888,
              "#fdca26"
             ],
             [
              1,
              "#f0f921"
             ]
            ],
            "type": "histogram2d"
           }
          ],
          "histogram2dcontour": [
           {
            "colorbar": {
             "outlinewidth": 0,
             "ticks": ""
            },
            "colorscale": [
             [
              0,
              "#0d0887"
             ],
             [
              0.1111111111111111,
              "#46039f"
             ],
             [
              0.2222222222222222,
              "#7201a8"
             ],
             [
              0.3333333333333333,
              "#9c179e"
             ],
             [
              0.4444444444444444,
              "#bd3786"
             ],
             [
              0.5555555555555556,
              "#d8576b"
             ],
             [
              0.6666666666666666,
              "#ed7953"
             ],
             [
              0.7777777777777778,
              "#fb9f3a"
             ],
             [
              0.8888888888888888,
              "#fdca26"
             ],
             [
              1,
              "#f0f921"
             ]
            ],
            "type": "histogram2dcontour"
           }
          ],
          "mesh3d": [
           {
            "colorbar": {
             "outlinewidth": 0,
             "ticks": ""
            },
            "type": "mesh3d"
           }
          ],
          "parcoords": [
           {
            "line": {
             "colorbar": {
              "outlinewidth": 0,
              "ticks": ""
             }
            },
            "type": "parcoords"
           }
          ],
          "scatter": [
           {
            "marker": {
             "colorbar": {
              "outlinewidth": 0,
              "ticks": ""
             }
            },
            "type": "scatter"
           }
          ],
          "scatter3d": [
           {
            "line": {
             "colorbar": {
              "outlinewidth": 0,
              "ticks": ""
             }
            },
            "marker": {
             "colorbar": {
              "outlinewidth": 0,
              "ticks": ""
             }
            },
            "type": "scatter3d"
           }
          ],
          "scattercarpet": [
           {
            "marker": {
             "colorbar": {
              "outlinewidth": 0,
              "ticks": ""
             }
            },
            "type": "scattercarpet"
           }
          ],
          "scattergeo": [
           {
            "marker": {
             "colorbar": {
              "outlinewidth": 0,
              "ticks": ""
             }
            },
            "type": "scattergeo"
           }
          ],
          "scattergl": [
           {
            "marker": {
             "colorbar": {
              "outlinewidth": 0,
              "ticks": ""
             }
            },
            "type": "scattergl"
           }
          ],
          "scattermapbox": [
           {
            "marker": {
             "colorbar": {
              "outlinewidth": 0,
              "ticks": ""
             }
            },
            "type": "scattermapbox"
           }
          ],
          "scatterpolar": [
           {
            "marker": {
             "colorbar": {
              "outlinewidth": 0,
              "ticks": ""
             }
            },
            "type": "scatterpolar"
           }
          ],
          "scatterpolargl": [
           {
            "marker": {
             "colorbar": {
              "outlinewidth": 0,
              "ticks": ""
             }
            },
            "type": "scatterpolargl"
           }
          ],
          "scatterternary": [
           {
            "marker": {
             "colorbar": {
              "outlinewidth": 0,
              "ticks": ""
             }
            },
            "type": "scatterternary"
           }
          ],
          "surface": [
           {
            "colorbar": {
             "outlinewidth": 0,
             "ticks": ""
            },
            "colorscale": [
             [
              0,
              "#0d0887"
             ],
             [
              0.1111111111111111,
              "#46039f"
             ],
             [
              0.2222222222222222,
              "#7201a8"
             ],
             [
              0.3333333333333333,
              "#9c179e"
             ],
             [
              0.4444444444444444,
              "#bd3786"
             ],
             [
              0.5555555555555556,
              "#d8576b"
             ],
             [
              0.6666666666666666,
              "#ed7953"
             ],
             [
              0.7777777777777778,
              "#fb9f3a"
             ],
             [
              0.8888888888888888,
              "#fdca26"
             ],
             [
              1,
              "#f0f921"
             ]
            ],
            "type": "surface"
           }
          ],
          "table": [
           {
            "cells": {
             "fill": {
              "color": "#EBF0F8"
             },
             "line": {
              "color": "white"
             }
            },
            "header": {
             "fill": {
              "color": "#C8D4E3"
             },
             "line": {
              "color": "white"
             }
            },
            "type": "table"
           }
          ]
         },
         "layout": {
          "annotationdefaults": {
           "arrowcolor": "#2a3f5f",
           "arrowhead": 0,
           "arrowwidth": 1
          },
          "colorscale": {
           "diverging": [
            [
             0,
             "#8e0152"
            ],
            [
             0.1,
             "#c51b7d"
            ],
            [
             0.2,
             "#de77ae"
            ],
            [
             0.3,
             "#f1b6da"
            ],
            [
             0.4,
             "#fde0ef"
            ],
            [
             0.5,
             "#f7f7f7"
            ],
            [
             0.6,
             "#e6f5d0"
            ],
            [
             0.7,
             "#b8e186"
            ],
            [
             0.8,
             "#7fbc41"
            ],
            [
             0.9,
             "#4d9221"
            ],
            [
             1,
             "#276419"
            ]
           ],
           "sequential": [
            [
             0,
             "#0d0887"
            ],
            [
             0.1111111111111111,
             "#46039f"
            ],
            [
             0.2222222222222222,
             "#7201a8"
            ],
            [
             0.3333333333333333,
             "#9c179e"
            ],
            [
             0.4444444444444444,
             "#bd3786"
            ],
            [
             0.5555555555555556,
             "#d8576b"
            ],
            [
             0.6666666666666666,
             "#ed7953"
            ],
            [
             0.7777777777777778,
             "#fb9f3a"
            ],
            [
             0.8888888888888888,
             "#fdca26"
            ],
            [
             1,
             "#f0f921"
            ]
           ],
           "sequentialminus": [
            [
             0,
             "#0d0887"
            ],
            [
             0.1111111111111111,
             "#46039f"
            ],
            [
             0.2222222222222222,
             "#7201a8"
            ],
            [
             0.3333333333333333,
             "#9c179e"
            ],
            [
             0.4444444444444444,
             "#bd3786"
            ],
            [
             0.5555555555555556,
             "#d8576b"
            ],
            [
             0.6666666666666666,
             "#ed7953"
            ],
            [
             0.7777777777777778,
             "#fb9f3a"
            ],
            [
             0.8888888888888888,
             "#fdca26"
            ],
            [
             1,
             "#f0f921"
            ]
           ]
          },
          "colorway": [
           "#636efa",
           "#EF553B",
           "#00cc96",
           "#ab63fa",
           "#FFA15A",
           "#19d3f3",
           "#FF6692",
           "#B6E880",
           "#FF97FF",
           "#FECB52"
          ],
          "font": {
           "color": "#2a3f5f"
          },
          "geo": {
           "bgcolor": "white",
           "lakecolor": "white",
           "landcolor": "#E5ECF6",
           "showlakes": true,
           "showland": true,
           "subunitcolor": "white"
          },
          "hoverlabel": {
           "align": "left"
          },
          "hovermode": "closest",
          "mapbox": {
           "style": "light"
          },
          "paper_bgcolor": "white",
          "plot_bgcolor": "#E5ECF6",
          "polar": {
           "angularaxis": {
            "gridcolor": "white",
            "linecolor": "white",
            "ticks": ""
           },
           "bgcolor": "#E5ECF6",
           "radialaxis": {
            "gridcolor": "white",
            "linecolor": "white",
            "ticks": ""
           }
          },
          "scene": {
           "xaxis": {
            "backgroundcolor": "#E5ECF6",
            "gridcolor": "white",
            "gridwidth": 2,
            "linecolor": "white",
            "showbackground": true,
            "ticks": "",
            "zerolinecolor": "white"
           },
           "yaxis": {
            "backgroundcolor": "#E5ECF6",
            "gridcolor": "white",
            "gridwidth": 2,
            "linecolor": "white",
            "showbackground": true,
            "ticks": "",
            "zerolinecolor": "white"
           },
           "zaxis": {
            "backgroundcolor": "#E5ECF6",
            "gridcolor": "white",
            "gridwidth": 2,
            "linecolor": "white",
            "showbackground": true,
            "ticks": "",
            "zerolinecolor": "white"
           }
          },
          "shapedefaults": {
           "line": {
            "color": "#2a3f5f"
           }
          },
          "ternary": {
           "aaxis": {
            "gridcolor": "white",
            "linecolor": "white",
            "ticks": ""
           },
           "baxis": {
            "gridcolor": "white",
            "linecolor": "white",
            "ticks": ""
           },
           "bgcolor": "#E5ECF6",
           "caxis": {
            "gridcolor": "white",
            "linecolor": "white",
            "ticks": ""
           }
          },
          "title": {
           "x": 0.05
          },
          "xaxis": {
           "automargin": true,
           "gridcolor": "white",
           "linecolor": "white",
           "ticks": "",
           "zerolinecolor": "white",
           "zerolinewidth": 2
          },
          "yaxis": {
           "automargin": true,
           "gridcolor": "white",
           "linecolor": "white",
           "ticks": "",
           "zerolinecolor": "white",
           "zerolinewidth": 2
          }
         }
        },
        "xaxis": {
         "anchor": "y",
         "domain": [
          0,
          0.98
         ],
         "title": {
          "text": "USAMiddleEastern"
         }
        },
        "yaxis": {
         "anchor": "x",
         "domain": [
          0,
          1
         ],
         "title": {
          "text": "Percent"
         }
        }
       }
      },
      "text/html": [
       "<div>\n",
       "        \n",
       "        \n",
       "            <div id=\"5e7be651-a631-4bdb-b113-2751ef0f5d7d\" class=\"plotly-graph-div\" style=\"height:600px; width:100%;\"></div>\n",
       "            <script type=\"text/javascript\">\n",
       "                require([\"plotly\"], function(Plotly) {\n",
       "                    window.PLOTLYENV=window.PLOTLYENV || {};\n",
       "                    \n",
       "                if (document.getElementById(\"5e7be651-a631-4bdb-b113-2751ef0f5d7d\")) {\n",
       "                    Plotly.newPlot(\n",
       "                        '5e7be651-a631-4bdb-b113-2751ef0f5d7d',\n",
       "                        [{\"alignmentgroup\": \"True\", \"bingroup\": \"x\", \"hoverlabel\": {\"namelength\": 0}, \"hovertemplate\": \"Voted=0<br>USAMiddleEastern=%{x}<br>count=%{y}\", \"legendgroup\": \"Voted=0\", \"marker\": {\"color\": \"#EF553B\"}, \"name\": \"Voted=0\", \"offsetgroup\": \"Voted=0\", \"orientation\": \"v\", \"showlegend\": true, \"type\": \"histogram\", \"x\": [1, 1], \"xaxis\": \"x\", \"yaxis\": \"y\"}, {\"alignmentgroup\": \"True\", \"bingroup\": \"x\", \"hoverlabel\": {\"namelength\": 0}, \"hovertemplate\": \"Voted=1<br>USAMiddleEastern=%{x}<br>count=%{y}\", \"legendgroup\": \"Voted=1\", \"marker\": {\"color\": \"#636EFA\"}, \"name\": \"Voted=1\", \"offsetgroup\": \"Voted=1\", \"orientation\": \"v\", \"showlegend\": true, \"type\": \"histogram\", \"x\": [1, 1, 1, 1, 1, 1, 1], \"xaxis\": \"x\", \"yaxis\": \"y\"}],\n",
       "                        {\"barmode\": \"group\", \"barnorm\": \"percent\", \"height\": 600, \"legend\": {\"tracegroupgap\": 0}, \"margin\": {\"t\": 60}, \"template\": {\"data\": {\"bar\": [{\"error_x\": {\"color\": \"#2a3f5f\"}, \"error_y\": {\"color\": \"#2a3f5f\"}, \"marker\": {\"line\": {\"color\": \"#E5ECF6\", \"width\": 0.5}}, \"type\": \"bar\"}], \"barpolar\": [{\"marker\": {\"line\": {\"color\": \"#E5ECF6\", \"width\": 0.5}}, \"type\": \"barpolar\"}], \"carpet\": [{\"aaxis\": {\"endlinecolor\": \"#2a3f5f\", \"gridcolor\": \"white\", \"linecolor\": \"white\", \"minorgridcolor\": \"white\", \"startlinecolor\": \"#2a3f5f\"}, \"baxis\": {\"endlinecolor\": \"#2a3f5f\", \"gridcolor\": \"white\", \"linecolor\": \"white\", \"minorgridcolor\": \"white\", \"startlinecolor\": \"#2a3f5f\"}, \"type\": \"carpet\"}], \"choropleth\": [{\"colorbar\": {\"outlinewidth\": 0, \"ticks\": \"\"}, \"type\": \"choropleth\"}], \"contour\": [{\"colorbar\": {\"outlinewidth\": 0, \"ticks\": \"\"}, \"colorscale\": [[0.0, \"#0d0887\"], [0.1111111111111111, \"#46039f\"], [0.2222222222222222, \"#7201a8\"], [0.3333333333333333, \"#9c179e\"], [0.4444444444444444, \"#bd3786\"], [0.5555555555555556, \"#d8576b\"], [0.6666666666666666, \"#ed7953\"], [0.7777777777777778, \"#fb9f3a\"], [0.8888888888888888, \"#fdca26\"], [1.0, \"#f0f921\"]], \"type\": \"contour\"}], \"contourcarpet\": [{\"colorbar\": {\"outlinewidth\": 0, \"ticks\": \"\"}, \"type\": \"contourcarpet\"}], \"heatmap\": [{\"colorbar\": {\"outlinewidth\": 0, \"ticks\": \"\"}, \"colorscale\": [[0.0, \"#0d0887\"], [0.1111111111111111, \"#46039f\"], [0.2222222222222222, \"#7201a8\"], [0.3333333333333333, \"#9c179e\"], [0.4444444444444444, \"#bd3786\"], [0.5555555555555556, \"#d8576b\"], [0.6666666666666666, \"#ed7953\"], [0.7777777777777778, \"#fb9f3a\"], [0.8888888888888888, \"#fdca26\"], [1.0, \"#f0f921\"]], \"type\": \"heatmap\"}], \"heatmapgl\": [{\"colorbar\": {\"outlinewidth\": 0, \"ticks\": \"\"}, \"colorscale\": [[0.0, \"#0d0887\"], [0.1111111111111111, \"#46039f\"], [0.2222222222222222, \"#7201a8\"], [0.3333333333333333, \"#9c179e\"], [0.4444444444444444, \"#bd3786\"], [0.5555555555555556, \"#d8576b\"], [0.6666666666666666, \"#ed7953\"], [0.7777777777777778, \"#fb9f3a\"], [0.8888888888888888, \"#fdca26\"], [1.0, \"#f0f921\"]], \"type\": \"heatmapgl\"}], \"histogram\": [{\"marker\": {\"colorbar\": {\"outlinewidth\": 0, \"ticks\": \"\"}}, \"type\": \"histogram\"}], \"histogram2d\": [{\"colorbar\": {\"outlinewidth\": 0, \"ticks\": \"\"}, \"colorscale\": [[0.0, \"#0d0887\"], [0.1111111111111111, \"#46039f\"], [0.2222222222222222, \"#7201a8\"], [0.3333333333333333, \"#9c179e\"], [0.4444444444444444, \"#bd3786\"], [0.5555555555555556, \"#d8576b\"], [0.6666666666666666, \"#ed7953\"], [0.7777777777777778, \"#fb9f3a\"], [0.8888888888888888, \"#fdca26\"], [1.0, \"#f0f921\"]], \"type\": \"histogram2d\"}], \"histogram2dcontour\": [{\"colorbar\": {\"outlinewidth\": 0, \"ticks\": \"\"}, \"colorscale\": [[0.0, \"#0d0887\"], [0.1111111111111111, \"#46039f\"], [0.2222222222222222, \"#7201a8\"], [0.3333333333333333, \"#9c179e\"], [0.4444444444444444, \"#bd3786\"], [0.5555555555555556, \"#d8576b\"], [0.6666666666666666, \"#ed7953\"], [0.7777777777777778, \"#fb9f3a\"], [0.8888888888888888, \"#fdca26\"], [1.0, \"#f0f921\"]], \"type\": \"histogram2dcontour\"}], \"mesh3d\": [{\"colorbar\": {\"outlinewidth\": 0, \"ticks\": \"\"}, \"type\": \"mesh3d\"}], \"parcoords\": [{\"line\": {\"colorbar\": {\"outlinewidth\": 0, \"ticks\": \"\"}}, \"type\": \"parcoords\"}], \"scatter\": [{\"marker\": {\"colorbar\": {\"outlinewidth\": 0, \"ticks\": \"\"}}, \"type\": \"scatter\"}], \"scatter3d\": [{\"line\": {\"colorbar\": {\"outlinewidth\": 0, \"ticks\": \"\"}}, \"marker\": {\"colorbar\": {\"outlinewidth\": 0, \"ticks\": \"\"}}, \"type\": \"scatter3d\"}], \"scattercarpet\": [{\"marker\": {\"colorbar\": {\"outlinewidth\": 0, \"ticks\": \"\"}}, \"type\": \"scattercarpet\"}], \"scattergeo\": [{\"marker\": {\"colorbar\": {\"outlinewidth\": 0, \"ticks\": \"\"}}, \"type\": \"scattergeo\"}], \"scattergl\": [{\"marker\": {\"colorbar\": {\"outlinewidth\": 0, \"ticks\": \"\"}}, \"type\": \"scattergl\"}], \"scattermapbox\": [{\"marker\": {\"colorbar\": {\"outlinewidth\": 0, \"ticks\": \"\"}}, \"type\": \"scattermapbox\"}], \"scatterpolar\": [{\"marker\": {\"colorbar\": {\"outlinewidth\": 0, \"ticks\": \"\"}}, \"type\": \"scatterpolar\"}], \"scatterpolargl\": [{\"marker\": {\"colorbar\": {\"outlinewidth\": 0, \"ticks\": \"\"}}, \"type\": \"scatterpolargl\"}], \"scatterternary\": [{\"marker\": {\"colorbar\": {\"outlinewidth\": 0, \"ticks\": \"\"}}, \"type\": \"scatterternary\"}], \"surface\": [{\"colorbar\": {\"outlinewidth\": 0, \"ticks\": \"\"}, \"colorscale\": [[0.0, \"#0d0887\"], [0.1111111111111111, \"#46039f\"], [0.2222222222222222, \"#7201a8\"], [0.3333333333333333, \"#9c179e\"], [0.4444444444444444, \"#bd3786\"], [0.5555555555555556, \"#d8576b\"], [0.6666666666666666, \"#ed7953\"], [0.7777777777777778, \"#fb9f3a\"], [0.8888888888888888, \"#fdca26\"], [1.0, \"#f0f921\"]], \"type\": \"surface\"}], \"table\": [{\"cells\": {\"fill\": {\"color\": \"#EBF0F8\"}, \"line\": {\"color\": \"white\"}}, \"header\": {\"fill\": {\"color\": \"#C8D4E3\"}, \"line\": {\"color\": \"white\"}}, \"type\": \"table\"}]}, \"layout\": {\"annotationdefaults\": {\"arrowcolor\": \"#2a3f5f\", \"arrowhead\": 0, \"arrowwidth\": 1}, \"colorscale\": {\"diverging\": [[0, \"#8e0152\"], [0.1, \"#c51b7d\"], [0.2, \"#de77ae\"], [0.3, \"#f1b6da\"], [0.4, \"#fde0ef\"], [0.5, \"#f7f7f7\"], [0.6, \"#e6f5d0\"], [0.7, \"#b8e186\"], [0.8, \"#7fbc41\"], [0.9, \"#4d9221\"], [1, \"#276419\"]], \"sequential\": [[0.0, \"#0d0887\"], [0.1111111111111111, \"#46039f\"], [0.2222222222222222, \"#7201a8\"], [0.3333333333333333, \"#9c179e\"], [0.4444444444444444, \"#bd3786\"], [0.5555555555555556, \"#d8576b\"], [0.6666666666666666, \"#ed7953\"], [0.7777777777777778, \"#fb9f3a\"], [0.8888888888888888, \"#fdca26\"], [1.0, \"#f0f921\"]], \"sequentialminus\": [[0.0, \"#0d0887\"], [0.1111111111111111, \"#46039f\"], [0.2222222222222222, \"#7201a8\"], [0.3333333333333333, \"#9c179e\"], [0.4444444444444444, \"#bd3786\"], [0.5555555555555556, \"#d8576b\"], [0.6666666666666666, \"#ed7953\"], [0.7777777777777778, \"#fb9f3a\"], [0.8888888888888888, \"#fdca26\"], [1.0, \"#f0f921\"]]}, \"colorway\": [\"#636efa\", \"#EF553B\", \"#00cc96\", \"#ab63fa\", \"#FFA15A\", \"#19d3f3\", \"#FF6692\", \"#B6E880\", \"#FF97FF\", \"#FECB52\"], \"font\": {\"color\": \"#2a3f5f\"}, \"geo\": {\"bgcolor\": \"white\", \"lakecolor\": \"white\", \"landcolor\": \"#E5ECF6\", \"showlakes\": true, \"showland\": true, \"subunitcolor\": \"white\"}, \"hoverlabel\": {\"align\": \"left\"}, \"hovermode\": \"closest\", \"mapbox\": {\"style\": \"light\"}, \"paper_bgcolor\": \"white\", \"plot_bgcolor\": \"#E5ECF6\", \"polar\": {\"angularaxis\": {\"gridcolor\": \"white\", \"linecolor\": \"white\", \"ticks\": \"\"}, \"bgcolor\": \"#E5ECF6\", \"radialaxis\": {\"gridcolor\": \"white\", \"linecolor\": \"white\", \"ticks\": \"\"}}, \"scene\": {\"xaxis\": {\"backgroundcolor\": \"#E5ECF6\", \"gridcolor\": \"white\", \"gridwidth\": 2, \"linecolor\": \"white\", \"showbackground\": true, \"ticks\": \"\", \"zerolinecolor\": \"white\"}, \"yaxis\": {\"backgroundcolor\": \"#E5ECF6\", \"gridcolor\": \"white\", \"gridwidth\": 2, \"linecolor\": \"white\", \"showbackground\": true, \"ticks\": \"\", \"zerolinecolor\": \"white\"}, \"zaxis\": {\"backgroundcolor\": \"#E5ECF6\", \"gridcolor\": \"white\", \"gridwidth\": 2, \"linecolor\": \"white\", \"showbackground\": true, \"ticks\": \"\", \"zerolinecolor\": \"white\"}}, \"shapedefaults\": {\"line\": {\"color\": \"#2a3f5f\"}}, \"ternary\": {\"aaxis\": {\"gridcolor\": \"white\", \"linecolor\": \"white\", \"ticks\": \"\"}, \"baxis\": {\"gridcolor\": \"white\", \"linecolor\": \"white\", \"ticks\": \"\"}, \"bgcolor\": \"#E5ECF6\", \"caxis\": {\"gridcolor\": \"white\", \"linecolor\": \"white\", \"ticks\": \"\"}}, \"title\": {\"x\": 0.05}, \"xaxis\": {\"automargin\": true, \"gridcolor\": \"white\", \"linecolor\": \"white\", \"ticks\": \"\", \"zerolinecolor\": \"white\", \"zerolinewidth\": 2}, \"yaxis\": {\"automargin\": true, \"gridcolor\": \"white\", \"linecolor\": \"white\", \"ticks\": \"\", \"zerolinecolor\": \"white\", \"zerolinewidth\": 2}}}, \"xaxis\": {\"anchor\": \"y\", \"domain\": [0.0, 0.98], \"title\": {\"text\": \"USAMiddleEastern\"}}, \"yaxis\": {\"anchor\": \"x\", \"domain\": [0.0, 1.0], \"title\": {\"text\": \"Percent\"}}},\n",
       "                        {\"responsive\": true}\n",
       "                    ).then(function(){\n",
       "                            \n",
       "var gd = document.getElementById('5e7be651-a631-4bdb-b113-2751ef0f5d7d');\n",
       "var x = new MutationObserver(function (mutations, observer) {{\n",
       "        var display = window.getComputedStyle(gd).display;\n",
       "        if (!display || display === 'none') {{\n",
       "            console.log([gd, 'removed!']);\n",
       "            Plotly.purge(gd);\n",
       "            observer.disconnect();\n",
       "        }}\n",
       "}});\n",
       "\n",
       "// Listen for the removal of the full notebook cells\n",
       "var notebookContainer = gd.closest('#notebook-container');\n",
       "if (notebookContainer) {{\n",
       "    x.observe(notebookContainer, {childList: true});\n",
       "}}\n",
       "\n",
       "// Listen for the clearing of the current output cell\n",
       "var outputEl = gd.closest('.output');\n",
       "if (outputEl) {{\n",
       "    x.observe(outputEl, {childList: true});\n",
       "}}\n",
       "\n",
       "                        })\n",
       "                };\n",
       "                });\n",
       "            </script>\n",
       "        </div>"
      ]
     },
     "metadata": {},
     "output_type": "display_data"
    }
   ],
   "source": [
    "ShowTwoWayHeatmap(data,'USAMiddleEastern','Voted', normalize=False)\n",
    "\n",
    "fig=px.histogram(data[data['USAMiddleEastern']==1], x=\"USAMiddleEastern\",color='Voted',color_discrete_map=color_discrete_map,barnorm='percent')\n",
    "fig.update_layout(barmode='group',yaxis_title=\"Percent\")"
   ]
  },
  {
   "cell_type": "code",
   "execution_count": 52,
   "metadata": {},
   "outputs": [
    {
     "data": {
      "image/png": "[encoded data removed]",
      "text/plain": [
       "<Figure size 936x432 with 2 Axes>"
      ]
     },
     "metadata": {
      "needs_background": "light"
     },
     "output_type": "display_data"
    },
    {
     "data": {
      "application/vnd.plotly.v1+json": {
       "config": {
        "plotlyServerURL": "https://plot.ly"
       },
       "data": [
        {
         "alignmentgroup": "True",
         "bingroup": "x",
         "hoverlabel": {
          "namelength": 0
         },
         "hovertemplate": "Voted=1<br>USAOtherEthnicity=%{x}<br>count=%{y}",
         "legendgroup": "Voted=1",
         "marker": {
          "color": "#636EFA"
         },
         "name": "Voted=1",
         "offsetgroup": "Voted=1",
         "orientation": "v",
         "showlegend": true,
         "type": "histogram",
         "x": [
          1,
          1,
          1,
          1,
          1,
          1,
          1,
          1,
          1,
          1,
          1,
          1,
          1
         ],
         "xaxis": "x",
         "yaxis": "y"
        },
        {
         "alignmentgroup": "True",
         "bingroup": "x",
         "hoverlabel": {
          "namelength": 0
         },
         "hovertemplate": "Voted=0<br>USAOtherEthnicity=%{x}<br>count=%{y}",
         "legendgroup": "Voted=0",
         "marker": {
          "color": "#EF553B"
         },
         "name": "Voted=0",
         "offsetgroup": "Voted=0",
         "orientation": "v",
         "showlegend": true,
         "type": "histogram",
         "x": [
          1,
          1,
          1,
          1,
          1,
          1,
          1,
          1,
          1,
          1,
          1,
          1,
          1,
          1
         ],
         "xaxis": "x",
         "yaxis": "y"
        }
       ],
       "layout": {
        "barmode": "group",
        "barnorm": "percent",
        "height": 600,
        "legend": {
         "tracegroupgap": 0
        },
        "margin": {
         "t": 60
        },
        "template": {
         "data": {
          "bar": [
           {
            "error_x": {
             "color": "#2a3f5f"
            },
            "error_y": {
             "color": "#2a3f5f"
            },
            "marker": {
             "line": {
              "color": "#E5ECF6",
              "width": 0.5
             }
            },
            "type": "bar"
           }
          ],
          "barpolar": [
           {
            "marker": {
             "line": {
              "color": "#E5ECF6",
              "width": 0.5
             }
            },
            "type": "barpolar"
           }
          ],
          "carpet": [
           {
            "aaxis": {
             "endlinecolor": "#2a3f5f",
             "gridcolor": "white",
             "linecolor": "white",
             "minorgridcolor": "white",
             "startlinecolor": "#2a3f5f"
            },
            "baxis": {
             "endlinecolor": "#2a3f5f",
             "gridcolor": "white",
             "linecolor": "white",
             "minorgridcolor": "white",
             "startlinecolor": "#2a3f5f"
            },
            "type": "carpet"
           }
          ],
          "choropleth": [
           {
            "colorbar": {
             "outlinewidth": 0,
             "ticks": ""
            },
            "type": "choropleth"
           }
          ],
          "contour": [
           {
            "colorbar": {
             "outlinewidth": 0,
             "ticks": ""
            },
            "colorscale": [
             [
              0,
              "#0d0887"
             ],
             [
              0.1111111111111111,
              "#46039f"
             ],
             [
              0.2222222222222222,
              "#7201a8"
             ],
             [
              0.3333333333333333,
              "#9c179e"
             ],
             [
              0.4444444444444444,
              "#bd3786"
             ],
             [
              0.5555555555555556,
              "#d8576b"
             ],
             [
              0.6666666666666666,
              "#ed7953"
             ],
             [
              0.7777777777777778,
              "#fb9f3a"
             ],
             [
              0.8888888888888888,
              "#fdca26"
             ],
             [
              1,
              "#f0f921"
             ]
            ],
            "type": "contour"
           }
          ],
          "contourcarpet": [
           {
            "colorbar": {
             "outlinewidth": 0,
             "ticks": ""
            },
            "type": "contourcarpet"
           }
          ],
          "heatmap": [
           {
            "colorbar": {
             "outlinewidth": 0,
             "ticks": ""
            },
            "colorscale": [
             [
              0,
              "#0d0887"
             ],
             [
              0.1111111111111111,
              "#46039f"
             ],
             [
              0.2222222222222222,
              "#7201a8"
             ],
             [
              0.3333333333333333,
              "#9c179e"
             ],
             [
              0.4444444444444444,
              "#bd3786"
             ],
             [
              0.5555555555555556,
              "#d8576b"
             ],
             [
              0.6666666666666666,
              "#ed7953"
             ],
             [
              0.7777777777777778,
              "#fb9f3a"
             ],
             [
              0.8888888888888888,
              "#fdca26"
             ],
             [
              1,
              "#f0f921"
             ]
            ],
            "type": "heatmap"
           }
          ],
          "heatmapgl": [
           {
            "colorbar": {
             "outlinewidth": 0,
             "ticks": ""
            },
            "colorscale": [
             [
              0,
              "#0d0887"
             ],
             [
              0.1111111111111111,
              "#46039f"
             ],
             [
              0.2222222222222222,
              "#7201a8"
             ],
             [
              0.3333333333333333,
              "#9c179e"
             ],
             [
              0.4444444444444444,
              "#bd3786"
             ],
             [
              0.5555555555555556,
              "#d8576b"
             ],
             [
              0.6666666666666666,
              "#ed7953"
             ],
             [
              0.7777777777777778,
              "#fb9f3a"
             ],
             [
              0.8888888888888888,
              "#fdca26"
             ],
             [
              1,
              "#f0f921"
             ]
            ],
            "type": "heatmapgl"
           }
          ],
          "histogram": [
           {
            "marker": {
             "colorbar": {
              "outlinewidth": 0,
              "ticks": ""
             }
            },
            "type": "histogram"
           }
          ],
          "histogram2d": [
           {
            "colorbar": {
             "outlinewidth": 0,
             "ticks": ""
            },
            "colorscale": [
             [
              0,
              "#0d0887"
             ],
             [
              0.1111111111111111,
              "#46039f"
             ],
             [
              0.2222222222222222,
              "#7201a8"
             ],
             [
              0.3333333333333333,
              "#9c179e"
             ],
             [
              0.4444444444444444,
              "#bd3786"
             ],
             [
              0.5555555555555556,
              "#d8576b"
             ],
             [
              0.6666666666666666,
              "#ed7953"
             ],
             [
              0.7777777777777778,
              "#fb9f3a"
             ],
             [
              0.8888888888888888,
              "#fdca26"
             ],
             [
              1,
              "#f0f921"
             ]
            ],
            "type": "histogram2d"
           }
          ],
          "histogram2dcontour": [
           {
            "colorbar": {
             "outlinewidth": 0,
             "ticks": ""
            },
            "colorscale": [
             [
              0,
              "#0d0887"
             ],
             [
              0.1111111111111111,
              "#46039f"
             ],
             [
              0.2222222222222222,
              "#7201a8"
             ],
             [
              0.3333333333333333,
              "#9c179e"
             ],
             [
              0.4444444444444444,
              "#bd3786"
             ],
             [
              0.5555555555555556,
              "#d8576b"
             ],
             [
              0.6666666666666666,
              "#ed7953"
             ],
             [
              0.7777777777777778,
              "#fb9f3a"
             ],
             [
              0.8888888888888888,
              "#fdca26"
             ],
             [
              1,
              "#f0f921"
             ]
            ],
            "type": "histogram2dcontour"
           }
          ],
          "mesh3d": [
           {
            "colorbar": {
             "outlinewidth": 0,
             "ticks": ""
            },
            "type": "mesh3d"
           }
          ],
          "parcoords": [
           {
            "line": {
             "colorbar": {
              "outlinewidth": 0,
              "ticks": ""
             }
            },
            "type": "parcoords"
           }
          ],
          "scatter": [
           {
            "marker": {
             "colorbar": {
              "outlinewidth": 0,
              "ticks": ""
             }
            },
            "type": "scatter"
           }
          ],
          "scatter3d": [
           {
            "line": {
             "colorbar": {
              "outlinewidth": 0,
              "ticks": ""
             }
            },
            "marker": {
             "colorbar": {
              "outlinewidth": 0,
              "ticks": ""
             }
            },
            "type": "scatter3d"
           }
          ],
          "scattercarpet": [
           {
            "marker": {
             "colorbar": {
              "outlinewidth": 0,
              "ticks": ""
             }
            },
            "type": "scattercarpet"
           }
          ],
          "scattergeo": [
           {
            "marker": {
             "colorbar": {
              "outlinewidth": 0,
              "ticks": ""
             }
            },
            "type": "scattergeo"
           }
          ],
          "scattergl": [
           {
            "marker": {
             "colorbar": {
              "outlinewidth": 0,
              "ticks": ""
             }
            },
            "type": "scattergl"
           }
          ],
          "scattermapbox": [
           {
            "marker": {
             "colorbar": {
              "outlinewidth": 0,
              "ticks": ""
             }
            },
            "type": "scattermapbox"
           }
          ],
          "scatterpolar": [
           {
            "marker": {
             "colorbar": {
              "outlinewidth": 0,
              "ticks": ""
             }
            },
            "type": "scatterpolar"
           }
          ],
          "scatterpolargl": [
           {
            "marker": {
             "colorbar": {
              "outlinewidth": 0,
              "ticks": ""
             }
            },
            "type": "scatterpolargl"
           }
          ],
          "scatterternary": [
           {
            "marker": {
             "colorbar": {
              "outlinewidth": 0,
              "ticks": ""
             }
            },
            "type": "scatterternary"
           }
          ],
          "surface": [
           {
            "colorbar": {
             "outlinewidth": 0,
             "ticks": ""
            },
            "colorscale": [
             [
              0,
              "#0d0887"
             ],
             [
              0.1111111111111111,
              "#46039f"
             ],
             [
              0.2222222222222222,
              "#7201a8"
             ],
             [
              0.3333333333333333,
              "#9c179e"
             ],
             [
              0.4444444444444444,
              "#bd3786"
             ],
             [
              0.5555555555555556,
              "#d8576b"
             ],
             [
              0.6666666666666666,
              "#ed7953"
             ],
             [
              0.7777777777777778,
              "#fb9f3a"
             ],
             [
              0.8888888888888888,
              "#fdca26"
             ],
             [
              1,
              "#f0f921"
             ]
            ],
            "type": "surface"
           }
          ],
          "table": [
           {
            "cells": {
             "fill": {
              "color": "#EBF0F8"
             },
             "line": {
              "color": "white"
             }
            },
            "header": {
             "fill": {
              "color": "#C8D4E3"
             },
             "line": {
              "color": "white"
             }
            },
            "type": "table"
           }
          ]
         },
         "layout": {
          "annotationdefaults": {
           "arrowcolor": "#2a3f5f",
           "arrowhead": 0,
           "arrowwidth": 1
          },
          "colorscale": {
           "diverging": [
            [
             0,
             "#8e0152"
            ],
            [
             0.1,
             "#c51b7d"
            ],
            [
             0.2,
             "#de77ae"
            ],
            [
             0.3,
             "#f1b6da"
            ],
            [
             0.4,
             "#fde0ef"
            ],
            [
             0.5,
             "#f7f7f7"
            ],
            [
             0.6,
             "#e6f5d0"
            ],
            [
             0.7,
             "#b8e186"
            ],
            [
             0.8,
             "#7fbc41"
            ],
            [
             0.9,
             "#4d9221"
            ],
            [
             1,
             "#276419"
            ]
           ],
           "sequential": [
            [
             0,
             "#0d0887"
            ],
            [
             0.1111111111111111,
             "#46039f"
            ],
            [
             0.2222222222222222,
             "#7201a8"
            ],
            [
             0.3333333333333333,
             "#9c179e"
            ],
            [
             0.4444444444444444,
             "#bd3786"
            ],
            [
             0.5555555555555556,
             "#d8576b"
            ],
            [
             0.6666666666666666,
             "#ed7953"
            ],
            [
             0.7777777777777778,
             "#fb9f3a"
            ],
            [
             0.8888888888888888,
             "#fdca26"
            ],
            [
             1,
             "#f0f921"
            ]
           ],
           "sequentialminus": [
            [
             0,
             "#0d0887"
            ],
            [
             0.1111111111111111,
             "#46039f"
            ],
            [
             0.2222222222222222,
             "#7201a8"
            ],
            [
             0.3333333333333333,
             "#9c179e"
            ],
            [
             0.4444444444444444,
             "#bd3786"
            ],
            [
             0.5555555555555556,
             "#d8576b"
            ],
            [
             0.6666666666666666,
             "#ed7953"
            ],
            [
             0.7777777777777778,
             "#fb9f3a"
            ],
            [
             0.8888888888888888,
             "#fdca26"
            ],
            [
             1,
             "#f0f921"
            ]
           ]
          },
          "colorway": [
           "#636efa",
           "#EF553B",
           "#00cc96",
           "#ab63fa",
           "#FFA15A",
           "#19d3f3",
           "#FF6692",
           "#B6E880",
           "#FF97FF",
           "#FECB52"
          ],
          "font": {
           "color": "#2a3f5f"
          },
          "geo": {
           "bgcolor": "white",
           "lakecolor": "white",
           "landcolor": "#E5ECF6",
           "showlakes": true,
           "showland": true,
           "subunitcolor": "white"
          },
          "hoverlabel": {
           "align": "left"
          },
          "hovermode": "closest",
          "mapbox": {
           "style": "light"
          },
          "paper_bgcolor": "white",
          "plot_bgcolor": "#E5ECF6",
          "polar": {
           "angularaxis": {
            "gridcolor": "white",
            "linecolor": "white",
            "ticks": ""
           },
           "bgcolor": "#E5ECF6",
           "radialaxis": {
            "gridcolor": "white",
            "linecolor": "white",
            "ticks": ""
           }
          },
          "scene": {
           "xaxis": {
            "backgroundcolor": "#E5ECF6",
            "gridcolor": "white",
            "gridwidth": 2,
            "linecolor": "white",
            "showbackground": true,
            "ticks": "",
            "zerolinecolor": "white"
           },
           "yaxis": {
            "backgroundcolor": "#E5ECF6",
            "gridcolor": "white",
            "gridwidth": 2,
            "linecolor": "white",
            "showbackground": true,
            "ticks": "",
            "zerolinecolor": "white"
           },
           "zaxis": {
            "backgroundcolor": "#E5ECF6",
            "gridcolor": "white",
            "gridwidth": 2,
            "linecolor": "white",
            "showbackground": true,
            "ticks": "",
            "zerolinecolor": "white"
           }
          },
          "shapedefaults": {
           "line": {
            "color": "#2a3f5f"
           }
          },
          "ternary": {
           "aaxis": {
            "gridcolor": "white",
            "linecolor": "white",
            "ticks": ""
           },
           "baxis": {
            "gridcolor": "white",
            "linecolor": "white",
            "ticks": ""
           },
           "bgcolor": "#E5ECF6",
           "caxis": {
            "gridcolor": "white",
            "linecolor": "white",
            "ticks": ""
           }
          },
          "title": {
           "x": 0.05
          },
          "xaxis": {
           "automargin": true,
           "gridcolor": "white",
           "linecolor": "white",
           "ticks": "",
           "zerolinecolor": "white",
           "zerolinewidth": 2
          },
          "yaxis": {
           "automargin": true,
           "gridcolor": "white",
           "linecolor": "white",
           "ticks": "",
           "zerolinecolor": "white",
           "zerolinewidth": 2
          }
         }
        },
        "xaxis": {
         "anchor": "y",
         "domain": [
          0,
          0.98
         ],
         "title": {
          "text": "USAOtherEthnicity"
         }
        },
        "yaxis": {
         "anchor": "x",
         "domain": [
          0,
          1
         ],
         "title": {
          "text": "Percent"
         }
        }
       }
      },
      "text/html": [
       "<div>\n",
       "        \n",
       "        \n",
       "            <div id=\"f472cf53-1e71-4861-a4f5-2e3036b684ce\" class=\"plotly-graph-div\" style=\"height:600px; width:100%;\"></div>\n",
       "            <script type=\"text/javascript\">\n",
       "                require([\"plotly\"], function(Plotly) {\n",
       "                    window.PLOTLYENV=window.PLOTLYENV || {};\n",
       "                    \n",
       "                if (document.getElementById(\"f472cf53-1e71-4861-a4f5-2e3036b684ce\")) {\n",
       "                    Plotly.newPlot(\n",
       "                        'f472cf53-1e71-4861-a4f5-2e3036b684ce',\n",
       "                        [{\"alignmentgroup\": \"True\", \"bingroup\": \"x\", \"hoverlabel\": {\"namelength\": 0}, \"hovertemplate\": \"Voted=1<br>USAOtherEthnicity=%{x}<br>count=%{y}\", \"legendgroup\": \"Voted=1\", \"marker\": {\"color\": \"#636EFA\"}, \"name\": \"Voted=1\", \"offsetgroup\": \"Voted=1\", \"orientation\": \"v\", \"showlegend\": true, \"type\": \"histogram\", \"x\": [1, 1, 1, 1, 1, 1, 1, 1, 1, 1, 1, 1, 1], \"xaxis\": \"x\", \"yaxis\": \"y\"}, {\"alignmentgroup\": \"True\", \"bingroup\": \"x\", \"hoverlabel\": {\"namelength\": 0}, \"hovertemplate\": \"Voted=0<br>USAOtherEthnicity=%{x}<br>count=%{y}\", \"legendgroup\": \"Voted=0\", \"marker\": {\"color\": \"#EF553B\"}, \"name\": \"Voted=0\", \"offsetgroup\": \"Voted=0\", \"orientation\": \"v\", \"showlegend\": true, \"type\": \"histogram\", \"x\": [1, 1, 1, 1, 1, 1, 1, 1, 1, 1, 1, 1, 1, 1], \"xaxis\": \"x\", \"yaxis\": \"y\"}],\n",
       "                        {\"barmode\": \"group\", \"barnorm\": \"percent\", \"height\": 600, \"legend\": {\"tracegroupgap\": 0}, \"margin\": {\"t\": 60}, \"template\": {\"data\": {\"bar\": [{\"error_x\": {\"color\": \"#2a3f5f\"}, \"error_y\": {\"color\": \"#2a3f5f\"}, \"marker\": {\"line\": {\"color\": \"#E5ECF6\", \"width\": 0.5}}, \"type\": \"bar\"}], \"barpolar\": [{\"marker\": {\"line\": {\"color\": \"#E5ECF6\", \"width\": 0.5}}, \"type\": \"barpolar\"}], \"carpet\": [{\"aaxis\": {\"endlinecolor\": \"#2a3f5f\", \"gridcolor\": \"white\", \"linecolor\": \"white\", \"minorgridcolor\": \"white\", \"startlinecolor\": \"#2a3f5f\"}, \"baxis\": {\"endlinecolor\": \"#2a3f5f\", \"gridcolor\": \"white\", \"linecolor\": \"white\", \"minorgridcolor\": \"white\", \"startlinecolor\": \"#2a3f5f\"}, \"type\": \"carpet\"}], \"choropleth\": [{\"colorbar\": {\"outlinewidth\": 0, \"ticks\": \"\"}, \"type\": \"choropleth\"}], \"contour\": [{\"colorbar\": {\"outlinewidth\": 0, \"ticks\": \"\"}, \"colorscale\": [[0.0, \"#0d0887\"], [0.1111111111111111, \"#46039f\"], [0.2222222222222222, \"#7201a8\"], [0.3333333333333333, \"#9c179e\"], [0.4444444444444444, \"#bd3786\"], [0.5555555555555556, \"#d8576b\"], [0.6666666666666666, \"#ed7953\"], [0.7777777777777778, \"#fb9f3a\"], [0.8888888888888888, \"#fdca26\"], [1.0, \"#f0f921\"]], \"type\": \"contour\"}], \"contourcarpet\": [{\"colorbar\": {\"outlinewidth\": 0, \"ticks\": \"\"}, \"type\": \"contourcarpet\"}], \"heatmap\": [{\"colorbar\": {\"outlinewidth\": 0, \"ticks\": \"\"}, \"colorscale\": [[0.0, \"#0d0887\"], [0.1111111111111111, \"#46039f\"], [0.2222222222222222, \"#7201a8\"], [0.3333333333333333, \"#9c179e\"], [0.4444444444444444, \"#bd3786\"], [0.5555555555555556, \"#d8576b\"], [0.6666666666666666, \"#ed7953\"], [0.7777777777777778, \"#fb9f3a\"], [0.8888888888888888, \"#fdca26\"], [1.0, \"#f0f921\"]], \"type\": \"heatmap\"}], \"heatmapgl\": [{\"colorbar\": {\"outlinewidth\": 0, \"ticks\": \"\"}, \"colorscale\": [[0.0, \"#0d0887\"], [0.1111111111111111, \"#46039f\"], [0.2222222222222222, \"#7201a8\"], [0.3333333333333333, \"#9c179e\"], [0.4444444444444444, \"#bd3786\"], [0.5555555555555556, \"#d8576b\"], [0.6666666666666666, \"#ed7953\"], [0.7777777777777778, \"#fb9f3a\"], [0.8888888888888888, \"#fdca26\"], [1.0, \"#f0f921\"]], \"type\": \"heatmapgl\"}], \"histogram\": [{\"marker\": {\"colorbar\": {\"outlinewidth\": 0, \"ticks\": \"\"}}, \"type\": \"histogram\"}], \"histogram2d\": [{\"colorbar\": {\"outlinewidth\": 0, \"ticks\": \"\"}, \"colorscale\": [[0.0, \"#0d0887\"], [0.1111111111111111, \"#46039f\"], [0.2222222222222222, \"#7201a8\"], [0.3333333333333333, \"#9c179e\"], [0.4444444444444444, \"#bd3786\"], [0.5555555555555556, \"#d8576b\"], [0.6666666666666666, \"#ed7953\"], [0.7777777777777778, \"#fb9f3a\"], [0.8888888888888888, \"#fdca26\"], [1.0, \"#f0f921\"]], \"type\": \"histogram2d\"}], \"histogram2dcontour\": [{\"colorbar\": {\"outlinewidth\": 0, \"ticks\": \"\"}, \"colorscale\": [[0.0, \"#0d0887\"], [0.1111111111111111, \"#46039f\"], [0.2222222222222222, \"#7201a8\"], [0.3333333333333333, \"#9c179e\"], [0.4444444444444444, \"#bd3786\"], [0.5555555555555556, \"#d8576b\"], [0.6666666666666666, \"#ed7953\"], [0.7777777777777778, \"#fb9f3a\"], [0.8888888888888888, \"#fdca26\"], [1.0, \"#f0f921\"]], \"type\": \"histogram2dcontour\"}], \"mesh3d\": [{\"colorbar\": {\"outlinewidth\": 0, \"ticks\": \"\"}, \"type\": \"mesh3d\"}], \"parcoords\": [{\"line\": {\"colorbar\": {\"outlinewidth\": 0, \"ticks\": \"\"}}, \"type\": \"parcoords\"}], \"scatter\": [{\"marker\": {\"colorbar\": {\"outlinewidth\": 0, \"ticks\": \"\"}}, \"type\": \"scatter\"}], \"scatter3d\": [{\"line\": {\"colorbar\": {\"outlinewidth\": 0, \"ticks\": \"\"}}, \"marker\": {\"colorbar\": {\"outlinewidth\": 0, \"ticks\": \"\"}}, \"type\": \"scatter3d\"}], \"scattercarpet\": [{\"marker\": {\"colorbar\": {\"outlinewidth\": 0, \"ticks\": \"\"}}, \"type\": \"scattercarpet\"}], \"scattergeo\": [{\"marker\": {\"colorbar\": {\"outlinewidth\": 0, \"ticks\": \"\"}}, \"type\": \"scattergeo\"}], \"scattergl\": [{\"marker\": {\"colorbar\": {\"outlinewidth\": 0, \"ticks\": \"\"}}, \"type\": \"scattergl\"}], \"scattermapbox\": [{\"marker\": {\"colorbar\": {\"outlinewidth\": 0, \"ticks\": \"\"}}, \"type\": \"scattermapbox\"}], \"scatterpolar\": [{\"marker\": {\"colorbar\": {\"outlinewidth\": 0, \"ticks\": \"\"}}, \"type\": \"scatterpolar\"}], \"scatterpolargl\": [{\"marker\": {\"colorbar\": {\"outlinewidth\": 0, \"ticks\": \"\"}}, \"type\": \"scatterpolargl\"}], \"scatterternary\": [{\"marker\": {\"colorbar\": {\"outlinewidth\": 0, \"ticks\": \"\"}}, \"type\": \"scatterternary\"}], \"surface\": [{\"colorbar\": {\"outlinewidth\": 0, \"ticks\": \"\"}, \"colorscale\": [[0.0, \"#0d0887\"], [0.1111111111111111, \"#46039f\"], [0.2222222222222222, \"#7201a8\"], [0.3333333333333333, \"#9c179e\"], [0.4444444444444444, \"#bd3786\"], [0.5555555555555556, \"#d8576b\"], [0.6666666666666666, \"#ed7953\"], [0.7777777777777778, \"#fb9f3a\"], [0.8888888888888888, \"#fdca26\"], [1.0, \"#f0f921\"]], \"type\": \"surface\"}], \"table\": [{\"cells\": {\"fill\": {\"color\": \"#EBF0F8\"}, \"line\": {\"color\": \"white\"}}, \"header\": {\"fill\": {\"color\": \"#C8D4E3\"}, \"line\": {\"color\": \"white\"}}, \"type\": \"table\"}]}, \"layout\": {\"annotationdefaults\": {\"arrowcolor\": \"#2a3f5f\", \"arrowhead\": 0, \"arrowwidth\": 1}, \"colorscale\": {\"diverging\": [[0, \"#8e0152\"], [0.1, \"#c51b7d\"], [0.2, \"#de77ae\"], [0.3, \"#f1b6da\"], [0.4, \"#fde0ef\"], [0.5, \"#f7f7f7\"], [0.6, \"#e6f5d0\"], [0.7, \"#b8e186\"], [0.8, \"#7fbc41\"], [0.9, \"#4d9221\"], [1, \"#276419\"]], \"sequential\": [[0.0, \"#0d0887\"], [0.1111111111111111, \"#46039f\"], [0.2222222222222222, \"#7201a8\"], [0.3333333333333333, \"#9c179e\"], [0.4444444444444444, \"#bd3786\"], [0.5555555555555556, \"#d8576b\"], [0.6666666666666666, \"#ed7953\"], [0.7777777777777778, \"#fb9f3a\"], [0.8888888888888888, \"#fdca26\"], [1.0, \"#f0f921\"]], \"sequentialminus\": [[0.0, \"#0d0887\"], [0.1111111111111111, \"#46039f\"], [0.2222222222222222, \"#7201a8\"], [0.3333333333333333, \"#9c179e\"], [0.4444444444444444, \"#bd3786\"], [0.5555555555555556, \"#d8576b\"], [0.6666666666666666, \"#ed7953\"], [0.7777777777777778, \"#fb9f3a\"], [0.8888888888888888, \"#fdca26\"], [1.0, \"#f0f921\"]]}, \"colorway\": [\"#636efa\", \"#EF553B\", \"#00cc96\", \"#ab63fa\", \"#FFA15A\", \"#19d3f3\", \"#FF6692\", \"#B6E880\", \"#FF97FF\", \"#FECB52\"], \"font\": {\"color\": \"#2a3f5f\"}, \"geo\": {\"bgcolor\": \"white\", \"lakecolor\": \"white\", \"landcolor\": \"#E5ECF6\", \"showlakes\": true, \"showland\": true, \"subunitcolor\": \"white\"}, \"hoverlabel\": {\"align\": \"left\"}, \"hovermode\": \"closest\", \"mapbox\": {\"style\": \"light\"}, \"paper_bgcolor\": \"white\", \"plot_bgcolor\": \"#E5ECF6\", \"polar\": {\"angularaxis\": {\"gridcolor\": \"white\", \"linecolor\": \"white\", \"ticks\": \"\"}, \"bgcolor\": \"#E5ECF6\", \"radialaxis\": {\"gridcolor\": \"white\", \"linecolor\": \"white\", \"ticks\": \"\"}}, \"scene\": {\"xaxis\": {\"backgroundcolor\": \"#E5ECF6\", \"gridcolor\": \"white\", \"gridwidth\": 2, \"linecolor\": \"white\", \"showbackground\": true, \"ticks\": \"\", \"zerolinecolor\": \"white\"}, \"yaxis\": {\"backgroundcolor\": \"#E5ECF6\", \"gridcolor\": \"white\", \"gridwidth\": 2, \"linecolor\": \"white\", \"showbackground\": true, \"ticks\": \"\", \"zerolinecolor\": \"white\"}, \"zaxis\": {\"backgroundcolor\": \"#E5ECF6\", \"gridcolor\": \"white\", \"gridwidth\": 2, \"linecolor\": \"white\", \"showbackground\": true, \"ticks\": \"\", \"zerolinecolor\": \"white\"}}, \"shapedefaults\": {\"line\": {\"color\": \"#2a3f5f\"}}, \"ternary\": {\"aaxis\": {\"gridcolor\": \"white\", \"linecolor\": \"white\", \"ticks\": \"\"}, \"baxis\": {\"gridcolor\": \"white\", \"linecolor\": \"white\", \"ticks\": \"\"}, \"bgcolor\": \"#E5ECF6\", \"caxis\": {\"gridcolor\": \"white\", \"linecolor\": \"white\", \"ticks\": \"\"}}, \"title\": {\"x\": 0.05}, \"xaxis\": {\"automargin\": true, \"gridcolor\": \"white\", \"linecolor\": \"white\", \"ticks\": \"\", \"zerolinecolor\": \"white\", \"zerolinewidth\": 2}, \"yaxis\": {\"automargin\": true, \"gridcolor\": \"white\", \"linecolor\": \"white\", \"ticks\": \"\", \"zerolinecolor\": \"white\", \"zerolinewidth\": 2}}}, \"xaxis\": {\"anchor\": \"y\", \"domain\": [0.0, 0.98], \"title\": {\"text\": \"USAOtherEthnicity\"}}, \"yaxis\": {\"anchor\": \"x\", \"domain\": [0.0, 1.0], \"title\": {\"text\": \"Percent\"}}},\n",
       "                        {\"responsive\": true}\n",
       "                    ).then(function(){\n",
       "                            \n",
       "var gd = document.getElementById('f472cf53-1e71-4861-a4f5-2e3036b684ce');\n",
       "var x = new MutationObserver(function (mutations, observer) {{\n",
       "        var display = window.getComputedStyle(gd).display;\n",
       "        if (!display || display === 'none') {{\n",
       "            console.log([gd, 'removed!']);\n",
       "            Plotly.purge(gd);\n",
       "            observer.disconnect();\n",
       "        }}\n",
       "}});\n",
       "\n",
       "// Listen for the removal of the full notebook cells\n",
       "var notebookContainer = gd.closest('#notebook-container');\n",
       "if (notebookContainer) {{\n",
       "    x.observe(notebookContainer, {childList: true});\n",
       "}}\n",
       "\n",
       "// Listen for the clearing of the current output cell\n",
       "var outputEl = gd.closest('.output');\n",
       "if (outputEl) {{\n",
       "    x.observe(outputEl, {childList: true});\n",
       "}}\n",
       "\n",
       "                        })\n",
       "                };\n",
       "                });\n",
       "            </script>\n",
       "        </div>"
      ]
     },
     "metadata": {},
     "output_type": "display_data"
    }
   ],
   "source": [
    "ShowTwoWayHeatmap(data,'USAOtherEthnicity','Voted', normalize=False)\n",
    "\n",
    "fig=px.histogram(data[data['USAOtherEthnicity']==1], x=\"USAOtherEthnicity\",color='Voted',color_discrete_map=color_discrete_map,barnorm='percent')\n",
    "fig.update_layout(barmode='group',yaxis_title=\"Percent\")"
   ]
  },
  {
   "cell_type": "markdown",
   "metadata": {},
   "source": [
    "Insights:\n",
    "    \n",
    "Another subsection we should consider removing for predictive modeling due to skew. This makes identifying with other very ethnicities have a probability of voting/not voting look significant when it may not be if properly sampled."
   ]
  },
  {
   "cell_type": "markdown",
   "metadata": {},
   "source": [
    "# Voted vs Gender"
   ]
  },
  {
   "cell_type": "code",
   "execution_count": 53,
   "metadata": {},
   "outputs": [
    {
     "data": {
      "image/png": "[encoded data removed]",
      "text/plain": [
       "<Figure size 936x432 with 2 Axes>"
      ]
     },
     "metadata": {
      "needs_background": "light"
     },
     "output_type": "display_data"
    },
    {
     "data": {
      "application/vnd.plotly.v1+json": {
       "config": {
        "plotlyServerURL": "https://plot.ly"
       },
       "data": [
        {
         "alignmentgroup": "True",
         "bingroup": "x",
         "hoverlabel": {
          "namelength": 0
         },
         "hovertemplate": "Voted=1<br>gender_Groups=%{x}<br>count=%{y}",
         "legendgroup": "Voted=1",
         "marker": {
          "color": "#636EFA"
         },
         "name": "Voted=1",
         "offsetgroup": "Voted=1",
         "orientation": "v",
         "showlegend": true,
         "type": "histogram",
         "x": [
          "Female",
          "Female",
          "Female",
          "Male",
          "Female",
          "Male",
          "Male",
          "Male",
          "Female",
          "Male",
          "Male",
          "Female",
          "Female",
          "Female",
          "Male",
          "Female",
          "Male",
          "Female",
          "Male",
          "Male",
          "Male",
          "Female",
          "Female",
          "Female",
          "Male",
          "Female",
          "Male",
          "Female",
          "Female",
          "Male",
          "Male",
          "Female",
          "Female",
          "Female",
          "Male",
          "Male",
          "Female",
          "Male",
          "Male",
          "Male",
          "Female",
          "Female",
          "Male",
          "Male",
          "Female",
          "Male",
          "Female",
          "Male",
          "Male",
          "Female",
          "Female",
          "Male",
          "Male",
          "Female",
          "Male",
          "Male",
          "Male",
          "Female",
          "Female",
          "Male",
          "Female",
          "Male",
          "Male",
          "Male",
          "Female",
          "Male",
          "Male",
          "Female",
          "Female",
          "Female",
          "Male",
          "Female",
          "Female",
          "Female",
          "Male",
          "Female",
          "Male",
          "Male",
          "Female",
          "Female",
          "Male",
          "Female",
          "Male",
          "Male",
          "Female",
          "Female",
          "Female",
          "Male",
          "Male",
          "Male",
          "Male",
          "Female",
          "Female",
          "Male",
          "Male",
          "Female",
          "Male",
          "Male",
          "Male",
          "Male",
          "Male",
          "Male",
          "Male",
          "Female",
          "Female",
          "Male",
          "Female",
          "Male",
          "Female",
          "Female",
          "Male",
          "Female",
          "Male",
          "Female",
          "Male",
          "Male",
          "Female",
          "Female",
          "Male",
          "Male",
          "Female",
          "Female",
          "Female",
          "Female",
          "Male",
          "Female",
          "Female",
          "Female",
          "Female",
          "Male",
          "Male",
          "Female",
          "Female",
          "Female",
          "Male",
          "Female",
          "Male",
          "Male",
          "Female",
          "Male",
          "Female",
          "Female",
          "Male",
          "Male",
          "Female",
          "Female",
          "Male",
          "Male",
          "Female",
          "Male",
          "Male",
          "Female",
          "Female",
          "Female",
          "Male",
          "Female",
          "Male",
          "Female",
          "Male",
          "Female",
          "Female",
          "Male",
          "Female",
          "Female",
          "Female",
          "Female",
          "Female",
          "Male",
          "Female",
          "Female",
          "Female",
          "Female",
          "Male",
          "Male",
          "Male",
          "Female",
          "Male",
          "Male",
          "Female",
          "Male",
          "Female",
          "Male",
          "Female",
          "Female",
          "Male",
          "Female",
          "Female",
          "Female",
          "Male",
          "Female",
          "Female",
          "Female",
          "Female",
          "Female",
          "Female",
          "Female",
          "Female",
          "Male",
          "Male",
          "Male",
          "Male",
          "Female",
          "Male",
          "Male",
          "Female",
          "Male",
          "Female",
          "Female",
          "Female",
          "Female",
          "Female",
          "Female",
          "Female",
          "Male",
          "Female",
          "Female",
          "Female",
          "Female",
          "Female",
          "Male",
          "Female",
          "Female",
          "Female",
          "Female",
          "Male",
          "Female",
          "Male",
          "Male",
          "Female",
          "Male",
          "Male",
          "Male",
          "Male",
          "Female",
          "Male",
          "Male",
          "Female",
          "Male",
          "Female",
          "Female",
          "Male",
          "Male",
          "Female",
          "Male",
          "Female",
          "Male",
          "Female",
          "Female",
          "Female",
          "Female",
          "Male",
          "Male",
          "Female",
          "Male",
          "Female",
          "Female",
          "Male",
          "Female",
          "Male",
          "Male",
          "Female",
          "Female",
          "Male",
          "Female",
          "Female",
          "Female",
          "Male",
          "Female",
          "Male",
          "Female",
          "Female",
          "Male",
          "Female",
          "Female",
          "Female",
          "Female",
          "Female",
          "Male",
          "Female",
          "Female",
          "Male",
          "Female",
          "Female",
          "Male",
          "Male",
          "Female",
          "Female",
          "Female",
          "Female",
          "Female",
          "Female",
          "Female",
          "Female",
          "Female",
          "Male",
          "Male",
          "Female",
          "Male",
          "Female",
          "Female",
          "Female",
          "Male",
          "Female",
          "Female",
          "Female",
          "Male",
          "Male",
          "Male",
          "Male",
          "Female",
          "Female",
          "Male",
          "Male",
          "Male",
          "Male",
          "Female",
          "Male",
          "Male",
          "Male",
          "Female",
          "Male",
          "Female",
          "Male",
          "Female",
          "Female",
          "Female",
          "Female",
          "Female",
          "Male",
          "Male",
          "Male",
          "Male",
          "Female",
          "Female",
          "Female",
          "Female",
          "Female",
          "Female",
          "Male",
          "Male",
          "Female",
          "Male",
          "Female",
          "Male",
          "Female",
          "Female",
          "Female",
          "Female",
          "Female",
          "Female",
          "Female",
          "Female",
          "Female",
          "Male",
          "Male",
          "Male",
          "Male",
          "Male",
          "Female",
          "Male",
          "Female",
          "Female",
          "Female",
          "Female",
          "Female",
          "Male",
          "Male",
          "Male",
          "Male",
          "Male",
          "Female",
          "Female",
          "Male",
          "Female",
          "Female",
          "Male",
          "Male",
          "Male",
          "Female",
          "Female",
          "Female",
          "Male",
          "Male",
          "Female",
          "Male",
          "Male",
          "Male",
          "Female",
          "Male",
          "Male",
          "Female",
          "Female",
          "Male",
          "Male",
          "Female",
          "Female",
          "Female",
          "Male",
          "Male",
          "Female",
          "Male",
          "Male",
          "Male",
          "Female",
          "Male",
          "Male",
          "Female",
          "Male",
          "Female",
          "Female",
          "Male",
          "Female",
          "Female",
          "Female",
          "Female",
          "Male",
          "Male",
          "Female",
          "Male",
          "Male",
          "Female",
          "Female",
          "Male",
          "Male",
          "Female",
          "Male",
          "Female",
          "Female",
          "Male",
          "Male",
          "Male",
          "Female",
          "Male",
          "Female",
          "Male",
          "Female",
          "Female",
          "Male",
          "Female",
          "Male",
          "Male",
          "Male",
          "Female",
          "Female",
          "Female",
          "Female",
          "Male",
          "Male",
          "Male",
          "Female",
          "Male",
          "Female",
          "Male",
          "Female",
          "Female",
          "Male",
          "Female",
          "Male",
          "Male",
          "Female",
          "Male",
          "Male",
          "Female",
          "Female",
          "Male",
          "Female",
          "Male",
          "Female",
          "Female",
          "Male",
          "Male",
          "Female",
          "Male",
          "Male",
          "Male",
          "Male",
          "Male",
          "Male",
          "Male",
          "Female",
          "Female",
          "Male",
          "Male",
          "Male",
          "Female",
          "Female",
          "Female",
          "Male",
          "Female",
          "Female",
          "Male",
          "Female",
          "Female",
          "Male",
          "Male",
          "Male",
          "Male",
          "Male",
          "Male",
          "Female",
          "Male",
          "Female",
          "Male",
          "Female",
          "Male",
          "Male",
          "Male",
          "Male",
          "Female",
          "Male",
          "Female",
          "Female",
          "Female",
          "Female",
          "Male",
          "Female",
          "Female",
          "Female",
          "Male",
          "Female",
          "Male",
          "Male",
          "Male",
          "Female",
          "Male",
          "Female",
          "Female",
          "Male",
          "Male",
          "Female",
          "Male",
          "Female",
          "Male",
          "Male",
          "Male",
          "Female",
          "Male",
          "Male",
          "Male",
          "Female",
          "Female",
          "Female",
          "Female",
          "Male",
          "Male",
          "Female",
          "Female",
          "Female",
          "Male",
          "Female",
          "Female",
          "Male",
          "Female",
          "Female",
          "Male",
          "Male",
          "Female",
          "Female",
          "Female",
          "Male",
          "Female",
          "Female",
          "Female",
          "Female",
          "Male",
          "Female",
          "Female",
          "Male",
          "Male",
          "Female",
          "Female",
          "Female",
          "Male",
          "Male",
          "Female",
          "Male",
          "Female",
          "Male",
          "Male",
          "Male",
          "Female",
          "Male",
          "Female",
          "Female",
          "Female",
          "Female",
          "Female",
          "Male",
          "Male",
          "Male",
          "Female",
          "Male",
          "Male",
          "Female",
          "Female",
          "Male",
          "Female",
          "Male",
          "Female",
          "Female",
          "Female",
          "Female",
          "Male",
          "Male",
          "Male",
          "Male",
          "Male",
          "Male",
          "Female",
          "Female",
          "Male",
          "Female",
          "Male",
          "Male",
          "Male",
          "Male",
          "Female",
          "Female",
          "Female",
          "Male",
          "Male",
          "Female",
          "Male",
          "Female",
          "Female",
          "Female",
          "Male",
          "Female",
          "Female",
          "Male",
          "Female",
          "Male",
          "Female",
          "Male",
          "Female",
          "Female",
          "Male",
          "Male",
          "Female",
          "Male",
          "Female",
          "Female",
          "Male",
          "Male",
          "Female",
          "Female",
          "Male",
          "Female",
          "Male",
          "Female",
          "Male",
          "Female",
          "Male",
          "Female",
          "Male",
          "Male",
          "Male",
          "Male",
          "Male",
          "Female",
          "Male",
          "Female",
          "Female",
          "Female",
          "Male",
          "Male",
          "Male",
          "Male",
          "Female",
          "Female",
          "Female",
          "Male",
          "Female",
          "Female",
          "Female",
          "Male",
          "Male",
          "Female",
          "Female",
          "Female",
          "Male",
          "Female",
          "Female",
          "Female",
          "Male",
          "Female",
          "Female",
          "Male",
          "Male",
          "Female",
          "Female",
          "Female",
          "Male",
          "Male",
          "Female",
          "Male",
          "Female",
          "Female",
          "Female",
          "Male",
          "Male",
          "Male",
          "Female",
          "Male",
          "Female",
          "Male",
          "Female",
          "Male",
          "Female",
          "Male",
          "Male",
          "Female",
          "Male",
          "Male",
          "Male",
          "Male",
          "Male",
          "Male",
          "Male",
          "Female",
          "Male",
          "Male",
          "Female",
          "Male",
          "Female",
          "Female",
          "Female",
          "Female",
          "Male",
          "Male",
          "Male",
          "Female",
          "Male",
          "Female",
          "Male",
          "Female",
          "Male",
          "Male",
          "Female",
          "Female",
          "Female",
          "Female",
          "Male",
          "Male",
          "Male",
          "Male",
          "Female",
          "Male",
          "Female",
          "Male",
          "Male",
          "Female",
          "Male",
          "Male",
          "Female",
          "Male",
          "Male",
          "Female",
          "Male",
          "Male",
          "Male",
          "Male",
          "Male",
          "Male",
          "Male",
          "Male",
          "Male",
          "Male",
          "Male"
         ],
         "xaxis": "x",
         "yaxis": "y"
        },
        {
         "alignmentgroup": "True",
         "bingroup": "x",
         "hoverlabel": {
          "namelength": 0
         },
         "hovertemplate": "Voted=0<br>gender_Groups=%{x}<br>count=%{y}",
         "legendgroup": "Voted=0",
         "marker": {
          "color": "#EF553B"
         },
         "name": "Voted=0",
         "offsetgroup": "Voted=0",
         "orientation": "v",
         "showlegend": true,
         "type": "histogram",
         "x": [
          "Female",
          "Male",
          "Female",
          "Female",
          "Male",
          "Female",
          "Female",
          "Female",
          "Female",
          "Female",
          "Male",
          "Female",
          "Female",
          "Male",
          "Male",
          "Female",
          "Female",
          "Female",
          "Male",
          "Female",
          "Male",
          "Male",
          "Male",
          "Male",
          "Male",
          "Male",
          "Female",
          "Female",
          "Male",
          "Female",
          "Female",
          "Female",
          "Female",
          "Female",
          "Male",
          "Female",
          "Male",
          "Male",
          "Male",
          "Female",
          "Male",
          "Male",
          "Female",
          "Female",
          "Female",
          "Male",
          "Female",
          "Male",
          "Male",
          "Female",
          "Female",
          "Female",
          "Male",
          "Female",
          "Female",
          "Female",
          "Female",
          "Female",
          "Female",
          "Female",
          "Female",
          "Male",
          "Female",
          "Female",
          "Female",
          "Male",
          "Female",
          "Female",
          "Male",
          "Male",
          "Male",
          "Female",
          "Male",
          "Male",
          "Female",
          "Female",
          "Male",
          "Female",
          "Female",
          "Male",
          "Female",
          "Male",
          "Female",
          "Male",
          "Female",
          "Male",
          "Female",
          "Male",
          "Female",
          "Male",
          "Male",
          "Male",
          "Male",
          "Female",
          "Male",
          "Male",
          "Female",
          "Female",
          "Female",
          "Female",
          "Female",
          "Female",
          "Male",
          "Male",
          "Male",
          "Male",
          "Female",
          "Female",
          "Male",
          "Female",
          "Female",
          "Male",
          "Male",
          "Male",
          "Male",
          "Male",
          "Female",
          "Female",
          "Female",
          "Female",
          "Male",
          "Female",
          "Male",
          "Female",
          "Female",
          "Female",
          "Female",
          "Female",
          "Female",
          "Female",
          "Female",
          "Female",
          "Male",
          "Male",
          "Female",
          "Male",
          "Male",
          "Male",
          "Female",
          "Female",
          "Female",
          "Male",
          "Male",
          "Female",
          "Male",
          "Female",
          "Female",
          "Male",
          "Female",
          "Male",
          "Male",
          "Female",
          "Female",
          "Female",
          "Male",
          "Male",
          "Female",
          "Male",
          "Female",
          "Female",
          "Male",
          "Male",
          "Female",
          "Female",
          "Female",
          "Male",
          "Female",
          "Male",
          "Female",
          "Female",
          "Male",
          "Male",
          "Male",
          "Female",
          "Male",
          "Male",
          "Female",
          "Female",
          "Female",
          "Male",
          "Female",
          "Female",
          "Female",
          "Female",
          "Male",
          "Female",
          "Female",
          "Male",
          "Female",
          "Male",
          "Female",
          "Male",
          "Female",
          "Male",
          "Female",
          "Female",
          "Female",
          "Male",
          "Male",
          "Male",
          "Male",
          "Female",
          "Female",
          "Male",
          "Female",
          "Male",
          "Male",
          "Female",
          "Female",
          "Male",
          "Male",
          "Female",
          "Female",
          "Female",
          "Male",
          "Male",
          "Female",
          "Female",
          "Male",
          "Female",
          "Male",
          "Male",
          "Female",
          "Female",
          "Male",
          "Female",
          "Female",
          "Female",
          "Female",
          "Male",
          "Male",
          "Male",
          "Male",
          "Female",
          "Female",
          "Female",
          "Female",
          "Male",
          "Male",
          "Female",
          "Male",
          "Female",
          "Female",
          "Male",
          "Female",
          "Female",
          "Female",
          "Female",
          "Male",
          "Male",
          "Male",
          "Male",
          "Female",
          "Male",
          "Male",
          "Male",
          "Female",
          "Male",
          "Male",
          "Female",
          "Female",
          "Female",
          "Female",
          "Female",
          "Female",
          "Male",
          "Female",
          "Female",
          "Male",
          "Female",
          "Female",
          "Female",
          "Female",
          "Male",
          "Female",
          "Female",
          "Male",
          "Male",
          "Female",
          "Male",
          "Female",
          "Female",
          "Female",
          "Female",
          "Female",
          "Male",
          "Male",
          "Male",
          "Female",
          "Female",
          "Male",
          "Female",
          "Female",
          "Female",
          "Male",
          "Male",
          "Female",
          "Male",
          "Male",
          "Female",
          "Male",
          "Female",
          "Female",
          "Male",
          "Male",
          "Female",
          "Male",
          "Male",
          "Female",
          "Female",
          "Female",
          "Male",
          "Female",
          "Male",
          "Male",
          "Female",
          "Female",
          "Male",
          "Female",
          "Male",
          "Male",
          "Male",
          "Female",
          "Male",
          "Female",
          "Female",
          "Female",
          "Female",
          "Male",
          "Male",
          "Female",
          "Female",
          "Male",
          "Female",
          "Female",
          "Male",
          "Female",
          "Female",
          "Female",
          "Male",
          "Female",
          "Male",
          "Male",
          "Female",
          "Male",
          "Female",
          "Female",
          "Female",
          "Female",
          "Male",
          "Male",
          "Female",
          "Male",
          "Male",
          "Male",
          "Female",
          "Male",
          "Female",
          "Female",
          "Female",
          "Male",
          "Male",
          "Female",
          "Male",
          "Female",
          "Male",
          "Male",
          "Male",
          "Male",
          "Male",
          "Male",
          "Female",
          "Male",
          "Male",
          "Female",
          "Male",
          "Female",
          "Female",
          "Female",
          "Female",
          "Female",
          "Female",
          "Male",
          "Female",
          "Male",
          "Male",
          "Female",
          "Female",
          "Female",
          "Male",
          "Female",
          "Female",
          "Male",
          "Male",
          "Female",
          "Female",
          "Female",
          "Female",
          "Male",
          "Female",
          "Male",
          "Female",
          "Female",
          "Male",
          "Female",
          "Male",
          "Male",
          "Male",
          "Female",
          "Male",
          "Female",
          "Female",
          "Male",
          "Female",
          "Female",
          "Female",
          "Female",
          "Male",
          "Male",
          "Female",
          "Male",
          "Female",
          "Male",
          "Female",
          "Female",
          "Female",
          "Female",
          "Female",
          "Male",
          "Male",
          "Male",
          "Female",
          "Female",
          "Female",
          "Female",
          "Female",
          "Male",
          "Male",
          "Female",
          "Female",
          "Female",
          "Female",
          "Female",
          "Male",
          "Male",
          "Female",
          "Female",
          "Male",
          "Male",
          "Female",
          "Female",
          "Male",
          "Female",
          "Male",
          "Male",
          "Male",
          "Male",
          "Male",
          "Male"
         ],
         "xaxis": "x",
         "yaxis": "y"
        }
       ],
       "layout": {
        "barmode": "group",
        "barnorm": "percent",
        "height": 600,
        "legend": {
         "tracegroupgap": 0
        },
        "margin": {
         "t": 60
        },
        "template": {
         "data": {
          "bar": [
           {
            "error_x": {
             "color": "#2a3f5f"
            },
            "error_y": {
             "color": "#2a3f5f"
            },
            "marker": {
             "line": {
              "color": "#E5ECF6",
              "width": 0.5
             }
            },
            "type": "bar"
           }
          ],
          "barpolar": [
           {
            "marker": {
             "line": {
              "color": "#E5ECF6",
              "width": 0.5
             }
            },
            "type": "barpolar"
           }
          ],
          "carpet": [
           {
            "aaxis": {
             "endlinecolor": "#2a3f5f",
             "gridcolor": "white",
             "linecolor": "white",
             "minorgridcolor": "white",
             "startlinecolor": "#2a3f5f"
            },
            "baxis": {
             "endlinecolor": "#2a3f5f",
             "gridcolor": "white",
             "linecolor": "white",
             "minorgridcolor": "white",
             "startlinecolor": "#2a3f5f"
            },
            "type": "carpet"
           }
          ],
          "choropleth": [
           {
            "colorbar": {
             "outlinewidth": 0,
             "ticks": ""
            },
            "type": "choropleth"
           }
          ],
          "contour": [
           {
            "colorbar": {
             "outlinewidth": 0,
             "ticks": ""
            },
            "colorscale": [
             [
              0,
              "#0d0887"
             ],
             [
              0.1111111111111111,
              "#46039f"
             ],
             [
              0.2222222222222222,
              "#7201a8"
             ],
             [
              0.3333333333333333,
              "#9c179e"
             ],
             [
              0.4444444444444444,
              "#bd3786"
             ],
             [
              0.5555555555555556,
              "#d8576b"
             ],
             [
              0.6666666666666666,
              "#ed7953"
             ],
             [
              0.7777777777777778,
              "#fb9f3a"
             ],
             [
              0.8888888888888888,
              "#fdca26"
             ],
             [
              1,
              "#f0f921"
             ]
            ],
            "type": "contour"
           }
          ],
          "contourcarpet": [
           {
            "colorbar": {
             "outlinewidth": 0,
             "ticks": ""
            },
            "type": "contourcarpet"
           }
          ],
          "heatmap": [
           {
            "colorbar": {
             "outlinewidth": 0,
             "ticks": ""
            },
            "colorscale": [
             [
              0,
              "#0d0887"
             ],
             [
              0.1111111111111111,
              "#46039f"
             ],
             [
              0.2222222222222222,
              "#7201a8"
             ],
             [
              0.3333333333333333,
              "#9c179e"
             ],
             [
              0.4444444444444444,
              "#bd3786"
             ],
             [
              0.5555555555555556,
              "#d8576b"
             ],
             [
              0.6666666666666666,
              "#ed7953"
             ],
             [
              0.7777777777777778,
              "#fb9f3a"
             ],
             [
              0.8888888888888888,
              "#fdca26"
             ],
             [
              1,
              "#f0f921"
             ]
            ],
            "type": "heatmap"
           }
          ],
          "heatmapgl": [
           {
            "colorbar": {
             "outlinewidth": 0,
             "ticks": ""
            },
            "colorscale": [
             [
              0,
              "#0d0887"
             ],
             [
              0.1111111111111111,
              "#46039f"
             ],
             [
              0.2222222222222222,
              "#7201a8"
             ],
             [
              0.3333333333333333,
              "#9c179e"
             ],
             [
              0.4444444444444444,
              "#bd3786"
             ],
             [
              0.5555555555555556,
              "#d8576b"
             ],
             [
              0.6666666666666666,
              "#ed7953"
             ],
             [
              0.7777777777777778,
              "#fb9f3a"
             ],
             [
              0.8888888888888888,
              "#fdca26"
             ],
             [
              1,
              "#f0f921"
             ]
            ],
            "type": "heatmapgl"
           }
          ],
          "histogram": [
           {
            "marker": {
             "colorbar": {
              "outlinewidth": 0,
              "ticks": ""
             }
            },
            "type": "histogram"
           }
          ],
          "histogram2d": [
           {
            "colorbar": {
             "outlinewidth": 0,
             "ticks": ""
            },
            "colorscale": [
             [
              0,
              "#0d0887"
             ],
             [
              0.1111111111111111,
              "#46039f"
             ],
             [
              0.2222222222222222,
              "#7201a8"
             ],
             [
              0.3333333333333333,
              "#9c179e"
             ],
             [
              0.4444444444444444,
              "#bd3786"
             ],
             [
              0.5555555555555556,
              "#d8576b"
             ],
             [
              0.6666666666666666,
              "#ed7953"
             ],
             [
              0.7777777777777778,
              "#fb9f3a"
             ],
             [
              0.8888888888888888,
              "#fdca26"
             ],
             [
              1,
              "#f0f921"
             ]
            ],
            "type": "histogram2d"
           }
          ],
          "histogram2dcontour": [
           {
            "colorbar": {
             "outlinewidth": 0,
             "ticks": ""
            },
            "colorscale": [
             [
              0,
              "#0d0887"
             ],
             [
              0.1111111111111111,
              "#46039f"
             ],
             [
              0.2222222222222222,
              "#7201a8"
             ],
             [
              0.3333333333333333,
              "#9c179e"
             ],
             [
              0.4444444444444444,
              "#bd3786"
             ],
             [
              0.5555555555555556,
              "#d8576b"
             ],
             [
              0.6666666666666666,
              "#ed7953"
             ],
             [
              0.7777777777777778,
              "#fb9f3a"
             ],
             [
              0.8888888888888888,
              "#fdca26"
             ],
             [
              1,
              "#f0f921"
             ]
            ],
            "type": "histogram2dcontour"
           }
          ],
          "mesh3d": [
           {
            "colorbar": {
             "outlinewidth": 0,
             "ticks": ""
            },
            "type": "mesh3d"
           }
          ],
          "parcoords": [
           {
            "line": {
             "colorbar": {
              "outlinewidth": 0,
              "ticks": ""
             }
            },
            "type": "parcoords"
           }
          ],
          "scatter": [
           {
            "marker": {
             "colorbar": {
              "outlinewidth": 0,
              "ticks": ""
             }
            },
            "type": "scatter"
           }
          ],
          "scatter3d": [
           {
            "line": {
             "colorbar": {
              "outlinewidth": 0,
              "ticks": ""
             }
            },
            "marker": {
             "colorbar": {
              "outlinewidth": 0,
              "ticks": ""
             }
            },
            "type": "scatter3d"
           }
          ],
          "scattercarpet": [
           {
            "marker": {
             "colorbar": {
              "outlinewidth": 0,
              "ticks": ""
             }
            },
            "type": "scattercarpet"
           }
          ],
          "scattergeo": [
           {
            "marker": {
             "colorbar": {
              "outlinewidth": 0,
              "ticks": ""
             }
            },
            "type": "scattergeo"
           }
          ],
          "scattergl": [
           {
            "marker": {
             "colorbar": {
              "outlinewidth": 0,
              "ticks": ""
             }
            },
            "type": "scattergl"
           }
          ],
          "scattermapbox": [
           {
            "marker": {
             "colorbar": {
              "outlinewidth": 0,
              "ticks": ""
             }
            },
            "type": "scattermapbox"
           }
          ],
          "scatterpolar": [
           {
            "marker": {
             "colorbar": {
              "outlinewidth": 0,
              "ticks": ""
             }
            },
            "type": "scatterpolar"
           }
          ],
          "scatterpolargl": [
           {
            "marker": {
             "colorbar": {
              "outlinewidth": 0,
              "ticks": ""
             }
            },
            "type": "scatterpolargl"
           }
          ],
          "scatterternary": [
           {
            "marker": {
             "colorbar": {
              "outlinewidth": 0,
              "ticks": ""
             }
            },
            "type": "scatterternary"
           }
          ],
          "surface": [
           {
            "colorbar": {
             "outlinewidth": 0,
             "ticks": ""
            },
            "colorscale": [
             [
              0,
              "#0d0887"
             ],
             [
              0.1111111111111111,
              "#46039f"
             ],
             [
              0.2222222222222222,
              "#7201a8"
             ],
             [
              0.3333333333333333,
              "#9c179e"
             ],
             [
              0.4444444444444444,
              "#bd3786"
             ],
             [
              0.5555555555555556,
              "#d8576b"
             ],
             [
              0.6666666666666666,
              "#ed7953"
             ],
             [
              0.7777777777777778,
              "#fb9f3a"
             ],
             [
              0.8888888888888888,
              "#fdca26"
             ],
             [
              1,
              "#f0f921"
             ]
            ],
            "type": "surface"
           }
          ],
          "table": [
           {
            "cells": {
             "fill": {
              "color": "#EBF0F8"
             },
             "line": {
              "color": "white"
             }
            },
            "header": {
             "fill": {
              "color": "#C8D4E3"
             },
             "line": {
              "color": "white"
             }
            },
            "type": "table"
           }
          ]
         },
         "layout": {
          "annotationdefaults": {
           "arrowcolor": "#2a3f5f",
           "arrowhead": 0,
           "arrowwidth": 1
          },
          "colorscale": {
           "diverging": [
            [
             0,
             "#8e0152"
            ],
            [
             0.1,
             "#c51b7d"
            ],
            [
             0.2,
             "#de77ae"
            ],
            [
             0.3,
             "#f1b6da"
            ],
            [
             0.4,
             "#fde0ef"
            ],
            [
             0.5,
             "#f7f7f7"
            ],
            [
             0.6,
             "#e6f5d0"
            ],
            [
             0.7,
             "#b8e186"
            ],
            [
             0.8,
             "#7fbc41"
            ],
            [
             0.9,
             "#4d9221"
            ],
            [
             1,
             "#276419"
            ]
           ],
           "sequential": [
            [
             0,
             "#0d0887"
            ],
            [
             0.1111111111111111,
             "#46039f"
            ],
            [
             0.2222222222222222,
             "#7201a8"
            ],
            [
             0.3333333333333333,
             "#9c179e"
            ],
            [
             0.4444444444444444,
             "#bd3786"
            ],
            [
             0.5555555555555556,
             "#d8576b"
            ],
            [
             0.6666666666666666,
             "#ed7953"
            ],
            [
             0.7777777777777778,
             "#fb9f3a"
            ],
            [
             0.8888888888888888,
             "#fdca26"
            ],
            [
             1,
             "#f0f921"
            ]
           ],
           "sequentialminus": [
            [
             0,
             "#0d0887"
            ],
            [
             0.1111111111111111,
             "#46039f"
            ],
            [
             0.2222222222222222,
             "#7201a8"
            ],
            [
             0.3333333333333333,
             "#9c179e"
            ],
            [
             0.4444444444444444,
             "#bd3786"
            ],
            [
             0.5555555555555556,
             "#d8576b"
            ],
            [
             0.6666666666666666,
             "#ed7953"
            ],
            [
             0.7777777777777778,
             "#fb9f3a"
            ],
            [
             0.8888888888888888,
             "#fdca26"
            ],
            [
             1,
             "#f0f921"
            ]
           ]
          },
          "colorway": [
           "#636efa",
           "#EF553B",
           "#00cc96",
           "#ab63fa",
           "#FFA15A",
           "#19d3f3",
           "#FF6692",
           "#B6E880",
           "#FF97FF",
           "#FECB52"
          ],
          "font": {
           "color": "#2a3f5f"
          },
          "geo": {
           "bgcolor": "white",
           "lakecolor": "white",
           "landcolor": "#E5ECF6",
           "showlakes": true,
           "showland": true,
           "subunitcolor": "white"
          },
          "hoverlabel": {
           "align": "left"
          },
          "hovermode": "closest",
          "mapbox": {
           "style": "light"
          },
          "paper_bgcolor": "white",
          "plot_bgcolor": "#E5ECF6",
          "polar": {
           "angularaxis": {
            "gridcolor": "white",
            "linecolor": "white",
            "ticks": ""
           },
           "bgcolor": "#E5ECF6",
           "radialaxis": {
            "gridcolor": "white",
            "linecolor": "white",
            "ticks": ""
           }
          },
          "scene": {
           "xaxis": {
            "backgroundcolor": "#E5ECF6",
            "gridcolor": "white",
            "gridwidth": 2,
            "linecolor": "white",
            "showbackground": true,
            "ticks": "",
            "zerolinecolor": "white"
           },
           "yaxis": {
            "backgroundcolor": "#E5ECF6",
            "gridcolor": "white",
            "gridwidth": 2,
            "linecolor": "white",
            "showbackground": true,
            "ticks": "",
            "zerolinecolor": "white"
           },
           "zaxis": {
            "backgroundcolor": "#E5ECF6",
            "gridcolor": "white",
            "gridwidth": 2,
            "linecolor": "white",
            "showbackground": true,
            "ticks": "",
            "zerolinecolor": "white"
           }
          },
          "shapedefaults": {
           "line": {
            "color": "#2a3f5f"
           }
          },
          "ternary": {
           "aaxis": {
            "gridcolor": "white",
            "linecolor": "white",
            "ticks": ""
           },
           "baxis": {
            "gridcolor": "white",
            "linecolor": "white",
            "ticks": ""
           },
           "bgcolor": "#E5ECF6",
           "caxis": {
            "gridcolor": "white",
            "linecolor": "white",
            "ticks": ""
           }
          },
          "title": {
           "x": 0.05
          },
          "xaxis": {
           "automargin": true,
           "gridcolor": "white",
           "linecolor": "white",
           "ticks": "",
           "zerolinecolor": "white",
           "zerolinewidth": 2
          },
          "yaxis": {
           "automargin": true,
           "gridcolor": "white",
           "linecolor": "white",
           "ticks": "",
           "zerolinecolor": "white",
           "zerolinewidth": 2
          }
         }
        },
        "xaxis": {
         "anchor": "y",
         "domain": [
          0,
          0.98
         ],
         "title": {
          "text": "gender_Groups"
         }
        },
        "yaxis": {
         "anchor": "x",
         "domain": [
          0,
          1
         ],
         "title": {
          "text": "Percent"
         }
        }
       }
      },
      "text/html": [
       "<div>\n",
       "        \n",
       "        \n",
       "            <div id=\"d8038298-e190-432a-b001-6eecf00e547f\" class=\"plotly-graph-div\" style=\"height:600px; width:100%;\"></div>\n",
       "            <script type=\"text/javascript\">\n",
       "                require([\"plotly\"], function(Plotly) {\n",
       "                    window.PLOTLYENV=window.PLOTLYENV || {};\n",
       "                    \n",
       "                if (document.getElementById(\"d8038298-e190-432a-b001-6eecf00e547f\")) {\n",
       "                    Plotly.newPlot(\n",
       "                        'd8038298-e190-432a-b001-6eecf00e547f',\n",
       "                        [{\"alignmentgroup\": \"True\", \"bingroup\": \"x\", \"hoverlabel\": {\"namelength\": 0}, \"hovertemplate\": \"Voted=1<br>gender_Groups=%{x}<br>count=%{y}\", \"legendgroup\": \"Voted=1\", \"marker\": {\"color\": \"#636EFA\"}, \"name\": \"Voted=1\", \"offsetgroup\": \"Voted=1\", \"orientation\": \"v\", \"showlegend\": true, \"type\": \"histogram\", \"x\": [\"Female\", \"Female\", \"Female\", \"Male\", \"Female\", \"Male\", \"Male\", \"Male\", \"Female\", \"Male\", \"Male\", \"Female\", \"Female\", \"Female\", \"Male\", \"Female\", \"Male\", \"Female\", \"Male\", \"Male\", \"Male\", \"Female\", \"Female\", \"Female\", \"Male\", \"Female\", \"Male\", \"Female\", \"Female\", \"Male\", \"Male\", \"Female\", \"Female\", \"Female\", \"Male\", \"Male\", \"Female\", \"Male\", \"Male\", \"Male\", \"Female\", \"Female\", \"Male\", \"Male\", \"Female\", \"Male\", \"Female\", \"Male\", \"Male\", \"Female\", \"Female\", \"Male\", \"Male\", \"Female\", \"Male\", \"Male\", \"Male\", \"Female\", \"Female\", \"Male\", \"Female\", \"Male\", \"Male\", \"Male\", \"Female\", \"Male\", \"Male\", \"Female\", \"Female\", \"Female\", \"Male\", \"Female\", \"Female\", \"Female\", \"Male\", \"Female\", \"Male\", \"Male\", \"Female\", \"Female\", \"Male\", \"Female\", \"Male\", \"Male\", \"Female\", \"Female\", \"Female\", \"Male\", \"Male\", \"Male\", \"Male\", \"Female\", \"Female\", \"Male\", \"Male\", \"Female\", \"Male\", \"Male\", \"Male\", \"Male\", \"Male\", \"Male\", \"Male\", \"Female\", \"Female\", \"Male\", \"Female\", \"Male\", \"Female\", \"Female\", \"Male\", \"Female\", \"Male\", \"Female\", \"Male\", \"Male\", \"Female\", \"Female\", \"Male\", \"Male\", \"Female\", \"Female\", \"Female\", \"Female\", \"Male\", \"Female\", \"Female\", \"Female\", \"Female\", \"Male\", \"Male\", \"Female\", \"Female\", \"Female\", \"Male\", \"Female\", \"Male\", \"Male\", \"Female\", \"Male\", \"Female\", \"Female\", \"Male\", \"Male\", \"Female\", \"Female\", \"Male\", \"Male\", \"Female\", \"Male\", \"Male\", \"Female\", \"Female\", \"Female\", \"Male\", \"Female\", \"Male\", \"Female\", \"Male\", \"Female\", \"Female\", \"Male\", \"Female\", \"Female\", \"Female\", \"Female\", \"Female\", \"Male\", \"Female\", \"Female\", \"Female\", \"Female\", \"Male\", \"Male\", \"Male\", \"Female\", \"Male\", \"Male\", \"Female\", \"Male\", \"Female\", \"Male\", \"Female\", \"Female\", \"Male\", \"Female\", \"Female\", \"Female\", \"Male\", \"Female\", \"Female\", \"Female\", \"Female\", \"Female\", \"Female\", \"Female\", \"Female\", \"Male\", \"Male\", \"Male\", \"Male\", \"Female\", \"Male\", \"Male\", \"Female\", \"Male\", \"Female\", \"Female\", \"Female\", \"Female\", \"Female\", \"Female\", \"Female\", \"Male\", \"Female\", \"Female\", \"Female\", \"Female\", \"Female\", \"Male\", \"Female\", \"Female\", \"Female\", \"Female\", \"Male\", \"Female\", \"Male\", \"Male\", \"Female\", \"Male\", \"Male\", \"Male\", \"Male\", \"Female\", \"Male\", \"Male\", \"Female\", \"Male\", \"Female\", \"Female\", \"Male\", \"Male\", \"Female\", \"Male\", \"Female\", \"Male\", \"Female\", \"Female\", \"Female\", \"Female\", \"Male\", \"Male\", \"Female\", \"Male\", \"Female\", \"Female\", \"Male\", \"Female\", \"Male\", \"Male\", \"Female\", \"Female\", \"Male\", \"Female\", \"Female\", \"Female\", \"Male\", \"Female\", \"Male\", \"Female\", \"Female\", \"Male\", \"Female\", \"Female\", \"Female\", \"Female\", \"Female\", \"Male\", \"Female\", \"Female\", \"Male\", \"Female\", \"Female\", \"Male\", \"Male\", \"Female\", \"Female\", \"Female\", \"Female\", \"Female\", \"Female\", \"Female\", \"Female\", \"Female\", \"Male\", \"Male\", \"Female\", \"Male\", \"Female\", \"Female\", \"Female\", \"Male\", \"Female\", \"Female\", \"Female\", \"Male\", \"Male\", \"Male\", \"Male\", \"Female\", \"Female\", \"Male\", \"Male\", \"Male\", \"Male\", \"Female\", \"Male\", \"Male\", \"Male\", \"Female\", \"Male\", \"Female\", \"Male\", \"Female\", \"Female\", \"Female\", \"Female\", \"Female\", \"Male\", \"Male\", \"Male\", \"Male\", \"Female\", \"Female\", \"Female\", \"Female\", \"Female\", \"Female\", \"Male\", \"Male\", \"Female\", \"Male\", \"Female\", \"Male\", \"Female\", \"Female\", \"Female\", \"Female\", \"Female\", \"Female\", \"Female\", \"Female\", \"Female\", \"Male\", \"Male\", \"Male\", \"Male\", \"Male\", \"Female\", \"Male\", \"Female\", \"Female\", \"Female\", \"Female\", \"Female\", \"Male\", \"Male\", \"Male\", \"Male\", \"Male\", \"Female\", \"Female\", \"Male\", \"Female\", \"Female\", \"Male\", \"Male\", \"Male\", \"Female\", \"Female\", \"Female\", \"Male\", \"Male\", \"Female\", \"Male\", \"Male\", \"Male\", \"Female\", \"Male\", \"Male\", \"Female\", \"Female\", \"Male\", \"Male\", \"Female\", \"Female\", \"Female\", \"Male\", \"Male\", \"Female\", \"Male\", \"Male\", \"Male\", \"Female\", \"Male\", \"Male\", \"Female\", \"Male\", \"Female\", \"Female\", \"Male\", \"Female\", \"Female\", \"Female\", \"Female\", \"Male\", \"Male\", \"Female\", \"Male\", \"Male\", \"Female\", \"Female\", \"Male\", \"Male\", \"Female\", \"Male\", \"Female\", \"Female\", \"Male\", \"Male\", \"Male\", \"Female\", \"Male\", \"Female\", \"Male\", \"Female\", \"Female\", \"Male\", \"Female\", \"Male\", \"Male\", \"Male\", \"Female\", \"Female\", \"Female\", \"Female\", \"Male\", \"Male\", \"Male\", \"Female\", \"Male\", \"Female\", \"Male\", \"Female\", \"Female\", \"Male\", \"Female\", \"Male\", \"Male\", \"Female\", \"Male\", \"Male\", \"Female\", \"Female\", \"Male\", \"Female\", \"Male\", \"Female\", \"Female\", \"Male\", \"Male\", \"Female\", \"Male\", \"Male\", \"Male\", \"Male\", \"Male\", \"Male\", \"Male\", \"Female\", \"Female\", \"Male\", \"Male\", \"Male\", \"Female\", \"Female\", \"Female\", \"Male\", \"Female\", \"Female\", \"Male\", \"Female\", \"Female\", \"Male\", \"Male\", \"Male\", \"Male\", \"Male\", \"Male\", \"Female\", \"Male\", \"Female\", \"Male\", \"Female\", \"Male\", \"Male\", \"Male\", \"Male\", \"Female\", \"Male\", \"Female\", \"Female\", \"Female\", \"Female\", \"Male\", \"Female\", \"Female\", \"Female\", \"Male\", \"Female\", \"Male\", \"Male\", \"Male\", \"Female\", \"Male\", \"Female\", \"Female\", \"Male\", \"Male\", \"Female\", \"Male\", \"Female\", \"Male\", \"Male\", \"Male\", \"Female\", \"Male\", \"Male\", \"Male\", \"Female\", \"Female\", \"Female\", \"Female\", \"Male\", \"Male\", \"Female\", \"Female\", \"Female\", \"Male\", \"Female\", \"Female\", \"Male\", \"Female\", \"Female\", \"Male\", \"Male\", \"Female\", \"Female\", \"Female\", \"Male\", \"Female\", \"Female\", \"Female\", \"Female\", \"Male\", \"Female\", \"Female\", \"Male\", \"Male\", \"Female\", \"Female\", \"Female\", \"Male\", \"Male\", \"Female\", \"Male\", \"Female\", \"Male\", \"Male\", \"Male\", \"Female\", \"Male\", \"Female\", \"Female\", \"Female\", \"Female\", \"Female\", \"Male\", \"Male\", \"Male\", \"Female\", \"Male\", \"Male\", \"Female\", \"Female\", \"Male\", \"Female\", \"Male\", \"Female\", \"Female\", \"Female\", \"Female\", \"Male\", \"Male\", \"Male\", \"Male\", \"Male\", \"Male\", \"Female\", \"Female\", \"Male\", \"Female\", \"Male\", \"Male\", \"Male\", \"Male\", \"Female\", \"Female\", \"Female\", \"Male\", \"Male\", \"Female\", \"Male\", \"Female\", \"Female\", \"Female\", \"Male\", \"Female\", \"Female\", \"Male\", \"Female\", \"Male\", \"Female\", \"Male\", \"Female\", \"Female\", \"Male\", \"Male\", \"Female\", \"Male\", \"Female\", \"Female\", \"Male\", \"Male\", \"Female\", \"Female\", \"Male\", \"Female\", \"Male\", \"Female\", \"Male\", \"Female\", \"Male\", \"Female\", \"Male\", \"Male\", \"Male\", \"Male\", \"Male\", \"Female\", \"Male\", \"Female\", \"Female\", \"Female\", \"Male\", \"Male\", \"Male\", \"Male\", \"Female\", \"Female\", \"Female\", \"Male\", \"Female\", \"Female\", \"Female\", \"Male\", \"Male\", \"Female\", \"Female\", \"Female\", \"Male\", \"Female\", \"Female\", \"Female\", \"Male\", \"Female\", \"Female\", \"Male\", \"Male\", \"Female\", \"Female\", \"Female\", \"Male\", \"Male\", \"Female\", \"Male\", \"Female\", \"Female\", \"Female\", \"Male\", \"Male\", \"Male\", \"Female\", \"Male\", \"Female\", \"Male\", \"Female\", \"Male\", \"Female\", \"Male\", \"Male\", \"Female\", \"Male\", \"Male\", \"Male\", \"Male\", \"Male\", \"Male\", \"Male\", \"Female\", \"Male\", \"Male\", \"Female\", \"Male\", \"Female\", \"Female\", \"Female\", \"Female\", \"Male\", \"Male\", \"Male\", \"Female\", \"Male\", \"Female\", \"Male\", \"Female\", \"Male\", \"Male\", \"Female\", \"Female\", \"Female\", \"Female\", \"Male\", \"Male\", \"Male\", \"Male\", \"Female\", \"Male\", \"Female\", \"Male\", \"Male\", \"Female\", \"Male\", \"Male\", \"Female\", \"Male\", \"Male\", \"Female\", \"Male\", \"Male\", \"Male\", \"Male\", \"Male\", \"Male\", \"Male\", \"Male\", \"Male\", \"Male\", \"Male\"], \"xaxis\": \"x\", \"yaxis\": \"y\"}, {\"alignmentgroup\": \"True\", \"bingroup\": \"x\", \"hoverlabel\": {\"namelength\": 0}, \"hovertemplate\": \"Voted=0<br>gender_Groups=%{x}<br>count=%{y}\", \"legendgroup\": \"Voted=0\", \"marker\": {\"color\": \"#EF553B\"}, \"name\": \"Voted=0\", \"offsetgroup\": \"Voted=0\", \"orientation\": \"v\", \"showlegend\": true, \"type\": \"histogram\", \"x\": [\"Female\", \"Male\", \"Female\", \"Female\", \"Male\", \"Female\", \"Female\", \"Female\", \"Female\", \"Female\", \"Male\", \"Female\", \"Female\", \"Male\", \"Male\", \"Female\", \"Female\", \"Female\", \"Male\", \"Female\", \"Male\", \"Male\", \"Male\", \"Male\", \"Male\", \"Male\", \"Female\", \"Female\", \"Male\", \"Female\", \"Female\", \"Female\", \"Female\", \"Female\", \"Male\", \"Female\", \"Male\", \"Male\", \"Male\", \"Female\", \"Male\", \"Male\", \"Female\", \"Female\", \"Female\", \"Male\", \"Female\", \"Male\", \"Male\", \"Female\", \"Female\", \"Female\", \"Male\", \"Female\", \"Female\", \"Female\", \"Female\", \"Female\", \"Female\", \"Female\", \"Female\", \"Male\", \"Female\", \"Female\", \"Female\", \"Male\", \"Female\", \"Female\", \"Male\", \"Male\", \"Male\", \"Female\", \"Male\", \"Male\", \"Female\", \"Female\", \"Male\", \"Female\", \"Female\", \"Male\", \"Female\", \"Male\", \"Female\", \"Male\", \"Female\", \"Male\", \"Female\", \"Male\", \"Female\", \"Male\", \"Male\", \"Male\", \"Male\", \"Female\", \"Male\", \"Male\", \"Female\", \"Female\", \"Female\", \"Female\", \"Female\", \"Female\", \"Male\", \"Male\", \"Male\", \"Male\", \"Female\", \"Female\", \"Male\", \"Female\", \"Female\", \"Male\", \"Male\", \"Male\", \"Male\", \"Male\", \"Female\", \"Female\", \"Female\", \"Female\", \"Male\", \"Female\", \"Male\", \"Female\", \"Female\", \"Female\", \"Female\", \"Female\", \"Female\", \"Female\", \"Female\", \"Female\", \"Male\", \"Male\", \"Female\", \"Male\", \"Male\", \"Male\", \"Female\", \"Female\", \"Female\", \"Male\", \"Male\", \"Female\", \"Male\", \"Female\", \"Female\", \"Male\", \"Female\", \"Male\", \"Male\", \"Female\", \"Female\", \"Female\", \"Male\", \"Male\", \"Female\", \"Male\", \"Female\", \"Female\", \"Male\", \"Male\", \"Female\", \"Female\", \"Female\", \"Male\", \"Female\", \"Male\", \"Female\", \"Female\", \"Male\", \"Male\", \"Male\", \"Female\", \"Male\", \"Male\", \"Female\", \"Female\", \"Female\", \"Male\", \"Female\", \"Female\", \"Female\", \"Female\", \"Male\", \"Female\", \"Female\", \"Male\", \"Female\", \"Male\", \"Female\", \"Male\", \"Female\", \"Male\", \"Female\", \"Female\", \"Female\", \"Male\", \"Male\", \"Male\", \"Male\", \"Female\", \"Female\", \"Male\", \"Female\", \"Male\", \"Male\", \"Female\", \"Female\", \"Male\", \"Male\", \"Female\", \"Female\", \"Female\", \"Male\", \"Male\", \"Female\", \"Female\", \"Male\", \"Female\", \"Male\", \"Male\", \"Female\", \"Female\", \"Male\", \"Female\", \"Female\", \"Female\", \"Female\", \"Male\", \"Male\", \"Male\", \"Male\", \"Female\", \"Female\", \"Female\", \"Female\", \"Male\", \"Male\", \"Female\", \"Male\", \"Female\", \"Female\", \"Male\", \"Female\", \"Female\", \"Female\", \"Female\", \"Male\", \"Male\", \"Male\", \"Male\", \"Female\", \"Male\", \"Male\", \"Male\", \"Female\", \"Male\", \"Male\", \"Female\", \"Female\", \"Female\", \"Female\", \"Female\", \"Female\", \"Male\", \"Female\", \"Female\", \"Male\", \"Female\", \"Female\", \"Female\", \"Female\", \"Male\", \"Female\", \"Female\", \"Male\", \"Male\", \"Female\", \"Male\", \"Female\", \"Female\", \"Female\", \"Female\", \"Female\", \"Male\", \"Male\", \"Male\", \"Female\", \"Female\", \"Male\", \"Female\", \"Female\", \"Female\", \"Male\", \"Male\", \"Female\", \"Male\", \"Male\", \"Female\", \"Male\", \"Female\", \"Female\", \"Male\", \"Male\", \"Female\", \"Male\", \"Male\", \"Female\", \"Female\", \"Female\", \"Male\", \"Female\", \"Male\", \"Male\", \"Female\", \"Female\", \"Male\", \"Female\", \"Male\", \"Male\", \"Male\", \"Female\", \"Male\", \"Female\", \"Female\", \"Female\", \"Female\", \"Male\", \"Male\", \"Female\", \"Female\", \"Male\", \"Female\", \"Female\", \"Male\", \"Female\", \"Female\", \"Female\", \"Male\", \"Female\", \"Male\", \"Male\", \"Female\", \"Male\", \"Female\", \"Female\", \"Female\", \"Female\", \"Male\", \"Male\", \"Female\", \"Male\", \"Male\", \"Male\", \"Female\", \"Male\", \"Female\", \"Female\", \"Female\", \"Male\", \"Male\", \"Female\", \"Male\", \"Female\", \"Male\", \"Male\", \"Male\", \"Male\", \"Male\", \"Male\", \"Female\", \"Male\", \"Male\", \"Female\", \"Male\", \"Female\", \"Female\", \"Female\", \"Female\", \"Female\", \"Female\", \"Male\", \"Female\", \"Male\", \"Male\", \"Female\", \"Female\", \"Female\", \"Male\", \"Female\", \"Female\", \"Male\", \"Male\", \"Female\", \"Female\", \"Female\", \"Female\", \"Male\", \"Female\", \"Male\", \"Female\", \"Female\", \"Male\", \"Female\", \"Male\", \"Male\", \"Male\", \"Female\", \"Male\", \"Female\", \"Female\", \"Male\", \"Female\", \"Female\", \"Female\", \"Female\", \"Male\", \"Male\", \"Female\", \"Male\", \"Female\", \"Male\", \"Female\", \"Female\", \"Female\", \"Female\", \"Female\", \"Male\", \"Male\", \"Male\", \"Female\", \"Female\", \"Female\", \"Female\", \"Female\", \"Male\", \"Male\", \"Female\", \"Female\", \"Female\", \"Female\", \"Female\", \"Male\", \"Male\", \"Female\", \"Female\", \"Male\", \"Male\", \"Female\", \"Female\", \"Male\", \"Female\", \"Male\", \"Male\", \"Male\", \"Male\", \"Male\", \"Male\"], \"xaxis\": \"x\", \"yaxis\": \"y\"}],\n",
       "                        {\"barmode\": \"group\", \"barnorm\": \"percent\", \"height\": 600, \"legend\": {\"tracegroupgap\": 0}, \"margin\": {\"t\": 60}, \"template\": {\"data\": {\"bar\": [{\"error_x\": {\"color\": \"#2a3f5f\"}, \"error_y\": {\"color\": \"#2a3f5f\"}, \"marker\": {\"line\": {\"color\": \"#E5ECF6\", \"width\": 0.5}}, \"type\": \"bar\"}], \"barpolar\": [{\"marker\": {\"line\": {\"color\": \"#E5ECF6\", \"width\": 0.5}}, \"type\": \"barpolar\"}], \"carpet\": [{\"aaxis\": {\"endlinecolor\": \"#2a3f5f\", \"gridcolor\": \"white\", \"linecolor\": \"white\", \"minorgridcolor\": \"white\", \"startlinecolor\": \"#2a3f5f\"}, \"baxis\": {\"endlinecolor\": \"#2a3f5f\", \"gridcolor\": \"white\", \"linecolor\": \"white\", \"minorgridcolor\": \"white\", \"startlinecolor\": \"#2a3f5f\"}, \"type\": \"carpet\"}], \"choropleth\": [{\"colorbar\": {\"outlinewidth\": 0, \"ticks\": \"\"}, \"type\": \"choropleth\"}], \"contour\": [{\"colorbar\": {\"outlinewidth\": 0, \"ticks\": \"\"}, \"colorscale\": [[0.0, \"#0d0887\"], [0.1111111111111111, \"#46039f\"], [0.2222222222222222, \"#7201a8\"], [0.3333333333333333, \"#9c179e\"], [0.4444444444444444, \"#bd3786\"], [0.5555555555555556, \"#d8576b\"], [0.6666666666666666, \"#ed7953\"], [0.7777777777777778, \"#fb9f3a\"], [0.8888888888888888, \"#fdca26\"], [1.0, \"#f0f921\"]], \"type\": \"contour\"}], \"contourcarpet\": [{\"colorbar\": {\"outlinewidth\": 0, \"ticks\": \"\"}, \"type\": \"contourcarpet\"}], \"heatmap\": [{\"colorbar\": {\"outlinewidth\": 0, \"ticks\": \"\"}, \"colorscale\": [[0.0, \"#0d0887\"], [0.1111111111111111, \"#46039f\"], [0.2222222222222222, \"#7201a8\"], [0.3333333333333333, \"#9c179e\"], [0.4444444444444444, \"#bd3786\"], [0.5555555555555556, \"#d8576b\"], [0.6666666666666666, \"#ed7953\"], [0.7777777777777778, \"#fb9f3a\"], [0.8888888888888888, \"#fdca26\"], [1.0, \"#f0f921\"]], \"type\": \"heatmap\"}], \"heatmapgl\": [{\"colorbar\": {\"outlinewidth\": 0, \"ticks\": \"\"}, \"colorscale\": [[0.0, \"#0d0887\"], [0.1111111111111111, \"#46039f\"], [0.2222222222222222, \"#7201a8\"], [0.3333333333333333, \"#9c179e\"], [0.4444444444444444, \"#bd3786\"], [0.5555555555555556, \"#d8576b\"], [0.6666666666666666, \"#ed7953\"], [0.7777777777777778, \"#fb9f3a\"], [0.8888888888888888, \"#fdca26\"], [1.0, \"#f0f921\"]], \"type\": \"heatmapgl\"}], \"histogram\": [{\"marker\": {\"colorbar\": {\"outlinewidth\": 0, \"ticks\": \"\"}}, \"type\": \"histogram\"}], \"histogram2d\": [{\"colorbar\": {\"outlinewidth\": 0, \"ticks\": \"\"}, \"colorscale\": [[0.0, \"#0d0887\"], [0.1111111111111111, \"#46039f\"], [0.2222222222222222, \"#7201a8\"], [0.3333333333333333, \"#9c179e\"], [0.4444444444444444, \"#bd3786\"], [0.5555555555555556, \"#d8576b\"], [0.6666666666666666, \"#ed7953\"], [0.7777777777777778, \"#fb9f3a\"], [0.8888888888888888, \"#fdca26\"], [1.0, \"#f0f921\"]], \"type\": \"histogram2d\"}], \"histogram2dcontour\": [{\"colorbar\": {\"outlinewidth\": 0, \"ticks\": \"\"}, \"colorscale\": [[0.0, \"#0d0887\"], [0.1111111111111111, \"#46039f\"], [0.2222222222222222, \"#7201a8\"], [0.3333333333333333, \"#9c179e\"], [0.4444444444444444, \"#bd3786\"], [0.5555555555555556, \"#d8576b\"], [0.6666666666666666, \"#ed7953\"], [0.7777777777777778, \"#fb9f3a\"], [0.8888888888888888, \"#fdca26\"], [1.0, \"#f0f921\"]], \"type\": \"histogram2dcontour\"}], \"mesh3d\": [{\"colorbar\": {\"outlinewidth\": 0, \"ticks\": \"\"}, \"type\": \"mesh3d\"}], \"parcoords\": [{\"line\": {\"colorbar\": {\"outlinewidth\": 0, \"ticks\": \"\"}}, \"type\": \"parcoords\"}], \"scatter\": [{\"marker\": {\"colorbar\": {\"outlinewidth\": 0, \"ticks\": \"\"}}, \"type\": \"scatter\"}], \"scatter3d\": [{\"line\": {\"colorbar\": {\"outlinewidth\": 0, \"ticks\": \"\"}}, \"marker\": {\"colorbar\": {\"outlinewidth\": 0, \"ticks\": \"\"}}, \"type\": \"scatter3d\"}], \"scattercarpet\": [{\"marker\": {\"colorbar\": {\"outlinewidth\": 0, \"ticks\": \"\"}}, \"type\": \"scattercarpet\"}], \"scattergeo\": [{\"marker\": {\"colorbar\": {\"outlinewidth\": 0, \"ticks\": \"\"}}, \"type\": \"scattergeo\"}], \"scattergl\": [{\"marker\": {\"colorbar\": {\"outlinewidth\": 0, \"ticks\": \"\"}}, \"type\": \"scattergl\"}], \"scattermapbox\": [{\"marker\": {\"colorbar\": {\"outlinewidth\": 0, \"ticks\": \"\"}}, \"type\": \"scattermapbox\"}], \"scatterpolar\": [{\"marker\": {\"colorbar\": {\"outlinewidth\": 0, \"ticks\": \"\"}}, \"type\": \"scatterpolar\"}], \"scatterpolargl\": [{\"marker\": {\"colorbar\": {\"outlinewidth\": 0, \"ticks\": \"\"}}, \"type\": \"scatterpolargl\"}], \"scatterternary\": [{\"marker\": {\"colorbar\": {\"outlinewidth\": 0, \"ticks\": \"\"}}, \"type\": \"scatterternary\"}], \"surface\": [{\"colorbar\": {\"outlinewidth\": 0, \"ticks\": \"\"}, \"colorscale\": [[0.0, \"#0d0887\"], [0.1111111111111111, \"#46039f\"], [0.2222222222222222, \"#7201a8\"], [0.3333333333333333, \"#9c179e\"], [0.4444444444444444, \"#bd3786\"], [0.5555555555555556, \"#d8576b\"], [0.6666666666666666, \"#ed7953\"], [0.7777777777777778, \"#fb9f3a\"], [0.8888888888888888, \"#fdca26\"], [1.0, \"#f0f921\"]], \"type\": \"surface\"}], \"table\": [{\"cells\": {\"fill\": {\"color\": \"#EBF0F8\"}, \"line\": {\"color\": \"white\"}}, \"header\": {\"fill\": {\"color\": \"#C8D4E3\"}, \"line\": {\"color\": \"white\"}}, \"type\": \"table\"}]}, \"layout\": {\"annotationdefaults\": {\"arrowcolor\": \"#2a3f5f\", \"arrowhead\": 0, \"arrowwidth\": 1}, \"colorscale\": {\"diverging\": [[0, \"#8e0152\"], [0.1, \"#c51b7d\"], [0.2, \"#de77ae\"], [0.3, \"#f1b6da\"], [0.4, \"#fde0ef\"], [0.5, \"#f7f7f7\"], [0.6, \"#e6f5d0\"], [0.7, \"#b8e186\"], [0.8, \"#7fbc41\"], [0.9, \"#4d9221\"], [1, \"#276419\"]], \"sequential\": [[0.0, \"#0d0887\"], [0.1111111111111111, \"#46039f\"], [0.2222222222222222, \"#7201a8\"], [0.3333333333333333, \"#9c179e\"], [0.4444444444444444, \"#bd3786\"], [0.5555555555555556, \"#d8576b\"], [0.6666666666666666, \"#ed7953\"], [0.7777777777777778, \"#fb9f3a\"], [0.8888888888888888, \"#fdca26\"], [1.0, \"#f0f921\"]], \"sequentialminus\": [[0.0, \"#0d0887\"], [0.1111111111111111, \"#46039f\"], [0.2222222222222222, \"#7201a8\"], [0.3333333333333333, \"#9c179e\"], [0.4444444444444444, \"#bd3786\"], [0.5555555555555556, \"#d8576b\"], [0.6666666666666666, \"#ed7953\"], [0.7777777777777778, \"#fb9f3a\"], [0.8888888888888888, \"#fdca26\"], [1.0, \"#f0f921\"]]}, \"colorway\": [\"#636efa\", \"#EF553B\", \"#00cc96\", \"#ab63fa\", \"#FFA15A\", \"#19d3f3\", \"#FF6692\", \"#B6E880\", \"#FF97FF\", \"#FECB52\"], \"font\": {\"color\": \"#2a3f5f\"}, \"geo\": {\"bgcolor\": \"white\", \"lakecolor\": \"white\", \"landcolor\": \"#E5ECF6\", \"showlakes\": true, \"showland\": true, \"subunitcolor\": \"white\"}, \"hoverlabel\": {\"align\": \"left\"}, \"hovermode\": \"closest\", \"mapbox\": {\"style\": \"light\"}, \"paper_bgcolor\": \"white\", \"plot_bgcolor\": \"#E5ECF6\", \"polar\": {\"angularaxis\": {\"gridcolor\": \"white\", \"linecolor\": \"white\", \"ticks\": \"\"}, \"bgcolor\": \"#E5ECF6\", \"radialaxis\": {\"gridcolor\": \"white\", \"linecolor\": \"white\", \"ticks\": \"\"}}, \"scene\": {\"xaxis\": {\"backgroundcolor\": \"#E5ECF6\", \"gridcolor\": \"white\", \"gridwidth\": 2, \"linecolor\": \"white\", \"showbackground\": true, \"ticks\": \"\", \"zerolinecolor\": \"white\"}, \"yaxis\": {\"backgroundcolor\": \"#E5ECF6\", \"gridcolor\": \"white\", \"gridwidth\": 2, \"linecolor\": \"white\", \"showbackground\": true, \"ticks\": \"\", \"zerolinecolor\": \"white\"}, \"zaxis\": {\"backgroundcolor\": \"#E5ECF6\", \"gridcolor\": \"white\", \"gridwidth\": 2, \"linecolor\": \"white\", \"showbackground\": true, \"ticks\": \"\", \"zerolinecolor\": \"white\"}}, \"shapedefaults\": {\"line\": {\"color\": \"#2a3f5f\"}}, \"ternary\": {\"aaxis\": {\"gridcolor\": \"white\", \"linecolor\": \"white\", \"ticks\": \"\"}, \"baxis\": {\"gridcolor\": \"white\", \"linecolor\": \"white\", \"ticks\": \"\"}, \"bgcolor\": \"#E5ECF6\", \"caxis\": {\"gridcolor\": \"white\", \"linecolor\": \"white\", \"ticks\": \"\"}}, \"title\": {\"x\": 0.05}, \"xaxis\": {\"automargin\": true, \"gridcolor\": \"white\", \"linecolor\": \"white\", \"ticks\": \"\", \"zerolinecolor\": \"white\", \"zerolinewidth\": 2}, \"yaxis\": {\"automargin\": true, \"gridcolor\": \"white\", \"linecolor\": \"white\", \"ticks\": \"\", \"zerolinecolor\": \"white\", \"zerolinewidth\": 2}}}, \"xaxis\": {\"anchor\": \"y\", \"domain\": [0.0, 0.98], \"title\": {\"text\": \"gender_Groups\"}}, \"yaxis\": {\"anchor\": \"x\", \"domain\": [0.0, 1.0], \"title\": {\"text\": \"Percent\"}}},\n",
       "                        {\"responsive\": true}\n",
       "                    ).then(function(){\n",
       "                            \n",
       "var gd = document.getElementById('d8038298-e190-432a-b001-6eecf00e547f');\n",
       "var x = new MutationObserver(function (mutations, observer) {{\n",
       "        var display = window.getComputedStyle(gd).display;\n",
       "        if (!display || display === 'none') {{\n",
       "            console.log([gd, 'removed!']);\n",
       "            Plotly.purge(gd);\n",
       "            observer.disconnect();\n",
       "        }}\n",
       "}});\n",
       "\n",
       "// Listen for the removal of the full notebook cells\n",
       "var notebookContainer = gd.closest('#notebook-container');\n",
       "if (notebookContainer) {{\n",
       "    x.observe(notebookContainer, {childList: true});\n",
       "}}\n",
       "\n",
       "// Listen for the clearing of the current output cell\n",
       "var outputEl = gd.closest('.output');\n",
       "if (outputEl) {{\n",
       "    x.observe(outputEl, {childList: true});\n",
       "}}\n",
       "\n",
       "                        })\n",
       "                };\n",
       "                });\n",
       "            </script>\n",
       "        </div>"
      ]
     },
     "metadata": {},
     "output_type": "display_data"
    }
   ],
   "source": [
    "ShowTwoWayHeatmap(data,'gender_Groups','Voted', normalize=False)\n",
    "\n",
    "fig=px.histogram(data, x=\"gender_Groups\",color='Voted',color_discrete_map=color_discrete_map,barnorm='percent')\n",
    "fig.update_layout(barmode='group',yaxis_title=\"Percent\")"
   ]
  },
  {
   "cell_type": "markdown",
   "metadata": {},
   "source": [
    "Insights:\n",
    "    \n",
    "Evenly distributed, though males slightly more likely to vote than females."
   ]
  },
  {
   "cell_type": "markdown",
   "metadata": {},
   "source": [
    "# Voted vs Area Type"
   ]
  },
  {
   "cell_type": "code",
   "execution_count": 54,
   "metadata": {},
   "outputs": [
    {
     "data": {
      "image/png": "[encoded data removed]",
      "text/plain": [
       "<Figure size 936x432 with 2 Axes>"
      ]
     },
     "metadata": {
      "needs_background": "light"
     },
     "output_type": "display_data"
    },
    {
     "data": {
      "application/vnd.plotly.v1+json": {
       "config": {
        "plotlyServerURL": "https://plot.ly"
       },
       "data": [
        {
         "alignmentgroup": "True",
         "bingroup": "x",
         "hoverlabel": {
          "namelength": 0
         },
         "hovertemplate": "Voted=1<br>USAAreaType_Groups=%{x}<br>count=%{y}",
         "legendgroup": "Voted=1",
         "marker": {
          "color": "#636EFA"
         },
         "name": "Voted=1",
         "offsetgroup": "Voted=1",
         "orientation": "v",
         "showlegend": true,
         "type": "histogram",
         "x": [
          "Rural",
          "Suburban",
          "SmallTown",
          "City",
          "City",
          "Rural",
          "Suburban",
          "SmallTown",
          "Rural",
          "Rural",
          "City",
          "SmallTown",
          "Rural",
          "City",
          "City",
          "City",
          "City",
          "City",
          "City",
          "Suburban",
          "City",
          "City",
          "City",
          "Rural",
          "City",
          "Rural",
          "Suburban",
          "Rural",
          "SmallTown",
          "City",
          "City",
          "SmallTown",
          "Suburban",
          "City",
          "City",
          "Suburban",
          "City",
          "City",
          "Suburban",
          "City",
          "City",
          "SmallTown",
          "Suburban",
          "Suburban",
          "Suburban",
          "Suburban",
          "Suburban",
          "City",
          "Suburban",
          "City",
          "Rural",
          "Suburban",
          "Rural",
          "Suburban",
          "City",
          "Rural",
          "City",
          "Suburban",
          "City",
          "SmallTown",
          "Suburban",
          "Suburban",
          "City",
          "City",
          "SmallTown",
          "Rural",
          "Suburban",
          "Suburban",
          "Suburban",
          "City",
          "City",
          "SmallTown",
          "Suburban",
          "Rural",
          "Suburban",
          "City",
          "City",
          "Suburban",
          "Suburban",
          "Suburban",
          "City",
          "Suburban",
          "SmallTown",
          "Suburban",
          "Rural",
          "Suburban",
          "City",
          "Suburban",
          "City",
          "Suburban",
          "Suburban",
          "Suburban",
          "City",
          "Suburban",
          "Suburban",
          "City",
          "Suburban",
          "SmallTown",
          "Suburban",
          "Suburban",
          "City",
          "Suburban",
          "City",
          "Suburban",
          "City",
          "City",
          "SmallTown",
          "Suburban",
          "Suburban",
          "Rural",
          "SmallTown",
          "Suburban",
          "Suburban",
          "Suburban",
          "City",
          "Suburban",
          "Rural",
          "Suburban",
          "SmallTown",
          "Suburban",
          "SmallTown",
          "City",
          "Suburban",
          "Suburban",
          "City",
          "Suburban",
          "Suburban",
          "Suburban",
          "Suburban",
          "SmallTown",
          "City",
          "Rural",
          "City",
          "Suburban",
          "City",
          "Suburban",
          "City",
          "City",
          "City",
          "City",
          "Suburban",
          "Suburban",
          "SmallTown",
          "City",
          "City",
          "City",
          "Suburban",
          "Suburban",
          "Suburban",
          "City",
          "City",
          "SmallTown",
          "City",
          "Rural",
          "SmallTown",
          "City",
          "SmallTown",
          "Suburban",
          "SmallTown",
          "City",
          "Suburban",
          "City",
          "Suburban",
          "Suburban",
          "Suburban",
          "Rural",
          "City",
          "Suburban",
          "Suburban",
          "Rural",
          "City",
          "Suburban",
          "City",
          "Suburban",
          "Rural",
          "City",
          "Suburban",
          "Suburban",
          "Suburban",
          "SmallTown",
          "Suburban",
          "City",
          "Suburban",
          "SmallTown",
          "SmallTown",
          "Suburban",
          "City",
          "SmallTown",
          "City",
          "City",
          "Suburban",
          "Suburban",
          "Suburban",
          "SmallTown",
          "Rural",
          "Suburban",
          "SmallTown",
          "City",
          "Suburban",
          "Suburban",
          "SmallTown",
          "SmallTown",
          "SmallTown",
          "City",
          "City",
          "City",
          "Suburban",
          "Suburban",
          "Suburban",
          "Suburban",
          "Suburban",
          "City",
          "Suburban",
          "SmallTown",
          "City",
          "Suburban",
          "SmallTown",
          "SmallTown",
          "Suburban",
          "Rural",
          "City",
          "City",
          "Suburban",
          "Suburban",
          "City",
          "SmallTown",
          "Suburban",
          "Suburban",
          "Suburban",
          "City",
          "Suburban",
          "City",
          "Suburban",
          "City",
          "Suburban",
          "Suburban",
          "City",
          "Suburban",
          "Suburban",
          "Suburban",
          "Suburban",
          "City",
          "Suburban",
          "Suburban",
          "City",
          "City",
          "Rural",
          "City",
          "Rural",
          "Suburban",
          "Rural",
          "Suburban",
          "Suburban",
          "Suburban",
          "Suburban",
          "SmallTown",
          "City",
          "Suburban",
          "City",
          "Suburban",
          "Suburban",
          "City",
          "City",
          "City",
          "City",
          "City",
          "City",
          "Suburban",
          "Suburban",
          "Rural",
          "Suburban",
          "City",
          "SmallTown",
          "City",
          "SmallTown",
          "City",
          "City",
          "City",
          "Suburban",
          "City",
          "Suburban",
          "Suburban",
          "Suburban",
          "Suburban",
          "Suburban",
          "Rural",
          "SmallTown",
          "City",
          "Suburban",
          "Suburban",
          "City",
          "Rural",
          "City",
          "SmallTown",
          "SmallTown",
          "City",
          "Suburban",
          "Suburban",
          "City",
          "City",
          "Suburban",
          "Suburban",
          "City",
          "City",
          "SmallTown",
          "Suburban",
          "SmallTown",
          "City",
          "City",
          "City",
          "SmallTown",
          "City",
          "Suburban",
          "SmallTown",
          "City",
          "City",
          "Suburban",
          "Rural",
          "Suburban",
          "Suburban",
          "City",
          "City",
          "City",
          "City",
          "Suburban",
          "City",
          "Suburban",
          "City",
          "Suburban",
          "Suburban",
          "Suburban",
          "City",
          "Suburban",
          "Suburban",
          "SmallTown",
          "Suburban",
          "Suburban",
          "Suburban",
          "Suburban",
          "City",
          "Rural",
          "Rural",
          "City",
          "Suburban",
          "Suburban",
          "City",
          "Suburban",
          "SmallTown",
          "City",
          "Suburban",
          "Rural",
          "City",
          "City",
          "Suburban",
          "City",
          "SmallTown",
          "Suburban",
          "SmallTown",
          "Suburban",
          "Suburban",
          "Rural",
          "Suburban",
          "City",
          "Suburban",
          "Rural",
          "City",
          "Suburban",
          "City",
          "Suburban",
          "Rural",
          "Suburban",
          "SmallTown",
          "Suburban",
          "City",
          "SmallTown",
          "City",
          "Suburban",
          "Suburban",
          "City",
          "City",
          "SmallTown",
          "Suburban",
          "City",
          "SmallTown",
          "City",
          "Rural",
          "Suburban",
          "City",
          "Suburban",
          "Suburban",
          "SmallTown",
          "Suburban",
          "Rural",
          "City",
          "City",
          "City",
          "City",
          "Suburban",
          "City",
          "Suburban",
          "Suburban",
          "City",
          "Suburban",
          "City",
          "Suburban",
          "Suburban",
          "Suburban",
          "Suburban",
          "City",
          "Suburban",
          "Rural",
          "City",
          "SmallTown",
          "SmallTown",
          "Rural",
          "Suburban",
          "Suburban",
          "City",
          "Suburban",
          "Suburban",
          "City",
          "City",
          "City",
          "SmallTown",
          "Suburban",
          "City",
          "City",
          "SmallTown",
          "City",
          "Suburban",
          "City",
          "Suburban",
          "City",
          "SmallTown",
          "City",
          "Rural",
          "City",
          "Rural",
          "SmallTown",
          "Suburban",
          "City",
          "Suburban",
          "SmallTown",
          "Suburban",
          "Rural",
          "Suburban",
          "Suburban",
          "City",
          "City",
          "Suburban",
          "City",
          "City",
          "Suburban",
          "City",
          "Suburban",
          "Suburban",
          "City",
          "Suburban",
          "Suburban",
          "Suburban",
          "City",
          "City",
          "City",
          "SmallTown",
          "Suburban",
          "Suburban",
          "Rural",
          "City",
          "Suburban",
          "Suburban",
          "Suburban",
          "Suburban",
          "City",
          "City",
          "Suburban",
          "Suburban",
          "Suburban",
          "City",
          "Suburban",
          "Suburban",
          "SmallTown",
          "SmallTown",
          "SmallTown",
          "Suburban",
          "City",
          "Suburban",
          "City",
          "Suburban",
          "SmallTown",
          "SmallTown",
          "City",
          "Suburban",
          "City",
          "Suburban",
          "Suburban",
          "City",
          "Suburban",
          "City",
          "City",
          "Suburban",
          "Suburban",
          "Suburban",
          "Rural",
          "SmallTown",
          "Suburban",
          "City",
          "SmallTown",
          "Rural",
          "City",
          "Suburban",
          "City",
          "Suburban",
          "Rural",
          "SmallTown",
          "SmallTown",
          "City",
          "Suburban",
          "City",
          "City",
          "Suburban",
          "SmallTown",
          "City",
          "Suburban",
          "City",
          "Rural",
          "Suburban",
          "SmallTown",
          "SmallTown",
          "Suburban",
          "SmallTown",
          "Rural",
          "City",
          "Suburban",
          "Suburban",
          "Suburban",
          "Rural",
          "Suburban",
          "Suburban",
          "City",
          "City",
          "Rural",
          "City",
          "Suburban",
          "Suburban",
          "SmallTown",
          "Suburban",
          "Suburban",
          "Suburban",
          "City",
          "Suburban",
          "SmallTown",
          "City",
          "SmallTown",
          "Rural",
          "Suburban",
          "SmallTown",
          "City",
          "SmallTown",
          "City",
          "City",
          "Suburban",
          "Rural",
          "City",
          "City",
          "Suburban",
          "SmallTown",
          "SmallTown",
          "City",
          "City",
          "Suburban",
          "Suburban",
          "City",
          "SmallTown",
          "City",
          "City",
          "Suburban",
          "City",
          "City",
          "City",
          "Suburban",
          "Suburban",
          "Suburban",
          "City",
          "City",
          "City",
          "SmallTown",
          "Suburban",
          "City",
          "Suburban",
          "City",
          "SmallTown",
          "City",
          "City",
          "Rural",
          "Suburban",
          "Suburban",
          "Rural",
          "SmallTown",
          "City",
          "City",
          "SmallTown",
          "Rural",
          "SmallTown",
          "Suburban",
          "City",
          "City",
          "City",
          "Suburban",
          "Suburban",
          "SmallTown",
          "Suburban",
          "Rural",
          "City",
          "Rural",
          "City",
          "City",
          "Suburban",
          "City",
          "SmallTown",
          "City",
          "City",
          "SmallTown",
          "Rural",
          "SmallTown",
          "Suburban",
          "City",
          "SmallTown",
          "Suburban",
          "Suburban",
          "Suburban",
          "Suburban",
          "SmallTown",
          "Suburban",
          "City",
          "SmallTown",
          "SmallTown",
          "City",
          "City",
          "Suburban",
          "City",
          "SmallTown",
          "Suburban",
          "City",
          "Suburban",
          "SmallTown",
          "Rural",
          "City",
          "SmallTown",
          "Rural",
          "City",
          "Rural",
          "City",
          "Suburban",
          "Suburban",
          "SmallTown",
          "Suburban",
          "Suburban",
          "Suburban",
          "Suburban",
          "SmallTown",
          "SmallTown",
          "Rural",
          "Suburban",
          "Rural",
          "Suburban",
          "City",
          "City",
          "Suburban",
          "City",
          "SmallTown",
          "City",
          "Suburban",
          "SmallTown",
          "Suburban",
          "City",
          "City",
          "City",
          "SmallTown",
          "Rural",
          "Suburban",
          "City",
          "City",
          "Suburban",
          "Suburban",
          "City",
          "City",
          "Suburban",
          "SmallTown",
          "Suburban",
          "Suburban",
          "Suburban",
          "SmallTown",
          "Suburban",
          "City",
          "Suburban",
          "Rural",
          "Suburban",
          "Suburban",
          "Rural",
          "Suburban",
          "SmallTown",
          "Suburban",
          "Suburban",
          "City",
          "Rural",
          "SmallTown",
          "City",
          "City",
          "City",
          "Rural",
          "City",
          "Suburban",
          "Suburban",
          "City",
          "SmallTown",
          "Rural",
          "City",
          "City",
          "Rural",
          "City",
          "Suburban",
          "Suburban",
          "City",
          "SmallTown",
          "City",
          "SmallTown",
          "SmallTown",
          "City",
          "Suburban",
          "SmallTown",
          "City",
          "SmallTown",
          "Suburban",
          "City",
          "Suburban",
          "Suburban",
          "Suburban",
          "SmallTown",
          "Suburban",
          "Rural",
          "SmallTown",
          "SmallTown",
          "Suburban",
          "Suburban",
          "Suburban",
          "Suburban",
          "Suburban",
          "City",
          "SmallTown",
          "SmallTown",
          "Rural",
          "City",
          "City",
          "Suburban",
          "Suburban",
          "City",
          "City",
          "Suburban",
          "City",
          "SmallTown",
          "City",
          "City",
          "City",
          "City",
          "SmallTown",
          "City",
          "City",
          "SmallTown",
          "City"
         ],
         "xaxis": "x",
         "yaxis": "y"
        },
        {
         "alignmentgroup": "True",
         "bingroup": "x",
         "hoverlabel": {
          "namelength": 0
         },
         "hovertemplate": "Voted=0<br>USAAreaType_Groups=%{x}<br>count=%{y}",
         "legendgroup": "Voted=0",
         "marker": {
          "color": "#EF553B"
         },
         "name": "Voted=0",
         "offsetgroup": "Voted=0",
         "orientation": "v",
         "showlegend": true,
         "type": "histogram",
         "x": [
          "SmallTown",
          "City",
          "City",
          "City",
          "Suburban",
          "SmallTown",
          "Rural",
          "Rural",
          "City",
          "Suburban",
          "SmallTown",
          "Suburban",
          "City",
          "SmallTown",
          "City",
          "Suburban",
          "City",
          "Suburban",
          "Suburban",
          "Rural",
          "Suburban",
          "Suburban",
          "City",
          "SmallTown",
          "City",
          "SmallTown",
          "Suburban",
          "Suburban",
          "City",
          "SmallTown",
          "Suburban",
          "City",
          "City",
          "City",
          "SmallTown",
          "Suburban",
          "Suburban",
          "SmallTown",
          "Suburban",
          "City",
          "Suburban",
          "Suburban",
          "City",
          "SmallTown",
          "Suburban",
          "City",
          "Rural",
          "Suburban",
          "City",
          "City",
          "Suburban",
          "Suburban",
          "Suburban",
          "Rural",
          "Suburban",
          "City",
          "City",
          "City",
          "Rural",
          "City",
          "City",
          "SmallTown",
          "Suburban",
          "City",
          "SmallTown",
          "Suburban",
          "Suburban",
          "City",
          "SmallTown",
          "City",
          "Suburban",
          "Suburban",
          "Suburban",
          "Suburban",
          "SmallTown",
          "Suburban",
          "Rural",
          "Suburban",
          "Rural",
          "Suburban",
          "Suburban",
          "City",
          "Suburban",
          "Suburban",
          "Suburban",
          "Suburban",
          "SmallTown",
          "Suburban",
          "Suburban",
          "SmallTown",
          "City",
          "Rural",
          "Rural",
          "City",
          "SmallTown",
          "Suburban",
          "SmallTown",
          "SmallTown",
          "Rural",
          "City",
          "Rural",
          "City",
          "Rural",
          "Suburban",
          "Suburban",
          "SmallTown",
          "Suburban",
          "City",
          "City",
          "City",
          "Suburban",
          "City",
          "Suburban",
          "Suburban",
          "SmallTown",
          "City",
          "City",
          "City",
          "Suburban",
          "Suburban",
          "Suburban",
          "SmallTown",
          "Rural",
          "SmallTown",
          "City",
          "Suburban",
          "SmallTown",
          "Suburban",
          "City",
          "SmallTown",
          "City",
          "Rural",
          "Suburban",
          "Suburban",
          "City",
          "Suburban",
          "City",
          "SmallTown",
          "Suburban",
          "SmallTown",
          "SmallTown",
          "City",
          "Rural",
          "City",
          "City",
          "City",
          "Rural",
          "City",
          "SmallTown",
          "Suburban",
          "Suburban",
          "Suburban",
          "SmallTown",
          "SmallTown",
          "Suburban",
          "Suburban",
          "City",
          "Suburban",
          "Suburban",
          "Suburban",
          "Suburban",
          "City",
          "Suburban",
          "Suburban",
          "City",
          "City",
          "City",
          "Rural",
          "SmallTown",
          "City",
          "Suburban",
          "Rural",
          "Suburban",
          "City",
          "SmallTown",
          "Suburban",
          "Suburban",
          "City",
          "Suburban",
          "Suburban",
          "City",
          "SmallTown",
          "City",
          "Suburban",
          "Suburban",
          "Rural",
          "City",
          "City",
          "Rural",
          "City",
          "City",
          "City",
          "Suburban",
          "Suburban",
          "Suburban",
          "City",
          "City",
          "City",
          "Suburban",
          "City",
          "Suburban",
          "SmallTown",
          "Suburban",
          "Suburban",
          "City",
          "City",
          "SmallTown",
          "SmallTown",
          "SmallTown",
          "SmallTown",
          "City",
          "Rural",
          "Suburban",
          "City",
          "Suburban",
          "Suburban",
          "Rural",
          "SmallTown",
          "Suburban",
          "Suburban",
          "Suburban",
          "City",
          "SmallTown",
          "Rural",
          "Rural",
          "Suburban",
          "Rural",
          "Rural",
          "Suburban",
          "Suburban",
          "Suburban",
          "Rural",
          "Suburban",
          "City",
          "SmallTown",
          "SmallTown",
          "City",
          "City",
          "City",
          "SmallTown",
          "City",
          "SmallTown",
          "Suburban",
          "City",
          "Suburban",
          "City",
          "City",
          "Suburban",
          "Rural",
          "Suburban",
          "SmallTown",
          "Suburban",
          "City",
          "Suburban",
          "City",
          "Suburban",
          "Suburban",
          "Suburban",
          "SmallTown",
          "Suburban",
          "SmallTown",
          "Rural",
          "Rural",
          "SmallTown",
          "Suburban",
          "Suburban",
          "SmallTown",
          "City",
          "Rural",
          "SmallTown",
          "City",
          "Suburban",
          "City",
          "City",
          "City",
          "Suburban",
          "SmallTown",
          "Suburban",
          "Suburban",
          "SmallTown",
          "Suburban",
          "Rural",
          "Suburban",
          "City",
          "City",
          "Rural",
          "City",
          "Suburban",
          "Suburban",
          "City",
          "City",
          "Suburban",
          "SmallTown",
          "Suburban",
          "SmallTown",
          "Suburban",
          "City",
          "SmallTown",
          "Suburban",
          "City",
          "Suburban",
          "Rural",
          "SmallTown",
          "Suburban",
          "City",
          "SmallTown",
          "Rural",
          "Suburban",
          "Suburban",
          "City",
          "City",
          "Suburban",
          "SmallTown",
          "Suburban",
          "Suburban",
          "SmallTown",
          "SmallTown",
          "City",
          "SmallTown",
          "SmallTown",
          "SmallTown",
          "Suburban",
          "Suburban",
          "City",
          "Suburban",
          "City",
          "City",
          "City",
          "Suburban",
          "Suburban",
          "SmallTown",
          "City",
          "City",
          "Suburban",
          "SmallTown",
          "Suburban",
          "City",
          "Suburban",
          "Suburban",
          "City",
          "City",
          "Rural",
          "City",
          "City",
          "Suburban",
          "City",
          "Suburban",
          "SmallTown",
          "Suburban",
          "Suburban",
          "Suburban",
          "Suburban",
          "SmallTown",
          "Suburban",
          "SmallTown",
          "City",
          "Rural",
          "City",
          "Rural",
          "Suburban",
          "Suburban",
          "Suburban",
          "City",
          "SmallTown",
          "Rural",
          "City",
          "City",
          "City",
          "Rural",
          "Suburban",
          "Suburban",
          "SmallTown",
          "Suburban",
          "Suburban",
          "City",
          "City",
          "City",
          "Suburban",
          "Suburban",
          "Rural",
          "Rural",
          "Rural",
          "Suburban",
          "Rural",
          "City",
          "City",
          "Suburban",
          "City",
          "Suburban",
          "Suburban",
          "Rural",
          "SmallTown",
          "Suburban",
          "SmallTown",
          "SmallTown",
          "City",
          "SmallTown",
          "Suburban",
          "City",
          "City",
          "Suburban",
          "SmallTown",
          "Rural",
          "City",
          "SmallTown",
          "Suburban",
          "Suburban",
          "Suburban",
          "Suburban",
          "City",
          "Suburban",
          "Suburban",
          "City",
          "SmallTown",
          "City",
          "SmallTown",
          "SmallTown",
          "Rural",
          "SmallTown",
          "Suburban",
          "Suburban",
          "Rural",
          "Rural",
          "SmallTown",
          "City",
          "SmallTown",
          "City",
          "City",
          "SmallTown",
          "SmallTown",
          "Suburban",
          "City",
          "City",
          "City",
          "Rural",
          "City",
          "Suburban",
          "Suburban",
          "SmallTown",
          "Suburban",
          "City",
          "Suburban",
          "City",
          "City",
          "City",
          "SmallTown",
          "City",
          "City",
          "Suburban",
          "Rural",
          "SmallTown",
          "Rural",
          "SmallTown",
          "Suburban",
          "City",
          "City",
          "SmallTown",
          "SmallTown",
          "SmallTown"
         ],
         "xaxis": "x",
         "yaxis": "y"
        }
       ],
       "layout": {
        "barmode": "group",
        "barnorm": "percent",
        "height": 600,
        "legend": {
         "tracegroupgap": 0
        },
        "margin": {
         "t": 60
        },
        "template": {
         "data": {
          "bar": [
           {
            "error_x": {
             "color": "#2a3f5f"
            },
            "error_y": {
             "color": "#2a3f5f"
            },
            "marker": {
             "line": {
              "color": "#E5ECF6",
              "width": 0.5
             }
            },
            "type": "bar"
           }
          ],
          "barpolar": [
           {
            "marker": {
             "line": {
              "color": "#E5ECF6",
              "width": 0.5
             }
            },
            "type": "barpolar"
           }
          ],
          "carpet": [
           {
            "aaxis": {
             "endlinecolor": "#2a3f5f",
             "gridcolor": "white",
             "linecolor": "white",
             "minorgridcolor": "white",
             "startlinecolor": "#2a3f5f"
            },
            "baxis": {
             "endlinecolor": "#2a3f5f",
             "gridcolor": "white",
             "linecolor": "white",
             "minorgridcolor": "white",
             "startlinecolor": "#2a3f5f"
            },
            "type": "carpet"
           }
          ],
          "choropleth": [
           {
            "colorbar": {
             "outlinewidth": 0,
             "ticks": ""
            },
            "type": "choropleth"
           }
          ],
          "contour": [
           {
            "colorbar": {
             "outlinewidth": 0,
             "ticks": ""
            },
            "colorscale": [
             [
              0,
              "#0d0887"
             ],
             [
              0.1111111111111111,
              "#46039f"
             ],
             [
              0.2222222222222222,
              "#7201a8"
             ],
             [
              0.3333333333333333,
              "#9c179e"
             ],
             [
              0.4444444444444444,
              "#bd3786"
             ],
             [
              0.5555555555555556,
              "#d8576b"
             ],
             [
              0.6666666666666666,
              "#ed7953"
             ],
             [
              0.7777777777777778,
              "#fb9f3a"
             ],
             [
              0.8888888888888888,
              "#fdca26"
             ],
             [
              1,
              "#f0f921"
             ]
            ],
            "type": "contour"
           }
          ],
          "contourcarpet": [
           {
            "colorbar": {
             "outlinewidth": 0,
             "ticks": ""
            },
            "type": "contourcarpet"
           }
          ],
          "heatmap": [
           {
            "colorbar": {
             "outlinewidth": 0,
             "ticks": ""
            },
            "colorscale": [
             [
              0,
              "#0d0887"
             ],
             [
              0.1111111111111111,
              "#46039f"
             ],
             [
              0.2222222222222222,
              "#7201a8"
             ],
             [
              0.3333333333333333,
              "#9c179e"
             ],
             [
              0.4444444444444444,
              "#bd3786"
             ],
             [
              0.5555555555555556,
              "#d8576b"
             ],
             [
              0.6666666666666666,
              "#ed7953"
             ],
             [
              0.7777777777777778,
              "#fb9f3a"
             ],
             [
              0.8888888888888888,
              "#fdca26"
             ],
             [
              1,
              "#f0f921"
             ]
            ],
            "type": "heatmap"
           }
          ],
          "heatmapgl": [
           {
            "colorbar": {
             "outlinewidth": 0,
             "ticks": ""
            },
            "colorscale": [
             [
              0,
              "#0d0887"
             ],
             [
              0.1111111111111111,
              "#46039f"
             ],
             [
              0.2222222222222222,
              "#7201a8"
             ],
             [
              0.3333333333333333,
              "#9c179e"
             ],
             [
              0.4444444444444444,
              "#bd3786"
             ],
             [
              0.5555555555555556,
              "#d8576b"
             ],
             [
              0.6666666666666666,
              "#ed7953"
             ],
             [
              0.7777777777777778,
              "#fb9f3a"
             ],
             [
              0.8888888888888888,
              "#fdca26"
             ],
             [
              1,
              "#f0f921"
             ]
            ],
            "type": "heatmapgl"
           }
          ],
          "histogram": [
           {
            "marker": {
             "colorbar": {
              "outlinewidth": 0,
              "ticks": ""
             }
            },
            "type": "histogram"
           }
          ],
          "histogram2d": [
           {
            "colorbar": {
             "outlinewidth": 0,
             "ticks": ""
            },
            "colorscale": [
             [
              0,
              "#0d0887"
             ],
             [
              0.1111111111111111,
              "#46039f"
             ],
             [
              0.2222222222222222,
              "#7201a8"
             ],
             [
              0.3333333333333333,
              "#9c179e"
             ],
             [
              0.4444444444444444,
              "#bd3786"
             ],
             [
              0.5555555555555556,
              "#d8576b"
             ],
             [
              0.6666666666666666,
              "#ed7953"
             ],
             [
              0.7777777777777778,
              "#fb9f3a"
             ],
             [
              0.8888888888888888,
              "#fdca26"
             ],
             [
              1,
              "#f0f921"
             ]
            ],
            "type": "histogram2d"
           }
          ],
          "histogram2dcontour": [
           {
            "colorbar": {
             "outlinewidth": 0,
             "ticks": ""
            },
            "colorscale": [
             [
              0,
              "#0d0887"
             ],
             [
              0.1111111111111111,
              "#46039f"
             ],
             [
              0.2222222222222222,
              "#7201a8"
             ],
             [
              0.3333333333333333,
              "#9c179e"
             ],
             [
              0.4444444444444444,
              "#bd3786"
             ],
             [
              0.5555555555555556,
              "#d8576b"
             ],
             [
              0.6666666666666666,
              "#ed7953"
             ],
             [
              0.7777777777777778,
              "#fb9f3a"
             ],
             [
              0.8888888888888888,
              "#fdca26"
             ],
             [
              1,
              "#f0f921"
             ]
            ],
            "type": "histogram2dcontour"
           }
          ],
          "mesh3d": [
           {
            "colorbar": {
             "outlinewidth": 0,
             "ticks": ""
            },
            "type": "mesh3d"
           }
          ],
          "parcoords": [
           {
            "line": {
             "colorbar": {
              "outlinewidth": 0,
              "ticks": ""
             }
            },
            "type": "parcoords"
           }
          ],
          "scatter": [
           {
            "marker": {
             "colorbar": {
              "outlinewidth": 0,
              "ticks": ""
             }
            },
            "type": "scatter"
           }
          ],
          "scatter3d": [
           {
            "line": {
             "colorbar": {
              "outlinewidth": 0,
              "ticks": ""
             }
            },
            "marker": {
             "colorbar": {
              "outlinewidth": 0,
              "ticks": ""
             }
            },
            "type": "scatter3d"
           }
          ],
          "scattercarpet": [
           {
            "marker": {
             "colorbar": {
              "outlinewidth": 0,
              "ticks": ""
             }
            },
            "type": "scattercarpet"
           }
          ],
          "scattergeo": [
           {
            "marker": {
             "colorbar": {
              "outlinewidth": 0,
              "ticks": ""
             }
            },
            "type": "scattergeo"
           }
          ],
          "scattergl": [
           {
            "marker": {
             "colorbar": {
              "outlinewidth": 0,
              "ticks": ""
             }
            },
            "type": "scattergl"
           }
          ],
          "scattermapbox": [
           {
            "marker": {
             "colorbar": {
              "outlinewidth": 0,
              "ticks": ""
             }
            },
            "type": "scattermapbox"
           }
          ],
          "scatterpolar": [
           {
            "marker": {
             "colorbar": {
              "outlinewidth": 0,
              "ticks": ""
             }
            },
            "type": "scatterpolar"
           }
          ],
          "scatterpolargl": [
           {
            "marker": {
             "colorbar": {
              "outlinewidth": 0,
              "ticks": ""
             }
            },
            "type": "scatterpolargl"
           }
          ],
          "scatterternary": [
           {
            "marker": {
             "colorbar": {
              "outlinewidth": 0,
              "ticks": ""
             }
            },
            "type": "scatterternary"
           }
          ],
          "surface": [
           {
            "colorbar": {
             "outlinewidth": 0,
             "ticks": ""
            },
            "colorscale": [
             [
              0,
              "#0d0887"
             ],
             [
              0.1111111111111111,
              "#46039f"
             ],
             [
              0.2222222222222222,
              "#7201a8"
             ],
             [
              0.3333333333333333,
              "#9c179e"
             ],
             [
              0.4444444444444444,
              "#bd3786"
             ],
             [
              0.5555555555555556,
              "#d8576b"
             ],
             [
              0.6666666666666666,
              "#ed7953"
             ],
             [
              0.7777777777777778,
              "#fb9f3a"
             ],
             [
              0.8888888888888888,
              "#fdca26"
             ],
             [
              1,
              "#f0f921"
             ]
            ],
            "type": "surface"
           }
          ],
          "table": [
           {
            "cells": {
             "fill": {
              "color": "#EBF0F8"
             },
             "line": {
              "color": "white"
             }
            },
            "header": {
             "fill": {
              "color": "#C8D4E3"
             },
             "line": {
              "color": "white"
             }
            },
            "type": "table"
           }
          ]
         },
         "layout": {
          "annotationdefaults": {
           "arrowcolor": "#2a3f5f",
           "arrowhead": 0,
           "arrowwidth": 1
          },
          "colorscale": {
           "diverging": [
            [
             0,
             "#8e0152"
            ],
            [
             0.1,
             "#c51b7d"
            ],
            [
             0.2,
             "#de77ae"
            ],
            [
             0.3,
             "#f1b6da"
            ],
            [
             0.4,
             "#fde0ef"
            ],
            [
             0.5,
             "#f7f7f7"
            ],
            [
             0.6,
             "#e6f5d0"
            ],
            [
             0.7,
             "#b8e186"
            ],
            [
             0.8,
             "#7fbc41"
            ],
            [
             0.9,
             "#4d9221"
            ],
            [
             1,
             "#276419"
            ]
           ],
           "sequential": [
            [
             0,
             "#0d0887"
            ],
            [
             0.1111111111111111,
             "#46039f"
            ],
            [
             0.2222222222222222,
             "#7201a8"
            ],
            [
             0.3333333333333333,
             "#9c179e"
            ],
            [
             0.4444444444444444,
             "#bd3786"
            ],
            [
             0.5555555555555556,
             "#d8576b"
            ],
            [
             0.6666666666666666,
             "#ed7953"
            ],
            [
             0.7777777777777778,
             "#fb9f3a"
            ],
            [
             0.8888888888888888,
             "#fdca26"
            ],
            [
             1,
             "#f0f921"
            ]
           ],
           "sequentialminus": [
            [
             0,
             "#0d0887"
            ],
            [
             0.1111111111111111,
             "#46039f"
            ],
            [
             0.2222222222222222,
             "#7201a8"
            ],
            [
             0.3333333333333333,
             "#9c179e"
            ],
            [
             0.4444444444444444,
             "#bd3786"
            ],
            [
             0.5555555555555556,
             "#d8576b"
            ],
            [
             0.6666666666666666,
             "#ed7953"
            ],
            [
             0.7777777777777778,
             "#fb9f3a"
            ],
            [
             0.8888888888888888,
             "#fdca26"
            ],
            [
             1,
             "#f0f921"
            ]
           ]
          },
          "colorway": [
           "#636efa",
           "#EF553B",
           "#00cc96",
           "#ab63fa",
           "#FFA15A",
           "#19d3f3",
           "#FF6692",
           "#B6E880",
           "#FF97FF",
           "#FECB52"
          ],
          "font": {
           "color": "#2a3f5f"
          },
          "geo": {
           "bgcolor": "white",
           "lakecolor": "white",
           "landcolor": "#E5ECF6",
           "showlakes": true,
           "showland": true,
           "subunitcolor": "white"
          },
          "hoverlabel": {
           "align": "left"
          },
          "hovermode": "closest",
          "mapbox": {
           "style": "light"
          },
          "paper_bgcolor": "white",
          "plot_bgcolor": "#E5ECF6",
          "polar": {
           "angularaxis": {
            "gridcolor": "white",
            "linecolor": "white",
            "ticks": ""
           },
           "bgcolor": "#E5ECF6",
           "radialaxis": {
            "gridcolor": "white",
            "linecolor": "white",
            "ticks": ""
           }
          },
          "scene": {
           "xaxis": {
            "backgroundcolor": "#E5ECF6",
            "gridcolor": "white",
            "gridwidth": 2,
            "linecolor": "white",
            "showbackground": true,
            "ticks": "",
            "zerolinecolor": "white"
           },
           "yaxis": {
            "backgroundcolor": "#E5ECF6",
            "gridcolor": "white",
            "gridwidth": 2,
            "linecolor": "white",
            "showbackground": true,
            "ticks": "",
            "zerolinecolor": "white"
           },
           "zaxis": {
            "backgroundcolor": "#E5ECF6",
            "gridcolor": "white",
            "gridwidth": 2,
            "linecolor": "white",
            "showbackground": true,
            "ticks": "",
            "zerolinecolor": "white"
           }
          },
          "shapedefaults": {
           "line": {
            "color": "#2a3f5f"
           }
          },
          "ternary": {
           "aaxis": {
            "gridcolor": "white",
            "linecolor": "white",
            "ticks": ""
           },
           "baxis": {
            "gridcolor": "white",
            "linecolor": "white",
            "ticks": ""
           },
           "bgcolor": "#E5ECF6",
           "caxis": {
            "gridcolor": "white",
            "linecolor": "white",
            "ticks": ""
           }
          },
          "title": {
           "x": 0.05
          },
          "xaxis": {
           "automargin": true,
           "gridcolor": "white",
           "linecolor": "white",
           "ticks": "",
           "zerolinecolor": "white",
           "zerolinewidth": 2
          },
          "yaxis": {
           "automargin": true,
           "gridcolor": "white",
           "linecolor": "white",
           "ticks": "",
           "zerolinecolor": "white",
           "zerolinewidth": 2
          }
         }
        },
        "xaxis": {
         "anchor": "y",
         "domain": [
          0,
          0.98
         ],
         "title": {
          "text": "USAAreaType_Groups"
         }
        },
        "yaxis": {
         "anchor": "x",
         "domain": [
          0,
          1
         ],
         "title": {
          "text": "Percent"
         }
        }
       }
      },
      "text/html": [
       "<div>\n",
       "        \n",
       "        \n",
       "            <div id=\"b02497c4-b429-413b-8299-fee11a57b130\" class=\"plotly-graph-div\" style=\"height:600px; width:100%;\"></div>\n",
       "            <script type=\"text/javascript\">\n",
       "                require([\"plotly\"], function(Plotly) {\n",
       "                    window.PLOTLYENV=window.PLOTLYENV || {};\n",
       "                    \n",
       "                if (document.getElementById(\"b02497c4-b429-413b-8299-fee11a57b130\")) {\n",
       "                    Plotly.newPlot(\n",
       "                        'b02497c4-b429-413b-8299-fee11a57b130',\n",
       "                        [{\"alignmentgroup\": \"True\", \"bingroup\": \"x\", \"hoverlabel\": {\"namelength\": 0}, \"hovertemplate\": \"Voted=1<br>USAAreaType_Groups=%{x}<br>count=%{y}\", \"legendgroup\": \"Voted=1\", \"marker\": {\"color\": \"#636EFA\"}, \"name\": \"Voted=1\", \"offsetgroup\": \"Voted=1\", \"orientation\": \"v\", \"showlegend\": true, \"type\": \"histogram\", \"x\": [\"Rural\", \"Suburban\", \"SmallTown\", \"City\", \"City\", \"Rural\", \"Suburban\", \"SmallTown\", \"Rural\", \"Rural\", \"City\", \"SmallTown\", \"Rural\", \"City\", \"City\", \"City\", \"City\", \"City\", \"City\", \"Suburban\", \"City\", \"City\", \"City\", \"Rural\", \"City\", \"Rural\", \"Suburban\", \"Rural\", \"SmallTown\", \"City\", \"City\", \"SmallTown\", \"Suburban\", \"City\", \"City\", \"Suburban\", \"City\", \"City\", \"Suburban\", \"City\", \"City\", \"SmallTown\", \"Suburban\", \"Suburban\", \"Suburban\", \"Suburban\", \"Suburban\", \"City\", \"Suburban\", \"City\", \"Rural\", \"Suburban\", \"Rural\", \"Suburban\", \"City\", \"Rural\", \"City\", \"Suburban\", \"City\", \"SmallTown\", \"Suburban\", \"Suburban\", \"City\", \"City\", \"SmallTown\", \"Rural\", \"Suburban\", \"Suburban\", \"Suburban\", \"City\", \"City\", \"SmallTown\", \"Suburban\", \"Rural\", \"Suburban\", \"City\", \"City\", \"Suburban\", \"Suburban\", \"Suburban\", \"City\", \"Suburban\", \"SmallTown\", \"Suburban\", \"Rural\", \"Suburban\", \"City\", \"Suburban\", \"City\", \"Suburban\", \"Suburban\", \"Suburban\", \"City\", \"Suburban\", \"Suburban\", \"City\", \"Suburban\", \"SmallTown\", \"Suburban\", \"Suburban\", \"City\", \"Suburban\", \"City\", \"Suburban\", \"City\", \"City\", \"SmallTown\", \"Suburban\", \"Suburban\", \"Rural\", \"SmallTown\", \"Suburban\", \"Suburban\", \"Suburban\", \"City\", \"Suburban\", \"Rural\", \"Suburban\", \"SmallTown\", \"Suburban\", \"SmallTown\", \"City\", \"Suburban\", \"Suburban\", \"City\", \"Suburban\", \"Suburban\", \"Suburban\", \"Suburban\", \"SmallTown\", \"City\", \"Rural\", \"City\", \"Suburban\", \"City\", \"Suburban\", \"City\", \"City\", \"City\", \"City\", \"Suburban\", \"Suburban\", \"SmallTown\", \"City\", \"City\", \"City\", \"Suburban\", \"Suburban\", \"Suburban\", \"City\", \"City\", \"SmallTown\", \"City\", \"Rural\", \"SmallTown\", \"City\", \"SmallTown\", \"Suburban\", \"SmallTown\", \"City\", \"Suburban\", \"City\", \"Suburban\", \"Suburban\", \"Suburban\", \"Rural\", \"City\", \"Suburban\", \"Suburban\", \"Rural\", \"City\", \"Suburban\", \"City\", \"Suburban\", \"Rural\", \"City\", \"Suburban\", \"Suburban\", \"Suburban\", \"SmallTown\", \"Suburban\", \"City\", \"Suburban\", \"SmallTown\", \"SmallTown\", \"Suburban\", \"City\", \"SmallTown\", \"City\", \"City\", \"Suburban\", \"Suburban\", \"Suburban\", \"SmallTown\", \"Rural\", \"Suburban\", \"SmallTown\", \"City\", \"Suburban\", \"Suburban\", \"SmallTown\", \"SmallTown\", \"SmallTown\", \"City\", \"City\", \"City\", \"Suburban\", \"Suburban\", \"Suburban\", \"Suburban\", \"Suburban\", \"City\", \"Suburban\", \"SmallTown\", \"City\", \"Suburban\", \"SmallTown\", \"SmallTown\", \"Suburban\", \"Rural\", \"City\", \"City\", \"Suburban\", \"Suburban\", \"City\", \"SmallTown\", \"Suburban\", \"Suburban\", \"Suburban\", \"City\", \"Suburban\", \"City\", \"Suburban\", \"City\", \"Suburban\", \"Suburban\", \"City\", \"Suburban\", \"Suburban\", \"Suburban\", \"Suburban\", \"City\", \"Suburban\", \"Suburban\", \"City\", \"City\", \"Rural\", \"City\", \"Rural\", \"Suburban\", \"Rural\", \"Suburban\", \"Suburban\", \"Suburban\", \"Suburban\", \"SmallTown\", \"City\", \"Suburban\", \"City\", \"Suburban\", \"Suburban\", \"City\", \"City\", \"City\", \"City\", \"City\", \"City\", \"Suburban\", \"Suburban\", \"Rural\", \"Suburban\", \"City\", \"SmallTown\", \"City\", \"SmallTown\", \"City\", \"City\", \"City\", \"Suburban\", \"City\", \"Suburban\", \"Suburban\", \"Suburban\", \"Suburban\", \"Suburban\", \"Rural\", \"SmallTown\", \"City\", \"Suburban\", \"Suburban\", \"City\", \"Rural\", \"City\", \"SmallTown\", \"SmallTown\", \"City\", \"Suburban\", \"Suburban\", \"City\", \"City\", \"Suburban\", \"Suburban\", \"City\", \"City\", \"SmallTown\", \"Suburban\", \"SmallTown\", \"City\", \"City\", \"City\", \"SmallTown\", \"City\", \"Suburban\", \"SmallTown\", \"City\", \"City\", \"Suburban\", \"Rural\", \"Suburban\", \"Suburban\", \"City\", \"City\", \"City\", \"City\", \"Suburban\", \"City\", \"Suburban\", \"City\", \"Suburban\", \"Suburban\", \"Suburban\", \"City\", \"Suburban\", \"Suburban\", \"SmallTown\", \"Suburban\", \"Suburban\", \"Suburban\", \"Suburban\", \"City\", \"Rural\", \"Rural\", \"City\", \"Suburban\", \"Suburban\", \"City\", \"Suburban\", \"SmallTown\", \"City\", \"Suburban\", \"Rural\", \"City\", \"City\", \"Suburban\", \"City\", \"SmallTown\", \"Suburban\", \"SmallTown\", \"Suburban\", \"Suburban\", \"Rural\", \"Suburban\", \"City\", \"Suburban\", \"Rural\", \"City\", \"Suburban\", \"City\", \"Suburban\", \"Rural\", \"Suburban\", \"SmallTown\", \"Suburban\", \"City\", \"SmallTown\", \"City\", \"Suburban\", \"Suburban\", \"City\", \"City\", \"SmallTown\", \"Suburban\", \"City\", \"SmallTown\", \"City\", \"Rural\", \"Suburban\", \"City\", \"Suburban\", \"Suburban\", \"SmallTown\", \"Suburban\", \"Rural\", \"City\", \"City\", \"City\", \"City\", \"Suburban\", \"City\", \"Suburban\", \"Suburban\", \"City\", \"Suburban\", \"City\", \"Suburban\", \"Suburban\", \"Suburban\", \"Suburban\", \"City\", \"Suburban\", \"Rural\", \"City\", \"SmallTown\", \"SmallTown\", \"Rural\", \"Suburban\", \"Suburban\", \"City\", \"Suburban\", \"Suburban\", \"City\", \"City\", \"City\", \"SmallTown\", \"Suburban\", \"City\", \"City\", \"SmallTown\", \"City\", \"Suburban\", \"City\", \"Suburban\", \"City\", \"SmallTown\", \"City\", \"Rural\", \"City\", \"Rural\", \"SmallTown\", \"Suburban\", \"City\", \"Suburban\", \"SmallTown\", \"Suburban\", \"Rural\", \"Suburban\", \"Suburban\", \"City\", \"City\", \"Suburban\", \"City\", \"City\", \"Suburban\", \"City\", \"Suburban\", \"Suburban\", \"City\", \"Suburban\", \"Suburban\", \"Suburban\", \"City\", \"City\", \"City\", \"SmallTown\", \"Suburban\", \"Suburban\", \"Rural\", \"City\", \"Suburban\", \"Suburban\", \"Suburban\", \"Suburban\", \"City\", \"City\", \"Suburban\", \"Suburban\", \"Suburban\", \"City\", \"Suburban\", \"Suburban\", \"SmallTown\", \"SmallTown\", \"SmallTown\", \"Suburban\", \"City\", \"Suburban\", \"City\", \"Suburban\", \"SmallTown\", \"SmallTown\", \"City\", \"Suburban\", \"City\", \"Suburban\", \"Suburban\", \"City\", \"Suburban\", \"City\", \"City\", \"Suburban\", \"Suburban\", \"Suburban\", \"Rural\", \"SmallTown\", \"Suburban\", \"City\", \"SmallTown\", \"Rural\", \"City\", \"Suburban\", \"City\", \"Suburban\", \"Rural\", \"SmallTown\", \"SmallTown\", \"City\", \"Suburban\", \"City\", \"City\", \"Suburban\", \"SmallTown\", \"City\", \"Suburban\", \"City\", \"Rural\", \"Suburban\", \"SmallTown\", \"SmallTown\", \"Suburban\", \"SmallTown\", \"Rural\", \"City\", \"Suburban\", \"Suburban\", \"Suburban\", \"Rural\", \"Suburban\", \"Suburban\", \"City\", \"City\", \"Rural\", \"City\", \"Suburban\", \"Suburban\", \"SmallTown\", \"Suburban\", \"Suburban\", \"Suburban\", \"City\", \"Suburban\", \"SmallTown\", \"City\", \"SmallTown\", \"Rural\", \"Suburban\", \"SmallTown\", \"City\", \"SmallTown\", \"City\", \"City\", \"Suburban\", \"Rural\", \"City\", \"City\", \"Suburban\", \"SmallTown\", \"SmallTown\", \"City\", \"City\", \"Suburban\", \"Suburban\", \"City\", \"SmallTown\", \"City\", \"City\", \"Suburban\", \"City\", \"City\", \"City\", \"Suburban\", \"Suburban\", \"Suburban\", \"City\", \"City\", \"City\", \"SmallTown\", \"Suburban\", \"City\", \"Suburban\", \"City\", \"SmallTown\", \"City\", \"City\", \"Rural\", \"Suburban\", \"Suburban\", \"Rural\", \"SmallTown\", \"City\", \"City\", \"SmallTown\", \"Rural\", \"SmallTown\", \"Suburban\", \"City\", \"City\", \"City\", \"Suburban\", \"Suburban\", \"SmallTown\", \"Suburban\", \"Rural\", \"City\", \"Rural\", \"City\", \"City\", \"Suburban\", \"City\", \"SmallTown\", \"City\", \"City\", \"SmallTown\", \"Rural\", \"SmallTown\", \"Suburban\", \"City\", \"SmallTown\", \"Suburban\", \"Suburban\", \"Suburban\", \"Suburban\", \"SmallTown\", \"Suburban\", \"City\", \"SmallTown\", \"SmallTown\", \"City\", \"City\", \"Suburban\", \"City\", \"SmallTown\", \"Suburban\", \"City\", \"Suburban\", \"SmallTown\", \"Rural\", \"City\", \"SmallTown\", \"Rural\", \"City\", \"Rural\", \"City\", \"Suburban\", \"Suburban\", \"SmallTown\", \"Suburban\", \"Suburban\", \"Suburban\", \"Suburban\", \"SmallTown\", \"SmallTown\", \"Rural\", \"Suburban\", \"Rural\", \"Suburban\", \"City\", \"City\", \"Suburban\", \"City\", \"SmallTown\", \"City\", \"Suburban\", \"SmallTown\", \"Suburban\", \"City\", \"City\", \"City\", \"SmallTown\", \"Rural\", \"Suburban\", \"City\", \"City\", \"Suburban\", \"Suburban\", \"City\", \"City\", \"Suburban\", \"SmallTown\", \"Suburban\", \"Suburban\", \"Suburban\", \"SmallTown\", \"Suburban\", \"City\", \"Suburban\", \"Rural\", \"Suburban\", \"Suburban\", \"Rural\", \"Suburban\", \"SmallTown\", \"Suburban\", \"Suburban\", \"City\", \"Rural\", \"SmallTown\", \"City\", \"City\", \"City\", \"Rural\", \"City\", \"Suburban\", \"Suburban\", \"City\", \"SmallTown\", \"Rural\", \"City\", \"City\", \"Rural\", \"City\", \"Suburban\", \"Suburban\", \"City\", \"SmallTown\", \"City\", \"SmallTown\", \"SmallTown\", \"City\", \"Suburban\", \"SmallTown\", \"City\", \"SmallTown\", \"Suburban\", \"City\", \"Suburban\", \"Suburban\", \"Suburban\", \"SmallTown\", \"Suburban\", \"Rural\", \"SmallTown\", \"SmallTown\", \"Suburban\", \"Suburban\", \"Suburban\", \"Suburban\", \"Suburban\", \"City\", \"SmallTown\", \"SmallTown\", \"Rural\", \"City\", \"City\", \"Suburban\", \"Suburban\", \"City\", \"City\", \"Suburban\", \"City\", \"SmallTown\", \"City\", \"City\", \"City\", \"City\", \"SmallTown\", \"City\", \"City\", \"SmallTown\", \"City\"], \"xaxis\": \"x\", \"yaxis\": \"y\"}, {\"alignmentgroup\": \"True\", \"bingroup\": \"x\", \"hoverlabel\": {\"namelength\": 0}, \"hovertemplate\": \"Voted=0<br>USAAreaType_Groups=%{x}<br>count=%{y}\", \"legendgroup\": \"Voted=0\", \"marker\": {\"color\": \"#EF553B\"}, \"name\": \"Voted=0\", \"offsetgroup\": \"Voted=0\", \"orientation\": \"v\", \"showlegend\": true, \"type\": \"histogram\", \"x\": [\"SmallTown\", \"City\", \"City\", \"City\", \"Suburban\", \"SmallTown\", \"Rural\", \"Rural\", \"City\", \"Suburban\", \"SmallTown\", \"Suburban\", \"City\", \"SmallTown\", \"City\", \"Suburban\", \"City\", \"Suburban\", \"Suburban\", \"Rural\", \"Suburban\", \"Suburban\", \"City\", \"SmallTown\", \"City\", \"SmallTown\", \"Suburban\", \"Suburban\", \"City\", \"SmallTown\", \"Suburban\", \"City\", \"City\", \"City\", \"SmallTown\", \"Suburban\", \"Suburban\", \"SmallTown\", \"Suburban\", \"City\", \"Suburban\", \"Suburban\", \"City\", \"SmallTown\", \"Suburban\", \"City\", \"Rural\", \"Suburban\", \"City\", \"City\", \"Suburban\", \"Suburban\", \"Suburban\", \"Rural\", \"Suburban\", \"City\", \"City\", \"City\", \"Rural\", \"City\", \"City\", \"SmallTown\", \"Suburban\", \"City\", \"SmallTown\", \"Suburban\", \"Suburban\", \"City\", \"SmallTown\", \"City\", \"Suburban\", \"Suburban\", \"Suburban\", \"Suburban\", \"SmallTown\", \"Suburban\", \"Rural\", \"Suburban\", \"Rural\", \"Suburban\", \"Suburban\", \"City\", \"Suburban\", \"Suburban\", \"Suburban\", \"Suburban\", \"SmallTown\", \"Suburban\", \"Suburban\", \"SmallTown\", \"City\", \"Rural\", \"Rural\", \"City\", \"SmallTown\", \"Suburban\", \"SmallTown\", \"SmallTown\", \"Rural\", \"City\", \"Rural\", \"City\", \"Rural\", \"Suburban\", \"Suburban\", \"SmallTown\", \"Suburban\", \"City\", \"City\", \"City\", \"Suburban\", \"City\", \"Suburban\", \"Suburban\", \"SmallTown\", \"City\", \"City\", \"City\", \"Suburban\", \"Suburban\", \"Suburban\", \"SmallTown\", \"Rural\", \"SmallTown\", \"City\", \"Suburban\", \"SmallTown\", \"Suburban\", \"City\", \"SmallTown\", \"City\", \"Rural\", \"Suburban\", \"Suburban\", \"City\", \"Suburban\", \"City\", \"SmallTown\", \"Suburban\", \"SmallTown\", \"SmallTown\", \"City\", \"Rural\", \"City\", \"City\", \"City\", \"Rural\", \"City\", \"SmallTown\", \"Suburban\", \"Suburban\", \"Suburban\", \"SmallTown\", \"SmallTown\", \"Suburban\", \"Suburban\", \"City\", \"Suburban\", \"Suburban\", \"Suburban\", \"Suburban\", \"City\", \"Suburban\", \"Suburban\", \"City\", \"City\", \"City\", \"Rural\", \"SmallTown\", \"City\", \"Suburban\", \"Rural\", \"Suburban\", \"City\", \"SmallTown\", \"Suburban\", \"Suburban\", \"City\", \"Suburban\", \"Suburban\", \"City\", \"SmallTown\", \"City\", \"Suburban\", \"Suburban\", \"Rural\", \"City\", \"City\", \"Rural\", \"City\", \"City\", \"City\", \"Suburban\", \"Suburban\", \"Suburban\", \"City\", \"City\", \"City\", \"Suburban\", \"City\", \"Suburban\", \"SmallTown\", \"Suburban\", \"Suburban\", \"City\", \"City\", \"SmallTown\", \"SmallTown\", \"SmallTown\", \"SmallTown\", \"City\", \"Rural\", \"Suburban\", \"City\", \"Suburban\", \"Suburban\", \"Rural\", \"SmallTown\", \"Suburban\", \"Suburban\", \"Suburban\", \"City\", \"SmallTown\", \"Rural\", \"Rural\", \"Suburban\", \"Rural\", \"Rural\", \"Suburban\", \"Suburban\", \"Suburban\", \"Rural\", \"Suburban\", \"City\", \"SmallTown\", \"SmallTown\", \"City\", \"City\", \"City\", \"SmallTown\", \"City\", \"SmallTown\", \"Suburban\", \"City\", \"Suburban\", \"City\", \"City\", \"Suburban\", \"Rural\", \"Suburban\", \"SmallTown\", \"Suburban\", \"City\", \"Suburban\", \"City\", \"Suburban\", \"Suburban\", \"Suburban\", \"SmallTown\", \"Suburban\", \"SmallTown\", \"Rural\", \"Rural\", \"SmallTown\", \"Suburban\", \"Suburban\", \"SmallTown\", \"City\", \"Rural\", \"SmallTown\", \"City\", \"Suburban\", \"City\", \"City\", \"City\", \"Suburban\", \"SmallTown\", \"Suburban\", \"Suburban\", \"SmallTown\", \"Suburban\", \"Rural\", \"Suburban\", \"City\", \"City\", \"Rural\", \"City\", \"Suburban\", \"Suburban\", \"City\", \"City\", \"Suburban\", \"SmallTown\", \"Suburban\", \"SmallTown\", \"Suburban\", \"City\", \"SmallTown\", \"Suburban\", \"City\", \"Suburban\", \"Rural\", \"SmallTown\", \"Suburban\", \"City\", \"SmallTown\", \"Rural\", \"Suburban\", \"Suburban\", \"City\", \"City\", \"Suburban\", \"SmallTown\", \"Suburban\", \"Suburban\", \"SmallTown\", \"SmallTown\", \"City\", \"SmallTown\", \"SmallTown\", \"SmallTown\", \"Suburban\", \"Suburban\", \"City\", \"Suburban\", \"City\", \"City\", \"City\", \"Suburban\", \"Suburban\", \"SmallTown\", \"City\", \"City\", \"Suburban\", \"SmallTown\", \"Suburban\", \"City\", \"Suburban\", \"Suburban\", \"City\", \"City\", \"Rural\", \"City\", \"City\", \"Suburban\", \"City\", \"Suburban\", \"SmallTown\", \"Suburban\", \"Suburban\", \"Suburban\", \"Suburban\", \"SmallTown\", \"Suburban\", \"SmallTown\", \"City\", \"Rural\", \"City\", \"Rural\", \"Suburban\", \"Suburban\", \"Suburban\", \"City\", \"SmallTown\", \"Rural\", \"City\", \"City\", \"City\", \"Rural\", \"Suburban\", \"Suburban\", \"SmallTown\", \"Suburban\", \"Suburban\", \"City\", \"City\", \"City\", \"Suburban\", \"Suburban\", \"Rural\", \"Rural\", \"Rural\", \"Suburban\", \"Rural\", \"City\", \"City\", \"Suburban\", \"City\", \"Suburban\", \"Suburban\", \"Rural\", \"SmallTown\", \"Suburban\", \"SmallTown\", \"SmallTown\", \"City\", \"SmallTown\", \"Suburban\", \"City\", \"City\", \"Suburban\", \"SmallTown\", \"Rural\", \"City\", \"SmallTown\", \"Suburban\", \"Suburban\", \"Suburban\", \"Suburban\", \"City\", \"Suburban\", \"Suburban\", \"City\", \"SmallTown\", \"City\", \"SmallTown\", \"SmallTown\", \"Rural\", \"SmallTown\", \"Suburban\", \"Suburban\", \"Rural\", \"Rural\", \"SmallTown\", \"City\", \"SmallTown\", \"City\", \"City\", \"SmallTown\", \"SmallTown\", \"Suburban\", \"City\", \"City\", \"City\", \"Rural\", \"City\", \"Suburban\", \"Suburban\", \"SmallTown\", \"Suburban\", \"City\", \"Suburban\", \"City\", \"City\", \"City\", \"SmallTown\", \"City\", \"City\", \"Suburban\", \"Rural\", \"SmallTown\", \"Rural\", \"SmallTown\", \"Suburban\", \"City\", \"City\", \"SmallTown\", \"SmallTown\", \"SmallTown\"], \"xaxis\": \"x\", \"yaxis\": \"y\"}],\n",
       "                        {\"barmode\": \"group\", \"barnorm\": \"percent\", \"height\": 600, \"legend\": {\"tracegroupgap\": 0}, \"margin\": {\"t\": 60}, \"template\": {\"data\": {\"bar\": [{\"error_x\": {\"color\": \"#2a3f5f\"}, \"error_y\": {\"color\": \"#2a3f5f\"}, \"marker\": {\"line\": {\"color\": \"#E5ECF6\", \"width\": 0.5}}, \"type\": \"bar\"}], \"barpolar\": [{\"marker\": {\"line\": {\"color\": \"#E5ECF6\", \"width\": 0.5}}, \"type\": \"barpolar\"}], \"carpet\": [{\"aaxis\": {\"endlinecolor\": \"#2a3f5f\", \"gridcolor\": \"white\", \"linecolor\": \"white\", \"minorgridcolor\": \"white\", \"startlinecolor\": \"#2a3f5f\"}, \"baxis\": {\"endlinecolor\": \"#2a3f5f\", \"gridcolor\": \"white\", \"linecolor\": \"white\", \"minorgridcolor\": \"white\", \"startlinecolor\": \"#2a3f5f\"}, \"type\": \"carpet\"}], \"choropleth\": [{\"colorbar\": {\"outlinewidth\": 0, \"ticks\": \"\"}, \"type\": \"choropleth\"}], \"contour\": [{\"colorbar\": {\"outlinewidth\": 0, \"ticks\": \"\"}, \"colorscale\": [[0.0, \"#0d0887\"], [0.1111111111111111, \"#46039f\"], [0.2222222222222222, \"#7201a8\"], [0.3333333333333333, \"#9c179e\"], [0.4444444444444444, \"#bd3786\"], [0.5555555555555556, \"#d8576b\"], [0.6666666666666666, \"#ed7953\"], [0.7777777777777778, \"#fb9f3a\"], [0.8888888888888888, \"#fdca26\"], [1.0, \"#f0f921\"]], \"type\": \"contour\"}], \"contourcarpet\": [{\"colorbar\": {\"outlinewidth\": 0, \"ticks\": \"\"}, \"type\": \"contourcarpet\"}], \"heatmap\": [{\"colorbar\": {\"outlinewidth\": 0, \"ticks\": \"\"}, \"colorscale\": [[0.0, \"#0d0887\"], [0.1111111111111111, \"#46039f\"], [0.2222222222222222, \"#7201a8\"], [0.3333333333333333, \"#9c179e\"], [0.4444444444444444, \"#bd3786\"], [0.5555555555555556, \"#d8576b\"], [0.6666666666666666, \"#ed7953\"], [0.7777777777777778, \"#fb9f3a\"], [0.8888888888888888, \"#fdca26\"], [1.0, \"#f0f921\"]], \"type\": \"heatmap\"}], \"heatmapgl\": [{\"colorbar\": {\"outlinewidth\": 0, \"ticks\": \"\"}, \"colorscale\": [[0.0, \"#0d0887\"], [0.1111111111111111, \"#46039f\"], [0.2222222222222222, \"#7201a8\"], [0.3333333333333333, \"#9c179e\"], [0.4444444444444444, \"#bd3786\"], [0.5555555555555556, \"#d8576b\"], [0.6666666666666666, \"#ed7953\"], [0.7777777777777778, \"#fb9f3a\"], [0.8888888888888888, \"#fdca26\"], [1.0, \"#f0f921\"]], \"type\": \"heatmapgl\"}], \"histogram\": [{\"marker\": {\"colorbar\": {\"outlinewidth\": 0, \"ticks\": \"\"}}, \"type\": \"histogram\"}], \"histogram2d\": [{\"colorbar\": {\"outlinewidth\": 0, \"ticks\": \"\"}, \"colorscale\": [[0.0, \"#0d0887\"], [0.1111111111111111, \"#46039f\"], [0.2222222222222222, \"#7201a8\"], [0.3333333333333333, \"#9c179e\"], [0.4444444444444444, \"#bd3786\"], [0.5555555555555556, \"#d8576b\"], [0.6666666666666666, \"#ed7953\"], [0.7777777777777778, \"#fb9f3a\"], [0.8888888888888888, \"#fdca26\"], [1.0, \"#f0f921\"]], \"type\": \"histogram2d\"}], \"histogram2dcontour\": [{\"colorbar\": {\"outlinewidth\": 0, \"ticks\": \"\"}, \"colorscale\": [[0.0, \"#0d0887\"], [0.1111111111111111, \"#46039f\"], [0.2222222222222222, \"#7201a8\"], [0.3333333333333333, \"#9c179e\"], [0.4444444444444444, \"#bd3786\"], [0.5555555555555556, \"#d8576b\"], [0.6666666666666666, \"#ed7953\"], [0.7777777777777778, \"#fb9f3a\"], [0.8888888888888888, \"#fdca26\"], [1.0, \"#f0f921\"]], \"type\": \"histogram2dcontour\"}], \"mesh3d\": [{\"colorbar\": {\"outlinewidth\": 0, \"ticks\": \"\"}, \"type\": \"mesh3d\"}], \"parcoords\": [{\"line\": {\"colorbar\": {\"outlinewidth\": 0, \"ticks\": \"\"}}, \"type\": \"parcoords\"}], \"scatter\": [{\"marker\": {\"colorbar\": {\"outlinewidth\": 0, \"ticks\": \"\"}}, \"type\": \"scatter\"}], \"scatter3d\": [{\"line\": {\"colorbar\": {\"outlinewidth\": 0, \"ticks\": \"\"}}, \"marker\": {\"colorbar\": {\"outlinewidth\": 0, \"ticks\": \"\"}}, \"type\": \"scatter3d\"}], \"scattercarpet\": [{\"marker\": {\"colorbar\": {\"outlinewidth\": 0, \"ticks\": \"\"}}, \"type\": \"scattercarpet\"}], \"scattergeo\": [{\"marker\": {\"colorbar\": {\"outlinewidth\": 0, \"ticks\": \"\"}}, \"type\": \"scattergeo\"}], \"scattergl\": [{\"marker\": {\"colorbar\": {\"outlinewidth\": 0, \"ticks\": \"\"}}, \"type\": \"scattergl\"}], \"scattermapbox\": [{\"marker\": {\"colorbar\": {\"outlinewidth\": 0, \"ticks\": \"\"}}, \"type\": \"scattermapbox\"}], \"scatterpolar\": [{\"marker\": {\"colorbar\": {\"outlinewidth\": 0, \"ticks\": \"\"}}, \"type\": \"scatterpolar\"}], \"scatterpolargl\": [{\"marker\": {\"colorbar\": {\"outlinewidth\": 0, \"ticks\": \"\"}}, \"type\": \"scatterpolargl\"}], \"scatterternary\": [{\"marker\": {\"colorbar\": {\"outlinewidth\": 0, \"ticks\": \"\"}}, \"type\": \"scatterternary\"}], \"surface\": [{\"colorbar\": {\"outlinewidth\": 0, \"ticks\": \"\"}, \"colorscale\": [[0.0, \"#0d0887\"], [0.1111111111111111, \"#46039f\"], [0.2222222222222222, \"#7201a8\"], [0.3333333333333333, \"#9c179e\"], [0.4444444444444444, \"#bd3786\"], [0.5555555555555556, \"#d8576b\"], [0.6666666666666666, \"#ed7953\"], [0.7777777777777778, \"#fb9f3a\"], [0.8888888888888888, \"#fdca26\"], [1.0, \"#f0f921\"]], \"type\": \"surface\"}], \"table\": [{\"cells\": {\"fill\": {\"color\": \"#EBF0F8\"}, \"line\": {\"color\": \"white\"}}, \"header\": {\"fill\": {\"color\": \"#C8D4E3\"}, \"line\": {\"color\": \"white\"}}, \"type\": \"table\"}]}, \"layout\": {\"annotationdefaults\": {\"arrowcolor\": \"#2a3f5f\", \"arrowhead\": 0, \"arrowwidth\": 1}, \"colorscale\": {\"diverging\": [[0, \"#8e0152\"], [0.1, \"#c51b7d\"], [0.2, \"#de77ae\"], [0.3, \"#f1b6da\"], [0.4, \"#fde0ef\"], [0.5, \"#f7f7f7\"], [0.6, \"#e6f5d0\"], [0.7, \"#b8e186\"], [0.8, \"#7fbc41\"], [0.9, \"#4d9221\"], [1, \"#276419\"]], \"sequential\": [[0.0, \"#0d0887\"], [0.1111111111111111, \"#46039f\"], [0.2222222222222222, \"#7201a8\"], [0.3333333333333333, \"#9c179e\"], [0.4444444444444444, \"#bd3786\"], [0.5555555555555556, \"#d8576b\"], [0.6666666666666666, \"#ed7953\"], [0.7777777777777778, \"#fb9f3a\"], [0.8888888888888888, \"#fdca26\"], [1.0, \"#f0f921\"]], \"sequentialminus\": [[0.0, \"#0d0887\"], [0.1111111111111111, \"#46039f\"], [0.2222222222222222, \"#7201a8\"], [0.3333333333333333, \"#9c179e\"], [0.4444444444444444, \"#bd3786\"], [0.5555555555555556, \"#d8576b\"], [0.6666666666666666, \"#ed7953\"], [0.7777777777777778, \"#fb9f3a\"], [0.8888888888888888, \"#fdca26\"], [1.0, \"#f0f921\"]]}, \"colorway\": [\"#636efa\", \"#EF553B\", \"#00cc96\", \"#ab63fa\", \"#FFA15A\", \"#19d3f3\", \"#FF6692\", \"#B6E880\", \"#FF97FF\", \"#FECB52\"], \"font\": {\"color\": \"#2a3f5f\"}, \"geo\": {\"bgcolor\": \"white\", \"lakecolor\": \"white\", \"landcolor\": \"#E5ECF6\", \"showlakes\": true, \"showland\": true, \"subunitcolor\": \"white\"}, \"hoverlabel\": {\"align\": \"left\"}, \"hovermode\": \"closest\", \"mapbox\": {\"style\": \"light\"}, \"paper_bgcolor\": \"white\", \"plot_bgcolor\": \"#E5ECF6\", \"polar\": {\"angularaxis\": {\"gridcolor\": \"white\", \"linecolor\": \"white\", \"ticks\": \"\"}, \"bgcolor\": \"#E5ECF6\", \"radialaxis\": {\"gridcolor\": \"white\", \"linecolor\": \"white\", \"ticks\": \"\"}}, \"scene\": {\"xaxis\": {\"backgroundcolor\": \"#E5ECF6\", \"gridcolor\": \"white\", \"gridwidth\": 2, \"linecolor\": \"white\", \"showbackground\": true, \"ticks\": \"\", \"zerolinecolor\": \"white\"}, \"yaxis\": {\"backgroundcolor\": \"#E5ECF6\", \"gridcolor\": \"white\", \"gridwidth\": 2, \"linecolor\": \"white\", \"showbackground\": true, \"ticks\": \"\", \"zerolinecolor\": \"white\"}, \"zaxis\": {\"backgroundcolor\": \"#E5ECF6\", \"gridcolor\": \"white\", \"gridwidth\": 2, \"linecolor\": \"white\", \"showbackground\": true, \"ticks\": \"\", \"zerolinecolor\": \"white\"}}, \"shapedefaults\": {\"line\": {\"color\": \"#2a3f5f\"}}, \"ternary\": {\"aaxis\": {\"gridcolor\": \"white\", \"linecolor\": \"white\", \"ticks\": \"\"}, \"baxis\": {\"gridcolor\": \"white\", \"linecolor\": \"white\", \"ticks\": \"\"}, \"bgcolor\": \"#E5ECF6\", \"caxis\": {\"gridcolor\": \"white\", \"linecolor\": \"white\", \"ticks\": \"\"}}, \"title\": {\"x\": 0.05}, \"xaxis\": {\"automargin\": true, \"gridcolor\": \"white\", \"linecolor\": \"white\", \"ticks\": \"\", \"zerolinecolor\": \"white\", \"zerolinewidth\": 2}, \"yaxis\": {\"automargin\": true, \"gridcolor\": \"white\", \"linecolor\": \"white\", \"ticks\": \"\", \"zerolinecolor\": \"white\", \"zerolinewidth\": 2}}}, \"xaxis\": {\"anchor\": \"y\", \"domain\": [0.0, 0.98], \"title\": {\"text\": \"USAAreaType_Groups\"}}, \"yaxis\": {\"anchor\": \"x\", \"domain\": [0.0, 1.0], \"title\": {\"text\": \"Percent\"}}},\n",
       "                        {\"responsive\": true}\n",
       "                    ).then(function(){\n",
       "                            \n",
       "var gd = document.getElementById('b02497c4-b429-413b-8299-fee11a57b130');\n",
       "var x = new MutationObserver(function (mutations, observer) {{\n",
       "        var display = window.getComputedStyle(gd).display;\n",
       "        if (!display || display === 'none') {{\n",
       "            console.log([gd, 'removed!']);\n",
       "            Plotly.purge(gd);\n",
       "            observer.disconnect();\n",
       "        }}\n",
       "}});\n",
       "\n",
       "// Listen for the removal of the full notebook cells\n",
       "var notebookContainer = gd.closest('#notebook-container');\n",
       "if (notebookContainer) {{\n",
       "    x.observe(notebookContainer, {childList: true});\n",
       "}}\n",
       "\n",
       "// Listen for the clearing of the current output cell\n",
       "var outputEl = gd.closest('.output');\n",
       "if (outputEl) {{\n",
       "    x.observe(outputEl, {childList: true});\n",
       "}}\n",
       "\n",
       "                        })\n",
       "                };\n",
       "                });\n",
       "            </script>\n",
       "        </div>"
      ]
     },
     "metadata": {},
     "output_type": "display_data"
    }
   ],
   "source": [
    "ShowTwoWayHeatmap(data,'USAAreaType_Groups','Voted', normalize=False)\n",
    "\n",
    "fig=px.histogram(data, x=\"USAAreaType_Groups\",color='Voted',color_discrete_map=color_discrete_map,barnorm='percent')\n",
    "fig.update_layout(barmode='group',yaxis_title=\"Percent\")"
   ]
  },
  {
   "cell_type": "markdown",
   "metadata": {},
   "source": [
    "Insights:\n",
    "\n",
    "This distribution is pretty evenly distributed all things considered. Though suburban is the largest category.\n",
    "\n",
    "One interesting thing here is that it seems that the voting/not voting ratio gets closer to 60/40 the larger the distribution which would coincide with what we know about voting trends nationally."
   ]
  },
  {
   "cell_type": "markdown",
   "metadata": {},
   "source": [
    "# Key Insights"
   ]
  },
  {
   "cell_type": "markdown",
   "metadata": {},
   "source": [
    "<u>Voted Vs Education Groups:</u>\n",
    "\n",
    "Significant correlation between Some College and 4 year college seems to exist, though it also appears that most of the observations are in these two categories so there may be some skew.\n",
    "\n",
    "There is a clear delineation between those who have Some College and above and the likelihood of voting. The same is true for Highschool Grad and below and the likelihood not to vote. However, again there appears to be significantly fewer people in the High School Grad and below category.\n",
    "\n",
    "<u>Voted vs Internet Access:</u>\n",
    "\n",
    "Internet Access via Mobile Phone and Others Home are more likely not to Vote than to Vote. This to me indicates a wealth disparity, most of the rest of the setting would imply having sufficient financing to have things like a home, laptop, or job that allows use of the internet on the clock (Work category).\n",
    "\n",
    "It should also be noted that there are some very low value counts for a number of categories which may skew predictive capability outside of this set of respondents.\n",
    "\n",
    "<u>Voted vs Age Group:</u>\n",
    "\n",
    "Fairly even distributions though the data clearly leans toward mid to late 20s in volume.\n",
    "\n",
    "It seems respondents were more likely to vote as they got old which seems consistent with traditional understanding.\n",
    "\n",
    "<u>Voted vs Language Spoken at Home:</u>\n",
    "\n",
    "We ought to consider removing this category for predictive modeling due to the skew toward english speaking respondents. The vast majority of respondents indicated they speak english and, since p values would indicate that there is a significance between voting and english speaking, this may skew predictive capacity when trying to generalize outside this data set.\n",
    "\n",
    "<u>Voted vs Ethnicity:</u>\n",
    "\n",
    "Another subsection we should consider removing for predictive modeling due to skew. This makes identifying with other very ethnicities have a probability of voting/not voting look significant when it may not be if properly sampled.\n",
    "\n",
    "<u>Voted vs Gender:</u>\n",
    "\n",
    "Evenly distributed, though males slightly more likely to vote than females.\n",
    "\n",
    "<u>Voted vs Area Type:</u>\n",
    "\n",
    "This distribution is pretty evenly distributed all things considered. Though suburban is the largest category.\n",
    "\n",
    "One interesting thing here is that it seems that the voting/not voting ratio gets closer to 60/40 the larger the distribution which would coincide with what we know about voting trends nationally."
   ]
  },
  {
   "cell_type": "code",
   "execution_count": null,
   "metadata": {},
   "outputs": [],
   "source": []
  }
 ],
 "metadata": {
  "kernelspec": {
   "display_name": "Python 3",
   "language": "python",
   "name": "python3"
  },
  "language_info": {
   "codemirror_mode": {
    "name": "ipython",
    "version": 3
   },
   "file_extension": ".py",
   "mimetype": "text/x-python",
   "name": "python",
   "nbconvert_exporter": "python",
   "pygments_lexer": "ipython3",
   "version": "3.7.3"
  }
 },
 "nbformat": 4,
 "nbformat_minor": 2
}

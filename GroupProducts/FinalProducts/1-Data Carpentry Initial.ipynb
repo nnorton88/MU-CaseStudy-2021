{
 "cells": [
  {
   "cell_type": "code",
   "execution_count": null,
   "metadata": {},
   "outputs": [],
   "source": [
    "import pandas as pd\n",
    "import pwd, os\n",
    "\n",
    "# Since the casestudy_data folder is under our own pawprint, this will dynamically get your pawprint name so the paths\n",
    "# referenced below work\n",
    "pprint = pwd.getpwuid(os.getuid()).pw_name\n",
    "\n",
    "# We have a CSV file that translates the study's variable names (Q1, Q2, etc) into easier-to-understand terms\n",
    "# Here we create a mapper dict that holds the translations\n",
    "cnames = pd.read_csv (f'/home/{pprint}/jupyter/casestudy_data/group_3/ColNames.csv')\n",
    "varNames = cnames['Var Name'].to_list()\n",
    "dfNames = cnames['DF Name'].to_list()\n",
    "\n",
    "colNames = dict(zip (varNames, dfNames))"
   ]
  },
  {
   "cell_type": "code",
   "execution_count": null,
   "metadata": {},
   "outputs": [],
   "source": [
    "# Ingest data\n",
    "df = pd.read_table (f'/home/{pprint}/jupyter/casestudy_data/group_3/37023-0003-Data.tsv', engine='python')"
   ]
  },
  {
   "cell_type": "code",
   "execution_count": null,
   "metadata": {},
   "outputs": [],
   "source": [
    "# Rename using mapper dict\n",
    "df=df.rename (mapper=colNames, axis=1)"
   ]
  },
  {
   "cell_type": "code",
   "execution_count": null,
   "metadata": {},
   "outputs": [],
   "source": [
    "# Beginning data carpentry - dropping unused columns\n",
    "\n",
    "data = df.drop(df.loc[:,'serial':'UKPoliticalNewsSourceSocialMedia'].columns, axis=1) #dropping serial, ID, date of week, etc.\n",
    "data = data.drop(data.loc[:,'facebookFriendsCurrentWorkSchool':'facebookNewsOthersLessEngaged'].columns, axis=1) #dropping facebook qs about friends\n",
    "data = data.drop(data.loc[:,'twitterNumFollowed':'twitterFollowedPoliticalNonCelebrities'].columns, axis=1) #dropping twitter qs about followers\n",
    "data = data.drop(data.loc[:,'schoolTeacherEncouragedDiscussion':'importanceVoting'].columns, axis=1) #dropping upbringing qs and importance qs\n",
    "data = data.drop(data.loc[:,'polKnowledgeJohnBoehner':'polKnowledgeJuliaGillardRadioHost'].columns, axis=1) #dropping specific political qs\n",
    "data = data.drop(data.loc[:,'AUSPoliticalParty':'UKPoliticalPartyOther'].columns, axis=1) #dropping AUS and UK political parties\n",
    "data = data.drop(data.loc[:,'AUSAboriginal':'UKOtherEthnicityOther'].columns, axis=1) #dropping AUS and UK demographic\n",
    "data = data.drop(data.loc[:,'AUSEducation':'haveDependentChildren'].columns, axis=1) #dropping AUS and UK education and upbringing qs\n",
    "data = data.drop(data.loc[:,'AUSAreaType':'UKAreaType'].columns, axis=1) #dropping AUS and UK area type\n",
    "data = data.drop(data.loc[:,'Q64':'COMMENTS'].columns, axis=1) #dropping extra end columns\n"
   ]
  },
  {
   "cell_type": "code",
   "execution_count": null,
   "metadata": {},
   "outputs": [],
   "source": [
    "data.info\n",
    "\n",
    "#1228 rows"
   ]
  },
  {
   "cell_type": "code",
   "execution_count": null,
   "metadata": {},
   "outputs": [],
   "source": [
    "data.head()"
   ]
  },
  {
   "cell_type": "code",
   "execution_count": null,
   "metadata": {},
   "outputs": [],
   "source": [
    "import joblib\n",
    "\n",
    "# for dumping \n",
    "joblib.dump([data], 'data.pkl')\n",
    "\n",
    "# for loading\n",
    "data = joblib.load('data.pkl')"
   ]
  }
 ],
 "metadata": {
  "kernelspec": {
   "display_name": "Python 3",
   "language": "python",
   "name": "python3"
  },
  "language_info": {
   "codemirror_mode": {
    "name": "ipython",
    "version": 3
   },
   "file_extension": ".py",
   "mimetype": "text/x-python",
   "name": "python",
   "nbconvert_exporter": "python",
   "pygments_lexer": "ipython3",
   "version": "3.7.3"
  }
 },
 "nbformat": 4,
 "nbformat_minor": 2
}

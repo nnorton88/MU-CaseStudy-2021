{
 "cells": [
  {
   "cell_type": "markdown",
   "metadata": {},
   "source": [
    "# Progressivism and Social Media / Video Game Use and Political Engagement\n",
    "\n",
    "Here we examine the relationships between the levels of progressivism in the respondents and their use of social media and video games.  \"Progressivism\" here is based on responses to six questions about various social issues and the role of government."
   ]
  },
  {
   "cell_type": "markdown",
   "metadata": {},
   "source": [
    "## Table of contents"
   ]
  },
  {
   "cell_type": "markdown",
   "metadata": {},
   "source": [
    "<ol>\n",
    "   <li><a href='#ProgressivismScoresDistributions'>Progressivism Scores - Distributions </a> </li>\n",
    "    <li><a href='#ProgressivismAssumptions'>Investigating Assumptions about Progressivism</a></li>\n",
    "    <li><a href='#SocialMediaVideoGameProgressivism'>Social Media/Video Game Use and Progressivism</a></li>\n",
    "    <li><a href='#Summary'>Summary</a></li>\n",
    "</ol>"
   ]
  },
  {
   "cell_type": "code",
   "execution_count": null,
   "metadata": {},
   "outputs": [],
   "source": [
    "!pip install joblib\n",
    "\n",
    "import pandas as pd\n",
    "import numpy as np\n",
    "import joblib\n",
    "from plotnine import *\n",
    "import joblib\n",
    "\n",
    "import plotly.express as px\n",
    "import matplotlib.pyplot as plt\n",
    "%matplotlib inline"
   ]
  },
  {
   "cell_type": "code",
   "execution_count": null,
   "metadata": {},
   "outputs": [],
   "source": [
    "# Load in the chi2 testing results & preprocessed data\n",
    "results = joblib.load('Chi2Results.pkl')\n",
    "data = joblib.load('GroupedAndUngroupedData.pkl')"
   ]
  },
  {
   "cell_type": "code",
   "execution_count": null,
   "metadata": {},
   "outputs": [],
   "source": [
    "# Small utility function to help create Two Way tables visualized as heatmaps\n",
    "def ShowTwoWayHeatmap (df, row, col, normalize = False, colSort=[], rowSort=[]):\n",
    "    \"\"\"\n",
    "    Little function to help with creation of heatmaps.\n",
    "    @params:\n",
    "        df                  - required - dataframe containing data to be mapped\n",
    "        row                 - required - name of column in df to plot on the rows\n",
    "        col                 - required - name of column in df to plot on the columns\n",
    "        normalize           - optional - specifies whether the table should be normalized along 'index', 'column', 'all' (or True), or neither (False)\n",
    "        rowSort             - optional - list specifying how the values in the rows should be sorted\n",
    "        colSort             - optional - list specifying how the values in the columns should be sorted|\n",
    "    \"\"\"\n",
    "    ctab = pd.crosstab (data[row], data[col], normalize = normalize)\n",
    "    \n",
    "    if rowSort:\n",
    "        ctab = ctab.loc[rowSort]\n",
    "    \n",
    "    if colSort:\n",
    "        ctab = ctab[colSort]\n",
    "    \n",
    "    if normalize:\n",
    "        mult = 100\n",
    "        fmt = '%.2f%%'\n",
    "    else:\n",
    "        mult = 1\n",
    "        fmt = '%.0f'\n",
    "\n",
    "    fig = plt.figure()\n",
    "    fig.set_size_inches(13,6)\n",
    "\n",
    "    heatmap = plt.pcolor(ctab)\n",
    "    for y in range (ctab.shape[0]):\n",
    "        for x in range (ctab.shape[1]):\n",
    "            plt.text (x + 0.5, y + 0.5, fmt % (ctab.iloc[y,x] * mult),\n",
    "                       ha='center', va='center')\n",
    "    plt.yticks(np.arange(len (ctab.index))+0.5, ctab.index)\n",
    "    plt.xticks(np.arange(len (ctab.columns))+0.5, ctab.columns, rotation=90)\n",
    "    plt.colorbar(heatmap)\n",
    "\n",
    "    plt.title(f'{row} vs {col}')\n",
    "    plt.xlabel(col)\n",
    "    plt.ylabel(row)\n",
    "    plt.show()\n"
   ]
  },
  {
   "cell_type": "code",
   "execution_count": null,
   "metadata": {},
   "outputs": [],
   "source": [
    "def ShowGroupedBar(df, x, groupVar, categoryArrayOrder=[]):\n",
    "    \"\"\"\n",
    "    Little function to help with creation of grouped bar charts.\n",
    "    @params:\n",
    "        df                  - required - dataframe containing data to be mapped\n",
    "        x                   - required - name of column in df to plot on the X axis\n",
    "        groupvar            - required - list of columns in df to color / group the bars by \n",
    "        categoryArrayOrder  - optional - ordered list indicating how the X axis should be sorted\n",
    "    \"\"\"\n",
    "    scores = df[[x, *groupVar]].melt(id_vars=x)\n",
    "    scores = scores.groupby([x, 'variable']).sum().reset_index()\n",
    "\n",
    "    p = px.bar (scores, x=x, y='value', color='variable', barmode='group')\n",
    "    p = p.for_each_trace(lambda t: t.update(name=t.name.split('=')[1]))\n",
    "    p = p.for_each_trace(lambda t: t.update(name=t.name.split('_')[0]))\n",
    "    p = p.update_xaxes(type='category', categoryorder='array', categoryarray=categoryArrayOrder)\n",
    "    p.show()"
   ]
  },
  {
   "cell_type": "code",
   "execution_count": null,
   "metadata": {},
   "outputs": [],
   "source": [
    "score_cols = [col for col in data.columns if '_Score' in col and col != 'progressivism_Score']\n",
    "govt_score_cols = [col for col in score_cols if 'govt' in col]"
   ]
  },
  {
   "cell_type": "markdown",
   "metadata": {},
   "source": [
    "\n",
    "## Progressivism Scores - Distributions <a id='ProgressivismScoresDistributions'></a>"
   ]
  },
  {
   "cell_type": "markdown",
   "metadata": {},
   "source": [
    "Overall, we can see that the scores follow a fairly symmetrical distribution.  The most common score is 0, indicating neither conservative or progressive.  However, there is a slight lean towards the conservative side."
   ]
  },
  {
   "cell_type": "code",
   "execution_count": null,
   "metadata": {},
   "outputs": [],
   "source": [
    "p = px.histogram (data, 'progressivism_Score')\n",
    "\n",
    "print (data.progressivism_Score.describe())\n",
    "p.show()\n"
   ]
  },
  {
   "cell_type": "markdown",
   "metadata": {},
   "source": [
    "Checking the distribution of the groups, we confirm that the slightly conservative group is in the majority, followed\n",
    "by the slightly progressive"
   ]
  },
  {
   "cell_type": "code",
   "execution_count": null,
   "metadata": {},
   "outputs": [],
   "source": [
    "px.histogram(data.sort_values('progressivism_Score'), x='progressivism_Groups')"
   ]
  },
  {
   "cell_type": "code",
   "execution_count": null,
   "metadata": {},
   "outputs": [],
   "source": [
    "# Set up a sorting list for our heatmaps\n",
    "progSort = ['Very Conservative', 'Slightly Conservative', 'Neither', 'Slightly Progressive', 'Very Progressive']"
   ]
  },
  {
   "cell_type": "markdown",
   "metadata": {},
   "source": [
    "## Investigating assumptions about Progressivism <a id='ProgressivismAssumptions'></a>\n",
    "\n",
    "### Age"
   ]
  },
  {
   "cell_type": "markdown",
   "metadata": {},
   "source": [
    "One common assumption would be that people would tend to become more conservative as they get older.  The data does appear to support that assumption.  Surprisingly, however, of the younger age groups, only the teens are majority progressive."
   ]
  },
  {
   "cell_type": "code",
   "execution_count": null,
   "metadata": {
    "scrolled": false
   },
   "outputs": [],
   "source": [
    "p = px.histogram(data.sort_values(['progressivism_Score','age']), x='progressivism_Groups', facet_col='age_Groups')\n",
    "p = p.for_each_annotation(lambda a: a.update(text=a.text.split(\"=\")[-1]))\n",
    "p = p.update_xaxes(tickangle=90)\n",
    "p.show()\n"
   ]
  },
  {
   "cell_type": "markdown",
   "metadata": {},
   "source": [
    "Looking at it another way, we can see that the majority score group in each age group except for teens is \"slightly conservative\"   "
   ]
  },
  {
   "cell_type": "code",
   "execution_count": null,
   "metadata": {},
   "outputs": [],
   "source": [
    "ageSort = ['LateTeens', 'Early20s', 'Mid20s', 'Late20s']\n",
    "ShowTwoWayHeatmap(data, 'age_Groups', 'progressivism_Groups', normalize='index', rowSort=ageSort, colSort=progSort)"
   ]
  },
  {
   "cell_type": "markdown",
   "metadata": {},
   "source": [
    "We can also see from our chi squared testing that there appears to be a statistically significant relationship between the age and progressivism groups (p = ~0.02)"
   ]
  },
  {
   "cell_type": "code",
   "execution_count": null,
   "metadata": {},
   "outputs": [],
   "source": [
    "results[(results.Y=='progressivism_Groups') & (results.X=='age_Groups')]"
   ]
  },
  {
   "cell_type": "markdown",
   "metadata": {},
   "source": [
    "The topic of abortion was clearly the most contentious, eliciting the strongest conservative responses."
   ]
  },
  {
   "cell_type": "code",
   "execution_count": null,
   "metadata": {},
   "outputs": [],
   "source": [
    "scores = data[score_cols].melt()\n",
    "p = px.box (scores, x='variable', y='value')\n",
    "p.show()"
   ]
  },
  {
   "cell_type": "markdown",
   "metadata": {},
   "source": [
    "The results by age group closely follow the reuslts for the dataset as a whole (alhtough teens appear to be a bit more progressive with regards to immigration)"
   ]
  },
  {
   "cell_type": "code",
   "execution_count": null,
   "metadata": {
    "scrolled": false
   },
   "outputs": [],
   "source": [
    "for ag in ageSort:\n",
    "    scores = data[(data.age_Groups==ag)][score_cols].melt()\n",
    "    p = px.box (scores, x='variable', y='value', title = f'Progressivism scores by question for {ag}')\n",
    "    p.show()"
   ]
  },
  {
   "cell_type": "markdown",
   "metadata": {},
   "source": [
    "We can see a trend emerge around the question of immigration:  there is a steady movement towards a more conservative stance as the respondents get older."
   ]
  },
  {
   "cell_type": "code",
   "execution_count": null,
   "metadata": {},
   "outputs": [],
   "source": [
    "ShowGroupedBar (data, 'age_Groups', score_cols, ageSort)"
   ]
  },
  {
   "cell_type": "markdown",
   "metadata": {},
   "source": [
    "### Area Type"
   ]
  },
  {
   "cell_type": "markdown",
   "metadata": {},
   "source": [
    "Another common assumption might be that people in rural areas / smaller towns might be more conservative. Surprisingly, respondents in small towns tend to go against that trend. Suburban areas tend to have the highest number of progressives."
   ]
  },
  {
   "cell_type": "code",
   "execution_count": null,
   "metadata": {},
   "outputs": [],
   "source": [
    "data['USAAreaType_Groups'] = pd.Categorical (data['USAAreaType_Groups'], ['Rural', 'SmallTown', 'Suburban', 'City'])\n",
    "\n",
    "p = px.histogram(data.sort_values(['progressivism_Score', 'USAAreaType_Groups']), x='progressivism_Groups', facet_col='USAAreaType_Groups')\n",
    "p = p.for_each_annotation(lambda a: a.update(text=a.text.split(\"=\")[-1]))\n",
    "p = p.update_xaxes(tickangle=90)\n",
    "p.show()\n",
    "\n",
    "print (data.USAAreaType_Groups.value_counts())"
   ]
  },
  {
   "cell_type": "markdown",
   "metadata": {},
   "source": [
    "We can see that the progressivism groups have approximately the same strength of association with area type as with age."
   ]
  },
  {
   "cell_type": "code",
   "execution_count": null,
   "metadata": {},
   "outputs": [],
   "source": [
    "results[(results.Y=='progressivism_Groups') & (results.X=='USAAreaType_Groups')]"
   ]
  },
  {
   "cell_type": "markdown",
   "metadata": {},
   "source": [
    "Looking at it another way, we see that the data does appear to support one assumption:  respondents in rural areas are mostly conservative.  Also as we might expect, the highest concentration of very conservative responses are in the rural and small town areas, while the highest concentration of veyr progressive responses are in suburbs and cities.  However, the slightly conservative group is in the majority in almost all area types (except small towns)."
   ]
  },
  {
   "cell_type": "code",
   "execution_count": null,
   "metadata": {},
   "outputs": [],
   "source": [
    "areaSort = ['Rural', 'SmallTown', 'Suburban', 'City']\n",
    "ShowTwoWayHeatmap (data, 'progressivism_Groups', 'USAAreaType_Groups', normalize='columns', rowSort=progSort, colSort=areaSort)"
   ]
  },
  {
   "cell_type": "code",
   "execution_count": null,
   "metadata": {},
   "outputs": [],
   "source": [
    "USAAreaType_Groups = ['Rural', 'SmallTown', 'Suburban', 'City']\n",
    "for area in USAAreaType_Groups:\n",
    "    scores = data[(data.USAAreaType_Groups==area)][score_cols].melt()\n",
    "    p = px.box (scores, x='variable', y='value', title = f'Progressivism scores by question for {area}')\n",
    "    p.show()"
   ]
  },
  {
   "cell_type": "markdown",
   "metadata": {},
   "source": [
    "Here we can see clearly that the questions that asked about the role of government elicited the most consevative responses, while the others tended more progressive. Only the question about helping vulnerable people elicits a slightly progressive response from respondents in cities."
   ]
  },
  {
   "cell_type": "code",
   "execution_count": null,
   "metadata": {},
   "outputs": [],
   "source": [
    "ShowGroupedBar (data, 'USAAreaType_Groups', score_cols)"
   ]
  },
  {
   "cell_type": "code",
   "execution_count": null,
   "metadata": {},
   "outputs": [],
   "source": [
    "ShowGroupedBar (data, 'USAAreaType_Groups', govt_score_cols)"
   ]
  },
  {
   "cell_type": "markdown",
   "metadata": {},
   "source": [
    "### Political Affiliation"
   ]
  },
  {
   "cell_type": "markdown",
   "metadata": {},
   "source": [
    "We'd also expect to see a strong reltaionship between political party and progressivism in the US, and there does appear to be\n",
    "a strong association between the two."
   ]
  },
  {
   "cell_type": "code",
   "execution_count": null,
   "metadata": {},
   "outputs": [],
   "source": [
    "results[(results.X=='USAPoliticalParty_Groups') & (results.Y=='progressivism_Groups')]"
   ]
  },
  {
   "cell_type": "markdown",
   "metadata": {},
   "source": [
    "As we'd expect, most people who identify as Democrat are slightly progressive, whereas most people who identify as Republican are either slightly or very conservative"
   ]
  },
  {
   "cell_type": "code",
   "execution_count": null,
   "metadata": {},
   "outputs": [],
   "source": [
    "ShowTwoWayHeatmap(data, 'USAPoliticalParty_Groups', 'progressivism_Groups', normalize='index', colSort=progSort)"
   ]
  },
  {
   "cell_type": "markdown",
   "metadata": {},
   "source": [
    "As expected, Republicans tend to hold more conservative views overall, especially regarding the role of government.  However, even Democrats tend slightly conservative when it comes to the question of poor peoples' dependence on the govenrment for help.  Somewhat surprisingly, Democrats even trend conservative on the question of the use of government regulation."
   ]
  },
  {
   "cell_type": "code",
   "execution_count": null,
   "metadata": {},
   "outputs": [],
   "source": [
    "ShowGroupedBar (data, 'USAPoliticalParty_Groups', score_cols)"
   ]
  },
  {
   "cell_type": "code",
   "execution_count": null,
   "metadata": {},
   "outputs": [],
   "source": [
    "ShowGroupedBar (data, 'USAPoliticalParty_Groups', govt_score_cols)"
   ]
  },
  {
   "cell_type": "markdown",
   "metadata": {},
   "source": [
    "# Social Media / Video Game Use and Progressivism <a id='SocialMediaVideoGameProgressivism'></a>"
   ]
  },
  {
   "cell_type": "markdown",
   "metadata": {},
   "source": [
    "### Social Media as a source of news\n",
    "\n",
    "There appears to be a statistically significant association between the use of Social Media as a source for news and progressivism"
   ]
  },
  {
   "cell_type": "code",
   "execution_count": null,
   "metadata": {
    "scrolled": true
   },
   "outputs": [],
   "source": [
    "results[(results.Y=='progressivism_Groups') & (results.X == 'USAPoliticalNewsSourceSocialMedia_Groups')]"
   ]
  },
  {
   "cell_type": "markdown",
   "metadata": {},
   "source": [
    "Those who used Social Media as their source of news were conservative in the majority, whereas those who didn't were progressive in the majority"
   ]
  },
  {
   "cell_type": "code",
   "execution_count": null,
   "metadata": {
    "scrolled": false
   },
   "outputs": [],
   "source": [
    "ShowTwoWayHeatmap (data, 'progressivism_Groups', 'USAPoliticalNewsSourceSocialMedia_Groups', rowSort=progSort, normalize='columns')"
   ]
  },
  {
   "cell_type": "markdown",
   "metadata": {},
   "source": [
    "The responses to the questions seem largely consistent between those who use social media as a source of political news vs those who don't, with one notable exception:  The question regarding the government helping those who are most vulnerable.  That question tends to skew more progressive for those who do use social media in this way."
   ]
  },
  {
   "cell_type": "code",
   "execution_count": null,
   "metadata": {},
   "outputs": [],
   "source": [
    "ShowGroupedBar (data, 'USAPoliticalNewsSourceSocialMedia_Groups', score_cols)"
   ]
  },
  {
   "cell_type": "markdown",
   "metadata": {},
   "source": [
    "Turning to our central questions, we can see the amount of Facebook & Video Game usage both seem to have a statistically significant association to progressivism, but Twitter use does not."
   ]
  },
  {
   "cell_type": "code",
   "execution_count": null,
   "metadata": {
    "scrolled": true
   },
   "outputs": [],
   "source": [
    "results[(results.X.isin(['facebookUseAmount_Groups','facebookDailyRoutine_Groups','twitterUseAmount_Groups','videoGameUseFrequency_Groups'])) & (results.Y=='progressivism_Groups')]"
   ]
  },
  {
   "cell_type": "markdown",
   "metadata": {},
   "source": [
    "### Video Game Use"
   ]
  },
  {
   "cell_type": "markdown",
   "metadata": {},
   "source": [
    "The relationship between these video game use and progressivism is not entirely clear.  Similar to the overall distribution, we can see that slightly conservative tends to be the majority for most frequency types.  The biggest deviation from that trend is in the \"multiple times per day\" group, which has a solid progressive majority."
   ]
  },
  {
   "cell_type": "code",
   "execution_count": null,
   "metadata": {},
   "outputs": [],
   "source": [
    "freqSort = ['Never', '<1PerMonth', '1PerMonth', '2-3PerMonth', '1PerWeek', '2-3PerWeek', 'Daily', 'MultipleTimesPerDay']\n",
    "\n",
    "ShowTwoWayHeatmap(data, 'videoGameUseFrequency_Groups', 'progressivism_Groups', normalize='index', rowSort=freqSort, colSort=progSort)"
   ]
  },
  {
   "cell_type": "markdown",
   "metadata": {},
   "source": [
    "One interesting trend appears around the question of it the govenrment should help vulnerable groups even if it means going into debt:  as video game use increases, it appears that people become more receptive to this idea"
   ]
  },
  {
   "cell_type": "code",
   "execution_count": null,
   "metadata": {},
   "outputs": [],
   "source": [
    "ShowGroupedBar (data, 'videoGameUseFrequency_Groups', score_cols, freqSort)"
   ]
  },
  {
   "cell_type": "code",
   "execution_count": null,
   "metadata": {},
   "outputs": [],
   "source": [
    "ShowGroupedBar (data, 'videoGameUseFrequency_Groups', govt_score_cols, freqSort)"
   ]
  },
  {
   "cell_type": "code",
   "execution_count": null,
   "metadata": {
    "scrolled": false
   },
   "outputs": [],
   "source": [
    "ShowTwoWayHeatmap (data, 'govtHelpVulnerable_Groups', 'videoGameUseFrequency_Groups', colSort=freqSort, normalize='columns')"
   ]
  },
  {
   "cell_type": "markdown",
   "metadata": {},
   "source": [
    "### Video Game Usage - type and activites\n",
    "\n",
    "Here we examine the relationship between progressivism and the types of video games played and the types of activities performed in video games.\n",
    "\n",
    "We can see that there are fairly strong associations with most questions, except for the Single Player and Type of Game most frequently played"
   ]
  },
  {
   "cell_type": "code",
   "execution_count": null,
   "metadata": {},
   "outputs": [],
   "source": [
    "vgCols = ['videoGamePlayingGamer_Groups',\n",
    "          'videoGamePlayingHelpOthers_Groups',\n",
    "          'videoGamePlayingLearnSocietyProblems_Groups',\n",
    "          'videoGamePlayingMoralEthicalIssues_Groups',\n",
    "          'videoGameTypeMultiplayerPVP_Groups',\n",
    "          'videoGameTypeMultiplayerCoop_Groups',\n",
    "          'videoGameTypeSingleplayer_Groups',\n",
    "          'videoGameTypeMostFrequent_Groups']\n",
    "\n",
    "results[(results.Y=='progressivism_Groups') & (results.X.isin(vgCols))].sort_values('p')"
   ]
  },
  {
   "cell_type": "markdown",
   "metadata": {},
   "source": [
    "These questions asked if respondents considered moral/ethical issues, helped others, or learned about society's problems while playing games.  In each case, we an see that those who responded that they did tended to be mostly on the slightly conservative side.  However, those who did not play video games (\"NotMe\") tended towards slightly progressive."
   ]
  },
  {
   "cell_type": "code",
   "execution_count": null,
   "metadata": {},
   "outputs": [],
   "source": [
    "ShowTwoWayHeatmap (data, 'progressivism_Groups', 'videoGamePlayingMoralEthicalIssues_Groups', rowSort=progSort, normalize='columns')\n",
    "ShowTwoWayHeatmap (data, 'progressivism_Groups', 'videoGamePlayingHelpOthers_Groups', rowSort=progSort, normalize='columns')\n",
    "ShowTwoWayHeatmap (data, 'progressivism_Groups', 'videoGamePlayingLearnSocietyProblems_Groups', rowSort=progSort, normalize='columns')"
   ]
  },
  {
   "cell_type": "markdown",
   "metadata": {},
   "source": [
    "Broken out by question, we can see a pattern emerge:  Those who responded that they did perform these activities while playing video games tended to have a much more progressive view on the role of government helping vulnerable people."
   ]
  },
  {
   "cell_type": "code",
   "execution_count": null,
   "metadata": {
    "scrolled": false
   },
   "outputs": [],
   "source": [
    "ShowGroupedBar (data, 'videoGamePlayingMoralEthicalIssues_Groups', score_cols)\n",
    "ShowGroupedBar (data, 'videoGamePlayingHelpOthers_Groups', score_cols)\n",
    "ShowGroupedBar (data, 'videoGamePlayingLearnSocietyProblems_Groups', score_cols)"
   ]
  },
  {
   "cell_type": "markdown",
   "metadata": {},
   "source": [
    "When asked if they played video games where they played against other players, those who responded Yes tended to be more on the conservative side than those who responded no."
   ]
  },
  {
   "cell_type": "code",
   "execution_count": null,
   "metadata": {},
   "outputs": [],
   "source": [
    "ShowTwoWayHeatmap(data, 'progressivism_Groups', 'videoGameTypeMultiplayerPVP_Groups', rowSort=progSort, normalize='columns')"
   ]
  },
  {
   "cell_type": "markdown",
   "metadata": {},
   "source": [
    "We also see that those who responded that they did play these types of games tended to have a slightly more progressive view on the role of government with regards to helping vulnerable people."
   ]
  },
  {
   "cell_type": "code",
   "execution_count": null,
   "metadata": {},
   "outputs": [],
   "source": [
    "ShowGroupedBar (data, 'videoGameTypeMultiplayerPVP_Groups', score_cols)"
   ]
  },
  {
   "cell_type": "markdown",
   "metadata": {},
   "source": [
    "### Facebook usage"
   ]
  },
  {
   "cell_type": "markdown",
   "metadata": {},
   "source": [
    "Regarding Facebook usage: It appears that, similar to the overall distribution, slightly conservative tends to be the majority group. However, at both extremes of usage (> 90 minutes per day in the past week or \"n/a\", which we could interpret as not using Facebook), the balance shifts a bit."
   ]
  },
  {
   "cell_type": "code",
   "execution_count": null,
   "metadata": {},
   "outputs": [],
   "source": [
    "freqSort = ['N/A', 'NotInLastWeek', '<10Minutes', '10-30Minutes','31-60Minutes', '61-90Minutes', '>90Minutes']\n",
    "\n",
    "ShowTwoWayHeatmap (data, 'facebookUseAmount_Groups', 'progressivism_Groups', normalize='index', rowSort=freqSort, colSort=progSort)"
   ]
  },
  {
   "cell_type": "markdown",
   "metadata": {},
   "source": [
    "People across the spectrum of progressivism appear to use Facebook as part of their daily routine.  However, we can see that the majority is much greater at the extreme ends of the spectrum.  That is, a large number of people who identify as very progressive or very conservative use Facebook as part of their daily routine (moreso than people closer to the middle of the spectrum)."
   ]
  },
  {
   "cell_type": "code",
   "execution_count": null,
   "metadata": {},
   "outputs": [],
   "source": [
    "ShowTwoWayHeatmap (data, 'facebookDailyRoutine_Groups', 'progressivism_Groups', colSort=progSort, normalize='columns')"
   ]
  },
  {
   "cell_type": "code",
   "execution_count": null,
   "metadata": {},
   "outputs": [],
   "source": [
    "ShowGroupedBar (data, 'facebookUseAmount_Groups', score_cols, freqSort)"
   ]
  },
  {
   "cell_type": "markdown",
   "metadata": {},
   "source": [
    "It appears that people on the extreme ends of the Facebook use spectrum have a more progressive stance towards the government helping vulnerable people"
   ]
  },
  {
   "cell_type": "code",
   "execution_count": null,
   "metadata": {},
   "outputs": [],
   "source": [
    "ShowGroupedBar (data, 'facebookUseAmount_Groups', govt_score_cols, freqSort)"
   ]
  },
  {
   "cell_type": "code",
   "execution_count": null,
   "metadata": {},
   "outputs": [],
   "source": [
    "ShowGroupedBar (data, 'facebookDailyRoutine_Groups', score_cols)"
   ]
  },
  {
   "cell_type": "markdown",
   "metadata": {},
   "source": [
    "Comparing those who do consider Facebook part of their daily routine vs those who do not:\n",
    "\n",
    "We see that, although the distributions are approximately the same, those who do consider facebook part of their daily routine tend to have scores closer to the ends of the spectrum (2 or -2) for the questions about poor people have dependence on the poor and gay marriage"
   ]
  },
  {
   "cell_type": "code",
   "execution_count": null,
   "metadata": {
    "scrolled": false
   },
   "outputs": [],
   "source": [
    "routines = ['neg', 'pos']\n",
    "\n",
    "for routine in routines:\n",
    "    scores = data[(data.facebookDailyRoutine_Groups==routine)][score_cols].melt()\n",
    "    p = px.box (scores, x='variable', y='value', title = f'Progressivism scores by question for {routine}')\n",
    "    p.show()"
   ]
  },
  {
   "cell_type": "markdown",
   "metadata": {},
   "source": [
    "### Facebook usage - politically-focused activities"
   ]
  },
  {
   "cell_type": "markdown",
   "metadata": {},
   "source": [
    "There is a statistically significant association between progressivism and using Facebook for various politically-focused activities"
   ]
  },
  {
   "cell_type": "code",
   "execution_count": null,
   "metadata": {
    "scrolled": true
   },
   "outputs": [],
   "source": [
    "results[(results.Y=='progressivism_Groups') & (results.X.isin(['facebookPostPoliticalLinks_Groups','facebookEncouragePoliticalAction_Groups','facebookEncourageVote_Groups' ]))]"
   ]
  },
  {
   "cell_type": "markdown",
   "metadata": {},
   "source": [
    "In each case, we can see that those who responded that they used Facebook for various political activities tended to be on the conservative side."
   ]
  },
  {
   "cell_type": "code",
   "execution_count": null,
   "metadata": {},
   "outputs": [],
   "source": [
    "ShowTwoWayHeatmap (data, 'progressivism_Groups', 'facebookEncouragePoliticalAction_Groups', rowSort=progSort, normalize='columns')"
   ]
  },
  {
   "cell_type": "code",
   "execution_count": null,
   "metadata": {},
   "outputs": [],
   "source": [
    "ShowTwoWayHeatmap (data, 'progressivism_Groups', 'facebookEncourageVote_Groups', rowSort=progSort, normalize='columns')"
   ]
  },
  {
   "cell_type": "code",
   "execution_count": null,
   "metadata": {
    "scrolled": true
   },
   "outputs": [],
   "source": [
    "ShowTwoWayHeatmap (data, 'progressivism_Groups', 'facebookPostPoliticalLinks_Groups', rowSort=progSort, normalize='columns')"
   ]
  },
  {
   "cell_type": "markdown",
   "metadata": {},
   "source": [
    "We see a similar trend for each activity:  those who reported using Facebook for the specified activity tended to have more progressive views on the government helping vulnerable people.  Responses to the other questions otherwise seemed similar."
   ]
  },
  {
   "cell_type": "code",
   "execution_count": null,
   "metadata": {},
   "outputs": [],
   "source": [
    "ShowGroupedBar (data, 'facebookEncouragePoliticalAction_Groups', score_cols)"
   ]
  },
  {
   "cell_type": "code",
   "execution_count": null,
   "metadata": {},
   "outputs": [],
   "source": [
    "ShowGroupedBar (data, 'facebookEncourageVote_Groups', score_cols)"
   ]
  },
  {
   "cell_type": "code",
   "execution_count": null,
   "metadata": {},
   "outputs": [],
   "source": [
    "ShowGroupedBar (data, 'facebookPostPoliticalLinks_Groups', score_cols)"
   ]
  },
  {
   "cell_type": "code",
   "execution_count": null,
   "metadata": {},
   "outputs": [],
   "source": [
    "twitterPolCols = ['twitterUseReadNewsPolitics_Groups', 'twitterUseShareNewsPolitics_Groups', 'twitterUseDiscussNewsPolitics_Groups']"
   ]
  },
  {
   "cell_type": "markdown",
   "metadata": {},
   "source": [
    "### Twitter Usage - politically-focused activities\n",
    "\n",
    "Although the frequency of Twitter usage did not have a strong association with progressivism, the various politically-focused activities seem to."
   ]
  },
  {
   "cell_type": "code",
   "execution_count": null,
   "metadata": {},
   "outputs": [],
   "source": [
    "results[(results.Y=='progressivism_Groups')& (results.X.isin(twitterPolCols))]"
   ]
  },
  {
   "cell_type": "markdown",
   "metadata": {},
   "source": [
    "Similar to Facebook, those who used Twitter for political activities tended to be on the conservative side."
   ]
  },
  {
   "cell_type": "code",
   "execution_count": null,
   "metadata": {},
   "outputs": [],
   "source": [
    "for col in twitterPolCols:\n",
    "    ShowTwoWayHeatmap (data, 'progressivism_Groups', col, rowSort=progSort, normalize='columns')"
   ]
  },
  {
   "cell_type": "markdown",
   "metadata": {},
   "source": [
    "We see a similar trend here as with Facebook usage; those who reported using Twitter for the specified activity tended to have more progressive views on the government helping vulnerable people.  Responses to the other questions otherwise seemed similar."
   ]
  },
  {
   "cell_type": "code",
   "execution_count": null,
   "metadata": {},
   "outputs": [],
   "source": [
    "for col in twitterPolCols:\n",
    "    ShowGroupedBar (data, col, score_cols)"
   ]
  },
  {
   "cell_type": "code",
   "execution_count": null,
   "metadata": {},
   "outputs": [],
   "source": [
    "ShowTwoWayHeatmap (data, 'progressivism_Groups', 'USAPoliticalNewsSourceSocialMedia_Groups', rowSort=progSort, normalize='columns')"
   ]
  },
  {
   "cell_type": "code",
   "execution_count": null,
   "metadata": {
    "scrolled": true
   },
   "outputs": [],
   "source": [
    "ShowGroupedBar (data, 'USAPoliticalNewsSourceSocialMedia_Groups', score_cols)"
   ]
  },
  {
   "cell_type": "markdown",
   "metadata": {},
   "source": [
    "## Summary <a id='Summary'></a>\n",
    "\n",
    "1) In general, people were hesitant to strongly agree or disagree with any particular opinion.  Most responses ranged between\n",
    "   agree, neutral and disagree.  There was overall a slight skew towards conservative. \n",
    "   \n",
    "2) The topics that seemed to elicit the most conservative responses had to do with the role of government, especially around\n",
    "   the use of government regulations and providing services to the poor.  Meanwhile, most respondents seemed to be generally in    favor of legalizing gay marriage.  Opinions on abortion were very polarized.\n",
    "   \n",
    "3) In general, those who used social media as a source of political news or for political activities tended to be\n",
    "   conservative than those who did not. \n",
    "\n",
    "4) Similarly, those who played video games and used social media for political activities tended to be more conservative than \n",
    "   those who did not.  However, the question regarding the role of government in helping vulnerable people often bucked that \n",
    "   trend."
   ]
  }
 ],
 "metadata": {
  "kernelspec": {
   "display_name": "Python 3",
   "language": "python",
   "name": "python3"
  },
  "language_info": {
   "codemirror_mode": {
    "name": "ipython",
    "version": 3
   },
   "file_extension": ".py",
   "mimetype": "text/x-python",
   "name": "python",
   "nbconvert_exporter": "python",
   "pygments_lexer": "ipython3",
   "version": "3.7.3"
  }
 },
 "nbformat": 4,
 "nbformat_minor": 2
}

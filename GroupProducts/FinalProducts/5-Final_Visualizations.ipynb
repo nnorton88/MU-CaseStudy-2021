{
 "cells": [
  {
   "cell_type": "markdown",
   "metadata": {},
   "source": [
    "# Final Visualizations"
   ]
  },
  {
   "cell_type": "markdown",
   "metadata": {},
   "source": [
    "Import Tools"
   ]
  },
  {
   "cell_type": "code",
   "execution_count": null,
   "metadata": {},
   "outputs": [],
   "source": [
    "!pip install joblib\n",
    "\n",
    "import pandas as pd\n",
    "import numpy as np\n",
    "import joblib\n",
    "from scipy.stats import chi2_contingency\n",
    "from time import time\n",
    "import plotly\n",
    "import plotly.express as px\n",
    "import plotly.graph_objects as go\n",
    "from plotly.subplots import make_subplots\n",
    "import ipywidgets as ipw\n",
    "from ipywidgets import HBox, VBox,Label\n",
    "import matplotlib.pyplot as plt\n",
    "%matplotlib inline"
   ]
  },
  {
   "cell_type": "markdown",
   "metadata": {},
   "source": [
    "Load data set"
   ]
  },
  {
   "cell_type": "code",
   "execution_count": null,
   "metadata": {},
   "outputs": [],
   "source": [
    "data = joblib.load ('GroupedAndUngroupedData.pkl')"
   ]
  },
  {
   "cell_type": "markdown",
   "metadata": {},
   "source": [
    "Function for generating Heat Maps:"
   ]
  },
  {
   "cell_type": "code",
   "execution_count": null,
   "metadata": {},
   "outputs": [],
   "source": [
    "def ShowTwoWayHeatmap (df, row, col, normalize = False, colSort=[], rowSort=[], title=None, xlabel=None, ylabel=None):\n",
    "    \"\"\"\n",
    "    Little function to help with creation of heatmaps.\n",
    "    @params:\n",
    "        df                  - required - dataframe containing data to be mapped\n",
    "        row                 - required - name of column in df to plot on the rows\n",
    "        col                 - required - name of column in df to plot on the columns\n",
    "        normalize           - optional - specifies whether the table should be normalized along 'index', 'column', 'all' (or True), or neither (False)\n",
    "        rowSort             - optional - list specifying how the values in the rows should be sorted\n",
    "        colSort             - optional - list specifying how the values in the columns should be sorted\n",
    "        title               - optional - title for graph\n",
    "        xlabel              - optional - label for x axis\n",
    "        ylabel              - optional - label for y label\n",
    "    \"\"\"\n",
    "    ctab = pd.crosstab (data[row], data[col], normalize = normalize)\n",
    "    if rowSort:\n",
    "        ctab = ctab.loc[rowSort]\n",
    "    if colSort:\n",
    "        ctab = ctab[colSort]\n",
    "    if normalize:\n",
    "        mult = 100\n",
    "        fmt = '%.2f%%'\n",
    "    else:\n",
    "        mult = 1\n",
    "        fmt = '%.0f'\n",
    "    fig = plt.figure()\n",
    "    fig.set_size_inches(13,6)\n",
    "    heatmap = plt.pcolor(ctab)\n",
    "    for y in range (ctab.shape[0]):\n",
    "        for x in range (ctab.shape[1]):\n",
    "            plt.text (x + 0.5, y + 0.5, fmt % (ctab.iloc[y,x] * mult),\n",
    "                       ha='center', va='center')\n",
    "    plt.yticks(np.arange(len (ctab.index))+0.5, ctab.index)\n",
    "    plt.xticks(np.arange(len (ctab.columns))+0.5, ctab.columns, rotation=90)\n",
    "#     plt.colorbar(heatmap, ticks=[0, 0.5, 1]).ax.set_yticklabels(['0', '50%', '100%'])\n",
    "    if not(title):\n",
    "        title = f'{row} vs {col}'\n",
    "    plt.suptitle(title, fontsize=20, fontweight='bold')\n",
    "    if normalize:\n",
    "        if (normalize == 'columns') or (normalize == 'index'):\n",
    "            subtitle = f'Normalized along {normalize}'\n",
    "        else:\n",
    "            subtitle = 'Normalized'\n",
    "        plt.title(subtitle, fontsize=12, horizontalalignment='center')\n",
    "    if not(xlabel):\n",
    "        xlabel = col\n",
    "    plt.xlabel(xlabel, fontsize=14)\n",
    "    if not (ylabel):\n",
    "        ylabel = row\n",
    "    plt.ylabel(ylabel, fontsize=14)\n",
    "    return fig"
   ]
  },
  {
   "cell_type": "code",
   "execution_count": null,
   "metadata": {},
   "outputs": [],
   "source": [
    "def theme (p):\n",
    "    \"\"\"\n",
    "    Small function to apply common theming options to plotly graphs\n",
    "    Removes grids and applies a white background\n",
    "    @params:\n",
    "        p                  - required - plotly graph object\n",
    "    \"\"\"\n",
    "    p = p.update_xaxes(showgrid=False,title=None)\n",
    "    p = p.update_yaxes(showgrid=False,title=None)\n",
    "    p = p.update_layout(plot_bgcolor='rgba(0,0,0,0)')\n",
    "    return p"
   ]
  },
  {
   "cell_type": "markdown",
   "metadata": {},
   "source": [
    "# Demographics"
   ]
  },
  {
   "cell_type": "markdown",
   "metadata": {},
   "source": [
    "### Age Groups by Gender"
   ]
  },
  {
   "cell_type": "code",
   "execution_count": null,
   "metadata": {},
   "outputs": [],
   "source": [
    "x = 'gender_Groups'\n",
    "groupVar = 'age_Groups'\n",
    "\n",
    "# First reshape the data so it's in the right format to graph\n",
    "grouped = data[[x, groupVar]].melt(id_vars=x)\n",
    "grouped = grouped.groupby([x, 'value']).count()\n",
    "genderTotals = grouped.groupby('gender_Groups').sum()\n",
    "grouped['PctOfTotal'] = round (grouped.div(genderTotals, level='gender_Groups') * 100,2)\n",
    "grouped['PctOfTotal'] = grouped.PctOfTotal.astype(str) + '%'\n",
    "grouped = grouped.reset_index()\n",
    "grouped.rename({'value':'age_Groups', 'variable':'Count'}, axis=1, inplace=True)\n",
    "grouped['age_Groups'] = pd.Categorical(grouped['age_Groups'], ['LateTeens', 'Early20s', 'Mid20s', 'Late20s'])\n",
    "grouped = grouped.sort_values(['age_Groups','Count'])\n",
    "\n",
    "# Stacked bar chart showing age group distribution by gender\n",
    "p = px.bar (grouped, x='gender_Groups', y='Count', color=groupVar, orientation='v', text='PctOfTotal',\n",
    "            title='Age Distribution by Gender', width=600, height=500)\n",
    "p.for_each_trace(lambda t: t.update(name=t.name.split('=')[1]))\n",
    "p.update_traces(textposition='inside', textfont=dict(size=14))\n",
    "p.update_yaxes(showticklabels=False)\n",
    "p.update_layout (title_font_size=20)\n",
    "p.update_xaxes(tickfont=dict(size=20))\n",
    "theme(p)\n",
    "p.show()"
   ]
  },
  {
   "cell_type": "markdown",
   "metadata": {},
   "source": [
    "### Voted"
   ]
  },
  {
   "cell_type": "code",
   "execution_count": null,
   "metadata": {},
   "outputs": [],
   "source": [
    "# Reshape data \n",
    "voted = data[['Voted','age']].groupby('Voted').count().reset_index()\n",
    "voted.rename({'age':'Count'},axis=1,inplace=True)\n",
    "voted['Voted'] = voted['Voted'].map({0:'No',1:'Yes'})\n",
    "\n",
    "# Create pie chart\n",
    "fig = plt.figure()\n",
    "ax = fig.add_axes([2, 2, 2, 2])\n",
    "patches, texts, autotexts = ax.pie (voted['Count'], labels=voted['Voted'],autopct='%1.1f%%')\n",
    "for i in range(0, len(texts)):\n",
    "    texts[i].set_fontsize(20)\n",
    "    autotexts[i].set_fontsize(20)\n",
    "plt.title('Did you vote in the past year?',fontsize=20)\n",
    "plt.show()"
   ]
  },
  {
   "cell_type": "markdown",
   "metadata": {},
   "source": [
    "### Ethnicity"
   ]
  },
  {
   "cell_type": "code",
   "execution_count": null,
   "metadata": {},
   "outputs": [],
   "source": [
    "# Group the three least common ehtnicities together under \"Other\" to avoid excessive labels\n",
    "data['ethnicity_Groups_Cleaned'] = data.ethnicity_Groups.apply(lambda x: 'Other' if (x=='Latino') or (x=='MiddleEastern') or (x=='OtherEthnicity') else x)\n",
    "\n",
    "# Reshape data\n",
    "grouped = pd.DataFrame(data.ethnicity_Groups_Cleaned.value_counts()).reset_index().sort_values('index')\n",
    "grouped.rename({'index':'ethnicity_Groups_Cleaned', 'ethnicity_Groups_Cleaned':'Count'},axis=1,inplace=True)\n",
    "\n",
    "# Create pie chart\n",
    "fig = plt.figure()\n",
    "fig.set_size_inches (4,4)\n",
    "ax = fig.add_axes([2, 2, 2, 2])\n",
    "patches, texts, autotexts = ax.pie (grouped['Count'], labels=grouped['ethnicity_Groups_Cleaned'],autopct='%1.1f%%')\n",
    "for i in range(0, len(texts)):\n",
    "    texts[i].set_fontsize(20)\n",
    "    autotexts[i].set_fontsize(17)\n",
    "plt.title('Ethnicity Distribution',fontsize=25)\n",
    "plt.show()"
   ]
  },
  {
   "cell_type": "markdown",
   "metadata": {},
   "source": [
    "### Area Type"
   ]
  },
  {
   "cell_type": "code",
   "execution_count": null,
   "metadata": {},
   "outputs": [],
   "source": [
    "# Reshape data\n",
    "x = 'USAAreaType_Groups'\n",
    "grouped = data[[x]].melt()\n",
    "grouped = grouped.groupby('value').count()\n",
    "grouped.rename({'variable':'Count'},axis=1,inplace=True)\n",
    "grouped['PctOfTotal'] = round (grouped.Count / grouped.Count.sum() * 100, 2)\n",
    "grouped['PctOfTotal'] = grouped['PctOfTotal'].astype(str) + '%'\n",
    "grouped = grouped.reset_index()\n",
    "\n",
    "# Create bar chart\n",
    "p = px.bar (grouped, x='value', y='Count', text='PctOfTotal', title='Distribution by Area Type',width=600, height=500)\n",
    "p.update_traces(textposition='outside', textfont=dict(size=14))\n",
    "p.update_xaxes (type='category', categoryorder='total ascending', tickfont=dict(size=20))\n",
    "p.update_yaxes (showticklabels=False)\n",
    "p.update_layout (title_font_size=20)\n",
    "p = theme(p)\n",
    "p.show()"
   ]
  },
  {
   "cell_type": "markdown",
   "metadata": {},
   "source": [
    "### Education Levels"
   ]
  },
  {
   "cell_type": "code",
   "execution_count": null,
   "metadata": {},
   "outputs": [],
   "source": [
    "x = 'USAEducation_Groups'\n",
    "# Logical sort order\n",
    "categoryArrayOrder = ['IDK', 'Other', 'NotHighSchoolGrad', 'InHighSchool', 'HighSchoolGrad', 'SomeCollege', '2YearCollege',\n",
    "                      '4YearCollege', 'Masters', 'Professional(JD/MD)', 'Doctoral']\n",
    "\n",
    "# Reshape data\n",
    "grouped = data[[x]].melt()\n",
    "grouped = grouped.groupby('value').count()\n",
    "grouped.rename({'variable':'Count'},axis=1,inplace=True)\n",
    "grouped['PctOfTotal'] = round (grouped.Count / grouped.Count.sum() * 100, 2)\n",
    "grouped['PctOfTotal'] = grouped['PctOfTotal'].astype(str) + '%'\n",
    "grouped = grouped.reset_index()\n",
    "\n",
    "# Create bar chart\n",
    "p = px.bar (grouped, x='value', y='Count', text='PctOfTotal', title='Education Level')\n",
    "p.update_traces(textposition='outside', textfont=dict(size=14))\n",
    "p.update_xaxes(type='category', categoryorder='array', categoryarray=categoryArrayOrder,tickfont=dict(size=15))\n",
    "p.update_yaxes(showticklabels=False)\n",
    "p.update_layout (title_font_size=20)\n",
    "theme(p)\n",
    "p.show()"
   ]
  },
  {
   "cell_type": "markdown",
   "metadata": {},
   "source": [
    "### Political Party"
   ]
  },
  {
   "cell_type": "code",
   "execution_count": null,
   "metadata": {},
   "outputs": [],
   "source": [
    "# Clean up the labels and gorup \"None\" and \"IDK\" under \"N/A\"\n",
    "data['USAPoliticalParty_Clean'] = data.USAPoliticalParty_Groups.map({'Dem':'Democrat','Rep':'Republican', 'Ind':'Independent', \n",
    "                                                                     'None':'N/A', 'IDK':'N/A', 'SomethingElse':'Other'})\n",
    "\n",
    "# Reshape the data\n",
    "grouped = pd.DataFrame(data.USAPoliticalParty_Clean.value_counts()).reset_index()\n",
    "grouped.rename ({'index':'Party', 'USAPoliticalParty_Clean':'Count'},axis=1, inplace=True)\n",
    "grouped['PctOfTotal'] = round (grouped.Count / grouped.Count.sum() * 100, 2)\n",
    "grouped['PctOfTotal'] = grouped['PctOfTotal'].astype(str) + '%'\n",
    "grouped['PctText'] = grouped['Party'] + ' - ' + grouped['PctOfTotal']\n",
    "\n",
    "# Create stacked bar chart\n",
    "p = px.bar(grouped, y='Count',color='Party', text='PctText', barmode='stack', title='Party Affiliation',\n",
    "       color_discrete_map={\n",
    "           'Democrat':'blue',  # Specify the traditional colors for Democrat and Republican (blue & red)\n",
    "           'Republican':'red',\n",
    "           'Independent':'#2CA02C'  \n",
    "       })\n",
    "p.for_each_trace(lambda t: t.update(name=t.name.split('=')[1]))\n",
    "p.update_traces(textfont=dict(size=18),textposition='auto', insidetextanchor='middle')\n",
    "p.update_xaxes(showticklabels=False)\n",
    "p.update_yaxes(showticklabels=False)\n",
    "p.update_layout(showlegend=False,title_font_size=20)\n",
    "p.update_layout(\n",
    "    title={\n",
    "        'text': \"Party Affiliation\",\n",
    "        'y':0.9,\n",
    "        'x':0.5,\n",
    "        'xanchor': 'center',\n",
    "        'yanchor': 'top'})\n",
    "theme(p)\n",
    "p.show()"
   ]
  },
  {
   "cell_type": "markdown",
   "metadata": {},
   "source": [
    "# Univariate Analysis: Social Media & Video Game Usage"
   ]
  },
  {
   "cell_type": "markdown",
   "metadata": {},
   "source": [
    "### Social Media Usage - Frequency by platform"
   ]
  },
  {
   "cell_type": "code",
   "execution_count": null,
   "metadata": {},
   "outputs": [],
   "source": [
    "socialMediaCols = ['socialMediaUseFacebook_Groups', 'socialMediaUseTwitter_Groups','socialMediaUseLinkedIn_Groups',\n",
    "                   'socialMediaUseYouTube_Groups','socialMediaUseInstagram_Groups','socialMediaUsePinterest_Groups',\n",
    "                   'socialMediaUseMyspace_Groups','socialMediaUseGooglePlus_Groups','socialMediaUseFoursquare_Groups',\n",
    "                   'socialMediaUseReddit_Groups']\n",
    "\n",
    "# Logical sort order\n",
    "frequencyOrder = ['Never','Daily','MultipleTimesPerDay']\n",
    "\n",
    "# Reshape data\n",
    "grouped = data[socialMediaCols].melt().reset_index().groupby(['variable','value']).count().reset_index()\n",
    "grouped.rename({'variable':'Social Media Platform','value':'Frequency','index':'Count'},inplace=True,axis=1)\n",
    "grouped['Social Media Platform'] = grouped['Social Media Platform'].str.replace('socialMediaUse','')\n",
    "grouped['Social Media Platform'] = grouped['Social Media Platform'].str.replace('_Groups','')\n",
    "grouped = grouped[(grouped.Frequency=='Never') | (grouped.Frequency=='MultipleTimesPerDay') | (grouped.Frequency=='Daily')]\n",
    "\n",
    "# Create grouped bar chart\n",
    "p = px.bar(grouped, x='Frequency',color='Social Media Platform', y='Count',barmode='group',text='Count')\n",
    "p.update_traces(textposition='outside', textfont=dict(size=18))\n",
    "p.for_each_trace(lambda t: t.update(name=t.name.split('=')[1]))\n",
    "p.update_yaxes(showticklabels=False)\n",
    "p.update_xaxes(type='category',categoryorder='array',categoryarray=frequencyOrder)\n",
    "p.update_layout(title_font_size=20,\n",
    "    title={\n",
    "        'text': \"Social Media Usage - Least and Most Frequent\",\n",
    "        'y':0.9,\n",
    "        'x':0.5,\n",
    "        'xanchor': 'center',\n",
    "        'yanchor': 'top'})\n",
    "theme(p)\n",
    "# Remove the text from everything other than the first two markers (Facebook & FourSquare), which are also the most & least\n",
    "# used, to highlight them.\n",
    "for i in range (2, len(p.data)):\n",
    "    p.data[i]['text'] = None\n",
    "    \n",
    "p.show()"
   ]
  },
  {
   "cell_type": "markdown",
   "metadata": {},
   "source": [
    "### Social Media Usage - News Source"
   ]
  },
  {
   "cell_type": "code",
   "execution_count": null,
   "metadata": {},
   "outputs": [],
   "source": [
    "newsSourceCols = {'USAPoliticalNewsCableTV_Groups': 'Cable TV',\n",
    " 'USAPoliticalNewsSourceRadio_Groups': 'Radio',\n",
    " 'USAPoliticalNewsSourceDailyNewspapers_Groups': 'Newspapers',\n",
    " 'USAPoliticalNewsSourceWeeklyMagazines_Groups': 'Magazines',\n",
    " 'USAPoliticalNewsSourceNetworkTV_Groups': 'Network TV',\n",
    " 'USAPoliticalNewsSourceLocalTV_Groups': 'Local TV',\n",
    " 'USAPoliticalNewsSourceLateNightTV_Groups': 'Late Night TV',\n",
    " 'USAPoliticalNewsSourceComedyTV_Groups': 'Comedy TV',\n",
    " 'USAPoliticalNewsSourceSocialMedia_Groups': 'Social Media'}\n",
    "\n",
    "# Reshape data\n",
    "grouped = data[newsSourceCols.keys()].melt()\n",
    "grouped.variable = grouped.variable.map(newsSourceCols)\n",
    "grouped = grouped.reset_index().groupby(['variable','value']).count().reset_index()\n",
    "grouped = grouped[grouped.value=='pos']\n",
    "# Make social media a different color to highlight it\n",
    "grouped['color'] = grouped.variable.apply(lambda x: '1' if x != 'Social Media' else '2')\n",
    "\n",
    "# Create bar chart\n",
    "p = px.bar (grouped, x='variable',y='index', text='index', color = 'color')\n",
    "p.update_xaxes (type='category', categoryorder='total ascending', title = 'Source for Political News')\n",
    "p.update_yaxes (showticklabels=False)\n",
    "p.update_traces (textposition='outside', showlegend=False)\n",
    "p.update_layout(title_font_size=25,showlegend=False,\n",
    "    title={\n",
    "        'text': \"Source for Political News\",\n",
    "        'y':.95,\n",
    "        'x':0.45,\n",
    "        'xanchor': 'center',\n",
    "        'yanchor': 'top'})\n",
    "theme(p)\n",
    "p.show()"
   ]
  },
  {
   "cell_type": "markdown",
   "metadata": {},
   "source": [
    "### Video Game Usage - Frequency"
   ]
  },
  {
   "cell_type": "code",
   "execution_count": null,
   "metadata": {},
   "outputs": [],
   "source": [
    "col = 'videoGameUseFrequency_Groups'\n",
    "freqSort = ['Never', '<1PerMonth','1PerMonth','2-3PerMonth','1PerWeek','2-3PerWeek','Daily','MultipleTimesPerDay']\n",
    "grouped = data[[col]].melt().groupby(['value']).count().reset_index()\n",
    "grouped.rename({'value':'Frequency', 'variable':'Count'},axis=1,inplace=True)\n",
    "\n",
    "p = px.bar(grouped, x='Frequency', y='Count', text='Count')\n",
    "p.update_xaxes(type='category',categoryorder='array',categoryarray=freqSort)\n",
    "p.update_yaxes(showticklabels=False)\n",
    "p.update_traces(textposition='outside')\n",
    "theme(p)\n",
    "p.show()"
   ]
  },
  {
   "cell_type": "markdown",
   "metadata": {},
   "source": [
    "# Bivariate Analysis: Voted Visualizations "
   ]
  },
  {
   "cell_type": "markdown",
   "metadata": {},
   "source": [
    "Figure 1: Video Game Use Frequency vs Voted"
   ]
  },
  {
   "cell_type": "code",
   "execution_count": null,
   "metadata": {},
   "outputs": [],
   "source": [
    "ShowTwoWayHeatmap(data,'videoGameUseFrequency_Groups','Voted', normalize='index',\n",
    "                  rowSort=[\"Never\", \"<1PerMonth\", \"1PerMonth\",\"2-3PerMonth\",\"1PerWeek\",\"2-3PerWeek\",\"Daily\",\"MultipleTimesPerDay\"],\n",
    "                  title='Video Game Use Frequency vs Voted',\n",
    "                 ylabel='Video Game Use Frequency')"
   ]
  },
  {
   "cell_type": "markdown",
   "metadata": {},
   "source": [
    "Figure 2: Learning About Ethical Issues in Video Games vs Voted"
   ]
  },
  {
   "cell_type": "code",
   "execution_count": null,
   "metadata": {},
   "outputs": [],
   "source": [
    "ShowTwoWayHeatmap(data,'videoGamePlayingMoralEthicalIssues_Groups','Voted', normalize='index',\n",
    "                 title='Learning About Ethical Issues in Video Games vs Voted',\n",
    "                 ylabel='Learning About Ethical Issues in Video Games')\n"
   ]
  },
  {
   "cell_type": "markdown",
   "metadata": {},
   "source": [
    "Figure 3: Facebook Use Frequency vs Voted"
   ]
  },
  {
   "cell_type": "code",
   "execution_count": null,
   "metadata": {},
   "outputs": [],
   "source": [
    "ShowTwoWayHeatmap(data,'socialMediaUseFacebook_Groups','Voted', normalize='index',\n",
    "                  rowSort=[\"Never\", \"<1PerMonth\", \"1PerMonth\",\"2-3PerMonth\",\"1PerWeek\",\"2-3PerWeek\",\"Daily\",\"MultipleTimesPerDay\"],\n",
    "                  title='Facebook Use Frequency vs Voted',\n",
    "                 ylabel='Facebook Use Frequency')"
   ]
  },
  {
   "cell_type": "markdown",
   "metadata": {},
   "source": [
    "# Bivariate Analysis: Political Party Visualizations "
   ]
  },
  {
   "cell_type": "markdown",
   "metadata": {},
   "source": [
    "### Political Party by Ethnicity"
   ]
  },
  {
   "cell_type": "code",
   "execution_count": null,
   "metadata": {},
   "outputs": [],
   "source": [
    "color_discrete_map={\"Rep\": \"#EF553B\",\"Ind\": \"#00CC96\",\"Dem\": \"#636EFA\",}"
   ]
  },
  {
   "cell_type": "code",
   "execution_count": null,
   "metadata": {},
   "outputs": [],
   "source": [
    "partyClean = {'Dem':'Democrat',\n",
    "              'IDK':'Don''t Know',\n",
    "              'Ind':'Independent',\n",
    "              'None': 'None',\n",
    "              'Rep': 'Republican',\n",
    "              'SomethingElse': 'Other'}\n",
    "\n",
    "grouped = data[data.USAWhite==1][['USAPoliticalParty_Groups']]\n",
    "grouped = grouped.reset_index().groupby('USAPoliticalParty_Groups').count()\n",
    "grouped.rename ({'index':'Count'},axis=1,inplace=True)\n",
    "grouped = grouped.reset_index()\n",
    "grouped.USAPoliticalParty_Groups = grouped.USAPoliticalParty_Groups.map (partyClean)\n",
    "grouped['Percent'] = round (grouped.Count / sum(grouped.Count) * 100,2).astype(str) + '%'\n",
    "\n",
    "color_discrete_map={\"Republican\": \"#EF553B\",\"Independent\": \"#00CC96\",\"Democrat\": \"#636EFA\",}\n",
    "p=px.bar(grouped, x='USAPoliticalParty_Groups', color='USAPoliticalParty_Groups', y='Count', text='Percent'\n",
    "         , color_discrete_map=color_discrete_map)\n",
    "p.update_xaxes (type='category', categoryorder='total descending')\n",
    "p.update_yaxes (showticklabels=False)\n",
    "p.for_each_trace(lambda t: t.update(name=t.name.split('=')[1]))\n",
    "p.update_traces(textposition='outside', textfont=dict(size=14))\n",
    "p.update_layout(\n",
    "    title={\n",
    "        'text': \"Political Party of White Respondents\",\n",
    "        'y':0.9,\n",
    "        'x':0.5,\n",
    "        'xanchor': 'center',\n",
    "        'yanchor': 'top'})\n",
    "theme (p)\n",
    "p.show()"
   ]
  },
  {
   "cell_type": "code",
   "execution_count": null,
   "metadata": {},
   "outputs": [],
   "source": [
    "fig=px.histogram(data[data['USAWhite']==0], x=\"USAWhite\",color='USAPoliticalParty_Groups',color_discrete_map=color_discrete_map,barnorm='percent',\n",
    "                labels={\n",
    "                     \"USAWhite\": \"Ethnicity Non-White\",\n",
    "                     \"USAPoliticalParty_Groups\": \"Political Party\",\n",
    "                     \"Ind\": \"Independent\",\n",
    "                     \"Dem\": \"Democrat\",\n",
    "                     \"Rep\": \"Republican\",\n",
    "                     \"IDK\": \"Don't Know\"\n",
    "                 },\n",
    "                title=\"Political Party of Non-White Respondents\")\n",
    "fig.update_layout(barmode='group',yaxis_title=\"Percent\")"
   ]
  },
  {
   "cell_type": "markdown",
   "metadata": {},
   "source": [
    "### Internet Use"
   ]
  },
  {
   "cell_type": "code",
   "execution_count": null,
   "metadata": {},
   "outputs": [],
   "source": [
    "# These four were ultimately not used\n",
    "# ShowTwoWayHeatmap(data,'internetUseHealthDifficult_Groups','USAPoliticalParty_Groups', normalize=False)\n",
    "# ShowTwoWayHeatmap(data,'internetUseVideos_Groups','USAPoliticalParty_Groups', normalize=False)\n",
    "# ShowTwoWayHeatmap(data,'internetUseBoughtThings_Groups','USAPoliticalParty_Groups', normalize=False)\n",
    "# ShowTwoWayHeatmap(data,'internetUseTravel_Groups','USAPoliticalParty_Groups', normalize=False)\n",
    "\n",
    "data['USAPoliticalParty_Groups_Cleaned'] = data.USAPoliticalParty_Groups.map(partyClean)\n",
    "data['internetUseSocialNetwork_Groups_Cleaned'] = data.internetUseSocialNetwork_Groups.map({'pos':'Yes','neg':'No'}) \n",
    "\n",
    "p = ShowTwoWayHeatmap(data,'internetUseSocialNetwork_Groups_Cleaned','USAPoliticalParty_Groups_Cleaned', normalize='columns',\n",
    "                    title='Use of Social Networks vs Political Parties', xlabel='Political Party', ylabel='Do you use the Internet to access Social Networks?')"
   ]
  },
  {
   "cell_type": "markdown",
   "metadata": {},
   "source": [
    "### Video Games"
   ]
  },
  {
   "cell_type": "code",
   "execution_count": null,
   "metadata": {},
   "outputs": [],
   "source": [
    "videoGameResponseClean = {'pos':'Yes','neg':'No','NotMe':'Don''t Play Video Games','N/A':'N/A'}\n",
    "data['videoGamePlayingGamer_Groups_Cleaned'] = data.videoGamePlayingGamer_Groups.map(videoGameResponseClean)\n",
    "p = ShowTwoWayHeatmap(data,'videoGamePlayingGamer_Groups_Cleaned','USAPoliticalParty_Groups_Cleaned', normalize='columns', \n",
    "                  title='Self-Identifying as a Gamer vs Political Party', xlabel=' ', ylabel=' ')\n",
    "\n",
    "data['videoGamePlayingMoralEthicalIssues_Groups_Cleaned'] = data.videoGamePlayingMoralEthicalIssues_Groups.map(videoGameResponseClean)\n",
    "p = ShowTwoWayHeatmap(data,'videoGamePlayingMoralEthicalIssues_Groups_Cleaned','USAPoliticalParty_Groups_Cleaned', normalize='columns',\n",
    "                      title = 'Thinking of Moral/Ethical Issues while Gaming vs Political Party',\n",
    "                      xlabel=' ', ylabel=' ')\n",
    "\n",
    "\n",
    "data['videoGamePlayingLearnSocietyProblems_Groups_Cleaned'] = data.videoGamePlayingLearnSocietyProblems_Groups.map(videoGameResponseClean)\n",
    "p = ShowTwoWayHeatmap(data,'videoGamePlayingLearnSocietyProblems_Groups_Cleaned','USAPoliticalParty_Groups_Cleaned', \n",
    "                    normalize='columns',title='Learning about Society\\'s Problems while Gaming vs Political Party',\n",
    "                    xlabel= ' ', ylabel = ' ')"
   ]
  },
  {
   "cell_type": "markdown",
   "metadata": {},
   "source": [
    "### Self Politics"
   ]
  },
  {
   "cell_type": "code",
   "execution_count": null,
   "metadata": {},
   "outputs": [],
   "source": [
    "internetResponseClean = {'pos':'Yes', 'neutral':'Neutral', 'neg':'No', 'N/A':'N/A'}\n",
    "data['selfUnderstandPolitics_Groups_Cleaned'] = data.selfUnderstandPolitics_Groups.map(internetResponseClean)\n",
    "data['selfInternetFindPoliticalInfo_Groups_Cleaned'] = data.selfInternetFindPoliticalInfo_Groups.map(internetResponseClean)\n",
    "\n",
    "p = ShowTwoWayHeatmap(data,'selfUnderstandPolitics_Groups_Cleaned','USAPoliticalParty_Groups_Cleaned', normalize='columns'\n",
    "                     ,title='Understanding politics vs Political Party', xlabel = ' ', ylabel = ' ')\n",
    "\n",
    "p = ShowTwoWayHeatmap(data,'selfInternetFindPoliticalInfo_Groups_Cleaned','USAPoliticalParty_Groups_Cleaned', normalize='columns',\n",
    "                      title='Find Political Info on Internet vs Political Party', xlabel = ' ', ylabel = ' ')"
   ]
  },
  {
   "cell_type": "markdown",
   "metadata": {},
   "source": [
    "### Voted"
   ]
  },
  {
   "cell_type": "code",
   "execution_count": null,
   "metadata": {},
   "outputs": [],
   "source": [
    "data['Voted_Cleaned'] = data.Voted.map ({1:'Yes', 0:'No'})\n",
    "\n",
    "p = ShowTwoWayHeatmap(data,'USAPoliticalParty_Groups_Cleaned','Voted', normalize='index', title='Political Party vs Voted',\n",
    "                      ylabel = 'Political Party')"
   ]
  },
  {
   "cell_type": "markdown",
   "metadata": {},
   "source": [
    "### Social Issues"
   ]
  },
  {
   "cell_type": "code",
   "execution_count": null,
   "metadata": {},
   "outputs": [],
   "source": [
    "data['protestEffective_Groups_Cleaned'] = data.protestEffective_Groups.map(internetResponseClean)\n",
    "p = ShowTwoWayHeatmap(data,'protestEffective_Groups_Cleaned','USAPoliticalParty_Groups_Cleaned', normalize='columns',\n",
    "                      title='Are protests effective vs Political Party', xlabel=' ', ylabel=' ')\n",
    "\n",
    "data['govtPoorDependence_Groups_Cleaned'] = data.govtPoorDependence_Groups.map(internetResponseClean)\n",
    "p = ShowTwoWayHeatmap(data,'govtPoorDependence_Groups_Cleaned','USAPoliticalParty_Groups_Cleaned', normalize='columns',\n",
    "                      title='Poor Too Dependent on Government vs Political Party', xlabel= ' ', ylabel= ' ')"
   ]
  },
  {
   "cell_type": "markdown",
   "metadata": {},
   "source": [
    "### News Bias and Facebook"
   ]
  },
  {
   "cell_type": "code",
   "execution_count": null,
   "metadata": {},
   "outputs": [],
   "source": [
    "# These were ultimately not used\n",
    "# ShowTwoWayHeatmap(data,'newsUnbiased_Groups','USAPoliticalParty_Groups', normalize=False)\n",
    "# ShowTwoWayHeatmap(data,'facebookEncourageVote_Groups','USAPoliticalParty_Groups', normalize=False)\n",
    "# ShowTwoWayHeatmap(data,'facebookPostPoliticalLinks_Groups','USAPoliticalParty_Groups', normalize=False)"
   ]
  },
  {
   "cell_type": "markdown",
   "metadata": {},
   "source": [
    "### News Trustworthy and Government"
   ]
  },
  {
   "cell_type": "code",
   "execution_count": null,
   "metadata": {},
   "outputs": [],
   "source": [
    "# These were ulimtaely not used\n",
    "# ShowTwoWayHeatmap(data,'newsTrustworthy_Groups','USAPoliticalParty_Groups', normalize=False)\n",
    "# ShowTwoWayHeatmap(data,'govtBusinessRegulation_Groups','USAPoliticalParty_Groups', normalize=False)"
   ]
  },
  {
   "cell_type": "markdown",
   "metadata": {},
   "source": [
    "# Bivariate Analysis: Progressivism"
   ]
  },
  {
   "cell_type": "markdown",
   "metadata": {},
   "source": [
    "### Progressivism - Mean score for govt vs non-govt questions"
   ]
  },
  {
   "cell_type": "code",
   "execution_count": null,
   "metadata": {},
   "outputs": [],
   "source": [
    "score_cols = [col for col in data.columns if '_Score' in col and col != 'progressivism_Score']\n",
    "\n",
    "# reshape data\n",
    "meanScores = pd.DataFrame(data[score_cols].agg('mean')).reset_index()\n",
    "meanScores.rename({'index':'Topic', 0:'Mean Score'}, axis=1, inplace=True)\n",
    "meanScores['Mean Score'] = round (meanScores['Mean Score'], 2)\n",
    "# Add column to indicate if question was government-related or not\n",
    "meanScores['GovtRelated'] = meanScores.Topic.apply(lambda x: 'Government Related' if 'govt' in x else 'Non-Government Related')\n",
    "\n",
    "colorMap = {'Government Related':'red','Non-Government Related':'blue'}\n",
    "# Create bar chart\n",
    "p = px.bar(meanScores, x='Topic', y='Mean Score', color='GovtRelated', text='Mean Score',color_discrete_map = colorMap)\n",
    "p.for_each_trace(lambda t: t.update(name=t.name.split('=')[1]))\n",
    "p.update_traces(textposition='outside', textfont=dict(size=18))\n",
    "p.update_xaxes(showticklabels=False)\n",
    "p.update_yaxes(showticklabels=False)\n",
    "theme (p)\n",
    "p.show()"
   ]
  },
  {
   "cell_type": "markdown",
   "metadata": {},
   "source": [
    "### Progressivism - by Age Group"
   ]
  },
  {
   "cell_type": "code",
   "execution_count": null,
   "metadata": {},
   "outputs": [],
   "source": [
    "ageSort = ['LateTeens','Early20s','Mid20s','Late20s']\n",
    "\n",
    "# Reshape data\n",
    "grouped = data[['age_Groups',*score_cols]].melt(id_vars='age_Groups').groupby(['age_Groups','variable']).sum().reset_index()\n",
    "grouped.rename({'variable':'Topic', 'value':'Total Score'}, axis =1, inplace=True)\n",
    "grouped['GovtRelated'] = grouped.Topic.apply(lambda x: 'Government Related' if 'govt' in x else 'Non-Government Related')\n",
    "grouped = grouped.groupby(['age_Groups','GovtRelated']).sum().reset_index()\n",
    "\n",
    "# Create bar chart\n",
    "p= px.bar (grouped, x='age_Groups', y='Total Score', color = 'GovtRelated', barmode='relative', text='Total Score', color_discrete_map=colorMap)\n",
    "p.for_each_trace(lambda t: t.update(name=t.name.split('=')[1]))\n",
    "p.update_traces(textposition='outside', textfont=dict(size=18))\n",
    "p.update_xaxes(tickfont=dict(size=20), type='category', categoryorder='array', categoryarray=ageSort)\n",
    "p.update_yaxes(showticklabels=False)\n",
    "p.update_layout(title_font_size=25,\n",
    "    title={\n",
    "        'text': \"Progressivism Score by Age Group\",\n",
    "        'y':0.9,\n",
    "        'x':0.5,\n",
    "        'xanchor': 'center',\n",
    "        'yanchor': 'top'})\n",
    "theme (p)\n",
    "p.show()"
   ]
  },
  {
   "cell_type": "markdown",
   "metadata": {},
   "source": [
    "### Progressivism vs Facebook & Video Game Usage"
   ]
  },
  {
   "cell_type": "code",
   "execution_count": null,
   "metadata": {},
   "outputs": [],
   "source": [
    "progSort = ['Very Conservative', 'Slightly Conservative', 'Neither', 'Slightly Progressive', 'Very Progressive']\n",
    "freqSort = ['No', 'Neutral', 'Yes']\n",
    "\n",
    "# Clean the responses up a bit\n",
    "facebookDailyRoutineMap = {'1':'No', '2':'No', '3':'Neutral', '4':'Yes', '5':'Yes', '9':'Neutral','':'Neutral'}\n",
    "data['facebookDailyRoutine_Clean'] = data['facebookDailyRoutine'].map(facebookDailyRoutineMap)\n",
    "data['facebookDailyRoutine_Clean'] = data['facebookDailyRoutine_Clean'].fillna('Neutral')\n",
    "\n",
    "# Create heatmap\n",
    "p = ShowTwoWayHeatmap (data, 'facebookDailyRoutine_Clean', 'progressivism_Groups', normalize='columns',colSort=progSort,\n",
    "                       rowSort = freqSort, title = 'Daily Facebook Usage vs Progressivism', xlabel= 'Progressivism', ylabel='Daily Facebook Usage')\n"
   ]
  },
  {
   "cell_type": "code",
   "execution_count": null,
   "metadata": {},
   "outputs": [],
   "source": [
    "row = 'videoGameUseFrequency_Groups'\n",
    "freqSort = ['Never', '<1PerMonth','1PerMonth','2-3PerMonth','1PerWeek','2-3PerWeek','Daily','MultipleTimesPerDay']\n",
    "col = 'progressivism_Groups'\n",
    "\n",
    "p = ShowTwoWayHeatmap (data,row,col,normalize='index', rowSort = freqSort, colSort = progSort,\n",
    "                      title = 'Video Game Usage vs Progressivism', xlabel= 'Progressivism', ylabel='Video Game Usage')"
   ]
  }
 ],
 "metadata": {
  "kernelspec": {
   "display_name": "Python 3",
   "language": "python",
   "name": "python3"
  },
  "language_info": {
   "codemirror_mode": {
    "name": "ipython",
    "version": 3
   },
   "file_extension": ".py",
   "mimetype": "text/x-python",
   "name": "python",
   "nbconvert_exporter": "python",
   "pygments_lexer": "ipython3",
   "version": "3.7.3"
  }
 },
 "nbformat": 4,
 "nbformat_minor": 2
}
